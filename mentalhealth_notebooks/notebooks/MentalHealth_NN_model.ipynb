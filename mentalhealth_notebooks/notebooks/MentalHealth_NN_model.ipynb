{
 "cells": [
  {
   "cell_type": "markdown",
   "id": "51d188e9",
   "metadata": {},
   "source": [
    "<h1><center><U>MENTAL HEALTH VALUATION</U></center></h1>"
   ]
  },
  {
   "cell_type": "markdown",
   "id": "b2594d40",
   "metadata": {},
   "source": [
    "# Importing Libraries"
   ]
  },
  {
   "cell_type": "code",
   "execution_count": 123,
   "id": "9ce5d5d8",
   "metadata": {},
   "outputs": [],
   "source": [
    "# Importing the libraries\n",
    "import tensorflow as tf\n",
    "import keras_tuner as kt\n",
    "import pandas as pd\n",
    "import numpy as np\n",
    "from sklearn.metrics import classification_report, confusion_matrix, ConfusionMatrixDisplay\n",
    "from sklearn.preprocessing import LabelEncoder, MinMaxScaler\n",
    "from sklearn.model_selection import train_test_split\n",
    "import matplotlib.pyplot as plt\n",
    "import seaborn as sns\n",
    "%matplotlib inline"
   ]
  },
  {
   "cell_type": "markdown",
   "id": "23c79b1c",
   "metadata": {},
   "source": [
    "# Importing the Training Dataset"
   ]
  },
  {
   "cell_type": "code",
   "execution_count": 2,
   "id": "7cf73f62",
   "metadata": {},
   "outputs": [],
   "source": [
    "# Importing the data\n",
    "train_df = pd.read_csv(\"F://Unified Mentors Internship//Project 4 - Mental Health//playground-series-s4e11//train.csv\")\n",
    "train_df.name = \"Mental Health Data\"\n",
    "pd.set_option(\"display.max_columns\",None)\n",
    "pd.set_option(\"display.max_rows\",500)"
   ]
  },
  {
   "cell_type": "markdown",
   "id": "2df90132",
   "metadata": {},
   "source": [
    "# Dataset pandas view"
   ]
  },
  {
   "cell_type": "code",
   "execution_count": 3,
   "id": "fc2f047a",
   "metadata": {},
   "outputs": [
    {
     "data": {
      "text/html": [
       "<div>\n",
       "<style scoped>\n",
       "    .dataframe tbody tr th:only-of-type {\n",
       "        vertical-align: middle;\n",
       "    }\n",
       "\n",
       "    .dataframe tbody tr th {\n",
       "        vertical-align: top;\n",
       "    }\n",
       "\n",
       "    .dataframe thead th {\n",
       "        text-align: right;\n",
       "    }\n",
       "</style>\n",
       "<table border=\"1\" class=\"dataframe\">\n",
       "  <thead>\n",
       "    <tr style=\"text-align: right;\">\n",
       "      <th></th>\n",
       "      <th>id</th>\n",
       "      <th>Name</th>\n",
       "      <th>Gender</th>\n",
       "      <th>Age</th>\n",
       "      <th>City</th>\n",
       "      <th>Working Professional or Student</th>\n",
       "      <th>Profession</th>\n",
       "      <th>Academic Pressure</th>\n",
       "      <th>Work Pressure</th>\n",
       "      <th>CGPA</th>\n",
       "      <th>Study Satisfaction</th>\n",
       "      <th>Job Satisfaction</th>\n",
       "      <th>Sleep Duration</th>\n",
       "      <th>Dietary Habits</th>\n",
       "      <th>Degree</th>\n",
       "      <th>Have you ever had suicidal thoughts ?</th>\n",
       "      <th>Work/Study Hours</th>\n",
       "      <th>Financial Stress</th>\n",
       "      <th>Family History of Mental Illness</th>\n",
       "      <th>Depression</th>\n",
       "    </tr>\n",
       "  </thead>\n",
       "  <tbody>\n",
       "    <tr>\n",
       "      <th>0</th>\n",
       "      <td>0</td>\n",
       "      <td>Aaradhya</td>\n",
       "      <td>Female</td>\n",
       "      <td>49.0</td>\n",
       "      <td>Ludhiana</td>\n",
       "      <td>Working Professional</td>\n",
       "      <td>Chef</td>\n",
       "      <td>NaN</td>\n",
       "      <td>5.0</td>\n",
       "      <td>NaN</td>\n",
       "      <td>NaN</td>\n",
       "      <td>2.0</td>\n",
       "      <td>More than 8 hours</td>\n",
       "      <td>Healthy</td>\n",
       "      <td>BHM</td>\n",
       "      <td>No</td>\n",
       "      <td>1.0</td>\n",
       "      <td>2.0</td>\n",
       "      <td>No</td>\n",
       "      <td>0</td>\n",
       "    </tr>\n",
       "    <tr>\n",
       "      <th>1</th>\n",
       "      <td>1</td>\n",
       "      <td>Vivan</td>\n",
       "      <td>Male</td>\n",
       "      <td>26.0</td>\n",
       "      <td>Varanasi</td>\n",
       "      <td>Working Professional</td>\n",
       "      <td>Teacher</td>\n",
       "      <td>NaN</td>\n",
       "      <td>4.0</td>\n",
       "      <td>NaN</td>\n",
       "      <td>NaN</td>\n",
       "      <td>3.0</td>\n",
       "      <td>Less than 5 hours</td>\n",
       "      <td>Unhealthy</td>\n",
       "      <td>LLB</td>\n",
       "      <td>Yes</td>\n",
       "      <td>7.0</td>\n",
       "      <td>3.0</td>\n",
       "      <td>No</td>\n",
       "      <td>1</td>\n",
       "    </tr>\n",
       "    <tr>\n",
       "      <th>2</th>\n",
       "      <td>2</td>\n",
       "      <td>Yuvraj</td>\n",
       "      <td>Male</td>\n",
       "      <td>33.0</td>\n",
       "      <td>Visakhapatnam</td>\n",
       "      <td>Student</td>\n",
       "      <td>NaN</td>\n",
       "      <td>5.0</td>\n",
       "      <td>NaN</td>\n",
       "      <td>8.97</td>\n",
       "      <td>2.0</td>\n",
       "      <td>NaN</td>\n",
       "      <td>5-6 hours</td>\n",
       "      <td>Healthy</td>\n",
       "      <td>B.Pharm</td>\n",
       "      <td>Yes</td>\n",
       "      <td>3.0</td>\n",
       "      <td>1.0</td>\n",
       "      <td>No</td>\n",
       "      <td>1</td>\n",
       "    </tr>\n",
       "    <tr>\n",
       "      <th>3</th>\n",
       "      <td>3</td>\n",
       "      <td>Yuvraj</td>\n",
       "      <td>Male</td>\n",
       "      <td>22.0</td>\n",
       "      <td>Mumbai</td>\n",
       "      <td>Working Professional</td>\n",
       "      <td>Teacher</td>\n",
       "      <td>NaN</td>\n",
       "      <td>5.0</td>\n",
       "      <td>NaN</td>\n",
       "      <td>NaN</td>\n",
       "      <td>1.0</td>\n",
       "      <td>Less than 5 hours</td>\n",
       "      <td>Moderate</td>\n",
       "      <td>BBA</td>\n",
       "      <td>Yes</td>\n",
       "      <td>10.0</td>\n",
       "      <td>1.0</td>\n",
       "      <td>Yes</td>\n",
       "      <td>1</td>\n",
       "    </tr>\n",
       "    <tr>\n",
       "      <th>4</th>\n",
       "      <td>4</td>\n",
       "      <td>Rhea</td>\n",
       "      <td>Female</td>\n",
       "      <td>30.0</td>\n",
       "      <td>Kanpur</td>\n",
       "      <td>Working Professional</td>\n",
       "      <td>Business Analyst</td>\n",
       "      <td>NaN</td>\n",
       "      <td>1.0</td>\n",
       "      <td>NaN</td>\n",
       "      <td>NaN</td>\n",
       "      <td>1.0</td>\n",
       "      <td>5-6 hours</td>\n",
       "      <td>Unhealthy</td>\n",
       "      <td>BBA</td>\n",
       "      <td>Yes</td>\n",
       "      <td>9.0</td>\n",
       "      <td>4.0</td>\n",
       "      <td>Yes</td>\n",
       "      <td>0</td>\n",
       "    </tr>\n",
       "  </tbody>\n",
       "</table>\n",
       "</div>"
      ],
      "text/plain": [
       "   id      Name  Gender   Age           City Working Professional or Student  \\\n",
       "0   0  Aaradhya  Female  49.0       Ludhiana            Working Professional   \n",
       "1   1     Vivan    Male  26.0       Varanasi            Working Professional   \n",
       "2   2    Yuvraj    Male  33.0  Visakhapatnam                         Student   \n",
       "3   3    Yuvraj    Male  22.0         Mumbai            Working Professional   \n",
       "4   4      Rhea  Female  30.0         Kanpur            Working Professional   \n",
       "\n",
       "         Profession  Academic Pressure  Work Pressure  CGPA  \\\n",
       "0              Chef                NaN            5.0   NaN   \n",
       "1           Teacher                NaN            4.0   NaN   \n",
       "2               NaN                5.0            NaN  8.97   \n",
       "3           Teacher                NaN            5.0   NaN   \n",
       "4  Business Analyst                NaN            1.0   NaN   \n",
       "\n",
       "   Study Satisfaction  Job Satisfaction     Sleep Duration Dietary Habits  \\\n",
       "0                 NaN               2.0  More than 8 hours        Healthy   \n",
       "1                 NaN               3.0  Less than 5 hours      Unhealthy   \n",
       "2                 2.0               NaN          5-6 hours        Healthy   \n",
       "3                 NaN               1.0  Less than 5 hours       Moderate   \n",
       "4                 NaN               1.0          5-6 hours      Unhealthy   \n",
       "\n",
       "    Degree Have you ever had suicidal thoughts ?  Work/Study Hours  \\\n",
       "0      BHM                                    No               1.0   \n",
       "1      LLB                                   Yes               7.0   \n",
       "2  B.Pharm                                   Yes               3.0   \n",
       "3      BBA                                   Yes              10.0   \n",
       "4      BBA                                   Yes               9.0   \n",
       "\n",
       "   Financial Stress Family History of Mental Illness  Depression  \n",
       "0               2.0                               No           0  \n",
       "1               3.0                               No           1  \n",
       "2               1.0                               No           1  \n",
       "3               1.0                              Yes           1  \n",
       "4               4.0                              Yes           0  "
      ]
     },
     "execution_count": 3,
     "metadata": {},
     "output_type": "execute_result"
    }
   ],
   "source": [
    "# dataset\n",
    "train_df.head(5)"
   ]
  },
  {
   "cell_type": "code",
   "execution_count": 4,
   "id": "59c4dad0",
   "metadata": {},
   "outputs": [
    {
     "name": "stdout",
     "output_type": "stream",
     "text": [
      "<class 'pandas.core.frame.DataFrame'>\n",
      "RangeIndex: 140700 entries, 0 to 140699\n",
      "Data columns (total 20 columns):\n",
      " #   Column                                 Non-Null Count   Dtype  \n",
      "---  ------                                 --------------   -----  \n",
      " 0   id                                     140700 non-null  int64  \n",
      " 1   Name                                   140700 non-null  object \n",
      " 2   Gender                                 140700 non-null  object \n",
      " 3   Age                                    140700 non-null  float64\n",
      " 4   City                                   140700 non-null  object \n",
      " 5   Working Professional or Student        140700 non-null  object \n",
      " 6   Profession                             104070 non-null  object \n",
      " 7   Academic Pressure                      27897 non-null   float64\n",
      " 8   Work Pressure                          112782 non-null  float64\n",
      " 9   CGPA                                   27898 non-null   float64\n",
      " 10  Study Satisfaction                     27897 non-null   float64\n",
      " 11  Job Satisfaction                       112790 non-null  float64\n",
      " 12  Sleep Duration                         140700 non-null  object \n",
      " 13  Dietary Habits                         140696 non-null  object \n",
      " 14  Degree                                 140698 non-null  object \n",
      " 15  Have you ever had suicidal thoughts ?  140700 non-null  object \n",
      " 16  Work/Study Hours                       140700 non-null  float64\n",
      " 17  Financial Stress                       140696 non-null  float64\n",
      " 18  Family History of Mental Illness       140700 non-null  object \n",
      " 19  Depression                             140700 non-null  int64  \n",
      "dtypes: float64(8), int64(2), object(10)\n",
      "memory usage: 21.5+ MB\n"
     ]
    }
   ],
   "source": [
    "train_df.info()"
   ]
  },
  {
   "cell_type": "markdown",
   "id": "f41710ea",
   "metadata": {},
   "source": [
    "`name` -> not needed\n",
    "\n",
    "`city`-> categorize into 'others' rest of them and proceed one hot encoding\n",
    "7,9,10"
   ]
  },
  {
   "cell_type": "markdown",
   "id": "6397970d",
   "metadata": {},
   "source": [
    "# EDA"
   ]
  },
  {
   "cell_type": "code",
   "execution_count": 5,
   "id": "63a0a39f",
   "metadata": {},
   "outputs": [],
   "source": [
    "# function to check the sum of unique features in a column\n",
    "def features_nunique(df):\n",
    "    print(f\"Unique features in {df.name}\")\n",
    "    for i in df.columns:\n",
    "        print(f\"{i} : {df[i].nunique()}\")\n",
    "\n",
    "\n",
    "\n",
    "# function to list all the uniques values\n",
    "def list_all_uniques(df):\n",
    "    print(f\"Unique features in {df.name}\")\n",
    "    for i in df.columns:\n",
    "        print(f\"{i} : {df[i].unique()}\")\n",
    "\n",
    "\n",
    "\n",
    "# function to list all unique items with number of items\n",
    "def ls_val_cnt(cser):\n",
    "    new_a_ls = list(set(cser))\n",
    "    items=[]\n",
    "    counts=[]\n",
    "    for i in range(0,len(new_a_ls)):\n",
    "        mask = cser == new_a_ls[i]\n",
    "        items.append(new_a_ls[i])\n",
    "        counts.append(mask.sum())\n",
    "        # cser[new_a_ls[3]]\n",
    "        # print(f\"{i} : for the items {new_a_ls[i]} we have {mask.sum()} no.of occurences\")\n",
    "    # converting the new list into a dataframe and sorting its values into descending order.\n",
    "    new_pd = pd.DataFrame({\"items\":items,\"counts\":counts})\n",
    "    new_pd.sort_values(by='counts',ascending=False,inplace=True)\n",
    "    return new_pd\n",
    "\n",
    "\n",
    "\n",
    "# a function to check and remove or replace the unwanted values or rows in a series with user input category\n",
    "def rm_rpl_ser_items(ls_unwnt, ser, cate_str):\n",
    "    # Check if inputs are of the correct types\n",
    "    if isinstance(ls_unwnt, list) and isinstance(ser, pd.Series):\n",
    "        new_ser = ser.copy()\n",
    "        # iterating through all items from the unwanted list\n",
    "        for item in ls_unwnt:\n",
    "            # checking whether the values exist in the series\n",
    "            if item in new_ser.values:\n",
    "                # print(f\"{item} is present in the Series\")\n",
    "                # changing the values into \"Others\"\n",
    "                new_ser.loc[new_ser == item] = cate_str\n",
    "                #print(\"Value changed successfully\")\n",
    "            else:\n",
    "                print(f\"{item} is not present in the Series\")\n",
    "        return new_ser\n",
    "    else:\n",
    "        print(\"The list provided to check is not a list or the series provided is not a Series\")"
   ]
  },
  {
   "cell_type": "code",
   "execution_count": 6,
   "id": "fb926275",
   "metadata": {},
   "outputs": [],
   "source": [
    "series_city = train_df['City']"
   ]
  },
  {
   "cell_type": "code",
   "execution_count": 7,
   "id": "ce723173",
   "metadata": {
    "scrolled": true
   },
   "outputs": [],
   "source": [
    "# rm_rpl_ser_items(ls_del_citys, series_city)"
   ]
  },
  {
   "cell_type": "code",
   "execution_count": 8,
   "id": "092ed93a",
   "metadata": {},
   "outputs": [
    {
     "data": {
      "text/plain": [
       "array(['Ludhiana', 'Varanasi', 'Visakhapatnam', 'Mumbai', 'Kanpur',\n",
       "       'Ahmedabad', 'Thane', 'Nashik', 'Bangalore', 'Patna', 'Rajkot',\n",
       "       'Jaipur', 'Pune', 'Lucknow', 'Meerut', 'Agra', 'Surat',\n",
       "       'Faridabad', 'Hyderabad', 'Srinagar', 'Ghaziabad', 'Kolkata',\n",
       "       'Chennai', 'Kalyan', 'Nagpur', 'Vadodara', 'Vasai-Virar', 'Delhi',\n",
       "       'Bhopal', 'Indore', 'Ishanabad', 'Vidhi', 'Ayush', 'Gurgaon',\n",
       "       'Krishna', 'Aishwarya', 'Keshav', 'Harsha', 'Nalini', 'Aditya',\n",
       "       'Malyansh', 'Raghavendra', 'Saanvi', 'M.Tech', 'Bhavna',\n",
       "       'Less Delhi', 'Nandini', 'M.Com', 'Plata', 'Atharv', 'Pratyush',\n",
       "       'City', '3.0', 'Less than 5 Kalyan', 'MCA', 'Mira', 'Moreadhyay',\n",
       "       'Morena', 'Ishkarsh', 'Kashk', 'Mihir', 'Vidya', 'Tolkata', 'Anvi',\n",
       "       'Krinda', 'Ayansh', 'Shrey', 'Ivaan', 'Vaanya', 'Gaurav', 'Harsh',\n",
       "       'Reyansh', 'Kashish', 'Kibara', 'Vaishnavi', 'Chhavi', 'Parth',\n",
       "       'Mahi', 'Tushar', 'MSc', 'No', 'Rashi', 'ME', 'Molkata',\n",
       "       'Researcher', 'Kagan', 'Armaan', 'Ithal', 'Nalyan', 'Dhruv',\n",
       "       'Galesabad', 'Itheg', 'Aaradhya', 'Pooja', 'Khushi', 'Khaziabad',\n",
       "       'Jhanvi', 'Unirar'], dtype=object)"
      ]
     },
     "execution_count": 8,
     "metadata": {},
     "output_type": "execute_result"
    }
   ],
   "source": [
    "series_city.unique()"
   ]
  },
  {
   "cell_type": "code",
   "execution_count": 9,
   "id": "27941ab0",
   "metadata": {
    "scrolled": true
   },
   "outputs": [],
   "source": [
    "a = train_df['Sleep Duration']\n",
    "\n",
    "# print(new_a_ls)\n",
    "# print(type(new_a_ls[0]))\n",
    "# print(f\"For {new_a_ls[0]} :  times\")"
   ]
  },
  {
   "cell_type": "code",
   "execution_count": 10,
   "id": "6f6e3711",
   "metadata": {
    "scrolled": false
   },
   "outputs": [],
   "source": [
    "# ls_val_cnt(train_df['Sleep Duration'])"
   ]
  },
  {
   "cell_type": "code",
   "execution_count": 11,
   "id": "e094574e",
   "metadata": {},
   "outputs": [
    {
     "name": "stdout",
     "output_type": "stream",
     "text": [
      "Unique features in Mental Health Data\n",
      "id : 140700\n",
      "Name : 422\n",
      "Gender : 2\n",
      "Age : 43\n",
      "City : 98\n",
      "Working Professional or Student : 2\n",
      "Profession : 64\n",
      "Academic Pressure : 5\n",
      "Work Pressure : 5\n",
      "CGPA : 331\n",
      "Study Satisfaction : 5\n",
      "Job Satisfaction : 5\n",
      "Sleep Duration : 36\n",
      "Dietary Habits : 23\n",
      "Degree : 115\n",
      "Have you ever had suicidal thoughts ? : 2\n",
      "Work/Study Hours : 13\n",
      "Financial Stress : 5\n",
      "Family History of Mental Illness : 2\n",
      "Depression : 2\n"
     ]
    }
   ],
   "source": [
    "# Number of unique values \n",
    "features_nunique(train_df)"
   ]
  },
  {
   "cell_type": "markdown",
   "id": "35241556",
   "metadata": {},
   "source": [
    "These are the columns that we will be taking into consideration\n",
    "* Gender\n",
    "* Age\n",
    "* City\n",
    "* Working professional or Student\n",
    "* Profession\n",
    "* Academic Pressure\n",
    "* Work Pressure\n",
    "* CGPA\n",
    "* Study Satisifaction\n",
    "* Job Satisfaction\n",
    "* Sleep Duration \n",
    "* Dietary Habits\n",
    "* Degree\n",
    "* Have you ever had suicidal thoughts?\n",
    "* work/study Hours\n",
    "* Financial Stress\n",
    "* Family History of Mental Illness\n",
    "\n",
    "These all will be our Parameters which are to used for testing\n",
    "\n",
    "* Depression \n",
    "\n",
    "this will be our predictor"
   ]
  },
  {
   "cell_type": "code",
   "execution_count": 12,
   "id": "d8206a9a",
   "metadata": {
    "scrolled": false
   },
   "outputs": [
    {
     "name": "stdout",
     "output_type": "stream",
     "text": [
      "Unique features in Mental Health Data\n",
      "id : [     0      1      2 ... 140697 140698 140699]\n",
      "Name : ['Aaradhya' 'Vivan' 'Yuvraj' 'Rhea' 'Vani' 'Ritvik' 'Rajveer' 'Aishwarya'\n",
      " 'Simran' 'Utkarsh' 'Aahana' 'Tejas' 'Aadhya' 'Kiran' 'Aditi' 'Suhani'\n",
      " 'Jiya' 'Bhavesh' 'Armaan' 'Ishaani' 'Prachi' 'Pratyush' 'Abhinav'\n",
      " 'Siddhesh' 'Aditya' 'Aarav' 'Asha' 'Kashish' 'Prisha' 'Chhavi' 'Tanmay'\n",
      " 'Vihaan' 'Shiv' 'Anvi' 'Darsh' 'Samar' 'Raunak' 'Mahi' 'Shaurya' 'Vidya'\n",
      " 'Jai' 'Ayush' 'Ansh' 'Anand' 'Yashvi' 'Shrey' 'Ritika' 'Mihir' 'Isha'\n",
      " 'Arjun' 'Rohan' 'Pratham' 'Nirvaan' 'Ishaan' 'Aarya' 'Riya' 'Aariv'\n",
      " 'Raghavendra' 'Mahika' 'Abhishek' 'Harshil' 'Janvi' 'Kartikeya' 'Shivam'\n",
      " 'Advait' 'Reyansh' 'Saanvi' 'Ivaan' 'Pallavi' 'Sneha' 'Ayaan' 'Aakash'\n",
      " 'Raghav' 'Satyam' 'Aarush' 'Vibha' 'Rupal' 'Sanya' 'Mira' 'Rashi' 'Shlok'\n",
      " 'Harsha' 'Divya' 'Pranav' 'Hrithik' 'Tushar' 'Garima' 'Zoya' 'Kian'\n",
      " 'Navya' 'Lakshay' 'Kriti' 'Palak' 'Aryan' 'Parth' 'Ishan' 'Rupak'\n",
      " 'Atharv' 'Aarti' 'Anirudh' 'Kabir' 'Sanjeev' 'Sanket' 'Tara' 'Gagan'\n",
      " 'Anjali' 'Gaurav' 'Vikram' 'Yogesh' 'Ila' 'Rishi' 'Ayansh' 'Kolkata'\n",
      " 'Kavya' 'Aanchal' 'Vedant' 'Samaira' 'Harsh' 'Nikita' 'Charvi' 'Ishita'\n",
      " 'Ishwar' 'Kanika' 'Ritik' 'Rahil' 'Ira' 'Pari' 'Tanya' 'Yamini' 'Vidhi'\n",
      " 'Shreya' 'Neha' 'Esha' 'Damini' 'Manvi' 'Shivansh' 'Nikhil' 'Arya'\n",
      " 'Deepak' 'Shruti' 'Vrinda' 'Anushka' 'Sara' 'Zara' 'Gauri' 'Soham'\n",
      " 'Nandini' 'Siddharth' 'Rudransh' 'Manan' 'Dhruv' 'Tina' 'Pihu' 'Lavanya'\n",
      " 'Anika' 'Sai' 'Tanisha' 'Amit' 'Arav' 'Chirag' 'Krishna' 'Pooja' 'Eshita'\n",
      " 'Leela' 'Siddhi' 'Vanya' 'Trisha' 'Vivaan' 'Diya' 'Veda' 'Keshav' 'Kunal'\n",
      " 'Arnav' 'Barkha' 'Nalini' 'Golkut' 'Jasmine' 'Mithila' 'Rupa' 'Nisha'\n",
      " 'Saurav' 'Radhika' 'Jhanvi' 'Monika' 'Varun' 'Aan' 'Dev' 'Rajat' 'Naina'\n",
      " 'Nishant' 'Yash' 'Vaishnavi' 'Himani' 'Meera' 'Om' 'Anaya' 'Aniket'\n",
      " 'Tanvi' 'Mayank' 'Ishaesh' 'Srishti' 'Lata' 'Mukund' 'Ranveer' 'Khushi'\n",
      " 'Aarohi' 'Bhavna' 'Neil' 'Shivak' 'Apoorva' 'Kartik' 'Avni' 'Vaanya'\n",
      " 'Kush' 'Karishma' 'Shanaya' 'Virat' 'Rudra' 'A.Ed' 'Kiara' 'Krav' 'Ayhan'\n",
      " 'Nakul' 'Kalyan' 'Parvik' 'Vlaan' 'Harini' 'Mahak' 'Shivar' 'Abishma'\n",
      " 'Prvi' 'K. Kavya' 'Aieter' 'Aarsh' 'Aarvi' 'Kupa' 'Rudegrav' 'Parvi'\n",
      " 'Siddh' 'Rajankot' 'Ani' 'Rupil' 'Aarash' 'Taurav' 'Rani' 'Aanya' 'BE'\n",
      " 'Aavya' 'Raghavvi' 'Anarush' 'Aisha' 'Viv' 'Ronnie' '18' 'Rietal' 'R.Com'\n",
      " 'Anohi' 'Vivani' 'Ayash' 'Anil' 'Tarsh' 'Aiya' 'Patna' 'Tinmay' 'Rhesh'\n",
      " 'Shivna' 'Nikya' 'Arnar' 'Vakash' 'Jush' 'Randik' 'Siddir' 'Adachi'\n",
      " 'Anakash' 'Ayut' 'Pariv' 'Jhaan' 'Rai' 'Hreya' 'Shivivaam' 'Prishti'\n",
      " 'M.Com' 'Gavrachi' 'Rivaan' 'Haurav' 'Noreen' 'Anish' 'Shivan' 'Aniv'\n",
      " 'Aohi' 'Vashi' 'Aariket' 'Aarat' 'Vohi' 'Vavya' 'Hra' 'Ishaam' 'Anhil'\n",
      " 'Rieta' 'Zahra' 'Jathesh' 'Jhav' 'Anh' 'Vidvi' 'Raghavik' 'Mahir' 'Sansh'\n",
      " 'Shivvi' 'Prishant' 'Rupar' 'Eirini' 'Tanak' 'Researcher' 'Shaina' 'Aani'\n",
      " 'Plumber' 'Nanya' 'Manik' 'Nanchal' 'Ayoub' 'Aam' 'Airav' 'Zegmay'\n",
      " 'Aarsush' 'Vidra' 'Kani' 'Ishma' 'Naly' 'Jaish' 'Rajya' 'Chrinda' 'Tani'\n",
      " 'Harshand' 'Ranchal' 'Vita' 'Prandini' 'Mahav' 'Nhanini' 'Anupal' 'Manr'\n",
      " 'Eikram' 'Arsha' 'Kartika' 'Pradhya' 'Harshir' 'Shivlok' 'Shivwar'\n",
      " 'Abarav' 'Ayya' 'Rupai' 'Rudrithik' 'Varanasi' 'K.Pharm' 'UX/UI Designer'\n",
      " 'Ariti' 'Manjun' 'Arvik' 'Thane' 'Rupika' 'Aaransh' 'Ijra' 'Anar' 'Parha'\n",
      " 'Vidha' 'Prayat' 'Yurav' 'Srinagar' 'Aaranya' 'Rupadhya' 'Anishi'\n",
      " 'Aikash' 'Nhanvi' 'Jiram' 'Rudrey' 'Shashi' 'Anya' 'Eisha' 'Vhaani'\n",
      " 'Prilak' 'Aarani' 'Nya' 'Harshav' 'Ewesh' 'Aanket' 'Tohar' 'Ryouvik'\n",
      " 'Niya' 'Anjun' 'Rupat' 'Anahk' 'Shivsh' 'Niki' 'Nishita' 'Rohik' 'Prishi'\n",
      " 'Ishaansh' 'Virar' 'Sharth' 'M.Tech' 'Shir' 'Kike' 'Shivvaan' 'Aarla'\n",
      " 'Nishi' 'Aarand' 'Adiya' 'Ritak' 'Kashi' 'Krey' 'Prarav' 'Kartal'\n",
      " 'Anariv' 'Irit' 'Kanisha' 'Anisha' 'Harshaun' 'Rietvik' 'Vasai-Virar'\n",
      " 'Ishlok' 'Vika' 'Rika' 'Aarun']\n",
      "Gender : ['Female' 'Male']\n",
      "Age : [49. 26. 33. 22. 30. 59. 47. 38. 24. 42. 55. 51. 39. 29. 50. 23. 56. 45.\n",
      " 37. 46. 31. 19. 28. 25. 41. 60. 18. 36. 21. 58. 44. 43. 40. 35. 54. 27.\n",
      " 52. 48. 57. 53. 34. 20. 32.]\n",
      "City : ['Ludhiana' 'Varanasi' 'Visakhapatnam' 'Mumbai' 'Kanpur' 'Ahmedabad'\n",
      " 'Thane' 'Nashik' 'Bangalore' 'Patna' 'Rajkot' 'Jaipur' 'Pune' 'Lucknow'\n",
      " 'Meerut' 'Agra' 'Surat' 'Faridabad' 'Hyderabad' 'Srinagar' 'Ghaziabad'\n",
      " 'Kolkata' 'Chennai' 'Kalyan' 'Nagpur' 'Vadodara' 'Vasai-Virar' 'Delhi'\n",
      " 'Bhopal' 'Indore' 'Ishanabad' 'Vidhi' 'Ayush' 'Gurgaon' 'Krishna'\n",
      " 'Aishwarya' 'Keshav' 'Harsha' 'Nalini' 'Aditya' 'Malyansh' 'Raghavendra'\n",
      " 'Saanvi' 'M.Tech' 'Bhavna' 'Less Delhi' 'Nandini' 'M.Com' 'Plata'\n",
      " 'Atharv' 'Pratyush' 'City' '3.0' 'Less than 5 Kalyan' 'MCA' 'Mira'\n",
      " 'Moreadhyay' 'Morena' 'Ishkarsh' 'Kashk' 'Mihir' 'Vidya' 'Tolkata' 'Anvi'\n",
      " 'Krinda' 'Ayansh' 'Shrey' 'Ivaan' 'Vaanya' 'Gaurav' 'Harsh' 'Reyansh'\n",
      " 'Kashish' 'Kibara' 'Vaishnavi' 'Chhavi' 'Parth' 'Mahi' 'Tushar' 'MSc'\n",
      " 'No' 'Rashi' 'ME' 'Molkata' 'Researcher' 'Kagan' 'Armaan' 'Ithal'\n",
      " 'Nalyan' 'Dhruv' 'Galesabad' 'Itheg' 'Aaradhya' 'Pooja' 'Khushi'\n",
      " 'Khaziabad' 'Jhanvi' 'Unirar']\n",
      "Working Professional or Student : ['Working Professional' 'Student']\n",
      "Profession : ['Chef' 'Teacher' nan 'Business Analyst' 'Finanancial Analyst' 'Chemist'\n",
      " 'Electrician' 'Software Engineer' 'Data Scientist' 'Plumber'\n",
      " 'Marketing Manager' 'Accountant' 'Entrepreneur' 'HR Manager'\n",
      " 'UX/UI Designer' 'Content Writer' 'Educational Consultant'\n",
      " 'Civil Engineer' 'Manager' 'Pharmacist' 'Financial Analyst' 'Architect'\n",
      " 'Mechanical Engineer' 'Customer Support' 'Consultant' 'Judge'\n",
      " 'Researcher' 'Pilot' 'Graphic Designer' 'Travel Consultant'\n",
      " 'Digital Marketer' 'Lawyer' 'Research Analyst' 'Sales Executive' 'Doctor'\n",
      " 'Unemployed' 'Investment Banker' 'Family Consultant' 'B.Com' 'BE'\n",
      " 'Student' 'Yogesh' 'Dev' 'MBA' 'LLM' 'BCA' 'Academic' 'Profession'\n",
      " 'FamilyVirar' 'City Manager' 'BBA' 'Medical Doctor'\n",
      " 'Working Professional' 'MBBS' 'Patna' 'Unveil' 'B.Ed' 'Nagpur' 'Moderate'\n",
      " 'M.Ed' 'Analyst' 'Pranav' 'Visakhapatnam' 'PhD' 'Yuvraj']\n",
      "Academic Pressure : [nan  5.  2.  3.  4.  1.]\n",
      "Work Pressure : [ 5.  4. nan  1.  2.  3.]\n",
      "CGPA : [    nan  8.97    5.9     7.03    5.59    8.13    5.7     9.54    8.04\n",
      "  9.79    8.38    6.1     7.04    8.52    5.64    8.58    6.51    7.25\n",
      "  7.83    9.93    8.74    6.73    5.57    8.59    7.1     6.08    5.74\n",
      "  9.86    6.7     6.21    5.87    6.37    9.72    5.88    9.56    6.99\n",
      "  5.24    9.21    7.85    6.95    5.86    7.92    9.66    8.94    9.71\n",
      "  7.87    5.6     7.9     5.46    6.79    8.7     7.38    8.5     7.09\n",
      "  9.82    8.89    7.94    9.11    6.75    7.53    9.49    9.01    7.64\n",
      "  5.27    6.      9.44    5.75    7.51    9.05    6.38    8.95    9.88\n",
      "  5.32    6.27    7.7     8.1     9.59    8.96    5.51    7.43    8.79\n",
      "  9.95    5.37    6.86    8.32    9.74    5.66    7.48    8.23    8.81\n",
      "  6.03    5.56    5.68    5.14    7.61    6.17    8.17    9.87    8.75\n",
      "  6.16    9.5     7.99    5.67    8.92    6.19    5.76    6.25    5.11\n",
      "  5.58    5.65    9.89    8.03    6.61    9.41    8.64    7.21    8.28\n",
      "  6.04    9.13    8.08    9.96    5.12    8.35    7.07    9.6     9.24\n",
      "  8.54    8.78    8.93    8.91    9.04    6.83    5.85    7.74    6.41\n",
      "  8.9     7.75    7.88    5.42    7.52    7.68    8.4     9.39    6.84\n",
      "  5.99    8.62    8.53    7.47    6.78    6.42    9.92    8.39    5.89\n",
      "  7.22    6.81    9.02    9.97    9.63    9.67    5.41    7.27    6.05\n",
      "  6.85    9.33    5.81    6.53    5.98    6.02    6.74    5.26    7.72\n",
      "  7.39    8.43    9.34    5.44    5.82    5.72    8.19    8.44    8.98\n",
      "  9.37    5.8     7.28    7.6     7.91    9.17    7.46    9.43    9.91\n",
      "  9.36    5.16    7.08    9.26    8.83   10.      7.8     9.46    6.63\n",
      "  7.24    6.47    7.77    5.06    7.17    8.24    6.88    9.03    5.08\n",
      "  5.45    8.46    9.19    6.36    8.73    7.11    9.12    9.4     8.11\n",
      "  9.98    5.55    8.61    8.14    6.89    9.84    5.48    8.21    7.82\n",
      "  8.55    5.79    8.77    8.29    6.92    7.37    9.7     6.26    7.26\n",
      "  7.5     6.82    7.15    5.77    5.91    5.1     7.71    9.06    5.71\n",
      "  5.84    9.42    6.23    6.29    5.25    9.69    9.9     6.39    8.09\n",
      "  5.83    5.47    6.56    8.71    9.94    6.69    5.52    7.3     7.02\n",
      "  6.33    8.07    8.37    8.      7.79    8.65    6.28    7.35    8.69\n",
      "  7.12    7.32    7.13    5.97    5.09    6.91    6.76    6.52    7.45\n",
      "  8.56    6.5     8.63    8.27    8.49    6.59    9.29    5.3     7.06\n",
      "  5.38    6.65    9.16    8.01    8.25    8.02    8.47    7.34    8.88\n",
      "  7.14    8.42    5.17    9.1     7.49    9.85    7.42    9.31    6.35\n",
      "  7.      5.39    5.61    9.78    9.25    5.69    9.47    8.16    7.23\n",
      "  6.46    8.26    6.32    6.77    8.85    5.03    7.65    5.78    6.24\n",
      "  5.35    6.06    7.78    6.64    7.0625  6.98    6.44    6.09  ]\n",
      "Study Satisfaction : [nan  2.  5.  3.  4.  1.]\n",
      "Job Satisfaction : [ 2.  3. nan  1.  5.  4.]\n",
      "Sleep Duration : ['More than 8 hours' 'Less than 5 hours' '5-6 hours' '7-8 hours'\n",
      " 'Sleep_Duration' '1-2 hours' '6-8 hours' '4-6 hours' '6-7 hours'\n",
      " '10-11 hours' '8-9 hours' '40-45 hours' '9-11 hours' '2-3 hours'\n",
      " '3-4 hours' 'Moderate' '55-66 hours' '4-5 hours' '9-6 hours' '1-3 hours'\n",
      " 'Indore' '45' '1-6 hours' '35-36 hours' '8 hours' 'No' '10-6 hours'\n",
      " 'than 5 hours' '49 hours' 'Unhealthy' 'Work_Study_Hours' '3-6 hours'\n",
      " '45-48 hours' '9-5' 'Pune' '9-5 hours']\n",
      "Dietary Habits : ['Healthy' 'Unhealthy' 'Moderate' 'Yes' 'Pratham' 'BSc' 'Gender' '3'\n",
      " 'More Healthy' 'Less than Healthy' 'Mihir' '1.0' 'Hormonal' 'Electrician'\n",
      " nan 'No Healthy' 'Less Healthy' 'M.Tech' 'Vegas' 'No' 'Male' 'Indoor'\n",
      " 'Class 12' '2']\n",
      "Degree : ['BHM' 'LLB' 'B.Pharm' 'BBA' 'MCA' 'MD' 'BSc' 'ME' 'B.Arch' 'BCA' 'BE'\n",
      " 'MA' 'B.Ed' 'B.Com' 'MBA' 'M.Com' 'MHM' 'BA' 'Class 12' 'M.Tech' 'PhD'\n",
      " 'M.Ed' 'MSc' 'B.Tech' 'LLM' 'MBBS' 'M.Pharm' 'UX/UI Designer' 'MPA' 'BH'\n",
      " 'Nalini' 'BEd' 'B.Sc' 'Veda' 'Bhopal' 'S.Tech' 'Degree' '20' 'Class 11'\n",
      " 'H_Pharm' 'M' 'P.Com' 'BPharm' 'Business Analyst' 'M.Arch' 'LL.Com'\n",
      " 'Data Scientist' 'MPharm' 'L.Ed' 'P.Pharm' 'Kalyan' 'Unite' 'BArch'\n",
      " 'HR Manager' 'Badhya' 'S.Pharm' 'LLBA' 'Vrinda' 'M. Business Analyst'\n",
      " 'Bhavesh' '0' 'LLCom' '29' 'MTech' 'Vivaan' 'BPA' 'Plumber' '5.61' 'Brit'\n",
      " 'B.03' 'Ritik' '5.56' 'MEd' 'B' 'B BA' '7.06' 'B.B.Arch' 'ACA' 'Brithika'\n",
      " 'CGPA' '24' 'M_Tech' 'Pihu' 'BB' 'Jhanvi' 'LLTech' 'Aarav' 'Entrepreneur'\n",
      " '8.56' 'LHM' 'Lata' 'S.Arch' 'Marsh' 'HCA' '5.88' 'B.Student' 'LL B.Ed'\n",
      " 'M.S' 'Navya' 'Mahika' nan 'K.Ed' 'B.3.79' 'Mthanya'\n",
      " 'Working Professional' 'Esha' 'LLS' 'LLEd' 'E.Tech' 'Doctor' 'N.Pharm'\n",
      " 'LCA' 'B B.Com' 'RCA' 'Mihir' 'Advait']\n",
      "Have you ever had suicidal thoughts ? : ['No' 'Yes']\n"
     ]
    },
    {
     "name": "stdout",
     "output_type": "stream",
     "text": [
      "Work/Study Hours : [ 1.  7.  3. 10.  9.  6.  8.  2.  0.  5. 12.  4. 11.]\n",
      "Financial Stress : [ 2.  3.  1.  4.  5. nan]\n",
      "Family History of Mental Illness : ['No' 'Yes']\n",
      "Depression : [0 1]\n"
     ]
    }
   ],
   "source": [
    "# function to list all unique features in a dataframe\n",
    "list_all_uniques(train_df)"
   ]
  },
  {
   "cell_type": "markdown",
   "id": "af9acfc0",
   "metadata": {},
   "source": [
    "it seems that the datas are jumbled inbetween each other some columns store values of another column and other column store values of some another columns. so i'm guessing it is gonna be a headache to clean this data."
   ]
  },
  {
   "cell_type": "markdown",
   "id": "13aed315",
   "metadata": {},
   "source": [
    "## Column Names"
   ]
  },
  {
   "cell_type": "code",
   "execution_count": 13,
   "id": "1eba981a",
   "metadata": {},
   "outputs": [
    {
     "data": {
      "text/plain": [
       "Index(['id', 'Name', 'Gender', 'Age', 'City',\n",
       "       'Working Professional or Student', 'Profession', 'Academic Pressure',\n",
       "       'Work Pressure', 'CGPA', 'Study Satisfaction', 'Job Satisfaction',\n",
       "       'Sleep Duration', 'Dietary Habits', 'Degree',\n",
       "       'Have you ever had suicidal thoughts ?', 'Work/Study Hours',\n",
       "       'Financial Stress', 'Family History of Mental Illness', 'Depression'],\n",
       "      dtype='object')"
      ]
     },
     "execution_count": 13,
     "metadata": {},
     "output_type": "execute_result"
    }
   ],
   "source": [
    "train_df.columns"
   ]
  },
  {
   "cell_type": "markdown",
   "id": "47de5bf9",
   "metadata": {},
   "source": [
    "### Name Col"
   ]
  },
  {
   "cell_type": "markdown",
   "id": "20dfd2b3",
   "metadata": {},
   "source": [
    "Lets assess this issue each column"
   ]
  },
  {
   "cell_type": "code",
   "execution_count": 14,
   "id": "5ca89f89",
   "metadata": {
    "scrolled": false
   },
   "outputs": [
    {
     "data": {
      "text/plain": [
       "array(['Aaradhya', 'Vivan', 'Yuvraj', 'Rhea', 'Vani', 'Ritvik', 'Rajveer',\n",
       "       'Aishwarya', 'Simran', 'Utkarsh', 'Aahana', 'Tejas', 'Aadhya',\n",
       "       'Kiran', 'Aditi', 'Suhani', 'Jiya', 'Bhavesh', 'Armaan', 'Ishaani',\n",
       "       'Prachi', 'Pratyush', 'Abhinav', 'Siddhesh', 'Aditya', 'Aarav',\n",
       "       'Asha', 'Kashish', 'Prisha', 'Chhavi', 'Tanmay', 'Vihaan', 'Shiv',\n",
       "       'Anvi', 'Darsh', 'Samar', 'Raunak', 'Mahi', 'Shaurya', 'Vidya',\n",
       "       'Jai', 'Ayush', 'Ansh', 'Anand', 'Yashvi', 'Shrey', 'Ritika',\n",
       "       'Mihir', 'Isha', 'Arjun', 'Rohan', 'Pratham', 'Nirvaan', 'Ishaan',\n",
       "       'Aarya', 'Riya', 'Aariv', 'Raghavendra', 'Mahika', 'Abhishek',\n",
       "       'Harshil', 'Janvi', 'Kartikeya', 'Shivam', 'Advait', 'Reyansh',\n",
       "       'Saanvi', 'Ivaan', 'Pallavi', 'Sneha', 'Ayaan', 'Aakash', 'Raghav',\n",
       "       'Satyam', 'Aarush', 'Vibha', 'Rupal', 'Sanya', 'Mira', 'Rashi',\n",
       "       'Shlok', 'Harsha', 'Divya', 'Pranav', 'Hrithik', 'Tushar',\n",
       "       'Garima', 'Zoya', 'Kian', 'Navya', 'Lakshay', 'Kriti', 'Palak',\n",
       "       'Aryan', 'Parth', 'Ishan', 'Rupak', 'Atharv', 'Aarti', 'Anirudh',\n",
       "       'Kabir', 'Sanjeev', 'Sanket', 'Tara', 'Gagan', 'Anjali', 'Gaurav',\n",
       "       'Vikram', 'Yogesh', 'Ila', 'Rishi', 'Ayansh', 'Kolkata', 'Kavya',\n",
       "       'Aanchal', 'Vedant', 'Samaira', 'Harsh', 'Nikita', 'Charvi',\n",
       "       'Ishita', 'Ishwar', 'Kanika', 'Ritik', 'Rahil', 'Ira', 'Pari',\n",
       "       'Tanya', 'Yamini', 'Vidhi', 'Shreya', 'Neha', 'Esha', 'Damini',\n",
       "       'Manvi', 'Shivansh', 'Nikhil', 'Arya', 'Deepak', 'Shruti',\n",
       "       'Vrinda', 'Anushka', 'Sara', 'Zara', 'Gauri', 'Soham', 'Nandini',\n",
       "       'Siddharth', 'Rudransh', 'Manan', 'Dhruv', 'Tina', 'Pihu',\n",
       "       'Lavanya', 'Anika', 'Sai', 'Tanisha', 'Amit', 'Arav', 'Chirag',\n",
       "       'Krishna', 'Pooja', 'Eshita', 'Leela', 'Siddhi', 'Vanya', 'Trisha',\n",
       "       'Vivaan', 'Diya', 'Veda', 'Keshav', 'Kunal', 'Arnav', 'Barkha',\n",
       "       'Nalini', 'Golkut', 'Jasmine', 'Mithila', 'Rupa', 'Nisha',\n",
       "       'Saurav', 'Radhika', 'Jhanvi', 'Monika', 'Varun', 'Aan', 'Dev',\n",
       "       'Rajat', 'Naina', 'Nishant', 'Yash', 'Vaishnavi', 'Himani',\n",
       "       'Meera', 'Om', 'Anaya', 'Aniket', 'Tanvi', 'Mayank', 'Ishaesh',\n",
       "       'Srishti', 'Lata', 'Mukund', 'Ranveer', 'Khushi', 'Aarohi',\n",
       "       'Bhavna', 'Neil', 'Shivak', 'Apoorva', 'Kartik', 'Avni', 'Vaanya',\n",
       "       'Kush', 'Karishma', 'Shanaya', 'Virat', 'Rudra', 'A.Ed', 'Kiara',\n",
       "       'Krav', 'Ayhan', 'Nakul', 'Kalyan', 'Parvik', 'Vlaan', 'Harini',\n",
       "       'Mahak', 'Shivar', 'Abishma', 'Prvi', 'K. Kavya', 'Aieter',\n",
       "       'Aarsh', 'Aarvi', 'Kupa', 'Rudegrav', 'Parvi', 'Siddh', 'Rajankot',\n",
       "       'Ani', 'Rupil', 'Aarash', 'Taurav', 'Rani', 'Aanya', 'BE', 'Aavya',\n",
       "       'Raghavvi', 'Anarush', 'Aisha', 'Viv', 'Ronnie', '18', 'Rietal',\n",
       "       'R.Com', 'Anohi', 'Vivani', 'Ayash', 'Anil', 'Tarsh', 'Aiya',\n",
       "       'Patna', 'Tinmay', 'Rhesh', 'Shivna', 'Nikya', 'Arnar', 'Vakash',\n",
       "       'Jush', 'Randik', 'Siddir', 'Adachi', 'Anakash', 'Ayut', 'Pariv',\n",
       "       'Jhaan', 'Rai', 'Hreya', 'Shivivaam', 'Prishti', 'M.Com',\n",
       "       'Gavrachi', 'Rivaan', 'Haurav', 'Noreen', 'Anish', 'Shivan',\n",
       "       'Aniv', 'Aohi', 'Vashi', 'Aariket', 'Aarat', 'Vohi', 'Vavya',\n",
       "       'Hra', 'Ishaam', 'Anhil', 'Rieta', 'Zahra', 'Jathesh', 'Jhav',\n",
       "       'Anh', 'Vidvi', 'Raghavik', 'Mahir', 'Sansh', 'Shivvi', 'Prishant',\n",
       "       'Rupar', 'Eirini', 'Tanak', 'Researcher', 'Shaina', 'Aani',\n",
       "       'Plumber', 'Nanya', 'Manik', 'Nanchal', 'Ayoub', 'Aam', 'Airav',\n",
       "       'Zegmay', 'Aarsush', 'Vidra', 'Kani', 'Ishma', 'Naly', 'Jaish',\n",
       "       'Rajya', 'Chrinda', 'Tani', 'Harshand', 'Ranchal', 'Vita',\n",
       "       'Prandini', 'Mahav', 'Nhanini', 'Anupal', 'Manr', 'Eikram',\n",
       "       'Arsha', 'Kartika', 'Pradhya', 'Harshir', 'Shivlok', 'Shivwar',\n",
       "       'Abarav', 'Ayya', 'Rupai', 'Rudrithik', 'Varanasi', 'K.Pharm',\n",
       "       'UX/UI Designer', 'Ariti', 'Manjun', 'Arvik', 'Thane', 'Rupika',\n",
       "       'Aaransh', 'Ijra', 'Anar', 'Parha', 'Vidha', 'Prayat', 'Yurav',\n",
       "       'Srinagar', 'Aaranya', 'Rupadhya', 'Anishi', 'Aikash', 'Nhanvi',\n",
       "       'Jiram', 'Rudrey', 'Shashi', 'Anya', 'Eisha', 'Vhaani', 'Prilak',\n",
       "       'Aarani', 'Nya', 'Harshav', 'Ewesh', 'Aanket', 'Tohar', 'Ryouvik',\n",
       "       'Niya', 'Anjun', 'Rupat', 'Anahk', 'Shivsh', 'Niki', 'Nishita',\n",
       "       'Rohik', 'Prishi', 'Ishaansh', 'Virar', 'Sharth', 'M.Tech', 'Shir',\n",
       "       'Kike', 'Shivvaan', 'Aarla', 'Nishi', 'Aarand', 'Adiya', 'Ritak',\n",
       "       'Kashi', 'Krey', 'Prarav', 'Kartal', 'Anariv', 'Irit', 'Kanisha',\n",
       "       'Anisha', 'Harshaun', 'Rietvik', 'Vasai-Virar', 'Ishlok', 'Vika',\n",
       "       'Rika', 'Aarun'], dtype=object)"
      ]
     },
     "execution_count": 14,
     "metadata": {},
     "output_type": "execute_result"
    }
   ],
   "source": [
    "train_df['Name'].unique()"
   ]
  },
  {
   "cell_type": "markdown",
   "id": "6512627b",
   "metadata": {},
   "source": [
    "We can see `M.Tech` and `UX/UI Designer` in the `name` column which we can clearly understand that it does not belong to the category"
   ]
  },
  {
   "cell_type": "markdown",
   "id": "933bd237",
   "metadata": {},
   "source": [
    "### Working Profession or student Col"
   ]
  },
  {
   "cell_type": "code",
   "execution_count": 15,
   "id": "d5533d9f",
   "metadata": {},
   "outputs": [
    {
     "data": {
      "text/html": [
       "<div>\n",
       "<style scoped>\n",
       "    .dataframe tbody tr th:only-of-type {\n",
       "        vertical-align: middle;\n",
       "    }\n",
       "\n",
       "    .dataframe tbody tr th {\n",
       "        vertical-align: top;\n",
       "    }\n",
       "\n",
       "    .dataframe thead th {\n",
       "        text-align: right;\n",
       "    }\n",
       "</style>\n",
       "<table border=\"1\" class=\"dataframe\">\n",
       "  <thead>\n",
       "    <tr style=\"text-align: right;\">\n",
       "      <th></th>\n",
       "      <th>items</th>\n",
       "      <th>counts</th>\n",
       "    </tr>\n",
       "  </thead>\n",
       "  <tbody>\n",
       "    <tr>\n",
       "      <th>1</th>\n",
       "      <td>Working Professional</td>\n",
       "      <td>112799</td>\n",
       "    </tr>\n",
       "    <tr>\n",
       "      <th>0</th>\n",
       "      <td>Student</td>\n",
       "      <td>27901</td>\n",
       "    </tr>\n",
       "  </tbody>\n",
       "</table>\n",
       "</div>"
      ],
      "text/plain": [
       "                  items  counts\n",
       "1  Working Professional  112799\n",
       "0               Student   27901"
      ]
     },
     "execution_count": 15,
     "metadata": {},
     "output_type": "execute_result"
    }
   ],
   "source": [
    "ls_val_cnt(train_df['Working Professional or Student'])"
   ]
  },
  {
   "cell_type": "markdown",
   "id": "b286a2ca",
   "metadata": {},
   "source": [
    "In `Gender` column we can see that there was no other values other than `male` or `female`"
   ]
  },
  {
   "cell_type": "markdown",
   "id": "3ceb7205",
   "metadata": {},
   "source": [
    "### City Col"
   ]
  },
  {
   "cell_type": "code",
   "execution_count": 16,
   "id": "15676a1e",
   "metadata": {
    "scrolled": false
   },
   "outputs": [
    {
     "data": {
      "text/plain": [
       "array(['Ludhiana', 'Varanasi', 'Visakhapatnam', 'Mumbai', 'Kanpur',\n",
       "       'Ahmedabad', 'Thane', 'Nashik', 'Bangalore', 'Patna', 'Rajkot',\n",
       "       'Jaipur', 'Pune', 'Lucknow', 'Meerut', 'Agra', 'Surat',\n",
       "       'Faridabad', 'Hyderabad', 'Srinagar', 'Ghaziabad', 'Kolkata',\n",
       "       'Chennai', 'Kalyan', 'Nagpur', 'Vadodara', 'Vasai-Virar', 'Delhi',\n",
       "       'Bhopal', 'Indore', 'Ishanabad', 'Vidhi', 'Ayush', 'Gurgaon',\n",
       "       'Krishna', 'Aishwarya', 'Keshav', 'Harsha', 'Nalini', 'Aditya',\n",
       "       'Malyansh', 'Raghavendra', 'Saanvi', 'M.Tech', 'Bhavna',\n",
       "       'Less Delhi', 'Nandini', 'M.Com', 'Plata', 'Atharv', 'Pratyush',\n",
       "       'City', '3.0', 'Less than 5 Kalyan', 'MCA', 'Mira', 'Moreadhyay',\n",
       "       'Morena', 'Ishkarsh', 'Kashk', 'Mihir', 'Vidya', 'Tolkata', 'Anvi',\n",
       "       'Krinda', 'Ayansh', 'Shrey', 'Ivaan', 'Vaanya', 'Gaurav', 'Harsh',\n",
       "       'Reyansh', 'Kashish', 'Kibara', 'Vaishnavi', 'Chhavi', 'Parth',\n",
       "       'Mahi', 'Tushar', 'MSc', 'No', 'Rashi', 'ME', 'Molkata',\n",
       "       'Researcher', 'Kagan', 'Armaan', 'Ithal', 'Nalyan', 'Dhruv',\n",
       "       'Galesabad', 'Itheg', 'Aaradhya', 'Pooja', 'Khushi', 'Khaziabad',\n",
       "       'Jhanvi', 'Unirar'], dtype=object)"
      ]
     },
     "execution_count": 16,
     "metadata": {},
     "output_type": "execute_result"
    }
   ],
   "source": [
    "# city columns\n",
    "train_df['City'].unique()"
   ]
  },
  {
   "cell_type": "code",
   "execution_count": 17,
   "id": "68eba99d",
   "metadata": {
    "scrolled": false
   },
   "outputs": [
    {
     "name": "stdout",
     "output_type": "stream",
     "text": [
      "                 items  counts\n",
      "65              Kalyan    6591\n",
      "77               Patna    5924\n",
      "90         Vasai-Virar    5765\n",
      "2              Kolkata    5689\n",
      "4            Ahmedabad    5613\n",
      "0               Meerut    5528\n",
      "57            Ludhiana    5226\n",
      "79                Pune    5210\n",
      "50              Rajkot    5207\n",
      "5        Visakhapatnam    5176\n",
      "13            Srinagar    5074\n",
      "8               Mumbai    4966\n",
      "38              Indore    4872\n",
      "62                Agra    4684\n",
      "34               Surat    4636\n",
      "12            Varanasi    4606\n",
      "35            Vadodara    4568\n",
      "66           Hyderabad    4496\n",
      "54              Kanpur    4398\n",
      "76              Jaipur    4328\n",
      "71               Thane    4289\n",
      "46             Lucknow    4280\n",
      "33              Nagpur    4209\n",
      "55           Bangalore    4123\n",
      "6              Chennai    4044\n",
      "23           Ghaziabad    3620\n",
      "47               Delhi    3593\n",
      "43              Bhopal    3475\n",
      "28           Faridabad    3268\n",
      "36              Nashik    3144\n",
      "56               Mihir       7\n",
      "37             Nandini       4\n",
      "52              Bhavna       3\n",
      "64                City       3\n",
      "70              Saanvi       3\n",
      "75              Harsha       3\n",
      "91                Mahi       3\n",
      "97            Pratyush       3\n",
      "30               Vidya       3\n",
      "21             Molkata       2\n",
      "41                 MCA       2\n",
      "95              Atharv       2\n",
      "17              Nalini       2\n",
      "92              Keshav       2\n",
      "82               Ayush       2\n",
      "19               M.Com       2\n",
      "78               Ithal       1\n",
      "81             Reyansh       1\n",
      "80                Anvi       1\n",
      "9          Raghavendra       1\n",
      "32                 MSc       1\n",
      "10               Parth       1\n",
      "11  Less than 5 Kalyan       1\n",
      "74               Pooja       1\n",
      "73           Khaziabad       1\n",
      "14           Galesabad       1\n",
      "84              Vaanya       1\n",
      "83              Khushi       1\n",
      "15              Aditya       1\n",
      "85              Gaurav       1\n",
      "86              Kibara       1\n",
      "87               Itheg       1\n",
      "88                  No       1\n",
      "89          Moreadhyay       1\n",
      "7                   ME       1\n",
      "3             Aaradhya       1\n",
      "93                 3.0       1\n",
      "94              Krinda       1\n",
      "96              Chhavi       1\n",
      "72                Mira       1\n",
      "68            Ishkarsh       1\n",
      "16               Shrey       1\n",
      "53              Ayansh       1\n",
      "40            Malyansh       1\n",
      "42               Vidhi       1\n",
      "31           Ishanabad       1\n",
      "44              Unirar       1\n",
      "45               Ivaan       1\n",
      "29              Jhanvi       1\n",
      "48              Nalyan       1\n",
      "1            Vaishnavi       1\n",
      "27             Kashish       1\n",
      "51             Krishna       1\n",
      "26           Aishwarya       1\n",
      "25             Gurgaon       1\n",
      "69               Rashi       1\n",
      "24              M.Tech       1\n",
      "22               Kashk       1\n",
      "58              Morena       1\n",
      "59               Harsh       1\n",
      "60              Tushar       1\n",
      "61          Less Delhi       1\n",
      "20          Researcher       1\n",
      "63               Dhruv       1\n",
      "18               Plata       1\n",
      "67             Tolkata       1\n",
      "39              Armaan       1\n",
      "49               Kagan       1\n"
     ]
    }
   ],
   "source": [
    "# unique list assigning for new function ls_del_item\n",
    "print(ls_val_cnt(train_df['City']))\n",
    "controlling_city_col = ls_val_cnt(train_df['City'])"
   ]
  },
  {
   "cell_type": "code",
   "execution_count": 18,
   "id": "3209ec1f",
   "metadata": {
    "scrolled": false
   },
   "outputs": [
    {
     "data": {
      "text/plain": [
       "['Mihir',\n",
       " 'Nandini',\n",
       " 'Bhavna',\n",
       " 'City',\n",
       " 'Saanvi',\n",
       " 'Harsha',\n",
       " 'Mahi',\n",
       " 'Pratyush',\n",
       " 'Vidya',\n",
       " 'Molkata',\n",
       " 'MCA',\n",
       " 'Atharv',\n",
       " 'Nalini',\n",
       " 'Keshav',\n",
       " 'Ayush',\n",
       " 'M.Com',\n",
       " 'Ithal',\n",
       " 'Reyansh',\n",
       " 'Anvi',\n",
       " 'Raghavendra',\n",
       " 'MSc',\n",
       " 'Parth',\n",
       " 'Less than 5 Kalyan',\n",
       " 'Pooja',\n",
       " 'Khaziabad',\n",
       " 'Galesabad',\n",
       " 'Vaanya',\n",
       " 'Khushi',\n",
       " 'Aditya',\n",
       " 'Gaurav',\n",
       " 'Kibara',\n",
       " 'Itheg',\n",
       " 'No',\n",
       " 'Moreadhyay',\n",
       " 'ME',\n",
       " 'Aaradhya',\n",
       " '3.0',\n",
       " 'Krinda',\n",
       " 'Chhavi',\n",
       " 'Mira',\n",
       " 'Ishkarsh',\n",
       " 'Shrey',\n",
       " 'Ayansh',\n",
       " 'Malyansh',\n",
       " 'Vidhi',\n",
       " 'Ishanabad',\n",
       " 'Unirar',\n",
       " 'Ivaan',\n",
       " 'Jhanvi',\n",
       " 'Nalyan',\n",
       " 'Vaishnavi',\n",
       " 'Kashish',\n",
       " 'Krishna',\n",
       " 'Aishwarya',\n",
       " 'Gurgaon',\n",
       " 'Rashi',\n",
       " 'M.Tech',\n",
       " 'Kashk',\n",
       " 'Morena',\n",
       " 'Harsh',\n",
       " 'Tushar',\n",
       " 'Less Delhi',\n",
       " 'Researcher',\n",
       " 'Dhruv',\n",
       " 'Plata',\n",
       " 'Tolkata',\n",
       " 'Armaan',\n",
       " 'Kagan']"
      ]
     },
     "execution_count": 18,
     "metadata": {},
     "output_type": "execute_result"
    }
   ],
   "source": [
    "ls_del_citys = list(controlling_city_col[controlling_city_col['counts']<10]['items'])\n",
    "ls_del_citys"
   ]
  },
  {
   "cell_type": "code",
   "execution_count": 19,
   "id": "39bf956e",
   "metadata": {
    "scrolled": false
   },
   "outputs": [
    {
     "name": "stdout",
     "output_type": "stream",
     "text": [
      "True\n"
     ]
    }
   ],
   "source": [
    "# Check if all elements in ls_del_citys are in train_df['City']\n",
    "if all(item in train_df['City'].values for item in ls_del_citys):\n",
    "    print(True)\n",
    "else:\n",
    "    print(False)"
   ]
  },
  {
   "cell_type": "code",
   "execution_count": 20,
   "id": "309d54e6",
   "metadata": {
    "scrolled": false
   },
   "outputs": [
    {
     "data": {
      "text/plain": [
       "City\n",
       "Kalyan           6591\n",
       "Patna            5924\n",
       "Vasai-Virar      5765\n",
       "Kolkata          5689\n",
       "Ahmedabad        5613\n",
       "Meerut           5528\n",
       "Ludhiana         5226\n",
       "Pune             5210\n",
       "Rajkot           5207\n",
       "Visakhapatnam    5176\n",
       "Srinagar         5074\n",
       "Mumbai           4966\n",
       "Indore           4872\n",
       "Agra             4684\n",
       "Surat            4636\n",
       "Varanasi         4606\n",
       "Vadodara         4568\n",
       "Hyderabad        4496\n",
       "Kanpur           4398\n",
       "Jaipur           4328\n",
       "Thane            4289\n",
       "Lucknow          4280\n",
       "Nagpur           4209\n",
       "Bangalore        4123\n",
       "Chennai          4044\n",
       "Ghaziabad        3620\n",
       "Delhi            3593\n",
       "Bhopal           3475\n",
       "Faridabad        3268\n",
       "Nashik           3144\n",
       "Others             98\n",
       "Name: count, dtype: int64"
      ]
     },
     "execution_count": 20,
     "metadata": {},
     "output_type": "execute_result"
    }
   ],
   "source": [
    "# we have the items to delete here \n",
    "# and the series which we want to put the change to \n",
    "# and we will assign it into a new variable\n",
    "other = 'Others'\n",
    "filtered_city_col = rm_rpl_ser_items(ls_del_citys, train_df['City'], other)\n",
    "\n",
    "#check if what we have done is correct or not\n",
    "filtered_city_col.value_counts()\n"
   ]
  },
  {
   "cell_type": "code",
   "execution_count": 21,
   "id": "97907681",
   "metadata": {},
   "outputs": [
    {
     "data": {
      "text/plain": [
       "0              Ludhiana\n",
       "1              Varanasi\n",
       "2         Visakhapatnam\n",
       "3                Mumbai\n",
       "4                Kanpur\n",
       "              ...      \n",
       "140695        Ahmedabad\n",
       "140696        Hyderabad\n",
       "140697          Kolkata\n",
       "140698         Srinagar\n",
       "140699            Patna\n",
       "Name: City, Length: 140700, dtype: object"
      ]
     },
     "execution_count": 21,
     "metadata": {},
     "output_type": "execute_result"
    }
   ],
   "source": [
    "filtered_city_col"
   ]
  },
  {
   "cell_type": "code",
   "execution_count": 22,
   "id": "c230cab1",
   "metadata": {},
   "outputs": [
    {
     "data": {
      "text/plain": [
       "array(['Ludhiana', 'Varanasi', 'Visakhapatnam', 'Mumbai', 'Kanpur',\n",
       "       'Ahmedabad', 'Thane', 'Nashik', 'Bangalore', 'Patna', 'Rajkot',\n",
       "       'Jaipur', 'Pune', 'Lucknow', 'Meerut', 'Agra', 'Surat',\n",
       "       'Faridabad', 'Hyderabad', 'Srinagar', 'Ghaziabad', 'Kolkata',\n",
       "       'Chennai', 'Kalyan', 'Nagpur', 'Vadodara', 'Vasai-Virar', 'Delhi',\n",
       "       'Bhopal', 'Indore', 'Ishanabad', 'Vidhi', 'Ayush', 'Gurgaon',\n",
       "       'Krishna', 'Aishwarya', 'Keshav', 'Harsha', 'Nalini', 'Aditya',\n",
       "       'Malyansh', 'Raghavendra', 'Saanvi', 'M.Tech', 'Bhavna',\n",
       "       'Less Delhi', 'Nandini', 'M.Com', 'Plata', 'Atharv', 'Pratyush',\n",
       "       'City', '3.0', 'Less than 5 Kalyan', 'MCA', 'Mira', 'Moreadhyay',\n",
       "       'Morena', 'Ishkarsh', 'Kashk', 'Mihir', 'Vidya', 'Tolkata', 'Anvi',\n",
       "       'Krinda', 'Ayansh', 'Shrey', 'Ivaan', 'Vaanya', 'Gaurav', 'Harsh',\n",
       "       'Reyansh', 'Kashish', 'Kibara', 'Vaishnavi', 'Chhavi', 'Parth',\n",
       "       'Mahi', 'Tushar', 'MSc', 'No', 'Rashi', 'ME', 'Molkata',\n",
       "       'Researcher', 'Kagan', 'Armaan', 'Ithal', 'Nalyan', 'Dhruv',\n",
       "       'Galesabad', 'Itheg', 'Aaradhya', 'Pooja', 'Khushi', 'Khaziabad',\n",
       "       'Jhanvi', 'Unirar'], dtype=object)"
      ]
     },
     "execution_count": 22,
     "metadata": {},
     "output_type": "execute_result"
    }
   ],
   "source": [
    "train_df['City'].unique()"
   ]
  },
  {
   "cell_type": "markdown",
   "id": "9572d6e3",
   "metadata": {},
   "source": [
    " here in the `City` column we can see that the data stored here are `City`, `3.0`, `Less than 5 Kalyan`, `MCA`"
   ]
  },
  {
   "cell_type": "markdown",
   "id": "9a2fba7a",
   "metadata": {},
   "source": [
    "In the `Working Professional or Student` column there are only 2 values , so we dont have to change anything there"
   ]
  },
  {
   "cell_type": "markdown",
   "id": "f3d4eb38",
   "metadata": {},
   "source": [
    "### Profession Col"
   ]
  },
  {
   "cell_type": "code",
   "execution_count": 23,
   "id": "7d629e61",
   "metadata": {
    "scrolled": true
   },
   "outputs": [
    {
     "data": {
      "text/plain": [
       "array(['Chef', 'Teacher', nan, 'Business Analyst', 'Finanancial Analyst',\n",
       "       'Chemist', 'Electrician', 'Software Engineer', 'Data Scientist',\n",
       "       'Plumber', 'Marketing Manager', 'Accountant', 'Entrepreneur',\n",
       "       'HR Manager', 'UX/UI Designer', 'Content Writer',\n",
       "       'Educational Consultant', 'Civil Engineer', 'Manager',\n",
       "       'Pharmacist', 'Financial Analyst', 'Architect',\n",
       "       'Mechanical Engineer', 'Customer Support', 'Consultant', 'Judge',\n",
       "       'Researcher', 'Pilot', 'Graphic Designer', 'Travel Consultant',\n",
       "       'Digital Marketer', 'Lawyer', 'Research Analyst',\n",
       "       'Sales Executive', 'Doctor', 'Unemployed', 'Investment Banker',\n",
       "       'Family Consultant', 'B.Com', 'BE', 'Student', 'Yogesh', 'Dev',\n",
       "       'MBA', 'LLM', 'BCA', 'Academic', 'Profession', 'FamilyVirar',\n",
       "       'City Manager', 'BBA', 'Medical Doctor', 'Working Professional',\n",
       "       'MBBS', 'Patna', 'Unveil', 'B.Ed', 'Nagpur', 'Moderate', 'M.Ed',\n",
       "       'Analyst', 'Pranav', 'Visakhapatnam', 'PhD', 'Yuvraj'],\n",
       "      dtype=object)"
      ]
     },
     "execution_count": 23,
     "metadata": {},
     "output_type": "execute_result"
    }
   ],
   "source": [
    "train_df['Profession'].unique()"
   ]
  },
  {
   "cell_type": "code",
   "execution_count": 24,
   "id": "b9c48083",
   "metadata": {
    "scrolled": false
   },
   "outputs": [
    {
     "data": {
      "text/html": [
       "<div>\n",
       "<style scoped>\n",
       "    .dataframe tbody tr th:only-of-type {\n",
       "        vertical-align: middle;\n",
       "    }\n",
       "\n",
       "    .dataframe tbody tr th {\n",
       "        vertical-align: top;\n",
       "    }\n",
       "\n",
       "    .dataframe thead th {\n",
       "        text-align: right;\n",
       "    }\n",
       "</style>\n",
       "<table border=\"1\" class=\"dataframe\">\n",
       "  <thead>\n",
       "    <tr style=\"text-align: right;\">\n",
       "      <th></th>\n",
       "      <th>items</th>\n",
       "      <th>counts</th>\n",
       "    </tr>\n",
       "  </thead>\n",
       "  <tbody>\n",
       "    <tr>\n",
       "      <th>19</th>\n",
       "      <td>Teacher</td>\n",
       "      <td>24906</td>\n",
       "    </tr>\n",
       "    <tr>\n",
       "      <th>12</th>\n",
       "      <td>Content Writer</td>\n",
       "      <td>7814</td>\n",
       "    </tr>\n",
       "    <tr>\n",
       "      <th>31</th>\n",
       "      <td>Architect</td>\n",
       "      <td>4370</td>\n",
       "    </tr>\n",
       "    <tr>\n",
       "      <th>38</th>\n",
       "      <td>Consultant</td>\n",
       "      <td>4229</td>\n",
       "    </tr>\n",
       "    <tr>\n",
       "      <th>49</th>\n",
       "      <td>HR Manager</td>\n",
       "      <td>4022</td>\n",
       "    </tr>\n",
       "    <tr>\n",
       "      <th>47</th>\n",
       "      <td>Pharmacist</td>\n",
       "      <td>3893</td>\n",
       "    </tr>\n",
       "    <tr>\n",
       "      <th>33</th>\n",
       "      <td>Doctor</td>\n",
       "      <td>3255</td>\n",
       "    </tr>\n",
       "    <tr>\n",
       "      <th>10</th>\n",
       "      <td>Business Analyst</td>\n",
       "      <td>3161</td>\n",
       "    </tr>\n",
       "    <tr>\n",
       "      <th>11</th>\n",
       "      <td>Entrepreneur</td>\n",
       "      <td>2968</td>\n",
       "    </tr>\n",
       "    <tr>\n",
       "      <th>35</th>\n",
       "      <td>Chemist</td>\n",
       "      <td>2967</td>\n",
       "    </tr>\n",
       "    <tr>\n",
       "      <th>42</th>\n",
       "      <td>Chef</td>\n",
       "      <td>2862</td>\n",
       "    </tr>\n",
       "    <tr>\n",
       "      <th>51</th>\n",
       "      <td>Educational Consultant</td>\n",
       "      <td>2852</td>\n",
       "    </tr>\n",
       "    <tr>\n",
       "      <th>34</th>\n",
       "      <td>Data Scientist</td>\n",
       "      <td>2390</td>\n",
       "    </tr>\n",
       "    <tr>\n",
       "      <th>57</th>\n",
       "      <td>Researcher</td>\n",
       "      <td>2328</td>\n",
       "    </tr>\n",
       "    <tr>\n",
       "      <th>2</th>\n",
       "      <td>Lawyer</td>\n",
       "      <td>2212</td>\n",
       "    </tr>\n",
       "    <tr>\n",
       "      <th>54</th>\n",
       "      <td>Customer Support</td>\n",
       "      <td>2055</td>\n",
       "    </tr>\n",
       "    <tr>\n",
       "      <th>48</th>\n",
       "      <td>Marketing Manager</td>\n",
       "      <td>1976</td>\n",
       "    </tr>\n",
       "    <tr>\n",
       "      <th>36</th>\n",
       "      <td>Pilot</td>\n",
       "      <td>1913</td>\n",
       "    </tr>\n",
       "    <tr>\n",
       "      <th>22</th>\n",
       "      <td>Travel Consultant</td>\n",
       "      <td>1860</td>\n",
       "    </tr>\n",
       "    <tr>\n",
       "      <th>13</th>\n",
       "      <td>Plumber</td>\n",
       "      <td>1748</td>\n",
       "    </tr>\n",
       "    <tr>\n",
       "      <th>62</th>\n",
       "      <td>Sales Executive</td>\n",
       "      <td>1739</td>\n",
       "    </tr>\n",
       "    <tr>\n",
       "      <th>24</th>\n",
       "      <td>Manager</td>\n",
       "      <td>1737</td>\n",
       "    </tr>\n",
       "    <tr>\n",
       "      <th>15</th>\n",
       "      <td>Judge</td>\n",
       "      <td>1712</td>\n",
       "    </tr>\n",
       "    <tr>\n",
       "      <th>41</th>\n",
       "      <td>Electrician</td>\n",
       "      <td>1582</td>\n",
       "    </tr>\n",
       "    <tr>\n",
       "      <th>40</th>\n",
       "      <td>Financial Analyst</td>\n",
       "      <td>1574</td>\n",
       "    </tr>\n",
       "    <tr>\n",
       "      <th>16</th>\n",
       "      <td>Software Engineer</td>\n",
       "      <td>1510</td>\n",
       "    </tr>\n",
       "    <tr>\n",
       "      <th>44</th>\n",
       "      <td>Civil Engineer</td>\n",
       "      <td>1470</td>\n",
       "    </tr>\n",
       "    <tr>\n",
       "      <th>27</th>\n",
       "      <td>UX/UI Designer</td>\n",
       "      <td>1452</td>\n",
       "    </tr>\n",
       "    <tr>\n",
       "      <th>20</th>\n",
       "      <td>Digital Marketer</td>\n",
       "      <td>1372</td>\n",
       "    </tr>\n",
       "    <tr>\n",
       "      <th>9</th>\n",
       "      <td>Accountant</td>\n",
       "      <td>1339</td>\n",
       "    </tr>\n",
       "    <tr>\n",
       "      <th>32</th>\n",
       "      <td>Finanancial Analyst</td>\n",
       "      <td>1329</td>\n",
       "    </tr>\n",
       "    <tr>\n",
       "      <th>53</th>\n",
       "      <td>Mechanical Engineer</td>\n",
       "      <td>1177</td>\n",
       "    </tr>\n",
       "    <tr>\n",
       "      <th>55</th>\n",
       "      <td>Graphic Designer</td>\n",
       "      <td>1163</td>\n",
       "    </tr>\n",
       "    <tr>\n",
       "      <th>3</th>\n",
       "      <td>Research Analyst</td>\n",
       "      <td>690</td>\n",
       "    </tr>\n",
       "    <tr>\n",
       "      <th>58</th>\n",
       "      <td>Investment Banker</td>\n",
       "      <td>393</td>\n",
       "    </tr>\n",
       "    <tr>\n",
       "      <th>23</th>\n",
       "      <td>Student</td>\n",
       "      <td>7</td>\n",
       "    </tr>\n",
       "    <tr>\n",
       "      <th>1</th>\n",
       "      <td>Academic</td>\n",
       "      <td>5</td>\n",
       "    </tr>\n",
       "    <tr>\n",
       "      <th>45</th>\n",
       "      <td>Profession</td>\n",
       "      <td>3</td>\n",
       "    </tr>\n",
       "    <tr>\n",
       "      <th>28</th>\n",
       "      <td>Unemployed</td>\n",
       "      <td>3</td>\n",
       "    </tr>\n",
       "    <tr>\n",
       "      <th>52</th>\n",
       "      <td>Yogesh</td>\n",
       "      <td>3</td>\n",
       "    </tr>\n",
       "    <tr>\n",
       "      <th>50</th>\n",
       "      <td>BCA</td>\n",
       "      <td>3</td>\n",
       "    </tr>\n",
       "    <tr>\n",
       "      <th>43</th>\n",
       "      <td>MBA</td>\n",
       "      <td>2</td>\n",
       "    </tr>\n",
       "    <tr>\n",
       "      <th>64</th>\n",
       "      <td>LLM</td>\n",
       "      <td>2</td>\n",
       "    </tr>\n",
       "    <tr>\n",
       "      <th>7</th>\n",
       "      <td>PhD</td>\n",
       "      <td>2</td>\n",
       "    </tr>\n",
       "    <tr>\n",
       "      <th>39</th>\n",
       "      <td>MBBS</td>\n",
       "      <td>1</td>\n",
       "    </tr>\n",
       "    <tr>\n",
       "      <th>37</th>\n",
       "      <td>Nagpur</td>\n",
       "      <td>1</td>\n",
       "    </tr>\n",
       "    <tr>\n",
       "      <th>63</th>\n",
       "      <td>B.Com</td>\n",
       "      <td>1</td>\n",
       "    </tr>\n",
       "    <tr>\n",
       "      <th>4</th>\n",
       "      <td>City Manager</td>\n",
       "      <td>1</td>\n",
       "    </tr>\n",
       "    <tr>\n",
       "      <th>61</th>\n",
       "      <td>Pranav</td>\n",
       "      <td>1</td>\n",
       "    </tr>\n",
       "    <tr>\n",
       "      <th>60</th>\n",
       "      <td>Yuvraj</td>\n",
       "      <td>1</td>\n",
       "    </tr>\n",
       "    <tr>\n",
       "      <th>59</th>\n",
       "      <td>BE</td>\n",
       "      <td>1</td>\n",
       "    </tr>\n",
       "    <tr>\n",
       "      <th>5</th>\n",
       "      <td>Visakhapatnam</td>\n",
       "      <td>1</td>\n",
       "    </tr>\n",
       "    <tr>\n",
       "      <th>6</th>\n",
       "      <td>Analyst</td>\n",
       "      <td>1</td>\n",
       "    </tr>\n",
       "    <tr>\n",
       "      <th>56</th>\n",
       "      <td>Family Consultant</td>\n",
       "      <td>1</td>\n",
       "    </tr>\n",
       "    <tr>\n",
       "      <th>8</th>\n",
       "      <td>FamilyVirar</td>\n",
       "      <td>1</td>\n",
       "    </tr>\n",
       "    <tr>\n",
       "      <th>14</th>\n",
       "      <td>Medical Doctor</td>\n",
       "      <td>1</td>\n",
       "    </tr>\n",
       "    <tr>\n",
       "      <th>17</th>\n",
       "      <td>BBA</td>\n",
       "      <td>1</td>\n",
       "    </tr>\n",
       "    <tr>\n",
       "      <th>18</th>\n",
       "      <td>Working Professional</td>\n",
       "      <td>1</td>\n",
       "    </tr>\n",
       "    <tr>\n",
       "      <th>21</th>\n",
       "      <td>Patna</td>\n",
       "      <td>1</td>\n",
       "    </tr>\n",
       "    <tr>\n",
       "      <th>25</th>\n",
       "      <td>Dev</td>\n",
       "      <td>1</td>\n",
       "    </tr>\n",
       "    <tr>\n",
       "      <th>26</th>\n",
       "      <td>Unveil</td>\n",
       "      <td>1</td>\n",
       "    </tr>\n",
       "    <tr>\n",
       "      <th>29</th>\n",
       "      <td>B.Ed</td>\n",
       "      <td>1</td>\n",
       "    </tr>\n",
       "    <tr>\n",
       "      <th>46</th>\n",
       "      <td>M.Ed</td>\n",
       "      <td>1</td>\n",
       "    </tr>\n",
       "    <tr>\n",
       "      <th>30</th>\n",
       "      <td>Moderate</td>\n",
       "      <td>1</td>\n",
       "    </tr>\n",
       "    <tr>\n",
       "      <th>0</th>\n",
       "      <td>NaN</td>\n",
       "      <td>0</td>\n",
       "    </tr>\n",
       "  </tbody>\n",
       "</table>\n",
       "</div>"
      ],
      "text/plain": [
       "                     items  counts\n",
       "19                 Teacher   24906\n",
       "12          Content Writer    7814\n",
       "31               Architect    4370\n",
       "38              Consultant    4229\n",
       "49              HR Manager    4022\n",
       "47              Pharmacist    3893\n",
       "33                  Doctor    3255\n",
       "10        Business Analyst    3161\n",
       "11            Entrepreneur    2968\n",
       "35                 Chemist    2967\n",
       "42                    Chef    2862\n",
       "51  Educational Consultant    2852\n",
       "34          Data Scientist    2390\n",
       "57              Researcher    2328\n",
       "2                   Lawyer    2212\n",
       "54        Customer Support    2055\n",
       "48       Marketing Manager    1976\n",
       "36                   Pilot    1913\n",
       "22       Travel Consultant    1860\n",
       "13                 Plumber    1748\n",
       "62         Sales Executive    1739\n",
       "24                 Manager    1737\n",
       "15                   Judge    1712\n",
       "41             Electrician    1582\n",
       "40       Financial Analyst    1574\n",
       "16       Software Engineer    1510\n",
       "44          Civil Engineer    1470\n",
       "27          UX/UI Designer    1452\n",
       "20        Digital Marketer    1372\n",
       "9               Accountant    1339\n",
       "32     Finanancial Analyst    1329\n",
       "53     Mechanical Engineer    1177\n",
       "55        Graphic Designer    1163\n",
       "3         Research Analyst     690\n",
       "58       Investment Banker     393\n",
       "23                 Student       7\n",
       "1                 Academic       5\n",
       "45              Profession       3\n",
       "28              Unemployed       3\n",
       "52                  Yogesh       3\n",
       "50                     BCA       3\n",
       "43                     MBA       2\n",
       "64                     LLM       2\n",
       "7                      PhD       2\n",
       "39                    MBBS       1\n",
       "37                  Nagpur       1\n",
       "63                   B.Com       1\n",
       "4             City Manager       1\n",
       "61                  Pranav       1\n",
       "60                  Yuvraj       1\n",
       "59                      BE       1\n",
       "5            Visakhapatnam       1\n",
       "6                  Analyst       1\n",
       "56       Family Consultant       1\n",
       "8              FamilyVirar       1\n",
       "14          Medical Doctor       1\n",
       "17                     BBA       1\n",
       "18    Working Professional       1\n",
       "21                   Patna       1\n",
       "25                     Dev       1\n",
       "26                  Unveil       1\n",
       "29                    B.Ed       1\n",
       "46                    M.Ed       1\n",
       "30                Moderate       1\n",
       "0                      NaN       0"
      ]
     },
     "execution_count": 24,
     "metadata": {},
     "output_type": "execute_result"
    }
   ],
   "source": [
    "# unique list\n",
    "ls_val_cnt(train_df['Profession'])"
   ]
  },
  {
   "cell_type": "markdown",
   "id": "329e9a31",
   "metadata": {},
   "source": [
    "From the above uniqueness of the data we can actually divide the extra uniqueness into 2 categories one for `Students` and another for `Other`"
   ]
  },
  {
   "cell_type": "markdown",
   "id": "6c460862",
   "metadata": {},
   "source": [
    "Here in the `profession` column we can see that datas from the `name`,`degree`,`working professional` columns are present"
   ]
  },
  {
   "cell_type": "markdown",
   "id": "055f9ab8",
   "metadata": {},
   "source": [
    "the columns `Academic Pressure`,`Work Pressure`, `CGPA`, `Study Satisfaction`,`Job Satisfaction` are comfortable to work with because these columns does not have datas from other columns"
   ]
  },
  {
   "cell_type": "code",
   "execution_count": 25,
   "id": "bddde9ef",
   "metadata": {},
   "outputs": [],
   "source": [
    "# these are all the list that we are going to categorize\n",
    "ls_other_profession = ['Yuvraj','Moderate','Unveil','Nagpur','Dev','Pranav','Patna','Working Professional',\n",
    "                       'Visakhapatnam','Profession','Unemployed','Yogesh']\n",
    "ls_stu_profession = ['B.Ed','BBA','B.Com','MBBS','M.Ed','BE','PhD','MBA','LLM','BCA','Academic']"
   ]
  },
  {
   "cell_type": "code",
   "execution_count": 26,
   "id": "3d2e46df",
   "metadata": {
    "scrolled": false
   },
   "outputs": [
    {
     "name": "stdout",
     "output_type": "stream",
     "text": [
      "Profession\n",
      "Teacher                   24906\n",
      "Content Writer             7814\n",
      "Architect                  4370\n",
      "Consultant                 4229\n",
      "HR Manager                 4022\n",
      "Pharmacist                 3893\n",
      "Doctor                     3255\n",
      "Business Analyst           3161\n",
      "Entrepreneur               2968\n",
      "Chemist                    2967\n",
      "Chef                       2862\n",
      "Educational Consultant     2852\n",
      "Data Scientist             2390\n",
      "Researcher                 2328\n",
      "Lawyer                     2212\n",
      "Customer Support           2055\n",
      "Marketing Manager          1976\n",
      "Pilot                      1913\n",
      "Travel Consultant          1860\n",
      "Plumber                    1748\n",
      "Sales Executive            1739\n",
      "Manager                    1737\n",
      "Judge                      1712\n",
      "Electrician                1582\n",
      "Financial Analyst          1574\n",
      "Software Engineer          1510\n",
      "Civil Engineer             1470\n",
      "UX/UI Designer             1452\n",
      "Digital Marketer           1372\n",
      "Accountant                 1339\n",
      "Finanancial Analyst        1329\n",
      "Mechanical Engineer        1177\n",
      "Graphic Designer           1163\n",
      "Research Analyst            690\n",
      "Investment Banker           393\n",
      "Student                      27\n",
      "Unemployed                    3\n",
      "Yogesh                        3\n",
      "Profession                    3\n",
      "Unveil                        1\n",
      "Visakhapatnam                 1\n",
      "Pranav                        1\n",
      "Analyst                       1\n",
      "Moderate                      1\n",
      "Nagpur                        1\n",
      "Working Professional          1\n",
      "Patna                         1\n",
      "Family Consultant             1\n",
      "Medical Doctor                1\n",
      "City Manager                  1\n",
      "FamilyVirar                   1\n",
      "Dev                           1\n",
      "Yuvraj                        1\n",
      "Name: count, dtype: int64\n"
     ]
    },
    {
     "data": {
      "text/plain": [
       "pandas.core.series.Series"
      ]
     },
     "execution_count": 26,
     "metadata": {},
     "output_type": "execute_result"
    }
   ],
   "source": [
    "# if all the items in the list ls_stu_profession is found in the series column train_df['Profession']\n",
    "# then make all the values present in the ls_stu_profession into the student category\n",
    "\n",
    "student = 'Student'\n",
    "hf_filtered_profession_col = rm_rpl_ser_items(ls_stu_profession, train_df['Profession'], student)\n",
    "\n",
    "#check if what we have done is correct or not\n",
    "print(hf_filtered_profession_col.value_counts())\n",
    "\n",
    "type(hf_filtered_profession_col)"
   ]
  },
  {
   "cell_type": "code",
   "execution_count": 27,
   "id": "bbe71a7f",
   "metadata": {
    "scrolled": false
   },
   "outputs": [
    {
     "name": "stdout",
     "output_type": "stream",
     "text": [
      "Profession\n",
      "Teacher                   24906\n",
      "Content Writer             7814\n",
      "Architect                  4370\n",
      "Consultant                 4229\n",
      "HR Manager                 4022\n",
      "Pharmacist                 3893\n",
      "Doctor                     3255\n",
      "Business Analyst           3161\n",
      "Entrepreneur               2968\n",
      "Chemist                    2967\n",
      "Chef                       2862\n",
      "Educational Consultant     2852\n",
      "Data Scientist             2390\n",
      "Researcher                 2328\n",
      "Lawyer                     2212\n",
      "Customer Support           2055\n",
      "Marketing Manager          1976\n",
      "Pilot                      1913\n",
      "Travel Consultant          1860\n",
      "Plumber                    1748\n",
      "Sales Executive            1739\n",
      "Manager                    1737\n",
      "Judge                      1712\n",
      "Electrician                1582\n",
      "Financial Analyst          1574\n",
      "Software Engineer          1510\n",
      "Civil Engineer             1470\n",
      "UX/UI Designer             1452\n",
      "Digital Marketer           1372\n",
      "Accountant                 1339\n",
      "Finanancial Analyst        1329\n",
      "Mechanical Engineer        1177\n",
      "Graphic Designer           1163\n",
      "Research Analyst            690\n",
      "Investment Banker           393\n",
      "Student                      27\n",
      "Others                       18\n",
      "Family Consultant             1\n",
      "FamilyVirar                   1\n",
      "City Manager                  1\n",
      "Medical Doctor                1\n",
      "Analyst                       1\n",
      "Name: count, dtype: int64\n"
     ]
    },
    {
     "data": {
      "text/plain": [
       "pandas.core.series.Series"
      ]
     },
     "execution_count": 27,
     "metadata": {},
     "output_type": "execute_result"
    }
   ],
   "source": [
    "# if all the items in the list ls_stu_profession is found in the series column train_df['Profession']\n",
    "# then make all the values present in the ls_other_profession into the other category\n",
    "\n",
    "filtered_profession_col = rm_rpl_ser_items(ls_other_profession, hf_filtered_profession_col , other)\n",
    "\n",
    "#check if what we have done is correct or not\n",
    "print(filtered_profession_col.value_counts())\n",
    "\n",
    "type(filtered_profession_col)"
   ]
  },
  {
   "cell_type": "markdown",
   "id": "010c5557",
   "metadata": {},
   "source": [
    "### Sleep Duration Col"
   ]
  },
  {
   "cell_type": "code",
   "execution_count": 28,
   "id": "4d7550d6",
   "metadata": {},
   "outputs": [
    {
     "data": {
      "text/plain": [
       "array(['More than 8 hours', 'Less than 5 hours', '5-6 hours', '7-8 hours',\n",
       "       'Sleep_Duration', '1-2 hours', '6-8 hours', '4-6 hours',\n",
       "       '6-7 hours', '10-11 hours', '8-9 hours', '40-45 hours',\n",
       "       '9-11 hours', '2-3 hours', '3-4 hours', 'Moderate', '55-66 hours',\n",
       "       '4-5 hours', '9-6 hours', '1-3 hours', 'Indore', '45', '1-6 hours',\n",
       "       '35-36 hours', '8 hours', 'No', '10-6 hours', 'than 5 hours',\n",
       "       '49 hours', 'Unhealthy', 'Work_Study_Hours', '3-6 hours',\n",
       "       '45-48 hours', '9-5', 'Pune', '9-5 hours'], dtype=object)"
      ]
     },
     "execution_count": 28,
     "metadata": {},
     "output_type": "execute_result"
    }
   ],
   "source": [
    "# now in column 'Sleep Duration' \n",
    "train_df['Sleep Duration'].unique()"
   ]
  },
  {
   "cell_type": "code",
   "execution_count": 29,
   "id": "7bb28590",
   "metadata": {
    "scrolled": false
   },
   "outputs": [
    {
     "data": {
      "text/html": [
       "<div>\n",
       "<style scoped>\n",
       "    .dataframe tbody tr th:only-of-type {\n",
       "        vertical-align: middle;\n",
       "    }\n",
       "\n",
       "    .dataframe tbody tr th {\n",
       "        vertical-align: top;\n",
       "    }\n",
       "\n",
       "    .dataframe thead th {\n",
       "        text-align: right;\n",
       "    }\n",
       "</style>\n",
       "<table border=\"1\" class=\"dataframe\">\n",
       "  <thead>\n",
       "    <tr style=\"text-align: right;\">\n",
       "      <th></th>\n",
       "      <th>items</th>\n",
       "      <th>counts</th>\n",
       "    </tr>\n",
       "  </thead>\n",
       "  <tbody>\n",
       "    <tr>\n",
       "      <th>6</th>\n",
       "      <td>Less than 5 hours</td>\n",
       "      <td>38784</td>\n",
       "    </tr>\n",
       "    <tr>\n",
       "      <th>9</th>\n",
       "      <td>7-8 hours</td>\n",
       "      <td>36969</td>\n",
       "    </tr>\n",
       "    <tr>\n",
       "      <th>21</th>\n",
       "      <td>More than 8 hours</td>\n",
       "      <td>32726</td>\n",
       "    </tr>\n",
       "    <tr>\n",
       "      <th>27</th>\n",
       "      <td>5-6 hours</td>\n",
       "      <td>32142</td>\n",
       "    </tr>\n",
       "    <tr>\n",
       "      <th>5</th>\n",
       "      <td>3-4 hours</td>\n",
       "      <td>12</td>\n",
       "    </tr>\n",
       "    <tr>\n",
       "      <th>29</th>\n",
       "      <td>6-7 hours</td>\n",
       "      <td>8</td>\n",
       "    </tr>\n",
       "    <tr>\n",
       "      <th>28</th>\n",
       "      <td>4-5 hours</td>\n",
       "      <td>7</td>\n",
       "    </tr>\n",
       "    <tr>\n",
       "      <th>20</th>\n",
       "      <td>2-3 hours</td>\n",
       "      <td>5</td>\n",
       "    </tr>\n",
       "    <tr>\n",
       "      <th>17</th>\n",
       "      <td>4-6 hours</td>\n",
       "      <td>5</td>\n",
       "    </tr>\n",
       "    <tr>\n",
       "      <th>35</th>\n",
       "      <td>6-8 hours</td>\n",
       "      <td>4</td>\n",
       "    </tr>\n",
       "    <tr>\n",
       "      <th>34</th>\n",
       "      <td>1-6 hours</td>\n",
       "      <td>4</td>\n",
       "    </tr>\n",
       "    <tr>\n",
       "      <th>13</th>\n",
       "      <td>No</td>\n",
       "      <td>4</td>\n",
       "    </tr>\n",
       "    <tr>\n",
       "      <th>16</th>\n",
       "      <td>Unhealthy</td>\n",
       "      <td>2</td>\n",
       "    </tr>\n",
       "    <tr>\n",
       "      <th>30</th>\n",
       "      <td>9-11 hours</td>\n",
       "      <td>2</td>\n",
       "    </tr>\n",
       "    <tr>\n",
       "      <th>25</th>\n",
       "      <td>45</td>\n",
       "      <td>2</td>\n",
       "    </tr>\n",
       "    <tr>\n",
       "      <th>0</th>\n",
       "      <td>Sleep_Duration</td>\n",
       "      <td>2</td>\n",
       "    </tr>\n",
       "    <tr>\n",
       "      <th>18</th>\n",
       "      <td>8-9 hours</td>\n",
       "      <td>2</td>\n",
       "    </tr>\n",
       "    <tr>\n",
       "      <th>2</th>\n",
       "      <td>10-11 hours</td>\n",
       "      <td>2</td>\n",
       "    </tr>\n",
       "    <tr>\n",
       "      <th>14</th>\n",
       "      <td>9-6 hours</td>\n",
       "      <td>1</td>\n",
       "    </tr>\n",
       "    <tr>\n",
       "      <th>33</th>\n",
       "      <td>than 5 hours</td>\n",
       "      <td>1</td>\n",
       "    </tr>\n",
       "    <tr>\n",
       "      <th>32</th>\n",
       "      <td>8 hours</td>\n",
       "      <td>1</td>\n",
       "    </tr>\n",
       "    <tr>\n",
       "      <th>31</th>\n",
       "      <td>55-66 hours</td>\n",
       "      <td>1</td>\n",
       "    </tr>\n",
       "    <tr>\n",
       "      <th>3</th>\n",
       "      <td>49 hours</td>\n",
       "      <td>1</td>\n",
       "    </tr>\n",
       "    <tr>\n",
       "      <th>4</th>\n",
       "      <td>1-3 hours</td>\n",
       "      <td>1</td>\n",
       "    </tr>\n",
       "    <tr>\n",
       "      <th>7</th>\n",
       "      <td>Pune</td>\n",
       "      <td>1</td>\n",
       "    </tr>\n",
       "    <tr>\n",
       "      <th>8</th>\n",
       "      <td>9-5</td>\n",
       "      <td>1</td>\n",
       "    </tr>\n",
       "    <tr>\n",
       "      <th>15</th>\n",
       "      <td>10-6 hours</td>\n",
       "      <td>1</td>\n",
       "    </tr>\n",
       "    <tr>\n",
       "      <th>10</th>\n",
       "      <td>Moderate</td>\n",
       "      <td>1</td>\n",
       "    </tr>\n",
       "    <tr>\n",
       "      <th>24</th>\n",
       "      <td>40-45 hours</td>\n",
       "      <td>1</td>\n",
       "    </tr>\n",
       "    <tr>\n",
       "      <th>23</th>\n",
       "      <td>45-48 hours</td>\n",
       "      <td>1</td>\n",
       "    </tr>\n",
       "    <tr>\n",
       "      <th>22</th>\n",
       "      <td>Indore</td>\n",
       "      <td>1</td>\n",
       "    </tr>\n",
       "    <tr>\n",
       "      <th>11</th>\n",
       "      <td>Work_Study_Hours</td>\n",
       "      <td>1</td>\n",
       "    </tr>\n",
       "    <tr>\n",
       "      <th>12</th>\n",
       "      <td>35-36 hours</td>\n",
       "      <td>1</td>\n",
       "    </tr>\n",
       "    <tr>\n",
       "      <th>19</th>\n",
       "      <td>3-6 hours</td>\n",
       "      <td>1</td>\n",
       "    </tr>\n",
       "    <tr>\n",
       "      <th>1</th>\n",
       "      <td>9-5 hours</td>\n",
       "      <td>1</td>\n",
       "    </tr>\n",
       "    <tr>\n",
       "      <th>26</th>\n",
       "      <td>1-2 hours</td>\n",
       "      <td>1</td>\n",
       "    </tr>\n",
       "  </tbody>\n",
       "</table>\n",
       "</div>"
      ],
      "text/plain": [
       "                items  counts\n",
       "6   Less than 5 hours   38784\n",
       "9           7-8 hours   36969\n",
       "21  More than 8 hours   32726\n",
       "27          5-6 hours   32142\n",
       "5           3-4 hours      12\n",
       "29          6-7 hours       8\n",
       "28          4-5 hours       7\n",
       "20          2-3 hours       5\n",
       "17          4-6 hours       5\n",
       "35          6-8 hours       4\n",
       "34          1-6 hours       4\n",
       "13                 No       4\n",
       "16          Unhealthy       2\n",
       "30         9-11 hours       2\n",
       "25                 45       2\n",
       "0      Sleep_Duration       2\n",
       "18          8-9 hours       2\n",
       "2         10-11 hours       2\n",
       "14          9-6 hours       1\n",
       "33       than 5 hours       1\n",
       "32            8 hours       1\n",
       "31        55-66 hours       1\n",
       "3            49 hours       1\n",
       "4           1-3 hours       1\n",
       "7                Pune       1\n",
       "8                 9-5       1\n",
       "15         10-6 hours       1\n",
       "10           Moderate       1\n",
       "24        40-45 hours       1\n",
       "23        45-48 hours       1\n",
       "22             Indore       1\n",
       "11   Work_Study_Hours       1\n",
       "12        35-36 hours       1\n",
       "19          3-6 hours       1\n",
       "1           9-5 hours       1\n",
       "26          1-2 hours       1"
      ]
     },
     "execution_count": 29,
     "metadata": {},
     "output_type": "execute_result"
    }
   ],
   "source": [
    "# unique list\n",
    "sleep_duration = ls_val_cnt(train_df['Sleep Duration'])\n",
    "sleep_duration"
   ]
  },
  {
   "cell_type": "markdown",
   "id": "c2334d29",
   "metadata": {},
   "source": [
    "Here you can see that datas like `unhealthy`,`work_Study_hours`, `Pune`|`Indore`, `Sleep Duration` are some of the datas that are actually no required in this particular column"
   ]
  },
  {
   "cell_type": "code",
   "execution_count": 30,
   "id": "fbdf356d",
   "metadata": {},
   "outputs": [],
   "source": [
    "# sleep duration categories\n",
    "ls_others_sleep_duration = ['No','Sleep_Duration','Unhealthy','45','Work_Study_Hours','40-45 hours','Moderate','35-36 hours',\n",
    "                            '49 hours','than 5 hours','55-66 hours','45-48 hours','Pune','Indore']\n",
    "\n",
    "less_than_5hrs = ['1-2 hours','3-6 hours','3-4 hours','4-5 hours','4-6 hours','2-3 hours','1-3 hours','1-6 hours']\n",
    "ls_bw_5_9_hrs = ['5-6 hours','6-7 hours','6-8 hours','8 hours','7-8 hours','9-6 hours','9-5 hours','8-9 hours','9-5']\n",
    "more_than_9_hrs = ['10-6 hours','More than 8 hours','9-11 hours','10-11 hours']"
   ]
  },
  {
   "cell_type": "code",
   "execution_count": 31,
   "id": "ad65d35c",
   "metadata": {},
   "outputs": [
    {
     "data": {
      "text/plain": [
       "Sleep Duration\n",
       "Between 5 - 9 Hours    69129\n",
       "Less than 5 hours      38820\n",
       "More than 8 hours      32731\n",
       "Others                    20\n",
       "Name: count, dtype: int64"
      ]
     },
     "execution_count": 31,
     "metadata": {},
     "output_type": "execute_result"
    }
   ],
   "source": [
    "# others category\n",
    "others_filtered = rm_rpl_ser_items(ls_others_sleep_duration , train_df['Sleep Duration'], other)\n",
    "\n",
    "# less than 5 hours category\n",
    "ls_5hrs = \"Less than 5 hours\"\n",
    "less_than_5hrs_filtered = rm_rpl_ser_items(less_than_5hrs, others_filtered, ls_5hrs)\n",
    "\n",
    "# between 5 and 9 hours\n",
    "bw_5_9_hrs = \"Between 5 - 9 Hours\"\n",
    "bw_5_9 = rm_rpl_ser_items(ls_bw_5_9_hrs, less_than_5hrs_filtered, bw_5_9_hrs)\n",
    "\n",
    "# more than 9 hours\n",
    "morethan_9 = \"More than 8 hours\"\n",
    "more_than_9 = rm_rpl_ser_items(more_than_9_hrs, bw_5_9, morethan_9)\n",
    "\n",
    "# assigning it to a new variable \n",
    "filtered_sleep_duration_col = more_than_9\n",
    "\n",
    "filtered_sleep_duration_col.value_counts()"
   ]
  },
  {
   "cell_type": "markdown",
   "id": "ee8e4d30",
   "metadata": {},
   "source": [
    "### Dietary Habits Col"
   ]
  },
  {
   "cell_type": "code",
   "execution_count": 32,
   "id": "e3446c74",
   "metadata": {},
   "outputs": [
    {
     "data": {
      "text/plain": [
       "array(['Healthy', 'Unhealthy', 'Moderate', 'Yes', 'Pratham', 'BSc',\n",
       "       'Gender', '3', 'More Healthy', 'Less than Healthy', 'Mihir', '1.0',\n",
       "       'Hormonal', 'Electrician', nan, 'No Healthy', 'Less Healthy',\n",
       "       'M.Tech', 'Vegas', 'No', 'Male', 'Indoor', 'Class 12', '2'],\n",
       "      dtype=object)"
      ]
     },
     "execution_count": 32,
     "metadata": {},
     "output_type": "execute_result"
    }
   ],
   "source": [
    "# in column 'Dietary Habits'\n",
    "train_df['Dietary Habits'].unique()"
   ]
  },
  {
   "cell_type": "code",
   "execution_count": 33,
   "id": "12c01675",
   "metadata": {
    "scrolled": false
   },
   "outputs": [
    {
     "data": {
      "text/html": [
       "<div>\n",
       "<style scoped>\n",
       "    .dataframe tbody tr th:only-of-type {\n",
       "        vertical-align: middle;\n",
       "    }\n",
       "\n",
       "    .dataframe tbody tr th {\n",
       "        vertical-align: top;\n",
       "    }\n",
       "\n",
       "    .dataframe thead th {\n",
       "        text-align: right;\n",
       "    }\n",
       "</style>\n",
       "<table border=\"1\" class=\"dataframe\">\n",
       "  <thead>\n",
       "    <tr style=\"text-align: right;\">\n",
       "      <th></th>\n",
       "      <th>items</th>\n",
       "      <th>counts</th>\n",
       "    </tr>\n",
       "  </thead>\n",
       "  <tbody>\n",
       "    <tr>\n",
       "      <th>6</th>\n",
       "      <td>Moderate</td>\n",
       "      <td>49705</td>\n",
       "    </tr>\n",
       "    <tr>\n",
       "      <th>12</th>\n",
       "      <td>Unhealthy</td>\n",
       "      <td>46227</td>\n",
       "    </tr>\n",
       "    <tr>\n",
       "      <th>5</th>\n",
       "      <td>Healthy</td>\n",
       "      <td>44741</td>\n",
       "    </tr>\n",
       "    <tr>\n",
       "      <th>20</th>\n",
       "      <td>Yes</td>\n",
       "      <td>2</td>\n",
       "    </tr>\n",
       "    <tr>\n",
       "      <th>8</th>\n",
       "      <td>No</td>\n",
       "      <td>2</td>\n",
       "    </tr>\n",
       "    <tr>\n",
       "      <th>16</th>\n",
       "      <td>More Healthy</td>\n",
       "      <td>2</td>\n",
       "    </tr>\n",
       "    <tr>\n",
       "      <th>14</th>\n",
       "      <td>No Healthy</td>\n",
       "      <td>1</td>\n",
       "    </tr>\n",
       "    <tr>\n",
       "      <th>22</th>\n",
       "      <td>Pratham</td>\n",
       "      <td>1</td>\n",
       "    </tr>\n",
       "    <tr>\n",
       "      <th>21</th>\n",
       "      <td>Indoor</td>\n",
       "      <td>1</td>\n",
       "    </tr>\n",
       "    <tr>\n",
       "      <th>19</th>\n",
       "      <td>Less than Healthy</td>\n",
       "      <td>1</td>\n",
       "    </tr>\n",
       "    <tr>\n",
       "      <th>18</th>\n",
       "      <td>Male</td>\n",
       "      <td>1</td>\n",
       "    </tr>\n",
       "    <tr>\n",
       "      <th>17</th>\n",
       "      <td>3</td>\n",
       "      <td>1</td>\n",
       "    </tr>\n",
       "    <tr>\n",
       "      <th>15</th>\n",
       "      <td>Less Healthy</td>\n",
       "      <td>1</td>\n",
       "    </tr>\n",
       "    <tr>\n",
       "      <th>0</th>\n",
       "      <td>M.Tech</td>\n",
       "      <td>1</td>\n",
       "    </tr>\n",
       "    <tr>\n",
       "      <th>13</th>\n",
       "      <td>Electrician</td>\n",
       "      <td>1</td>\n",
       "    </tr>\n",
       "    <tr>\n",
       "      <th>11</th>\n",
       "      <td>1.0</td>\n",
       "      <td>1</td>\n",
       "    </tr>\n",
       "    <tr>\n",
       "      <th>10</th>\n",
       "      <td>Vegas</td>\n",
       "      <td>1</td>\n",
       "    </tr>\n",
       "    <tr>\n",
       "      <th>9</th>\n",
       "      <td>2</td>\n",
       "      <td>1</td>\n",
       "    </tr>\n",
       "    <tr>\n",
       "      <th>7</th>\n",
       "      <td>Mihir</td>\n",
       "      <td>1</td>\n",
       "    </tr>\n",
       "    <tr>\n",
       "      <th>4</th>\n",
       "      <td>Class 12</td>\n",
       "      <td>1</td>\n",
       "    </tr>\n",
       "    <tr>\n",
       "      <th>3</th>\n",
       "      <td>BSc</td>\n",
       "      <td>1</td>\n",
       "    </tr>\n",
       "    <tr>\n",
       "      <th>2</th>\n",
       "      <td>Gender</td>\n",
       "      <td>1</td>\n",
       "    </tr>\n",
       "    <tr>\n",
       "      <th>23</th>\n",
       "      <td>Hormonal</td>\n",
       "      <td>1</td>\n",
       "    </tr>\n",
       "    <tr>\n",
       "      <th>1</th>\n",
       "      <td>NaN</td>\n",
       "      <td>0</td>\n",
       "    </tr>\n",
       "  </tbody>\n",
       "</table>\n",
       "</div>"
      ],
      "text/plain": [
       "                items  counts\n",
       "6            Moderate   49705\n",
       "12          Unhealthy   46227\n",
       "5             Healthy   44741\n",
       "20                Yes       2\n",
       "8                  No       2\n",
       "16       More Healthy       2\n",
       "14         No Healthy       1\n",
       "22            Pratham       1\n",
       "21             Indoor       1\n",
       "19  Less than Healthy       1\n",
       "18               Male       1\n",
       "17                  3       1\n",
       "15       Less Healthy       1\n",
       "0              M.Tech       1\n",
       "13        Electrician       1\n",
       "11                1.0       1\n",
       "10              Vegas       1\n",
       "9                   2       1\n",
       "7               Mihir       1\n",
       "4            Class 12       1\n",
       "3                 BSc       1\n",
       "2              Gender       1\n",
       "23           Hormonal       1\n",
       "1                 NaN       0"
      ]
     },
     "execution_count": 33,
     "metadata": {},
     "output_type": "execute_result"
    }
   ],
   "source": [
    "# unique list\n",
    "ls_val_cnt(train_df['Dietary Habits'])"
   ]
  },
  {
   "cell_type": "markdown",
   "id": "acef4258",
   "metadata": {},
   "source": [
    "Even here we can see that the datas from other columns are also present here like say for example `Indoor` from `City` column, `M.Tech` from `Degree` column, `Electrician` from `Profession` column and so on."
   ]
  },
  {
   "cell_type": "code",
   "execution_count": 34,
   "id": "dc11c094",
   "metadata": {},
   "outputs": [],
   "source": [
    "# categorizing the deitary habits column\n",
    "ls_other_diet = ['Yes','No','Male','Class 12','Gender','1.0','M.Tech','Mihir','BSc',\n",
    "                 'Electrician','2','3','Indoor','Vegas','Hormonal', 'Pratham']\n",
    "\n",
    "ls_healthy = ['More Healthy','Healthy',]\n",
    "ls_moderate = ['Moderate','No Healthy','Less than Healthy']\n",
    "ls_unhealthy = ['Unhealthy','Less Healthy']"
   ]
  },
  {
   "cell_type": "code",
   "execution_count": 35,
   "id": "46ad5d31",
   "metadata": {},
   "outputs": [
    {
     "data": {
      "text/plain": [
       "Dietary Habits\n",
       "Moderate     49707\n",
       "Unhealthy    46228\n",
       "Healthy      44743\n",
       "Others          18\n",
       "Name: count, dtype: int64"
      ]
     },
     "execution_count": 35,
     "metadata": {},
     "output_type": "execute_result"
    }
   ],
   "source": [
    "# filtering the dietary habit column\n",
    "other_filtered = rm_rpl_ser_items(ls_other_diet, train_df['Dietary Habits'], other)\n",
    "\n",
    "# healthy\n",
    "healthy = 'Healthy'\n",
    "healthy_filtered = rm_rpl_ser_items(ls_healthy, other_filtered, healthy)\n",
    "\n",
    "# unhealthy\n",
    "unhealthy = 'Unhealthy'\n",
    "unhealthy_filtered = rm_rpl_ser_items(ls_unhealthy, healthy_filtered, unhealthy)\n",
    "\n",
    "# moderate\n",
    "mod = 'Moderate'\n",
    "filtered_diet_col = rm_rpl_ser_items(ls_moderate, unhealthy_filtered, mod)\n",
    "\n",
    "# value counts of it\n",
    "filtered_diet_col.value_counts()"
   ]
  },
  {
   "cell_type": "markdown",
   "id": "998fef1d",
   "metadata": {},
   "source": [
    "### Degree Col"
   ]
  },
  {
   "cell_type": "code",
   "execution_count": 36,
   "id": "7ef5c90b",
   "metadata": {},
   "outputs": [
    {
     "data": {
      "text/plain": [
       "array(['BHM', 'LLB', 'B.Pharm', 'BBA', 'MCA', 'MD', 'BSc', 'ME', 'B.Arch',\n",
       "       'BCA', 'BE', 'MA', 'B.Ed', 'B.Com', 'MBA', 'M.Com', 'MHM', 'BA',\n",
       "       'Class 12', 'M.Tech', 'PhD', 'M.Ed', 'MSc', 'B.Tech', 'LLM',\n",
       "       'MBBS', 'M.Pharm', 'UX/UI Designer', 'MPA', 'BH', 'Nalini', 'BEd',\n",
       "       'B.Sc', 'Veda', 'Bhopal', 'S.Tech', 'Degree', '20', 'Class 11',\n",
       "       'H_Pharm', 'M', 'P.Com', 'BPharm', 'Business Analyst', 'M.Arch',\n",
       "       'LL.Com', 'Data Scientist', 'MPharm', 'L.Ed', 'P.Pharm', 'Kalyan',\n",
       "       'Unite', 'BArch', 'HR Manager', 'Badhya', 'S.Pharm', 'LLBA',\n",
       "       'Vrinda', 'M. Business Analyst', 'Bhavesh', '0', 'LLCom', '29',\n",
       "       'MTech', 'Vivaan', 'BPA', 'Plumber', '5.61', 'Brit', 'B.03',\n",
       "       'Ritik', '5.56', 'MEd', 'B', 'B BA', '7.06', 'B.B.Arch', 'ACA',\n",
       "       'Brithika', 'CGPA', '24', 'M_Tech', 'Pihu', 'BB', 'Jhanvi',\n",
       "       'LLTech', 'Aarav', 'Entrepreneur', '8.56', 'LHM', 'Lata', 'S.Arch',\n",
       "       'Marsh', 'HCA', '5.88', 'B.Student', 'LL B.Ed', 'M.S', 'Navya',\n",
       "       'Mahika', nan, 'K.Ed', 'B.3.79', 'Mthanya', 'Working Professional',\n",
       "       'Esha', 'LLS', 'LLEd', 'E.Tech', 'Doctor', 'N.Pharm', 'LCA',\n",
       "       'B B.Com', 'RCA', 'Mihir', 'Advait'], dtype=object)"
      ]
     },
     "execution_count": 36,
     "metadata": {},
     "output_type": "execute_result"
    }
   ],
   "source": [
    "# in the column degree lets see what all kinds of unique values are available there\n",
    "train_df['Degree'].unique()"
   ]
  },
  {
   "cell_type": "code",
   "execution_count": 37,
   "id": "49c835d1",
   "metadata": {
    "scrolled": false
   },
   "outputs": [
    {
     "data": {
      "text/html": [
       "<div>\n",
       "<style scoped>\n",
       "    .dataframe tbody tr th:only-of-type {\n",
       "        vertical-align: middle;\n",
       "    }\n",
       "\n",
       "    .dataframe tbody tr th {\n",
       "        vertical-align: top;\n",
       "    }\n",
       "\n",
       "    .dataframe thead th {\n",
       "        text-align: right;\n",
       "    }\n",
       "</style>\n",
       "<table border=\"1\" class=\"dataframe\">\n",
       "  <thead>\n",
       "    <tr style=\"text-align: right;\">\n",
       "      <th></th>\n",
       "      <th>items</th>\n",
       "      <th>counts</th>\n",
       "    </tr>\n",
       "  </thead>\n",
       "  <tbody>\n",
       "    <tr>\n",
       "      <th>97</th>\n",
       "      <td>Class 12</td>\n",
       "      <td>14729</td>\n",
       "    </tr>\n",
       "    <tr>\n",
       "      <th>99</th>\n",
       "      <td>B.Ed</td>\n",
       "      <td>11691</td>\n",
       "    </tr>\n",
       "    <tr>\n",
       "      <th>76</th>\n",
       "      <td>B.Arch</td>\n",
       "      <td>8742</td>\n",
       "    </tr>\n",
       "    <tr>\n",
       "      <th>58</th>\n",
       "      <td>B.Com</td>\n",
       "      <td>8113</td>\n",
       "    </tr>\n",
       "    <tr>\n",
       "      <th>98</th>\n",
       "      <td>B.Pharm</td>\n",
       "      <td>5856</td>\n",
       "    </tr>\n",
       "    <tr>\n",
       "      <th>110</th>\n",
       "      <td>BCA</td>\n",
       "      <td>5739</td>\n",
       "    </tr>\n",
       "    <tr>\n",
       "      <th>106</th>\n",
       "      <td>M.Ed</td>\n",
       "      <td>5668</td>\n",
       "    </tr>\n",
       "    <tr>\n",
       "      <th>53</th>\n",
       "      <td>MCA</td>\n",
       "      <td>5234</td>\n",
       "    </tr>\n",
       "    <tr>\n",
       "      <th>70</th>\n",
       "      <td>BBA</td>\n",
       "      <td>5030</td>\n",
       "    </tr>\n",
       "    <tr>\n",
       "      <th>35</th>\n",
       "      <td>BSc</td>\n",
       "      <td>5027</td>\n",
       "    </tr>\n",
       "    <tr>\n",
       "      <th>43</th>\n",
       "      <td>MSc</td>\n",
       "      <td>4879</td>\n",
       "    </tr>\n",
       "    <tr>\n",
       "      <th>66</th>\n",
       "      <td>LLM</td>\n",
       "      <td>4647</td>\n",
       "    </tr>\n",
       "    <tr>\n",
       "      <th>84</th>\n",
       "      <td>M.Pharm</td>\n",
       "      <td>4537</td>\n",
       "    </tr>\n",
       "    <tr>\n",
       "      <th>26</th>\n",
       "      <td>M.Tech</td>\n",
       "      <td>4475</td>\n",
       "    </tr>\n",
       "    <tr>\n",
       "      <th>113</th>\n",
       "      <td>B.Tech</td>\n",
       "      <td>4425</td>\n",
       "    </tr>\n",
       "    <tr>\n",
       "      <th>7</th>\n",
       "      <td>LLB</td>\n",
       "      <td>4348</td>\n",
       "    </tr>\n",
       "    <tr>\n",
       "      <th>107</th>\n",
       "      <td>BHM</td>\n",
       "      <td>4305</td>\n",
       "    </tr>\n",
       "    <tr>\n",
       "      <th>49</th>\n",
       "      <td>MBA</td>\n",
       "      <td>3818</td>\n",
       "    </tr>\n",
       "    <tr>\n",
       "      <th>85</th>\n",
       "      <td>BA</td>\n",
       "      <td>3750</td>\n",
       "    </tr>\n",
       "    <tr>\n",
       "      <th>1</th>\n",
       "      <td>ME</td>\n",
       "      <td>3632</td>\n",
       "    </tr>\n",
       "    <tr>\n",
       "      <th>62</th>\n",
       "      <td>MD</td>\n",
       "      <td>3383</td>\n",
       "    </tr>\n",
       "    <tr>\n",
       "      <th>44</th>\n",
       "      <td>MHM</td>\n",
       "      <td>3286</td>\n",
       "    </tr>\n",
       "    <tr>\n",
       "      <th>83</th>\n",
       "      <td>BE</td>\n",
       "      <td>3104</td>\n",
       "    </tr>\n",
       "    <tr>\n",
       "      <th>68</th>\n",
       "      <td>PhD</td>\n",
       "      <td>3103</td>\n",
       "    </tr>\n",
       "    <tr>\n",
       "      <th>19</th>\n",
       "      <td>M.Com</td>\n",
       "      <td>3094</td>\n",
       "    </tr>\n",
       "    <tr>\n",
       "      <th>103</th>\n",
       "      <td>MBBS</td>\n",
       "      <td>3082</td>\n",
       "    </tr>\n",
       "    <tr>\n",
       "      <th>104</th>\n",
       "      <td>MA</td>\n",
       "      <td>2887</td>\n",
       "    </tr>\n",
       "    <tr>\n",
       "      <th>78</th>\n",
       "      <td>M.Arch</td>\n",
       "      <td>5</td>\n",
       "    </tr>\n",
       "    <tr>\n",
       "      <th>38</th>\n",
       "      <td>UX/UI Designer</td>\n",
       "      <td>4</td>\n",
       "    </tr>\n",
       "    <tr>\n",
       "      <th>90</th>\n",
       "      <td>M</td>\n",
       "      <td>3</td>\n",
       "    </tr>\n",
       "    <tr>\n",
       "      <th>82</th>\n",
       "      <td>Kalyan</td>\n",
       "      <td>3</td>\n",
       "    </tr>\n",
       "    <tr>\n",
       "      <th>21</th>\n",
       "      <td>B.Sc</td>\n",
       "      <td>3</td>\n",
       "    </tr>\n",
       "    <tr>\n",
       "      <th>50</th>\n",
       "      <td>B</td>\n",
       "      <td>2</td>\n",
       "    </tr>\n",
       "    <tr>\n",
       "      <th>86</th>\n",
       "      <td>BEd</td>\n",
       "      <td>2</td>\n",
       "    </tr>\n",
       "    <tr>\n",
       "      <th>20</th>\n",
       "      <td>MEd</td>\n",
       "      <td>2</td>\n",
       "    </tr>\n",
       "    <tr>\n",
       "      <th>80</th>\n",
       "      <td>LLBA</td>\n",
       "      <td>2</td>\n",
       "    </tr>\n",
       "    <tr>\n",
       "      <th>109</th>\n",
       "      <td>BPharm</td>\n",
       "      <td>2</td>\n",
       "    </tr>\n",
       "    <tr>\n",
       "      <th>54</th>\n",
       "      <td>Degree</td>\n",
       "      <td>2</td>\n",
       "    </tr>\n",
       "    <tr>\n",
       "      <th>42</th>\n",
       "      <td>BArch</td>\n",
       "      <td>2</td>\n",
       "    </tr>\n",
       "    <tr>\n",
       "      <th>17</th>\n",
       "      <td>Nalini</td>\n",
       "      <td>2</td>\n",
       "    </tr>\n",
       "    <tr>\n",
       "      <th>37</th>\n",
       "      <td>Jhanvi</td>\n",
       "      <td>2</td>\n",
       "    </tr>\n",
       "    <tr>\n",
       "      <th>36</th>\n",
       "      <td>L.Ed</td>\n",
       "      <td>2</td>\n",
       "    </tr>\n",
       "    <tr>\n",
       "      <th>92</th>\n",
       "      <td>P.Com</td>\n",
       "      <td>2</td>\n",
       "    </tr>\n",
       "    <tr>\n",
       "      <th>114</th>\n",
       "      <td>LL B.Ed</td>\n",
       "      <td>2</td>\n",
       "    </tr>\n",
       "    <tr>\n",
       "      <th>55</th>\n",
       "      <td>Bhopal</td>\n",
       "      <td>2</td>\n",
       "    </tr>\n",
       "    <tr>\n",
       "      <th>71</th>\n",
       "      <td>S.Arch</td>\n",
       "      <td>1</td>\n",
       "    </tr>\n",
       "    <tr>\n",
       "      <th>72</th>\n",
       "      <td>Mahika</td>\n",
       "      <td>1</td>\n",
       "    </tr>\n",
       "    <tr>\n",
       "      <th>112</th>\n",
       "      <td>Veda</td>\n",
       "      <td>1</td>\n",
       "    </tr>\n",
       "    <tr>\n",
       "      <th>73</th>\n",
       "      <td>Mihir</td>\n",
       "      <td>1</td>\n",
       "    </tr>\n",
       "    <tr>\n",
       "      <th>111</th>\n",
       "      <td>Badhya</td>\n",
       "      <td>1</td>\n",
       "    </tr>\n",
       "    <tr>\n",
       "      <th>74</th>\n",
       "      <td>Esha</td>\n",
       "      <td>1</td>\n",
       "    </tr>\n",
       "    <tr>\n",
       "      <th>75</th>\n",
       "      <td>8.56</td>\n",
       "      <td>1</td>\n",
       "    </tr>\n",
       "    <tr>\n",
       "      <th>108</th>\n",
       "      <td>29</td>\n",
       "      <td>1</td>\n",
       "    </tr>\n",
       "    <tr>\n",
       "      <th>77</th>\n",
       "      <td>LLS</td>\n",
       "      <td>1</td>\n",
       "    </tr>\n",
       "    <tr>\n",
       "      <th>91</th>\n",
       "      <td>S.Pharm</td>\n",
       "      <td>1</td>\n",
       "    </tr>\n",
       "    <tr>\n",
       "      <th>105</th>\n",
       "      <td>LLCom</td>\n",
       "      <td>1</td>\n",
       "    </tr>\n",
       "    <tr>\n",
       "      <th>79</th>\n",
       "      <td>Brithika</td>\n",
       "      <td>1</td>\n",
       "    </tr>\n",
       "    <tr>\n",
       "      <th>89</th>\n",
       "      <td>MPharm</td>\n",
       "      <td>1</td>\n",
       "    </tr>\n",
       "    <tr>\n",
       "      <th>95</th>\n",
       "      <td>S.Tech</td>\n",
       "      <td>1</td>\n",
       "    </tr>\n",
       "    <tr>\n",
       "      <th>81</th>\n",
       "      <td>B B.Com</td>\n",
       "      <td>1</td>\n",
       "    </tr>\n",
       "    <tr>\n",
       "      <th>94</th>\n",
       "      <td>Advait</td>\n",
       "      <td>1</td>\n",
       "    </tr>\n",
       "    <tr>\n",
       "      <th>96</th>\n",
       "      <td>5.56</td>\n",
       "      <td>1</td>\n",
       "    </tr>\n",
       "    <tr>\n",
       "      <th>102</th>\n",
       "      <td>BPA</td>\n",
       "      <td>1</td>\n",
       "    </tr>\n",
       "    <tr>\n",
       "      <th>101</th>\n",
       "      <td>P.Pharm</td>\n",
       "      <td>1</td>\n",
       "    </tr>\n",
       "    <tr>\n",
       "      <th>100</th>\n",
       "      <td>H_Pharm</td>\n",
       "      <td>1</td>\n",
       "    </tr>\n",
       "    <tr>\n",
       "      <th>87</th>\n",
       "      <td>Ritik</td>\n",
       "      <td>1</td>\n",
       "    </tr>\n",
       "    <tr>\n",
       "      <th>93</th>\n",
       "      <td>B.B.Arch</td>\n",
       "      <td>1</td>\n",
       "    </tr>\n",
       "    <tr>\n",
       "      <th>69</th>\n",
       "      <td>Mthanya</td>\n",
       "      <td>1</td>\n",
       "    </tr>\n",
       "    <tr>\n",
       "      <th>88</th>\n",
       "      <td>Navya</td>\n",
       "      <td>1</td>\n",
       "    </tr>\n",
       "    <tr>\n",
       "      <th>0</th>\n",
       "      <td>B BA</td>\n",
       "      <td>1</td>\n",
       "    </tr>\n",
       "    <tr>\n",
       "      <th>29</th>\n",
       "      <td>CGPA</td>\n",
       "      <td>1</td>\n",
       "    </tr>\n",
       "    <tr>\n",
       "      <th>13</th>\n",
       "      <td>M.S</td>\n",
       "      <td>1</td>\n",
       "    </tr>\n",
       "    <tr>\n",
       "      <th>27</th>\n",
       "      <td>LCA</td>\n",
       "      <td>1</td>\n",
       "    </tr>\n",
       "    <tr>\n",
       "      <th>25</th>\n",
       "      <td>7.06</td>\n",
       "      <td>1</td>\n",
       "    </tr>\n",
       "    <tr>\n",
       "      <th>24</th>\n",
       "      <td>B.Student</td>\n",
       "      <td>1</td>\n",
       "    </tr>\n",
       "    <tr>\n",
       "      <th>23</th>\n",
       "      <td>ACA</td>\n",
       "      <td>1</td>\n",
       "    </tr>\n",
       "    <tr>\n",
       "      <th>22</th>\n",
       "      <td>N.Pharm</td>\n",
       "      <td>1</td>\n",
       "    </tr>\n",
       "    <tr>\n",
       "      <th>18</th>\n",
       "      <td>Lata</td>\n",
       "      <td>1</td>\n",
       "    </tr>\n",
       "    <tr>\n",
       "      <th>16</th>\n",
       "      <td>Aarav</td>\n",
       "      <td>1</td>\n",
       "    </tr>\n",
       "    <tr>\n",
       "      <th>15</th>\n",
       "      <td>RCA</td>\n",
       "      <td>1</td>\n",
       "    </tr>\n",
       "    <tr>\n",
       "      <th>14</th>\n",
       "      <td>0</td>\n",
       "      <td>1</td>\n",
       "    </tr>\n",
       "    <tr>\n",
       "      <th>12</th>\n",
       "      <td>5.61</td>\n",
       "      <td>1</td>\n",
       "    </tr>\n",
       "    <tr>\n",
       "      <th>65</th>\n",
       "      <td>5.88</td>\n",
       "      <td>1</td>\n",
       "    </tr>\n",
       "    <tr>\n",
       "      <th>11</th>\n",
       "      <td>E.Tech</td>\n",
       "      <td>1</td>\n",
       "    </tr>\n",
       "    <tr>\n",
       "      <th>10</th>\n",
       "      <td>Class 11</td>\n",
       "      <td>1</td>\n",
       "    </tr>\n",
       "    <tr>\n",
       "      <th>9</th>\n",
       "      <td>Doctor</td>\n",
       "      <td>1</td>\n",
       "    </tr>\n",
       "    <tr>\n",
       "      <th>8</th>\n",
       "      <td>M. Business Analyst</td>\n",
       "      <td>1</td>\n",
       "    </tr>\n",
       "    <tr>\n",
       "      <th>6</th>\n",
       "      <td>LLTech</td>\n",
       "      <td>1</td>\n",
       "    </tr>\n",
       "    <tr>\n",
       "      <th>5</th>\n",
       "      <td>Working Professional</td>\n",
       "      <td>1</td>\n",
       "    </tr>\n",
       "    <tr>\n",
       "      <th>4</th>\n",
       "      <td>20</td>\n",
       "      <td>1</td>\n",
       "    </tr>\n",
       "    <tr>\n",
       "      <th>3</th>\n",
       "      <td>Plumber</td>\n",
       "      <td>1</td>\n",
       "    </tr>\n",
       "    <tr>\n",
       "      <th>2</th>\n",
       "      <td>Entrepreneur</td>\n",
       "      <td>1</td>\n",
       "    </tr>\n",
       "    <tr>\n",
       "      <th>28</th>\n",
       "      <td>Vivaan</td>\n",
       "      <td>1</td>\n",
       "    </tr>\n",
       "    <tr>\n",
       "      <th>115</th>\n",
       "      <td>M_Tech</td>\n",
       "      <td>1</td>\n",
       "    </tr>\n",
       "    <tr>\n",
       "      <th>30</th>\n",
       "      <td>LHM</td>\n",
       "      <td>1</td>\n",
       "    </tr>\n",
       "    <tr>\n",
       "      <th>31</th>\n",
       "      <td>Marsh</td>\n",
       "      <td>1</td>\n",
       "    </tr>\n",
       "    <tr>\n",
       "      <th>64</th>\n",
       "      <td>LLEd</td>\n",
       "      <td>1</td>\n",
       "    </tr>\n",
       "    <tr>\n",
       "      <th>63</th>\n",
       "      <td>24</td>\n",
       "      <td>1</td>\n",
       "    </tr>\n",
       "    <tr>\n",
       "      <th>61</th>\n",
       "      <td>B.3.79</td>\n",
       "      <td>1</td>\n",
       "    </tr>\n",
       "    <tr>\n",
       "      <th>60</th>\n",
       "      <td>Bhavesh</td>\n",
       "      <td>1</td>\n",
       "    </tr>\n",
       "    <tr>\n",
       "      <th>59</th>\n",
       "      <td>B.03</td>\n",
       "      <td>1</td>\n",
       "    </tr>\n",
       "    <tr>\n",
       "      <th>57</th>\n",
       "      <td>Pihu</td>\n",
       "      <td>1</td>\n",
       "    </tr>\n",
       "    <tr>\n",
       "      <th>56</th>\n",
       "      <td>HR Manager</td>\n",
       "      <td>1</td>\n",
       "    </tr>\n",
       "    <tr>\n",
       "      <th>52</th>\n",
       "      <td>K.Ed</td>\n",
       "      <td>1</td>\n",
       "    </tr>\n",
       "    <tr>\n",
       "      <th>51</th>\n",
       "      <td>MTech</td>\n",
       "      <td>1</td>\n",
       "    </tr>\n",
       "    <tr>\n",
       "      <th>48</th>\n",
       "      <td>HCA</td>\n",
       "      <td>1</td>\n",
       "    </tr>\n",
       "    <tr>\n",
       "      <th>47</th>\n",
       "      <td>Vrinda</td>\n",
       "      <td>1</td>\n",
       "    </tr>\n",
       "    <tr>\n",
       "      <th>46</th>\n",
       "      <td>Unite</td>\n",
       "      <td>1</td>\n",
       "    </tr>\n",
       "    <tr>\n",
       "      <th>45</th>\n",
       "      <td>Brit</td>\n",
       "      <td>1</td>\n",
       "    </tr>\n",
       "    <tr>\n",
       "      <th>41</th>\n",
       "      <td>LL.Com</td>\n",
       "      <td>1</td>\n",
       "    </tr>\n",
       "    <tr>\n",
       "      <th>40</th>\n",
       "      <td>Data Scientist</td>\n",
       "      <td>1</td>\n",
       "    </tr>\n",
       "    <tr>\n",
       "      <th>39</th>\n",
       "      <td>MPA</td>\n",
       "      <td>1</td>\n",
       "    </tr>\n",
       "    <tr>\n",
       "      <th>34</th>\n",
       "      <td>BB</td>\n",
       "      <td>1</td>\n",
       "    </tr>\n",
       "    <tr>\n",
       "      <th>33</th>\n",
       "      <td>Business Analyst</td>\n",
       "      <td>1</td>\n",
       "    </tr>\n",
       "    <tr>\n",
       "      <th>32</th>\n",
       "      <td>BH</td>\n",
       "      <td>1</td>\n",
       "    </tr>\n",
       "    <tr>\n",
       "      <th>67</th>\n",
       "      <td>NaN</td>\n",
       "      <td>0</td>\n",
       "    </tr>\n",
       "  </tbody>\n",
       "</table>\n",
       "</div>"
      ],
      "text/plain": [
       "                    items  counts\n",
       "97               Class 12   14729\n",
       "99                   B.Ed   11691\n",
       "76                 B.Arch    8742\n",
       "58                  B.Com    8113\n",
       "98                B.Pharm    5856\n",
       "110                   BCA    5739\n",
       "106                  M.Ed    5668\n",
       "53                    MCA    5234\n",
       "70                    BBA    5030\n",
       "35                    BSc    5027\n",
       "43                    MSc    4879\n",
       "66                    LLM    4647\n",
       "84                M.Pharm    4537\n",
       "26                 M.Tech    4475\n",
       "113                B.Tech    4425\n",
       "7                     LLB    4348\n",
       "107                   BHM    4305\n",
       "49                    MBA    3818\n",
       "85                     BA    3750\n",
       "1                      ME    3632\n",
       "62                     MD    3383\n",
       "44                    MHM    3286\n",
       "83                     BE    3104\n",
       "68                    PhD    3103\n",
       "19                  M.Com    3094\n",
       "103                  MBBS    3082\n",
       "104                    MA    2887\n",
       "78                 M.Arch       5\n",
       "38         UX/UI Designer       4\n",
       "90                      M       3\n",
       "82                 Kalyan       3\n",
       "21                   B.Sc       3\n",
       "50                      B       2\n",
       "86                    BEd       2\n",
       "20                    MEd       2\n",
       "80                   LLBA       2\n",
       "109                BPharm       2\n",
       "54                 Degree       2\n",
       "42                  BArch       2\n",
       "17                 Nalini       2\n",
       "37                 Jhanvi       2\n",
       "36                   L.Ed       2\n",
       "92                  P.Com       2\n",
       "114               LL B.Ed       2\n",
       "55                 Bhopal       2\n",
       "71                 S.Arch       1\n",
       "72                 Mahika       1\n",
       "112                  Veda       1\n",
       "73                  Mihir       1\n",
       "111                Badhya       1\n",
       "74                   Esha       1\n",
       "75                   8.56       1\n",
       "108                    29       1\n",
       "77                    LLS       1\n",
       "91                S.Pharm       1\n",
       "105                 LLCom       1\n",
       "79               Brithika       1\n",
       "89                 MPharm       1\n",
       "95                 S.Tech       1\n",
       "81                B B.Com       1\n",
       "94                 Advait       1\n",
       "96                   5.56       1\n",
       "102                   BPA       1\n",
       "101               P.Pharm       1\n",
       "100               H_Pharm       1\n",
       "87                  Ritik       1\n",
       "93               B.B.Arch       1\n",
       "69                Mthanya       1\n",
       "88                  Navya       1\n",
       "0                    B BA       1\n",
       "29                   CGPA       1\n",
       "13                    M.S       1\n",
       "27                    LCA       1\n",
       "25                   7.06       1\n",
       "24              B.Student       1\n",
       "23                    ACA       1\n",
       "22                N.Pharm       1\n",
       "18                   Lata       1\n",
       "16                  Aarav       1\n",
       "15                    RCA       1\n",
       "14                      0       1\n",
       "12                   5.61       1\n",
       "65                   5.88       1\n",
       "11                 E.Tech       1\n",
       "10               Class 11       1\n",
       "9                  Doctor       1\n",
       "8     M. Business Analyst       1\n",
       "6                  LLTech       1\n",
       "5    Working Professional       1\n",
       "4                      20       1\n",
       "3                 Plumber       1\n",
       "2            Entrepreneur       1\n",
       "28                 Vivaan       1\n",
       "115                M_Tech       1\n",
       "30                    LHM       1\n",
       "31                  Marsh       1\n",
       "64                   LLEd       1\n",
       "63                     24       1\n",
       "61                 B.3.79       1\n",
       "60                Bhavesh       1\n",
       "59                   B.03       1\n",
       "57                   Pihu       1\n",
       "56             HR Manager       1\n",
       "52                   K.Ed       1\n",
       "51                  MTech       1\n",
       "48                    HCA       1\n",
       "47                 Vrinda       1\n",
       "46                  Unite       1\n",
       "45                   Brit       1\n",
       "41                 LL.Com       1\n",
       "40         Data Scientist       1\n",
       "39                    MPA       1\n",
       "34                     BB       1\n",
       "33       Business Analyst       1\n",
       "32                     BH       1\n",
       "67                    NaN       0"
      ]
     },
     "execution_count": 37,
     "metadata": {},
     "output_type": "execute_result"
    }
   ],
   "source": [
    "# unique list\n",
    "controlling_degree_col = ls_val_cnt(train_df['Degree'])\n",
    "controlling_degree_col"
   ]
  },
  {
   "cell_type": "markdown",
   "id": "9f08b109",
   "metadata": {},
   "source": [
    "We can see that there are other columns datas like `Working Professional`,`Esha`,`Pihu`,`Doctor`,`B.3.79` ... are the categories present in other columns like `Working Professional or Student`, `Name`, `Profession` .."
   ]
  },
  {
   "cell_type": "markdown",
   "id": "efea0d8b",
   "metadata": {},
   "source": [
    "the rest of the columns have very uniques values and belongs to that particular columns only `Have you ever had suicidal thoughts ?`, `Work/Study Hours`,\n",
    "       `Financial Stress`, `Family History of Mental Illness`"
   ]
  },
  {
   "cell_type": "code",
   "execution_count": 38,
   "id": "f88ac624",
   "metadata": {
    "scrolled": false
   },
   "outputs": [
    {
     "data": {
      "text/plain": [
       "['UX/UI Designer',\n",
       " 'M',\n",
       " 'Kalyan',\n",
       " 'B.Sc',\n",
       " 'B',\n",
       " 'BEd',\n",
       " 'MEd',\n",
       " 'LLBA',\n",
       " 'BPharm',\n",
       " 'Degree',\n",
       " 'BArch',\n",
       " 'Nalini',\n",
       " 'Jhanvi',\n",
       " 'L.Ed',\n",
       " 'P.Com',\n",
       " 'LL B.Ed',\n",
       " 'Bhopal',\n",
       " 'S.Arch',\n",
       " 'Mahika',\n",
       " 'Veda',\n",
       " 'Mihir',\n",
       " 'Badhya',\n",
       " 'Esha',\n",
       " '8.56',\n",
       " '29',\n",
       " 'LLS',\n",
       " 'S.Pharm',\n",
       " 'LLCom',\n",
       " 'Brithika',\n",
       " 'MPharm',\n",
       " 'S.Tech',\n",
       " 'B B.Com',\n",
       " 'Advait',\n",
       " '5.56',\n",
       " 'BPA',\n",
       " 'P.Pharm',\n",
       " 'H_Pharm',\n",
       " 'Ritik',\n",
       " 'B.B.Arch',\n",
       " 'Mthanya',\n",
       " 'Navya',\n",
       " 'B BA',\n",
       " 'CGPA',\n",
       " 'M.S',\n",
       " 'LCA',\n",
       " '7.06',\n",
       " 'B.Student',\n",
       " 'ACA',\n",
       " 'N.Pharm',\n",
       " 'Lata',\n",
       " 'Aarav',\n",
       " 'RCA',\n",
       " '0',\n",
       " '5.61',\n",
       " '5.88',\n",
       " 'E.Tech',\n",
       " 'Class 11',\n",
       " 'Doctor',\n",
       " 'M. Business Analyst',\n",
       " 'LLTech',\n",
       " 'Working Professional',\n",
       " '20',\n",
       " 'Plumber',\n",
       " 'Entrepreneur',\n",
       " 'Vivaan',\n",
       " 'M_Tech',\n",
       " 'LHM',\n",
       " 'Marsh',\n",
       " 'LLEd',\n",
       " '24',\n",
       " 'B.3.79',\n",
       " 'Bhavesh',\n",
       " 'B.03',\n",
       " 'Pihu',\n",
       " 'HR Manager',\n",
       " 'K.Ed',\n",
       " 'MTech',\n",
       " 'HCA',\n",
       " 'Vrinda',\n",
       " 'Unite',\n",
       " 'Brit',\n",
       " 'LL.Com',\n",
       " 'Data Scientist',\n",
       " 'MPA',\n",
       " 'BB',\n",
       " 'Business Analyst',\n",
       " 'BH']"
      ]
     },
     "execution_count": 38,
     "metadata": {},
     "output_type": "execute_result"
    }
   ],
   "source": [
    "ls_degree_others_col = list(controlling_degree_col[controlling_degree_col['counts']<5]['items'])\n",
    "ls_degree_others_col[-1] = str(float(0))\n",
    "ls_degree_others_col.remove('0.0')\n",
    "ls_degree_others_col\n"
   ]
  },
  {
   "cell_type": "code",
   "execution_count": 39,
   "id": "d934dd05",
   "metadata": {
    "scrolled": false
   },
   "outputs": [
    {
     "data": {
      "text/plain": [
       "Degree\n",
       "Class 12    14729\n",
       "B.Ed        11691\n",
       "B.Arch       8742\n",
       "B.Com        8113\n",
       "B.Pharm      5856\n",
       "BCA          5739\n",
       "M.Ed         5668\n",
       "MCA          5234\n",
       "BBA          5030\n",
       "BSc          5027\n",
       "MSc          4879\n",
       "LLM          4647\n",
       "M.Pharm      4537\n",
       "M.Tech       4475\n",
       "B.Tech       4425\n",
       "LLB          4348\n",
       "BHM          4305\n",
       "MBA          3818\n",
       "BA           3750\n",
       "ME           3632\n",
       "MD           3383\n",
       "MHM          3286\n",
       "BE           3104\n",
       "PhD          3103\n",
       "M.Com        3094\n",
       "MBBS         3082\n",
       "MA           2887\n",
       "Others        109\n",
       "M.Arch          5\n",
       "Name: count, dtype: int64"
      ]
     },
     "execution_count": 39,
     "metadata": {},
     "output_type": "execute_result"
    }
   ],
   "source": [
    "filtered_degree_col = rm_rpl_ser_items(ls_degree_others_col, train_df['Degree'], other)\n",
    "filtered_degree_col.value_counts()"
   ]
  },
  {
   "cell_type": "markdown",
   "id": "b63aa18a",
   "metadata": {},
   "source": [
    "### Finalizing the final dataset"
   ]
  },
  {
   "cell_type": "code",
   "execution_count": 40,
   "id": "78b29911",
   "metadata": {},
   "outputs": [],
   "source": [
    "# new dataset after cleaning the dataset\n",
    "new_df = {\"Gender\":train_df['Gender'].values,\n",
    "          \"Age\":train_df['Age'].values,\n",
    "          \"City\":filtered_city_col,\n",
    "          \"Worker Professional/Student\":train_df['Working Professional or Student'].values,\n",
    "          \"Profession\":filtered_profession_col,\n",
    "          \"Academic Pressure\":train_df['Academic Pressure'].values,\n",
    "          \"Work Pressure\":train_df['Work Pressure'].values,\n",
    "          \"CGPA\":train_df['CGPA'].values,\n",
    "          \"Study Satisifaction\":train_df['Study Satisfaction'].values,\n",
    "          \"Job Satisfaction\":train_df['Job Satisfaction'].values,\n",
    "          \"Sleep Duration\":filtered_sleep_duration_col,\n",
    "          \"Dietary Habits\":filtered_diet_col,\n",
    "          \"Degree\":filtered_degree_col,\n",
    "          \"Suicidal Thoughts?\":train_df['Have you ever had suicidal thoughts ?'].values,\n",
    "          \"work/study Hours\":train_df['Work/Study Hours'].values,\n",
    "          \"Financial Stress\":train_df['Financial Stress'].values,\n",
    "          \"Heritage Illness\":train_df['Family History of Mental Illness'].values,\n",
    "          \"Depression\":train_df['Depression']}\n",
    "\n",
    "new_df = pd.DataFrame(new_df)\n",
    "new_df.name = \"Cleaned Mental Health Data\""
   ]
  },
  {
   "cell_type": "code",
   "execution_count": 41,
   "id": "0c3103de",
   "metadata": {},
   "outputs": [
    {
     "data": {
      "text/html": [
       "<div>\n",
       "<style scoped>\n",
       "    .dataframe tbody tr th:only-of-type {\n",
       "        vertical-align: middle;\n",
       "    }\n",
       "\n",
       "    .dataframe tbody tr th {\n",
       "        vertical-align: top;\n",
       "    }\n",
       "\n",
       "    .dataframe thead th {\n",
       "        text-align: right;\n",
       "    }\n",
       "</style>\n",
       "<table border=\"1\" class=\"dataframe\">\n",
       "  <thead>\n",
       "    <tr style=\"text-align: right;\">\n",
       "      <th></th>\n",
       "      <th>Gender</th>\n",
       "      <th>Age</th>\n",
       "      <th>City</th>\n",
       "      <th>Worker Professional/Student</th>\n",
       "      <th>Profession</th>\n",
       "      <th>Academic Pressure</th>\n",
       "      <th>Work Pressure</th>\n",
       "      <th>CGPA</th>\n",
       "      <th>Study Satisifaction</th>\n",
       "      <th>Job Satisfaction</th>\n",
       "      <th>Sleep Duration</th>\n",
       "      <th>Dietary Habits</th>\n",
       "      <th>Degree</th>\n",
       "      <th>Suicidal Thoughts?</th>\n",
       "      <th>work/study Hours</th>\n",
       "      <th>Financial Stress</th>\n",
       "      <th>Heritage Illness</th>\n",
       "      <th>Depression</th>\n",
       "    </tr>\n",
       "  </thead>\n",
       "  <tbody>\n",
       "    <tr>\n",
       "      <th>0</th>\n",
       "      <td>Female</td>\n",
       "      <td>49.0</td>\n",
       "      <td>Ludhiana</td>\n",
       "      <td>Working Professional</td>\n",
       "      <td>Chef</td>\n",
       "      <td>NaN</td>\n",
       "      <td>5.0</td>\n",
       "      <td>NaN</td>\n",
       "      <td>NaN</td>\n",
       "      <td>2.0</td>\n",
       "      <td>More than 8 hours</td>\n",
       "      <td>Healthy</td>\n",
       "      <td>BHM</td>\n",
       "      <td>No</td>\n",
       "      <td>1.0</td>\n",
       "      <td>2.0</td>\n",
       "      <td>No</td>\n",
       "      <td>0</td>\n",
       "    </tr>\n",
       "    <tr>\n",
       "      <th>1</th>\n",
       "      <td>Male</td>\n",
       "      <td>26.0</td>\n",
       "      <td>Varanasi</td>\n",
       "      <td>Working Professional</td>\n",
       "      <td>Teacher</td>\n",
       "      <td>NaN</td>\n",
       "      <td>4.0</td>\n",
       "      <td>NaN</td>\n",
       "      <td>NaN</td>\n",
       "      <td>3.0</td>\n",
       "      <td>Less than 5 hours</td>\n",
       "      <td>Unhealthy</td>\n",
       "      <td>LLB</td>\n",
       "      <td>Yes</td>\n",
       "      <td>7.0</td>\n",
       "      <td>3.0</td>\n",
       "      <td>No</td>\n",
       "      <td>1</td>\n",
       "    </tr>\n",
       "    <tr>\n",
       "      <th>2</th>\n",
       "      <td>Male</td>\n",
       "      <td>33.0</td>\n",
       "      <td>Visakhapatnam</td>\n",
       "      <td>Student</td>\n",
       "      <td>NaN</td>\n",
       "      <td>5.0</td>\n",
       "      <td>NaN</td>\n",
       "      <td>8.97</td>\n",
       "      <td>2.0</td>\n",
       "      <td>NaN</td>\n",
       "      <td>Between 5 - 9 Hours</td>\n",
       "      <td>Healthy</td>\n",
       "      <td>B.Pharm</td>\n",
       "      <td>Yes</td>\n",
       "      <td>3.0</td>\n",
       "      <td>1.0</td>\n",
       "      <td>No</td>\n",
       "      <td>1</td>\n",
       "    </tr>\n",
       "    <tr>\n",
       "      <th>3</th>\n",
       "      <td>Male</td>\n",
       "      <td>22.0</td>\n",
       "      <td>Mumbai</td>\n",
       "      <td>Working Professional</td>\n",
       "      <td>Teacher</td>\n",
       "      <td>NaN</td>\n",
       "      <td>5.0</td>\n",
       "      <td>NaN</td>\n",
       "      <td>NaN</td>\n",
       "      <td>1.0</td>\n",
       "      <td>Less than 5 hours</td>\n",
       "      <td>Moderate</td>\n",
       "      <td>BBA</td>\n",
       "      <td>Yes</td>\n",
       "      <td>10.0</td>\n",
       "      <td>1.0</td>\n",
       "      <td>Yes</td>\n",
       "      <td>1</td>\n",
       "    </tr>\n",
       "    <tr>\n",
       "      <th>4</th>\n",
       "      <td>Female</td>\n",
       "      <td>30.0</td>\n",
       "      <td>Kanpur</td>\n",
       "      <td>Working Professional</td>\n",
       "      <td>Business Analyst</td>\n",
       "      <td>NaN</td>\n",
       "      <td>1.0</td>\n",
       "      <td>NaN</td>\n",
       "      <td>NaN</td>\n",
       "      <td>1.0</td>\n",
       "      <td>Between 5 - 9 Hours</td>\n",
       "      <td>Unhealthy</td>\n",
       "      <td>BBA</td>\n",
       "      <td>Yes</td>\n",
       "      <td>9.0</td>\n",
       "      <td>4.0</td>\n",
       "      <td>Yes</td>\n",
       "      <td>0</td>\n",
       "    </tr>\n",
       "  </tbody>\n",
       "</table>\n",
       "</div>"
      ],
      "text/plain": [
       "   Gender   Age           City Worker Professional/Student        Profession  \\\n",
       "0  Female  49.0       Ludhiana        Working Professional              Chef   \n",
       "1    Male  26.0       Varanasi        Working Professional           Teacher   \n",
       "2    Male  33.0  Visakhapatnam                     Student               NaN   \n",
       "3    Male  22.0         Mumbai        Working Professional           Teacher   \n",
       "4  Female  30.0         Kanpur        Working Professional  Business Analyst   \n",
       "\n",
       "   Academic Pressure  Work Pressure  CGPA  Study Satisifaction  \\\n",
       "0                NaN            5.0   NaN                  NaN   \n",
       "1                NaN            4.0   NaN                  NaN   \n",
       "2                5.0            NaN  8.97                  2.0   \n",
       "3                NaN            5.0   NaN                  NaN   \n",
       "4                NaN            1.0   NaN                  NaN   \n",
       "\n",
       "   Job Satisfaction       Sleep Duration Dietary Habits   Degree  \\\n",
       "0               2.0    More than 8 hours        Healthy      BHM   \n",
       "1               3.0    Less than 5 hours      Unhealthy      LLB   \n",
       "2               NaN  Between 5 - 9 Hours        Healthy  B.Pharm   \n",
       "3               1.0    Less than 5 hours       Moderate      BBA   \n",
       "4               1.0  Between 5 - 9 Hours      Unhealthy      BBA   \n",
       "\n",
       "  Suicidal Thoughts?  work/study Hours  Financial Stress Heritage Illness  \\\n",
       "0                 No               1.0               2.0               No   \n",
       "1                Yes               7.0               3.0               No   \n",
       "2                Yes               3.0               1.0               No   \n",
       "3                Yes              10.0               1.0              Yes   \n",
       "4                Yes               9.0               4.0              Yes   \n",
       "\n",
       "   Depression  \n",
       "0           0  \n",
       "1           1  \n",
       "2           1  \n",
       "3           1  \n",
       "4           0  "
      ]
     },
     "execution_count": 41,
     "metadata": {},
     "output_type": "execute_result"
    }
   ],
   "source": [
    "new_df.head(5)"
   ]
  },
  {
   "cell_type": "markdown",
   "id": "950b6871",
   "metadata": {},
   "source": [
    "## Filling All NULL Values with Zero"
   ]
  },
  {
   "cell_type": "code",
   "execution_count": 42,
   "id": "990d3124",
   "metadata": {},
   "outputs": [],
   "source": [
    "# Lets fill all the null values with zero\n",
    "new_df.fillna(0,inplace=True)"
   ]
  },
  {
   "cell_type": "code",
   "execution_count": 43,
   "id": "bbf4a7a1",
   "metadata": {},
   "outputs": [
    {
     "data": {
      "text/html": [
       "<div>\n",
       "<style scoped>\n",
       "    .dataframe tbody tr th:only-of-type {\n",
       "        vertical-align: middle;\n",
       "    }\n",
       "\n",
       "    .dataframe tbody tr th {\n",
       "        vertical-align: top;\n",
       "    }\n",
       "\n",
       "    .dataframe thead th {\n",
       "        text-align: right;\n",
       "    }\n",
       "</style>\n",
       "<table border=\"1\" class=\"dataframe\">\n",
       "  <thead>\n",
       "    <tr style=\"text-align: right;\">\n",
       "      <th></th>\n",
       "      <th>Gender</th>\n",
       "      <th>Age</th>\n",
       "      <th>City</th>\n",
       "      <th>Worker Professional/Student</th>\n",
       "      <th>Profession</th>\n",
       "      <th>Academic Pressure</th>\n",
       "      <th>Work Pressure</th>\n",
       "      <th>CGPA</th>\n",
       "      <th>Study Satisifaction</th>\n",
       "      <th>Job Satisfaction</th>\n",
       "      <th>Sleep Duration</th>\n",
       "      <th>Dietary Habits</th>\n",
       "      <th>Degree</th>\n",
       "      <th>Suicidal Thoughts?</th>\n",
       "      <th>work/study Hours</th>\n",
       "      <th>Financial Stress</th>\n",
       "      <th>Heritage Illness</th>\n",
       "      <th>Depression</th>\n",
       "    </tr>\n",
       "  </thead>\n",
       "  <tbody>\n",
       "    <tr>\n",
       "      <th>0</th>\n",
       "      <td>Female</td>\n",
       "      <td>49.0</td>\n",
       "      <td>Ludhiana</td>\n",
       "      <td>Working Professional</td>\n",
       "      <td>Chef</td>\n",
       "      <td>0.0</td>\n",
       "      <td>5.0</td>\n",
       "      <td>0.00</td>\n",
       "      <td>0.0</td>\n",
       "      <td>2.0</td>\n",
       "      <td>More than 8 hours</td>\n",
       "      <td>Healthy</td>\n",
       "      <td>BHM</td>\n",
       "      <td>No</td>\n",
       "      <td>1.0</td>\n",
       "      <td>2.0</td>\n",
       "      <td>No</td>\n",
       "      <td>0</td>\n",
       "    </tr>\n",
       "    <tr>\n",
       "      <th>1</th>\n",
       "      <td>Male</td>\n",
       "      <td>26.0</td>\n",
       "      <td>Varanasi</td>\n",
       "      <td>Working Professional</td>\n",
       "      <td>Teacher</td>\n",
       "      <td>0.0</td>\n",
       "      <td>4.0</td>\n",
       "      <td>0.00</td>\n",
       "      <td>0.0</td>\n",
       "      <td>3.0</td>\n",
       "      <td>Less than 5 hours</td>\n",
       "      <td>Unhealthy</td>\n",
       "      <td>LLB</td>\n",
       "      <td>Yes</td>\n",
       "      <td>7.0</td>\n",
       "      <td>3.0</td>\n",
       "      <td>No</td>\n",
       "      <td>1</td>\n",
       "    </tr>\n",
       "    <tr>\n",
       "      <th>2</th>\n",
       "      <td>Male</td>\n",
       "      <td>33.0</td>\n",
       "      <td>Visakhapatnam</td>\n",
       "      <td>Student</td>\n",
       "      <td>0</td>\n",
       "      <td>5.0</td>\n",
       "      <td>0.0</td>\n",
       "      <td>8.97</td>\n",
       "      <td>2.0</td>\n",
       "      <td>0.0</td>\n",
       "      <td>Between 5 - 9 Hours</td>\n",
       "      <td>Healthy</td>\n",
       "      <td>B.Pharm</td>\n",
       "      <td>Yes</td>\n",
       "      <td>3.0</td>\n",
       "      <td>1.0</td>\n",
       "      <td>No</td>\n",
       "      <td>1</td>\n",
       "    </tr>\n",
       "    <tr>\n",
       "      <th>3</th>\n",
       "      <td>Male</td>\n",
       "      <td>22.0</td>\n",
       "      <td>Mumbai</td>\n",
       "      <td>Working Professional</td>\n",
       "      <td>Teacher</td>\n",
       "      <td>0.0</td>\n",
       "      <td>5.0</td>\n",
       "      <td>0.00</td>\n",
       "      <td>0.0</td>\n",
       "      <td>1.0</td>\n",
       "      <td>Less than 5 hours</td>\n",
       "      <td>Moderate</td>\n",
       "      <td>BBA</td>\n",
       "      <td>Yes</td>\n",
       "      <td>10.0</td>\n",
       "      <td>1.0</td>\n",
       "      <td>Yes</td>\n",
       "      <td>1</td>\n",
       "    </tr>\n",
       "    <tr>\n",
       "      <th>4</th>\n",
       "      <td>Female</td>\n",
       "      <td>30.0</td>\n",
       "      <td>Kanpur</td>\n",
       "      <td>Working Professional</td>\n",
       "      <td>Business Analyst</td>\n",
       "      <td>0.0</td>\n",
       "      <td>1.0</td>\n",
       "      <td>0.00</td>\n",
       "      <td>0.0</td>\n",
       "      <td>1.0</td>\n",
       "      <td>Between 5 - 9 Hours</td>\n",
       "      <td>Unhealthy</td>\n",
       "      <td>BBA</td>\n",
       "      <td>Yes</td>\n",
       "      <td>9.0</td>\n",
       "      <td>4.0</td>\n",
       "      <td>Yes</td>\n",
       "      <td>0</td>\n",
       "    </tr>\n",
       "  </tbody>\n",
       "</table>\n",
       "</div>"
      ],
      "text/plain": [
       "   Gender   Age           City Worker Professional/Student        Profession  \\\n",
       "0  Female  49.0       Ludhiana        Working Professional              Chef   \n",
       "1    Male  26.0       Varanasi        Working Professional           Teacher   \n",
       "2    Male  33.0  Visakhapatnam                     Student                 0   \n",
       "3    Male  22.0         Mumbai        Working Professional           Teacher   \n",
       "4  Female  30.0         Kanpur        Working Professional  Business Analyst   \n",
       "\n",
       "   Academic Pressure  Work Pressure  CGPA  Study Satisifaction  \\\n",
       "0                0.0            5.0  0.00                  0.0   \n",
       "1                0.0            4.0  0.00                  0.0   \n",
       "2                5.0            0.0  8.97                  2.0   \n",
       "3                0.0            5.0  0.00                  0.0   \n",
       "4                0.0            1.0  0.00                  0.0   \n",
       "\n",
       "   Job Satisfaction       Sleep Duration Dietary Habits   Degree  \\\n",
       "0               2.0    More than 8 hours        Healthy      BHM   \n",
       "1               3.0    Less than 5 hours      Unhealthy      LLB   \n",
       "2               0.0  Between 5 - 9 Hours        Healthy  B.Pharm   \n",
       "3               1.0    Less than 5 hours       Moderate      BBA   \n",
       "4               1.0  Between 5 - 9 Hours      Unhealthy      BBA   \n",
       "\n",
       "  Suicidal Thoughts?  work/study Hours  Financial Stress Heritage Illness  \\\n",
       "0                 No               1.0               2.0               No   \n",
       "1                Yes               7.0               3.0               No   \n",
       "2                Yes               3.0               1.0               No   \n",
       "3                Yes              10.0               1.0              Yes   \n",
       "4                Yes               9.0               4.0              Yes   \n",
       "\n",
       "   Depression  \n",
       "0           0  \n",
       "1           1  \n",
       "2           1  \n",
       "3           1  \n",
       "4           0  "
      ]
     },
     "execution_count": 43,
     "metadata": {},
     "output_type": "execute_result"
    }
   ],
   "source": [
    "new_df.head(5)"
   ]
  },
  {
   "cell_type": "markdown",
   "id": "a3707195",
   "metadata": {},
   "source": [
    "### Again showing the uniqueness to check everything is allright"
   ]
  },
  {
   "cell_type": "code",
   "execution_count": 44,
   "id": "dcd6ace1",
   "metadata": {},
   "outputs": [
    {
     "name": "stdout",
     "output_type": "stream",
     "text": [
      "Unique features in Cleaned Mental Health Data\n",
      "Gender : 2\n",
      "Age : 43\n",
      "City : 31\n",
      "Worker Professional/Student : 2\n",
      "Profession : 43\n",
      "Academic Pressure : 6\n",
      "Work Pressure : 6\n",
      "CGPA : 332\n",
      "Study Satisifaction : 6\n",
      "Job Satisfaction : 6\n",
      "Sleep Duration : 4\n",
      "Dietary Habits : 5\n",
      "Degree : 30\n",
      "Suicidal Thoughts? : 2\n",
      "work/study Hours : 13\n",
      "Financial Stress : 6\n",
      "Heritage Illness : 2\n",
      "Depression : 2\n"
     ]
    }
   ],
   "source": [
    "features_nunique(new_df)"
   ]
  },
  {
   "cell_type": "code",
   "execution_count": 45,
   "id": "88972c4b",
   "metadata": {
    "scrolled": false
   },
   "outputs": [
    {
     "name": "stdout",
     "output_type": "stream",
     "text": [
      "Unique features in Cleaned Mental Health Data\n",
      "Gender : ['Female' 'Male']\n",
      "Age : [49. 26. 33. 22. 30. 59. 47. 38. 24. 42. 55. 51. 39. 29. 50. 23. 56. 45.\n",
      " 37. 46. 31. 19. 28. 25. 41. 60. 18. 36. 21. 58. 44. 43. 40. 35. 54. 27.\n",
      " 52. 48. 57. 53. 34. 20. 32.]\n",
      "City : ['Ludhiana' 'Varanasi' 'Visakhapatnam' 'Mumbai' 'Kanpur' 'Ahmedabad'\n",
      " 'Thane' 'Nashik' 'Bangalore' 'Patna' 'Rajkot' 'Jaipur' 'Pune' 'Lucknow'\n",
      " 'Meerut' 'Agra' 'Surat' 'Faridabad' 'Hyderabad' 'Srinagar' 'Ghaziabad'\n",
      " 'Kolkata' 'Chennai' 'Kalyan' 'Nagpur' 'Vadodara' 'Vasai-Virar' 'Delhi'\n",
      " 'Bhopal' 'Indore' 'Others']\n",
      "Worker Professional/Student : ['Working Professional' 'Student']\n",
      "Profession : ['Chef' 'Teacher' 0 'Business Analyst' 'Finanancial Analyst' 'Chemist'\n",
      " 'Electrician' 'Software Engineer' 'Data Scientist' 'Plumber'\n",
      " 'Marketing Manager' 'Accountant' 'Entrepreneur' 'HR Manager'\n",
      " 'UX/UI Designer' 'Content Writer' 'Educational Consultant'\n",
      " 'Civil Engineer' 'Manager' 'Pharmacist' 'Financial Analyst' 'Architect'\n",
      " 'Mechanical Engineer' 'Customer Support' 'Consultant' 'Judge'\n",
      " 'Researcher' 'Pilot' 'Graphic Designer' 'Travel Consultant'\n",
      " 'Digital Marketer' 'Lawyer' 'Research Analyst' 'Sales Executive' 'Doctor'\n",
      " 'Others' 'Investment Banker' 'Family Consultant' 'Student' 'FamilyVirar'\n",
      " 'City Manager' 'Medical Doctor' 'Analyst']\n",
      "Academic Pressure : [0. 5. 2. 3. 4. 1.]\n",
      "Work Pressure : [5. 4. 0. 1. 2. 3.]\n",
      "CGPA : [ 0.      8.97    5.9     7.03    5.59    8.13    5.7     9.54    8.04\n",
      "  9.79    8.38    6.1     7.04    8.52    5.64    8.58    6.51    7.25\n",
      "  7.83    9.93    8.74    6.73    5.57    8.59    7.1     6.08    5.74\n",
      "  9.86    6.7     6.21    5.87    6.37    9.72    5.88    9.56    6.99\n",
      "  5.24    9.21    7.85    6.95    5.86    7.92    9.66    8.94    9.71\n",
      "  7.87    5.6     7.9     5.46    6.79    8.7     7.38    8.5     7.09\n",
      "  9.82    8.89    7.94    9.11    6.75    7.53    9.49    9.01    7.64\n",
      "  5.27    6.      9.44    5.75    7.51    9.05    6.38    8.95    9.88\n",
      "  5.32    6.27    7.7     8.1     9.59    8.96    5.51    7.43    8.79\n",
      "  9.95    5.37    6.86    8.32    9.74    5.66    7.48    8.23    8.81\n",
      "  6.03    5.56    5.68    5.14    7.61    6.17    8.17    9.87    8.75\n",
      "  6.16    9.5     7.99    5.67    8.92    6.19    5.76    6.25    5.11\n",
      "  5.58    5.65    9.89    8.03    6.61    9.41    8.64    7.21    8.28\n",
      "  6.04    9.13    8.08    9.96    5.12    8.35    7.07    9.6     9.24\n",
      "  8.54    8.78    8.93    8.91    9.04    6.83    5.85    7.74    6.41\n",
      "  8.9     7.75    7.88    5.42    7.52    7.68    8.4     9.39    6.84\n",
      "  5.99    8.62    8.53    7.47    6.78    6.42    9.92    8.39    5.89\n",
      "  7.22    6.81    9.02    9.97    9.63    9.67    5.41    7.27    6.05\n",
      "  6.85    9.33    5.81    6.53    5.98    6.02    6.74    5.26    7.72\n",
      "  7.39    8.43    9.34    5.44    5.82    5.72    8.19    8.44    8.98\n",
      "  9.37    5.8     7.28    7.6     7.91    9.17    7.46    9.43    9.91\n",
      "  9.36    5.16    7.08    9.26    8.83   10.      7.8     9.46    6.63\n",
      "  7.24    6.47    7.77    5.06    7.17    8.24    6.88    9.03    5.08\n",
      "  5.45    8.46    9.19    6.36    8.73    7.11    9.12    9.4     8.11\n",
      "  9.98    5.55    8.61    8.14    6.89    9.84    5.48    8.21    7.82\n",
      "  8.55    5.79    8.77    8.29    6.92    7.37    9.7     6.26    7.26\n",
      "  7.5     6.82    7.15    5.77    5.91    5.1     7.71    9.06    5.71\n",
      "  5.84    9.42    6.23    6.29    5.25    9.69    9.9     6.39    8.09\n",
      "  5.83    5.47    6.56    8.71    9.94    6.69    5.52    7.3     7.02\n",
      "  6.33    8.07    8.37    8.      7.79    8.65    6.28    7.35    8.69\n",
      "  7.12    7.32    7.13    5.97    5.09    6.91    6.76    6.52    7.45\n",
      "  8.56    6.5     8.63    8.27    8.49    6.59    9.29    5.3     7.06\n",
      "  5.38    6.65    9.16    8.01    8.25    8.02    8.47    7.34    8.88\n",
      "  7.14    8.42    5.17    9.1     7.49    9.85    7.42    9.31    6.35\n",
      "  7.      5.39    5.61    9.78    9.25    5.69    9.47    8.16    7.23\n",
      "  6.46    8.26    6.32    6.77    8.85    5.03    7.65    5.78    6.24\n",
      "  5.35    6.06    7.78    6.64    7.0625  6.98    6.44    6.09  ]\n",
      "Study Satisifaction : [0. 2. 5. 3. 4. 1.]\n",
      "Job Satisfaction : [2. 3. 0. 1. 5. 4.]\n",
      "Sleep Duration : ['More than 8 hours' 'Less than 5 hours' 'Between 5 - 9 Hours' 'Others']\n",
      "Dietary Habits : ['Healthy' 'Unhealthy' 'Moderate' 'Others' 0]\n",
      "Degree : ['BHM' 'LLB' 'B.Pharm' 'BBA' 'MCA' 'MD' 'BSc' 'ME' 'B.Arch' 'BCA' 'BE'\n",
      " 'MA' 'B.Ed' 'B.Com' 'MBA' 'M.Com' 'MHM' 'BA' 'Class 12' 'M.Tech' 'PhD'\n",
      " 'M.Ed' 'MSc' 'B.Tech' 'LLM' 'MBBS' 'M.Pharm' 'Others' 'M.Arch' 0]\n",
      "Suicidal Thoughts? : ['No' 'Yes']\n",
      "work/study Hours : [ 1.  7.  3. 10.  9.  6.  8.  2.  0.  5. 12.  4. 11.]\n",
      "Financial Stress : [2. 3. 1. 4. 5. 0.]\n",
      "Heritage Illness : ['No' 'Yes']\n",
      "Depression : [0 1]\n"
     ]
    }
   ],
   "source": [
    "list_all_uniques(new_df)"
   ]
  },
  {
   "cell_type": "code",
   "execution_count": 46,
   "id": "a0ad0dad",
   "metadata": {},
   "outputs": [
    {
     "data": {
      "text/html": [
       "<div>\n",
       "<style scoped>\n",
       "    .dataframe tbody tr th:only-of-type {\n",
       "        vertical-align: middle;\n",
       "    }\n",
       "\n",
       "    .dataframe tbody tr th {\n",
       "        vertical-align: top;\n",
       "    }\n",
       "\n",
       "    .dataframe thead th {\n",
       "        text-align: right;\n",
       "    }\n",
       "</style>\n",
       "<table border=\"1\" class=\"dataframe\">\n",
       "  <thead>\n",
       "    <tr style=\"text-align: right;\">\n",
       "      <th></th>\n",
       "      <th>Gender</th>\n",
       "      <th>Age</th>\n",
       "      <th>City</th>\n",
       "      <th>Worker Professional/Student</th>\n",
       "      <th>Profession</th>\n",
       "      <th>Academic Pressure</th>\n",
       "      <th>Work Pressure</th>\n",
       "      <th>CGPA</th>\n",
       "      <th>Study Satisifaction</th>\n",
       "      <th>Job Satisfaction</th>\n",
       "      <th>Sleep Duration</th>\n",
       "      <th>Dietary Habits</th>\n",
       "      <th>Degree</th>\n",
       "      <th>Suicidal Thoughts?</th>\n",
       "      <th>work/study Hours</th>\n",
       "      <th>Financial Stress</th>\n",
       "      <th>Heritage Illness</th>\n",
       "      <th>Depression</th>\n",
       "    </tr>\n",
       "  </thead>\n",
       "  <tbody>\n",
       "    <tr>\n",
       "      <th>140690</th>\n",
       "      <td>Female</td>\n",
       "      <td>18.0</td>\n",
       "      <td>Ludhiana</td>\n",
       "      <td>Student</td>\n",
       "      <td>0</td>\n",
       "      <td>5.0</td>\n",
       "      <td>0.0</td>\n",
       "      <td>6.88</td>\n",
       "      <td>2.0</td>\n",
       "      <td>0.0</td>\n",
       "      <td>Less than 5 hours</td>\n",
       "      <td>Healthy</td>\n",
       "      <td>Class 12</td>\n",
       "      <td>Yes</td>\n",
       "      <td>10.0</td>\n",
       "      <td>5.0</td>\n",
       "      <td>No</td>\n",
       "      <td>1</td>\n",
       "    </tr>\n",
       "    <tr>\n",
       "      <th>140691</th>\n",
       "      <td>Female</td>\n",
       "      <td>57.0</td>\n",
       "      <td>Meerut</td>\n",
       "      <td>Working Professional</td>\n",
       "      <td>Teacher</td>\n",
       "      <td>0.0</td>\n",
       "      <td>1.0</td>\n",
       "      <td>0.00</td>\n",
       "      <td>0.0</td>\n",
       "      <td>1.0</td>\n",
       "      <td>Less than 5 hours</td>\n",
       "      <td>Moderate</td>\n",
       "      <td>B.Arch</td>\n",
       "      <td>Yes</td>\n",
       "      <td>4.0</td>\n",
       "      <td>5.0</td>\n",
       "      <td>Yes</td>\n",
       "      <td>0</td>\n",
       "    </tr>\n",
       "    <tr>\n",
       "      <th>140692</th>\n",
       "      <td>Male</td>\n",
       "      <td>49.0</td>\n",
       "      <td>Bhopal</td>\n",
       "      <td>Working Professional</td>\n",
       "      <td>Financial Analyst</td>\n",
       "      <td>0.0</td>\n",
       "      <td>4.0</td>\n",
       "      <td>0.00</td>\n",
       "      <td>0.0</td>\n",
       "      <td>1.0</td>\n",
       "      <td>Between 5 - 9 Hours</td>\n",
       "      <td>Moderate</td>\n",
       "      <td>MBA</td>\n",
       "      <td>No</td>\n",
       "      <td>9.0</td>\n",
       "      <td>1.0</td>\n",
       "      <td>No</td>\n",
       "      <td>0</td>\n",
       "    </tr>\n",
       "    <tr>\n",
       "      <th>140693</th>\n",
       "      <td>Male</td>\n",
       "      <td>55.0</td>\n",
       "      <td>Srinagar</td>\n",
       "      <td>Working Professional</td>\n",
       "      <td>Data Scientist</td>\n",
       "      <td>0.0</td>\n",
       "      <td>1.0</td>\n",
       "      <td>0.00</td>\n",
       "      <td>0.0</td>\n",
       "      <td>3.0</td>\n",
       "      <td>Less than 5 hours</td>\n",
       "      <td>Unhealthy</td>\n",
       "      <td>M.Tech</td>\n",
       "      <td>No</td>\n",
       "      <td>9.0</td>\n",
       "      <td>2.0</td>\n",
       "      <td>No</td>\n",
       "      <td>0</td>\n",
       "    </tr>\n",
       "    <tr>\n",
       "      <th>140694</th>\n",
       "      <td>Female</td>\n",
       "      <td>45.0</td>\n",
       "      <td>Ahmedabad</td>\n",
       "      <td>Working Professional</td>\n",
       "      <td>Teacher</td>\n",
       "      <td>0.0</td>\n",
       "      <td>2.0</td>\n",
       "      <td>0.00</td>\n",
       "      <td>0.0</td>\n",
       "      <td>5.0</td>\n",
       "      <td>Less than 5 hours</td>\n",
       "      <td>Moderate</td>\n",
       "      <td>B.Ed</td>\n",
       "      <td>Yes</td>\n",
       "      <td>1.0</td>\n",
       "      <td>5.0</td>\n",
       "      <td>No</td>\n",
       "      <td>0</td>\n",
       "    </tr>\n",
       "    <tr>\n",
       "      <th>140695</th>\n",
       "      <td>Female</td>\n",
       "      <td>18.0</td>\n",
       "      <td>Ahmedabad</td>\n",
       "      <td>Working Professional</td>\n",
       "      <td>0</td>\n",
       "      <td>0.0</td>\n",
       "      <td>5.0</td>\n",
       "      <td>0.00</td>\n",
       "      <td>0.0</td>\n",
       "      <td>4.0</td>\n",
       "      <td>Between 5 - 9 Hours</td>\n",
       "      <td>Unhealthy</td>\n",
       "      <td>Class 12</td>\n",
       "      <td>No</td>\n",
       "      <td>2.0</td>\n",
       "      <td>4.0</td>\n",
       "      <td>Yes</td>\n",
       "      <td>1</td>\n",
       "    </tr>\n",
       "    <tr>\n",
       "      <th>140696</th>\n",
       "      <td>Female</td>\n",
       "      <td>41.0</td>\n",
       "      <td>Hyderabad</td>\n",
       "      <td>Working Professional</td>\n",
       "      <td>Content Writer</td>\n",
       "      <td>0.0</td>\n",
       "      <td>5.0</td>\n",
       "      <td>0.00</td>\n",
       "      <td>0.0</td>\n",
       "      <td>4.0</td>\n",
       "      <td>Between 5 - 9 Hours</td>\n",
       "      <td>Moderate</td>\n",
       "      <td>B.Tech</td>\n",
       "      <td>Yes</td>\n",
       "      <td>6.0</td>\n",
       "      <td>5.0</td>\n",
       "      <td>Yes</td>\n",
       "      <td>0</td>\n",
       "    </tr>\n",
       "    <tr>\n",
       "      <th>140697</th>\n",
       "      <td>Female</td>\n",
       "      <td>24.0</td>\n",
       "      <td>Kolkata</td>\n",
       "      <td>Working Professional</td>\n",
       "      <td>Marketing Manager</td>\n",
       "      <td>0.0</td>\n",
       "      <td>3.0</td>\n",
       "      <td>0.00</td>\n",
       "      <td>0.0</td>\n",
       "      <td>1.0</td>\n",
       "      <td>More than 8 hours</td>\n",
       "      <td>Moderate</td>\n",
       "      <td>B.Com</td>\n",
       "      <td>No</td>\n",
       "      <td>4.0</td>\n",
       "      <td>4.0</td>\n",
       "      <td>No</td>\n",
       "      <td>0</td>\n",
       "    </tr>\n",
       "    <tr>\n",
       "      <th>140698</th>\n",
       "      <td>Female</td>\n",
       "      <td>49.0</td>\n",
       "      <td>Srinagar</td>\n",
       "      <td>Working Professional</td>\n",
       "      <td>Plumber</td>\n",
       "      <td>0.0</td>\n",
       "      <td>5.0</td>\n",
       "      <td>0.00</td>\n",
       "      <td>0.0</td>\n",
       "      <td>2.0</td>\n",
       "      <td>Between 5 - 9 Hours</td>\n",
       "      <td>Moderate</td>\n",
       "      <td>ME</td>\n",
       "      <td>Yes</td>\n",
       "      <td>10.0</td>\n",
       "      <td>1.0</td>\n",
       "      <td>No</td>\n",
       "      <td>0</td>\n",
       "    </tr>\n",
       "    <tr>\n",
       "      <th>140699</th>\n",
       "      <td>Male</td>\n",
       "      <td>27.0</td>\n",
       "      <td>Patna</td>\n",
       "      <td>Student</td>\n",
       "      <td>0</td>\n",
       "      <td>4.0</td>\n",
       "      <td>0.0</td>\n",
       "      <td>9.24</td>\n",
       "      <td>1.0</td>\n",
       "      <td>0.0</td>\n",
       "      <td>Less than 5 hours</td>\n",
       "      <td>Healthy</td>\n",
       "      <td>BCA</td>\n",
       "      <td>Yes</td>\n",
       "      <td>2.0</td>\n",
       "      <td>3.0</td>\n",
       "      <td>Yes</td>\n",
       "      <td>1</td>\n",
       "    </tr>\n",
       "  </tbody>\n",
       "</table>\n",
       "</div>"
      ],
      "text/plain": [
       "        Gender   Age       City Worker Professional/Student  \\\n",
       "140690  Female  18.0   Ludhiana                     Student   \n",
       "140691  Female  57.0     Meerut        Working Professional   \n",
       "140692    Male  49.0     Bhopal        Working Professional   \n",
       "140693    Male  55.0   Srinagar        Working Professional   \n",
       "140694  Female  45.0  Ahmedabad        Working Professional   \n",
       "140695  Female  18.0  Ahmedabad        Working Professional   \n",
       "140696  Female  41.0  Hyderabad        Working Professional   \n",
       "140697  Female  24.0    Kolkata        Working Professional   \n",
       "140698  Female  49.0   Srinagar        Working Professional   \n",
       "140699    Male  27.0      Patna                     Student   \n",
       "\n",
       "               Profession  Academic Pressure  Work Pressure  CGPA  \\\n",
       "140690                  0                5.0            0.0  6.88   \n",
       "140691            Teacher                0.0            1.0  0.00   \n",
       "140692  Financial Analyst                0.0            4.0  0.00   \n",
       "140693     Data Scientist                0.0            1.0  0.00   \n",
       "140694            Teacher                0.0            2.0  0.00   \n",
       "140695                  0                0.0            5.0  0.00   \n",
       "140696     Content Writer                0.0            5.0  0.00   \n",
       "140697  Marketing Manager                0.0            3.0  0.00   \n",
       "140698            Plumber                0.0            5.0  0.00   \n",
       "140699                  0                4.0            0.0  9.24   \n",
       "\n",
       "        Study Satisifaction  Job Satisfaction       Sleep Duration  \\\n",
       "140690                  2.0               0.0    Less than 5 hours   \n",
       "140691                  0.0               1.0    Less than 5 hours   \n",
       "140692                  0.0               1.0  Between 5 - 9 Hours   \n",
       "140693                  0.0               3.0    Less than 5 hours   \n",
       "140694                  0.0               5.0    Less than 5 hours   \n",
       "140695                  0.0               4.0  Between 5 - 9 Hours   \n",
       "140696                  0.0               4.0  Between 5 - 9 Hours   \n",
       "140697                  0.0               1.0    More than 8 hours   \n",
       "140698                  0.0               2.0  Between 5 - 9 Hours   \n",
       "140699                  1.0               0.0    Less than 5 hours   \n",
       "\n",
       "       Dietary Habits    Degree Suicidal Thoughts?  work/study Hours  \\\n",
       "140690        Healthy  Class 12                Yes              10.0   \n",
       "140691       Moderate    B.Arch                Yes               4.0   \n",
       "140692       Moderate       MBA                 No               9.0   \n",
       "140693      Unhealthy    M.Tech                 No               9.0   \n",
       "140694       Moderate      B.Ed                Yes               1.0   \n",
       "140695      Unhealthy  Class 12                 No               2.0   \n",
       "140696       Moderate    B.Tech                Yes               6.0   \n",
       "140697       Moderate     B.Com                 No               4.0   \n",
       "140698       Moderate        ME                Yes              10.0   \n",
       "140699        Healthy       BCA                Yes               2.0   \n",
       "\n",
       "        Financial Stress Heritage Illness  Depression  \n",
       "140690               5.0               No           1  \n",
       "140691               5.0              Yes           0  \n",
       "140692               1.0               No           0  \n",
       "140693               2.0               No           0  \n",
       "140694               5.0               No           0  \n",
       "140695               4.0              Yes           1  \n",
       "140696               5.0              Yes           0  \n",
       "140697               4.0               No           0  \n",
       "140698               1.0               No           0  \n",
       "140699               3.0              Yes           1  "
      ]
     },
     "execution_count": 46,
     "metadata": {},
     "output_type": "execute_result"
    }
   ],
   "source": [
    "new_df.tail(10)"
   ]
  },
  {
   "cell_type": "markdown",
   "id": "443f7335",
   "metadata": {},
   "source": [
    "### Duplicated"
   ]
  },
  {
   "cell_type": "markdown",
   "id": "7e17737c",
   "metadata": {},
   "source": [
    "Now lets find if there is any duplicates in the new dataframe"
   ]
  },
  {
   "cell_type": "code",
   "execution_count": 47,
   "id": "2e0e2e07",
   "metadata": {},
   "outputs": [
    {
     "data": {
      "text/plain": [
       "8"
      ]
     },
     "execution_count": 47,
     "metadata": {},
     "output_type": "execute_result"
    }
   ],
   "source": [
    "new_df.duplicated().sum()"
   ]
  },
  {
   "cell_type": "markdown",
   "id": "c19668f2",
   "metadata": {},
   "source": [
    "As you can see there are 8 duplicate field avialble here so we will drop them "
   ]
  },
  {
   "cell_type": "code",
   "execution_count": 48,
   "id": "b956d07f",
   "metadata": {},
   "outputs": [],
   "source": [
    "new_df.drop_duplicates(inplace=True)"
   ]
  },
  {
   "cell_type": "markdown",
   "id": "9b98b582",
   "metadata": {},
   "source": [
    "we Will check the dupllicates again if it really have dropped or not"
   ]
  },
  {
   "cell_type": "code",
   "execution_count": 49,
   "id": "07353881",
   "metadata": {},
   "outputs": [
    {
     "data": {
      "text/plain": [
       "0"
      ]
     },
     "execution_count": 49,
     "metadata": {},
     "output_type": "execute_result"
    }
   ],
   "source": [
    "new_df.duplicated().sum()"
   ]
  },
  {
   "cell_type": "markdown",
   "id": "c8c866ed",
   "metadata": {},
   "source": [
    "# Categorizing the Data"
   ]
  },
  {
   "cell_type": "code",
   "execution_count": 50,
   "id": "d7788310",
   "metadata": {},
   "outputs": [
    {
     "data": {
      "text/html": [
       "<div>\n",
       "<style scoped>\n",
       "    .dataframe tbody tr th:only-of-type {\n",
       "        vertical-align: middle;\n",
       "    }\n",
       "\n",
       "    .dataframe tbody tr th {\n",
       "        vertical-align: top;\n",
       "    }\n",
       "\n",
       "    .dataframe thead th {\n",
       "        text-align: right;\n",
       "    }\n",
       "</style>\n",
       "<table border=\"1\" class=\"dataframe\">\n",
       "  <thead>\n",
       "    <tr style=\"text-align: right;\">\n",
       "      <th></th>\n",
       "      <th>Gender</th>\n",
       "      <th>Age</th>\n",
       "      <th>City</th>\n",
       "      <th>Worker Professional/Student</th>\n",
       "      <th>Profession</th>\n",
       "      <th>Academic Pressure</th>\n",
       "      <th>Work Pressure</th>\n",
       "      <th>CGPA</th>\n",
       "      <th>Study Satisifaction</th>\n",
       "      <th>Job Satisfaction</th>\n",
       "      <th>Sleep Duration</th>\n",
       "      <th>Dietary Habits</th>\n",
       "      <th>Degree</th>\n",
       "      <th>Suicidal Thoughts?</th>\n",
       "      <th>work/study Hours</th>\n",
       "      <th>Financial Stress</th>\n",
       "      <th>Heritage Illness</th>\n",
       "      <th>Depression</th>\n",
       "    </tr>\n",
       "  </thead>\n",
       "  <tbody>\n",
       "    <tr>\n",
       "      <th>0</th>\n",
       "      <td>Female</td>\n",
       "      <td>49.0</td>\n",
       "      <td>Ludhiana</td>\n",
       "      <td>Working Professional</td>\n",
       "      <td>Chef</td>\n",
       "      <td>0.0</td>\n",
       "      <td>5.0</td>\n",
       "      <td>0.00</td>\n",
       "      <td>0.0</td>\n",
       "      <td>2.0</td>\n",
       "      <td>More than 8 hours</td>\n",
       "      <td>Healthy</td>\n",
       "      <td>BHM</td>\n",
       "      <td>No</td>\n",
       "      <td>1.0</td>\n",
       "      <td>2.0</td>\n",
       "      <td>No</td>\n",
       "      <td>0</td>\n",
       "    </tr>\n",
       "    <tr>\n",
       "      <th>1</th>\n",
       "      <td>Male</td>\n",
       "      <td>26.0</td>\n",
       "      <td>Varanasi</td>\n",
       "      <td>Working Professional</td>\n",
       "      <td>Teacher</td>\n",
       "      <td>0.0</td>\n",
       "      <td>4.0</td>\n",
       "      <td>0.00</td>\n",
       "      <td>0.0</td>\n",
       "      <td>3.0</td>\n",
       "      <td>Less than 5 hours</td>\n",
       "      <td>Unhealthy</td>\n",
       "      <td>LLB</td>\n",
       "      <td>Yes</td>\n",
       "      <td>7.0</td>\n",
       "      <td>3.0</td>\n",
       "      <td>No</td>\n",
       "      <td>1</td>\n",
       "    </tr>\n",
       "    <tr>\n",
       "      <th>2</th>\n",
       "      <td>Male</td>\n",
       "      <td>33.0</td>\n",
       "      <td>Visakhapatnam</td>\n",
       "      <td>Student</td>\n",
       "      <td>0</td>\n",
       "      <td>5.0</td>\n",
       "      <td>0.0</td>\n",
       "      <td>8.97</td>\n",
       "      <td>2.0</td>\n",
       "      <td>0.0</td>\n",
       "      <td>Between 5 - 9 Hours</td>\n",
       "      <td>Healthy</td>\n",
       "      <td>B.Pharm</td>\n",
       "      <td>Yes</td>\n",
       "      <td>3.0</td>\n",
       "      <td>1.0</td>\n",
       "      <td>No</td>\n",
       "      <td>1</td>\n",
       "    </tr>\n",
       "    <tr>\n",
       "      <th>3</th>\n",
       "      <td>Male</td>\n",
       "      <td>22.0</td>\n",
       "      <td>Mumbai</td>\n",
       "      <td>Working Professional</td>\n",
       "      <td>Teacher</td>\n",
       "      <td>0.0</td>\n",
       "      <td>5.0</td>\n",
       "      <td>0.00</td>\n",
       "      <td>0.0</td>\n",
       "      <td>1.0</td>\n",
       "      <td>Less than 5 hours</td>\n",
       "      <td>Moderate</td>\n",
       "      <td>BBA</td>\n",
       "      <td>Yes</td>\n",
       "      <td>10.0</td>\n",
       "      <td>1.0</td>\n",
       "      <td>Yes</td>\n",
       "      <td>1</td>\n",
       "    </tr>\n",
       "    <tr>\n",
       "      <th>4</th>\n",
       "      <td>Female</td>\n",
       "      <td>30.0</td>\n",
       "      <td>Kanpur</td>\n",
       "      <td>Working Professional</td>\n",
       "      <td>Business Analyst</td>\n",
       "      <td>0.0</td>\n",
       "      <td>1.0</td>\n",
       "      <td>0.00</td>\n",
       "      <td>0.0</td>\n",
       "      <td>1.0</td>\n",
       "      <td>Between 5 - 9 Hours</td>\n",
       "      <td>Unhealthy</td>\n",
       "      <td>BBA</td>\n",
       "      <td>Yes</td>\n",
       "      <td>9.0</td>\n",
       "      <td>4.0</td>\n",
       "      <td>Yes</td>\n",
       "      <td>0</td>\n",
       "    </tr>\n",
       "  </tbody>\n",
       "</table>\n",
       "</div>"
      ],
      "text/plain": [
       "   Gender   Age           City Worker Professional/Student        Profession  \\\n",
       "0  Female  49.0       Ludhiana        Working Professional              Chef   \n",
       "1    Male  26.0       Varanasi        Working Professional           Teacher   \n",
       "2    Male  33.0  Visakhapatnam                     Student                 0   \n",
       "3    Male  22.0         Mumbai        Working Professional           Teacher   \n",
       "4  Female  30.0         Kanpur        Working Professional  Business Analyst   \n",
       "\n",
       "   Academic Pressure  Work Pressure  CGPA  Study Satisifaction  \\\n",
       "0                0.0            5.0  0.00                  0.0   \n",
       "1                0.0            4.0  0.00                  0.0   \n",
       "2                5.0            0.0  8.97                  2.0   \n",
       "3                0.0            5.0  0.00                  0.0   \n",
       "4                0.0            1.0  0.00                  0.0   \n",
       "\n",
       "   Job Satisfaction       Sleep Duration Dietary Habits   Degree  \\\n",
       "0               2.0    More than 8 hours        Healthy      BHM   \n",
       "1               3.0    Less than 5 hours      Unhealthy      LLB   \n",
       "2               0.0  Between 5 - 9 Hours        Healthy  B.Pharm   \n",
       "3               1.0    Less than 5 hours       Moderate      BBA   \n",
       "4               1.0  Between 5 - 9 Hours      Unhealthy      BBA   \n",
       "\n",
       "  Suicidal Thoughts?  work/study Hours  Financial Stress Heritage Illness  \\\n",
       "0                 No               1.0               2.0               No   \n",
       "1                Yes               7.0               3.0               No   \n",
       "2                Yes               3.0               1.0               No   \n",
       "3                Yes              10.0               1.0              Yes   \n",
       "4                Yes               9.0               4.0              Yes   \n",
       "\n",
       "   Depression  \n",
       "0           0  \n",
       "1           1  \n",
       "2           1  \n",
       "3           1  \n",
       "4           0  "
      ]
     },
     "execution_count": 50,
     "metadata": {},
     "output_type": "execute_result"
    }
   ],
   "source": [
    "new_df.head(5)"
   ]
  },
  {
   "cell_type": "markdown",
   "id": "2702a961",
   "metadata": {},
   "source": [
    "## Label Encoding the Column Features"
   ]
  },
  {
   "cell_type": "markdown",
   "id": "bf28fd9d",
   "metadata": {},
   "source": [
    " ### Gender Column"
   ]
  },
  {
   "cell_type": "code",
   "execution_count": 51,
   "id": "9981f0fa",
   "metadata": {},
   "outputs": [
    {
     "data": {
      "text/plain": [
       "array(['Female', 'Male'], dtype=object)"
      ]
     },
     "execution_count": 51,
     "metadata": {},
     "output_type": "execute_result"
    }
   ],
   "source": [
    "new_df['Gender'].unique()"
   ]
  },
  {
   "cell_type": "code",
   "execution_count": 52,
   "id": "a26d0784",
   "metadata": {},
   "outputs": [
    {
     "data": {
      "text/plain": [
       "array([0, 1], dtype=int64)"
      ]
     },
     "execution_count": 52,
     "metadata": {},
     "output_type": "execute_result"
    }
   ],
   "source": [
    "# Custom naming the gender column\n",
    "gender = {'Female':0,'Male':1}\n",
    "new_df['Gender'] = new_df['Gender'].map(gender)\n",
    "new_df['Gender'].unique()"
   ]
  },
  {
   "cell_type": "markdown",
   "id": "1d3e3e65",
   "metadata": {},
   "source": [
    "### Age Column"
   ]
  },
  {
   "cell_type": "code",
   "execution_count": 53,
   "id": "19ab9b88",
   "metadata": {},
   "outputs": [
    {
     "data": {
      "text/plain": [
       "array([49., 26., 33., 22., 30., 59., 47., 38., 24., 42., 55., 51., 39.,\n",
       "       29., 50., 23., 56., 45., 37., 46., 31., 19., 28., 25., 41., 60.,\n",
       "       18., 36., 21., 58., 44., 43., 40., 35., 54., 27., 52., 48., 57.,\n",
       "       53., 34., 20., 32.])"
      ]
     },
     "execution_count": 53,
     "metadata": {},
     "output_type": "execute_result"
    }
   ],
   "source": [
    "new_df['Age'].unique()"
   ]
  },
  {
   "cell_type": "markdown",
   "id": "0d774f93",
   "metadata": {},
   "source": [
    "I think I'll standardize/normlaize the `Age` column, because i think though they are given they might negatively affect my data."
   ]
  },
  {
   "cell_type": "markdown",
   "id": "2fb72d85",
   "metadata": {},
   "source": [
    "### City Column"
   ]
  },
  {
   "cell_type": "code",
   "execution_count": 54,
   "id": "1ac2a1a6",
   "metadata": {},
   "outputs": [
    {
     "data": {
      "text/plain": [
       "array(['Ludhiana', 'Varanasi', 'Visakhapatnam', 'Mumbai', 'Kanpur',\n",
       "       'Ahmedabad', 'Thane', 'Nashik', 'Bangalore', 'Patna', 'Rajkot',\n",
       "       'Jaipur', 'Pune', 'Lucknow', 'Meerut', 'Agra', 'Surat',\n",
       "       'Faridabad', 'Hyderabad', 'Srinagar', 'Ghaziabad', 'Kolkata',\n",
       "       'Chennai', 'Kalyan', 'Nagpur', 'Vadodara', 'Vasai-Virar', 'Delhi',\n",
       "       'Bhopal', 'Indore', 'Others'], dtype=object)"
      ]
     },
     "execution_count": 54,
     "metadata": {},
     "output_type": "execute_result"
    }
   ],
   "source": [
    "new_df['City'].unique()"
   ]
  },
  {
   "cell_type": "code",
   "execution_count": 55,
   "id": "d4c2a58f",
   "metadata": {
    "scrolled": true
   },
   "outputs": [
    {
     "name": "stdout",
     "output_type": "stream",
     "text": [
      "['Ludhiana', 'Varanasi', 'Visakhapatnam', 'Mumbai', 'Kanpur', 'Ahmedabad', 'Thane', 'Nashik', 'Bangalore', 'Patna', 'Rajkot', 'Jaipur', 'Pune', 'Lucknow', 'Meerut', 'Agra', 'Surat', 'Faridabad', 'Hyderabad', 'Srinagar', 'Ghaziabad', 'Kolkata', 'Chennai', 'Kalyan', 'Nagpur', 'Vadodara', 'Vasai-Virar', 'Delhi', 'Bhopal', 'Indore', 'Others']\n"
     ]
    }
   ],
   "source": [
    "City = list(new_df['City'].unique())\n",
    "print(City)"
   ]
  },
  {
   "cell_type": "code",
   "execution_count": 56,
   "id": "882115fd",
   "metadata": {
    "scrolled": true
   },
   "outputs": [
    {
     "data": {
      "text/plain": [
       "array([ 0,  1,  2,  3,  4,  5,  6,  7,  8,  9, 10, 11, 12, 13, 14, 15, 16,\n",
       "       17, 18, 19, 20, 21, 22, 23, 24, 25, 26, 27, 28, 29, 30])"
      ]
     },
     "execution_count": 56,
     "metadata": {},
     "output_type": "execute_result"
    }
   ],
   "source": [
    "city_no = np.arange(0,len(City))\n",
    "city_no"
   ]
  },
  {
   "cell_type": "code",
   "execution_count": 57,
   "id": "3b38c4e2",
   "metadata": {
    "scrolled": false
   },
   "outputs": [
    {
     "data": {
      "text/plain": [
       "{'Ludhiana': 0,\n",
       " 'Varanasi': 1,\n",
       " 'Visakhapatnam': 2,\n",
       " 'Mumbai': 3,\n",
       " 'Kanpur': 4,\n",
       " 'Ahmedabad': 5,\n",
       " 'Thane': 6,\n",
       " 'Nashik': 7,\n",
       " 'Bangalore': 8,\n",
       " 'Patna': 9,\n",
       " 'Rajkot': 10,\n",
       " 'Jaipur': 11,\n",
       " 'Pune': 12,\n",
       " 'Lucknow': 13,\n",
       " 'Meerut': 14,\n",
       " 'Agra': 15,\n",
       " 'Surat': 16,\n",
       " 'Faridabad': 17,\n",
       " 'Hyderabad': 18,\n",
       " 'Srinagar': 19,\n",
       " 'Ghaziabad': 20,\n",
       " 'Kolkata': 21,\n",
       " 'Chennai': 22,\n",
       " 'Kalyan': 23,\n",
       " 'Nagpur': 24,\n",
       " 'Vadodara': 25,\n",
       " 'Vasai-Virar': 26,\n",
       " 'Delhi': 27,\n",
       " 'Bhopal': 28,\n",
       " 'Indore': 29,\n",
       " 'Others': 30}"
      ]
     },
     "execution_count": 57,
     "metadata": {},
     "output_type": "execute_result"
    }
   ],
   "source": [
    "city_encoder = {}\n",
    "for i,j in zip(City,city_no):\n",
    "    city_encoder[i]=j\n",
    "city_encoder\n"
   ]
  },
  {
   "cell_type": "code",
   "execution_count": 58,
   "id": "ebf14001",
   "metadata": {},
   "outputs": [
    {
     "data": {
      "text/plain": [
       "0          0\n",
       "1          1\n",
       "2          2\n",
       "3          3\n",
       "4          4\n",
       "          ..\n",
       "140695     5\n",
       "140696    18\n",
       "140697    21\n",
       "140698    19\n",
       "140699     9\n",
       "Name: City, Length: 140692, dtype: int32"
      ]
     },
     "execution_count": 58,
     "metadata": {},
     "output_type": "execute_result"
    }
   ],
   "source": [
    "new_df['City'] = new_df['City'].map(city_encoder)\n",
    "new_df['City']"
   ]
  },
  {
   "cell_type": "markdown",
   "id": "c7e36c72",
   "metadata": {},
   "source": [
    "### Working Professional or Student Column"
   ]
  },
  {
   "cell_type": "code",
   "execution_count": 59,
   "id": "41c11e3d",
   "metadata": {},
   "outputs": [
    {
     "data": {
      "text/plain": [
       "0         1\n",
       "1         1\n",
       "2         0\n",
       "3         1\n",
       "4         1\n",
       "         ..\n",
       "140695    1\n",
       "140696    1\n",
       "140697    1\n",
       "140698    1\n",
       "140699    0\n",
       "Name: Worker Professional/Student, Length: 140692, dtype: int32"
      ]
     },
     "execution_count": 59,
     "metadata": {},
     "output_type": "execute_result"
    }
   ],
   "source": [
    "new_df['Worker Professional/Student'] = LabelEncoder().fit_transform(new_df['Worker Professional/Student'])\n",
    "new_df['Worker Professional/Student']"
   ]
  },
  {
   "cell_type": "markdown",
   "id": "37e957e7",
   "metadata": {},
   "source": [
    "### Profession Column"
   ]
  },
  {
   "cell_type": "code",
   "execution_count": 60,
   "id": "baa3eeff",
   "metadata": {},
   "outputs": [
    {
     "name": "stdout",
     "output_type": "stream",
     "text": [
      "43\n"
     ]
    }
   ],
   "source": [
    "profession = list(new_df['Profession'].unique())\n",
    "print(len(profession))"
   ]
  },
  {
   "cell_type": "code",
   "execution_count": 61,
   "id": "9e2a7cf0",
   "metadata": {},
   "outputs": [
    {
     "data": {
      "text/plain": [
       "array([ 0,  1,  2,  3,  4,  5,  6,  7,  8,  9, 10, 11, 12, 13, 14, 15, 16,\n",
       "       17, 18, 19, 20, 21, 22, 23, 24, 25, 26, 27, 28, 29, 30, 31, 32, 33,\n",
       "       34, 35, 36, 37, 38, 39, 40, 41, 42])"
      ]
     },
     "execution_count": 61,
     "metadata": {},
     "output_type": "execute_result"
    }
   ],
   "source": [
    "profession_no = np.arange(0,len(profession))\n",
    "profession_no"
   ]
  },
  {
   "cell_type": "code",
   "execution_count": 62,
   "id": "32aa7dc8",
   "metadata": {
    "scrolled": false
   },
   "outputs": [
    {
     "data": {
      "text/plain": [
       "{'Chef': 0,\n",
       " 'Teacher': 1,\n",
       " 0: 2,\n",
       " 'Business Analyst': 3,\n",
       " 'Finanancial Analyst': 4,\n",
       " 'Chemist': 5,\n",
       " 'Electrician': 6,\n",
       " 'Software Engineer': 7,\n",
       " 'Data Scientist': 8,\n",
       " 'Plumber': 9,\n",
       " 'Marketing Manager': 10,\n",
       " 'Accountant': 11,\n",
       " 'Entrepreneur': 12,\n",
       " 'HR Manager': 13,\n",
       " 'UX/UI Designer': 14,\n",
       " 'Content Writer': 15,\n",
       " 'Educational Consultant': 16,\n",
       " 'Civil Engineer': 17,\n",
       " 'Manager': 18,\n",
       " 'Pharmacist': 19,\n",
       " 'Financial Analyst': 20,\n",
       " 'Architect': 21,\n",
       " 'Mechanical Engineer': 22,\n",
       " 'Customer Support': 23,\n",
       " 'Consultant': 24,\n",
       " 'Judge': 25,\n",
       " 'Researcher': 26,\n",
       " 'Pilot': 27,\n",
       " 'Graphic Designer': 28,\n",
       " 'Travel Consultant': 29,\n",
       " 'Digital Marketer': 30,\n",
       " 'Lawyer': 31,\n",
       " 'Research Analyst': 32,\n",
       " 'Sales Executive': 33,\n",
       " 'Doctor': 34,\n",
       " 'Others': 35,\n",
       " 'Investment Banker': 36,\n",
       " 'Family Consultant': 37,\n",
       " 'Student': 38,\n",
       " 'FamilyVirar': 39,\n",
       " 'City Manager': 40,\n",
       " 'Medical Doctor': 41,\n",
       " 'Analyst': 42}"
      ]
     },
     "execution_count": 62,
     "metadata": {},
     "output_type": "execute_result"
    }
   ],
   "source": [
    "profession_dict = {}\n",
    "for i , j in zip(profession, profession_no):\n",
    "    profession_dict[i]=j\n",
    "profession_dict"
   ]
  },
  {
   "cell_type": "code",
   "execution_count": 63,
   "id": "fea7ebe2",
   "metadata": {},
   "outputs": [
    {
     "data": {
      "text/plain": [
       "0          0\n",
       "1          1\n",
       "2          2\n",
       "3          1\n",
       "4          3\n",
       "          ..\n",
       "140695     2\n",
       "140696    15\n",
       "140697    10\n",
       "140698     9\n",
       "140699     2\n",
       "Name: Profession, Length: 140692, dtype: int32"
      ]
     },
     "execution_count": 63,
     "metadata": {},
     "output_type": "execute_result"
    }
   ],
   "source": [
    "new_df['Profession'] = new_df['Profession'].map(profession_dict)\n",
    "new_df['Profession']"
   ]
  },
  {
   "cell_type": "markdown",
   "id": "8f5fcd44",
   "metadata": {},
   "source": [
    "### Sleep Duration Column"
   ]
  },
  {
   "cell_type": "code",
   "execution_count": 64,
   "id": "e7bf13c2",
   "metadata": {
    "scrolled": true
   },
   "outputs": [
    {
     "data": {
      "text/plain": [
       "array(['More than 8 hours', 'Less than 5 hours', 'Between 5 - 9 Hours',\n",
       "       'Others'], dtype=object)"
      ]
     },
     "execution_count": 64,
     "metadata": {},
     "output_type": "execute_result"
    }
   ],
   "source": [
    "new_df['Sleep Duration'].unique()"
   ]
  },
  {
   "cell_type": "code",
   "execution_count": 65,
   "id": "13275f1c",
   "metadata": {},
   "outputs": [
    {
     "data": {
      "text/plain": [
       "Sleep Duration\n",
       "Between 5 - 9 Hours    69123\n",
       "Less than 5 hours      38818\n",
       "More than 8 hours      32731\n",
       "Others                    20\n",
       "Name: count, dtype: int64"
      ]
     },
     "execution_count": 65,
     "metadata": {},
     "output_type": "execute_result"
    }
   ],
   "source": [
    "new_df['Sleep Duration'].value_counts()"
   ]
  },
  {
   "cell_type": "markdown",
   "id": "e507d1be",
   "metadata": {},
   "source": [
    "Now when i think about it i feel like i dont have the use of others category particularly so i think i'll drop it"
   ]
  },
  {
   "cell_type": "code",
   "execution_count": 66,
   "id": "599ef2c3",
   "metadata": {},
   "outputs": [
    {
     "data": {
      "text/plain": [
       "Index([  4021,  19915,  27865,  29050,  35953,  45218,  50817,  61185,  66929,\n",
       "        68239,  72700,  75587,  76261,  79764,  80918,  85727,  94888, 121412,\n",
       "       123519, 132759],\n",
       "      dtype='int64')"
      ]
     },
     "execution_count": 66,
     "metadata": {},
     "output_type": "execute_result"
    }
   ],
   "source": [
    "conditionfor_sleep_duration = new_df[new_df['Sleep Duration'].isin(['Others'])].index\n",
    "conditionfor_sleep_duration"
   ]
  },
  {
   "cell_type": "code",
   "execution_count": 67,
   "id": "174da811",
   "metadata": {},
   "outputs": [],
   "source": [
    "new_df.drop(conditionfor_sleep_duration, axis=0, inplace=True)"
   ]
  },
  {
   "cell_type": "code",
   "execution_count": 68,
   "id": "18ca5b2c",
   "metadata": {},
   "outputs": [
    {
     "data": {
      "text/plain": [
       "Gender                         140672\n",
       "Age                            140672\n",
       "City                           140672\n",
       "Worker Professional/Student    140672\n",
       "Profession                     140672\n",
       "Academic Pressure              140672\n",
       "Work Pressure                  140672\n",
       "CGPA                           140672\n",
       "Study Satisifaction            140672\n",
       "Job Satisfaction               140672\n",
       "Sleep Duration                 140672\n",
       "Dietary Habits                 140672\n",
       "Degree                         140672\n",
       "Suicidal Thoughts?             140672\n",
       "work/study Hours               140672\n",
       "Financial Stress               140672\n",
       "Heritage Illness               140672\n",
       "Depression                     140672\n",
       "dtype: int64"
      ]
     },
     "execution_count": 68,
     "metadata": {},
     "output_type": "execute_result"
    }
   ],
   "source": [
    "new_df.count()"
   ]
  },
  {
   "cell_type": "code",
   "execution_count": 69,
   "id": "c49dc77d",
   "metadata": {},
   "outputs": [],
   "source": [
    "sleep_duration_dict = {'Less than 5 hours':0,'Between 5 - 9 Hours':1, 'More than 8 hours': 2}\n",
    "\n",
    "new_df['Sleep Duration'] = new_df['Sleep Duration'].map(sleep_duration_dict)"
   ]
  },
  {
   "cell_type": "code",
   "execution_count": 70,
   "id": "06191909",
   "metadata": {},
   "outputs": [
    {
     "data": {
      "text/html": [
       "<div>\n",
       "<style scoped>\n",
       "    .dataframe tbody tr th:only-of-type {\n",
       "        vertical-align: middle;\n",
       "    }\n",
       "\n",
       "    .dataframe tbody tr th {\n",
       "        vertical-align: top;\n",
       "    }\n",
       "\n",
       "    .dataframe thead th {\n",
       "        text-align: right;\n",
       "    }\n",
       "</style>\n",
       "<table border=\"1\" class=\"dataframe\">\n",
       "  <thead>\n",
       "    <tr style=\"text-align: right;\">\n",
       "      <th></th>\n",
       "      <th>Gender</th>\n",
       "      <th>Age</th>\n",
       "      <th>City</th>\n",
       "      <th>Worker Professional/Student</th>\n",
       "      <th>Profession</th>\n",
       "      <th>Academic Pressure</th>\n",
       "      <th>Work Pressure</th>\n",
       "      <th>CGPA</th>\n",
       "      <th>Study Satisifaction</th>\n",
       "      <th>Job Satisfaction</th>\n",
       "      <th>Sleep Duration</th>\n",
       "      <th>Dietary Habits</th>\n",
       "      <th>Degree</th>\n",
       "      <th>Suicidal Thoughts?</th>\n",
       "      <th>work/study Hours</th>\n",
       "      <th>Financial Stress</th>\n",
       "      <th>Heritage Illness</th>\n",
       "      <th>Depression</th>\n",
       "    </tr>\n",
       "  </thead>\n",
       "  <tbody>\n",
       "    <tr>\n",
       "      <th>0</th>\n",
       "      <td>0</td>\n",
       "      <td>49.0</td>\n",
       "      <td>0</td>\n",
       "      <td>1</td>\n",
       "      <td>0</td>\n",
       "      <td>0.0</td>\n",
       "      <td>5.0</td>\n",
       "      <td>0.00</td>\n",
       "      <td>0.0</td>\n",
       "      <td>2.0</td>\n",
       "      <td>2</td>\n",
       "      <td>Healthy</td>\n",
       "      <td>BHM</td>\n",
       "      <td>No</td>\n",
       "      <td>1.0</td>\n",
       "      <td>2.0</td>\n",
       "      <td>No</td>\n",
       "      <td>0</td>\n",
       "    </tr>\n",
       "    <tr>\n",
       "      <th>1</th>\n",
       "      <td>1</td>\n",
       "      <td>26.0</td>\n",
       "      <td>1</td>\n",
       "      <td>1</td>\n",
       "      <td>1</td>\n",
       "      <td>0.0</td>\n",
       "      <td>4.0</td>\n",
       "      <td>0.00</td>\n",
       "      <td>0.0</td>\n",
       "      <td>3.0</td>\n",
       "      <td>0</td>\n",
       "      <td>Unhealthy</td>\n",
       "      <td>LLB</td>\n",
       "      <td>Yes</td>\n",
       "      <td>7.0</td>\n",
       "      <td>3.0</td>\n",
       "      <td>No</td>\n",
       "      <td>1</td>\n",
       "    </tr>\n",
       "    <tr>\n",
       "      <th>2</th>\n",
       "      <td>1</td>\n",
       "      <td>33.0</td>\n",
       "      <td>2</td>\n",
       "      <td>0</td>\n",
       "      <td>2</td>\n",
       "      <td>5.0</td>\n",
       "      <td>0.0</td>\n",
       "      <td>8.97</td>\n",
       "      <td>2.0</td>\n",
       "      <td>0.0</td>\n",
       "      <td>1</td>\n",
       "      <td>Healthy</td>\n",
       "      <td>B.Pharm</td>\n",
       "      <td>Yes</td>\n",
       "      <td>3.0</td>\n",
       "      <td>1.0</td>\n",
       "      <td>No</td>\n",
       "      <td>1</td>\n",
       "    </tr>\n",
       "    <tr>\n",
       "      <th>3</th>\n",
       "      <td>1</td>\n",
       "      <td>22.0</td>\n",
       "      <td>3</td>\n",
       "      <td>1</td>\n",
       "      <td>1</td>\n",
       "      <td>0.0</td>\n",
       "      <td>5.0</td>\n",
       "      <td>0.00</td>\n",
       "      <td>0.0</td>\n",
       "      <td>1.0</td>\n",
       "      <td>0</td>\n",
       "      <td>Moderate</td>\n",
       "      <td>BBA</td>\n",
       "      <td>Yes</td>\n",
       "      <td>10.0</td>\n",
       "      <td>1.0</td>\n",
       "      <td>Yes</td>\n",
       "      <td>1</td>\n",
       "    </tr>\n",
       "    <tr>\n",
       "      <th>4</th>\n",
       "      <td>0</td>\n",
       "      <td>30.0</td>\n",
       "      <td>4</td>\n",
       "      <td>1</td>\n",
       "      <td>3</td>\n",
       "      <td>0.0</td>\n",
       "      <td>1.0</td>\n",
       "      <td>0.00</td>\n",
       "      <td>0.0</td>\n",
       "      <td>1.0</td>\n",
       "      <td>1</td>\n",
       "      <td>Unhealthy</td>\n",
       "      <td>BBA</td>\n",
       "      <td>Yes</td>\n",
       "      <td>9.0</td>\n",
       "      <td>4.0</td>\n",
       "      <td>Yes</td>\n",
       "      <td>0</td>\n",
       "    </tr>\n",
       "  </tbody>\n",
       "</table>\n",
       "</div>"
      ],
      "text/plain": [
       "   Gender   Age  City  Worker Professional/Student  Profession  \\\n",
       "0       0  49.0     0                            1           0   \n",
       "1       1  26.0     1                            1           1   \n",
       "2       1  33.0     2                            0           2   \n",
       "3       1  22.0     3                            1           1   \n",
       "4       0  30.0     4                            1           3   \n",
       "\n",
       "   Academic Pressure  Work Pressure  CGPA  Study Satisifaction  \\\n",
       "0                0.0            5.0  0.00                  0.0   \n",
       "1                0.0            4.0  0.00                  0.0   \n",
       "2                5.0            0.0  8.97                  2.0   \n",
       "3                0.0            5.0  0.00                  0.0   \n",
       "4                0.0            1.0  0.00                  0.0   \n",
       "\n",
       "   Job Satisfaction  Sleep Duration Dietary Habits   Degree  \\\n",
       "0               2.0               2        Healthy      BHM   \n",
       "1               3.0               0      Unhealthy      LLB   \n",
       "2               0.0               1        Healthy  B.Pharm   \n",
       "3               1.0               0       Moderate      BBA   \n",
       "4               1.0               1      Unhealthy      BBA   \n",
       "\n",
       "  Suicidal Thoughts?  work/study Hours  Financial Stress Heritage Illness  \\\n",
       "0                 No               1.0               2.0               No   \n",
       "1                Yes               7.0               3.0               No   \n",
       "2                Yes               3.0               1.0               No   \n",
       "3                Yes              10.0               1.0              Yes   \n",
       "4                Yes               9.0               4.0              Yes   \n",
       "\n",
       "   Depression  \n",
       "0           0  \n",
       "1           1  \n",
       "2           1  \n",
       "3           1  \n",
       "4           0  "
      ]
     },
     "execution_count": 70,
     "metadata": {},
     "output_type": "execute_result"
    }
   ],
   "source": [
    "new_df.head(5)"
   ]
  },
  {
   "cell_type": "markdown",
   "id": "d5313ff7",
   "metadata": {},
   "source": [
    "### Deitary Habits Column"
   ]
  },
  {
   "cell_type": "code",
   "execution_count": 71,
   "id": "520b3bd6",
   "metadata": {},
   "outputs": [
    {
     "data": {
      "text/plain": [
       "array(['Healthy', 'Unhealthy', 'Moderate', 'Others', 0], dtype=object)"
      ]
     },
     "execution_count": 71,
     "metadata": {},
     "output_type": "execute_result"
    }
   ],
   "source": [
    "new_df['Dietary Habits'].unique()"
   ]
  },
  {
   "cell_type": "code",
   "execution_count": 72,
   "id": "5ab1665d",
   "metadata": {},
   "outputs": [
    {
     "data": {
      "text/plain": [
       "Dietary Habits\n",
       "Moderate     49698\n",
       "Unhealthy    46216\n",
       "Healthy      44736\n",
       "Others          18\n",
       "0                4\n",
       "Name: count, dtype: int64"
      ]
     },
     "execution_count": 72,
     "metadata": {},
     "output_type": "execute_result"
    }
   ],
   "source": [
    "new_df['Dietary Habits'].value_counts()"
   ]
  },
  {
   "cell_type": "markdown",
   "id": "df1565c0",
   "metadata": {},
   "source": [
    "I feel like I should also drop this 2 categories `Others` and `0` "
   ]
  },
  {
   "cell_type": "code",
   "execution_count": 73,
   "id": "474e49db",
   "metadata": {},
   "outputs": [
    {
     "data": {
      "text/plain": [
       "Index([  2943,   4495,  20779,  21736,  28610,  41636,  42616,  56866,  57597,\n",
       "        59350,  64565,  69581,  76041,  76436,  86011,  95502, 103062, 113519,\n",
       "       118423, 123065, 130206, 131345],\n",
       "      dtype='int64')"
      ]
     },
     "execution_count": 73,
     "metadata": {},
     "output_type": "execute_result"
    }
   ],
   "source": [
    "condition_for_DH = new_df[new_df['Dietary Habits'].isin(['Others', 0])].index\n",
    "condition_for_DH"
   ]
  },
  {
   "cell_type": "code",
   "execution_count": 74,
   "id": "7cf9892e",
   "metadata": {},
   "outputs": [
    {
     "data": {
      "text/plain": [
       "Gender                         140650\n",
       "Age                            140650\n",
       "City                           140650\n",
       "Worker Professional/Student    140650\n",
       "Profession                     140650\n",
       "Academic Pressure              140650\n",
       "Work Pressure                  140650\n",
       "CGPA                           140650\n",
       "Study Satisifaction            140650\n",
       "Job Satisfaction               140650\n",
       "Sleep Duration                 140650\n",
       "Dietary Habits                 140650\n",
       "Degree                         140650\n",
       "Suicidal Thoughts?             140650\n",
       "work/study Hours               140650\n",
       "Financial Stress               140650\n",
       "Heritage Illness               140650\n",
       "Depression                     140650\n",
       "dtype: int64"
      ]
     },
     "execution_count": 74,
     "metadata": {},
     "output_type": "execute_result"
    }
   ],
   "source": [
    "new_df.drop(condition_for_DH, axis=0, inplace=True)\n",
    "new_df.count()"
   ]
  },
  {
   "cell_type": "code",
   "execution_count": 75,
   "id": "9046c0bf",
   "metadata": {},
   "outputs": [
    {
     "data": {
      "text/plain": [
       "0         0\n",
       "1         2\n",
       "2         0\n",
       "3         1\n",
       "4         2\n",
       "         ..\n",
       "140695    2\n",
       "140696    1\n",
       "140697    1\n",
       "140698    1\n",
       "140699    0\n",
       "Name: Dietary Habits, Length: 140650, dtype: int32"
      ]
     },
     "execution_count": 75,
     "metadata": {},
     "output_type": "execute_result"
    }
   ],
   "source": [
    "new_df['Dietary Habits'] = LabelEncoder().fit_transform(new_df['Dietary Habits'])\n",
    "new_df['Dietary Habits']"
   ]
  },
  {
   "cell_type": "markdown",
   "id": "602d165d",
   "metadata": {},
   "source": [
    "### Degree Column"
   ]
  },
  {
   "cell_type": "code",
   "execution_count": 76,
   "id": "97025276",
   "metadata": {},
   "outputs": [
    {
     "data": {
      "text/plain": [
       "array(['BHM', 'LLB', 'B.Pharm', 'BBA', 'MCA', 'MD', 'BSc', 'ME', 'B.Arch',\n",
       "       'BCA', 'BE', 'MA', 'B.Ed', 'B.Com', 'MBA', 'M.Com', 'MHM', 'BA',\n",
       "       'Class 12', 'M.Tech', 'PhD', 'M.Ed', 'MSc', 'B.Tech', 'LLM',\n",
       "       'MBBS', 'M.Pharm', 'Others', 'M.Arch', 0], dtype=object)"
      ]
     },
     "execution_count": 76,
     "metadata": {},
     "output_type": "execute_result"
    }
   ],
   "source": [
    "new_df['Degree'].unique()"
   ]
  },
  {
   "cell_type": "code",
   "execution_count": 77,
   "id": "327ab50a",
   "metadata": {},
   "outputs": [
    {
     "data": {
      "text/plain": [
       "Degree\n",
       "Class 12    14722\n",
       "B.Ed        11690\n",
       "B.Arch       8741\n",
       "B.Com        8112\n",
       "B.Pharm      5853\n",
       "BCA          5735\n",
       "M.Ed         5666\n",
       "MCA          5230\n",
       "BBA          5030\n",
       "BSc          5022\n",
       "MSc          4878\n",
       "LLM          4646\n",
       "M.Pharm      4536\n",
       "M.Tech       4474\n",
       "B.Tech       4423\n",
       "LLB          4345\n",
       "BHM          4305\n",
       "MBA          3816\n",
       "BA           3749\n",
       "ME           3631\n",
       "MD           3381\n",
       "MHM          3286\n",
       "BE           3103\n",
       "PhD          3100\n",
       "M.Com        3093\n",
       "MBBS         3080\n",
       "MA           2887\n",
       "Others        109\n",
       "M.Arch          5\n",
       "0               2\n",
       "Name: count, dtype: int64"
      ]
     },
     "execution_count": 77,
     "metadata": {},
     "output_type": "execute_result"
    }
   ],
   "source": [
    "new_df['Degree'].value_counts()"
   ]
  },
  {
   "cell_type": "code",
   "execution_count": 78,
   "id": "9d63be97",
   "metadata": {},
   "outputs": [
    {
     "data": {
      "text/plain": [
       "Index([  1884,   3227,   4337,   7885,   8615,   9719,   9923,  13315,  14834,\n",
       "        15483,\n",
       "       ...\n",
       "       133347, 134561, 134938, 136760, 137281, 137703, 138190, 139446, 139862,\n",
       "       139989],\n",
       "      dtype='int64', length=111)"
      ]
     },
     "execution_count": 78,
     "metadata": {},
     "output_type": "execute_result"
    }
   ],
   "source": [
    "condition_for_degree = new_df[new_df['Degree'].isin(['Others',0])].index\n",
    "condition_for_degree"
   ]
  },
  {
   "cell_type": "code",
   "execution_count": 79,
   "id": "5d89ce90",
   "metadata": {},
   "outputs": [],
   "source": [
    "new_df.drop(condition_for_degree, axis =0 , inplace=True)"
   ]
  },
  {
   "cell_type": "code",
   "execution_count": 80,
   "id": "81d1aca3",
   "metadata": {},
   "outputs": [
    {
     "data": {
      "text/plain": [
       "array(['BHM', 'LLB', 'B.Pharm', 'BBA', 'MCA', 'MD', 'BSc', 'ME', 'B.Arch',\n",
       "       'BCA', 'BE', 'MA', 'B.Ed', 'B.Com', 'MBA', 'M.Com', 'MHM', 'BA',\n",
       "       'Class 12', 'M.Tech', 'PhD', 'M.Ed', 'MSc', 'B.Tech', 'LLM',\n",
       "       'MBBS', 'M.Pharm', 'M.Arch'], dtype=object)"
      ]
     },
     "execution_count": 80,
     "metadata": {},
     "output_type": "execute_result"
    }
   ],
   "source": [
    "new_df['Degree'].unique()"
   ]
  },
  {
   "cell_type": "code",
   "execution_count": 81,
   "id": "24fb8de4",
   "metadata": {},
   "outputs": [
    {
     "data": {
      "text/plain": [
       "0          9\n",
       "1         12\n",
       "2          3\n",
       "3          6\n",
       "4          6\n",
       "          ..\n",
       "140695    11\n",
       "140696     4\n",
       "140697     1\n",
       "140698    24\n",
       "140699     7\n",
       "Name: Degree, Length: 140539, dtype: int32"
      ]
     },
     "execution_count": 81,
     "metadata": {},
     "output_type": "execute_result"
    }
   ],
   "source": [
    "new_df['Degree'] = LabelEncoder().fit_transform(new_df['Degree'])\n",
    "new_df['Degree']"
   ]
  },
  {
   "cell_type": "markdown",
   "id": "bfa46243",
   "metadata": {},
   "source": [
    "### Suicidal THoughts?"
   ]
  },
  {
   "cell_type": "code",
   "execution_count": 82,
   "id": "fb1a8c23",
   "metadata": {},
   "outputs": [
    {
     "data": {
      "text/plain": [
       "array(['No', 'Yes'], dtype=object)"
      ]
     },
     "execution_count": 82,
     "metadata": {},
     "output_type": "execute_result"
    }
   ],
   "source": [
    "new_df['Suicidal Thoughts?'].unique()"
   ]
  },
  {
   "cell_type": "code",
   "execution_count": 83,
   "id": "981bf9b7",
   "metadata": {},
   "outputs": [
    {
     "data": {
      "text/plain": [
       "0         0\n",
       "1         1\n",
       "2         1\n",
       "3         1\n",
       "4         1\n",
       "         ..\n",
       "140695    0\n",
       "140696    1\n",
       "140697    0\n",
       "140698    1\n",
       "140699    1\n",
       "Name: Suicidal Thoughts?, Length: 140539, dtype: int32"
      ]
     },
     "execution_count": 83,
     "metadata": {},
     "output_type": "execute_result"
    }
   ],
   "source": [
    "new_df['Suicidal Thoughts?'] = LabelEncoder().fit_transform(new_df['Suicidal Thoughts?'])\n",
    "new_df['Suicidal Thoughts?']"
   ]
  },
  {
   "cell_type": "markdown",
   "id": "e45d67d9",
   "metadata": {},
   "source": [
    "### Family Mental Illness"
   ]
  },
  {
   "cell_type": "code",
   "execution_count": 84,
   "id": "5e9365fa",
   "metadata": {},
   "outputs": [
    {
     "data": {
      "text/plain": [
       "array(['No', 'Yes'], dtype=object)"
      ]
     },
     "execution_count": 84,
     "metadata": {},
     "output_type": "execute_result"
    }
   ],
   "source": [
    "new_df['Heritage Illness'].unique()"
   ]
  },
  {
   "cell_type": "code",
   "execution_count": 85,
   "id": "f447dfc6",
   "metadata": {},
   "outputs": [
    {
     "data": {
      "text/plain": [
       "0         0\n",
       "1         0\n",
       "2         0\n",
       "3         1\n",
       "4         1\n",
       "         ..\n",
       "140695    1\n",
       "140696    1\n",
       "140697    0\n",
       "140698    0\n",
       "140699    1\n",
       "Name: Heritage Illness, Length: 140539, dtype: int32"
      ]
     },
     "execution_count": 85,
     "metadata": {},
     "output_type": "execute_result"
    }
   ],
   "source": [
    "new_df['Heritage Illness'] = LabelEncoder().fit_transform(new_df['Heritage Illness'])\n",
    "new_df['Heritage Illness']"
   ]
  },
  {
   "cell_type": "markdown",
   "id": "ad473845",
   "metadata": {},
   "source": [
    "Now that we have finally categorized our columns lets again check for any duplicates or missing values again just to confirm that our data is indeed valide and then now we move onto the normlisation phase of the data"
   ]
  },
  {
   "cell_type": "markdown",
   "id": "5847a402",
   "metadata": {},
   "source": [
    "### Checking for any duplicate values"
   ]
  },
  {
   "cell_type": "code",
   "execution_count": 86,
   "id": "554bacd9",
   "metadata": {},
   "outputs": [
    {
     "data": {
      "text/plain": [
       "0"
      ]
     },
     "execution_count": 86,
     "metadata": {},
     "output_type": "execute_result"
    }
   ],
   "source": [
    "new_df.duplicated().sum()"
   ]
  },
  {
   "cell_type": "markdown",
   "id": "ad32c54c",
   "metadata": {},
   "source": [
    "Since we dont have any duplicates let us follow onto the next step "
   ]
  },
  {
   "cell_type": "markdown",
   "id": "9f8cc0de",
   "metadata": {},
   "source": [
    "### Also lets once more check for null values if incase it still exists"
   ]
  },
  {
   "cell_type": "code",
   "execution_count": 87,
   "id": "de703f9a",
   "metadata": {},
   "outputs": [
    {
     "data": {
      "text/plain": [
       "Gender                         0\n",
       "Age                            0\n",
       "City                           0\n",
       "Worker Professional/Student    0\n",
       "Profession                     0\n",
       "Academic Pressure              0\n",
       "Work Pressure                  0\n",
       "CGPA                           0\n",
       "Study Satisifaction            0\n",
       "Job Satisfaction               0\n",
       "Sleep Duration                 0\n",
       "Dietary Habits                 0\n",
       "Degree                         0\n",
       "Suicidal Thoughts?             0\n",
       "work/study Hours               0\n",
       "Financial Stress               0\n",
       "Heritage Illness               0\n",
       "Depression                     0\n",
       "dtype: int64"
      ]
     },
     "execution_count": 87,
     "metadata": {},
     "output_type": "execute_result"
    }
   ],
   "source": [
    "new_df.isna().sum()"
   ]
  },
  {
   "cell_type": "markdown",
   "id": "68a666a4",
   "metadata": {},
   "source": [
    "So there are no Null values here in our dataset , now moving into the next phase that is to normalize the data"
   ]
  },
  {
   "cell_type": "code",
   "execution_count": 88,
   "id": "efbcc2c9",
   "metadata": {
    "scrolled": true
   },
   "outputs": [
    {
     "data": {
      "text/html": [
       "<div>\n",
       "<style scoped>\n",
       "    .dataframe tbody tr th:only-of-type {\n",
       "        vertical-align: middle;\n",
       "    }\n",
       "\n",
       "    .dataframe tbody tr th {\n",
       "        vertical-align: top;\n",
       "    }\n",
       "\n",
       "    .dataframe thead th {\n",
       "        text-align: right;\n",
       "    }\n",
       "</style>\n",
       "<table border=\"1\" class=\"dataframe\">\n",
       "  <thead>\n",
       "    <tr style=\"text-align: right;\">\n",
       "      <th></th>\n",
       "      <th>Gender</th>\n",
       "      <th>Age</th>\n",
       "      <th>City</th>\n",
       "      <th>Worker Professional/Student</th>\n",
       "      <th>Profession</th>\n",
       "      <th>Academic Pressure</th>\n",
       "      <th>Work Pressure</th>\n",
       "      <th>CGPA</th>\n",
       "      <th>Study Satisifaction</th>\n",
       "      <th>Job Satisfaction</th>\n",
       "      <th>Sleep Duration</th>\n",
       "      <th>Dietary Habits</th>\n",
       "      <th>Degree</th>\n",
       "      <th>Suicidal Thoughts?</th>\n",
       "      <th>work/study Hours</th>\n",
       "      <th>Financial Stress</th>\n",
       "      <th>Heritage Illness</th>\n",
       "      <th>Depression</th>\n",
       "    </tr>\n",
       "  </thead>\n",
       "  <tbody>\n",
       "    <tr>\n",
       "      <th>0</th>\n",
       "      <td>0</td>\n",
       "      <td>49.0</td>\n",
       "      <td>0</td>\n",
       "      <td>1</td>\n",
       "      <td>0</td>\n",
       "      <td>0.0</td>\n",
       "      <td>5.0</td>\n",
       "      <td>0.00</td>\n",
       "      <td>0.0</td>\n",
       "      <td>2.0</td>\n",
       "      <td>2</td>\n",
       "      <td>0</td>\n",
       "      <td>9</td>\n",
       "      <td>0</td>\n",
       "      <td>1.0</td>\n",
       "      <td>2.0</td>\n",
       "      <td>0</td>\n",
       "      <td>0</td>\n",
       "    </tr>\n",
       "    <tr>\n",
       "      <th>1</th>\n",
       "      <td>1</td>\n",
       "      <td>26.0</td>\n",
       "      <td>1</td>\n",
       "      <td>1</td>\n",
       "      <td>1</td>\n",
       "      <td>0.0</td>\n",
       "      <td>4.0</td>\n",
       "      <td>0.00</td>\n",
       "      <td>0.0</td>\n",
       "      <td>3.0</td>\n",
       "      <td>0</td>\n",
       "      <td>2</td>\n",
       "      <td>12</td>\n",
       "      <td>1</td>\n",
       "      <td>7.0</td>\n",
       "      <td>3.0</td>\n",
       "      <td>0</td>\n",
       "      <td>1</td>\n",
       "    </tr>\n",
       "    <tr>\n",
       "      <th>2</th>\n",
       "      <td>1</td>\n",
       "      <td>33.0</td>\n",
       "      <td>2</td>\n",
       "      <td>0</td>\n",
       "      <td>2</td>\n",
       "      <td>5.0</td>\n",
       "      <td>0.0</td>\n",
       "      <td>8.97</td>\n",
       "      <td>2.0</td>\n",
       "      <td>0.0</td>\n",
       "      <td>1</td>\n",
       "      <td>0</td>\n",
       "      <td>3</td>\n",
       "      <td>1</td>\n",
       "      <td>3.0</td>\n",
       "      <td>1.0</td>\n",
       "      <td>0</td>\n",
       "      <td>1</td>\n",
       "    </tr>\n",
       "    <tr>\n",
       "      <th>3</th>\n",
       "      <td>1</td>\n",
       "      <td>22.0</td>\n",
       "      <td>3</td>\n",
       "      <td>1</td>\n",
       "      <td>1</td>\n",
       "      <td>0.0</td>\n",
       "      <td>5.0</td>\n",
       "      <td>0.00</td>\n",
       "      <td>0.0</td>\n",
       "      <td>1.0</td>\n",
       "      <td>0</td>\n",
       "      <td>1</td>\n",
       "      <td>6</td>\n",
       "      <td>1</td>\n",
       "      <td>10.0</td>\n",
       "      <td>1.0</td>\n",
       "      <td>1</td>\n",
       "      <td>1</td>\n",
       "    </tr>\n",
       "    <tr>\n",
       "      <th>4</th>\n",
       "      <td>0</td>\n",
       "      <td>30.0</td>\n",
       "      <td>4</td>\n",
       "      <td>1</td>\n",
       "      <td>3</td>\n",
       "      <td>0.0</td>\n",
       "      <td>1.0</td>\n",
       "      <td>0.00</td>\n",
       "      <td>0.0</td>\n",
       "      <td>1.0</td>\n",
       "      <td>1</td>\n",
       "      <td>2</td>\n",
       "      <td>6</td>\n",
       "      <td>1</td>\n",
       "      <td>9.0</td>\n",
       "      <td>4.0</td>\n",
       "      <td>1</td>\n",
       "      <td>0</td>\n",
       "    </tr>\n",
       "  </tbody>\n",
       "</table>\n",
       "</div>"
      ],
      "text/plain": [
       "   Gender   Age  City  Worker Professional/Student  Profession  \\\n",
       "0       0  49.0     0                            1           0   \n",
       "1       1  26.0     1                            1           1   \n",
       "2       1  33.0     2                            0           2   \n",
       "3       1  22.0     3                            1           1   \n",
       "4       0  30.0     4                            1           3   \n",
       "\n",
       "   Academic Pressure  Work Pressure  CGPA  Study Satisifaction  \\\n",
       "0                0.0            5.0  0.00                  0.0   \n",
       "1                0.0            4.0  0.00                  0.0   \n",
       "2                5.0            0.0  8.97                  2.0   \n",
       "3                0.0            5.0  0.00                  0.0   \n",
       "4                0.0            1.0  0.00                  0.0   \n",
       "\n",
       "   Job Satisfaction  Sleep Duration  Dietary Habits  Degree  \\\n",
       "0               2.0               2               0       9   \n",
       "1               3.0               0               2      12   \n",
       "2               0.0               1               0       3   \n",
       "3               1.0               0               1       6   \n",
       "4               1.0               1               2       6   \n",
       "\n",
       "   Suicidal Thoughts?  work/study Hours  Financial Stress  Heritage Illness  \\\n",
       "0                   0               1.0               2.0                 0   \n",
       "1                   1               7.0               3.0                 0   \n",
       "2                   1               3.0               1.0                 0   \n",
       "3                   1              10.0               1.0                 1   \n",
       "4                   1               9.0               4.0                 1   \n",
       "\n",
       "   Depression  \n",
       "0           0  \n",
       "1           1  \n",
       "2           1  \n",
       "3           1  \n",
       "4           0  "
      ]
     },
     "execution_count": 88,
     "metadata": {},
     "output_type": "execute_result"
    }
   ],
   "source": [
    "new_df.head(5)"
   ]
  },
  {
   "cell_type": "code",
   "execution_count": 89,
   "id": "9ed788c4",
   "metadata": {},
   "outputs": [],
   "source": [
    "new_df.to_csv('cleaned_mental_health_trainset.csv')"
   ]
  },
  {
   "cell_type": "markdown",
   "id": "9b2a5f39",
   "metadata": {},
   "source": [
    "We will only consider the `CGPA` & `Age` column to be normalized"
   ]
  },
  {
   "cell_type": "markdown",
   "id": "e3b61b80",
   "metadata": {},
   "source": [
    "# Visualizing Data"
   ]
  },
  {
   "cell_type": "markdown",
   "id": "19dedf47",
   "metadata": {},
   "source": [
    "## HEATMAP"
   ]
  },
  {
   "cell_type": "code",
   "execution_count": 90,
   "id": "4ea8683c",
   "metadata": {
    "scrolled": false
   },
   "outputs": [
    {
     "data": {
      "image/png": "[encoded data removed]",
      "text/plain": [
       "<Figure size 1600x1100 with 2 Axes>"
      ]
     },
     "metadata": {},
     "output_type": "display_data"
    }
   ],
   "source": [
    "# a heatmap to see the correlation of all the features and pick the features according to its correlation \n",
    "\n",
    "plt.figure(figsize=(16,11))\n",
    "\n",
    "sns.heatmap(new_df.corr(), annot=True, vmin=-1, vmax=1, cbar =True, cmap='coolwarm')\n",
    "\n",
    "plt.title(\"Heatmap for Mental Health Data\",fontsize=40)\n",
    "\n",
    "plt.show()\n",
    "\n",
    "# plt.savefig('Mental Health Data Heatmap.jpg',format='jpg')"
   ]
  },
  {
   "cell_type": "markdown",
   "id": "200cbfb3",
   "metadata": {},
   "source": [
    "<div>\n",
    "    <center>\n",
    "    <h3>\n",
    "        Insights from the heatmap of <b> Mental Health </b> data\n",
    "    </h3>\n",
    "        <p>\n",
    "            As you can see there is a lot happening in the data with the heatmap that we have, we are able to see the correlation between the features provided and compared it with other columns .\n",
    "        </p>\n",
    "            <p>\n",
    "                <center>\n",
    "                I feel like there is a lot happening in this correlated data.\n",
    "                    Apart from our Main predictor <u><i>Depression</i></u>\n",
    "                    we also have other correlatio features between other independent variables which are dependent on other independent variables, lets say for example;\n",
    "                </center> \n",
    "            </p>\n",
    "   </center>\n",
    "    <ol>In the column <u><i>Working Professional / Student</i></u> , \n",
    "        <p>here we can see that all the other columns  [  <u><i>Profession</i></u> ,<u><i>Academic Pressure</i></u> , <u><i>Work Pressure</i></u>,  <u><i>CGPA</i></u>,  <u><i>Study Satisfaction</i></u>, <u><i>Job Satisfaction </i></u>   ]  are having similar \n",
    "            strong correlation withis column so is vice-versa with other columns as well.\n",
    "            In this Particular column you have a negative correlation if you are a having a profession other if you are a student then you will have a negative correlation \n",
    "        </p>\n",
    "    </ol>\n",
    "\n",
    "</div>"
   ]
  },
  {
   "cell_type": "markdown",
   "id": "bdb890f4",
   "metadata": {},
   "source": [
    "#### Lets Consider each column then \n",
    "\n",
    "For `CGPA` , if you are having a good `CGPA` it is observed from the data that\n",
    "* You will most likely be having `positive` `study satisfaction` , But on the other side,\n",
    "* we are also having the `Job Satisfaction` which has `negatively` affected because not everything is balanced if you over acheive a particular thing , \n",
    "either you will have a fault at some point , \n",
    "* here though people have done well in their `studies` their `job satisfaction` doesnt serve them right,\n",
    "* but not to that extreme only a portion of the people say that we are satisfied in our `job` and `studies` both ,\n",
    "* in majority of the cases we can see this trend where some people excell in their studies but end up doing a job that they dont like,\n",
    "\n",
    "        * here the data says out of `100%` people whom we surveyed, almost above`60%` of the people says this irrespective of Gender.!"
   ]
  },
  {
   "cell_type": "markdown",
   "id": "e713b568",
   "metadata": {},
   "source": [
    "### Depression Trends\n",
    "\n",
    "* Now focusing on the main task that is to find correlated features for our predictor `Depression`, \n",
    "* it Seems that the columns \n",
    "    * `Age` : -0.56, \n",
    "    * `Working Professional / Student` : -0.52,\n",
    "    * `Profession` : -0.25,\n",
    "    * `Academic Pressure` : 0.59, \n",
    "    * `Work Pressure` : -0.29,\n",
    "    * `CGPA` : 0.51,\n",
    "    * `Study Satisfaction` : 0.42 ,\n",
    "    * `Job Satisfaction` : -0.43,\n",
    "    * `Sleep Duration` : -0.089, \n",
    "        * the reason we take only the 1 col which has correlation features inbetween -0.1 & 0.1 is because only this particular his more closely related to the index gap -0.1 , which can be considered rest of the column features actually has th potential to provide us with uncertainity figures, just because they are less correlated\n",
    "    * `Dietary Habits` : 0.15 ,\n",
    "    * `Suicidal Thoughts?` : 0.35,\n",
    "    * `Work/Study Hours` : 0.19 ,\n",
    "    * `Financial Stress` : 0.23,"
   ]
  },
  {
   "cell_type": "code",
   "execution_count": 91,
   "id": "c9b1e250",
   "metadata": {
    "scrolled": true
   },
   "outputs": [
    {
     "data": {
      "text/html": [
       "<div>\n",
       "<style scoped>\n",
       "    .dataframe tbody tr th:only-of-type {\n",
       "        vertical-align: middle;\n",
       "    }\n",
       "\n",
       "    .dataframe tbody tr th {\n",
       "        vertical-align: top;\n",
       "    }\n",
       "\n",
       "    .dataframe thead th {\n",
       "        text-align: right;\n",
       "    }\n",
       "</style>\n",
       "<table border=\"1\" class=\"dataframe\">\n",
       "  <thead>\n",
       "    <tr style=\"text-align: right;\">\n",
       "      <th></th>\n",
       "      <th>Age</th>\n",
       "      <th>Worker Professional/Student</th>\n",
       "      <th>Profession</th>\n",
       "      <th>Academic Pressure</th>\n",
       "      <th>Work Pressure</th>\n",
       "      <th>CGPA</th>\n",
       "      <th>Study Satisifaction</th>\n",
       "      <th>Job Satisfaction</th>\n",
       "      <th>Sleep Duration</th>\n",
       "      <th>Dietary Habits</th>\n",
       "      <th>Suicidal Thoughts?</th>\n",
       "      <th>work/study Hours</th>\n",
       "      <th>Financial Stress</th>\n",
       "      <th>Depression</th>\n",
       "    </tr>\n",
       "  </thead>\n",
       "  <tbody>\n",
       "    <tr>\n",
       "      <th>0</th>\n",
       "      <td>49.0</td>\n",
       "      <td>1</td>\n",
       "      <td>0</td>\n",
       "      <td>0.0</td>\n",
       "      <td>5.0</td>\n",
       "      <td>0.00</td>\n",
       "      <td>0.0</td>\n",
       "      <td>2.0</td>\n",
       "      <td>2</td>\n",
       "      <td>0</td>\n",
       "      <td>0</td>\n",
       "      <td>1.0</td>\n",
       "      <td>2.0</td>\n",
       "      <td>0</td>\n",
       "    </tr>\n",
       "    <tr>\n",
       "      <th>1</th>\n",
       "      <td>26.0</td>\n",
       "      <td>1</td>\n",
       "      <td>1</td>\n",
       "      <td>0.0</td>\n",
       "      <td>4.0</td>\n",
       "      <td>0.00</td>\n",
       "      <td>0.0</td>\n",
       "      <td>3.0</td>\n",
       "      <td>0</td>\n",
       "      <td>2</td>\n",
       "      <td>1</td>\n",
       "      <td>7.0</td>\n",
       "      <td>3.0</td>\n",
       "      <td>1</td>\n",
       "    </tr>\n",
       "    <tr>\n",
       "      <th>2</th>\n",
       "      <td>33.0</td>\n",
       "      <td>0</td>\n",
       "      <td>2</td>\n",
       "      <td>5.0</td>\n",
       "      <td>0.0</td>\n",
       "      <td>8.97</td>\n",
       "      <td>2.0</td>\n",
       "      <td>0.0</td>\n",
       "      <td>1</td>\n",
       "      <td>0</td>\n",
       "      <td>1</td>\n",
       "      <td>3.0</td>\n",
       "      <td>1.0</td>\n",
       "      <td>1</td>\n",
       "    </tr>\n",
       "    <tr>\n",
       "      <th>3</th>\n",
       "      <td>22.0</td>\n",
       "      <td>1</td>\n",
       "      <td>1</td>\n",
       "      <td>0.0</td>\n",
       "      <td>5.0</td>\n",
       "      <td>0.00</td>\n",
       "      <td>0.0</td>\n",
       "      <td>1.0</td>\n",
       "      <td>0</td>\n",
       "      <td>1</td>\n",
       "      <td>1</td>\n",
       "      <td>10.0</td>\n",
       "      <td>1.0</td>\n",
       "      <td>1</td>\n",
       "    </tr>\n",
       "    <tr>\n",
       "      <th>4</th>\n",
       "      <td>30.0</td>\n",
       "      <td>1</td>\n",
       "      <td>3</td>\n",
       "      <td>0.0</td>\n",
       "      <td>1.0</td>\n",
       "      <td>0.00</td>\n",
       "      <td>0.0</td>\n",
       "      <td>1.0</td>\n",
       "      <td>1</td>\n",
       "      <td>2</td>\n",
       "      <td>1</td>\n",
       "      <td>9.0</td>\n",
       "      <td>4.0</td>\n",
       "      <td>0</td>\n",
       "    </tr>\n",
       "  </tbody>\n",
       "</table>\n",
       "</div>"
      ],
      "text/plain": [
       "    Age  Worker Professional/Student  Profession  Academic Pressure  \\\n",
       "0  49.0                            1           0                0.0   \n",
       "1  26.0                            1           1                0.0   \n",
       "2  33.0                            0           2                5.0   \n",
       "3  22.0                            1           1                0.0   \n",
       "4  30.0                            1           3                0.0   \n",
       "\n",
       "   Work Pressure  CGPA  Study Satisifaction  Job Satisfaction  Sleep Duration  \\\n",
       "0            5.0  0.00                  0.0               2.0               2   \n",
       "1            4.0  0.00                  0.0               3.0               0   \n",
       "2            0.0  8.97                  2.0               0.0               1   \n",
       "3            5.0  0.00                  0.0               1.0               0   \n",
       "4            1.0  0.00                  0.0               1.0               1   \n",
       "\n",
       "   Dietary Habits  Suicidal Thoughts?  work/study Hours  Financial Stress  \\\n",
       "0               0                   0               1.0               2.0   \n",
       "1               2                   1               7.0               3.0   \n",
       "2               0                   1               3.0               1.0   \n",
       "3               1                   1              10.0               1.0   \n",
       "4               2                   1               9.0               4.0   \n",
       "\n",
       "   Depression  \n",
       "0           0  \n",
       "1           1  \n",
       "2           1  \n",
       "3           1  \n",
       "4           0  "
      ]
     },
     "execution_count": 91,
     "metadata": {},
     "output_type": "execute_result"
    }
   ],
   "source": [
    "xy_df = new_df.copy()\n",
    "\n",
    "xy_df.drop(columns=['Gender','City','Degree','Heritage Illness'], axis=1, inplace=True)\n",
    "\n",
    "xy_df.head(5)"
   ]
  },
  {
   "cell_type": "markdown",
   "id": "56608b11",
   "metadata": {},
   "source": [
    "# Splitting the data"
   ]
  },
  {
   "cell_type": "markdown",
   "id": "36597342",
   "metadata": {},
   "source": [
    "#### Check for Duplicates"
   ]
  },
  {
   "cell_type": "code",
   "execution_count": 92,
   "id": "f9485f3d",
   "metadata": {},
   "outputs": [
    {
     "data": {
      "text/plain": [
       "1092"
      ]
     },
     "execution_count": 92,
     "metadata": {},
     "output_type": "execute_result"
    }
   ],
   "source": [
    "xy_df.duplicated().sum()"
   ]
  },
  {
   "cell_type": "markdown",
   "id": "ffec6787",
   "metadata": {},
   "source": [
    "#### Removing the Duplicates"
   ]
  },
  {
   "cell_type": "code",
   "execution_count": 93,
   "id": "0f788257",
   "metadata": {},
   "outputs": [],
   "source": [
    "xy_df.drop_duplicates(inplace=True)"
   ]
  },
  {
   "cell_type": "markdown",
   "id": "c533330a",
   "metadata": {},
   "source": [
    "#### Check for Duplicates"
   ]
  },
  {
   "cell_type": "code",
   "execution_count": 94,
   "id": "62ecc3c6",
   "metadata": {},
   "outputs": [
    {
     "data": {
      "text/plain": [
       "0"
      ]
     },
     "execution_count": 94,
     "metadata": {},
     "output_type": "execute_result"
    }
   ],
   "source": [
    "xy_df.duplicated().sum()"
   ]
  },
  {
   "cell_type": "markdown",
   "id": "0d77cede",
   "metadata": {},
   "source": [
    "#### shape of the new Dataset"
   ]
  },
  {
   "cell_type": "code",
   "execution_count": 95,
   "id": "c8f6e4b4",
   "metadata": {},
   "outputs": [
    {
     "data": {
      "text/plain": [
       "(139447, 14)"
      ]
     },
     "execution_count": 95,
     "metadata": {},
     "output_type": "execute_result"
    }
   ],
   "source": [
    "xy_df.shape"
   ]
  },
  {
   "cell_type": "markdown",
   "id": "4fdf3aa9",
   "metadata": {},
   "source": [
    "#### Number of deleted rows"
   ]
  },
  {
   "cell_type": "code",
   "execution_count": 96,
   "id": "f4c1655d",
   "metadata": {},
   "outputs": [
    {
     "data": {
      "text/plain": [
       "1253"
      ]
     },
     "execution_count": 96,
     "metadata": {},
     "output_type": "execute_result"
    }
   ],
   "source": [
    "140700 - 139447"
   ]
  },
  {
   "cell_type": "code",
   "execution_count": 97,
   "id": "4b0a2ce7",
   "metadata": {},
   "outputs": [
    {
     "name": "stdout",
     "output_type": "stream",
     "text": [
      "<class 'pandas.core.frame.DataFrame'>\n",
      "Index: 139447 entries, 0 to 140699\n",
      "Data columns (total 14 columns):\n",
      " #   Column                       Non-Null Count   Dtype  \n",
      "---  ------                       --------------   -----  \n",
      " 0   Age                          139447 non-null  float64\n",
      " 1   Worker Professional/Student  139447 non-null  int32  \n",
      " 2   Profession                   139447 non-null  int32  \n",
      " 3   Academic Pressure            139447 non-null  float64\n",
      " 4   Work Pressure                139447 non-null  float64\n",
      " 5   CGPA                         139447 non-null  float64\n",
      " 6   Study Satisifaction          139447 non-null  float64\n",
      " 7   Job Satisfaction             139447 non-null  float64\n",
      " 8   Sleep Duration               139447 non-null  int64  \n",
      " 9   Dietary Habits               139447 non-null  int32  \n",
      " 10  Suicidal Thoughts?           139447 non-null  int32  \n",
      " 11  work/study Hours             139447 non-null  float64\n",
      " 12  Financial Stress             139447 non-null  float64\n",
      " 13  Depression                   139447 non-null  int64  \n",
      "dtypes: float64(8), int32(4), int64(2)\n",
      "memory usage: 13.8 MB\n"
     ]
    }
   ],
   "source": [
    "xy_df.info()"
   ]
  },
  {
   "cell_type": "code",
   "execution_count": 98,
   "id": "51f68ca9",
   "metadata": {},
   "outputs": [
    {
     "data": {
      "text/html": [
       "<div>\n",
       "<style scoped>\n",
       "    .dataframe tbody tr th:only-of-type {\n",
       "        vertical-align: middle;\n",
       "    }\n",
       "\n",
       "    .dataframe tbody tr th {\n",
       "        vertical-align: top;\n",
       "    }\n",
       "\n",
       "    .dataframe thead th {\n",
       "        text-align: right;\n",
       "    }\n",
       "</style>\n",
       "<table border=\"1\" class=\"dataframe\">\n",
       "  <thead>\n",
       "    <tr style=\"text-align: right;\">\n",
       "      <th></th>\n",
       "      <th>Age</th>\n",
       "      <th>Worker Professional/Student</th>\n",
       "      <th>Profession</th>\n",
       "      <th>Academic Pressure</th>\n",
       "      <th>Work Pressure</th>\n",
       "      <th>CGPA</th>\n",
       "      <th>Study Satisifaction</th>\n",
       "      <th>Job Satisfaction</th>\n",
       "      <th>Sleep Duration</th>\n",
       "      <th>Dietary Habits</th>\n",
       "      <th>Suicidal Thoughts?</th>\n",
       "      <th>work/study Hours</th>\n",
       "      <th>Financial Stress</th>\n",
       "    </tr>\n",
       "  </thead>\n",
       "  <tbody>\n",
       "    <tr>\n",
       "      <th>0</th>\n",
       "      <td>49.0</td>\n",
       "      <td>1</td>\n",
       "      <td>0</td>\n",
       "      <td>0.0</td>\n",
       "      <td>5.0</td>\n",
       "      <td>0.00</td>\n",
       "      <td>0.0</td>\n",
       "      <td>2.0</td>\n",
       "      <td>2</td>\n",
       "      <td>0</td>\n",
       "      <td>0</td>\n",
       "      <td>1.0</td>\n",
       "      <td>2.0</td>\n",
       "    </tr>\n",
       "    <tr>\n",
       "      <th>1</th>\n",
       "      <td>26.0</td>\n",
       "      <td>1</td>\n",
       "      <td>1</td>\n",
       "      <td>0.0</td>\n",
       "      <td>4.0</td>\n",
       "      <td>0.00</td>\n",
       "      <td>0.0</td>\n",
       "      <td>3.0</td>\n",
       "      <td>0</td>\n",
       "      <td>2</td>\n",
       "      <td>1</td>\n",
       "      <td>7.0</td>\n",
       "      <td>3.0</td>\n",
       "    </tr>\n",
       "    <tr>\n",
       "      <th>2</th>\n",
       "      <td>33.0</td>\n",
       "      <td>0</td>\n",
       "      <td>2</td>\n",
       "      <td>5.0</td>\n",
       "      <td>0.0</td>\n",
       "      <td>8.97</td>\n",
       "      <td>2.0</td>\n",
       "      <td>0.0</td>\n",
       "      <td>1</td>\n",
       "      <td>0</td>\n",
       "      <td>1</td>\n",
       "      <td>3.0</td>\n",
       "      <td>1.0</td>\n",
       "    </tr>\n",
       "    <tr>\n",
       "      <th>3</th>\n",
       "      <td>22.0</td>\n",
       "      <td>1</td>\n",
       "      <td>1</td>\n",
       "      <td>0.0</td>\n",
       "      <td>5.0</td>\n",
       "      <td>0.00</td>\n",
       "      <td>0.0</td>\n",
       "      <td>1.0</td>\n",
       "      <td>0</td>\n",
       "      <td>1</td>\n",
       "      <td>1</td>\n",
       "      <td>10.0</td>\n",
       "      <td>1.0</td>\n",
       "    </tr>\n",
       "    <tr>\n",
       "      <th>4</th>\n",
       "      <td>30.0</td>\n",
       "      <td>1</td>\n",
       "      <td>3</td>\n",
       "      <td>0.0</td>\n",
       "      <td>1.0</td>\n",
       "      <td>0.00</td>\n",
       "      <td>0.0</td>\n",
       "      <td>1.0</td>\n",
       "      <td>1</td>\n",
       "      <td>2</td>\n",
       "      <td>1</td>\n",
       "      <td>9.0</td>\n",
       "      <td>4.0</td>\n",
       "    </tr>\n",
       "    <tr>\n",
       "      <th>...</th>\n",
       "      <td>...</td>\n",
       "      <td>...</td>\n",
       "      <td>...</td>\n",
       "      <td>...</td>\n",
       "      <td>...</td>\n",
       "      <td>...</td>\n",
       "      <td>...</td>\n",
       "      <td>...</td>\n",
       "      <td>...</td>\n",
       "      <td>...</td>\n",
       "      <td>...</td>\n",
       "      <td>...</td>\n",
       "      <td>...</td>\n",
       "    </tr>\n",
       "    <tr>\n",
       "      <th>140695</th>\n",
       "      <td>18.0</td>\n",
       "      <td>1</td>\n",
       "      <td>2</td>\n",
       "      <td>0.0</td>\n",
       "      <td>5.0</td>\n",
       "      <td>0.00</td>\n",
       "      <td>0.0</td>\n",
       "      <td>4.0</td>\n",
       "      <td>1</td>\n",
       "      <td>2</td>\n",
       "      <td>0</td>\n",
       "      <td>2.0</td>\n",
       "      <td>4.0</td>\n",
       "    </tr>\n",
       "    <tr>\n",
       "      <th>140696</th>\n",
       "      <td>41.0</td>\n",
       "      <td>1</td>\n",
       "      <td>15</td>\n",
       "      <td>0.0</td>\n",
       "      <td>5.0</td>\n",
       "      <td>0.00</td>\n",
       "      <td>0.0</td>\n",
       "      <td>4.0</td>\n",
       "      <td>1</td>\n",
       "      <td>1</td>\n",
       "      <td>1</td>\n",
       "      <td>6.0</td>\n",
       "      <td>5.0</td>\n",
       "    </tr>\n",
       "    <tr>\n",
       "      <th>140697</th>\n",
       "      <td>24.0</td>\n",
       "      <td>1</td>\n",
       "      <td>10</td>\n",
       "      <td>0.0</td>\n",
       "      <td>3.0</td>\n",
       "      <td>0.00</td>\n",
       "      <td>0.0</td>\n",
       "      <td>1.0</td>\n",
       "      <td>2</td>\n",
       "      <td>1</td>\n",
       "      <td>0</td>\n",
       "      <td>4.0</td>\n",
       "      <td>4.0</td>\n",
       "    </tr>\n",
       "    <tr>\n",
       "      <th>140698</th>\n",
       "      <td>49.0</td>\n",
       "      <td>1</td>\n",
       "      <td>9</td>\n",
       "      <td>0.0</td>\n",
       "      <td>5.0</td>\n",
       "      <td>0.00</td>\n",
       "      <td>0.0</td>\n",
       "      <td>2.0</td>\n",
       "      <td>1</td>\n",
       "      <td>1</td>\n",
       "      <td>1</td>\n",
       "      <td>10.0</td>\n",
       "      <td>1.0</td>\n",
       "    </tr>\n",
       "    <tr>\n",
       "      <th>140699</th>\n",
       "      <td>27.0</td>\n",
       "      <td>0</td>\n",
       "      <td>2</td>\n",
       "      <td>4.0</td>\n",
       "      <td>0.0</td>\n",
       "      <td>9.24</td>\n",
       "      <td>1.0</td>\n",
       "      <td>0.0</td>\n",
       "      <td>0</td>\n",
       "      <td>0</td>\n",
       "      <td>1</td>\n",
       "      <td>2.0</td>\n",
       "      <td>3.0</td>\n",
       "    </tr>\n",
       "  </tbody>\n",
       "</table>\n",
       "<p>139447 rows × 13 columns</p>\n",
       "</div>"
      ],
      "text/plain": [
       "         Age  Worker Professional/Student  Profession  Academic Pressure  \\\n",
       "0       49.0                            1           0                0.0   \n",
       "1       26.0                            1           1                0.0   \n",
       "2       33.0                            0           2                5.0   \n",
       "3       22.0                            1           1                0.0   \n",
       "4       30.0                            1           3                0.0   \n",
       "...      ...                          ...         ...                ...   \n",
       "140695  18.0                            1           2                0.0   \n",
       "140696  41.0                            1          15                0.0   \n",
       "140697  24.0                            1          10                0.0   \n",
       "140698  49.0                            1           9                0.0   \n",
       "140699  27.0                            0           2                4.0   \n",
       "\n",
       "        Work Pressure  CGPA  Study Satisifaction  Job Satisfaction  \\\n",
       "0                 5.0  0.00                  0.0               2.0   \n",
       "1                 4.0  0.00                  0.0               3.0   \n",
       "2                 0.0  8.97                  2.0               0.0   \n",
       "3                 5.0  0.00                  0.0               1.0   \n",
       "4                 1.0  0.00                  0.0               1.0   \n",
       "...               ...   ...                  ...               ...   \n",
       "140695            5.0  0.00                  0.0               4.0   \n",
       "140696            5.0  0.00                  0.0               4.0   \n",
       "140697            3.0  0.00                  0.0               1.0   \n",
       "140698            5.0  0.00                  0.0               2.0   \n",
       "140699            0.0  9.24                  1.0               0.0   \n",
       "\n",
       "        Sleep Duration  Dietary Habits  Suicidal Thoughts?  work/study Hours  \\\n",
       "0                    2               0                   0               1.0   \n",
       "1                    0               2                   1               7.0   \n",
       "2                    1               0                   1               3.0   \n",
       "3                    0               1                   1              10.0   \n",
       "4                    1               2                   1               9.0   \n",
       "...                ...             ...                 ...               ...   \n",
       "140695               1               2                   0               2.0   \n",
       "140696               1               1                   1               6.0   \n",
       "140697               2               1                   0               4.0   \n",
       "140698               1               1                   1              10.0   \n",
       "140699               0               0                   1               2.0   \n",
       "\n",
       "        Financial Stress  \n",
       "0                    2.0  \n",
       "1                    3.0  \n",
       "2                    1.0  \n",
       "3                    1.0  \n",
       "4                    4.0  \n",
       "...                  ...  \n",
       "140695               4.0  \n",
       "140696               5.0  \n",
       "140697               4.0  \n",
       "140698               1.0  \n",
       "140699               3.0  \n",
       "\n",
       "[139447 rows x 13 columns]"
      ]
     },
     "execution_count": 98,
     "metadata": {},
     "output_type": "execute_result"
    }
   ],
   "source": [
    "X = xy_df.iloc[:,:13]\n",
    "X"
   ]
  },
  {
   "cell_type": "code",
   "execution_count": 99,
   "id": "64025c43",
   "metadata": {},
   "outputs": [
    {
     "data": {
      "text/plain": [
       "0         0\n",
       "1         1\n",
       "2         1\n",
       "3         1\n",
       "4         0\n",
       "         ..\n",
       "140695    1\n",
       "140696    0\n",
       "140697    0\n",
       "140698    0\n",
       "140699    1\n",
       "Name: Depression, Length: 139447, dtype: int64"
      ]
     },
     "execution_count": 99,
     "metadata": {},
     "output_type": "execute_result"
    }
   ],
   "source": [
    "y = xy_df['Depression']\n",
    "y"
   ]
  },
  {
   "cell_type": "markdown",
   "id": "471faecf",
   "metadata": {},
   "source": [
    "### Split set"
   ]
  },
  {
   "cell_type": "code",
   "execution_count": 100,
   "id": "de270edb",
   "metadata": {},
   "outputs": [],
   "source": [
    "# splitting the dataset into training set and test set\n",
    "\n",
    "x_train , x_test, y_train, y_test = train_test_split(X,y, test_size=0.1, random_state=53)"
   ]
  },
  {
   "cell_type": "code",
   "execution_count": 101,
   "id": "19cc9404",
   "metadata": {},
   "outputs": [
    {
     "name": "stdout",
     "output_type": "stream",
     "text": [
      "Training set : X->(125502, 13), y->(125502,)\n",
      "Testing set : X->(13945, 13), y->(13945,)\n"
     ]
    }
   ],
   "source": [
    "# printing the dhape of the training and testing dataset\n",
    "\n",
    "print(f\"Training set : X->{x_train.shape}, y->{y_train.shape}\")\n",
    "print(f\"Testing set : X->{x_test.shape}, y->{y_test.shape}\")"
   ]
  },
  {
   "cell_type": "markdown",
   "id": "f7fd27be",
   "metadata": {},
   "source": [
    "# Building a NN"
   ]
  },
  {
   "cell_type": "code",
   "execution_count": 102,
   "id": "46423076",
   "metadata": {},
   "outputs": [
    {
     "name": "stdout",
     "output_type": "stream",
     "text": [
      "13\n"
     ]
    }
   ],
   "source": [
    "print(len(x_train.columns))"
   ]
  },
  {
   "cell_type": "markdown",
   "id": "bc5c8daf",
   "metadata": {},
   "source": [
    "### Initializing the model"
   ]
  },
  {
   "cell_type": "code",
   "execution_count": 103,
   "id": "1ae309e6",
   "metadata": {},
   "outputs": [],
   "source": [
    "# # my neural network \n",
    "# # sequential API\n",
    "\n",
    "model = tf.keras.Sequential([\n",
    "    tf.keras.Input(shape=(13,)),\n",
    "    tf.keras.layers.Dense(128,activation='relu',activity_regularizer=tf.keras.regularizers.l2(0.01)),\n",
    "    tf.keras.layers.Dropout(rate=0.3),\n",
    "    tf.keras.layers.Dense(64, activation='leaky_relu'),\n",
    "    tf.keras.layers.Dense(32, activation='tanh'),\n",
    "    tf.keras.layers.Dense(16, activation='relu'),\n",
    "    tf.keras.layers.Dropout(rate=0.5),\n",
    "    tf.keras.layers.Dense(8, activation='relu'),\n",
    "    tf.keras.layers.Dense(4, activation='relu'),\n",
    "    tf.keras.layers.Dense(2, activation='relu'),\n",
    "    tf.keras.layers.Dense(1, activation='sigmoid')\n",
    "])\n"
   ]
  },
  {
   "cell_type": "markdown",
   "id": "e00f3041",
   "metadata": {},
   "source": [
    "### compiling the model"
   ]
  },
  {
   "cell_type": "code",
   "execution_count": 104,
   "id": "cd3b5884",
   "metadata": {},
   "outputs": [],
   "source": [
    "model.compile(\n",
    "    optimizer=tf.keras.optimizers.Adam(learning_rate=0.001),\n",
    "    loss='binary_crossentropy',\n",
    "    metrics=['accuracy',  tf.keras.metrics.Precision(name='precision')\n",
    "#              tf.keras.metrics.Recall(name='recall'),\n",
    "#              tf.keras.metrics.AUC(name='auc')\n",
    "])"
   ]
  },
  {
   "cell_type": "markdown",
   "id": "847b8fea",
   "metadata": {},
   "source": [
    "### model summary"
   ]
  },
  {
   "cell_type": "code",
   "execution_count": 117,
   "id": "d31c5410",
   "metadata": {},
   "outputs": [
    {
     "data": {
      "text/html": [
       "<pre style=\"white-space:pre;overflow-x:auto;line-height:normal;font-family:Menlo,'DejaVu Sans Mono',consolas,'Courier New',monospace\"><span style=\"font-weight: bold\">Model: \"sequential\"</span>\n",
       "</pre>\n"
      ],
      "text/plain": [
       "\u001b[1mModel: \"sequential\"\u001b[0m\n"
      ]
     },
     "metadata": {},
     "output_type": "display_data"
    },
    {
     "data": {
      "text/html": [
       "<pre style=\"white-space:pre;overflow-x:auto;line-height:normal;font-family:Menlo,'DejaVu Sans Mono',consolas,'Courier New',monospace\">┏━━━━━━━━━━━━━━━━━━━━━━━━━━━━━━━━━━━━━━┳━━━━━━━━━━━━━━━━━━━━━━━━━━━━━┳━━━━━━━━━━━━━━━━━┓\n",
       "┃<span style=\"font-weight: bold\"> Layer (type)                         </span>┃<span style=\"font-weight: bold\"> Output Shape                </span>┃<span style=\"font-weight: bold\">         Param # </span>┃\n",
       "┡━━━━━━━━━━━━━━━━━━━━━━━━━━━━━━━━━━━━━━╇━━━━━━━━━━━━━━━━━━━━━━━━━━━━━╇━━━━━━━━━━━━━━━━━┩\n",
       "│ dense (<span style=\"color: #0087ff; text-decoration-color: #0087ff\">Dense</span>)                        │ (<span style=\"color: #00d7ff; text-decoration-color: #00d7ff\">None</span>, <span style=\"color: #00af00; text-decoration-color: #00af00\">128</span>)                 │           <span style=\"color: #00af00; text-decoration-color: #00af00\">1,792</span> │\n",
       "├──────────────────────────────────────┼─────────────────────────────┼─────────────────┤\n",
       "│ dropout (<span style=\"color: #0087ff; text-decoration-color: #0087ff\">Dropout</span>)                    │ (<span style=\"color: #00d7ff; text-decoration-color: #00d7ff\">None</span>, <span style=\"color: #00af00; text-decoration-color: #00af00\">128</span>)                 │               <span style=\"color: #00af00; text-decoration-color: #00af00\">0</span> │\n",
       "├──────────────────────────────────────┼─────────────────────────────┼─────────────────┤\n",
       "│ dense_1 (<span style=\"color: #0087ff; text-decoration-color: #0087ff\">Dense</span>)                      │ (<span style=\"color: #00d7ff; text-decoration-color: #00d7ff\">None</span>, <span style=\"color: #00af00; text-decoration-color: #00af00\">64</span>)                  │           <span style=\"color: #00af00; text-decoration-color: #00af00\">8,256</span> │\n",
       "├──────────────────────────────────────┼─────────────────────────────┼─────────────────┤\n",
       "│ dense_2 (<span style=\"color: #0087ff; text-decoration-color: #0087ff\">Dense</span>)                      │ (<span style=\"color: #00d7ff; text-decoration-color: #00d7ff\">None</span>, <span style=\"color: #00af00; text-decoration-color: #00af00\">32</span>)                  │           <span style=\"color: #00af00; text-decoration-color: #00af00\">2,080</span> │\n",
       "├──────────────────────────────────────┼─────────────────────────────┼─────────────────┤\n",
       "│ dense_3 (<span style=\"color: #0087ff; text-decoration-color: #0087ff\">Dense</span>)                      │ (<span style=\"color: #00d7ff; text-decoration-color: #00d7ff\">None</span>, <span style=\"color: #00af00; text-decoration-color: #00af00\">16</span>)                  │             <span style=\"color: #00af00; text-decoration-color: #00af00\">528</span> │\n",
       "├──────────────────────────────────────┼─────────────────────────────┼─────────────────┤\n",
       "│ dropout_1 (<span style=\"color: #0087ff; text-decoration-color: #0087ff\">Dropout</span>)                  │ (<span style=\"color: #00d7ff; text-decoration-color: #00d7ff\">None</span>, <span style=\"color: #00af00; text-decoration-color: #00af00\">16</span>)                  │               <span style=\"color: #00af00; text-decoration-color: #00af00\">0</span> │\n",
       "├──────────────────────────────────────┼─────────────────────────────┼─────────────────┤\n",
       "│ dense_4 (<span style=\"color: #0087ff; text-decoration-color: #0087ff\">Dense</span>)                      │ (<span style=\"color: #00d7ff; text-decoration-color: #00d7ff\">None</span>, <span style=\"color: #00af00; text-decoration-color: #00af00\">8</span>)                   │             <span style=\"color: #00af00; text-decoration-color: #00af00\">136</span> │\n",
       "├──────────────────────────────────────┼─────────────────────────────┼─────────────────┤\n",
       "│ dense_5 (<span style=\"color: #0087ff; text-decoration-color: #0087ff\">Dense</span>)                      │ (<span style=\"color: #00d7ff; text-decoration-color: #00d7ff\">None</span>, <span style=\"color: #00af00; text-decoration-color: #00af00\">4</span>)                   │              <span style=\"color: #00af00; text-decoration-color: #00af00\">36</span> │\n",
       "├──────────────────────────────────────┼─────────────────────────────┼─────────────────┤\n",
       "│ dense_6 (<span style=\"color: #0087ff; text-decoration-color: #0087ff\">Dense</span>)                      │ (<span style=\"color: #00d7ff; text-decoration-color: #00d7ff\">None</span>, <span style=\"color: #00af00; text-decoration-color: #00af00\">2</span>)                   │              <span style=\"color: #00af00; text-decoration-color: #00af00\">10</span> │\n",
       "├──────────────────────────────────────┼─────────────────────────────┼─────────────────┤\n",
       "│ dense_7 (<span style=\"color: #0087ff; text-decoration-color: #0087ff\">Dense</span>)                      │ (<span style=\"color: #00d7ff; text-decoration-color: #00d7ff\">None</span>, <span style=\"color: #00af00; text-decoration-color: #00af00\">1</span>)                   │               <span style=\"color: #00af00; text-decoration-color: #00af00\">3</span> │\n",
       "└──────────────────────────────────────┴─────────────────────────────┴─────────────────┘\n",
       "</pre>\n"
      ],
      "text/plain": [
       "┏━━━━━━━━━━━━━━━━━━━━━━━━━━━━━━━━━━━━━━┳━━━━━━━━━━━━━━━━━━━━━━━━━━━━━┳━━━━━━━━━━━━━━━━━┓\n",
       "┃\u001b[1m \u001b[0m\u001b[1mLayer (type)                        \u001b[0m\u001b[1m \u001b[0m┃\u001b[1m \u001b[0m\u001b[1mOutput Shape               \u001b[0m\u001b[1m \u001b[0m┃\u001b[1m \u001b[0m\u001b[1m        Param #\u001b[0m\u001b[1m \u001b[0m┃\n",
       "┡━━━━━━━━━━━━━━━━━━━━━━━━━━━━━━━━━━━━━━╇━━━━━━━━━━━━━━━━━━━━━━━━━━━━━╇━━━━━━━━━━━━━━━━━┩\n",
       "│ dense (\u001b[38;5;33mDense\u001b[0m)                        │ (\u001b[38;5;45mNone\u001b[0m, \u001b[38;5;34m128\u001b[0m)                 │           \u001b[38;5;34m1,792\u001b[0m │\n",
       "├──────────────────────────────────────┼─────────────────────────────┼─────────────────┤\n",
       "│ dropout (\u001b[38;5;33mDropout\u001b[0m)                    │ (\u001b[38;5;45mNone\u001b[0m, \u001b[38;5;34m128\u001b[0m)                 │               \u001b[38;5;34m0\u001b[0m │\n",
       "├──────────────────────────────────────┼─────────────────────────────┼─────────────────┤\n",
       "│ dense_1 (\u001b[38;5;33mDense\u001b[0m)                      │ (\u001b[38;5;45mNone\u001b[0m, \u001b[38;5;34m64\u001b[0m)                  │           \u001b[38;5;34m8,256\u001b[0m │\n",
       "├──────────────────────────────────────┼─────────────────────────────┼─────────────────┤\n",
       "│ dense_2 (\u001b[38;5;33mDense\u001b[0m)                      │ (\u001b[38;5;45mNone\u001b[0m, \u001b[38;5;34m32\u001b[0m)                  │           \u001b[38;5;34m2,080\u001b[0m │\n",
       "├──────────────────────────────────────┼─────────────────────────────┼─────────────────┤\n",
       "│ dense_3 (\u001b[38;5;33mDense\u001b[0m)                      │ (\u001b[38;5;45mNone\u001b[0m, \u001b[38;5;34m16\u001b[0m)                  │             \u001b[38;5;34m528\u001b[0m │\n",
       "├──────────────────────────────────────┼─────────────────────────────┼─────────────────┤\n",
       "│ dropout_1 (\u001b[38;5;33mDropout\u001b[0m)                  │ (\u001b[38;5;45mNone\u001b[0m, \u001b[38;5;34m16\u001b[0m)                  │               \u001b[38;5;34m0\u001b[0m │\n",
       "├──────────────────────────────────────┼─────────────────────────────┼─────────────────┤\n",
       "│ dense_4 (\u001b[38;5;33mDense\u001b[0m)                      │ (\u001b[38;5;45mNone\u001b[0m, \u001b[38;5;34m8\u001b[0m)                   │             \u001b[38;5;34m136\u001b[0m │\n",
       "├──────────────────────────────────────┼─────────────────────────────┼─────────────────┤\n",
       "│ dense_5 (\u001b[38;5;33mDense\u001b[0m)                      │ (\u001b[38;5;45mNone\u001b[0m, \u001b[38;5;34m4\u001b[0m)                   │              \u001b[38;5;34m36\u001b[0m │\n",
       "├──────────────────────────────────────┼─────────────────────────────┼─────────────────┤\n",
       "│ dense_6 (\u001b[38;5;33mDense\u001b[0m)                      │ (\u001b[38;5;45mNone\u001b[0m, \u001b[38;5;34m2\u001b[0m)                   │              \u001b[38;5;34m10\u001b[0m │\n",
       "├──────────────────────────────────────┼─────────────────────────────┼─────────────────┤\n",
       "│ dense_7 (\u001b[38;5;33mDense\u001b[0m)                      │ (\u001b[38;5;45mNone\u001b[0m, \u001b[38;5;34m1\u001b[0m)                   │               \u001b[38;5;34m3\u001b[0m │\n",
       "└──────────────────────────────────────┴─────────────────────────────┴─────────────────┘\n"
      ]
     },
     "metadata": {},
     "output_type": "display_data"
    },
    {
     "data": {
      "text/html": [
       "<pre style=\"white-space:pre;overflow-x:auto;line-height:normal;font-family:Menlo,'DejaVu Sans Mono',consolas,'Courier New',monospace\"><span style=\"font-weight: bold\"> Total params: </span><span style=\"color: #00af00; text-decoration-color: #00af00\">38,525</span> (150.49 KB)\n",
       "</pre>\n"
      ],
      "text/plain": [
       "\u001b[1m Total params: \u001b[0m\u001b[38;5;34m38,525\u001b[0m (150.49 KB)\n"
      ]
     },
     "metadata": {},
     "output_type": "display_data"
    },
    {
     "data": {
      "text/html": [
       "<pre style=\"white-space:pre;overflow-x:auto;line-height:normal;font-family:Menlo,'DejaVu Sans Mono',consolas,'Courier New',monospace\"><span style=\"font-weight: bold\"> Trainable params: </span><span style=\"color: #00af00; text-decoration-color: #00af00\">12,841</span> (50.16 KB)\n",
       "</pre>\n"
      ],
      "text/plain": [
       "\u001b[1m Trainable params: \u001b[0m\u001b[38;5;34m12,841\u001b[0m (50.16 KB)\n"
      ]
     },
     "metadata": {},
     "output_type": "display_data"
    },
    {
     "data": {
      "text/html": [
       "<pre style=\"white-space:pre;overflow-x:auto;line-height:normal;font-family:Menlo,'DejaVu Sans Mono',consolas,'Courier New',monospace\"><span style=\"font-weight: bold\"> Non-trainable params: </span><span style=\"color: #00af00; text-decoration-color: #00af00\">0</span> (0.00 B)\n",
       "</pre>\n"
      ],
      "text/plain": [
       "\u001b[1m Non-trainable params: \u001b[0m\u001b[38;5;34m0\u001b[0m (0.00 B)\n"
      ]
     },
     "metadata": {},
     "output_type": "display_data"
    },
    {
     "data": {
      "text/html": [
       "<pre style=\"white-space:pre;overflow-x:auto;line-height:normal;font-family:Menlo,'DejaVu Sans Mono',consolas,'Courier New',monospace\"><span style=\"font-weight: bold\"> Optimizer params: </span><span style=\"color: #00af00; text-decoration-color: #00af00\">25,684</span> (100.33 KB)\n",
       "</pre>\n"
      ],
      "text/plain": [
       "\u001b[1m Optimizer params: \u001b[0m\u001b[38;5;34m25,684\u001b[0m (100.33 KB)\n"
      ]
     },
     "metadata": {},
     "output_type": "display_data"
    }
   ],
   "source": [
    "model.summary()"
   ]
  },
  {
   "cell_type": "markdown",
   "id": "098cfe22",
   "metadata": {},
   "source": [
    "# Training the model"
   ]
  },
  {
   "cell_type": "code",
   "execution_count": 106,
   "id": "5ca3c7b7",
   "metadata": {
    "scrolled": false
   },
   "outputs": [
    {
     "name": "stdout",
     "output_type": "stream",
     "text": [
      "Epoch 1/50\n",
      "\u001b[1m1005/1005\u001b[0m \u001b[32m━━━━━━━━━━━━━━━━━━━━\u001b[0m\u001b[37m\u001b[0m \u001b[1m8s\u001b[0m 4ms/step - accuracy: 0.8187 - loss: 251.3791 - precision: 0.5054 - val_accuracy: 0.9207 - val_loss: 0.3769 - val_precision: 0.7880\n",
      "Epoch 2/50\n",
      "\u001b[1m1005/1005\u001b[0m \u001b[32m━━━━━━━━━━━━━━━━━━━━\u001b[0m\u001b[37m\u001b[0m \u001b[1m3s\u001b[0m 3ms/step - accuracy: 0.9047 - loss: 0.3743 - precision: 0.7633 - val_accuracy: 0.9141 - val_loss: 0.2761 - val_precision: 0.7452\n",
      "Epoch 3/50\n",
      "\u001b[1m1005/1005\u001b[0m \u001b[32m━━━━━━━━━━━━━━━━━━━━\u001b[0m\u001b[37m\u001b[0m \u001b[1m3s\u001b[0m 3ms/step - accuracy: 0.9102 - loss: 0.2996 - precision: 0.7655 - val_accuracy: 0.9267 - val_loss: 0.2363 - val_precision: 0.7611\n",
      "Epoch 4/50\n",
      "\u001b[1m1005/1005\u001b[0m \u001b[32m━━━━━━━━━━━━━━━━━━━━\u001b[0m\u001b[37m\u001b[0m \u001b[1m3s\u001b[0m 3ms/step - accuracy: 0.9055 - loss: 0.3037 - precision: 0.7571 - val_accuracy: 0.9329 - val_loss: 0.2330 - val_precision: 0.8323\n",
      "Epoch 5/50\n",
      "\u001b[1m1005/1005\u001b[0m \u001b[32m━━━━━━━━━━━━━━━━━━━━\u001b[0m\u001b[37m\u001b[0m \u001b[1m3s\u001b[0m 3ms/step - accuracy: 0.9103 - loss: 0.2904 - precision: 0.7759 - val_accuracy: 0.9357 - val_loss: 0.2276 - val_precision: 0.8234\n",
      "Epoch 6/50\n",
      "\u001b[1m1005/1005\u001b[0m \u001b[32m━━━━━━━━━━━━━━━━━━━━\u001b[0m\u001b[37m\u001b[0m \u001b[1m3s\u001b[0m 3ms/step - accuracy: 0.9102 - loss: 0.2916 - precision: 0.7825 - val_accuracy: 0.9162 - val_loss: 0.2727 - val_precision: 0.9091\n",
      "Epoch 7/50\n",
      "\u001b[1m1005/1005\u001b[0m \u001b[32m━━━━━━━━━━━━━━━━━━━━\u001b[0m\u001b[37m\u001b[0m \u001b[1m3s\u001b[0m 3ms/step - accuracy: 0.9114 - loss: 0.2940 - precision: 0.7972 - val_accuracy: 0.9324 - val_loss: 0.2407 - val_precision: 0.8612\n",
      "Epoch 8/50\n",
      "\u001b[1m1005/1005\u001b[0m \u001b[32m━━━━━━━━━━━━━━━━━━━━\u001b[0m\u001b[37m\u001b[0m \u001b[1m3s\u001b[0m 3ms/step - accuracy: 0.9073 - loss: 0.3113 - precision: 0.7968 - val_accuracy: 0.9332 - val_loss: 0.2464 - val_precision: 0.8357\n",
      "Epoch 9/50\n",
      "\u001b[1m1005/1005\u001b[0m \u001b[32m━━━━━━━━━━━━━━━━━━━━\u001b[0m\u001b[37m\u001b[0m \u001b[1m3s\u001b[0m 3ms/step - accuracy: 0.9121 - loss: 0.2917 - precision: 0.7801 - val_accuracy: 0.9308 - val_loss: 0.2442 - val_precision: 0.8275\n",
      "Epoch 10/50\n",
      "\u001b[1m1005/1005\u001b[0m \u001b[32m━━━━━━━━━━━━━━━━━━━━\u001b[0m\u001b[37m\u001b[0m \u001b[1m3s\u001b[0m 3ms/step - accuracy: 0.9075 - loss: 0.3025 - precision: 0.7691 - val_accuracy: 0.9291 - val_loss: 0.2447 - val_precision: 0.8679\n",
      "Epoch 11/50\n",
      "\u001b[1m1005/1005\u001b[0m \u001b[32m━━━━━━━━━━━━━━━━━━━━\u001b[0m\u001b[37m\u001b[0m \u001b[1m3s\u001b[0m 3ms/step - accuracy: 0.9094 - loss: 0.3041 - precision: 0.7857 - val_accuracy: 0.9108 - val_loss: 0.2798 - val_precision: 0.7065\n",
      "Epoch 12/50\n",
      "\u001b[1m1005/1005\u001b[0m \u001b[32m━━━━━━━━━━━━━━━━━━━━\u001b[0m\u001b[37m\u001b[0m \u001b[1m3s\u001b[0m 3ms/step - accuracy: 0.9046 - loss: 0.3137 - precision: 0.7499 - val_accuracy: 0.9350 - val_loss: 0.2411 - val_precision: 0.8171\n",
      "Epoch 13/50\n",
      "\u001b[1m1005/1005\u001b[0m \u001b[32m━━━━━━━━━━━━━━━━━━━━\u001b[0m\u001b[37m\u001b[0m \u001b[1m2s\u001b[0m 2ms/step - accuracy: 0.9151 - loss: 0.2897 - precision: 0.8052 - val_accuracy: 0.9048 - val_loss: 0.2952 - val_precision: 0.9374\n",
      "Epoch 14/50\n",
      "\u001b[1m1005/1005\u001b[0m \u001b[32m━━━━━━━━━━━━━━━━━━━━\u001b[0m\u001b[37m\u001b[0m \u001b[1m3s\u001b[0m 3ms/step - accuracy: 0.9023 - loss: 0.3135 - precision: 0.7777 - val_accuracy: 0.9307 - val_loss: 0.2531 - val_precision: 0.8572\n",
      "Epoch 15/50\n",
      "\u001b[1m1005/1005\u001b[0m \u001b[32m━━━━━━━━━━━━━━━━━━━━\u001b[0m\u001b[37m\u001b[0m \u001b[1m3s\u001b[0m 3ms/step - accuracy: 0.9106 - loss: 0.3093 - precision: 0.8075 - val_accuracy: 0.9236 - val_loss: 0.2398 - val_precision: 0.7499\n",
      "Epoch 16/50\n",
      "\u001b[1m1005/1005\u001b[0m \u001b[32m━━━━━━━━━━━━━━━━━━━━\u001b[0m\u001b[37m\u001b[0m \u001b[1m3s\u001b[0m 3ms/step - accuracy: 0.9081 - loss: 0.3122 - precision: 0.8134 - val_accuracy: 0.9346 - val_loss: 0.2374 - val_precision: 0.8361\n",
      "Epoch 17/50\n",
      "\u001b[1m1005/1005\u001b[0m \u001b[32m━━━━━━━━━━━━━━━━━━━━\u001b[0m\u001b[37m\u001b[0m \u001b[1m3s\u001b[0m 3ms/step - accuracy: 0.9095 - loss: 0.3115 - precision: 0.7829 - val_accuracy: 0.9324 - val_loss: 0.2437 - val_precision: 0.8652\n",
      "Epoch 18/50\n",
      "\u001b[1m1005/1005\u001b[0m \u001b[32m━━━━━━━━━━━━━━━━━━━━\u001b[0m\u001b[37m\u001b[0m \u001b[1m3s\u001b[0m 3ms/step - accuracy: 0.9033 - loss: 0.3251 - precision: 0.7704 - val_accuracy: 0.9329 - val_loss: 0.2499 - val_precision: 0.8567\n",
      "Epoch 19/50\n",
      "\u001b[1m1005/1005\u001b[0m \u001b[32m━━━━━━━━━━━━━━━━━━━━\u001b[0m\u001b[37m\u001b[0m \u001b[1m2s\u001b[0m 2ms/step - accuracy: 0.8981 - loss: 0.3377 - precision: 0.7891 - val_accuracy: 0.8969 - val_loss: 0.3037 - val_precision: 0.9317\n",
      "Epoch 20/50\n",
      "\u001b[1m1005/1005\u001b[0m \u001b[32m━━━━━━━━━━━━━━━━━━━━\u001b[0m\u001b[37m\u001b[0m \u001b[1m3s\u001b[0m 3ms/step - accuracy: 0.8972 - loss: 0.3302 - precision: 0.7501 - val_accuracy: 0.9296 - val_loss: 0.2593 - val_precision: 0.8194\n",
      "Epoch 21/50\n",
      "\u001b[1m1005/1005\u001b[0m \u001b[32m━━━━━━━━━━━━━━━━━━━━\u001b[0m\u001b[37m\u001b[0m \u001b[1m3s\u001b[0m 3ms/step - accuracy: 0.9109 - loss: 0.3082 - precision: 0.7989 - val_accuracy: 0.9182 - val_loss: 0.2594 - val_precision: 0.9065\n",
      "Epoch 22/50\n",
      "\u001b[1m1005/1005\u001b[0m \u001b[32m━━━━━━━━━━━━━━━━━━━━\u001b[0m\u001b[37m\u001b[0m \u001b[1m3s\u001b[0m 3ms/step - accuracy: 0.9084 - loss: 0.3153 - precision: 0.8099 - val_accuracy: 0.9291 - val_loss: 0.2530 - val_precision: 0.8323\n",
      "Epoch 23/50\n",
      "\u001b[1m1005/1005\u001b[0m \u001b[32m━━━━━━━━━━━━━━━━━━━━\u001b[0m\u001b[37m\u001b[0m \u001b[1m3s\u001b[0m 3ms/step - accuracy: 0.9027 - loss: 0.3200 - precision: 0.8011 - val_accuracy: 0.9327 - val_loss: 0.2688 - val_precision: 0.8224\n",
      "Epoch 24/50\n",
      "\u001b[1m1005/1005\u001b[0m \u001b[32m━━━━━━━━━━━━━━━━━━━━\u001b[0m\u001b[37m\u001b[0m \u001b[1m3s\u001b[0m 3ms/step - accuracy: 0.9106 - loss: 0.3056 - precision: 0.7931 - val_accuracy: 0.9249 - val_loss: 0.2691 - val_precision: 0.8769\n",
      "Epoch 25/50\n",
      "\u001b[1m1005/1005\u001b[0m \u001b[32m━━━━━━━━━━━━━━━━━━━━\u001b[0m\u001b[37m\u001b[0m \u001b[1m3s\u001b[0m 3ms/step - accuracy: 0.8936 - loss: 0.3471 - precision: 0.7460 - val_accuracy: 0.9245 - val_loss: 0.2650 - val_precision: 0.8889\n",
      "Epoch 26/50\n",
      "\u001b[1m1005/1005\u001b[0m \u001b[32m━━━━━━━━━━━━━━━━━━━━\u001b[0m\u001b[37m\u001b[0m \u001b[1m3s\u001b[0m 3ms/step - accuracy: 0.9087 - loss: 0.3103 - precision: 0.8083 - val_accuracy: 0.9211 - val_loss: 0.2908 - val_precision: 0.8580\n",
      "Epoch 27/50\n",
      "\u001b[1m1005/1005\u001b[0m \u001b[32m━━━━━━━━━━━━━━━━━━━━\u001b[0m\u001b[37m\u001b[0m \u001b[1m3s\u001b[0m 3ms/step - accuracy: 0.9034 - loss: 0.3392 - precision: 0.7786 - val_accuracy: 0.9229 - val_loss: 0.2980 - val_precision: 0.8736\n",
      "Epoch 28/50\n",
      "\u001b[1m1005/1005\u001b[0m \u001b[32m━━━━━━━━━━━━━━━━━━━━\u001b[0m\u001b[37m\u001b[0m \u001b[1m3s\u001b[0m 3ms/step - accuracy: 0.9063 - loss: 0.3198 - precision: 0.7968 - val_accuracy: 0.9312 - val_loss: 0.2694 - val_precision: 0.8798\n",
      "Epoch 29/50\n",
      "\u001b[1m1005/1005\u001b[0m \u001b[32m━━━━━━━━━━━━━━━━━━━━\u001b[0m\u001b[37m\u001b[0m \u001b[1m3s\u001b[0m 3ms/step - accuracy: 0.9107 - loss: 0.3127 - precision: 0.8050 - val_accuracy: 0.9345 - val_loss: 0.2583 - val_precision: 0.8376\n",
      "Epoch 30/50\n",
      "\u001b[1m1005/1005\u001b[0m \u001b[32m━━━━━━━━━━━━━━━━━━━━\u001b[0m\u001b[37m\u001b[0m \u001b[1m3s\u001b[0m 3ms/step - accuracy: 0.9156 - loss: 0.3033 - precision: 0.8310 - val_accuracy: 0.9102 - val_loss: 0.3119 - val_precision: 0.9029\n",
      "Epoch 31/50\n",
      "\u001b[1m1005/1005\u001b[0m \u001b[32m━━━━━━━━━━━━━━━━━━━━\u001b[0m\u001b[37m\u001b[0m \u001b[1m3s\u001b[0m 3ms/step - accuracy: 0.9005 - loss: 0.3333 - precision: 0.7715 - val_accuracy: 0.9265 - val_loss: 0.2845 - val_precision: 0.8302\n",
      "Epoch 32/50\n",
      "\u001b[1m1005/1005\u001b[0m \u001b[32m━━━━━━━━━━━━━━━━━━━━\u001b[0m\u001b[37m\u001b[0m \u001b[1m3s\u001b[0m 3ms/step - accuracy: 0.9109 - loss: 0.3150 - precision: 0.8105 - val_accuracy: 0.9258 - val_loss: 0.2720 - val_precision: 0.8764\n",
      "Epoch 33/50\n",
      "\u001b[1m1005/1005\u001b[0m \u001b[32m━━━━━━━━━━━━━━━━━━━━\u001b[0m\u001b[37m\u001b[0m \u001b[1m3s\u001b[0m 3ms/step - accuracy: 0.9031 - loss: 0.3294 - precision: 0.7858 - val_accuracy: 0.9046 - val_loss: 0.3188 - val_precision: 0.6711\n",
      "Epoch 34/50\n",
      "\u001b[1m1005/1005\u001b[0m \u001b[32m━━━━━━━━━━━━━━━━━━━━\u001b[0m\u001b[37m\u001b[0m \u001b[1m3s\u001b[0m 3ms/step - accuracy: 0.9044 - loss: 0.3360 - precision: 0.8023 - val_accuracy: 0.9269 - val_loss: 0.2700 - val_precision: 0.8975\n",
      "Epoch 35/50\n",
      "\u001b[1m1005/1005\u001b[0m \u001b[32m━━━━━━━━━━━━━━━━━━━━\u001b[0m\u001b[37m\u001b[0m \u001b[1m3s\u001b[0m 3ms/step - accuracy: 0.9088 - loss: 0.3156 - precision: 0.8035 - val_accuracy: 0.8794 - val_loss: 0.3773 - val_precision: 0.6146\n",
      "Epoch 36/50\n",
      "\u001b[1m1005/1005\u001b[0m \u001b[32m━━━━━━━━━━━━━━━━━━━━\u001b[0m\u001b[37m\u001b[0m \u001b[1m3s\u001b[0m 2ms/step - accuracy: 0.9079 - loss: 0.3202 - precision: 0.8022 - val_accuracy: 0.8383 - val_loss: 0.4553 - val_precision: 0.9928\n",
      "Epoch 37/50\n",
      "\u001b[1m1005/1005\u001b[0m \u001b[32m━━━━━━━━━━━━━━━━━━━━\u001b[0m\u001b[37m\u001b[0m \u001b[1m3s\u001b[0m 3ms/step - accuracy: 0.8832 - loss: 0.3759 - precision: 0.8322 - val_accuracy: 0.9200 - val_loss: 0.2824 - val_precision: 0.7204\n",
      "Epoch 38/50\n",
      "\u001b[1m1005/1005\u001b[0m \u001b[32m━━━━━━━━━━━━━━━━━━━━\u001b[0m\u001b[37m\u001b[0m \u001b[1m3s\u001b[0m 3ms/step - accuracy: 0.8904 - loss: 0.3588 - precision: 0.8034 - val_accuracy: 0.9177 - val_loss: 0.2784 - val_precision: 0.7488\n",
      "Epoch 39/50\n",
      "\u001b[1m1005/1005\u001b[0m \u001b[32m━━━━━━━━━━━━━━━━━━━━\u001b[0m\u001b[37m\u001b[0m \u001b[1m3s\u001b[0m 3ms/step - accuracy: 0.9021 - loss: 0.3353 - precision: 0.7944 - val_accuracy: 0.9112 - val_loss: 0.3341 - val_precision: 0.7102\n",
      "Epoch 40/50\n"
     ]
    },
    {
     "name": "stdout",
     "output_type": "stream",
     "text": [
      "\u001b[1m1005/1005\u001b[0m \u001b[32m━━━━━━━━━━━━━━━━━━━━\u001b[0m\u001b[37m\u001b[0m \u001b[1m3s\u001b[0m 3ms/step - accuracy: 0.9101 - loss: 0.3219 - precision: 0.8032 - val_accuracy: 0.8847 - val_loss: 0.3504 - val_precision: 0.9545\n",
      "Epoch 41/50\n",
      "\u001b[1m1005/1005\u001b[0m \u001b[32m━━━━━━━━━━━━━━━━━━━━\u001b[0m\u001b[37m\u001b[0m \u001b[1m3s\u001b[0m 2ms/step - accuracy: 0.9024 - loss: 0.3379 - precision: 0.7830 - val_accuracy: 0.9165 - val_loss: 0.2947 - val_precision: 0.7105\n",
      "Epoch 42/50\n",
      "\u001b[1m1005/1005\u001b[0m \u001b[32m━━━━━━━━━━━━━━━━━━━━\u001b[0m\u001b[37m\u001b[0m \u001b[1m2s\u001b[0m 2ms/step - accuracy: 0.9070 - loss: 0.3192 - precision: 0.7582 - val_accuracy: 0.9245 - val_loss: 0.2891 - val_precision: 0.8946\n",
      "Epoch 43/50\n",
      "\u001b[1m1005/1005\u001b[0m \u001b[32m━━━━━━━━━━━━━━━━━━━━\u001b[0m\u001b[37m\u001b[0m \u001b[1m3s\u001b[0m 3ms/step - accuracy: 0.8989 - loss: 0.3384 - precision: 0.7567 - val_accuracy: 0.9345 - val_loss: 0.2525 - val_precision: 0.8231\n",
      "Epoch 44/50\n",
      "\u001b[1m1005/1005\u001b[0m \u001b[32m━━━━━━━━━━━━━━━━━━━━\u001b[0m\u001b[37m\u001b[0m \u001b[1m3s\u001b[0m 3ms/step - accuracy: 0.9083 - loss: 0.3199 - precision: 0.7836 - val_accuracy: 0.9277 - val_loss: 0.2741 - val_precision: 0.8701\n",
      "Epoch 45/50\n",
      "\u001b[1m1005/1005\u001b[0m \u001b[32m━━━━━━━━━━━━━━━━━━━━\u001b[0m\u001b[37m\u001b[0m \u001b[1m5s\u001b[0m 3ms/step - accuracy: 0.9106 - loss: 0.3123 - precision: 0.7996 - val_accuracy: 0.8604 - val_loss: 0.4017 - val_precision: 0.9636\n",
      "Epoch 46/50\n",
      "\u001b[1m1005/1005\u001b[0m \u001b[32m━━━━━━━━━━━━━━━━━━━━\u001b[0m\u001b[37m\u001b[0m \u001b[1m3s\u001b[0m 3ms/step - accuracy: 0.8934 - loss: 0.3474 - precision: 0.7732 - val_accuracy: 0.9043 - val_loss: 0.3198 - val_precision: 0.8761\n",
      "Epoch 47/50\n",
      "\u001b[1m1005/1005\u001b[0m \u001b[32m━━━━━━━━━━━━━━━━━━━━\u001b[0m\u001b[37m\u001b[0m \u001b[1m3s\u001b[0m 2ms/step - accuracy: 0.9029 - loss: 0.3351 - precision: 0.8253 - val_accuracy: 0.9201 - val_loss: 0.2911 - val_precision: 0.7289\n",
      "Epoch 48/50\n",
      "\u001b[1m1005/1005\u001b[0m \u001b[32m━━━━━━━━━━━━━━━━━━━━\u001b[0m\u001b[37m\u001b[0m \u001b[1m3s\u001b[0m 3ms/step - accuracy: 0.9028 - loss: 0.3352 - precision: 0.8204 - val_accuracy: 0.9312 - val_loss: 0.2691 - val_precision: 0.8538\n",
      "Epoch 49/50\n",
      "\u001b[1m1005/1005\u001b[0m \u001b[32m━━━━━━━━━━━━━━━━━━━━\u001b[0m\u001b[37m\u001b[0m \u001b[1m3s\u001b[0m 3ms/step - accuracy: 0.9035 - loss: 0.3323 - precision: 0.7870 - val_accuracy: 0.9283 - val_loss: 0.2633 - val_precision: 0.7983\n",
      "Epoch 50/50\n",
      "\u001b[1m1005/1005\u001b[0m \u001b[32m━━━━━━━━━━━━━━━━━━━━\u001b[0m\u001b[37m\u001b[0m \u001b[1m3s\u001b[0m 3ms/step - accuracy: 0.9042 - loss: 0.3300 - precision: 0.8016 - val_accuracy: 0.9146 - val_loss: 0.3149 - val_precision: 0.8924\n"
     ]
    },
    {
     "data": {
      "text/plain": [
       "<keras.src.callbacks.history.History at 0x1e131b97190>"
      ]
     },
     "execution_count": 106,
     "metadata": {},
     "output_type": "execute_result"
    }
   ],
   "source": [
    "model.fit(x_train,y_train,\n",
    "         validation_split=0.2,\n",
    "         epochs=50,\n",
    "         batch_size=100,\n",
    "         verbose=1)"
   ]
  },
  {
   "cell_type": "markdown",
   "id": "aa0d2284",
   "metadata": {},
   "source": [
    "# Validating the model"
   ]
  },
  {
   "cell_type": "code",
   "execution_count": 107,
   "id": "cc1bd450",
   "metadata": {},
   "outputs": [
    {
     "name": "stdout",
     "output_type": "stream",
     "text": [
      "\u001b[1m436/436\u001b[0m \u001b[32m━━━━━━━━━━━━━━━━━━━━\u001b[0m\u001b[37m\u001b[0m \u001b[1m1s\u001b[0m 2ms/step - accuracy: 0.9145 - loss: 0.3053 - precision: 0.8920\n",
      "Testing accuracy : [0.302987664937973, 0.9152384400367737, 0.8925120830535889] \n"
     ]
    }
   ],
   "source": [
    "# valuation of the model\n",
    "final_accuracy = model.evaluate(x_test,y_test)\n",
    "\n",
    "print(f\"Testing accuracy : {final_accuracy} \")"
   ]
  },
  {
   "cell_type": "markdown",
   "id": "ed6855f9",
   "metadata": {},
   "source": [
    "# Model Tuning"
   ]
  },
  {
   "cell_type": "markdown",
   "id": "1c29a2d6",
   "metadata": {},
   "source": [
    "### Building the model"
   ]
  },
  {
   "cell_type": "code",
   "execution_count": 108,
   "id": "95603bbb",
   "metadata": {},
   "outputs": [],
   "source": [
    "# a custom neural network binary classifier model\n",
    "# with the help of keras_tuner\n",
    "\n",
    "def build_model(hp):\n",
    "    model = tf.keras.Sequential()\n",
    "    \n",
    "    # First Dense Layer with tunable neurons\n",
    "    model.add(tf.keras.Input(shape=(13,)))\n",
    "    \n",
    "    # Hidden Layer\n",
    "    for i in range(hp.Int('No_of_Layers',min_value=1, max_value=6)):\n",
    "        # tuning the layers in the model\n",
    "        model.add(tf.keras.layers.Dense(units = hp.Int(f\"units_{i}\",\n",
    "                                                       min_value=8,max_value=128,step=4),\n",
    "                 #tuning the activation functions\n",
    "                activation=hp.Choice(f\"activation_{i}\",values=['relu','leaky_relu','swish'])\n",
    "                 ))\n",
    "        \n",
    "        # adding the dropout layer if incase it is overfitting\n",
    "        if hp.Boolean(f\"add_dropout_{i}\"):\n",
    "            model.add(tf.keras.layers.Dropout(rate=hp.Float(f\"dropout_rate_{i}\",\n",
    "                                                            min_value=0.2,max_value=0.6,step=0.2)))\n",
    "        \n",
    "    \n",
    "    # Output Layer\n",
    "    model.add(tf.keras.layers.Dense(1, activation='sigmoid'))\n",
    "    \n",
    "    # Compile the Model\n",
    "    model.compile(\n",
    "        optimizer=hp.Choice('optimizer',values=['adam','sgd']),\n",
    "        loss='binary_crossentropy',\n",
    "        metrics=['accuracy','AUC']\n",
    "    )\n",
    "    return model\n"
   ]
  },
  {
   "cell_type": "markdown",
   "id": "2a556f78",
   "metadata": {},
   "source": [
    "### Initializing the Tuner"
   ]
  },
  {
   "cell_type": "code",
   "execution_count": 109,
   "id": "1c64da85",
   "metadata": {},
   "outputs": [],
   "source": [
    "# initializing the tuner\n",
    "tuner = kt.Hyperband(build_model,\n",
    "                    objective = 'val_accuracy',\n",
    "                    max_epochs = 66,\n",
    "                    factor=3,\n",
    "                    directory = 'mentalhealth_best_model',\n",
    "                    project_name = 'mental_health_tuning_folder_best_params')"
   ]
  },
  {
   "cell_type": "markdown",
   "id": "7f865dd3",
   "metadata": {},
   "source": [
    "### Searching or finding the best parameters for the model"
   ]
  },
  {
   "cell_type": "code",
   "execution_count": 110,
   "id": "f6003bcf",
   "metadata": {},
   "outputs": [],
   "source": [
    "# adding callbacks\n",
    "early_stopping = tf.keras.callbacks.EarlyStopping(monitor='val_loss',\n",
    "                                                 patience=3,\n",
    "                                                 restore_best_weights=True)"
   ]
  },
  {
   "cell_type": "code",
   "execution_count": 111,
   "id": "10b06862",
   "metadata": {},
   "outputs": [
    {
     "name": "stdout",
     "output_type": "stream",
     "text": [
      "Trial 90 Complete [00h 00m 46s]\n",
      "val_accuracy: 0.9380502700805664\n",
      "\n",
      "Best val_accuracy So Far: 0.9388868808746338\n",
      "Total elapsed time: 01h 23m 25s\n"
     ]
    }
   ],
   "source": [
    "# training the model\n",
    "tuner.search(\n",
    "    x_train, \n",
    "    y_train,\n",
    "    epochs=30,\n",
    "    validation_split=0.2,\n",
    "    verbose=1,\n",
    "    callbacks=[early_stopping]  \n",
    ")"
   ]
  },
  {
   "cell_type": "markdown",
   "id": "9165456e",
   "metadata": {},
   "source": [
    "# Model Evaluation"
   ]
  },
  {
   "cell_type": "code",
   "execution_count": 112,
   "id": "ea0d982a",
   "metadata": {},
   "outputs": [
    {
     "name": "stdout",
     "output_type": "stream",
     "text": [
      "{'No_of_Layers': 2, 'units_0': 68, 'activation_0': 'swish', 'add_dropout_0': False, 'optimizer': 'adam', 'units_1': 120, 'activation_1': 'swish', 'add_dropout_1': False, 'units_2': 52, 'activation_2': 'leaky_relu', 'add_dropout_2': False, 'units_3': 104, 'activation_3': 'leaky_relu', 'add_dropout_3': True, 'units_4': 108, 'activation_4': 'leaky_relu', 'add_dropout_4': False, 'units_5': 76, 'activation_5': 'swish', 'add_dropout_5': True, 'dropout_rate_0': 0.4, 'dropout_rate_4': 0.4, 'dropout_rate_1': 0.2, 'dropout_rate_2': 0.2, 'dropout_rate_3': 0.4, 'dropout_rate_5': 0.4, 'tuner/epochs': 66, 'tuner/initial_epoch': 22, 'tuner/bracket': 3, 'tuner/round': 3, 'tuner/trial_id': '0048'}\n"
     ]
    }
   ],
   "source": [
    "# getting the best hyperparameters \n",
    "best_hps = tuner.get_best_hyperparameters(num_trials=1)[0]\n",
    "print(best_hps.values)\n"
   ]
  },
  {
   "cell_type": "code",
   "execution_count": 113,
   "id": "485a8d06",
   "metadata": {},
   "outputs": [],
   "source": [
    "# building and training the best model \n",
    "best_model = tuner.hypermodel.build(best_hps)"
   ]
  },
  {
   "cell_type": "code",
   "execution_count": 114,
   "id": "5539e1cc",
   "metadata": {},
   "outputs": [],
   "source": [
    "# callbacks\n",
    "early_stopping1 = tf.keras.callbacks.EarlyStopping(monitor='val_loss',\n",
    "                                                 patience=5)"
   ]
  },
  {
   "cell_type": "code",
   "execution_count": 115,
   "id": "f5d32b3e",
   "metadata": {
    "scrolled": false
   },
   "outputs": [
    {
     "name": "stdout",
     "output_type": "stream",
     "text": [
      "Epoch 1/75\n",
      "\u001b[1m785/785\u001b[0m \u001b[32m━━━━━━━━━━━━━━━━━━━━\u001b[0m\u001b[37m\u001b[0m \u001b[1m4s\u001b[0m 3ms/step - AUC: 0.9468 - accuracy: 0.9132 - loss: 0.2100 - val_AUC: 0.9703 - val_accuracy: 0.9339 - val_loss: 0.1655\n",
      "Epoch 2/75\n",
      "\u001b[1m785/785\u001b[0m \u001b[32m━━━━━━━━━━━━━━━━━━━━\u001b[0m\u001b[37m\u001b[0m \u001b[1m2s\u001b[0m 2ms/step - AUC: 0.9706 - accuracy: 0.9353 - loss: 0.1612 - val_AUC: 0.9715 - val_accuracy: 0.9379 - val_loss: 0.1568\n",
      "Epoch 3/75\n",
      "\u001b[1m785/785\u001b[0m \u001b[32m━━━━━━━━━━━━━━━━━━━━\u001b[0m\u001b[37m\u001b[0m \u001b[1m2s\u001b[0m 3ms/step - AUC: 0.9722 - accuracy: 0.9374 - loss: 0.1577 - val_AUC: 0.9722 - val_accuracy: 0.9380 - val_loss: 0.1552\n",
      "Epoch 4/75\n",
      "\u001b[1m785/785\u001b[0m \u001b[32m━━━━━━━━━━━━━━━━━━━━\u001b[0m\u001b[37m\u001b[0m \u001b[1m2s\u001b[0m 3ms/step - AUC: 0.9718 - accuracy: 0.9368 - loss: 0.1579 - val_AUC: 0.9723 - val_accuracy: 0.9359 - val_loss: 0.1605\n",
      "Epoch 5/75\n",
      "\u001b[1m785/785\u001b[0m \u001b[32m━━━━━━━━━━━━━━━━━━━━\u001b[0m\u001b[37m\u001b[0m \u001b[1m2s\u001b[0m 3ms/step - AUC: 0.9717 - accuracy: 0.9360 - loss: 0.1587 - val_AUC: 0.9712 - val_accuracy: 0.9378 - val_loss: 0.1566\n",
      "Epoch 6/75\n",
      "\u001b[1m785/785\u001b[0m \u001b[32m━━━━━━━━━━━━━━━━━━━━\u001b[0m\u001b[37m\u001b[0m \u001b[1m2s\u001b[0m 2ms/step - AUC: 0.9727 - accuracy: 0.9385 - loss: 0.1553 - val_AUC: 0.9718 - val_accuracy: 0.9369 - val_loss: 0.1591\n",
      "Epoch 7/75\n",
      "\u001b[1m785/785\u001b[0m \u001b[32m━━━━━━━━━━━━━━━━━━━━\u001b[0m\u001b[37m\u001b[0m \u001b[1m2s\u001b[0m 3ms/step - AUC: 0.9732 - accuracy: 0.9383 - loss: 0.1547 - val_AUC: 0.9691 - val_accuracy: 0.9373 - val_loss: 0.1646\n",
      "Epoch 8/75\n",
      "\u001b[1m785/785\u001b[0m \u001b[32m━━━━━━━━━━━━━━━━━━━━\u001b[0m\u001b[37m\u001b[0m \u001b[1m2s\u001b[0m 3ms/step - AUC: 0.9727 - accuracy: 0.9378 - loss: 0.1562 - val_AUC: 0.9710 - val_accuracy: 0.9379 - val_loss: 0.1588\n",
      "Epoch 9/75\n",
      "\u001b[1m785/785\u001b[0m \u001b[32m━━━━━━━━━━━━━━━━━━━━\u001b[0m\u001b[37m\u001b[0m \u001b[1m2s\u001b[0m 3ms/step - AUC: 0.9724 - accuracy: 0.9362 - loss: 0.1585 - val_AUC: 0.9721 - val_accuracy: 0.9379 - val_loss: 0.1556\n",
      "Epoch 10/75\n",
      "\u001b[1m785/785\u001b[0m \u001b[32m━━━━━━━━━━━━━━━━━━━━\u001b[0m\u001b[37m\u001b[0m \u001b[1m2s\u001b[0m 2ms/step - AUC: 0.9719 - accuracy: 0.9368 - loss: 0.1581 - val_AUC: 0.9724 - val_accuracy: 0.9360 - val_loss: 0.1604\n",
      "Epoch 11/75\n",
      "\u001b[1m785/785\u001b[0m \u001b[32m━━━━━━━━━━━━━━━━━━━━\u001b[0m\u001b[37m\u001b[0m \u001b[1m2s\u001b[0m 3ms/step - AUC: 0.9727 - accuracy: 0.9377 - loss: 0.1557 - val_AUC: 0.9724 - val_accuracy: 0.9388 - val_loss: 0.1546\n",
      "Epoch 12/75\n",
      "\u001b[1m785/785\u001b[0m \u001b[32m━━━━━━━━━━━━━━━━━━━━\u001b[0m\u001b[37m\u001b[0m \u001b[1m2s\u001b[0m 3ms/step - AUC: 0.9732 - accuracy: 0.9387 - loss: 0.1546 - val_AUC: 0.9724 - val_accuracy: 0.9382 - val_loss: 0.1561\n",
      "Epoch 13/75\n",
      "\u001b[1m785/785\u001b[0m \u001b[32m━━━━━━━━━━━━━━━━━━━━\u001b[0m\u001b[37m\u001b[0m \u001b[1m2s\u001b[0m 3ms/step - AUC: 0.9734 - accuracy: 0.9375 - loss: 0.1541 - val_AUC: 0.9724 - val_accuracy: 0.9381 - val_loss: 0.1547\n",
      "Epoch 14/75\n",
      "\u001b[1m785/785\u001b[0m \u001b[32m━━━━━━━━━━━━━━━━━━━━\u001b[0m\u001b[37m\u001b[0m \u001b[1m2s\u001b[0m 3ms/step - AUC: 0.9731 - accuracy: 0.9371 - loss: 0.1564 - val_AUC: 0.9723 - val_accuracy: 0.9381 - val_loss: 0.1547\n",
      "Epoch 15/75\n",
      "\u001b[1m785/785\u001b[0m \u001b[32m━━━━━━━━━━━━━━━━━━━━\u001b[0m\u001b[37m\u001b[0m \u001b[1m2s\u001b[0m 3ms/step - AUC: 0.9733 - accuracy: 0.9386 - loss: 0.1535 - val_AUC: 0.9717 - val_accuracy: 0.9376 - val_loss: 0.1573\n",
      "Epoch 16/75\n",
      "\u001b[1m785/785\u001b[0m \u001b[32m━━━━━━━━━━━━━━━━━━━━\u001b[0m\u001b[37m\u001b[0m \u001b[1m2s\u001b[0m 3ms/step - AUC: 0.9723 - accuracy: 0.9375 - loss: 0.1579 - val_AUC: 0.9719 - val_accuracy: 0.9377 - val_loss: 0.1559\n",
      "Epoch 17/75\n",
      "\u001b[1m785/785\u001b[0m \u001b[32m━━━━━━━━━━━━━━━━━━━━\u001b[0m\u001b[37m\u001b[0m \u001b[1m2s\u001b[0m 3ms/step - AUC: 0.9732 - accuracy: 0.9380 - loss: 0.1557 - val_AUC: 0.9722 - val_accuracy: 0.9369 - val_loss: 0.1585\n",
      "Epoch 18/75\n",
      "\u001b[1m785/785\u001b[0m \u001b[32m━━━━━━━━━━━━━━━━━━━━\u001b[0m\u001b[37m\u001b[0m \u001b[1m2s\u001b[0m 3ms/step - AUC: 0.9736 - accuracy: 0.9370 - loss: 0.1553 - val_AUC: 0.9723 - val_accuracy: 0.9379 - val_loss: 0.1555\n",
      "Epoch 19/75\n",
      "\u001b[1m785/785\u001b[0m \u001b[32m━━━━━━━━━━━━━━━━━━━━\u001b[0m\u001b[37m\u001b[0m \u001b[1m2s\u001b[0m 3ms/step - AUC: 0.9739 - accuracy: 0.9381 - loss: 0.1532 - val_AUC: 0.9721 - val_accuracy: 0.9384 - val_loss: 0.1555\n",
      "Epoch 20/75\n",
      "\u001b[1m785/785\u001b[0m \u001b[32m━━━━━━━━━━━━━━━━━━━━\u001b[0m\u001b[37m\u001b[0m \u001b[1m2s\u001b[0m 3ms/step - AUC: 0.9734 - accuracy: 0.9378 - loss: 0.1543 - val_AUC: 0.9719 - val_accuracy: 0.9378 - val_loss: 0.1564\n",
      "Epoch 21/75\n",
      "\u001b[1m785/785\u001b[0m \u001b[32m━━━━━━━━━━━━━━━━━━━━\u001b[0m\u001b[37m\u001b[0m \u001b[1m2s\u001b[0m 3ms/step - AUC: 0.9723 - accuracy: 0.9373 - loss: 0.1559 - val_AUC: 0.9721 - val_accuracy: 0.9383 - val_loss: 0.1569\n",
      "Epoch 22/75\n",
      "\u001b[1m785/785\u001b[0m \u001b[32m━━━━━━━━━━━━━━━━━━━━\u001b[0m\u001b[37m\u001b[0m \u001b[1m2s\u001b[0m 3ms/step - AUC: 0.9730 - accuracy: 0.9363 - loss: 0.1557 - val_AUC: 0.9719 - val_accuracy: 0.9362 - val_loss: 0.1583\n",
      "Epoch 23/75\n",
      "\u001b[1m785/785\u001b[0m \u001b[32m━━━━━━━━━━━━━━━━━━━━\u001b[0m\u001b[37m\u001b[0m \u001b[1m2s\u001b[0m 3ms/step - AUC: 0.9728 - accuracy: 0.9378 - loss: 0.1560 - val_AUC: 0.9719 - val_accuracy: 0.9380 - val_loss: 0.1564\n",
      "Epoch 24/75\n",
      "\u001b[1m785/785\u001b[0m \u001b[32m━━━━━━━━━━━━━━━━━━━━\u001b[0m\u001b[37m\u001b[0m \u001b[1m2s\u001b[0m 3ms/step - AUC: 0.9751 - accuracy: 0.9393 - loss: 0.1499 - val_AUC: 0.9724 - val_accuracy: 0.9367 - val_loss: 0.1573\n",
      "Epoch 25/75\n",
      "\u001b[1m785/785\u001b[0m \u001b[32m━━━━━━━━━━━━━━━━━━━━\u001b[0m\u001b[37m\u001b[0m \u001b[1m2s\u001b[0m 3ms/step - AUC: 0.9736 - accuracy: 0.9382 - loss: 0.1536 - val_AUC: 0.9718 - val_accuracy: 0.9375 - val_loss: 0.1563\n",
      "Epoch 26/75\n",
      "\u001b[1m785/785\u001b[0m \u001b[32m━━━━━━━━━━━━━━━━━━━━\u001b[0m\u001b[37m\u001b[0m \u001b[1m2s\u001b[0m 2ms/step - AUC: 0.9733 - accuracy: 0.9386 - loss: 0.1541 - val_AUC: 0.9722 - val_accuracy: 0.9384 - val_loss: 0.1553\n",
      "Epoch 27/75\n",
      "\u001b[1m785/785\u001b[0m \u001b[32m━━━━━━━━━━━━━━━━━━━━\u001b[0m\u001b[37m\u001b[0m \u001b[1m2s\u001b[0m 3ms/step - AUC: 0.9747 - accuracy: 0.9395 - loss: 0.1502 - val_AUC: 0.9721 - val_accuracy: 0.9371 - val_loss: 0.1578\n",
      "Epoch 28/75\n",
      "\u001b[1m785/785\u001b[0m \u001b[32m━━━━━━━━━━━━━━━━━━━━\u001b[0m\u001b[37m\u001b[0m \u001b[1m2s\u001b[0m 3ms/step - AUC: 0.9741 - accuracy: 0.9387 - loss: 0.1526 - val_AUC: 0.9721 - val_accuracy: 0.9369 - val_loss: 0.1574\n",
      "Epoch 29/75\n",
      "\u001b[1m785/785\u001b[0m \u001b[32m━━━━━━━━━━━━━━━━━━━━\u001b[0m\u001b[37m\u001b[0m \u001b[1m2s\u001b[0m 3ms/step - AUC: 0.9735 - accuracy: 0.9394 - loss: 0.1535 - val_AUC: 0.9720 - val_accuracy: 0.9373 - val_loss: 0.1551\n",
      "Epoch 30/75\n",
      "\u001b[1m785/785\u001b[0m \u001b[32m━━━━━━━━━━━━━━━━━━━━\u001b[0m\u001b[37m\u001b[0m \u001b[1m2s\u001b[0m 3ms/step - AUC: 0.9732 - accuracy: 0.9369 - loss: 0.1555 - val_AUC: 0.9723 - val_accuracy: 0.9381 - val_loss: 0.1557\n",
      "Epoch 31/75\n",
      "\u001b[1m785/785\u001b[0m \u001b[32m━━━━━━━━━━━━━━━━━━━━\u001b[0m\u001b[37m\u001b[0m \u001b[1m3s\u001b[0m 3ms/step - AUC: 0.9738 - accuracy: 0.9385 - loss: 0.1536 - val_AUC: 0.9719 - val_accuracy: 0.9363 - val_loss: 0.1576\n",
      "Epoch 32/75\n",
      "\u001b[1m785/785\u001b[0m \u001b[32m━━━━━━━━━━━━━━━━━━━━\u001b[0m\u001b[37m\u001b[0m \u001b[1m2s\u001b[0m 3ms/step - AUC: 0.9740 - accuracy: 0.9382 - loss: 0.1520 - val_AUC: 0.9724 - val_accuracy: 0.9383 - val_loss: 0.1559\n",
      "Epoch 33/75\n",
      "\u001b[1m785/785\u001b[0m \u001b[32m━━━━━━━━━━━━━━━━━━━━\u001b[0m\u001b[37m\u001b[0m \u001b[1m2s\u001b[0m 3ms/step - AUC: 0.9738 - accuracy: 0.9380 - loss: 0.1536 - val_AUC: 0.9723 - val_accuracy: 0.9378 - val_loss: 0.1556\n",
      "Epoch 34/75\n",
      "\u001b[1m785/785\u001b[0m \u001b[32m━━━━━━━━━━━━━━━━━━━━\u001b[0m\u001b[37m\u001b[0m \u001b[1m2s\u001b[0m 3ms/step - AUC: 0.9735 - accuracy: 0.9375 - loss: 0.1552 - val_AUC: 0.9718 - val_accuracy: 0.9380 - val_loss: 0.1559\n",
      "Epoch 35/75\n",
      "\u001b[1m785/785\u001b[0m \u001b[32m━━━━━━━━━━━━━━━━━━━━\u001b[0m\u001b[37m\u001b[0m \u001b[1m2s\u001b[0m 3ms/step - AUC: 0.9729 - accuracy: 0.9379 - loss: 0.1551 - val_AUC: 0.9719 - val_accuracy: 0.9374 - val_loss: 0.1552\n",
      "Epoch 36/75\n",
      "\u001b[1m785/785\u001b[0m \u001b[32m━━━━━━━━━━━━━━━━━━━━\u001b[0m\u001b[37m\u001b[0m \u001b[1m2s\u001b[0m 3ms/step - AUC: 0.9733 - accuracy: 0.9380 - loss: 0.1539 - val_AUC: 0.9716 - val_accuracy: 0.9387 - val_loss: 0.1560\n",
      "Epoch 37/75\n",
      "\u001b[1m785/785\u001b[0m \u001b[32m━━━━━━━━━━━━━━━━━━━━\u001b[0m\u001b[37m\u001b[0m \u001b[1m2s\u001b[0m 3ms/step - AUC: 0.9739 - accuracy: 0.9379 - loss: 0.1540 - val_AUC: 0.9721 - val_accuracy: 0.9371 - val_loss: 0.1569\n",
      "Epoch 38/75\n",
      "\u001b[1m785/785\u001b[0m \u001b[32m━━━━━━━━━━━━━━━━━━━━\u001b[0m\u001b[37m\u001b[0m \u001b[1m2s\u001b[0m 3ms/step - AUC: 0.9731 - accuracy: 0.9368 - loss: 0.1548 - val_AUC: 0.9719 - val_accuracy: 0.9384 - val_loss: 0.1557\n",
      "Epoch 39/75\n",
      "\u001b[1m785/785\u001b[0m \u001b[32m━━━━━━━━━━━━━━━━━━━━\u001b[0m\u001b[37m\u001b[0m \u001b[1m2s\u001b[0m 3ms/step - AUC: 0.9738 - accuracy: 0.9371 - loss: 0.1548 - val_AUC: 0.9717 - val_accuracy: 0.9384 - val_loss: 0.1558\n",
      "Epoch 40/75\n",
      "\u001b[1m785/785\u001b[0m \u001b[32m━━━━━━━━━━━━━━━━━━━━\u001b[0m\u001b[37m\u001b[0m \u001b[1m2s\u001b[0m 2ms/step - AUC: 0.9735 - accuracy: 0.9375 - loss: 0.1548 - val_AUC: 0.9717 - val_accuracy: 0.9381 - val_loss: 0.1560\n",
      "Epoch 41/75\n",
      "\u001b[1m785/785\u001b[0m \u001b[32m━━━━━━━━━━━━━━━━━━━━\u001b[0m\u001b[37m\u001b[0m \u001b[1m3s\u001b[0m 3ms/step - AUC: 0.9742 - accuracy: 0.9391 - loss: 0.1518 - val_AUC: 0.9719 - val_accuracy: 0.9381 - val_loss: 0.1552\n",
      "Epoch 42/75\n",
      "\u001b[1m785/785\u001b[0m \u001b[32m━━━━━━━━━━━━━━━━━━━━\u001b[0m\u001b[37m\u001b[0m \u001b[1m2s\u001b[0m 3ms/step - AUC: 0.9749 - accuracy: 0.9389 - loss: 0.1507 - val_AUC: 0.9718 - val_accuracy: 0.9379 - val_loss: 0.1564\n",
      "Epoch 43/75\n"
     ]
    },
    {
     "name": "stdout",
     "output_type": "stream",
     "text": [
      "\u001b[1m785/785\u001b[0m \u001b[32m━━━━━━━━━━━━━━━━━━━━\u001b[0m\u001b[37m\u001b[0m \u001b[1m2s\u001b[0m 3ms/step - AUC: 0.9745 - accuracy: 0.9394 - loss: 0.1508 - val_AUC: 0.9714 - val_accuracy: 0.9377 - val_loss: 0.1568\n",
      "Epoch 44/75\n",
      "\u001b[1m785/785\u001b[0m \u001b[32m━━━━━━━━━━━━━━━━━━━━\u001b[0m\u001b[37m\u001b[0m \u001b[1m3s\u001b[0m 3ms/step - AUC: 0.9741 - accuracy: 0.9377 - loss: 0.1529 - val_AUC: 0.9714 - val_accuracy: 0.9379 - val_loss: 0.1565\n",
      "Epoch 45/75\n",
      "\u001b[1m785/785\u001b[0m \u001b[32m━━━━━━━━━━━━━━━━━━━━\u001b[0m\u001b[37m\u001b[0m \u001b[1m2s\u001b[0m 2ms/step - AUC: 0.9750 - accuracy: 0.9401 - loss: 0.1490 - val_AUC: 0.9715 - val_accuracy: 0.9377 - val_loss: 0.1563\n",
      "Epoch 46/75\n",
      "\u001b[1m785/785\u001b[0m \u001b[32m━━━━━━━━━━━━━━━━━━━━\u001b[0m\u001b[37m\u001b[0m \u001b[1m2s\u001b[0m 3ms/step - AUC: 0.9740 - accuracy: 0.9382 - loss: 0.1516 - val_AUC: 0.9715 - val_accuracy: 0.9376 - val_loss: 0.1569\n",
      "Epoch 47/75\n",
      "\u001b[1m785/785\u001b[0m \u001b[32m━━━━━━━━━━━━━━━━━━━━\u001b[0m\u001b[37m\u001b[0m \u001b[1m2s\u001b[0m 2ms/step - AUC: 0.9753 - accuracy: 0.9399 - loss: 0.1490 - val_AUC: 0.9713 - val_accuracy: 0.9371 - val_loss: 0.1567\n",
      "Epoch 48/75\n",
      "\u001b[1m785/785\u001b[0m \u001b[32m━━━━━━━━━━━━━━━━━━━━\u001b[0m\u001b[37m\u001b[0m \u001b[1m2s\u001b[0m 3ms/step - AUC: 0.9749 - accuracy: 0.9385 - loss: 0.1514 - val_AUC: 0.9716 - val_accuracy: 0.9376 - val_loss: 0.1565\n",
      "Epoch 49/75\n",
      "\u001b[1m785/785\u001b[0m \u001b[32m━━━━━━━━━━━━━━━━━━━━\u001b[0m\u001b[37m\u001b[0m \u001b[1m2s\u001b[0m 3ms/step - AUC: 0.9748 - accuracy: 0.9397 - loss: 0.1505 - val_AUC: 0.9714 - val_accuracy: 0.9373 - val_loss: 0.1569\n",
      "Epoch 50/75\n",
      "\u001b[1m785/785\u001b[0m \u001b[32m━━━━━━━━━━━━━━━━━━━━\u001b[0m\u001b[37m\u001b[0m \u001b[1m3s\u001b[0m 3ms/step - AUC: 0.9748 - accuracy: 0.9391 - loss: 0.1508 - val_AUC: 0.9707 - val_accuracy: 0.9367 - val_loss: 0.1599\n",
      "Epoch 51/75\n",
      "\u001b[1m785/785\u001b[0m \u001b[32m━━━━━━━━━━━━━━━━━━━━\u001b[0m\u001b[37m\u001b[0m \u001b[1m2s\u001b[0m 3ms/step - AUC: 0.9754 - accuracy: 0.9390 - loss: 0.1498 - val_AUC: 0.9715 - val_accuracy: 0.9376 - val_loss: 0.1568\n",
      "Epoch 52/75\n",
      "\u001b[1m785/785\u001b[0m \u001b[32m━━━━━━━━━━━━━━━━━━━━\u001b[0m\u001b[37m\u001b[0m \u001b[1m2s\u001b[0m 2ms/step - AUC: 0.9747 - accuracy: 0.9392 - loss: 0.1509 - val_AUC: 0.9718 - val_accuracy: 0.9371 - val_loss: 0.1570\n",
      "Epoch 53/75\n",
      "\u001b[1m785/785\u001b[0m \u001b[32m━━━━━━━━━━━━━━━━━━━━\u001b[0m\u001b[37m\u001b[0m \u001b[1m2s\u001b[0m 2ms/step - AUC: 0.9737 - accuracy: 0.9385 - loss: 0.1526 - val_AUC: 0.9714 - val_accuracy: 0.9378 - val_loss: 0.1568\n",
      "Epoch 54/75\n",
      "\u001b[1m785/785\u001b[0m \u001b[32m━━━━━━━━━━━━━━━━━━━━\u001b[0m\u001b[37m\u001b[0m \u001b[1m2s\u001b[0m 3ms/step - AUC: 0.9751 - accuracy: 0.9399 - loss: 0.1494 - val_AUC: 0.9714 - val_accuracy: 0.9367 - val_loss: 0.1577\n",
      "Epoch 55/75\n",
      "\u001b[1m785/785\u001b[0m \u001b[32m━━━━━━━━━━━━━━━━━━━━\u001b[0m\u001b[37m\u001b[0m \u001b[1m2s\u001b[0m 2ms/step - AUC: 0.9746 - accuracy: 0.9394 - loss: 0.1500 - val_AUC: 0.9713 - val_accuracy: 0.9371 - val_loss: 0.1575\n",
      "Epoch 56/75\n",
      "\u001b[1m785/785\u001b[0m \u001b[32m━━━━━━━━━━━━━━━━━━━━\u001b[0m\u001b[37m\u001b[0m \u001b[1m2s\u001b[0m 3ms/step - AUC: 0.9748 - accuracy: 0.9386 - loss: 0.1504 - val_AUC: 0.9710 - val_accuracy: 0.9363 - val_loss: 0.1585\n",
      "Epoch 57/75\n",
      "\u001b[1m785/785\u001b[0m \u001b[32m━━━━━━━━━━━━━━━━━━━━\u001b[0m\u001b[37m\u001b[0m \u001b[1m2s\u001b[0m 3ms/step - AUC: 0.9741 - accuracy: 0.9382 - loss: 0.1513 - val_AUC: 0.9706 - val_accuracy: 0.9359 - val_loss: 0.1592\n",
      "Epoch 58/75\n",
      "\u001b[1m785/785\u001b[0m \u001b[32m━━━━━━━━━━━━━━━━━━━━\u001b[0m\u001b[37m\u001b[0m \u001b[1m2s\u001b[0m 3ms/step - AUC: 0.9753 - accuracy: 0.9410 - loss: 0.1484 - val_AUC: 0.9711 - val_accuracy: 0.9373 - val_loss: 0.1575\n",
      "Epoch 59/75\n",
      "\u001b[1m785/785\u001b[0m \u001b[32m━━━━━━━━━━━━━━━━━━━━\u001b[0m\u001b[37m\u001b[0m \u001b[1m3s\u001b[0m 3ms/step - AUC: 0.9752 - accuracy: 0.9393 - loss: 0.1495 - val_AUC: 0.9709 - val_accuracy: 0.9367 - val_loss: 0.1576\n",
      "Epoch 60/75\n",
      "\u001b[1m785/785\u001b[0m \u001b[32m━━━━━━━━━━━━━━━━━━━━\u001b[0m\u001b[37m\u001b[0m \u001b[1m2s\u001b[0m 3ms/step - AUC: 0.9752 - accuracy: 0.9392 - loss: 0.1490 - val_AUC: 0.9705 - val_accuracy: 0.9365 - val_loss: 0.1598\n",
      "Epoch 61/75\n",
      "\u001b[1m785/785\u001b[0m \u001b[32m━━━━━━━━━━━━━━━━━━━━\u001b[0m\u001b[37m\u001b[0m \u001b[1m2s\u001b[0m 3ms/step - AUC: 0.9750 - accuracy: 0.9393 - loss: 0.1501 - val_AUC: 0.9712 - val_accuracy: 0.9363 - val_loss: 0.1572\n",
      "Epoch 62/75\n",
      "\u001b[1m785/785\u001b[0m \u001b[32m━━━━━━━━━━━━━━━━━━━━\u001b[0m\u001b[37m\u001b[0m \u001b[1m2s\u001b[0m 3ms/step - AUC: 0.9761 - accuracy: 0.9410 - loss: 0.1464 - val_AUC: 0.9708 - val_accuracy: 0.9357 - val_loss: 0.1592\n",
      "Epoch 63/75\n",
      "\u001b[1m785/785\u001b[0m \u001b[32m━━━━━━━━━━━━━━━━━━━━\u001b[0m\u001b[37m\u001b[0m \u001b[1m2s\u001b[0m 3ms/step - AUC: 0.9758 - accuracy: 0.9413 - loss: 0.1468 - val_AUC: 0.9702 - val_accuracy: 0.9362 - val_loss: 0.1611\n",
      "Epoch 64/75\n",
      "\u001b[1m785/785\u001b[0m \u001b[32m━━━━━━━━━━━━━━━━━━━━\u001b[0m\u001b[37m\u001b[0m \u001b[1m2s\u001b[0m 3ms/step - AUC: 0.9751 - accuracy: 0.9391 - loss: 0.1500 - val_AUC: 0.9707 - val_accuracy: 0.9355 - val_loss: 0.1596\n",
      "Epoch 65/75\n",
      "\u001b[1m785/785\u001b[0m \u001b[32m━━━━━━━━━━━━━━━━━━━━\u001b[0m\u001b[37m\u001b[0m \u001b[1m2s\u001b[0m 3ms/step - AUC: 0.9763 - accuracy: 0.9410 - loss: 0.1461 - val_AUC: 0.9704 - val_accuracy: 0.9364 - val_loss: 0.1591\n",
      "Epoch 66/75\n",
      "\u001b[1m785/785\u001b[0m \u001b[32m━━━━━━━━━━━━━━━━━━━━\u001b[0m\u001b[37m\u001b[0m \u001b[1m2s\u001b[0m 3ms/step - AUC: 0.9754 - accuracy: 0.9405 - loss: 0.1476 - val_AUC: 0.9704 - val_accuracy: 0.9364 - val_loss: 0.1606\n",
      "Epoch 67/75\n",
      "\u001b[1m785/785\u001b[0m \u001b[32m━━━━━━━━━━━━━━━━━━━━\u001b[0m\u001b[37m\u001b[0m \u001b[1m2s\u001b[0m 3ms/step - AUC: 0.9752 - accuracy: 0.9404 - loss: 0.1481 - val_AUC: 0.9702 - val_accuracy: 0.9364 - val_loss: 0.1599\n",
      "Epoch 68/75\n",
      "\u001b[1m785/785\u001b[0m \u001b[32m━━━━━━━━━━━━━━━━━━━━\u001b[0m\u001b[37m\u001b[0m \u001b[1m2s\u001b[0m 2ms/step - AUC: 0.9753 - accuracy: 0.9392 - loss: 0.1488 - val_AUC: 0.9705 - val_accuracy: 0.9359 - val_loss: 0.1593\n",
      "Epoch 69/75\n",
      "\u001b[1m785/785\u001b[0m \u001b[32m━━━━━━━━━━━━━━━━━━━━\u001b[0m\u001b[37m\u001b[0m \u001b[1m2s\u001b[0m 3ms/step - AUC: 0.9758 - accuracy: 0.9396 - loss: 0.1485 - val_AUC: 0.9705 - val_accuracy: 0.9367 - val_loss: 0.1590\n",
      "Epoch 70/75\n",
      "\u001b[1m785/785\u001b[0m \u001b[32m━━━━━━━━━━━━━━━━━━━━\u001b[0m\u001b[37m\u001b[0m \u001b[1m2s\u001b[0m 3ms/step - AUC: 0.9758 - accuracy: 0.9407 - loss: 0.1468 - val_AUC: 0.9704 - val_accuracy: 0.9363 - val_loss: 0.1591\n",
      "Epoch 71/75\n",
      "\u001b[1m785/785\u001b[0m \u001b[32m━━━━━━━━━━━━━━━━━━━━\u001b[0m\u001b[37m\u001b[0m \u001b[1m2s\u001b[0m 3ms/step - AUC: 0.9761 - accuracy: 0.9405 - loss: 0.1460 - val_AUC: 0.9705 - val_accuracy: 0.9341 - val_loss: 0.1630\n",
      "Epoch 72/75\n",
      "\u001b[1m785/785\u001b[0m \u001b[32m━━━━━━━━━━━━━━━━━━━━\u001b[0m\u001b[37m\u001b[0m \u001b[1m2s\u001b[0m 3ms/step - AUC: 0.9759 - accuracy: 0.9404 - loss: 0.1474 - val_AUC: 0.9699 - val_accuracy: 0.9344 - val_loss: 0.1611\n",
      "Epoch 73/75\n",
      "\u001b[1m785/785\u001b[0m \u001b[32m━━━━━━━━━━━━━━━━━━━━\u001b[0m\u001b[37m\u001b[0m \u001b[1m2s\u001b[0m 3ms/step - AUC: 0.9767 - accuracy: 0.9422 - loss: 0.1439 - val_AUC: 0.9701 - val_accuracy: 0.9357 - val_loss: 0.1595\n",
      "Epoch 74/75\n",
      "\u001b[1m785/785\u001b[0m \u001b[32m━━━━━━━━━━━━━━━━━━━━\u001b[0m\u001b[37m\u001b[0m \u001b[1m2s\u001b[0m 3ms/step - AUC: 0.9770 - accuracy: 0.9417 - loss: 0.1442 - val_AUC: 0.9707 - val_accuracy: 0.9369 - val_loss: 0.1595\n",
      "Epoch 75/75\n",
      "\u001b[1m785/785\u001b[0m \u001b[32m━━━━━━━━━━━━━━━━━━━━\u001b[0m\u001b[37m\u001b[0m \u001b[1m2s\u001b[0m 3ms/step - AUC: 0.9762 - accuracy: 0.9404 - loss: 0.1468 - val_AUC: 0.9703 - val_accuracy: 0.9366 - val_loss: 0.1601\n"
     ]
    },
    {
     "data": {
      "text/plain": [
       "<keras.src.callbacks.history.History at 0x1e19c141750>"
      ]
     },
     "execution_count": 115,
     "metadata": {},
     "output_type": "execute_result"
    }
   ],
   "source": [
    "# fitting the model\n",
    "best_model.fit(\n",
    "    x_train, y_train,\n",
    "    validation_split=0.2,\n",
    "    epochs=75,\n",
    "    batch_size=128,\n",
    "    verbose = 1,\n",
    ")\n"
   ]
  },
  {
   "cell_type": "markdown",
   "id": "c204142a",
   "metadata": {},
   "source": [
    "# Predictive Analysis with best hyperparameters model"
   ]
  },
  {
   "cell_type": "code",
   "execution_count": 134,
   "id": "2375c3d6",
   "metadata": {
    "scrolled": true
   },
   "outputs": [
    {
     "name": "stdout",
     "output_type": "stream",
     "text": [
      "\u001b[1m436/436\u001b[0m \u001b[32m━━━━━━━━━━━━━━━━━━━━\u001b[0m\u001b[37m\u001b[0m \u001b[1m1s\u001b[0m 2ms/step - AUC: 0.9709 - accuracy: 0.9319 - loss: 0.1642\n",
      "Testing accuracy : [0.16128894686698914, 0.9347436428070068, 0.9713564515113831] \n"
     ]
    }
   ],
   "source": [
    "# valuation of the model\n",
    "evaluation_02 = best_model.evaluate(x_test,y_test)\n",
    "\n",
    "print(f\"Testing accuracy : {evaluation_02} \")"
   ]
  },
  {
   "cell_type": "code",
   "execution_count": 118,
   "id": "f91b77be",
   "metadata": {
    "scrolled": true
   },
   "outputs": [
    {
     "name": "stdout",
     "output_type": "stream",
     "text": [
      "\u001b[1m436/436\u001b[0m \u001b[32m━━━━━━━━━━━━━━━━━━━━\u001b[0m\u001b[37m\u001b[0m \u001b[1m1s\u001b[0m 1ms/step\n"
     ]
    }
   ],
   "source": [
    "y_predict = best_model.predict(x_test)"
   ]
  },
  {
   "cell_type": "code",
   "execution_count": 121,
   "id": "f5300018",
   "metadata": {},
   "outputs": [],
   "source": [
    "# converting the classes into categories of 0 and 1 from probabillities\n",
    "y_predict_0_1 = (y_predict > 0.5).astype(int)"
   ]
  },
  {
   "cell_type": "code",
   "execution_count": 122,
   "id": "7f42f8ea",
   "metadata": {
    "scrolled": true
   },
   "outputs": [
    {
     "name": "stdout",
     "output_type": "stream",
     "text": [
      "              precision    recall  f1-score   support\n",
      "\n",
      "           0       0.96      0.96      0.96     11463\n",
      "           1       0.82      0.81      0.82      2482\n",
      "\n",
      "    accuracy                           0.93     13945\n",
      "   macro avg       0.89      0.89      0.89     13945\n",
      "weighted avg       0.93      0.93      0.93     13945\n",
      "\n"
     ]
    }
   ],
   "source": [
    "# printing the classification report\n",
    "print(classification_report(y_test, y_predict_0_1))"
   ]
  },
  {
   "cell_type": "code",
   "execution_count": 128,
   "id": "c212ac23",
   "metadata": {},
   "outputs": [
    {
     "data": {
      "image/png": "[encoded data removed]",
      "text/plain": [
       "<Figure size 800x600 with 2 Axes>"
      ]
     },
     "metadata": {},
     "output_type": "display_data"
    }
   ],
   "source": [
    "# Assuming y_test is your true labels and y_predict_classes is your predicted labels\n",
    "conf_matrix = confusion_matrix(y_test, y_predict_0_1)\n",
    "\n",
    "# Plotting the confusion matrix\n",
    "plt.figure(figsize=(8, 6))\n",
    "sns.heatmap(conf_matrix, annot=True, fmt='d', cmap='Blues', \n",
    "            xticklabels=['Depressed', 'NO Depression'], \n",
    "            yticklabels=['NO Depression', 'Depressed'])\n",
    "plt.xlabel('Predicted Labels')\n",
    "plt.ylabel('True Labels')\n",
    "plt.title('Confusion Matrix')\n",
    "plt.show()\n"
   ]
  },
  {
   "cell_type": "markdown",
   "id": "06b200bd",
   "metadata": {},
   "source": [
    "# Predictive Analysis with Custom model"
   ]
  },
  {
   "cell_type": "code",
   "execution_count": 133,
   "id": "23d7a7ae",
   "metadata": {
    "scrolled": true
   },
   "outputs": [
    {
     "name": "stdout",
     "output_type": "stream",
     "text": [
      "\u001b[1m436/436\u001b[0m \u001b[32m━━━━━━━━━━━━━━━━━━━━\u001b[0m\u001b[37m\u001b[0m \u001b[1m1s\u001b[0m 2ms/step - accuracy: 0.9145 - loss: 0.3053 - precision: 0.8920\n",
      "Testing accuracy : [0.302987664937973, 0.9152384400367737, 0.8925120830535889] \n"
     ]
    }
   ],
   "source": [
    "# valuation of the custom model\n",
    "evaluation_03 = model.evaluate(x_test,y_test)\n",
    "\n",
    "print(f\"Testing accuracy : {evaluation_03} \")"
   ]
  },
  {
   "cell_type": "code",
   "execution_count": 135,
   "id": "7964f7c8",
   "metadata": {
    "scrolled": true
   },
   "outputs": [
    {
     "name": "stdout",
     "output_type": "stream",
     "text": [
      "\u001b[1m436/436\u001b[0m \u001b[32m━━━━━━━━━━━━━━━━━━━━\u001b[0m\u001b[37m\u001b[0m \u001b[1m1s\u001b[0m 998us/step\n"
     ]
    }
   ],
   "source": [
    "y_predict_model = model.predict(x_test)"
   ]
  },
  {
   "cell_type": "code",
   "execution_count": 136,
   "id": "b04e30b2",
   "metadata": {},
   "outputs": [],
   "source": [
    "# converting the classes into categories of 0 and 1 from probabillities\n",
    "y_predict_0_1_model = (y_predict_model > 0.5).astype(int)"
   ]
  },
  {
   "cell_type": "code",
   "execution_count": 137,
   "id": "2aa50264",
   "metadata": {
    "scrolled": true
   },
   "outputs": [
    {
     "name": "stdout",
     "output_type": "stream",
     "text": [
      "              precision    recall  f1-score   support\n",
      "\n",
      "           0       0.92      0.98      0.95     11463\n",
      "           1       0.89      0.60      0.71      2482\n",
      "\n",
      "    accuracy                           0.92     13945\n",
      "   macro avg       0.91      0.79      0.83     13945\n",
      "weighted avg       0.91      0.92      0.91     13945\n",
      "\n"
     ]
    }
   ],
   "source": [
    "# printing the classification report\n",
    "print(classification_report(y_test, y_predict_0_1_model))"
   ]
  },
  {
   "cell_type": "code",
   "execution_count": 138,
   "id": "9096d4d8",
   "metadata": {},
   "outputs": [
    {
     "data": {
      "image/png": "[encoded data removed]",
      "text/plain": [
       "<Figure size 800x600 with 2 Axes>"
      ]
     },
     "metadata": {},
     "output_type": "display_data"
    }
   ],
   "source": [
    "# Assuming y_test is your true labels and y_predict_classes is your predicted labels\n",
    "conf_matrix = confusion_matrix(y_test, y_predict_0_1_model)\n",
    "\n",
    "# Plotting the confusion matrix\n",
    "plt.figure(figsize=(8, 6))\n",
    "sns.heatmap(conf_matrix, annot=True, fmt='d', cmap='Blues', \n",
    "            xticklabels=['Depressed', 'NO Depression'], \n",
    "            yticklabels=['NO Depression', 'Depressed'])\n",
    "plt.xlabel('Predicted Labels')\n",
    "plt.ylabel('True Labels')\n",
    "plt.title('Confusion Matrix')\n",
    "plt.show()\n"
   ]
  },
  {
   "cell_type": "markdown",
   "id": "e95ad23c",
   "metadata": {},
   "source": [
    "# Exporting the Model"
   ]
  },
  {
   "cell_type": "code",
   "execution_count": 141,
   "id": "fac079b2",
   "metadata": {},
   "outputs": [],
   "source": [
    "# Saving the custom model in keras format\n",
    "model.save('Mental_Health_custom_model.keras')"
   ]
  },
  {
   "cell_type": "code",
   "execution_count": 142,
   "id": "3bb8f375",
   "metadata": {},
   "outputs": [],
   "source": [
    "# saving the best hyperparameters model in keras format\n",
    "best_model.save('Mental_Health_best_param_model.keras')"
   ]
  }
 ],
 "metadata": {
  "kernelspec": {
   "display_name": "Python 3 (ipykernel)",
   "language": "python",
   "name": "python3"
  },
  "language_info": {
   "codemirror_mode": {
    "name": "ipython",
    "version": 3
   },
   "file_extension": ".py",
   "mimetype": "text/x-python",
   "name": "python",
   "nbconvert_exporter": "python",
   "pygments_lexer": "ipython3",
   "version": "3.11.7"
  }
 },
 "nbformat": 4,
 "nbformat_minor": 5
}
