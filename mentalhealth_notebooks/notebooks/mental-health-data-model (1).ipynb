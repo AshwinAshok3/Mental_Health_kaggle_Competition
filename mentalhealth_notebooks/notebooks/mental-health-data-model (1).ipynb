{
 "cells": [
  {
   "cell_type": "code",
   "execution_count": 1,
   "id": "a976e5ff",
   "metadata": {
    "execution": {
     "iopub.execute_input": "2025-02-23T20:31:13.753920Z",
     "iopub.status.busy": "2025-02-23T20:31:13.753551Z",
     "iopub.status.idle": "2025-02-23T20:31:14.456854Z",
     "shell.execute_reply": "2025-02-23T20:31:14.456084Z"
    },
    "papermill": {
     "duration": 0.729763,
     "end_time": "2025-02-23T20:31:14.458284",
     "exception": false,
     "start_time": "2025-02-23T20:31:13.728521",
     "status": "completed"
    },
    "tags": []
   },
   "outputs": [
    {
     "name": "stdout",
     "output_type": "stream",
     "text": [
      "/kaggle/input/playground-series-s4e11/sample_submission.csv\n",
      "/kaggle/input/playground-series-s4e11/train.csv\n",
      "/kaggle/input/playground-series-s4e11/test.csv\n"
     ]
    }
   ],
   "source": [
    "# This Python 3 environment comes with many helpful analytics libraries installed\n",
    "# It is defined by the kaggle/python Docker image: https://github.com/kaggle/docker-python\n",
    "# For example, here's several helpful packages to load\n",
    "\n",
    "import numpy as np # linear algebra\n",
    "import pandas as pd # data processing, CSV file I/O (e.g. pd.read_csv)\n",
    "\n",
    "# Input data files are available in the read-only \"../input/\" directory\n",
    "# For example, running this (by clicking run or pressing Shift+Enter) will list all files under the input directory\n",
    "\n",
    "import os\n",
    "for dirname, _, filenames in os.walk('/kaggle/input'):\n",
    "    for filename in filenames:\n",
    "        print(os.path.join(dirname, filename))\n",
    "\n",
    "# You can write up to 20GB to the current directory (/kaggle/working/) that gets preserved as output when you create a version using \"Save & Run All\" \n",
    "# You can also write temporary files to /kaggle/temp/, but they won't be saved outside of the current session"
   ]
  },
  {
   "cell_type": "markdown",
   "id": "5d53db26",
   "metadata": {
    "papermill": {
     "duration": 0.022257,
     "end_time": "2025-02-23T20:31:14.504125",
     "exception": false,
     "start_time": "2025-02-23T20:31:14.481868",
     "status": "completed"
    },
    "tags": []
   },
   "source": [
    "# Importing Libraries"
   ]
  },
  {
   "cell_type": "code",
   "execution_count": 2,
   "id": "22dfeabd",
   "metadata": {
    "execution": {
     "iopub.execute_input": "2025-02-23T20:31:14.549856Z",
     "iopub.status.busy": "2025-02-23T20:31:14.549450Z",
     "iopub.status.idle": "2025-02-23T20:31:28.329672Z",
     "shell.execute_reply": "2025-02-23T20:31:28.329004Z"
    },
    "papermill": {
     "duration": 13.804903,
     "end_time": "2025-02-23T20:31:28.331315",
     "exception": false,
     "start_time": "2025-02-23T20:31:14.526412",
     "status": "completed"
    },
    "tags": []
   },
   "outputs": [],
   "source": [
    "# importing necessary libraries\n",
    "import tensorflow as tf\n",
    "import tensorflow.keras as keras\n",
    "import keras_tuner as kt\n",
    "\n",
    "# Encoding \n",
    "from sklearn.preprocessing import LabelEncoder\n",
    "\n",
    "# splitting the data \n",
    "from sklearn.model_selection import train_test_split\n",
    "\n",
    "# valuating the features \n",
    "from sklearn.feature_selection import mutual_info_classif\n",
    "\n",
    "# standardizatom\n",
    "from sklearn.preprocessing import MinMaxScaler\n",
    "\n",
    "# classification report\n",
    "from sklearn.metrics import classification_report, confusion_matrix\n",
    "\n",
    "# plots\n",
    "import matplotlib.pyplot as plt\n",
    "import seaborn as sns\n",
    "%matplotlib inline"
   ]
  },
  {
   "cell_type": "markdown",
   "id": "6d4895b4",
   "metadata": {
    "papermill": {
     "duration": 0.022168,
     "end_time": "2025-02-23T20:31:28.376303",
     "exception": false,
     "start_time": "2025-02-23T20:31:28.354135",
     "status": "completed"
    },
    "tags": []
   },
   "source": [
    "# Importing Dataset"
   ]
  },
  {
   "cell_type": "code",
   "execution_count": 3,
   "id": "c27497e4",
   "metadata": {
    "execution": {
     "iopub.execute_input": "2025-02-23T20:31:28.421415Z",
     "iopub.status.busy": "2025-02-23T20:31:28.420872Z",
     "iopub.status.idle": "2025-02-23T20:31:29.190062Z",
     "shell.execute_reply": "2025-02-23T20:31:29.189350Z"
    },
    "papermill": {
     "duration": 0.793346,
     "end_time": "2025-02-23T20:31:29.191549",
     "exception": false,
     "start_time": "2025-02-23T20:31:28.398203",
     "status": "completed"
    },
    "tags": []
   },
   "outputs": [],
   "source": [
    "# Importing trainset\n",
    "train_df = pd.read_csv('/kaggle/input/playground-series-s4e11/train.csv')\n",
    "test_df = pd.read_csv(\"/kaggle/input/playground-series-s4e11/test.csv\")\n",
    "train_df.name = \"train set\"\n",
    "test_df.name = \"test set\"\n",
    "\n",
    "# assigning the max columns and certain max rows to display so the veiw could be bigger to veiw and easy\n",
    "pd.set_option(\"display.max_columns\",None)\n",
    "pd.set_option(\"display.max_rows\",50)"
   ]
  },
  {
   "cell_type": "markdown",
   "id": "70060fba",
   "metadata": {
    "papermill": {
     "duration": 0.021831,
     "end_time": "2025-02-23T20:31:29.236019",
     "exception": false,
     "start_time": "2025-02-23T20:31:29.214188",
     "status": "completed"
    },
    "tags": []
   },
   "source": [
    "# Dataset Exploration"
   ]
  },
  {
   "cell_type": "code",
   "execution_count": 4,
   "id": "9d8e3b24",
   "metadata": {
    "execution": {
     "iopub.execute_input": "2025-02-23T20:31:29.281243Z",
     "iopub.status.busy": "2025-02-23T20:31:29.280889Z",
     "iopub.status.idle": "2025-02-23T20:31:29.336252Z",
     "shell.execute_reply": "2025-02-23T20:31:29.335166Z"
    },
    "papermill": {
     "duration": 0.079439,
     "end_time": "2025-02-23T20:31:29.337567",
     "exception": false,
     "start_time": "2025-02-23T20:31:29.258128",
     "status": "completed"
    },
    "tags": []
   },
   "outputs": [
    {
     "name": "stderr",
     "output_type": "stream",
     "text": [
      "/usr/local/lib/python3.10/dist-packages/pandas/io/formats/format.py:1458: RuntimeWarning: invalid value encountered in greater\n",
      "  has_large_values = (abs_vals > 1e6).any()\n",
      "/usr/local/lib/python3.10/dist-packages/pandas/io/formats/format.py:1459: RuntimeWarning: invalid value encountered in less\n",
      "  has_small_values = ((abs_vals < 10 ** (-self.digits)) & (abs_vals > 0)).any()\n",
      "/usr/local/lib/python3.10/dist-packages/pandas/io/formats/format.py:1459: RuntimeWarning: invalid value encountered in greater\n",
      "  has_small_values = ((abs_vals < 10 ** (-self.digits)) & (abs_vals > 0)).any()\n"
     ]
    },
    {
     "data": {
      "text/html": [
       "<div>\n",
       "<style scoped>\n",
       "    .dataframe tbody tr th:only-of-type {\n",
       "        vertical-align: middle;\n",
       "    }\n",
       "\n",
       "    .dataframe tbody tr th {\n",
       "        vertical-align: top;\n",
       "    }\n",
       "\n",
       "    .dataframe thead th {\n",
       "        text-align: right;\n",
       "    }\n",
       "</style>\n",
       "<table border=\"1\" class=\"dataframe\">\n",
       "  <thead>\n",
       "    <tr style=\"text-align: right;\">\n",
       "      <th></th>\n",
       "      <th>Name</th>\n",
       "      <th>Gender</th>\n",
       "      <th>Age</th>\n",
       "      <th>City</th>\n",
       "      <th>Working Professional or Student</th>\n",
       "      <th>Profession</th>\n",
       "      <th>Academic Pressure</th>\n",
       "      <th>Work Pressure</th>\n",
       "      <th>CGPA</th>\n",
       "      <th>Study Satisfaction</th>\n",
       "      <th>Job Satisfaction</th>\n",
       "      <th>Sleep Duration</th>\n",
       "      <th>Dietary Habits</th>\n",
       "      <th>Degree</th>\n",
       "      <th>Have you ever had suicidal thoughts ?</th>\n",
       "      <th>Work/Study Hours</th>\n",
       "      <th>Financial Stress</th>\n",
       "      <th>Family History of Mental Illness</th>\n",
       "      <th>Depression</th>\n",
       "    </tr>\n",
       "    <tr>\n",
       "      <th>id</th>\n",
       "      <th></th>\n",
       "      <th></th>\n",
       "      <th></th>\n",
       "      <th></th>\n",
       "      <th></th>\n",
       "      <th></th>\n",
       "      <th></th>\n",
       "      <th></th>\n",
       "      <th></th>\n",
       "      <th></th>\n",
       "      <th></th>\n",
       "      <th></th>\n",
       "      <th></th>\n",
       "      <th></th>\n",
       "      <th></th>\n",
       "      <th></th>\n",
       "      <th></th>\n",
       "      <th></th>\n",
       "      <th></th>\n",
       "    </tr>\n",
       "  </thead>\n",
       "  <tbody>\n",
       "    <tr>\n",
       "      <th>140695</th>\n",
       "      <td>Vidya</td>\n",
       "      <td>Female</td>\n",
       "      <td>18.0</td>\n",
       "      <td>Ahmedabad</td>\n",
       "      <td>Working Professional</td>\n",
       "      <td>NaN</td>\n",
       "      <td>NaN</td>\n",
       "      <td>5.0</td>\n",
       "      <td>NaN</td>\n",
       "      <td>NaN</td>\n",
       "      <td>4.0</td>\n",
       "      <td>5-6 hours</td>\n",
       "      <td>Unhealthy</td>\n",
       "      <td>Class 12</td>\n",
       "      <td>No</td>\n",
       "      <td>2.0</td>\n",
       "      <td>4.0</td>\n",
       "      <td>Yes</td>\n",
       "      <td>1</td>\n",
       "    </tr>\n",
       "    <tr>\n",
       "      <th>140696</th>\n",
       "      <td>Lata</td>\n",
       "      <td>Female</td>\n",
       "      <td>41.0</td>\n",
       "      <td>Hyderabad</td>\n",
       "      <td>Working Professional</td>\n",
       "      <td>Content Writer</td>\n",
       "      <td>NaN</td>\n",
       "      <td>5.0</td>\n",
       "      <td>NaN</td>\n",
       "      <td>NaN</td>\n",
       "      <td>4.0</td>\n",
       "      <td>7-8 hours</td>\n",
       "      <td>Moderate</td>\n",
       "      <td>B.Tech</td>\n",
       "      <td>Yes</td>\n",
       "      <td>6.0</td>\n",
       "      <td>5.0</td>\n",
       "      <td>Yes</td>\n",
       "      <td>0</td>\n",
       "    </tr>\n",
       "    <tr>\n",
       "      <th>140697</th>\n",
       "      <td>Aanchal</td>\n",
       "      <td>Female</td>\n",
       "      <td>24.0</td>\n",
       "      <td>Kolkata</td>\n",
       "      <td>Working Professional</td>\n",
       "      <td>Marketing Manager</td>\n",
       "      <td>NaN</td>\n",
       "      <td>3.0</td>\n",
       "      <td>NaN</td>\n",
       "      <td>NaN</td>\n",
       "      <td>1.0</td>\n",
       "      <td>More than 8 hours</td>\n",
       "      <td>Moderate</td>\n",
       "      <td>B.Com</td>\n",
       "      <td>No</td>\n",
       "      <td>4.0</td>\n",
       "      <td>4.0</td>\n",
       "      <td>No</td>\n",
       "      <td>0</td>\n",
       "    </tr>\n",
       "    <tr>\n",
       "      <th>140698</th>\n",
       "      <td>Prachi</td>\n",
       "      <td>Female</td>\n",
       "      <td>49.0</td>\n",
       "      <td>Srinagar</td>\n",
       "      <td>Working Professional</td>\n",
       "      <td>Plumber</td>\n",
       "      <td>NaN</td>\n",
       "      <td>5.0</td>\n",
       "      <td>NaN</td>\n",
       "      <td>NaN</td>\n",
       "      <td>2.0</td>\n",
       "      <td>5-6 hours</td>\n",
       "      <td>Moderate</td>\n",
       "      <td>ME</td>\n",
       "      <td>Yes</td>\n",
       "      <td>10.0</td>\n",
       "      <td>1.0</td>\n",
       "      <td>No</td>\n",
       "      <td>0</td>\n",
       "    </tr>\n",
       "    <tr>\n",
       "      <th>140699</th>\n",
       "      <td>Sai</td>\n",
       "      <td>Male</td>\n",
       "      <td>27.0</td>\n",
       "      <td>Patna</td>\n",
       "      <td>Student</td>\n",
       "      <td>NaN</td>\n",
       "      <td>4.0</td>\n",
       "      <td>NaN</td>\n",
       "      <td>9.24</td>\n",
       "      <td>1.0</td>\n",
       "      <td>NaN</td>\n",
       "      <td>Less than 5 hours</td>\n",
       "      <td>Healthy</td>\n",
       "      <td>BCA</td>\n",
       "      <td>Yes</td>\n",
       "      <td>2.0</td>\n",
       "      <td>3.0</td>\n",
       "      <td>Yes</td>\n",
       "      <td>1</td>\n",
       "    </tr>\n",
       "  </tbody>\n",
       "</table>\n",
       "</div>"
      ],
      "text/plain": [
       "           Name  Gender   Age       City Working Professional or Student  \\\n",
       "id                                                                         \n",
       "140695    Vidya  Female  18.0  Ahmedabad            Working Professional   \n",
       "140696     Lata  Female  41.0  Hyderabad            Working Professional   \n",
       "140697  Aanchal  Female  24.0    Kolkata            Working Professional   \n",
       "140698   Prachi  Female  49.0   Srinagar            Working Professional   \n",
       "140699      Sai    Male  27.0      Patna                         Student   \n",
       "\n",
       "               Profession  Academic Pressure  Work Pressure  CGPA  \\\n",
       "id                                                                  \n",
       "140695                NaN                NaN            5.0   NaN   \n",
       "140696     Content Writer                NaN            5.0   NaN   \n",
       "140697  Marketing Manager                NaN            3.0   NaN   \n",
       "140698            Plumber                NaN            5.0   NaN   \n",
       "140699                NaN                4.0            NaN  9.24   \n",
       "\n",
       "        Study Satisfaction  Job Satisfaction     Sleep Duration  \\\n",
       "id                                                                \n",
       "140695                 NaN               4.0          5-6 hours   \n",
       "140696                 NaN               4.0          7-8 hours   \n",
       "140697                 NaN               1.0  More than 8 hours   \n",
       "140698                 NaN               2.0          5-6 hours   \n",
       "140699                 1.0               NaN  Less than 5 hours   \n",
       "\n",
       "       Dietary Habits    Degree Have you ever had suicidal thoughts ?  \\\n",
       "id                                                                      \n",
       "140695      Unhealthy  Class 12                                    No   \n",
       "140696       Moderate    B.Tech                                   Yes   \n",
       "140697       Moderate     B.Com                                    No   \n",
       "140698       Moderate        ME                                   Yes   \n",
       "140699        Healthy       BCA                                   Yes   \n",
       "\n",
       "        Work/Study Hours  Financial Stress Family History of Mental Illness  \\\n",
       "id                                                                            \n",
       "140695               2.0               4.0                              Yes   \n",
       "140696               6.0               5.0                              Yes   \n",
       "140697               4.0               4.0                               No   \n",
       "140698              10.0               1.0                               No   \n",
       "140699               2.0               3.0                              Yes   \n",
       "\n",
       "        Depression  \n",
       "id                  \n",
       "140695           1  \n",
       "140696           0  \n",
       "140697           0  \n",
       "140698           0  \n",
       "140699           1  "
      ]
     },
     "execution_count": 4,
     "metadata": {},
     "output_type": "execute_result"
    }
   ],
   "source": [
    "train_df.index = train_df['id']\n",
    "train_df.drop(columns=['id'],inplace=True)\n",
    "test_df.index = test_df['id']\n",
    "test_df.drop(columns=['id'],inplace=True)\n",
    "train_df.tail(5)"
   ]
  },
  {
   "cell_type": "code",
   "execution_count": 5,
   "id": "d8e664e5",
   "metadata": {
    "execution": {
     "iopub.execute_input": "2025-02-23T20:31:29.384352Z",
     "iopub.status.busy": "2025-02-23T20:31:29.384091Z",
     "iopub.status.idle": "2025-02-23T20:31:29.402527Z",
     "shell.execute_reply": "2025-02-23T20:31:29.401626Z"
    },
    "papermill": {
     "duration": 0.042922,
     "end_time": "2025-02-23T20:31:29.403873",
     "exception": false,
     "start_time": "2025-02-23T20:31:29.360951",
     "status": "completed"
    },
    "tags": []
   },
   "outputs": [
    {
     "name": "stderr",
     "output_type": "stream",
     "text": [
      "/usr/local/lib/python3.10/dist-packages/pandas/io/formats/format.py:1458: RuntimeWarning: invalid value encountered in greater\n",
      "  has_large_values = (abs_vals > 1e6).any()\n",
      "/usr/local/lib/python3.10/dist-packages/pandas/io/formats/format.py:1459: RuntimeWarning: invalid value encountered in less\n",
      "  has_small_values = ((abs_vals < 10 ** (-self.digits)) & (abs_vals > 0)).any()\n",
      "/usr/local/lib/python3.10/dist-packages/pandas/io/formats/format.py:1459: RuntimeWarning: invalid value encountered in greater\n",
      "  has_small_values = ((abs_vals < 10 ** (-self.digits)) & (abs_vals > 0)).any()\n"
     ]
    },
    {
     "data": {
      "text/html": [
       "<div>\n",
       "<style scoped>\n",
       "    .dataframe tbody tr th:only-of-type {\n",
       "        vertical-align: middle;\n",
       "    }\n",
       "\n",
       "    .dataframe tbody tr th {\n",
       "        vertical-align: top;\n",
       "    }\n",
       "\n",
       "    .dataframe thead th {\n",
       "        text-align: right;\n",
       "    }\n",
       "</style>\n",
       "<table border=\"1\" class=\"dataframe\">\n",
       "  <thead>\n",
       "    <tr style=\"text-align: right;\">\n",
       "      <th></th>\n",
       "      <th>Name</th>\n",
       "      <th>Gender</th>\n",
       "      <th>Age</th>\n",
       "      <th>City</th>\n",
       "      <th>Working Professional or Student</th>\n",
       "      <th>Profession</th>\n",
       "      <th>Academic Pressure</th>\n",
       "      <th>Work Pressure</th>\n",
       "      <th>CGPA</th>\n",
       "      <th>Study Satisfaction</th>\n",
       "      <th>Job Satisfaction</th>\n",
       "      <th>Sleep Duration</th>\n",
       "      <th>Dietary Habits</th>\n",
       "      <th>Degree</th>\n",
       "      <th>Have you ever had suicidal thoughts ?</th>\n",
       "      <th>Work/Study Hours</th>\n",
       "      <th>Financial Stress</th>\n",
       "      <th>Family History of Mental Illness</th>\n",
       "    </tr>\n",
       "    <tr>\n",
       "      <th>id</th>\n",
       "      <th></th>\n",
       "      <th></th>\n",
       "      <th></th>\n",
       "      <th></th>\n",
       "      <th></th>\n",
       "      <th></th>\n",
       "      <th></th>\n",
       "      <th></th>\n",
       "      <th></th>\n",
       "      <th></th>\n",
       "      <th></th>\n",
       "      <th></th>\n",
       "      <th></th>\n",
       "      <th></th>\n",
       "      <th></th>\n",
       "      <th></th>\n",
       "      <th></th>\n",
       "      <th></th>\n",
       "    </tr>\n",
       "  </thead>\n",
       "  <tbody>\n",
       "    <tr>\n",
       "      <th>140700</th>\n",
       "      <td>Shivam</td>\n",
       "      <td>Male</td>\n",
       "      <td>53.0</td>\n",
       "      <td>Visakhapatnam</td>\n",
       "      <td>Working Professional</td>\n",
       "      <td>Judge</td>\n",
       "      <td>NaN</td>\n",
       "      <td>2.0</td>\n",
       "      <td>NaN</td>\n",
       "      <td>NaN</td>\n",
       "      <td>5.0</td>\n",
       "      <td>Less than 5 hours</td>\n",
       "      <td>Moderate</td>\n",
       "      <td>LLB</td>\n",
       "      <td>No</td>\n",
       "      <td>9.0</td>\n",
       "      <td>3.0</td>\n",
       "      <td>Yes</td>\n",
       "    </tr>\n",
       "    <tr>\n",
       "      <th>140701</th>\n",
       "      <td>Sanya</td>\n",
       "      <td>Female</td>\n",
       "      <td>58.0</td>\n",
       "      <td>Kolkata</td>\n",
       "      <td>Working Professional</td>\n",
       "      <td>Educational Consultant</td>\n",
       "      <td>NaN</td>\n",
       "      <td>2.0</td>\n",
       "      <td>NaN</td>\n",
       "      <td>NaN</td>\n",
       "      <td>4.0</td>\n",
       "      <td>Less than 5 hours</td>\n",
       "      <td>Moderate</td>\n",
       "      <td>B.Ed</td>\n",
       "      <td>No</td>\n",
       "      <td>6.0</td>\n",
       "      <td>4.0</td>\n",
       "      <td>No</td>\n",
       "    </tr>\n",
       "    <tr>\n",
       "      <th>140702</th>\n",
       "      <td>Yash</td>\n",
       "      <td>Male</td>\n",
       "      <td>53.0</td>\n",
       "      <td>Jaipur</td>\n",
       "      <td>Working Professional</td>\n",
       "      <td>Teacher</td>\n",
       "      <td>NaN</td>\n",
       "      <td>4.0</td>\n",
       "      <td>NaN</td>\n",
       "      <td>NaN</td>\n",
       "      <td>1.0</td>\n",
       "      <td>7-8 hours</td>\n",
       "      <td>Moderate</td>\n",
       "      <td>B.Arch</td>\n",
       "      <td>Yes</td>\n",
       "      <td>12.0</td>\n",
       "      <td>4.0</td>\n",
       "      <td>No</td>\n",
       "    </tr>\n",
       "    <tr>\n",
       "      <th>140703</th>\n",
       "      <td>Nalini</td>\n",
       "      <td>Female</td>\n",
       "      <td>23.0</td>\n",
       "      <td>Rajkot</td>\n",
       "      <td>Student</td>\n",
       "      <td>NaN</td>\n",
       "      <td>5.0</td>\n",
       "      <td>NaN</td>\n",
       "      <td>6.84</td>\n",
       "      <td>1.0</td>\n",
       "      <td>NaN</td>\n",
       "      <td>More than 8 hours</td>\n",
       "      <td>Moderate</td>\n",
       "      <td>BSc</td>\n",
       "      <td>Yes</td>\n",
       "      <td>10.0</td>\n",
       "      <td>4.0</td>\n",
       "      <td>No</td>\n",
       "    </tr>\n",
       "    <tr>\n",
       "      <th>140704</th>\n",
       "      <td>Shaurya</td>\n",
       "      <td>Male</td>\n",
       "      <td>47.0</td>\n",
       "      <td>Kalyan</td>\n",
       "      <td>Working Professional</td>\n",
       "      <td>Teacher</td>\n",
       "      <td>NaN</td>\n",
       "      <td>5.0</td>\n",
       "      <td>NaN</td>\n",
       "      <td>NaN</td>\n",
       "      <td>5.0</td>\n",
       "      <td>7-8 hours</td>\n",
       "      <td>Moderate</td>\n",
       "      <td>BCA</td>\n",
       "      <td>Yes</td>\n",
       "      <td>3.0</td>\n",
       "      <td>4.0</td>\n",
       "      <td>No</td>\n",
       "    </tr>\n",
       "  </tbody>\n",
       "</table>\n",
       "</div>"
      ],
      "text/plain": [
       "           Name  Gender   Age           City Working Professional or Student  \\\n",
       "id                                                                             \n",
       "140700   Shivam    Male  53.0  Visakhapatnam            Working Professional   \n",
       "140701    Sanya  Female  58.0        Kolkata            Working Professional   \n",
       "140702     Yash    Male  53.0         Jaipur            Working Professional   \n",
       "140703   Nalini  Female  23.0         Rajkot                         Student   \n",
       "140704  Shaurya    Male  47.0         Kalyan            Working Professional   \n",
       "\n",
       "                    Profession  Academic Pressure  Work Pressure  CGPA  \\\n",
       "id                                                                       \n",
       "140700                   Judge                NaN            2.0   NaN   \n",
       "140701  Educational Consultant                NaN            2.0   NaN   \n",
       "140702                 Teacher                NaN            4.0   NaN   \n",
       "140703                     NaN                5.0            NaN  6.84   \n",
       "140704                 Teacher                NaN            5.0   NaN   \n",
       "\n",
       "        Study Satisfaction  Job Satisfaction     Sleep Duration  \\\n",
       "id                                                                \n",
       "140700                 NaN               5.0  Less than 5 hours   \n",
       "140701                 NaN               4.0  Less than 5 hours   \n",
       "140702                 NaN               1.0          7-8 hours   \n",
       "140703                 1.0               NaN  More than 8 hours   \n",
       "140704                 NaN               5.0          7-8 hours   \n",
       "\n",
       "       Dietary Habits  Degree Have you ever had suicidal thoughts ?  \\\n",
       "id                                                                    \n",
       "140700       Moderate     LLB                                    No   \n",
       "140701       Moderate    B.Ed                                    No   \n",
       "140702       Moderate  B.Arch                                   Yes   \n",
       "140703       Moderate     BSc                                   Yes   \n",
       "140704       Moderate     BCA                                   Yes   \n",
       "\n",
       "        Work/Study Hours  Financial Stress Family History of Mental Illness  \n",
       "id                                                                           \n",
       "140700               9.0               3.0                              Yes  \n",
       "140701               6.0               4.0                               No  \n",
       "140702              12.0               4.0                               No  \n",
       "140703              10.0               4.0                               No  \n",
       "140704               3.0               4.0                               No  "
      ]
     },
     "execution_count": 5,
     "metadata": {},
     "output_type": "execute_result"
    }
   ],
   "source": [
    "test_df.head(5)"
   ]
  },
  {
   "cell_type": "code",
   "execution_count": 6,
   "id": "b57fe426",
   "metadata": {
    "execution": {
     "iopub.execute_input": "2025-02-23T20:31:29.491463Z",
     "iopub.status.busy": "2025-02-23T20:31:29.491172Z",
     "iopub.status.idle": "2025-02-23T20:31:29.574296Z",
     "shell.execute_reply": "2025-02-23T20:31:29.573132Z"
    },
    "papermill": {
     "duration": 0.148092,
     "end_time": "2025-02-23T20:31:29.575672",
     "exception": false,
     "start_time": "2025-02-23T20:31:29.427580",
     "status": "completed"
    },
    "tags": []
   },
   "outputs": [
    {
     "name": "stdout",
     "output_type": "stream",
     "text": [
      "<class 'pandas.core.frame.DataFrame'>\n",
      "Index: 140700 entries, 0 to 140699\n",
      "Data columns (total 19 columns):\n",
      " #   Column                                 Non-Null Count   Dtype  \n",
      "---  ------                                 --------------   -----  \n",
      " 0   Name                                   140700 non-null  object \n",
      " 1   Gender                                 140700 non-null  object \n",
      " 2   Age                                    140700 non-null  float64\n",
      " 3   City                                   140700 non-null  object \n",
      " 4   Working Professional or Student        140700 non-null  object \n",
      " 5   Profession                             104070 non-null  object \n",
      " 6   Academic Pressure                      27897 non-null   float64\n",
      " 7   Work Pressure                          112782 non-null  float64\n",
      " 8   CGPA                                   27898 non-null   float64\n",
      " 9   Study Satisfaction                     27897 non-null   float64\n",
      " 10  Job Satisfaction                       112790 non-null  float64\n",
      " 11  Sleep Duration                         140700 non-null  object \n",
      " 12  Dietary Habits                         140696 non-null  object \n",
      " 13  Degree                                 140698 non-null  object \n",
      " 14  Have you ever had suicidal thoughts ?  140700 non-null  object \n",
      " 15  Work/Study Hours                       140700 non-null  float64\n",
      " 16  Financial Stress                       140696 non-null  float64\n",
      " 17  Family History of Mental Illness       140700 non-null  object \n",
      " 18  Depression                             140700 non-null  int64  \n",
      "dtypes: float64(8), int64(1), object(10)\n",
      "memory usage: 21.5+ MB\n"
     ]
    }
   ],
   "source": [
    "train_df.info()"
   ]
  },
  {
   "cell_type": "code",
   "execution_count": 7,
   "id": "018f6f89",
   "metadata": {
    "execution": {
     "iopub.execute_input": "2025-02-23T20:31:29.623784Z",
     "iopub.status.busy": "2025-02-23T20:31:29.623497Z",
     "iopub.status.idle": "2025-02-23T20:31:29.647457Z",
     "shell.execute_reply": "2025-02-23T20:31:29.646629Z"
    },
    "papermill": {
     "duration": 0.04902,
     "end_time": "2025-02-23T20:31:29.648801",
     "exception": false,
     "start_time": "2025-02-23T20:31:29.599781",
     "status": "completed"
    },
    "tags": []
   },
   "outputs": [],
   "source": [
    "# Removing the name column from both the train and test set\n",
    "train_df.drop(columns=['Name'],axis=1,inplace=True)\n",
    "test_df.drop(columns=['Name'],axis=1,inplace=True)"
   ]
  },
  {
   "cell_type": "markdown",
   "id": "00adc9e2",
   "metadata": {
    "papermill": {
     "duration": 0.023185,
     "end_time": "2025-02-23T20:31:29.695827",
     "exception": false,
     "start_time": "2025-02-23T20:31:29.672642",
     "status": "completed"
    },
    "tags": []
   },
   "source": [
    "# EDA"
   ]
  },
  {
   "cell_type": "markdown",
   "id": "dd5b58de",
   "metadata": {
    "papermill": {
     "duration": 0.02263,
     "end_time": "2025-02-23T20:31:29.741338",
     "exception": false,
     "start_time": "2025-02-23T20:31:29.718708",
     "status": "completed"
    },
    "tags": []
   },
   "source": [
    "## Null Values"
   ]
  },
  {
   "cell_type": "markdown",
   "id": "6519fc6b",
   "metadata": {
    "papermill": {
     "duration": 0.022719,
     "end_time": "2025-02-23T20:31:29.786821",
     "exception": false,
     "start_time": "2025-02-23T20:31:29.764102",
     "status": "completed"
    },
    "tags": []
   },
   "source": [
    "As you can see there are a lot of null values in the dataset for both train and test set, so lets figure out the reason for certain null values"
   ]
  },
  {
   "cell_type": "code",
   "execution_count": 8,
   "id": "3043f1aa",
   "metadata": {
    "execution": {
     "iopub.execute_input": "2025-02-23T20:31:29.833360Z",
     "iopub.status.busy": "2025-02-23T20:31:29.833073Z",
     "iopub.status.idle": "2025-02-23T20:31:29.901186Z",
     "shell.execute_reply": "2025-02-23T20:31:29.900344Z"
    },
    "papermill": {
     "duration": 0.093126,
     "end_time": "2025-02-23T20:31:29.902576",
     "exception": false,
     "start_time": "2025-02-23T20:31:29.809450",
     "status": "completed"
    },
    "tags": []
   },
   "outputs": [
    {
     "data": {
      "text/plain": [
       "Gender                                        0\n",
       "Age                                           0\n",
       "City                                          0\n",
       "Working Professional or Student               0\n",
       "Profession                                36630\n",
       "Academic Pressure                        112803\n",
       "Work Pressure                             27918\n",
       "CGPA                                     112802\n",
       "Study Satisfaction                       112803\n",
       "Job Satisfaction                          27910\n",
       "Sleep Duration                                0\n",
       "Dietary Habits                                4\n",
       "Degree                                        2\n",
       "Have you ever had suicidal thoughts ?         0\n",
       "Work/Study Hours                              0\n",
       "Financial Stress                              4\n",
       "Family History of Mental Illness              0\n",
       "Depression                                    0\n",
       "dtype: int64"
      ]
     },
     "execution_count": 8,
     "metadata": {},
     "output_type": "execute_result"
    }
   ],
   "source": [
    "train_df.isna().sum()"
   ]
  },
  {
   "cell_type": "markdown",
   "id": "db1982af",
   "metadata": {
    "papermill": {
     "duration": 0.022651,
     "end_time": "2025-02-23T20:31:29.950177",
     "exception": false,
     "start_time": "2025-02-23T20:31:29.927526",
     "status": "completed"
    },
    "tags": []
   },
   "source": [
    "columns like `Profession` , `Academic Pressure` , `Work Pressure` , `CGPA` , `Study Satisfaction` , `Job Satisfaction` , `Sleep Duration` , `Dietary Habits`,  `Degree`  , `Financial Stress` => columns have actually null values in it inside the train set however we will have to compare them with the test set to possibly avoid any differences in the number of rows in the test set."
   ]
  },
  {
   "cell_type": "code",
   "execution_count": 9,
   "id": "b704abe5",
   "metadata": {
    "execution": {
     "iopub.execute_input": "2025-02-23T20:31:29.997183Z",
     "iopub.status.busy": "2025-02-23T20:31:29.996843Z",
     "iopub.status.idle": "2025-02-23T20:31:30.041922Z",
     "shell.execute_reply": "2025-02-23T20:31:30.041166Z"
    },
    "papermill": {
     "duration": 0.0703,
     "end_time": "2025-02-23T20:31:30.043231",
     "exception": false,
     "start_time": "2025-02-23T20:31:29.972931",
     "status": "completed"
    },
    "tags": []
   },
   "outputs": [
    {
     "data": {
      "text/plain": [
       "Gender                                       0\n",
       "Age                                          0\n",
       "City                                         0\n",
       "Working Professional or Student              0\n",
       "Profession                               24632\n",
       "Academic Pressure                        75033\n",
       "Work Pressure                            18778\n",
       "CGPA                                     75034\n",
       "Study Satisfaction                       75033\n",
       "Job Satisfaction                         18774\n",
       "Sleep Duration                               0\n",
       "Dietary Habits                               5\n",
       "Degree                                       2\n",
       "Have you ever had suicidal thoughts ?        0\n",
       "Work/Study Hours                             0\n",
       "Financial Stress                             0\n",
       "Family History of Mental Illness             0\n",
       "dtype: int64"
      ]
     },
     "execution_count": 9,
     "metadata": {},
     "output_type": "execute_result"
    }
   ],
   "source": [
    "test_df.isna().sum()"
   ]
  },
  {
   "cell_type": "markdown",
   "id": "4d83c05a",
   "metadata": {
    "papermill": {
     "duration": 0.023337,
     "end_time": "2025-02-23T20:31:30.090213",
     "exception": false,
     "start_time": "2025-02-23T20:31:30.066876",
     "status": "completed"
    },
    "tags": []
   },
   "source": [
    "* If there are no null values in the test set then we also ought not to keep the null valued rows inside the train set as well"
   ]
  },
  {
   "cell_type": "code",
   "execution_count": 10,
   "id": "ec9ac01e",
   "metadata": {
    "execution": {
     "iopub.execute_input": "2025-02-23T20:31:30.137703Z",
     "iopub.status.busy": "2025-02-23T20:31:30.137369Z",
     "iopub.status.idle": "2025-02-23T20:31:30.142161Z",
     "shell.execute_reply": "2025-02-23T20:31:30.141336Z"
    },
    "papermill": {
     "duration": 0.029847,
     "end_time": "2025-02-23T20:31:30.143445",
     "exception": false,
     "start_time": "2025-02-23T20:31:30.113598",
     "status": "completed"
    },
    "tags": []
   },
   "outputs": [
    {
     "data": {
      "text/plain": [
       "(140700, 18)"
      ]
     },
     "execution_count": 10,
     "metadata": {},
     "output_type": "execute_result"
    }
   ],
   "source": [
    "train_df.shape"
   ]
  },
  {
   "cell_type": "markdown",
   "id": "18d4dc96",
   "metadata": {
    "papermill": {
     "duration": 0.023036,
     "end_time": "2025-02-23T20:31:30.189614",
     "exception": false,
     "start_time": "2025-02-23T20:31:30.166578",
     "status": "completed"
    },
    "tags": []
   },
   "source": [
    "## Object Dtypes Catergorizing"
   ]
  },
  {
   "cell_type": "code",
   "execution_count": 11,
   "id": "4873a0cc",
   "metadata": {
    "execution": {
     "iopub.execute_input": "2025-02-23T20:31:30.236773Z",
     "iopub.status.busy": "2025-02-23T20:31:30.236460Z",
     "iopub.status.idle": "2025-02-23T20:31:30.243799Z",
     "shell.execute_reply": "2025-02-23T20:31:30.242976Z"
    },
    "papermill": {
     "duration": 0.032384,
     "end_time": "2025-02-23T20:31:30.245088",
     "exception": false,
     "start_time": "2025-02-23T20:31:30.212704",
     "status": "completed"
    },
    "tags": []
   },
   "outputs": [],
   "source": [
    "# This functions primary role is to convert all the non-important categories in a series into 'other' category in the same series\n",
    "# the inputs we will include in this function will be series , a string to rename category\n",
    "# and this function will return the new series after categorizing the columns \n",
    "\n",
    "\n",
    "def unique_series_values( series ):    \n",
    "    new_dict_ser= {}\n",
    "    # if the below condition is true then only proceed else throw an error\n",
    "    if isinstance(series, pd.Series) :\n",
    "\n",
    "        # now we will check if the series is a object datatype or a number\n",
    "        if series.dtype == 'O':\n",
    "            # print(\"objects\")\n",
    "            new_series = series.copy()\n",
    "            unique_ls = new_series.unique()\n",
    "            for i in unique_ls:\n",
    "                if i in new_series.values :\n",
    "                    counts = new_series[new_series == i].count()\n",
    "                    # print(f\"item '{i}' occurences : {counts}\")\n",
    "                    new_dict_ser[i] = counts \n",
    "                else:\n",
    "                    print(\"!waiting!\")\n",
    "            \n",
    "        elif series.dtype==('float64' or 'int64'):\n",
    "            print(\"numbers\")\n",
    "\n",
    "        return new_dict_ser\n",
    "    else :\n",
    "        print(f\"The input element is either not a pd.Series OR a string\")\n",
    "\n",
    "def unwanted_series_names(dict_ser):\n",
    "    # Now when you have the final dictionary we will now evaluate the items \n",
    "    # not based on the values but based on the percentage that we will be converting the values into percentage\n",
    "    # and will only keep the desired percentages and rest of the minimal percentaged values are turned into 'others' category\n",
    "    \n",
    "    values_ls = np.array(list(dict_ser.values()))\n",
    "    \n",
    "    percen_ls = np.round((values_ls/np.sum(values_ls)*100),3)\n",
    "    \n",
    "    ser_percen_ls = {}\n",
    "    for key , val in zip(dict_ser.keys(),percen_ls):\n",
    "        # print(i,\"->\",train_df[train_df['City'] == i]['City'].count())\n",
    "        ser_percen_ls[key] = val\n",
    "\n",
    "    no_ls = []\n",
    "    a=0\n",
    "    for k , v in ser_percen_ls.items():\n",
    "        # print(f\"k = {k}, v= {v}\")\n",
    "        if v < 1:\n",
    "            a+=v\n",
    "            no_ls.append(k)\n",
    "    return no_ls\n",
    "\n",
    "def grouping_category(ls_unwanted , series, string):\n",
    "    if isinstance(ls_unwanted, list) and isinstance(series, pd.Series) and isinstance(string,str):\n",
    "        #print(\"proceed\")\n",
    "        for i, item in enumerate(series):\n",
    "            if item in ls_unwanted:\n",
    "                #print(i,True)\n",
    "                series.replace(item, string,inplace=True)\n",
    "        return series\n",
    "    else:\n",
    "        print(\"Not a valid list or series\")\n",
    "    # return pd.Series(categorized_series)\n",
    "\n"
   ]
  },
  {
   "cell_type": "markdown",
   "id": "04a835a5",
   "metadata": {
    "papermill": {
     "duration": 0.022816,
     "end_time": "2025-02-23T20:31:30.291291",
     "exception": false,
     "start_time": "2025-02-23T20:31:30.268475",
     "status": "completed"
    },
    "tags": []
   },
   "source": [
    "Index([\n",
    "* 'Name', 'Gender', 'Age', 'City', 'Working Professional or Student',\n",
    "       'Profession', 'Academic Pressure', 'Work Pressure', 'CGPA',\n",
    "       'Study Satisfaction', 'Job Satisfaction', 'Sleep Duration',\n",
    "       'Dietary Habits', 'Degree', 'Have you ever had suicidal thoughts ?',\n",
    "       'Work/Study Hours', 'Financial Stress',\n",
    "       'Family History of Mental Illness', 'Depression'],\n",
    "      dtype='object')"
   ]
  },
  {
   "cell_type": "code",
   "execution_count": 12,
   "id": "acdb6559",
   "metadata": {
    "execution": {
     "iopub.execute_input": "2025-02-23T20:31:30.338532Z",
     "iopub.status.busy": "2025-02-23T20:31:30.338191Z",
     "iopub.status.idle": "2025-02-23T20:31:30.373549Z",
     "shell.execute_reply": "2025-02-23T20:31:30.372697Z"
    },
    "papermill": {
     "duration": 0.060657,
     "end_time": "2025-02-23T20:31:30.374974",
     "exception": false,
     "start_time": "2025-02-23T20:31:30.314317",
     "status": "completed"
    },
    "tags": []
   },
   "outputs": [
    {
     "data": {
      "text/html": [
       "<div>\n",
       "<style scoped>\n",
       "    .dataframe tbody tr th:only-of-type {\n",
       "        vertical-align: middle;\n",
       "    }\n",
       "\n",
       "    .dataframe tbody tr th {\n",
       "        vertical-align: top;\n",
       "    }\n",
       "\n",
       "    .dataframe thead th {\n",
       "        text-align: right;\n",
       "    }\n",
       "</style>\n",
       "<table border=\"1\" class=\"dataframe\">\n",
       "  <thead>\n",
       "    <tr style=\"text-align: right;\">\n",
       "      <th></th>\n",
       "      <th>Gender</th>\n",
       "      <th>City</th>\n",
       "      <th>Working Professional or Student</th>\n",
       "      <th>Profession</th>\n",
       "      <th>Sleep Duration</th>\n",
       "      <th>Dietary Habits</th>\n",
       "      <th>Degree</th>\n",
       "      <th>Have you ever had suicidal thoughts ?</th>\n",
       "      <th>Family History of Mental Illness</th>\n",
       "    </tr>\n",
       "    <tr>\n",
       "      <th>id</th>\n",
       "      <th></th>\n",
       "      <th></th>\n",
       "      <th></th>\n",
       "      <th></th>\n",
       "      <th></th>\n",
       "      <th></th>\n",
       "      <th></th>\n",
       "      <th></th>\n",
       "      <th></th>\n",
       "    </tr>\n",
       "  </thead>\n",
       "  <tbody>\n",
       "    <tr>\n",
       "      <th>0</th>\n",
       "      <td>Female</td>\n",
       "      <td>Ludhiana</td>\n",
       "      <td>Working Professional</td>\n",
       "      <td>Chef</td>\n",
       "      <td>More than 8 hours</td>\n",
       "      <td>Healthy</td>\n",
       "      <td>BHM</td>\n",
       "      <td>No</td>\n",
       "      <td>No</td>\n",
       "    </tr>\n",
       "    <tr>\n",
       "      <th>1</th>\n",
       "      <td>Male</td>\n",
       "      <td>Varanasi</td>\n",
       "      <td>Working Professional</td>\n",
       "      <td>Teacher</td>\n",
       "      <td>Less than 5 hours</td>\n",
       "      <td>Unhealthy</td>\n",
       "      <td>LLB</td>\n",
       "      <td>Yes</td>\n",
       "      <td>No</td>\n",
       "    </tr>\n",
       "    <tr>\n",
       "      <th>2</th>\n",
       "      <td>Male</td>\n",
       "      <td>Visakhapatnam</td>\n",
       "      <td>Student</td>\n",
       "      <td>NaN</td>\n",
       "      <td>5-6 hours</td>\n",
       "      <td>Healthy</td>\n",
       "      <td>B.Pharm</td>\n",
       "      <td>Yes</td>\n",
       "      <td>No</td>\n",
       "    </tr>\n",
       "    <tr>\n",
       "      <th>3</th>\n",
       "      <td>Male</td>\n",
       "      <td>Mumbai</td>\n",
       "      <td>Working Professional</td>\n",
       "      <td>Teacher</td>\n",
       "      <td>Less than 5 hours</td>\n",
       "      <td>Moderate</td>\n",
       "      <td>BBA</td>\n",
       "      <td>Yes</td>\n",
       "      <td>Yes</td>\n",
       "    </tr>\n",
       "    <tr>\n",
       "      <th>4</th>\n",
       "      <td>Female</td>\n",
       "      <td>Kanpur</td>\n",
       "      <td>Working Professional</td>\n",
       "      <td>Business Analyst</td>\n",
       "      <td>5-6 hours</td>\n",
       "      <td>Unhealthy</td>\n",
       "      <td>BBA</td>\n",
       "      <td>Yes</td>\n",
       "      <td>Yes</td>\n",
       "    </tr>\n",
       "    <tr>\n",
       "      <th>...</th>\n",
       "      <td>...</td>\n",
       "      <td>...</td>\n",
       "      <td>...</td>\n",
       "      <td>...</td>\n",
       "      <td>...</td>\n",
       "      <td>...</td>\n",
       "      <td>...</td>\n",
       "      <td>...</td>\n",
       "      <td>...</td>\n",
       "    </tr>\n",
       "    <tr>\n",
       "      <th>140695</th>\n",
       "      <td>Female</td>\n",
       "      <td>Ahmedabad</td>\n",
       "      <td>Working Professional</td>\n",
       "      <td>NaN</td>\n",
       "      <td>5-6 hours</td>\n",
       "      <td>Unhealthy</td>\n",
       "      <td>Class 12</td>\n",
       "      <td>No</td>\n",
       "      <td>Yes</td>\n",
       "    </tr>\n",
       "    <tr>\n",
       "      <th>140696</th>\n",
       "      <td>Female</td>\n",
       "      <td>Hyderabad</td>\n",
       "      <td>Working Professional</td>\n",
       "      <td>Content Writer</td>\n",
       "      <td>7-8 hours</td>\n",
       "      <td>Moderate</td>\n",
       "      <td>B.Tech</td>\n",
       "      <td>Yes</td>\n",
       "      <td>Yes</td>\n",
       "    </tr>\n",
       "    <tr>\n",
       "      <th>140697</th>\n",
       "      <td>Female</td>\n",
       "      <td>Kolkata</td>\n",
       "      <td>Working Professional</td>\n",
       "      <td>Marketing Manager</td>\n",
       "      <td>More than 8 hours</td>\n",
       "      <td>Moderate</td>\n",
       "      <td>B.Com</td>\n",
       "      <td>No</td>\n",
       "      <td>No</td>\n",
       "    </tr>\n",
       "    <tr>\n",
       "      <th>140698</th>\n",
       "      <td>Female</td>\n",
       "      <td>Srinagar</td>\n",
       "      <td>Working Professional</td>\n",
       "      <td>Plumber</td>\n",
       "      <td>5-6 hours</td>\n",
       "      <td>Moderate</td>\n",
       "      <td>ME</td>\n",
       "      <td>Yes</td>\n",
       "      <td>No</td>\n",
       "    </tr>\n",
       "    <tr>\n",
       "      <th>140699</th>\n",
       "      <td>Male</td>\n",
       "      <td>Patna</td>\n",
       "      <td>Student</td>\n",
       "      <td>NaN</td>\n",
       "      <td>Less than 5 hours</td>\n",
       "      <td>Healthy</td>\n",
       "      <td>BCA</td>\n",
       "      <td>Yes</td>\n",
       "      <td>Yes</td>\n",
       "    </tr>\n",
       "  </tbody>\n",
       "</table>\n",
       "<p>140700 rows × 9 columns</p>\n",
       "</div>"
      ],
      "text/plain": [
       "        Gender           City Working Professional or Student  \\\n",
       "id                                                              \n",
       "0       Female       Ludhiana            Working Professional   \n",
       "1         Male       Varanasi            Working Professional   \n",
       "2         Male  Visakhapatnam                         Student   \n",
       "3         Male         Mumbai            Working Professional   \n",
       "4       Female         Kanpur            Working Professional   \n",
       "...        ...            ...                             ...   \n",
       "140695  Female      Ahmedabad            Working Professional   \n",
       "140696  Female      Hyderabad            Working Professional   \n",
       "140697  Female        Kolkata            Working Professional   \n",
       "140698  Female       Srinagar            Working Professional   \n",
       "140699    Male          Patna                         Student   \n",
       "\n",
       "               Profession     Sleep Duration Dietary Habits    Degree  \\\n",
       "id                                                                      \n",
       "0                    Chef  More than 8 hours        Healthy       BHM   \n",
       "1                 Teacher  Less than 5 hours      Unhealthy       LLB   \n",
       "2                     NaN          5-6 hours        Healthy   B.Pharm   \n",
       "3                 Teacher  Less than 5 hours       Moderate       BBA   \n",
       "4        Business Analyst          5-6 hours      Unhealthy       BBA   \n",
       "...                   ...                ...            ...       ...   \n",
       "140695                NaN          5-6 hours      Unhealthy  Class 12   \n",
       "140696     Content Writer          7-8 hours       Moderate    B.Tech   \n",
       "140697  Marketing Manager  More than 8 hours       Moderate     B.Com   \n",
       "140698            Plumber          5-6 hours       Moderate        ME   \n",
       "140699                NaN  Less than 5 hours        Healthy       BCA   \n",
       "\n",
       "       Have you ever had suicidal thoughts ? Family History of Mental Illness  \n",
       "id                                                                             \n",
       "0                                         No                               No  \n",
       "1                                        Yes                               No  \n",
       "2                                        Yes                               No  \n",
       "3                                        Yes                              Yes  \n",
       "4                                        Yes                              Yes  \n",
       "...                                      ...                              ...  \n",
       "140695                                    No                              Yes  \n",
       "140696                                   Yes                              Yes  \n",
       "140697                                    No                               No  \n",
       "140698                                   Yes                               No  \n",
       "140699                                   Yes                              Yes  \n",
       "\n",
       "[140700 rows x 9 columns]"
      ]
     },
     "execution_count": 12,
     "metadata": {},
     "output_type": "execute_result"
    }
   ],
   "source": [
    "train_df[train_df.columns].select_dtypes(include=['object'])"
   ]
  },
  {
   "cell_type": "markdown",
   "id": "258c8caf",
   "metadata": {
    "papermill": {
     "duration": 0.023164,
     "end_time": "2025-02-23T20:31:30.422309",
     "exception": false,
     "start_time": "2025-02-23T20:31:30.399145",
     "status": "completed"
    },
    "tags": []
   },
   "source": [
    "From the above we will initially deal with the `City` , `Profession` , `Sleep Duration`, `Dietary Habits` , `Degree` columns and then will proceed to the next step"
   ]
  },
  {
   "cell_type": "markdown",
   "id": "0ac11c5e",
   "metadata": {
    "papermill": {
     "duration": 0.023012,
     "end_time": "2025-02-23T20:31:30.469023",
     "exception": false,
     "start_time": "2025-02-23T20:31:30.446011",
     "status": "completed"
    },
    "tags": []
   },
   "source": [
    "## City Column Filtering"
   ]
  },
  {
   "cell_type": "code",
   "execution_count": 13,
   "id": "aebd447c",
   "metadata": {
    "execution": {
     "iopub.execute_input": "2025-02-23T20:31:30.516782Z",
     "iopub.status.busy": "2025-02-23T20:31:30.516470Z",
     "iopub.status.idle": "2025-02-23T20:31:30.520131Z",
     "shell.execute_reply": "2025-02-23T20:31:30.519306Z"
    },
    "papermill": {
     "duration": 0.029175,
     "end_time": "2025-02-23T20:31:30.521448",
     "exception": false,
     "start_time": "2025-02-23T20:31:30.492273",
     "status": "completed"
    },
    "tags": []
   },
   "outputs": [],
   "source": [
    "# city_ls = list(train_df[\"City\"].unique())\n",
    "# city_unique_ls = {}\n",
    "# for i in city_ls:\n",
    "#     # print(i,\"->\",train_df[train_df['City'] == i]['City'].count())\n",
    "#     city_unique_ls[i] = train_df[train_df['City'] == i]['City'].count()\n",
    "\n",
    "# values_ls = np.array(list(city_unique_ls.values()))\n",
    "\n",
    "# percen_ls = np.round((values_ls/np.sum(values_ls)*100),3)\n",
    "\n",
    "# city_percen_ls = {}\n",
    "# for key , val in zip(city_ls,percen_ls):\n",
    "#     # print(i,\"->\",train_df[train_df['City'] == i]['City'].count())\n",
    "#     city_percen_ls[key] = val\n",
    "\n",
    "# print(city_percen_ls)\n",
    "\n",
    "# categorized_city_ls = {}\n",
    "# a=0\n",
    "# no_ls = []\n",
    "# for k , v in city_percen_ls.items():\n",
    "#     # print(f\"k = {k}, v= {v}\")\n",
    "#     if v < 1:\n",
    "#         a+=v\n",
    "#         categorized_city_ls['others']=a\n",
    "#         no_ls.append(k)\n",
    "#     else :\n",
    "#         categorized_city_ls[k] = v\n",
    "\n",
    "# print(categorized_city_ls)\n",
    "# print(\"--------------------------------------------\")\n",
    "# print(no_ls)"
   ]
  },
  {
   "cell_type": "markdown",
   "id": "3edc8e8c",
   "metadata": {
    "papermill": {
     "duration": 0.023448,
     "end_time": "2025-02-23T20:31:30.568307",
     "exception": false,
     "start_time": "2025-02-23T20:31:30.544859",
     "status": "completed"
    },
    "tags": []
   },
   "source": [
    "#### Train Set"
   ]
  },
  {
   "cell_type": "code",
   "execution_count": 14,
   "id": "9ab6336c",
   "metadata": {
    "execution": {
     "iopub.execute_input": "2025-02-23T20:31:30.616172Z",
     "iopub.status.busy": "2025-02-23T20:31:30.615837Z",
     "iopub.status.idle": "2025-02-23T20:31:32.530577Z",
     "shell.execute_reply": "2025-02-23T20:31:32.529569Z"
    },
    "papermill": {
     "duration": 1.940151,
     "end_time": "2025-02-23T20:31:32.531936",
     "exception": false,
     "start_time": "2025-02-23T20:31:30.591785",
     "status": "completed"
    },
    "tags": []
   },
   "outputs": [
    {
     "name": "stdout",
     "output_type": "stream",
     "text": [
      "<class 'dict'>\n",
      "{'Ludhiana': 5226, 'Varanasi': 4606, 'Visakhapatnam': 5176, 'Mumbai': 4966, 'Kanpur': 4398, 'Ahmedabad': 5613, 'Thane': 4289, 'Nashik': 3144, 'Bangalore': 4123, 'Patna': 5924, 'Rajkot': 5207, 'Jaipur': 4328, 'Pune': 5210, 'Lucknow': 4280, 'Meerut': 5528, 'Agra': 4684, 'Surat': 4636, 'Faridabad': 3268, 'Hyderabad': 4496, 'Srinagar': 5074, 'Ghaziabad': 3620, 'Kolkata': 5689, 'Chennai': 4044, 'Kalyan': 6591, 'Nagpur': 4209, 'Vadodara': 4568, 'Vasai-Virar': 5765, 'Delhi': 3593, 'Bhopal': 3475, 'Indore': 4872, 'Ishanabad': 1, 'Vidhi': 1, 'Ayush': 2, 'Gurgaon': 1, 'Krishna': 1, 'Aishwarya': 1, 'Keshav': 2, 'Harsha': 3, 'Nalini': 2, 'Aditya': 1, 'Malyansh': 1, 'Raghavendra': 1, 'Saanvi': 3, 'M.Tech': 1, 'Bhavna': 3, 'Less Delhi': 1, 'Nandini': 4, 'M.Com': 2, 'Plata': 1, 'Atharv': 2, 'Pratyush': 3, 'City': 3, '3.0': 1, 'Less than 5 Kalyan': 1, 'MCA': 2, 'Mira': 1, 'Moreadhyay': 1, 'Morena': 1, 'Ishkarsh': 1, 'Kashk': 1, 'Mihir': 7, 'Vidya': 3, 'Tolkata': 1, 'Anvi': 1, 'Krinda': 1, 'Ayansh': 1, 'Shrey': 1, 'Ivaan': 1, 'Vaanya': 1, 'Gaurav': 1, 'Harsh': 1, 'Reyansh': 1, 'Kashish': 1, 'Kibara': 1, 'Vaishnavi': 1, 'Chhavi': 1, 'Parth': 1, 'Mahi': 3, 'Tushar': 1, 'MSc': 1, 'No': 1, 'Rashi': 1, 'ME': 1, 'Molkata': 2, 'Researcher': 1, 'Kagan': 1, 'Armaan': 1, 'Ithal': 1, 'Nalyan': 1, 'Dhruv': 1, 'Galesabad': 1, 'Itheg': 1, 'Aaradhya': 1, 'Pooja': 1, 'Khushi': 1, 'Khaziabad': 1, 'Jhanvi': 1, 'Unirar': 1}\n",
      "************************************************************\n",
      "<class 'list'>\n",
      "['Ishanabad', 'Vidhi', 'Ayush', 'Gurgaon', 'Krishna', 'Aishwarya', 'Keshav', 'Harsha', 'Nalini', 'Aditya', 'Malyansh', 'Raghavendra', 'Saanvi', 'M.Tech', 'Bhavna', 'Less Delhi', 'Nandini', 'M.Com', 'Plata', 'Atharv', 'Pratyush', 'City', '3.0', 'Less than 5 Kalyan', 'MCA', 'Mira', 'Moreadhyay', 'Morena', 'Ishkarsh', 'Kashk', 'Mihir', 'Vidya', 'Tolkata', 'Anvi', 'Krinda', 'Ayansh', 'Shrey', 'Ivaan', 'Vaanya', 'Gaurav', 'Harsh', 'Reyansh', 'Kashish', 'Kibara', 'Vaishnavi', 'Chhavi', 'Parth', 'Mahi', 'Tushar', 'MSc', 'No', 'Rashi', 'ME', 'Molkata', 'Researcher', 'Kagan', 'Armaan', 'Ithal', 'Nalyan', 'Dhruv', 'Galesabad', 'Itheg', 'Aaradhya', 'Pooja', 'Khushi', 'Khaziabad', 'Jhanvi', 'Unirar']\n",
      "************************************************************\n",
      "<class 'pandas.core.series.Series'>\n",
      "id\n",
      "0              Ludhiana\n",
      "1              Varanasi\n",
      "2         Visakhapatnam\n",
      "3                Mumbai\n",
      "4                Kanpur\n",
      "              ...      \n",
      "140695        Ahmedabad\n",
      "140696        Hyderabad\n",
      "140697          Kolkata\n",
      "140698         Srinagar\n",
      "140699            Patna\n",
      "Name: City, Length: 140700, dtype: object\n",
      "************************************************************\n"
     ]
    }
   ],
   "source": [
    "# train set\n",
    "\n",
    "unique_city_names_dict = unique_series_values(train_df['City'])\n",
    "print(type(unique_city_names_dict))\n",
    "print(unique_city_names_dict)\n",
    "print(\"************************************************************\")\n",
    "unwanted_city_names = unwanted_series_names(unique_city_names_dict)\n",
    "print(type(unwanted_city_names))\n",
    "print(unwanted_city_names)\n",
    "print(\"************************************************************\")\n",
    "new_city_col = grouping_category(unwanted_city_names , train_df['City'], \"Others\")\n",
    "print(type(new_city_col))\n",
    "print(new_city_col)\n",
    "print(\"************************************************************\")\n"
   ]
  },
  {
   "cell_type": "code",
   "execution_count": 15,
   "id": "531ec581",
   "metadata": {
    "execution": {
     "iopub.execute_input": "2025-02-23T20:31:32.588412Z",
     "iopub.status.busy": "2025-02-23T20:31:32.588103Z",
     "iopub.status.idle": "2025-02-23T20:31:32.976579Z",
     "shell.execute_reply": "2025-02-23T20:31:32.975424Z"
    },
    "jupyter": {
     "source_hidden": true
    },
    "papermill": {
     "duration": 0.419233,
     "end_time": "2025-02-23T20:31:32.977949",
     "exception": false,
     "start_time": "2025-02-23T20:31:32.558716",
     "status": "completed"
    },
    "tags": []
   },
   "outputs": [
    {
     "name": "stdout",
     "output_type": "stream",
     "text": [
      "{'Ludhiana': 5226, 'Varanasi': 4606, 'Visakhapatnam': 5176, 'Mumbai': 4966, 'Kanpur': 4398, 'Ahmedabad': 5613, 'Thane': 4289, 'Nashik': 3144, 'Bangalore': 4123, 'Patna': 5924, 'Rajkot': 5207, 'Jaipur': 4328, 'Pune': 5210, 'Lucknow': 4280, 'Meerut': 5528, 'Agra': 4684, 'Surat': 4636, 'Faridabad': 3268, 'Hyderabad': 4496, 'Srinagar': 5074, 'Ghaziabad': 3620, 'Kolkata': 5689, 'Chennai': 4044, 'Kalyan': 6591, 'Nagpur': 4209, 'Vadodara': 4568, 'Vasai-Virar': 5765, 'Delhi': 3593, 'Bhopal': 3475, 'Indore': 4872, 'Others': 98}\n"
     ]
    }
   ],
   "source": [
    "testing_city_train_col = unique_series_values(new_city_col)\n",
    "print(testing_city_train_col)\n"
   ]
  },
  {
   "cell_type": "code",
   "execution_count": 16,
   "id": "633520e3",
   "metadata": {
    "execution": {
     "iopub.execute_input": "2025-02-23T20:31:33.027569Z",
     "iopub.status.busy": "2025-02-23T20:31:33.027269Z",
     "iopub.status.idle": "2025-02-23T20:31:33.031933Z",
     "shell.execute_reply": "2025-02-23T20:31:33.031098Z"
    },
    "papermill": {
     "duration": 0.030868,
     "end_time": "2025-02-23T20:31:33.033142",
     "exception": false,
     "start_time": "2025-02-23T20:31:33.002274",
     "status": "completed"
    },
    "tags": []
   },
   "outputs": [],
   "source": [
    "train_df['City'] = new_city_col"
   ]
  },
  {
   "cell_type": "markdown",
   "id": "c2b1aec6",
   "metadata": {
    "papermill": {
     "duration": 0.023396,
     "end_time": "2025-02-23T20:31:33.080467",
     "exception": false,
     "start_time": "2025-02-23T20:31:33.057071",
     "status": "completed"
    },
    "tags": []
   },
   "source": [
    "### Test Set"
   ]
  },
  {
   "cell_type": "code",
   "execution_count": 17,
   "id": "1157595b",
   "metadata": {
    "execution": {
     "iopub.execute_input": "2025-02-23T20:31:33.129651Z",
     "iopub.status.busy": "2025-02-23T20:31:33.129302Z",
     "iopub.status.idle": "2025-02-23T20:31:33.958328Z",
     "shell.execute_reply": "2025-02-23T20:31:33.957469Z"
    },
    "papermill": {
     "duration": 0.855438,
     "end_time": "2025-02-23T20:31:33.959760",
     "exception": false,
     "start_time": "2025-02-23T20:31:33.104322",
     "status": "completed"
    },
    "tags": []
   },
   "outputs": [
    {
     "name": "stdout",
     "output_type": "stream",
     "text": [
      "<class 'dict'>\n",
      "{'Visakhapatnam': 3416, 'Kolkata': 3726, 'Jaipur': 2874, 'Rajkot': 3450, 'Kalyan': 4387, 'Mumbai': 3129, 'Surat': 3090, 'Srinagar': 3547, 'Delhi': 2536, 'Lucknow': 2860, 'Thane': 2835, 'Meerut': 3661, 'Nagpur': 2748, 'Ghaziabad': 2486, 'Chennai': 2674, 'Varanasi': 3052, 'Indore': 3040, 'Pune': 3318, 'Hyderabad': 3123, 'Kanpur': 2978, 'Nashik': 2182, 'Bhopal': 2370, 'Faridabad': 2196, 'Bangalore': 2707, 'Vasai-Virar': 3897, 'Ludhiana': 3545, 'Patna': 3888, 'Vadodara': 3169, 'Ahmedabad': 3677, 'Agra': 3189, 'Malyan': 1, 'Pratyush': 1, 'Vidya': 4, 'Less than 5 hours': 1, 'Aditi': 1, 'Keshav': 2, 'Nalini': 2, 'Mhopal': 1, 'Avni': 1, 'Ira': 1, 'Vaishnavi': 1, 'Bhavna': 3, 'Lawyer': 1, 'Thani': 1, 'Hrithik': 2, 'City': 2, 'Unaly': 1, 'Is Kanpur': 1, 'Golkata': 1, 'Less Delhi': 1, 'Sara': 1, 'Saurav': 1, 'Vikram': 2, 'Parth': 1, 'Siddhesh': 3, 'Vaikot': 1, 'Leela': 1, 'Chemist': 1, 'San Vasai-Virar': 1, 'No': 1, 'More Delhi': 1, 'Saanvi': 1, 'Pratham': 1, 'Vidhi': 1, 'Abhinav': 1, 'Rolkata': 1, 'Ghopal': 1, 'No.12': 1}\n",
      "************************************************************\n",
      "<class 'list'>\n",
      "['Malyan', 'Pratyush', 'Vidya', 'Less than 5 hours', 'Aditi', 'Keshav', 'Nalini', 'Mhopal', 'Avni', 'Ira', 'Vaishnavi', 'Bhavna', 'Lawyer', 'Thani', 'Hrithik', 'City', 'Unaly', 'Is Kanpur', 'Golkata', 'Less Delhi', 'Sara', 'Saurav', 'Vikram', 'Parth', 'Siddhesh', 'Vaikot', 'Leela', 'Chemist', 'San Vasai-Virar', 'No', 'More Delhi', 'Saanvi', 'Pratham', 'Vidhi', 'Abhinav', 'Rolkata', 'Ghopal', 'No.12']\n",
      "************************************************************\n",
      "<class 'pandas.core.series.Series'>\n",
      "id\n",
      "140700    Visakhapatnam\n",
      "140701          Kolkata\n",
      "140702           Jaipur\n",
      "140703           Rajkot\n",
      "140704           Kalyan\n",
      "              ...      \n",
      "234495           Jaipur\n",
      "234496        Ahmedabad\n",
      "234497    Visakhapatnam\n",
      "234498           Kalyan\n",
      "234499         Varanasi\n",
      "Name: City, Length: 93800, dtype: object\n",
      "************************************************************\n"
     ]
    }
   ],
   "source": [
    "# train set\n",
    "\n",
    "unique_city_names_dict_test_df = unique_series_values(test_df['City'])\n",
    "print(type(unique_city_names_dict_test_df))\n",
    "print(unique_city_names_dict_test_df)\n",
    "print(\"************************************************************\")\n",
    "unwanted_city_names_test_df = unwanted_series_names(unique_city_names_dict_test_df)\n",
    "print(type(unwanted_city_names_test_df))\n",
    "print(unwanted_city_names_test_df)\n",
    "print(\"************************************************************\")\n",
    "new_city_col_test_df = grouping_category(unwanted_city_names_test_df , test_df['City'], \"Others\")\n",
    "print(type(new_city_col_test_df))\n",
    "print(new_city_col_test_df)\n",
    "print(\"************************************************************\")\n"
   ]
  },
  {
   "cell_type": "code",
   "execution_count": 18,
   "id": "7aa0ff4d",
   "metadata": {
    "execution": {
     "iopub.execute_input": "2025-02-23T20:31:34.011280Z",
     "iopub.status.busy": "2025-02-23T20:31:34.010981Z",
     "iopub.status.idle": "2025-02-23T20:31:34.268473Z",
     "shell.execute_reply": "2025-02-23T20:31:34.267324Z"
    },
    "papermill": {
     "duration": 0.28524,
     "end_time": "2025-02-23T20:31:34.269766",
     "exception": false,
     "start_time": "2025-02-23T20:31:33.984526",
     "status": "completed"
    },
    "tags": []
   },
   "outputs": [
    {
     "name": "stdout",
     "output_type": "stream",
     "text": [
      "{'Visakhapatnam': 3416, 'Kolkata': 3726, 'Jaipur': 2874, 'Rajkot': 3450, 'Kalyan': 4387, 'Mumbai': 3129, 'Surat': 3090, 'Srinagar': 3547, 'Delhi': 2536, 'Lucknow': 2860, 'Thane': 2835, 'Meerut': 3661, 'Nagpur': 2748, 'Ghaziabad': 2486, 'Chennai': 2674, 'Varanasi': 3052, 'Indore': 3040, 'Pune': 3318, 'Hyderabad': 3123, 'Kanpur': 2978, 'Nashik': 2182, 'Bhopal': 2370, 'Faridabad': 2196, 'Bangalore': 2707, 'Vasai-Virar': 3897, 'Ludhiana': 3545, 'Patna': 3888, 'Vadodara': 3169, 'Ahmedabad': 3677, 'Agra': 3189, 'Others': 50}\n"
     ]
    }
   ],
   "source": [
    "testing_city_test_col = unique_series_values(new_city_col_test_df)\n",
    "print(testing_city_test_col)"
   ]
  },
  {
   "cell_type": "code",
   "execution_count": 19,
   "id": "b144f77c",
   "metadata": {
    "execution": {
     "iopub.execute_input": "2025-02-23T20:31:34.319450Z",
     "iopub.status.busy": "2025-02-23T20:31:34.319194Z",
     "iopub.status.idle": "2025-02-23T20:31:34.322863Z",
     "shell.execute_reply": "2025-02-23T20:31:34.322221Z"
    },
    "papermill": {
     "duration": 0.029823,
     "end_time": "2025-02-23T20:31:34.324197",
     "exception": false,
     "start_time": "2025-02-23T20:31:34.294374",
     "status": "completed"
    },
    "tags": []
   },
   "outputs": [],
   "source": [
    "test_df['City'] = new_city_col_test_df"
   ]
  },
  {
   "cell_type": "code",
   "execution_count": 20,
   "id": "e47ffed1",
   "metadata": {
    "execution": {
     "iopub.execute_input": "2025-02-23T20:31:34.372813Z",
     "iopub.status.busy": "2025-02-23T20:31:34.372569Z",
     "iopub.status.idle": "2025-02-23T20:31:34.381776Z",
     "shell.execute_reply": "2025-02-23T20:31:34.381135Z"
    },
    "papermill": {
     "duration": 0.034707,
     "end_time": "2025-02-23T20:31:34.382882",
     "exception": false,
     "start_time": "2025-02-23T20:31:34.348175",
     "status": "completed"
    },
    "tags": []
   },
   "outputs": [
    {
     "data": {
      "text/plain": [
       "array(['Visakhapatnam', 'Kolkata', 'Jaipur', 'Rajkot', 'Kalyan', 'Mumbai',\n",
       "       'Surat', 'Srinagar', 'Delhi', 'Lucknow', 'Thane', 'Meerut',\n",
       "       'Nagpur', 'Ghaziabad', 'Chennai', 'Varanasi', 'Indore', 'Pune',\n",
       "       'Hyderabad', 'Kanpur', 'Nashik', 'Bhopal', 'Faridabad',\n",
       "       'Bangalore', 'Vasai-Virar', 'Ludhiana', 'Patna', 'Vadodara',\n",
       "       'Ahmedabad', 'Agra', 'Others'], dtype=object)"
      ]
     },
     "execution_count": 20,
     "metadata": {},
     "output_type": "execute_result"
    }
   ],
   "source": [
    "test_df['City'].unique()"
   ]
  },
  {
   "cell_type": "markdown",
   "id": "4b0b7b52",
   "metadata": {
    "papermill": {
     "duration": 0.023758,
     "end_time": "2025-02-23T20:31:34.430428",
     "exception": false,
     "start_time": "2025-02-23T20:31:34.406670",
     "status": "completed"
    },
    "tags": []
   },
   "source": [
    "## Profession Column Filtering"
   ]
  },
  {
   "cell_type": "markdown",
   "id": "51584085",
   "metadata": {
    "papermill": {
     "duration": 0.02351,
     "end_time": "2025-02-23T20:31:34.477772",
     "exception": false,
     "start_time": "2025-02-23T20:31:34.454262",
     "status": "completed"
    },
    "tags": []
   },
   "source": [
    "### Train Set"
   ]
  },
  {
   "cell_type": "code",
   "execution_count": 21,
   "id": "1f800dce",
   "metadata": {
    "execution": {
     "iopub.execute_input": "2025-02-23T20:31:34.526436Z",
     "iopub.status.busy": "2025-02-23T20:31:34.526157Z",
     "iopub.status.idle": "2025-02-23T20:31:34.536450Z",
     "shell.execute_reply": "2025-02-23T20:31:34.535822Z"
    },
    "papermill": {
     "duration": 0.036212,
     "end_time": "2025-02-23T20:31:34.537647",
     "exception": false,
     "start_time": "2025-02-23T20:31:34.501435",
     "status": "completed"
    },
    "tags": []
   },
   "outputs": [
    {
     "data": {
      "text/plain": [
       "36630"
      ]
     },
     "execution_count": 21,
     "metadata": {},
     "output_type": "execute_result"
    }
   ],
   "source": [
    "train_df['Profession'].isna().sum()"
   ]
  },
  {
   "cell_type": "code",
   "execution_count": 22,
   "id": "ebde6188",
   "metadata": {
    "execution": {
     "iopub.execute_input": "2025-02-23T20:31:34.586273Z",
     "iopub.status.busy": "2025-02-23T20:31:34.586039Z",
     "iopub.status.idle": "2025-02-23T20:31:34.605347Z",
     "shell.execute_reply": "2025-02-23T20:31:34.604697Z"
    },
    "papermill": {
     "duration": 0.044839,
     "end_time": "2025-02-23T20:31:34.606584",
     "exception": false,
     "start_time": "2025-02-23T20:31:34.561745",
     "status": "completed"
    },
    "tags": []
   },
   "outputs": [
    {
     "data": {
      "text/plain": [
       "34"
      ]
     },
     "execution_count": 22,
     "metadata": {},
     "output_type": "execute_result"
    }
   ],
   "source": [
    "train_df[(train_df['Working Professional or Student'] == 'Student')]['Profession'].count()"
   ]
  },
  {
   "cell_type": "code",
   "execution_count": 23,
   "id": "0ed71f9c",
   "metadata": {
    "execution": {
     "iopub.execute_input": "2025-02-23T20:31:34.657625Z",
     "iopub.status.busy": "2025-02-23T20:31:34.657354Z",
     "iopub.status.idle": "2025-02-23T20:31:34.684636Z",
     "shell.execute_reply": "2025-02-23T20:31:34.683801Z"
    },
    "papermill": {
     "duration": 0.054578,
     "end_time": "2025-02-23T20:31:34.686204",
     "exception": false,
     "start_time": "2025-02-23T20:31:34.631626",
     "status": "completed"
    },
    "tags": []
   },
   "outputs": [],
   "source": [
    "train_df.loc[train_df['Working Professional or Student'] == 'Student', 'Profession'] = train_df.loc[train_df['Working Professional or Student'] == 'Student', 'Profession'].fillna(\"Student\")\n"
   ]
  },
  {
   "cell_type": "code",
   "execution_count": 24,
   "id": "f1c67205",
   "metadata": {
    "execution": {
     "iopub.execute_input": "2025-02-23T20:31:34.735297Z",
     "iopub.status.busy": "2025-02-23T20:31:34.735059Z",
     "iopub.status.idle": "2025-02-23T20:31:34.745227Z",
     "shell.execute_reply": "2025-02-23T20:31:34.744549Z"
    },
    "papermill": {
     "duration": 0.036038,
     "end_time": "2025-02-23T20:31:34.746503",
     "exception": false,
     "start_time": "2025-02-23T20:31:34.710465",
     "status": "completed"
    },
    "tags": []
   },
   "outputs": [
    {
     "data": {
      "text/plain": [
       "8763"
      ]
     },
     "execution_count": 24,
     "metadata": {},
     "output_type": "execute_result"
    }
   ],
   "source": [
    "train_df['Profession'].isna().sum()"
   ]
  },
  {
   "cell_type": "code",
   "execution_count": 25,
   "id": "6eff42eb",
   "metadata": {
    "execution": {
     "iopub.execute_input": "2025-02-23T20:31:34.795197Z",
     "iopub.status.busy": "2025-02-23T20:31:34.794946Z",
     "iopub.status.idle": "2025-02-23T20:31:34.805836Z",
     "shell.execute_reply": "2025-02-23T20:31:34.805230Z"
    },
    "papermill": {
     "duration": 0.036546,
     "end_time": "2025-02-23T20:31:34.807116",
     "exception": false,
     "start_time": "2025-02-23T20:31:34.770570",
     "status": "completed"
    },
    "tags": []
   },
   "outputs": [],
   "source": [
    "train_df.loc[train_df['Work Pressure'].isna(), 'Profession'] = train_df.loc[train_df['Work Pressure'].isna(), 'Profession'].fillna(\"Student\")\n"
   ]
  },
  {
   "cell_type": "code",
   "execution_count": 26,
   "id": "4d2253f9",
   "metadata": {
    "execution": {
     "iopub.execute_input": "2025-02-23T20:31:34.856133Z",
     "iopub.status.busy": "2025-02-23T20:31:34.855850Z",
     "iopub.status.idle": "2025-02-23T20:31:34.866574Z",
     "shell.execute_reply": "2025-02-23T20:31:34.865746Z"
    },
    "papermill": {
     "duration": 0.036461,
     "end_time": "2025-02-23T20:31:34.867959",
     "exception": false,
     "start_time": "2025-02-23T20:31:34.831498",
     "status": "completed"
    },
    "tags": []
   },
   "outputs": [
    {
     "data": {
      "text/plain": [
       "8745"
      ]
     },
     "execution_count": 26,
     "metadata": {},
     "output_type": "execute_result"
    }
   ],
   "source": [
    "train_df['Profession'].isna().sum()"
   ]
  },
  {
   "cell_type": "code",
   "execution_count": 27,
   "id": "d66a881b",
   "metadata": {
    "execution": {
     "iopub.execute_input": "2025-02-23T20:31:34.918631Z",
     "iopub.status.busy": "2025-02-23T20:31:34.918361Z",
     "iopub.status.idle": "2025-02-23T20:31:34.929580Z",
     "shell.execute_reply": "2025-02-23T20:31:34.928720Z"
    },
    "papermill": {
     "duration": 0.038371,
     "end_time": "2025-02-23T20:31:34.930952",
     "exception": false,
     "start_time": "2025-02-23T20:31:34.892581",
     "status": "completed"
    },
    "tags": []
   },
   "outputs": [],
   "source": [
    "train_df.loc[train_df['Job Satisfaction'].isna(), 'Profession'] = train_df.loc[train_df['Job Satisfaction'].isna(), 'Profession'].fillna(\"Student\")\n"
   ]
  },
  {
   "cell_type": "code",
   "execution_count": 28,
   "id": "c2d3d06f",
   "metadata": {
    "execution": {
     "iopub.execute_input": "2025-02-23T20:31:34.980078Z",
     "iopub.status.busy": "2025-02-23T20:31:34.979803Z",
     "iopub.status.idle": "2025-02-23T20:31:34.989954Z",
     "shell.execute_reply": "2025-02-23T20:31:34.989239Z"
    },
    "papermill": {
     "duration": 0.03613,
     "end_time": "2025-02-23T20:31:34.991238",
     "exception": false,
     "start_time": "2025-02-23T20:31:34.955108",
     "status": "completed"
    },
    "tags": []
   },
   "outputs": [
    {
     "data": {
      "text/plain": [
       "8740"
      ]
     },
     "execution_count": 28,
     "metadata": {},
     "output_type": "execute_result"
    }
   ],
   "source": [
    "train_df['Profession'].isna().sum()"
   ]
  },
  {
   "cell_type": "code",
   "execution_count": 29,
   "id": "fbd87396",
   "metadata": {
    "execution": {
     "iopub.execute_input": "2025-02-23T20:31:35.042042Z",
     "iopub.status.busy": "2025-02-23T20:31:35.041745Z",
     "iopub.status.idle": "2025-02-23T20:31:36.109165Z",
     "shell.execute_reply": "2025-02-23T20:31:36.108152Z"
    },
    "papermill": {
     "duration": 1.094337,
     "end_time": "2025-02-23T20:31:36.110482",
     "exception": false,
     "start_time": "2025-02-23T20:31:35.016145",
     "status": "completed"
    },
    "tags": []
   },
   "outputs": [
    {
     "name": "stdout",
     "output_type": "stream",
     "text": [
      "!waiting!\n",
      "<class 'pandas.core.series.Series'>\n",
      "id\n",
      "0                      Chef\n",
      "1                   Teacher\n",
      "2                   Student\n",
      "3                   Teacher\n",
      "4          Business Analyst\n",
      "                ...        \n",
      "140695                  NaN\n",
      "140696       Content Writer\n",
      "140697    Marketing Manager\n",
      "140698              Plumber\n",
      "140699              Student\n",
      "Name: Profession, Length: 140700, dtype: object\n"
     ]
    }
   ],
   "source": [
    "# assigning the profession column \n",
    "train_set_profession = unique_series_values(train_df['Profession'])\n",
    "\n",
    "# valuating the unwanted columns\n",
    "unwanted_profession_ls = unwanted_series_names(train_set_profession)\n",
    "\n",
    "# categorizing the column with the other category\n",
    "new_profession_col = grouping_category(unwanted_profession_ls , train_df['Profession'], \"Others\")\n",
    "print(type(new_profession_col))\n",
    "print(new_profession_col)"
   ]
  },
  {
   "cell_type": "code",
   "execution_count": 30,
   "id": "ee08fb1c",
   "metadata": {
    "execution": {
     "iopub.execute_input": "2025-02-23T20:31:36.160652Z",
     "iopub.status.busy": "2025-02-23T20:31:36.160391Z",
     "iopub.status.idle": "2025-02-23T20:31:36.168871Z",
     "shell.execute_reply": "2025-02-23T20:31:36.168162Z"
    },
    "papermill": {
     "duration": 0.034922,
     "end_time": "2025-02-23T20:31:36.170344",
     "exception": false,
     "start_time": "2025-02-23T20:31:36.135422",
     "status": "completed"
    },
    "tags": []
   },
   "outputs": [
    {
     "data": {
      "text/plain": [
       "33"
      ]
     },
     "execution_count": 30,
     "metadata": {},
     "output_type": "execute_result"
    }
   ],
   "source": [
    "new_profession_col.nunique()"
   ]
  },
  {
   "cell_type": "code",
   "execution_count": 31,
   "id": "9d67d8a0",
   "metadata": {
    "execution": {
     "iopub.execute_input": "2025-02-23T20:31:36.222219Z",
     "iopub.status.busy": "2025-02-23T20:31:36.221973Z",
     "iopub.status.idle": "2025-02-23T20:31:36.225781Z",
     "shell.execute_reply": "2025-02-23T20:31:36.225201Z"
    },
    "papermill": {
     "duration": 0.029938,
     "end_time": "2025-02-23T20:31:36.227012",
     "exception": false,
     "start_time": "2025-02-23T20:31:36.197074",
     "status": "completed"
    },
    "tags": []
   },
   "outputs": [],
   "source": [
    "train_df['Profession'] =  new_profession_col"
   ]
  },
  {
   "cell_type": "code",
   "execution_count": 32,
   "id": "b31af62c",
   "metadata": {
    "execution": {
     "iopub.execute_input": "2025-02-23T20:31:36.276788Z",
     "iopub.status.busy": "2025-02-23T20:31:36.276548Z",
     "iopub.status.idle": "2025-02-23T20:31:36.286829Z",
     "shell.execute_reply": "2025-02-23T20:31:36.286181Z"
    },
    "papermill": {
     "duration": 0.036528,
     "end_time": "2025-02-23T20:31:36.288223",
     "exception": false,
     "start_time": "2025-02-23T20:31:36.251695",
     "status": "completed"
    },
    "tags": []
   },
   "outputs": [
    {
     "data": {
      "text/plain": [
       "8740"
      ]
     },
     "execution_count": 32,
     "metadata": {},
     "output_type": "execute_result"
    }
   ],
   "source": [
    "train_df['Profession'].isna().sum()"
   ]
  },
  {
   "cell_type": "code",
   "execution_count": 33,
   "id": "ff123628",
   "metadata": {
    "execution": {
     "iopub.execute_input": "2025-02-23T20:31:36.338296Z",
     "iopub.status.busy": "2025-02-23T20:31:36.338060Z",
     "iopub.status.idle": "2025-02-23T20:31:36.352447Z",
     "shell.execute_reply": "2025-02-23T20:31:36.351781Z"
    },
    "papermill": {
     "duration": 0.041096,
     "end_time": "2025-02-23T20:31:36.353786",
     "exception": false,
     "start_time": "2025-02-23T20:31:36.312690",
     "status": "completed"
    },
    "tags": []
   },
   "outputs": [
    {
     "data": {
      "text/plain": [
       "array(['Class 12', 'MA', 'MSc', 'MBA', 'B.Arch', 'MCA', 'B.Com', 'BSc',\n",
       "       'M.Pharm', 'MD', 'B.Ed', 'Degree', 'BE', 'BCA', 'BHM', 'ME', 'LLM',\n",
       "       'LLB', 'M.Com', 'B.Tech', 'MHM', 'LLBA', 'M.Tech', 'BBA', 'BA',\n",
       "       '5.56', 'MBBS', 'M.Ed', 'B.Pharm', '5.88', 'Navya', nan, 'M',\n",
       "       'PhD'], dtype=object)"
      ]
     },
     "execution_count": 33,
     "metadata": {},
     "output_type": "execute_result"
    }
   ],
   "source": [
    "train_df[train_df['Profession'].isna()]['Degree'].unique()"
   ]
  },
  {
   "cell_type": "markdown",
   "id": "f6f88d4e",
   "metadata": {
    "papermill": {
     "duration": 0.024085,
     "end_time": "2025-02-23T20:31:36.402729",
     "exception": false,
     "start_time": "2025-02-23T20:31:36.378644",
     "status": "completed"
    },
    "tags": []
   },
   "source": [
    "We can only assume that the rest of the null values indicate `unemployment`"
   ]
  },
  {
   "cell_type": "code",
   "execution_count": 34,
   "id": "0d339a52",
   "metadata": {
    "execution": {
     "iopub.execute_input": "2025-02-23T20:31:36.452766Z",
     "iopub.status.busy": "2025-02-23T20:31:36.452491Z",
     "iopub.status.idle": "2025-02-23T20:31:36.464564Z",
     "shell.execute_reply": "2025-02-23T20:31:36.463928Z"
    },
    "papermill": {
     "duration": 0.038694,
     "end_time": "2025-02-23T20:31:36.465970",
     "exception": false,
     "start_time": "2025-02-23T20:31:36.427276",
     "status": "completed"
    },
    "tags": []
   },
   "outputs": [],
   "source": [
    "train_df['Profession'] = train_df['Profession'].fillna('Unemployed')"
   ]
  },
  {
   "cell_type": "code",
   "execution_count": 35,
   "id": "e53e190f",
   "metadata": {
    "execution": {
     "iopub.execute_input": "2025-02-23T20:31:36.517290Z",
     "iopub.status.busy": "2025-02-23T20:31:36.517040Z",
     "iopub.status.idle": "2025-02-23T20:31:36.527613Z",
     "shell.execute_reply": "2025-02-23T20:31:36.526978Z"
    },
    "papermill": {
     "duration": 0.037124,
     "end_time": "2025-02-23T20:31:36.528861",
     "exception": false,
     "start_time": "2025-02-23T20:31:36.491737",
     "status": "completed"
    },
    "tags": []
   },
   "outputs": [
    {
     "data": {
      "text/plain": [
       "0"
      ]
     },
     "execution_count": 35,
     "metadata": {},
     "output_type": "execute_result"
    }
   ],
   "source": [
    "train_df['Profession'].isna().sum()"
   ]
  },
  {
   "cell_type": "code",
   "execution_count": 36,
   "id": "26ba7bc4",
   "metadata": {
    "execution": {
     "iopub.execute_input": "2025-02-23T20:31:36.578595Z",
     "iopub.status.busy": "2025-02-23T20:31:36.578362Z",
     "iopub.status.idle": "2025-02-23T20:31:36.590404Z",
     "shell.execute_reply": "2025-02-23T20:31:36.589710Z"
    },
    "papermill": {
     "duration": 0.038292,
     "end_time": "2025-02-23T20:31:36.591619",
     "exception": false,
     "start_time": "2025-02-23T20:31:36.553327",
     "status": "completed"
    },
    "tags": []
   },
   "outputs": [
    {
     "data": {
      "text/plain": [
       "34"
      ]
     },
     "execution_count": 36,
     "metadata": {},
     "output_type": "execute_result"
    }
   ],
   "source": [
    "train_df['Profession'].nunique()"
   ]
  },
  {
   "cell_type": "markdown",
   "id": "51a65bf9",
   "metadata": {
    "papermill": {
     "duration": 0.024471,
     "end_time": "2025-02-23T20:31:36.641431",
     "exception": false,
     "start_time": "2025-02-23T20:31:36.616960",
     "status": "completed"
    },
    "tags": []
   },
   "source": [
    "### Test Set"
   ]
  },
  {
   "cell_type": "code",
   "execution_count": 37,
   "id": "023a3792",
   "metadata": {
    "execution": {
     "iopub.execute_input": "2025-02-23T20:31:36.692657Z",
     "iopub.status.busy": "2025-02-23T20:31:36.692389Z",
     "iopub.status.idle": "2025-02-23T20:31:36.701073Z",
     "shell.execute_reply": "2025-02-23T20:31:36.700225Z"
    },
    "papermill": {
     "duration": 0.035567,
     "end_time": "2025-02-23T20:31:36.702430",
     "exception": false,
     "start_time": "2025-02-23T20:31:36.666863",
     "status": "completed"
    },
    "tags": []
   },
   "outputs": [
    {
     "data": {
      "text/plain": [
       "24632"
      ]
     },
     "execution_count": 37,
     "metadata": {},
     "output_type": "execute_result"
    }
   ],
   "source": [
    "test_df['Profession'].isna().sum()"
   ]
  },
  {
   "cell_type": "code",
   "execution_count": 38,
   "id": "996a6a6a",
   "metadata": {
    "execution": {
     "iopub.execute_input": "2025-02-23T20:31:36.753432Z",
     "iopub.status.busy": "2025-02-23T20:31:36.753161Z",
     "iopub.status.idle": "2025-02-23T20:31:36.768995Z",
     "shell.execute_reply": "2025-02-23T20:31:36.767997Z"
    },
    "papermill": {
     "duration": 0.04285,
     "end_time": "2025-02-23T20:31:36.770403",
     "exception": false,
     "start_time": "2025-02-23T20:31:36.727553",
     "status": "completed"
    },
    "tags": []
   },
   "outputs": [
    {
     "data": {
      "text/plain": [
       "26"
      ]
     },
     "execution_count": 38,
     "metadata": {},
     "output_type": "execute_result"
    }
   ],
   "source": [
    "test_df[(test_df['Working Professional or Student'] == 'Student')]['Profession'].count()"
   ]
  },
  {
   "cell_type": "code",
   "execution_count": 39,
   "id": "bff8c86b",
   "metadata": {
    "execution": {
     "iopub.execute_input": "2025-02-23T20:31:36.821857Z",
     "iopub.status.busy": "2025-02-23T20:31:36.821602Z",
     "iopub.status.idle": "2025-02-23T20:31:36.842459Z",
     "shell.execute_reply": "2025-02-23T20:31:36.841499Z"
    },
    "papermill": {
     "duration": 0.04829,
     "end_time": "2025-02-23T20:31:36.844032",
     "exception": false,
     "start_time": "2025-02-23T20:31:36.795742",
     "status": "completed"
    },
    "tags": []
   },
   "outputs": [],
   "source": [
    "test_df.loc[test_df['Working Professional or Student'] == 'Student', 'Profession'] = test_df.loc[test_df['Working Professional or Student'] == 'Student', 'Profession'].fillna(\"Student\")\n"
   ]
  },
  {
   "cell_type": "code",
   "execution_count": 40,
   "id": "5ee0deaf",
   "metadata": {
    "execution": {
     "iopub.execute_input": "2025-02-23T20:31:36.895388Z",
     "iopub.status.busy": "2025-02-23T20:31:36.895085Z",
     "iopub.status.idle": "2025-02-23T20:31:36.905981Z",
     "shell.execute_reply": "2025-02-23T20:31:36.905144Z"
    },
    "papermill": {
     "duration": 0.038015,
     "end_time": "2025-02-23T20:31:36.907287",
     "exception": false,
     "start_time": "2025-02-23T20:31:36.869272",
     "status": "completed"
    },
    "tags": []
   },
   "outputs": [
    {
     "data": {
      "text/plain": [
       "0"
      ]
     },
     "execution_count": 40,
     "metadata": {},
     "output_type": "execute_result"
    }
   ],
   "source": [
    "train_df['Profession'].isna().sum()"
   ]
  },
  {
   "cell_type": "code",
   "execution_count": 41,
   "id": "71e0d69e",
   "metadata": {
    "execution": {
     "iopub.execute_input": "2025-02-23T20:31:36.958414Z",
     "iopub.status.busy": "2025-02-23T20:31:36.958145Z",
     "iopub.status.idle": "2025-02-23T20:31:36.968714Z",
     "shell.execute_reply": "2025-02-23T20:31:36.967827Z"
    },
    "papermill": {
     "duration": 0.037946,
     "end_time": "2025-02-23T20:31:36.970387",
     "exception": false,
     "start_time": "2025-02-23T20:31:36.932441",
     "status": "completed"
    },
    "tags": []
   },
   "outputs": [
    {
     "data": {
      "text/plain": [
       "0"
      ]
     },
     "execution_count": 41,
     "metadata": {},
     "output_type": "execute_result"
    }
   ],
   "source": [
    "train_df['Profession'].isna().sum()"
   ]
  },
  {
   "cell_type": "code",
   "execution_count": 42,
   "id": "9501013a",
   "metadata": {
    "execution": {
     "iopub.execute_input": "2025-02-23T20:31:37.026474Z",
     "iopub.status.busy": "2025-02-23T20:31:37.026172Z",
     "iopub.status.idle": "2025-02-23T20:31:37.797486Z",
     "shell.execute_reply": "2025-02-23T20:31:37.796404Z"
    },
    "papermill": {
     "duration": 0.798402,
     "end_time": "2025-02-23T20:31:37.798884",
     "exception": false,
     "start_time": "2025-02-23T20:31:37.000482",
     "status": "completed"
    },
    "tags": []
   },
   "outputs": [
    {
     "name": "stdout",
     "output_type": "stream",
     "text": [
      "!waiting!\n",
      "<class 'pandas.core.series.Series'>\n",
      "id\n",
      "140700                     Judge\n",
      "140701    Educational Consultant\n",
      "140702                   Teacher\n",
      "140703                   Student\n",
      "140704                   Teacher\n",
      "                   ...          \n",
      "234495                     Pilot\n",
      "234496                     Pilot\n",
      "234497                   Student\n",
      "234498         Marketing Manager\n",
      "234499    Educational Consultant\n",
      "Name: Profession, Length: 93800, dtype: object\n"
     ]
    }
   ],
   "source": [
    "# assigning the profession column \n",
    "test_set_profession_test = unique_series_values(test_df['Profession'])\n",
    "\n",
    "# valuating the unwanted columns\n",
    "unwanted_test_profession_ls = unwanted_series_names(test_set_profession_test)\n",
    "\n",
    "# categorizing the column with the other category\n",
    "new_profession_col_test = grouping_category(unwanted_test_profession_ls , test_df['Profession'], \"Others\")\n",
    "print(type(new_profession_col_test))\n",
    "print(new_profession_col_test)"
   ]
  },
  {
   "cell_type": "code",
   "execution_count": 43,
   "id": "f13aec9a",
   "metadata": {
    "execution": {
     "iopub.execute_input": "2025-02-23T20:31:37.850799Z",
     "iopub.status.busy": "2025-02-23T20:31:37.850513Z",
     "iopub.status.idle": "2025-02-23T20:31:37.857573Z",
     "shell.execute_reply": "2025-02-23T20:31:37.856729Z"
    },
    "papermill": {
     "duration": 0.034385,
     "end_time": "2025-02-23T20:31:37.858988",
     "exception": false,
     "start_time": "2025-02-23T20:31:37.824603",
     "status": "completed"
    },
    "tags": []
   },
   "outputs": [
    {
     "data": {
      "text/plain": [
       "32"
      ]
     },
     "execution_count": 43,
     "metadata": {},
     "output_type": "execute_result"
    }
   ],
   "source": [
    "new_profession_col_test.nunique()"
   ]
  },
  {
   "cell_type": "code",
   "execution_count": 44,
   "id": "befe7f1b",
   "metadata": {
    "execution": {
     "iopub.execute_input": "2025-02-23T20:31:37.910382Z",
     "iopub.status.busy": "2025-02-23T20:31:37.910135Z",
     "iopub.status.idle": "2025-02-23T20:31:37.913879Z",
     "shell.execute_reply": "2025-02-23T20:31:37.913259Z"
    },
    "papermill": {
     "duration": 0.031122,
     "end_time": "2025-02-23T20:31:37.915314",
     "exception": false,
     "start_time": "2025-02-23T20:31:37.884192",
     "status": "completed"
    },
    "tags": []
   },
   "outputs": [],
   "source": [
    "test_df['Profession'] =  new_profession_col_test"
   ]
  },
  {
   "cell_type": "code",
   "execution_count": 45,
   "id": "2edfc036",
   "metadata": {
    "execution": {
     "iopub.execute_input": "2025-02-23T20:31:37.967279Z",
     "iopub.status.busy": "2025-02-23T20:31:37.967027Z",
     "iopub.status.idle": "2025-02-23T20:31:37.975803Z",
     "shell.execute_reply": "2025-02-23T20:31:37.975148Z"
    },
    "papermill": {
     "duration": 0.035809,
     "end_time": "2025-02-23T20:31:37.977072",
     "exception": false,
     "start_time": "2025-02-23T20:31:37.941263",
     "status": "completed"
    },
    "tags": []
   },
   "outputs": [
    {
     "data": {
      "text/plain": [
       "5886"
      ]
     },
     "execution_count": 45,
     "metadata": {},
     "output_type": "execute_result"
    }
   ],
   "source": [
    "test_df['Profession'].isna().sum()"
   ]
  },
  {
   "cell_type": "code",
   "execution_count": 46,
   "id": "4e42bb2b",
   "metadata": {
    "execution": {
     "iopub.execute_input": "2025-02-23T20:31:38.028548Z",
     "iopub.status.busy": "2025-02-23T20:31:38.028306Z",
     "iopub.status.idle": "2025-02-23T20:31:38.037795Z",
     "shell.execute_reply": "2025-02-23T20:31:38.036973Z"
    },
    "papermill": {
     "duration": 0.036425,
     "end_time": "2025-02-23T20:31:38.039104",
     "exception": false,
     "start_time": "2025-02-23T20:31:38.002679",
     "status": "completed"
    },
    "tags": []
   },
   "outputs": [],
   "source": [
    "test_df['Profession'] = test_df['Profession'].fillna('Unemployed')"
   ]
  },
  {
   "cell_type": "code",
   "execution_count": 47,
   "id": "40c896c1",
   "metadata": {
    "execution": {
     "iopub.execute_input": "2025-02-23T20:31:38.089847Z",
     "iopub.status.busy": "2025-02-23T20:31:38.089581Z",
     "iopub.status.idle": "2025-02-23T20:31:38.098284Z",
     "shell.execute_reply": "2025-02-23T20:31:38.097607Z"
    },
    "papermill": {
     "duration": 0.035452,
     "end_time": "2025-02-23T20:31:38.099633",
     "exception": false,
     "start_time": "2025-02-23T20:31:38.064181",
     "status": "completed"
    },
    "tags": []
   },
   "outputs": [
    {
     "data": {
      "text/plain": [
       "0"
      ]
     },
     "execution_count": 47,
     "metadata": {},
     "output_type": "execute_result"
    }
   ],
   "source": [
    "test_df['Profession'].isna().sum()"
   ]
  },
  {
   "cell_type": "code",
   "execution_count": 48,
   "id": "d5b9bcad",
   "metadata": {
    "execution": {
     "iopub.execute_input": "2025-02-23T20:31:38.192678Z",
     "iopub.status.busy": "2025-02-23T20:31:38.192353Z",
     "iopub.status.idle": "2025-02-23T20:31:38.202665Z",
     "shell.execute_reply": "2025-02-23T20:31:38.201821Z"
    },
    "papermill": {
     "duration": 0.038682,
     "end_time": "2025-02-23T20:31:38.203960",
     "exception": false,
     "start_time": "2025-02-23T20:31:38.165278",
     "status": "completed"
    },
    "tags": []
   },
   "outputs": [
    {
     "data": {
      "text/plain": [
       "array(['Judge', 'Educational Consultant', 'Teacher', 'Student',\n",
       "       'Customer Support', 'Unemployed', 'Chemist', 'Content Writer',\n",
       "       'Consultant', 'HR Manager', 'Others', 'Digital Marketer',\n",
       "       'Electrician', 'Marketing Manager', 'Plumber', 'Pharmacist',\n",
       "       'Lawyer', 'Pilot', 'Architect', 'Chef', 'Entrepreneur', 'Manager',\n",
       "       'Software Engineer', 'Travel Consultant', 'Finanancial Analyst',\n",
       "       'Financial Analyst', 'Doctor', 'Business Analyst',\n",
       "       'UX/UI Designer', 'Sales Executive', 'Data Scientist',\n",
       "       'Researcher', 'Civil Engineer'], dtype=object)"
      ]
     },
     "execution_count": 48,
     "metadata": {},
     "output_type": "execute_result"
    }
   ],
   "source": [
    "test_df['Profession'].unique()"
   ]
  },
  {
   "cell_type": "markdown",
   "id": "0d039a19",
   "metadata": {
    "papermill": {
     "duration": 0.025628,
     "end_time": "2025-02-23T20:31:38.255229",
     "exception": false,
     "start_time": "2025-02-23T20:31:38.229601",
     "status": "completed"
    },
    "tags": []
   },
   "source": [
    "## Sleep Duration Column Filtering"
   ]
  },
  {
   "cell_type": "markdown",
   "id": "fc3f374c",
   "metadata": {
    "papermill": {
     "duration": 0.025345,
     "end_time": "2025-02-23T20:31:38.305703",
     "exception": false,
     "start_time": "2025-02-23T20:31:38.280358",
     "status": "completed"
    },
    "tags": []
   },
   "source": [
    "### Train Set"
   ]
  },
  {
   "cell_type": "code",
   "execution_count": 49,
   "id": "e51afab2",
   "metadata": {
    "execution": {
     "iopub.execute_input": "2025-02-23T20:31:38.357221Z",
     "iopub.status.busy": "2025-02-23T20:31:38.356874Z",
     "iopub.status.idle": "2025-02-23T20:31:38.368996Z",
     "shell.execute_reply": "2025-02-23T20:31:38.368266Z"
    },
    "papermill": {
     "duration": 0.03917,
     "end_time": "2025-02-23T20:31:38.370119",
     "exception": false,
     "start_time": "2025-02-23T20:31:38.330949",
     "status": "completed"
    },
    "tags": []
   },
   "outputs": [
    {
     "data": {
      "text/plain": [
       "array(['More than 8 hours', 'Less than 5 hours', '5-6 hours', '7-8 hours',\n",
       "       'Sleep_Duration', '1-2 hours', '6-8 hours', '4-6 hours',\n",
       "       '6-7 hours', '10-11 hours', '8-9 hours', '40-45 hours',\n",
       "       '9-11 hours', '2-3 hours', '3-4 hours', 'Moderate', '55-66 hours',\n",
       "       '4-5 hours', '9-6 hours', '1-3 hours', 'Indore', '45', '1-6 hours',\n",
       "       '35-36 hours', '8 hours', 'No', '10-6 hours', 'than 5 hours',\n",
       "       '49 hours', 'Unhealthy', 'Work_Study_Hours', '3-6 hours',\n",
       "       '45-48 hours', '9-5', 'Pune', '9-5 hours'], dtype=object)"
      ]
     },
     "execution_count": 49,
     "metadata": {},
     "output_type": "execute_result"
    }
   ],
   "source": [
    "train_df['Sleep Duration'].unique()"
   ]
  },
  {
   "cell_type": "code",
   "execution_count": 50,
   "id": "942e0d2d",
   "metadata": {
    "execution": {
     "iopub.execute_input": "2025-02-23T20:31:38.421624Z",
     "iopub.status.busy": "2025-02-23T20:31:38.421382Z",
     "iopub.status.idle": "2025-02-23T20:31:38.432582Z",
     "shell.execute_reply": "2025-02-23T20:31:38.431771Z"
    },
    "papermill": {
     "duration": 0.038715,
     "end_time": "2025-02-23T20:31:38.434025",
     "exception": false,
     "start_time": "2025-02-23T20:31:38.395310",
     "status": "completed"
    },
    "tags": []
   },
   "outputs": [
    {
     "data": {
      "text/plain": [
       "0"
      ]
     },
     "execution_count": 50,
     "metadata": {},
     "output_type": "execute_result"
    }
   ],
   "source": [
    "train_df['Sleep Duration'].isna().sum()"
   ]
  },
  {
   "cell_type": "code",
   "execution_count": 51,
   "id": "de612624",
   "metadata": {
    "execution": {
     "iopub.execute_input": "2025-02-23T20:31:38.485772Z",
     "iopub.status.busy": "2025-02-23T20:31:38.485538Z",
     "iopub.status.idle": "2025-02-23T20:31:39.361785Z",
     "shell.execute_reply": "2025-02-23T20:31:39.361013Z"
    },
    "papermill": {
     "duration": 0.903961,
     "end_time": "2025-02-23T20:31:39.363616",
     "exception": false,
     "start_time": "2025-02-23T20:31:38.459655",
     "status": "completed"
    },
    "tags": []
   },
   "outputs": [],
   "source": [
    "train_sleepD_list = unique_series_values(train_df[\"Sleep Duration\"])\n",
    "train_sleepD_N_ls = unwanted_series_names(train_sleepD_list)\n",
    "new_sleepD_train_ls = grouping_category(train_sleepD_N_ls, train_df['Sleep Duration'], \"Others\")"
   ]
  },
  {
   "cell_type": "code",
   "execution_count": 52,
   "id": "8d332d77",
   "metadata": {
    "execution": {
     "iopub.execute_input": "2025-02-23T20:31:39.416540Z",
     "iopub.status.busy": "2025-02-23T20:31:39.416284Z",
     "iopub.status.idle": "2025-02-23T20:31:39.428192Z",
     "shell.execute_reply": "2025-02-23T20:31:39.427442Z"
    },
    "papermill": {
     "duration": 0.039625,
     "end_time": "2025-02-23T20:31:39.429495",
     "exception": false,
     "start_time": "2025-02-23T20:31:39.389870",
     "status": "completed"
    },
    "tags": []
   },
   "outputs": [
    {
     "data": {
      "text/plain": [
       "array(['More than 8 hours', 'Less than 5 hours', '5-6 hours', '7-8 hours',\n",
       "       'Others'], dtype=object)"
      ]
     },
     "execution_count": 52,
     "metadata": {},
     "output_type": "execute_result"
    }
   ],
   "source": [
    "new_sleepD_train_ls.unique()"
   ]
  },
  {
   "cell_type": "code",
   "execution_count": 53,
   "id": "fa720779",
   "metadata": {
    "execution": {
     "iopub.execute_input": "2025-02-23T20:31:39.481266Z",
     "iopub.status.busy": "2025-02-23T20:31:39.481044Z",
     "iopub.status.idle": "2025-02-23T20:31:39.484871Z",
     "shell.execute_reply": "2025-02-23T20:31:39.484277Z"
    },
    "papermill": {
     "duration": 0.030997,
     "end_time": "2025-02-23T20:31:39.486101",
     "exception": false,
     "start_time": "2025-02-23T20:31:39.455104",
     "status": "completed"
    },
    "tags": []
   },
   "outputs": [],
   "source": [
    "train_df[\"Sleep Duration\"] = new_sleepD_train_ls"
   ]
  },
  {
   "cell_type": "code",
   "execution_count": 54,
   "id": "42c177a9",
   "metadata": {
    "execution": {
     "iopub.execute_input": "2025-02-23T20:31:39.537871Z",
     "iopub.status.busy": "2025-02-23T20:31:39.537623Z",
     "iopub.status.idle": "2025-02-23T20:31:39.548168Z",
     "shell.execute_reply": "2025-02-23T20:31:39.547492Z"
    },
    "papermill": {
     "duration": 0.037632,
     "end_time": "2025-02-23T20:31:39.549299",
     "exception": false,
     "start_time": "2025-02-23T20:31:39.511667",
     "status": "completed"
    },
    "tags": []
   },
   "outputs": [
    {
     "data": {
      "text/plain": [
       "0"
      ]
     },
     "execution_count": 54,
     "metadata": {},
     "output_type": "execute_result"
    }
   ],
   "source": [
    "train_df[\"Sleep Duration\"].isna().sum()"
   ]
  },
  {
   "cell_type": "markdown",
   "id": "600395b9",
   "metadata": {
    "papermill": {
     "duration": 0.025186,
     "end_time": "2025-02-23T20:31:39.600044",
     "exception": false,
     "start_time": "2025-02-23T20:31:39.574858",
     "status": "completed"
    },
    "tags": []
   },
   "source": [
    "### Test Set"
   ]
  },
  {
   "cell_type": "code",
   "execution_count": 55,
   "id": "c2de1dd0",
   "metadata": {
    "execution": {
     "iopub.execute_input": "2025-02-23T20:31:39.652203Z",
     "iopub.status.busy": "2025-02-23T20:31:39.651875Z",
     "iopub.status.idle": "2025-02-23T20:31:39.661553Z",
     "shell.execute_reply": "2025-02-23T20:31:39.660838Z"
    },
    "papermill": {
     "duration": 0.037406,
     "end_time": "2025-02-23T20:31:39.662840",
     "exception": false,
     "start_time": "2025-02-23T20:31:39.625434",
     "status": "completed"
    },
    "tags": []
   },
   "outputs": [
    {
     "data": {
      "text/plain": [
       "array(['Less than 5 hours', '7-8 hours', 'More than 8 hours', '5-6 hours',\n",
       "       '0', 'Meerut', '9-5 hours', '6-7 hours', '60-65 hours', 'Vivan',\n",
       "       '3-4 hours', '1-6 hours', '9-5', 'Unhealthy', '8-9 hours',\n",
       "       '4-5 hours', 'than 5 hours', '9-6 hours', '1-2 hours',\n",
       "       '8-89 hours', 'Have_you_ever_had_suicidal_thoughts', '20-21 hours',\n",
       "       '10-6 hours', '1-3 hours', '6 hours', '50-75 hours', '4-6 hours',\n",
       "       '2-3 hours', '9-11 hours', '9-10 hours', '3-6 hours'], dtype=object)"
      ]
     },
     "execution_count": 55,
     "metadata": {},
     "output_type": "execute_result"
    }
   ],
   "source": [
    "test_df['Sleep Duration'].unique()"
   ]
  },
  {
   "cell_type": "code",
   "execution_count": 56,
   "id": "16c8ef55",
   "metadata": {
    "execution": {
     "iopub.execute_input": "2025-02-23T20:31:39.716843Z",
     "iopub.status.busy": "2025-02-23T20:31:39.716570Z",
     "iopub.status.idle": "2025-02-23T20:31:39.725271Z",
     "shell.execute_reply": "2025-02-23T20:31:39.724424Z"
    },
    "papermill": {
     "duration": 0.036336,
     "end_time": "2025-02-23T20:31:39.726597",
     "exception": false,
     "start_time": "2025-02-23T20:31:39.690261",
     "status": "completed"
    },
    "tags": []
   },
   "outputs": [
    {
     "data": {
      "text/plain": [
       "0"
      ]
     },
     "execution_count": 56,
     "metadata": {},
     "output_type": "execute_result"
    }
   ],
   "source": [
    "test_df['Sleep Duration'].isna().sum()"
   ]
  },
  {
   "cell_type": "code",
   "execution_count": 57,
   "id": "88bdf165",
   "metadata": {
    "execution": {
     "iopub.execute_input": "2025-02-23T20:31:39.778637Z",
     "iopub.status.busy": "2025-02-23T20:31:39.778411Z",
     "iopub.status.idle": "2025-02-23T20:31:40.242830Z",
     "shell.execute_reply": "2025-02-23T20:31:40.242074Z"
    },
    "papermill": {
     "duration": 0.492073,
     "end_time": "2025-02-23T20:31:40.244464",
     "exception": false,
     "start_time": "2025-02-23T20:31:39.752391",
     "status": "completed"
    },
    "tags": []
   },
   "outputs": [],
   "source": [
    "test_sleepD_list = unique_series_values(test_df[\"Sleep Duration\"])\n",
    "test_sleepD_N_ls = unwanted_series_names(test_sleepD_list)\n",
    "new_sleepD_test_ls = grouping_category(test_sleepD_N_ls, test_df['Sleep Duration'], \"Others\")"
   ]
  },
  {
   "cell_type": "code",
   "execution_count": 58,
   "id": "2b763b21",
   "metadata": {
    "execution": {
     "iopub.execute_input": "2025-02-23T20:31:40.298939Z",
     "iopub.status.busy": "2025-02-23T20:31:40.298644Z",
     "iopub.status.idle": "2025-02-23T20:31:40.307529Z",
     "shell.execute_reply": "2025-02-23T20:31:40.306889Z"
    },
    "papermill": {
     "duration": 0.037281,
     "end_time": "2025-02-23T20:31:40.308621",
     "exception": false,
     "start_time": "2025-02-23T20:31:40.271340",
     "status": "completed"
    },
    "tags": []
   },
   "outputs": [
    {
     "data": {
      "text/plain": [
       "array(['Less than 5 hours', '7-8 hours', 'More than 8 hours', '5-6 hours',\n",
       "       'Others'], dtype=object)"
      ]
     },
     "execution_count": 58,
     "metadata": {},
     "output_type": "execute_result"
    }
   ],
   "source": [
    "new_sleepD_test_ls.unique()"
   ]
  },
  {
   "cell_type": "code",
   "execution_count": 59,
   "id": "07f4db1b",
   "metadata": {
    "execution": {
     "iopub.execute_input": "2025-02-23T20:31:40.362205Z",
     "iopub.status.busy": "2025-02-23T20:31:40.361959Z",
     "iopub.status.idle": "2025-02-23T20:31:40.365729Z",
     "shell.execute_reply": "2025-02-23T20:31:40.365107Z"
    },
    "papermill": {
     "duration": 0.031457,
     "end_time": "2025-02-23T20:31:40.366859",
     "exception": false,
     "start_time": "2025-02-23T20:31:40.335402",
     "status": "completed"
    },
    "tags": []
   },
   "outputs": [],
   "source": [
    "test_df[\"Sleep Duration\"] = new_sleepD_test_ls"
   ]
  },
  {
   "cell_type": "code",
   "execution_count": 60,
   "id": "ddab0a80",
   "metadata": {
    "execution": {
     "iopub.execute_input": "2025-02-23T20:31:40.420067Z",
     "iopub.status.busy": "2025-02-23T20:31:40.419802Z",
     "iopub.status.idle": "2025-02-23T20:31:40.428409Z",
     "shell.execute_reply": "2025-02-23T20:31:40.427770Z"
    },
    "papermill": {
     "duration": 0.036343,
     "end_time": "2025-02-23T20:31:40.429591",
     "exception": false,
     "start_time": "2025-02-23T20:31:40.393248",
     "status": "completed"
    },
    "tags": []
   },
   "outputs": [
    {
     "data": {
      "text/plain": [
       "0"
      ]
     },
     "execution_count": 60,
     "metadata": {},
     "output_type": "execute_result"
    }
   ],
   "source": [
    "test_df[\"Sleep Duration\"].isna().sum()"
   ]
  },
  {
   "cell_type": "markdown",
   "id": "17456501",
   "metadata": {
    "papermill": {
     "duration": 0.026242,
     "end_time": "2025-02-23T20:31:40.482594",
     "exception": false,
     "start_time": "2025-02-23T20:31:40.456352",
     "status": "completed"
    },
    "tags": []
   },
   "source": [
    "## Dietary Habits Column"
   ]
  },
  {
   "cell_type": "markdown",
   "id": "ab753f1c",
   "metadata": {
    "papermill": {
     "duration": 0.025656,
     "end_time": "2025-02-23T20:31:40.534323",
     "exception": false,
     "start_time": "2025-02-23T20:31:40.508667",
     "status": "completed"
    },
    "tags": []
   },
   "source": [
    "### Train Set"
   ]
  },
  {
   "cell_type": "code",
   "execution_count": 61,
   "id": "179e7b5e",
   "metadata": {
    "execution": {
     "iopub.execute_input": "2025-02-23T20:31:40.586863Z",
     "iopub.status.busy": "2025-02-23T20:31:40.586567Z",
     "iopub.status.idle": "2025-02-23T20:31:40.595812Z",
     "shell.execute_reply": "2025-02-23T20:31:40.594988Z"
    },
    "papermill": {
     "duration": 0.03705,
     "end_time": "2025-02-23T20:31:40.597137",
     "exception": false,
     "start_time": "2025-02-23T20:31:40.560087",
     "status": "completed"
    },
    "tags": []
   },
   "outputs": [
    {
     "data": {
      "text/plain": [
       "array(['Healthy', 'Unhealthy', 'Moderate', 'Yes', 'Pratham', 'BSc',\n",
       "       'Gender', '3', 'More Healthy', 'Less than Healthy', 'Mihir', '1.0',\n",
       "       'Hormonal', 'Electrician', nan, 'No Healthy', 'Less Healthy',\n",
       "       'M.Tech', 'Vegas', 'No', 'Male', 'Indoor', 'Class 12', '2'],\n",
       "      dtype=object)"
      ]
     },
     "execution_count": 61,
     "metadata": {},
     "output_type": "execute_result"
    }
   ],
   "source": [
    "train_df[\"Dietary Habits\"].unique()"
   ]
  },
  {
   "cell_type": "code",
   "execution_count": 62,
   "id": "7a1d6268",
   "metadata": {
    "execution": {
     "iopub.execute_input": "2025-02-23T20:31:40.650134Z",
     "iopub.status.busy": "2025-02-23T20:31:40.649806Z",
     "iopub.status.idle": "2025-02-23T20:31:40.661667Z",
     "shell.execute_reply": "2025-02-23T20:31:40.660985Z"
    },
    "papermill": {
     "duration": 0.040097,
     "end_time": "2025-02-23T20:31:40.662940",
     "exception": false,
     "start_time": "2025-02-23T20:31:40.622843",
     "status": "completed"
    },
    "tags": []
   },
   "outputs": [],
   "source": [
    "train_df[\"Dietary Habits\"] = train_df[\"Dietary Habits\"].fillna(\"null\")"
   ]
  },
  {
   "cell_type": "code",
   "execution_count": 63,
   "id": "e8c8118b",
   "metadata": {
    "execution": {
     "iopub.execute_input": "2025-02-23T20:31:40.725227Z",
     "iopub.status.busy": "2025-02-23T20:31:40.724876Z",
     "iopub.status.idle": "2025-02-23T20:31:40.737807Z",
     "shell.execute_reply": "2025-02-23T20:31:40.736614Z"
    },
    "papermill": {
     "duration": 0.049111,
     "end_time": "2025-02-23T20:31:40.739690",
     "exception": false,
     "start_time": "2025-02-23T20:31:40.690579",
     "status": "completed"
    },
    "tags": []
   },
   "outputs": [
    {
     "data": {
      "text/plain": [
       "array(['Healthy', 'Unhealthy', 'Moderate', 'Yes', 'Pratham', 'BSc',\n",
       "       'Gender', '3', 'More Healthy', 'Less than Healthy', 'Mihir', '1.0',\n",
       "       'Hormonal', 'Electrician', 'null', 'No Healthy', 'Less Healthy',\n",
       "       'M.Tech', 'Vegas', 'No', 'Male', 'Indoor', 'Class 12', '2'],\n",
       "      dtype=object)"
      ]
     },
     "execution_count": 63,
     "metadata": {},
     "output_type": "execute_result"
    }
   ],
   "source": [
    "train_df[\"Dietary Habits\"].unique()"
   ]
  },
  {
   "cell_type": "code",
   "execution_count": 64,
   "id": "9525de9f",
   "metadata": {
    "execution": {
     "iopub.execute_input": "2025-02-23T20:31:40.805346Z",
     "iopub.status.busy": "2025-02-23T20:31:40.805033Z",
     "iopub.status.idle": "2025-02-23T20:31:40.816336Z",
     "shell.execute_reply": "2025-02-23T20:31:40.815472Z"
    },
    "papermill": {
     "duration": 0.041687,
     "end_time": "2025-02-23T20:31:40.817649",
     "exception": false,
     "start_time": "2025-02-23T20:31:40.775962",
     "status": "completed"
    },
    "tags": []
   },
   "outputs": [
    {
     "data": {
      "text/plain": [
       "0"
      ]
     },
     "execution_count": 64,
     "metadata": {},
     "output_type": "execute_result"
    }
   ],
   "source": [
    "train_df['Dietary Habits'].isna().sum()"
   ]
  },
  {
   "cell_type": "code",
   "execution_count": 65,
   "id": "e981f64a",
   "metadata": {
    "execution": {
     "iopub.execute_input": "2025-02-23T20:31:40.872349Z",
     "iopub.status.busy": "2025-02-23T20:31:40.872042Z",
     "iopub.status.idle": "2025-02-23T20:31:41.414278Z",
     "shell.execute_reply": "2025-02-23T20:31:41.413429Z"
    },
    "papermill": {
     "duration": 0.571296,
     "end_time": "2025-02-23T20:31:41.415849",
     "exception": false,
     "start_time": "2025-02-23T20:31:40.844553",
     "status": "completed"
    },
    "tags": []
   },
   "outputs": [],
   "source": [
    "diet_train_ls = unique_series_values(train_df[\"Dietary Habits\"])\n",
    "unwanted_diet_ls = unwanted_series_names(diet_train_ls)\n",
    "new_train_diet_H = grouping_category(unwanted_diet_ls,train_df[\"Dietary Habits\"], \"Others\" )"
   ]
  },
  {
   "cell_type": "code",
   "execution_count": 66,
   "id": "21755f21",
   "metadata": {
    "execution": {
     "iopub.execute_input": "2025-02-23T20:31:41.471341Z",
     "iopub.status.busy": "2025-02-23T20:31:41.471059Z",
     "iopub.status.idle": "2025-02-23T20:31:41.482299Z",
     "shell.execute_reply": "2025-02-23T20:31:41.481471Z"
    },
    "papermill": {
     "duration": 0.039744,
     "end_time": "2025-02-23T20:31:41.483590",
     "exception": false,
     "start_time": "2025-02-23T20:31:41.443846",
     "status": "completed"
    },
    "tags": []
   },
   "outputs": [
    {
     "data": {
      "text/plain": [
       "0"
      ]
     },
     "execution_count": 66,
     "metadata": {},
     "output_type": "execute_result"
    }
   ],
   "source": [
    "train_df['Dietary Habits'].isna().sum()"
   ]
  },
  {
   "cell_type": "code",
   "execution_count": 67,
   "id": "6e2c1917",
   "metadata": {
    "execution": {
     "iopub.execute_input": "2025-02-23T20:31:41.538488Z",
     "iopub.status.busy": "2025-02-23T20:31:41.538225Z",
     "iopub.status.idle": "2025-02-23T20:31:41.550236Z",
     "shell.execute_reply": "2025-02-23T20:31:41.549392Z"
    },
    "papermill": {
     "duration": 0.040633,
     "end_time": "2025-02-23T20:31:41.551562",
     "exception": false,
     "start_time": "2025-02-23T20:31:41.510929",
     "status": "completed"
    },
    "tags": []
   },
   "outputs": [
    {
     "data": {
      "text/plain": [
       "array(['Healthy', 'Unhealthy', 'Moderate', 'Others'], dtype=object)"
      ]
     },
     "execution_count": 67,
     "metadata": {},
     "output_type": "execute_result"
    }
   ],
   "source": [
    "train_df[\"Dietary Habits\"].unique()"
   ]
  },
  {
   "cell_type": "markdown",
   "id": "1e9c4203",
   "metadata": {
    "papermill": {
     "duration": 0.026244,
     "end_time": "2025-02-23T20:31:41.604568",
     "exception": false,
     "start_time": "2025-02-23T20:31:41.578324",
     "status": "completed"
    },
    "tags": []
   },
   "source": [
    "### Test Set"
   ]
  },
  {
   "cell_type": "code",
   "execution_count": 68,
   "id": "ec69c38a",
   "metadata": {
    "execution": {
     "iopub.execute_input": "2025-02-23T20:31:41.658073Z",
     "iopub.status.busy": "2025-02-23T20:31:41.657734Z",
     "iopub.status.idle": "2025-02-23T20:31:41.665520Z",
     "shell.execute_reply": "2025-02-23T20:31:41.664762Z"
    },
    "papermill": {
     "duration": 0.03602,
     "end_time": "2025-02-23T20:31:41.666835",
     "exception": false,
     "start_time": "2025-02-23T20:31:41.630815",
     "status": "completed"
    },
    "tags": []
   },
   "outputs": [
    {
     "data": {
      "text/plain": [
       "array(['Moderate', 'Healthy', 'Unhealthy', 'More Healthy', 'No', 'Indoor',\n",
       "       'Prachi', nan, 'Male', 'Less Healthy', 'Mealy', 'Resistant', 'MCA',\n",
       "       '5 Healthy', 'Academic', 'Educational', 'Soham', '5 Unhealthy',\n",
       "       'Vivaan', 'Raghav', '1.0', 'Naina', 'Kolkata'], dtype=object)"
      ]
     },
     "execution_count": 68,
     "metadata": {},
     "output_type": "execute_result"
    }
   ],
   "source": [
    "test_df[\"Dietary Habits\"].unique()"
   ]
  },
  {
   "cell_type": "code",
   "execution_count": 69,
   "id": "6f622548",
   "metadata": {
    "execution": {
     "iopub.execute_input": "2025-02-23T20:31:41.722554Z",
     "iopub.status.busy": "2025-02-23T20:31:41.722296Z",
     "iopub.status.idle": "2025-02-23T20:31:41.732243Z",
     "shell.execute_reply": "2025-02-23T20:31:41.731492Z"
    },
    "papermill": {
     "duration": 0.038297,
     "end_time": "2025-02-23T20:31:41.733530",
     "exception": false,
     "start_time": "2025-02-23T20:31:41.695233",
     "status": "completed"
    },
    "tags": []
   },
   "outputs": [],
   "source": [
    "test_df[\"Dietary Habits\"] = test_df[\"Dietary Habits\"].fillna(\"null\")"
   ]
  },
  {
   "cell_type": "code",
   "execution_count": 70,
   "id": "3857ef3c",
   "metadata": {
    "execution": {
     "iopub.execute_input": "2025-02-23T20:31:41.788303Z",
     "iopub.status.busy": "2025-02-23T20:31:41.788068Z",
     "iopub.status.idle": "2025-02-23T20:31:41.797627Z",
     "shell.execute_reply": "2025-02-23T20:31:41.796867Z"
    },
    "papermill": {
     "duration": 0.038347,
     "end_time": "2025-02-23T20:31:41.799005",
     "exception": false,
     "start_time": "2025-02-23T20:31:41.760658",
     "status": "completed"
    },
    "tags": []
   },
   "outputs": [
    {
     "data": {
      "text/plain": [
       "array(['Moderate', 'Healthy', 'Unhealthy', 'More Healthy', 'No', 'Indoor',\n",
       "       'Prachi', 'null', 'Male', 'Less Healthy', 'Mealy', 'Resistant',\n",
       "       'MCA', '5 Healthy', 'Academic', 'Educational', 'Soham',\n",
       "       '5 Unhealthy', 'Vivaan', 'Raghav', '1.0', 'Naina', 'Kolkata'],\n",
       "      dtype=object)"
      ]
     },
     "execution_count": 70,
     "metadata": {},
     "output_type": "execute_result"
    }
   ],
   "source": [
    "test_df[\"Dietary Habits\"].unique()"
   ]
  },
  {
   "cell_type": "code",
   "execution_count": 71,
   "id": "e305c996",
   "metadata": {
    "execution": {
     "iopub.execute_input": "2025-02-23T20:31:41.853414Z",
     "iopub.status.busy": "2025-02-23T20:31:41.853132Z",
     "iopub.status.idle": "2025-02-23T20:31:41.862422Z",
     "shell.execute_reply": "2025-02-23T20:31:41.861616Z"
    },
    "papermill": {
     "duration": 0.038033,
     "end_time": "2025-02-23T20:31:41.863690",
     "exception": false,
     "start_time": "2025-02-23T20:31:41.825657",
     "status": "completed"
    },
    "tags": []
   },
   "outputs": [
    {
     "data": {
      "text/plain": [
       "0"
      ]
     },
     "execution_count": 71,
     "metadata": {},
     "output_type": "execute_result"
    }
   ],
   "source": [
    "test_df['Dietary Habits'].isna().sum()"
   ]
  },
  {
   "cell_type": "code",
   "execution_count": 72,
   "id": "24415501",
   "metadata": {
    "execution": {
     "iopub.execute_input": "2025-02-23T20:31:41.918338Z",
     "iopub.status.busy": "2025-02-23T20:31:41.918097Z",
     "iopub.status.idle": "2025-02-23T20:31:42.252874Z",
     "shell.execute_reply": "2025-02-23T20:31:42.252197Z"
    },
    "papermill": {
     "duration": 0.3636,
     "end_time": "2025-02-23T20:31:42.254535",
     "exception": false,
     "start_time": "2025-02-23T20:31:41.890935",
     "status": "completed"
    },
    "tags": []
   },
   "outputs": [],
   "source": [
    "diet_test_ls = unique_series_values(test_df[\"Dietary Habits\"])\n",
    "unwanted_diet_ls_test = unwanted_series_names(diet_test_ls)\n",
    "new_test_diet_H = grouping_category(unwanted_diet_ls_test, test_df[\"Dietary Habits\"], \"Others\" )"
   ]
  },
  {
   "cell_type": "code",
   "execution_count": 73,
   "id": "604b19b5",
   "metadata": {
    "execution": {
     "iopub.execute_input": "2025-02-23T20:31:42.309790Z",
     "iopub.status.busy": "2025-02-23T20:31:42.309493Z",
     "iopub.status.idle": "2025-02-23T20:31:42.318347Z",
     "shell.execute_reply": "2025-02-23T20:31:42.317542Z"
    },
    "papermill": {
     "duration": 0.037268,
     "end_time": "2025-02-23T20:31:42.319553",
     "exception": false,
     "start_time": "2025-02-23T20:31:42.282285",
     "status": "completed"
    },
    "tags": []
   },
   "outputs": [
    {
     "data": {
      "text/plain": [
       "0"
      ]
     },
     "execution_count": 73,
     "metadata": {},
     "output_type": "execute_result"
    }
   ],
   "source": [
    "test_df['Dietary Habits'].isna().sum()"
   ]
  },
  {
   "cell_type": "code",
   "execution_count": 74,
   "id": "77e821c6",
   "metadata": {
    "execution": {
     "iopub.execute_input": "2025-02-23T20:31:42.373724Z",
     "iopub.status.busy": "2025-02-23T20:31:42.373437Z",
     "iopub.status.idle": "2025-02-23T20:31:42.385063Z",
     "shell.execute_reply": "2025-02-23T20:31:42.384241Z"
    },
    "papermill": {
     "duration": 0.040459,
     "end_time": "2025-02-23T20:31:42.386306",
     "exception": false,
     "start_time": "2025-02-23T20:31:42.345847",
     "status": "completed"
    },
    "tags": []
   },
   "outputs": [
    {
     "data": {
      "text/plain": [
       "array(['Healthy', 'Unhealthy', 'Moderate', 'Others'], dtype=object)"
      ]
     },
     "execution_count": 74,
     "metadata": {},
     "output_type": "execute_result"
    }
   ],
   "source": [
    "train_df[\"Dietary Habits\"].unique()"
   ]
  },
  {
   "cell_type": "markdown",
   "id": "1130e8a6",
   "metadata": {
    "papermill": {
     "duration": 0.026023,
     "end_time": "2025-02-23T20:31:42.438742",
     "exception": false,
     "start_time": "2025-02-23T20:31:42.412719",
     "status": "completed"
    },
    "tags": []
   },
   "source": [
    "## Degree Column FIltering"
   ]
  },
  {
   "cell_type": "markdown",
   "id": "c12f0a54",
   "metadata": {
    "papermill": {
     "duration": 0.026158,
     "end_time": "2025-02-23T20:31:42.491101",
     "exception": false,
     "start_time": "2025-02-23T20:31:42.464943",
     "status": "completed"
    },
    "tags": []
   },
   "source": [
    "### Train Set"
   ]
  },
  {
   "cell_type": "code",
   "execution_count": 75,
   "id": "396d4f34",
   "metadata": {
    "execution": {
     "iopub.execute_input": "2025-02-23T20:31:42.544746Z",
     "iopub.status.busy": "2025-02-23T20:31:42.544461Z",
     "iopub.status.idle": "2025-02-23T20:31:42.554746Z",
     "shell.execute_reply": "2025-02-23T20:31:42.553939Z"
    },
    "papermill": {
     "duration": 0.038754,
     "end_time": "2025-02-23T20:31:42.556116",
     "exception": false,
     "start_time": "2025-02-23T20:31:42.517362",
     "status": "completed"
    },
    "tags": []
   },
   "outputs": [
    {
     "data": {
      "text/plain": [
       "array(['BHM', 'LLB', 'B.Pharm', 'BBA', 'MCA', 'MD', 'BSc', 'ME', 'B.Arch',\n",
       "       'BCA', 'BE', 'MA', 'B.Ed', 'B.Com', 'MBA', 'M.Com', 'MHM', 'BA',\n",
       "       'Class 12', 'M.Tech', 'PhD', 'M.Ed', 'MSc', 'B.Tech', 'LLM',\n",
       "       'MBBS', 'M.Pharm', 'UX/UI Designer', 'MPA', 'BH', 'Nalini', 'BEd',\n",
       "       'B.Sc', 'Veda', 'Bhopal', 'S.Tech', 'Degree', '20', 'Class 11',\n",
       "       'H_Pharm', 'M', 'P.Com', 'BPharm', 'Business Analyst', 'M.Arch',\n",
       "       'LL.Com', 'Data Scientist', 'MPharm', 'L.Ed', 'P.Pharm', 'Kalyan',\n",
       "       'Unite', 'BArch', 'HR Manager', 'Badhya', 'S.Pharm', 'LLBA',\n",
       "       'Vrinda', 'M. Business Analyst', 'Bhavesh', '0', 'LLCom', '29',\n",
       "       'MTech', 'Vivaan', 'BPA', 'Plumber', '5.61', 'Brit', 'B.03',\n",
       "       'Ritik', '5.56', 'MEd', 'B', 'B BA', '7.06', 'B.B.Arch', 'ACA',\n",
       "       'Brithika', 'CGPA', '24', 'M_Tech', 'Pihu', 'BB', 'Jhanvi',\n",
       "       'LLTech', 'Aarav', 'Entrepreneur', '8.56', 'LHM', 'Lata', 'S.Arch',\n",
       "       'Marsh', 'HCA', '5.88', 'B.Student', 'LL B.Ed', 'M.S', 'Navya',\n",
       "       'Mahika', nan, 'K.Ed', 'B.3.79', 'Mthanya', 'Working Professional',\n",
       "       'Esha', 'LLS', 'LLEd', 'E.Tech', 'Doctor', 'N.Pharm', 'LCA',\n",
       "       'B B.Com', 'RCA', 'Mihir', 'Advait'], dtype=object)"
      ]
     },
     "execution_count": 75,
     "metadata": {},
     "output_type": "execute_result"
    }
   ],
   "source": [
    "train_df[\"Degree\"].unique()"
   ]
  },
  {
   "cell_type": "code",
   "execution_count": 76,
   "id": "cf8cfc8c",
   "metadata": {
    "execution": {
     "iopub.execute_input": "2025-02-23T20:31:42.609778Z",
     "iopub.status.busy": "2025-02-23T20:31:42.609530Z",
     "iopub.status.idle": "2025-02-23T20:31:42.620931Z",
     "shell.execute_reply": "2025-02-23T20:31:42.620317Z"
    },
    "papermill": {
     "duration": 0.039753,
     "end_time": "2025-02-23T20:31:42.622192",
     "exception": false,
     "start_time": "2025-02-23T20:31:42.582439",
     "status": "completed"
    },
    "tags": []
   },
   "outputs": [],
   "source": [
    "train_df[\"Degree\"] = train_df[\"Degree\"].fillna(\"null\")"
   ]
  },
  {
   "cell_type": "code",
   "execution_count": 77,
   "id": "0136c455",
   "metadata": {
    "execution": {
     "iopub.execute_input": "2025-02-23T20:31:42.677522Z",
     "iopub.status.busy": "2025-02-23T20:31:42.677278Z",
     "iopub.status.idle": "2025-02-23T20:31:42.689438Z",
     "shell.execute_reply": "2025-02-23T20:31:42.688695Z"
    },
    "papermill": {
     "duration": 0.041517,
     "end_time": "2025-02-23T20:31:42.690707",
     "exception": false,
     "start_time": "2025-02-23T20:31:42.649190",
     "status": "completed"
    },
    "tags": []
   },
   "outputs": [
    {
     "data": {
      "text/plain": [
       "array(['BHM', 'LLB', 'B.Pharm', 'BBA', 'MCA', 'MD', 'BSc', 'ME', 'B.Arch',\n",
       "       'BCA', 'BE', 'MA', 'B.Ed', 'B.Com', 'MBA', 'M.Com', 'MHM', 'BA',\n",
       "       'Class 12', 'M.Tech', 'PhD', 'M.Ed', 'MSc', 'B.Tech', 'LLM',\n",
       "       'MBBS', 'M.Pharm', 'UX/UI Designer', 'MPA', 'BH', 'Nalini', 'BEd',\n",
       "       'B.Sc', 'Veda', 'Bhopal', 'S.Tech', 'Degree', '20', 'Class 11',\n",
       "       'H_Pharm', 'M', 'P.Com', 'BPharm', 'Business Analyst', 'M.Arch',\n",
       "       'LL.Com', 'Data Scientist', 'MPharm', 'L.Ed', 'P.Pharm', 'Kalyan',\n",
       "       'Unite', 'BArch', 'HR Manager', 'Badhya', 'S.Pharm', 'LLBA',\n",
       "       'Vrinda', 'M. Business Analyst', 'Bhavesh', '0', 'LLCom', '29',\n",
       "       'MTech', 'Vivaan', 'BPA', 'Plumber', '5.61', 'Brit', 'B.03',\n",
       "       'Ritik', '5.56', 'MEd', 'B', 'B BA', '7.06', 'B.B.Arch', 'ACA',\n",
       "       'Brithika', 'CGPA', '24', 'M_Tech', 'Pihu', 'BB', 'Jhanvi',\n",
       "       'LLTech', 'Aarav', 'Entrepreneur', '8.56', 'LHM', 'Lata', 'S.Arch',\n",
       "       'Marsh', 'HCA', '5.88', 'B.Student', 'LL B.Ed', 'M.S', 'Navya',\n",
       "       'Mahika', 'null', 'K.Ed', 'B.3.79', 'Mthanya',\n",
       "       'Working Professional', 'Esha', 'LLS', 'LLEd', 'E.Tech', 'Doctor',\n",
       "       'N.Pharm', 'LCA', 'B B.Com', 'RCA', 'Mihir', 'Advait'],\n",
       "      dtype=object)"
      ]
     },
     "execution_count": 77,
     "metadata": {},
     "output_type": "execute_result"
    }
   ],
   "source": [
    "train_df[\"Degree\"].unique()"
   ]
  },
  {
   "cell_type": "code",
   "execution_count": 78,
   "id": "c7efc888",
   "metadata": {
    "execution": {
     "iopub.execute_input": "2025-02-23T20:31:42.745336Z",
     "iopub.status.busy": "2025-02-23T20:31:42.745085Z",
     "iopub.status.idle": "2025-02-23T20:31:42.755776Z",
     "shell.execute_reply": "2025-02-23T20:31:42.754961Z"
    },
    "papermill": {
     "duration": 0.039311,
     "end_time": "2025-02-23T20:31:42.756978",
     "exception": false,
     "start_time": "2025-02-23T20:31:42.717667",
     "status": "completed"
    },
    "tags": []
   },
   "outputs": [
    {
     "data": {
      "text/plain": [
       "0"
      ]
     },
     "execution_count": 78,
     "metadata": {},
     "output_type": "execute_result"
    }
   ],
   "source": [
    "train_df['Degree'].isna().sum()"
   ]
  },
  {
   "cell_type": "code",
   "execution_count": 79,
   "id": "22361e5d",
   "metadata": {
    "execution": {
     "iopub.execute_input": "2025-02-23T20:31:42.811995Z",
     "iopub.status.busy": "2025-02-23T20:31:42.811723Z",
     "iopub.status.idle": "2025-02-23T20:31:45.042592Z",
     "shell.execute_reply": "2025-02-23T20:31:45.041879Z"
    },
    "papermill": {
     "duration": 2.259916,
     "end_time": "2025-02-23T20:31:45.044125",
     "exception": false,
     "start_time": "2025-02-23T20:31:42.784209",
     "status": "completed"
    },
    "tags": []
   },
   "outputs": [],
   "source": [
    "degree_train_ls = unique_series_values(train_df[\"Degree\"])\n",
    "unwanted_degree_ls = unwanted_series_names(degree_train_ls)\n",
    "new_train_degree = grouping_category( unwanted_degree_ls , train_df[\"Degree\"], \"Others\" )"
   ]
  },
  {
   "cell_type": "code",
   "execution_count": 80,
   "id": "a879c749",
   "metadata": {
    "execution": {
     "iopub.execute_input": "2025-02-23T20:31:45.105453Z",
     "iopub.status.busy": "2025-02-23T20:31:45.105143Z",
     "iopub.status.idle": "2025-02-23T20:31:45.116156Z",
     "shell.execute_reply": "2025-02-23T20:31:45.115342Z"
    },
    "papermill": {
     "duration": 0.045103,
     "end_time": "2025-02-23T20:31:45.117489",
     "exception": false,
     "start_time": "2025-02-23T20:31:45.072386",
     "status": "completed"
    },
    "tags": []
   },
   "outputs": [
    {
     "data": {
      "text/plain": [
       "0"
      ]
     },
     "execution_count": 80,
     "metadata": {},
     "output_type": "execute_result"
    }
   ],
   "source": [
    "train_df['Degree'].isna().sum()"
   ]
  },
  {
   "cell_type": "code",
   "execution_count": 81,
   "id": "f0c696d2",
   "metadata": {
    "execution": {
     "iopub.execute_input": "2025-02-23T20:31:45.173109Z",
     "iopub.status.busy": "2025-02-23T20:31:45.172780Z",
     "iopub.status.idle": "2025-02-23T20:31:45.184753Z",
     "shell.execute_reply": "2025-02-23T20:31:45.183972Z"
    },
    "papermill": {
     "duration": 0.041162,
     "end_time": "2025-02-23T20:31:45.186059",
     "exception": false,
     "start_time": "2025-02-23T20:31:45.144897",
     "status": "completed"
    },
    "tags": []
   },
   "outputs": [
    {
     "data": {
      "text/plain": [
       "array(['BHM', 'LLB', 'B.Pharm', 'BBA', 'MCA', 'MD', 'BSc', 'ME', 'B.Arch',\n",
       "       'BCA', 'BE', 'MA', 'B.Ed', 'B.Com', 'MBA', 'M.Com', 'MHM', 'BA',\n",
       "       'Class 12', 'M.Tech', 'PhD', 'M.Ed', 'MSc', 'B.Tech', 'LLM',\n",
       "       'MBBS', 'M.Pharm', 'Others'], dtype=object)"
      ]
     },
     "execution_count": 81,
     "metadata": {},
     "output_type": "execute_result"
    }
   ],
   "source": [
    "train_df[\"Degree\"].unique()"
   ]
  },
  {
   "cell_type": "markdown",
   "id": "0314b2d0",
   "metadata": {
    "papermill": {
     "duration": 0.026736,
     "end_time": "2025-02-23T20:31:45.240197",
     "exception": false,
     "start_time": "2025-02-23T20:31:45.213461",
     "status": "completed"
    },
    "tags": []
   },
   "source": [
    "### Test Set"
   ]
  },
  {
   "cell_type": "code",
   "execution_count": 82,
   "id": "b4a792db",
   "metadata": {
    "execution": {
     "iopub.execute_input": "2025-02-23T20:31:45.295512Z",
     "iopub.status.busy": "2025-02-23T20:31:45.295202Z",
     "iopub.status.idle": "2025-02-23T20:31:45.303430Z",
     "shell.execute_reply": "2025-02-23T20:31:45.302766Z"
    },
    "papermill": {
     "duration": 0.037409,
     "end_time": "2025-02-23T20:31:45.304589",
     "exception": false,
     "start_time": "2025-02-23T20:31:45.267180",
     "status": "completed"
    },
    "tags": []
   },
   "outputs": [
    {
     "data": {
      "text/plain": [
       "array(['LLB', 'B.Ed', 'B.Arch', 'BSc', 'BCA', 'B.Com', 'MA', 'BA', 'BBA',\n",
       "       'Class 12', 'MD', 'MBA', 'M.Ed', 'M.Pharm', 'BHM', 'LLM', 'PhD',\n",
       "       'M.Com', 'BE', 'MBBS', 'B.Tech', 'ME', 'MCA', 'B.Pharm', 'MHM',\n",
       "       'M.Tech', 'BTech', 'MSc', 'BArch', 'B. Gender', 'B.Study_Hours',\n",
       "       'Advait', 'M.Arch', 'A.Ed', 'Mechanical Engineer', 'B.H', 'B.Sc',\n",
       "       'B', 'M.UI', 'Vibha', 'B BCA', 'B.Press', 'BPharm', 'Gagan',\n",
       "       'MPharm', 'Travel Consultant', '5.65', 'Business Analyst',\n",
       "       'Eshita', 'B_Com', 'Navya', 'B._Pharm', 'Pune', 'Bian', 'B.M.Com',\n",
       "       'Kavya', 'M.M.Ed', 'S.Pharm', 'Vrinda', 'M', 'E.Ed', '3.0',\n",
       "       'Moham', 'B.BA', nan, 'I.Ed', 'Degree', 'Magan', 'B B.Tech',\n",
       "       'M.B.Ed', 'Bhopal', 'B Financial Analyst', 'GCA', 'G.Ed', 'Rupak',\n",
       "       'RCA', 'B.CA', 'PCA', 'J.Ed', 'BH', 'BEd', '8.95', 'Aadhya', '20',\n",
       "       'Banchal', 'M.', 'K.Ed', 'BHCA'], dtype=object)"
      ]
     },
     "execution_count": 82,
     "metadata": {},
     "output_type": "execute_result"
    }
   ],
   "source": [
    "test_df[\"Degree\"].unique()"
   ]
  },
  {
   "cell_type": "code",
   "execution_count": 83,
   "id": "9cede6d8",
   "metadata": {
    "execution": {
     "iopub.execute_input": "2025-02-23T20:31:45.359586Z",
     "iopub.status.busy": "2025-02-23T20:31:45.359360Z",
     "iopub.status.idle": "2025-02-23T20:31:45.368585Z",
     "shell.execute_reply": "2025-02-23T20:31:45.367981Z"
    },
    "papermill": {
     "duration": 0.03781,
     "end_time": "2025-02-23T20:31:45.369831",
     "exception": false,
     "start_time": "2025-02-23T20:31:45.332021",
     "status": "completed"
    },
    "tags": []
   },
   "outputs": [],
   "source": [
    "test_df[\"Degree\"] = test_df[\"Degree\"].fillna(\"null\")"
   ]
  },
  {
   "cell_type": "code",
   "execution_count": 84,
   "id": "0c164083",
   "metadata": {
    "execution": {
     "iopub.execute_input": "2025-02-23T20:31:45.424539Z",
     "iopub.status.busy": "2025-02-23T20:31:45.424301Z",
     "iopub.status.idle": "2025-02-23T20:31:45.433995Z",
     "shell.execute_reply": "2025-02-23T20:31:45.433281Z"
    },
    "papermill": {
     "duration": 0.03856,
     "end_time": "2025-02-23T20:31:45.435256",
     "exception": false,
     "start_time": "2025-02-23T20:31:45.396696",
     "status": "completed"
    },
    "tags": []
   },
   "outputs": [
    {
     "data": {
      "text/plain": [
       "array(['LLB', 'B.Ed', 'B.Arch', 'BSc', 'BCA', 'B.Com', 'MA', 'BA', 'BBA',\n",
       "       'Class 12', 'MD', 'MBA', 'M.Ed', 'M.Pharm', 'BHM', 'LLM', 'PhD',\n",
       "       'M.Com', 'BE', 'MBBS', 'B.Tech', 'ME', 'MCA', 'B.Pharm', 'MHM',\n",
       "       'M.Tech', 'BTech', 'MSc', 'BArch', 'B. Gender', 'B.Study_Hours',\n",
       "       'Advait', 'M.Arch', 'A.Ed', 'Mechanical Engineer', 'B.H', 'B.Sc',\n",
       "       'B', 'M.UI', 'Vibha', 'B BCA', 'B.Press', 'BPharm', 'Gagan',\n",
       "       'MPharm', 'Travel Consultant', '5.65', 'Business Analyst',\n",
       "       'Eshita', 'B_Com', 'Navya', 'B._Pharm', 'Pune', 'Bian', 'B.M.Com',\n",
       "       'Kavya', 'M.M.Ed', 'S.Pharm', 'Vrinda', 'M', 'E.Ed', '3.0',\n",
       "       'Moham', 'B.BA', 'null', 'I.Ed', 'Degree', 'Magan', 'B B.Tech',\n",
       "       'M.B.Ed', 'Bhopal', 'B Financial Analyst', 'GCA', 'G.Ed', 'Rupak',\n",
       "       'RCA', 'B.CA', 'PCA', 'J.Ed', 'BH', 'BEd', '8.95', 'Aadhya', '20',\n",
       "       'Banchal', 'M.', 'K.Ed', 'BHCA'], dtype=object)"
      ]
     },
     "execution_count": 84,
     "metadata": {},
     "output_type": "execute_result"
    }
   ],
   "source": [
    "test_df[\"Degree\"].unique()"
   ]
  },
  {
   "cell_type": "code",
   "execution_count": 85,
   "id": "cb4d072d",
   "metadata": {
    "execution": {
     "iopub.execute_input": "2025-02-23T20:31:45.490674Z",
     "iopub.status.busy": "2025-02-23T20:31:45.490391Z",
     "iopub.status.idle": "2025-02-23T20:31:45.499182Z",
     "shell.execute_reply": "2025-02-23T20:31:45.498485Z"
    },
    "papermill": {
     "duration": 0.037769,
     "end_time": "2025-02-23T20:31:45.500429",
     "exception": false,
     "start_time": "2025-02-23T20:31:45.462660",
     "status": "completed"
    },
    "tags": []
   },
   "outputs": [
    {
     "data": {
      "text/plain": [
       "0"
      ]
     },
     "execution_count": 85,
     "metadata": {},
     "output_type": "execute_result"
    }
   ],
   "source": [
    "test_df['Degree'].isna().sum()"
   ]
  },
  {
   "cell_type": "code",
   "execution_count": 86,
   "id": "1dc34f87",
   "metadata": {
    "execution": {
     "iopub.execute_input": "2025-02-23T20:31:45.556322Z",
     "iopub.status.busy": "2025-02-23T20:31:45.556043Z",
     "iopub.status.idle": "2025-02-23T20:31:46.666797Z",
     "shell.execute_reply": "2025-02-23T20:31:46.666116Z"
    },
    "papermill": {
     "duration": 1.140884,
     "end_time": "2025-02-23T20:31:46.668448",
     "exception": false,
     "start_time": "2025-02-23T20:31:45.527564",
     "status": "completed"
    },
    "tags": []
   },
   "outputs": [],
   "source": [
    "degree_test_ls = unique_series_values(test_df[\"Degree\"])\n",
    "unwanted_degree_ls_test = unwanted_series_names(degree_test_ls)\n",
    "new_test_degree = grouping_category(unwanted_degree_ls_test, test_df[\"Degree\"], \"Others\" )"
   ]
  },
  {
   "cell_type": "code",
   "execution_count": 87,
   "id": "eead6565",
   "metadata": {
    "execution": {
     "iopub.execute_input": "2025-02-23T20:31:46.726745Z",
     "iopub.status.busy": "2025-02-23T20:31:46.726465Z",
     "iopub.status.idle": "2025-02-23T20:31:46.735280Z",
     "shell.execute_reply": "2025-02-23T20:31:46.734577Z"
    },
    "papermill": {
     "duration": 0.037864,
     "end_time": "2025-02-23T20:31:46.736493",
     "exception": false,
     "start_time": "2025-02-23T20:31:46.698629",
     "status": "completed"
    },
    "tags": []
   },
   "outputs": [
    {
     "data": {
      "text/plain": [
       "0"
      ]
     },
     "execution_count": 87,
     "metadata": {},
     "output_type": "execute_result"
    }
   ],
   "source": [
    "test_df['Degree'].isna().sum()"
   ]
  },
  {
   "cell_type": "code",
   "execution_count": 88,
   "id": "947a2301",
   "metadata": {
    "execution": {
     "iopub.execute_input": "2025-02-23T20:31:46.793641Z",
     "iopub.status.busy": "2025-02-23T20:31:46.793390Z",
     "iopub.status.idle": "2025-02-23T20:31:46.802790Z",
     "shell.execute_reply": "2025-02-23T20:31:46.802142Z"
    },
    "papermill": {
     "duration": 0.039262,
     "end_time": "2025-02-23T20:31:46.803940",
     "exception": false,
     "start_time": "2025-02-23T20:31:46.764678",
     "status": "completed"
    },
    "tags": []
   },
   "outputs": [
    {
     "data": {
      "text/plain": [
       "array(['LLB', 'B.Ed', 'B.Arch', 'BSc', 'BCA', 'B.Com', 'MA', 'BA', 'BBA',\n",
       "       'Class 12', 'MD', 'MBA', 'M.Ed', 'M.Pharm', 'BHM', 'LLM', 'PhD',\n",
       "       'M.Com', 'BE', 'MBBS', 'B.Tech', 'ME', 'MCA', 'B.Pharm', 'MHM',\n",
       "       'M.Tech', 'Others', 'MSc'], dtype=object)"
      ]
     },
     "execution_count": 88,
     "metadata": {},
     "output_type": "execute_result"
    }
   ],
   "source": [
    "test_df[\"Degree\"].unique()"
   ]
  },
  {
   "cell_type": "markdown",
   "id": "5aaaeb7a",
   "metadata": {
    "papermill": {
     "duration": 0.027402,
     "end_time": "2025-02-23T20:31:46.859533",
     "exception": false,
     "start_time": "2025-02-23T20:31:46.832131",
     "status": "completed"
    },
    "tags": []
   },
   "source": [
    "Now that our `OBJECT` data in the train and test set have been cleaned and ordered and it is ready for the categorization "
   ]
  },
  {
   "cell_type": "markdown",
   "id": "3ad7a8c3",
   "metadata": {
    "papermill": {
     "duration": 0.027292,
     "end_time": "2025-02-23T20:31:46.914270",
     "exception": false,
     "start_time": "2025-02-23T20:31:46.886978",
     "status": "completed"
    },
    "tags": []
   },
   "source": [
    "## Train & Test set object sorted"
   ]
  },
  {
   "cell_type": "code",
   "execution_count": 89,
   "id": "a92b19dc",
   "metadata": {
    "execution": {
     "iopub.execute_input": "2025-02-23T20:31:46.971079Z",
     "iopub.status.busy": "2025-02-23T20:31:46.970754Z",
     "iopub.status.idle": "2025-02-23T20:31:47.040929Z",
     "shell.execute_reply": "2025-02-23T20:31:47.039638Z"
    },
    "papermill": {
     "duration": 0.100441,
     "end_time": "2025-02-23T20:31:47.042452",
     "exception": false,
     "start_time": "2025-02-23T20:31:46.942011",
     "status": "completed"
    },
    "tags": []
   },
   "outputs": [
    {
     "name": "stdout",
     "output_type": "stream",
     "text": [
      "<class 'pandas.core.frame.DataFrame'>\n",
      "Index: 140700 entries, 0 to 140699\n",
      "Data columns (total 18 columns):\n",
      " #   Column                                 Non-Null Count   Dtype  \n",
      "---  ------                                 --------------   -----  \n",
      " 0   Gender                                 140700 non-null  object \n",
      " 1   Age                                    140700 non-null  float64\n",
      " 2   City                                   140700 non-null  object \n",
      " 3   Working Professional or Student        140700 non-null  object \n",
      " 4   Profession                             140700 non-null  object \n",
      " 5   Academic Pressure                      27897 non-null   float64\n",
      " 6   Work Pressure                          112782 non-null  float64\n",
      " 7   CGPA                                   27898 non-null   float64\n",
      " 8   Study Satisfaction                     27897 non-null   float64\n",
      " 9   Job Satisfaction                       112790 non-null  float64\n",
      " 10  Sleep Duration                         140700 non-null  object \n",
      " 11  Dietary Habits                         140700 non-null  object \n",
      " 12  Degree                                 140700 non-null  object \n",
      " 13  Have you ever had suicidal thoughts ?  140700 non-null  object \n",
      " 14  Work/Study Hours                       140700 non-null  float64\n",
      " 15  Financial Stress                       140696 non-null  float64\n",
      " 16  Family History of Mental Illness       140700 non-null  object \n",
      " 17  Depression                             140700 non-null  int64  \n",
      "dtypes: float64(8), int64(1), object(9)\n",
      "memory usage: 20.4+ MB\n"
     ]
    }
   ],
   "source": [
    "train_df.info()"
   ]
  },
  {
   "cell_type": "code",
   "execution_count": 90,
   "id": "a4afdfc6",
   "metadata": {
    "execution": {
     "iopub.execute_input": "2025-02-23T20:31:47.099599Z",
     "iopub.status.busy": "2025-02-23T20:31:47.099343Z",
     "iopub.status.idle": "2025-02-23T20:31:47.148595Z",
     "shell.execute_reply": "2025-02-23T20:31:47.147490Z"
    },
    "papermill": {
     "duration": 0.078786,
     "end_time": "2025-02-23T20:31:47.149972",
     "exception": false,
     "start_time": "2025-02-23T20:31:47.071186",
     "status": "completed"
    },
    "tags": []
   },
   "outputs": [
    {
     "name": "stdout",
     "output_type": "stream",
     "text": [
      "<class 'pandas.core.frame.DataFrame'>\n",
      "Index: 93800 entries, 140700 to 234499\n",
      "Data columns (total 17 columns):\n",
      " #   Column                                 Non-Null Count  Dtype  \n",
      "---  ------                                 --------------  -----  \n",
      " 0   Gender                                 93800 non-null  object \n",
      " 1   Age                                    93800 non-null  float64\n",
      " 2   City                                   93800 non-null  object \n",
      " 3   Working Professional or Student        93800 non-null  object \n",
      " 4   Profession                             93800 non-null  object \n",
      " 5   Academic Pressure                      18767 non-null  float64\n",
      " 6   Work Pressure                          75022 non-null  float64\n",
      " 7   CGPA                                   18766 non-null  float64\n",
      " 8   Study Satisfaction                     18767 non-null  float64\n",
      " 9   Job Satisfaction                       75026 non-null  float64\n",
      " 10  Sleep Duration                         93800 non-null  object \n",
      " 11  Dietary Habits                         93800 non-null  object \n",
      " 12  Degree                                 93800 non-null  object \n",
      " 13  Have you ever had suicidal thoughts ?  93800 non-null  object \n",
      " 14  Work/Study Hours                       93800 non-null  float64\n",
      " 15  Financial Stress                       93800 non-null  float64\n",
      " 16  Family History of Mental Illness       93800 non-null  object \n",
      "dtypes: float64(8), object(9)\n",
      "memory usage: 12.9+ MB\n"
     ]
    }
   ],
   "source": [
    "test_df.info()"
   ]
  },
  {
   "cell_type": "markdown",
   "id": "a3e5330d",
   "metadata": {
    "papermill": {
     "duration": 0.027299,
     "end_time": "2025-02-23T20:31:47.205462",
     "exception": false,
     "start_time": "2025-02-23T20:31:47.178163",
     "status": "completed"
    },
    "tags": []
   },
   "source": [
    "## Dealing with numerical datatype"
   ]
  },
  {
   "cell_type": "code",
   "execution_count": 91,
   "id": "774dcd6d",
   "metadata": {
    "execution": {
     "iopub.execute_input": "2025-02-23T20:31:47.261718Z",
     "iopub.status.busy": "2025-02-23T20:31:47.261414Z",
     "iopub.status.idle": "2025-02-23T20:31:47.283535Z",
     "shell.execute_reply": "2025-02-23T20:31:47.282472Z"
    },
    "papermill": {
     "duration": 0.052425,
     "end_time": "2025-02-23T20:31:47.285377",
     "exception": false,
     "start_time": "2025-02-23T20:31:47.232952",
     "status": "completed"
    },
    "tags": []
   },
   "outputs": [
    {
     "name": "stdout",
     "output_type": "stream",
     "text": [
      "         Age  Academic Pressure  Work Pressure  CGPA  Study Satisfaction  \\\n",
      "id                                                                         \n",
      "0       49.0                NaN            5.0   NaN                 NaN   \n",
      "1       26.0                NaN            4.0   NaN                 NaN   \n",
      "2       33.0                5.0            NaN  8.97                 2.0   \n",
      "3       22.0                NaN            5.0   NaN                 NaN   \n",
      "4       30.0                NaN            1.0   NaN                 NaN   \n",
      "...      ...                ...            ...   ...                 ...   \n",
      "140695  18.0                NaN            5.0   NaN                 NaN   \n",
      "140696  41.0                NaN            5.0   NaN                 NaN   \n",
      "140697  24.0                NaN            3.0   NaN                 NaN   \n",
      "140698  49.0                NaN            5.0   NaN                 NaN   \n",
      "140699  27.0                4.0            NaN  9.24                 1.0   \n",
      "\n",
      "        Job Satisfaction  Work/Study Hours  Financial Stress  \n",
      "id                                                            \n",
      "0                    2.0               1.0               2.0  \n",
      "1                    3.0               7.0               3.0  \n",
      "2                    NaN               3.0               1.0  \n",
      "3                    1.0              10.0               1.0  \n",
      "4                    1.0               9.0               4.0  \n",
      "...                  ...               ...               ...  \n",
      "140695               4.0               2.0               4.0  \n",
      "140696               4.0               6.0               5.0  \n",
      "140697               1.0               4.0               4.0  \n",
      "140698               2.0              10.0               1.0  \n",
      "140699               NaN               2.0               3.0  \n",
      "\n",
      "[140700 rows x 8 columns]\n",
      "         Age  Academic Pressure  Work Pressure  CGPA  Study Satisfaction  \\\n",
      "id                                                                         \n",
      "140700  53.0                NaN            2.0   NaN                 NaN   \n",
      "140701  58.0                NaN            2.0   NaN                 NaN   \n",
      "140702  53.0                NaN            4.0   NaN                 NaN   \n",
      "140703  23.0                5.0            NaN  6.84                 1.0   \n",
      "140704  47.0                NaN            5.0   NaN                 NaN   \n",
      "...      ...                ...            ...   ...                 ...   \n",
      "234495  49.0                NaN            3.0   NaN                 NaN   \n",
      "234496  29.0                NaN            5.0   NaN                 NaN   \n",
      "234497  24.0                1.0            NaN  7.51                 4.0   \n",
      "234498  23.0                NaN            4.0   NaN                 NaN   \n",
      "234499  43.0                NaN            5.0   NaN                 NaN   \n",
      "\n",
      "        Job Satisfaction  Work/Study Hours  Financial Stress  \n",
      "id                                                            \n",
      "140700               5.0               9.0               3.0  \n",
      "140701               4.0               6.0               4.0  \n",
      "140702               1.0              12.0               4.0  \n",
      "140703               NaN              10.0               4.0  \n",
      "140704               5.0               3.0               4.0  \n",
      "...                  ...               ...               ...  \n",
      "234495               5.0               2.0               2.0  \n",
      "234496               1.0              11.0               3.0  \n",
      "234497               NaN               7.0               1.0  \n",
      "234498               2.0               7.0               5.0  \n",
      "234499               2.0              11.0               2.0  \n",
      "\n",
      "[93800 rows x 8 columns]\n"
     ]
    },
    {
     "name": "stderr",
     "output_type": "stream",
     "text": [
      "/usr/local/lib/python3.10/dist-packages/pandas/io/formats/format.py:1458: RuntimeWarning: invalid value encountered in greater\n",
      "  has_large_values = (abs_vals > 1e6).any()\n",
      "/usr/local/lib/python3.10/dist-packages/pandas/io/formats/format.py:1459: RuntimeWarning: invalid value encountered in less\n",
      "  has_small_values = ((abs_vals < 10 ** (-self.digits)) & (abs_vals > 0)).any()\n",
      "/usr/local/lib/python3.10/dist-packages/pandas/io/formats/format.py:1459: RuntimeWarning: invalid value encountered in greater\n",
      "  has_small_values = ((abs_vals < 10 ** (-self.digits)) & (abs_vals > 0)).any()\n",
      "/usr/local/lib/python3.10/dist-packages/pandas/io/formats/format.py:1458: RuntimeWarning: invalid value encountered in greater\n",
      "  has_large_values = (abs_vals > 1e6).any()\n",
      "/usr/local/lib/python3.10/dist-packages/pandas/io/formats/format.py:1459: RuntimeWarning: invalid value encountered in less\n",
      "  has_small_values = ((abs_vals < 10 ** (-self.digits)) & (abs_vals > 0)).any()\n",
      "/usr/local/lib/python3.10/dist-packages/pandas/io/formats/format.py:1459: RuntimeWarning: invalid value encountered in greater\n",
      "  has_small_values = ((abs_vals < 10 ** (-self.digits)) & (abs_vals > 0)).any()\n"
     ]
    }
   ],
   "source": [
    "train_num_df = train_df.select_dtypes(include=['number'])\n",
    "train_num_df.drop(columns=['Depression'],inplace=True)\n",
    "print(train_num_df)\n",
    "test_num_df = test_df.select_dtypes(include=['number'])\n",
    "print(test_num_df)"
   ]
  },
  {
   "cell_type": "code",
   "execution_count": 92,
   "id": "6e6eaf01",
   "metadata": {
    "execution": {
     "iopub.execute_input": "2025-02-23T20:31:47.343594Z",
     "iopub.status.busy": "2025-02-23T20:31:47.343284Z",
     "iopub.status.idle": "2025-02-23T20:31:47.363685Z",
     "shell.execute_reply": "2025-02-23T20:31:47.362839Z"
    },
    "papermill": {
     "duration": 0.050396,
     "end_time": "2025-02-23T20:31:47.365014",
     "exception": false,
     "start_time": "2025-02-23T20:31:47.314618",
     "status": "completed"
    },
    "tags": []
   },
   "outputs": [
    {
     "name": "stdout",
     "output_type": "stream",
     "text": [
      "Age                        0\n",
      "Academic Pressure     112803\n",
      "Work Pressure          27918\n",
      "CGPA                  112802\n",
      "Study Satisfaction    112803\n",
      "Job Satisfaction       27910\n",
      "Work/Study Hours           0\n",
      "Financial Stress           4\n",
      "dtype: int64\n",
      "\n",
      "Age                       0\n",
      "Academic Pressure     75033\n",
      "Work Pressure         18778\n",
      "CGPA                  75034\n",
      "Study Satisfaction    75033\n",
      "Job Satisfaction      18774\n",
      "Work/Study Hours          0\n",
      "Financial Stress          0\n",
      "dtype: int64\n"
     ]
    }
   ],
   "source": [
    "print(train_num_df.isna().sum())\n",
    "print()\n",
    "print(test_num_df.isna().sum())"
   ]
  },
  {
   "cell_type": "code",
   "execution_count": 93,
   "id": "5cbc70ec",
   "metadata": {
    "execution": {
     "iopub.execute_input": "2025-02-23T20:31:47.422474Z",
     "iopub.status.busy": "2025-02-23T20:31:47.422164Z",
     "iopub.status.idle": "2025-02-23T20:31:47.455984Z",
     "shell.execute_reply": "2025-02-23T20:31:47.454726Z"
    },
    "papermill": {
     "duration": 0.063897,
     "end_time": "2025-02-23T20:31:47.457334",
     "exception": false,
     "start_time": "2025-02-23T20:31:47.393437",
     "status": "completed"
    },
    "tags": []
   },
   "outputs": [
    {
     "name": "stdout",
     "output_type": "stream",
     "text": [
      "Age columns has [49. 26. 33. 22. 30. 59. 47. 38. 24. 42. 55. 51. 39. 29. 50. 23. 56. 45.\n",
      " 37. 46. 31. 19. 28. 25. 41. 60. 18. 36. 21. 58. 44. 43. 40. 35. 54. 27.\n",
      " 52. 48. 57. 53. 34. 20. 32.] items\n",
      "\n",
      "Academic Pressure columns has [nan  5.  2.  3.  4.  1.] items\n",
      "\n",
      "Work Pressure columns has [ 5.  4. nan  1.  2.  3.] items\n",
      "\n",
      "CGPA columns has [    nan  8.97    5.9     7.03    5.59    8.13    5.7     9.54    8.04\n",
      "  9.79    8.38    6.1     7.04    8.52    5.64    8.58    6.51    7.25\n",
      "  7.83    9.93    8.74    6.73    5.57    8.59    7.1     6.08    5.74\n",
      "  9.86    6.7     6.21    5.87    6.37    9.72    5.88    9.56    6.99\n",
      "  5.24    9.21    7.85    6.95    5.86    7.92    9.66    8.94    9.71\n",
      "  7.87    5.6     7.9     5.46    6.79    8.7     7.38    8.5     7.09\n",
      "  9.82    8.89    7.94    9.11    6.75    7.53    9.49    9.01    7.64\n",
      "  5.27    6.      9.44    5.75    7.51    9.05    6.38    8.95    9.88\n",
      "  5.32    6.27    7.7     8.1     9.59    8.96    5.51    7.43    8.79\n",
      "  9.95    5.37    6.86    8.32    9.74    5.66    7.48    8.23    8.81\n",
      "  6.03    5.56    5.68    5.14    7.61    6.17    8.17    9.87    8.75\n",
      "  6.16    9.5     7.99    5.67    8.92    6.19    5.76    6.25    5.11\n",
      "  5.58    5.65    9.89    8.03    6.61    9.41    8.64    7.21    8.28\n",
      "  6.04    9.13    8.08    9.96    5.12    8.35    7.07    9.6     9.24\n",
      "  8.54    8.78    8.93    8.91    9.04    6.83    5.85    7.74    6.41\n",
      "  8.9     7.75    7.88    5.42    7.52    7.68    8.4     9.39    6.84\n",
      "  5.99    8.62    8.53    7.47    6.78    6.42    9.92    8.39    5.89\n",
      "  7.22    6.81    9.02    9.97    9.63    9.67    5.41    7.27    6.05\n",
      "  6.85    9.33    5.81    6.53    5.98    6.02    6.74    5.26    7.72\n",
      "  7.39    8.43    9.34    5.44    5.82    5.72    8.19    8.44    8.98\n",
      "  9.37    5.8     7.28    7.6     7.91    9.17    7.46    9.43    9.91\n",
      "  9.36    5.16    7.08    9.26    8.83   10.      7.8     9.46    6.63\n",
      "  7.24    6.47    7.77    5.06    7.17    8.24    6.88    9.03    5.08\n",
      "  5.45    8.46    9.19    6.36    8.73    7.11    9.12    9.4     8.11\n",
      "  9.98    5.55    8.61    8.14    6.89    9.84    5.48    8.21    7.82\n",
      "  8.55    5.79    8.77    8.29    6.92    7.37    9.7     6.26    7.26\n",
      "  7.5     6.82    7.15    5.77    5.91    5.1     7.71    9.06    5.71\n",
      "  5.84    9.42    6.23    6.29    5.25    9.69    9.9     6.39    8.09\n",
      "  5.83    5.47    6.56    8.71    9.94    6.69    5.52    7.3     7.02\n",
      "  6.33    8.07    8.37    8.      7.79    8.65    6.28    7.35    8.69\n",
      "  7.12    7.32    7.13    5.97    5.09    6.91    6.76    6.52    7.45\n",
      "  8.56    6.5     8.63    8.27    8.49    6.59    9.29    5.3     7.06\n",
      "  5.38    6.65    9.16    8.01    8.25    8.02    8.47    7.34    8.88\n",
      "  7.14    8.42    5.17    9.1     7.49    9.85    7.42    9.31    6.35\n",
      "  7.      5.39    5.61    9.78    9.25    5.69    9.47    8.16    7.23\n",
      "  6.46    8.26    6.32    6.77    8.85    5.03    7.65    5.78    6.24\n",
      "  5.35    6.06    7.78    6.64    7.0625  6.98    6.44    6.09  ] items\n",
      "\n",
      "Study Satisfaction columns has [nan  2.  5.  3.  4.  1.] items\n",
      "\n",
      "Job Satisfaction columns has [ 2.  3. nan  1.  5.  4.] items\n",
      "\n",
      "Work/Study Hours columns has [ 1.  7.  3. 10.  9.  6.  8.  2.  0.  5. 12.  4. 11.] items\n",
      "\n",
      "Financial Stress columns has [ 2.  3.  1.  4.  5. nan] items\n",
      "\n",
      "####################################################################################################\n",
      "Age columns has [53.   58.   23.   47.   29.   28.   21.   45.   44.   48.   18.   52.\n",
      " 34.   49.   26.   32.   41.   42.   25.   43.   20.   33.   19.   51.\n",
      " 46.   59.   39.   50.   55.   54.   38.   35.   57.   56.   37.   36.\n",
      " 40.   22.   30.   31.   60.   24.   27.   32.08] items\n",
      "\n",
      "Academic Pressure columns has [nan  5.  1.  3.  4.  2.] items\n",
      "\n",
      "Work Pressure columns has [ 2.  4. nan  5.  1.  3.] items\n",
      "\n",
      "CGPA columns has [  nan  6.84  7.39  6.03  8.63  8.61  6.73  5.58  7.94  9.04  9.6   8.91\n",
      "  9.54  8.13  6.16  7.38  7.04  9.41  5.59  9.89  8.7   5.56  6.42  8.07\n",
      "  9.86  9.71  8.93  5.12  7.48  9.74  5.66  6.38  8.59  7.88  9.88  8.9\n",
      "  8.74  7.47  8.94  8.65  5.88  6.1   8.14  8.04  5.75  9.56  7.35  8.78\n",
      "  6.26  7.09  8.24  8.21  9.44  6.37  5.74  7.52  5.87  7.85  5.03  7.5\n",
      "  9.29  8.89  9.93  8.52  7.92  8.19  8.29  6.81  5.08  5.85  7.17  7.51\n",
      "  8.95  5.52  7.7   9.96  7.15  5.16  9.24  9.02  6.21  6.43  8.88  7.53\n",
      "  9.21  7.22  8.09  9.97  8.08  5.09  8.79  8.38  7.64  5.48  8.96  8.17\n",
      "  7.83  5.27  9.1   8.11  7.8   7.9   5.99  7.03  6.89  7.25  9.95  9.63\n",
      "  8.92  5.81  5.82  5.64  5.6   9.33  8.44  9.37  6.78  6.27  8.5   6.47\n",
      "  9.34  8.03  7.1   6.99  5.37  5.41  5.38  5.91  5.11  5.42  5.57  6.02\n",
      "  9.13  5.71 10.    9.67  5.61  8.62  6.28  8.46  9.72  9.05  9.39  7.32\n",
      "  5.46  6.08  7.61  9.94  6.83  6.86  6.25  7.13  7.21  6.88  8.73  5.51\n",
      "  6.61  7.46  7.37  9.42  6.51  9.5   7.06  9.69  8.81  7.77  6.65  5.98\n",
      "  9.19  9.03  5.83  8.42  6.17  8.54  7.87  7.24  9.11  8.28  5.55  9.84\n",
      "  8.58  7.27  9.17  9.91  6.79  5.06  5.1   8.35  6.29  9.12  5.9   6.36\n",
      "  7.74  9.9   6.76  9.25  6.75  9.46  5.69  9.7   5.7   6.04  5.89  5.45\n",
      "  5.84  7.12  6.56  7.3   8.    8.69  7.08  7.91  5.76  5.32  8.32  6.33\n",
      "  5.97  9.31  6.41  6.24  5.47  9.06  8.1   9.98  6.    7.14  9.85  5.86\n",
      "  6.69  6.14  7.82  9.26  7.28  5.68  7.6   7.72  9.79  9.82  9.92  5.79\n",
      "  8.37  8.56  6.52  6.59  5.72  6.85  8.77  8.23  7.07  8.98  7.26  8.47\n",
      "  6.74  7.34  9.4   5.67  7.71  6.72  5.26  6.05  9.87  8.64  5.3   8.97\n",
      "  6.91  8.39  9.08  9.49  6.53  8.49  6.7   5.77  9.43  7.79  9.78  7.02\n",
      "  7.49  7.45  6.92  6.82  8.53  5.44  5.24  9.36  7.75  9.59  8.71  5.39\n",
      "  9.47  7.43  8.43  8.4   8.75  6.63  6.39  5.65  9.66  7.68  5.25  9.16\n",
      "  7.11  8.85  7.99  7.    8.25  9.01  8.83  5.35  5.8   5.36  6.5   8.27\n",
      "  6.32  6.19  6.23  8.55  5.14  5.17  8.16  6.35  6.46  5.5   6.95  8.01\n",
      "  6.09  5.92  5.78] items\n",
      "\n",
      "Study Satisfaction columns has [nan  1.  3.  5.  2.  4.] items\n",
      "\n",
      "Job Satisfaction columns has [ 5.  4.  1. nan  3.  2.] items\n",
      "\n",
      "Work/Study Hours columns has [ 9.  6. 12. 10.  3.  0.  8.  5.  4. 11.  7.  1.  2.] items\n",
      "\n",
      "Financial Stress columns has [3. 4. 2. 1. 5.] items\n",
      "\n"
     ]
    }
   ],
   "source": [
    "# train set loop \n",
    "for i in train_num_df.columns:\n",
    "    print(f\"{i} columns has {train_num_df[i].unique()} items\")\n",
    "    print()\n",
    "\n",
    "print('#'*100)\n",
    "\n",
    "# test set loop \n",
    "for i in test_num_df.columns:\n",
    "    print(f\"{i} columns has {test_num_df[i].unique()} items\")\n",
    "    print()"
   ]
  },
  {
   "cell_type": "markdown",
   "id": "a20bd9bf",
   "metadata": {
    "papermill": {
     "duration": 0.027612,
     "end_time": "2025-02-23T20:31:47.513125",
     "exception": false,
     "start_time": "2025-02-23T20:31:47.485513",
     "status": "completed"
    },
    "tags": []
   },
   "source": [
    "In this we can understand that if we could change the null values into `0` then the data would make some sense"
   ]
  },
  {
   "cell_type": "code",
   "execution_count": 94,
   "id": "0678e042",
   "metadata": {
    "execution": {
     "iopub.execute_input": "2025-02-23T20:31:47.569557Z",
     "iopub.status.busy": "2025-02-23T20:31:47.569250Z",
     "iopub.status.idle": "2025-02-23T20:31:47.587516Z",
     "shell.execute_reply": "2025-02-23T20:31:47.586163Z"
    },
    "papermill": {
     "duration": 0.048424,
     "end_time": "2025-02-23T20:31:47.589262",
     "exception": false,
     "start_time": "2025-02-23T20:31:47.540838",
     "status": "completed"
    },
    "tags": []
   },
   "outputs": [],
   "source": [
    "train_num_df = train_num_df.fillna(0)\n",
    "test_num_df = test_num_df.fillna(0)"
   ]
  },
  {
   "cell_type": "code",
   "execution_count": 95,
   "id": "6b8d60ae",
   "metadata": {
    "execution": {
     "iopub.execute_input": "2025-02-23T20:31:47.650215Z",
     "iopub.status.busy": "2025-02-23T20:31:47.649877Z",
     "iopub.status.idle": "2025-02-23T20:31:47.668428Z",
     "shell.execute_reply": "2025-02-23T20:31:47.667490Z"
    },
    "papermill": {
     "duration": 0.04881,
     "end_time": "2025-02-23T20:31:47.669858",
     "exception": false,
     "start_time": "2025-02-23T20:31:47.621048",
     "status": "completed"
    },
    "tags": []
   },
   "outputs": [
    {
     "name": "stdout",
     "output_type": "stream",
     "text": [
      "<class 'pandas.core.frame.DataFrame'>\n",
      "Index: 140700 entries, 0 to 140699\n",
      "Data columns (total 8 columns):\n",
      " #   Column              Non-Null Count   Dtype  \n",
      "---  ------              --------------   -----  \n",
      " 0   Age                 140700 non-null  float64\n",
      " 1   Academic Pressure   140700 non-null  float64\n",
      " 2   Work Pressure       140700 non-null  float64\n",
      " 3   CGPA                140700 non-null  float64\n",
      " 4   Study Satisfaction  140700 non-null  float64\n",
      " 5   Job Satisfaction    140700 non-null  float64\n",
      " 6   Work/Study Hours    140700 non-null  float64\n",
      " 7   Financial Stress    140700 non-null  float64\n",
      "dtypes: float64(8)\n",
      "memory usage: 9.7 MB\n",
      "None\n",
      "<class 'pandas.core.frame.DataFrame'>\n",
      "Index: 93800 entries, 140700 to 234499\n",
      "Data columns (total 8 columns):\n",
      " #   Column              Non-Null Count  Dtype  \n",
      "---  ------              --------------  -----  \n",
      " 0   Age                 93800 non-null  float64\n",
      " 1   Academic Pressure   93800 non-null  float64\n",
      " 2   Work Pressure       93800 non-null  float64\n",
      " 3   CGPA                93800 non-null  float64\n",
      " 4   Study Satisfaction  93800 non-null  float64\n",
      " 5   Job Satisfaction    93800 non-null  float64\n",
      " 6   Work/Study Hours    93800 non-null  float64\n",
      " 7   Financial Stress    93800 non-null  float64\n",
      "dtypes: float64(8)\n",
      "memory usage: 6.4 MB\n",
      "None\n"
     ]
    }
   ],
   "source": [
    "print(train_num_df.info())\n",
    "print(test_num_df.info())"
   ]
  },
  {
   "cell_type": "code",
   "execution_count": 96,
   "id": "6db641a4",
   "metadata": {
    "execution": {
     "iopub.execute_input": "2025-02-23T20:31:47.750647Z",
     "iopub.status.busy": "2025-02-23T20:31:47.750235Z",
     "iopub.status.idle": "2025-02-23T20:31:47.777695Z",
     "shell.execute_reply": "2025-02-23T20:31:47.776844Z"
    },
    "papermill": {
     "duration": 0.075966,
     "end_time": "2025-02-23T20:31:47.779023",
     "exception": false,
     "start_time": "2025-02-23T20:31:47.703057",
     "status": "completed"
    },
    "tags": []
   },
   "outputs": [
    {
     "data": {
      "text/html": [
       "<div>\n",
       "<style scoped>\n",
       "    .dataframe tbody tr th:only-of-type {\n",
       "        vertical-align: middle;\n",
       "    }\n",
       "\n",
       "    .dataframe tbody tr th {\n",
       "        vertical-align: top;\n",
       "    }\n",
       "\n",
       "    .dataframe thead th {\n",
       "        text-align: right;\n",
       "    }\n",
       "</style>\n",
       "<table border=\"1\" class=\"dataframe\">\n",
       "  <thead>\n",
       "    <tr style=\"text-align: right;\">\n",
       "      <th></th>\n",
       "      <th>Gender</th>\n",
       "      <th>Age</th>\n",
       "      <th>City</th>\n",
       "      <th>Working Professional or Student</th>\n",
       "      <th>Profession</th>\n",
       "      <th>Academic Pressure</th>\n",
       "      <th>Work Pressure</th>\n",
       "      <th>CGPA</th>\n",
       "      <th>Study Satisfaction</th>\n",
       "      <th>Job Satisfaction</th>\n",
       "      <th>Sleep Duration</th>\n",
       "      <th>Dietary Habits</th>\n",
       "      <th>Degree</th>\n",
       "      <th>Have you ever had suicidal thoughts ?</th>\n",
       "      <th>Work/Study Hours</th>\n",
       "      <th>Financial Stress</th>\n",
       "      <th>Family History of Mental Illness</th>\n",
       "      <th>Depression</th>\n",
       "    </tr>\n",
       "    <tr>\n",
       "      <th>id</th>\n",
       "      <th></th>\n",
       "      <th></th>\n",
       "      <th></th>\n",
       "      <th></th>\n",
       "      <th></th>\n",
       "      <th></th>\n",
       "      <th></th>\n",
       "      <th></th>\n",
       "      <th></th>\n",
       "      <th></th>\n",
       "      <th></th>\n",
       "      <th></th>\n",
       "      <th></th>\n",
       "      <th></th>\n",
       "      <th></th>\n",
       "      <th></th>\n",
       "      <th></th>\n",
       "      <th></th>\n",
       "    </tr>\n",
       "  </thead>\n",
       "  <tbody>\n",
       "    <tr>\n",
       "      <th>140695</th>\n",
       "      <td>Female</td>\n",
       "      <td>18.0</td>\n",
       "      <td>Ahmedabad</td>\n",
       "      <td>Working Professional</td>\n",
       "      <td>Unemployed</td>\n",
       "      <td>0.0</td>\n",
       "      <td>5.0</td>\n",
       "      <td>0.00</td>\n",
       "      <td>0.0</td>\n",
       "      <td>4.0</td>\n",
       "      <td>5-6 hours</td>\n",
       "      <td>Unhealthy</td>\n",
       "      <td>Class 12</td>\n",
       "      <td>No</td>\n",
       "      <td>2.0</td>\n",
       "      <td>4.0</td>\n",
       "      <td>Yes</td>\n",
       "      <td>1</td>\n",
       "    </tr>\n",
       "    <tr>\n",
       "      <th>140696</th>\n",
       "      <td>Female</td>\n",
       "      <td>41.0</td>\n",
       "      <td>Hyderabad</td>\n",
       "      <td>Working Professional</td>\n",
       "      <td>Content Writer</td>\n",
       "      <td>0.0</td>\n",
       "      <td>5.0</td>\n",
       "      <td>0.00</td>\n",
       "      <td>0.0</td>\n",
       "      <td>4.0</td>\n",
       "      <td>7-8 hours</td>\n",
       "      <td>Moderate</td>\n",
       "      <td>B.Tech</td>\n",
       "      <td>Yes</td>\n",
       "      <td>6.0</td>\n",
       "      <td>5.0</td>\n",
       "      <td>Yes</td>\n",
       "      <td>0</td>\n",
       "    </tr>\n",
       "    <tr>\n",
       "      <th>140697</th>\n",
       "      <td>Female</td>\n",
       "      <td>24.0</td>\n",
       "      <td>Kolkata</td>\n",
       "      <td>Working Professional</td>\n",
       "      <td>Marketing Manager</td>\n",
       "      <td>0.0</td>\n",
       "      <td>3.0</td>\n",
       "      <td>0.00</td>\n",
       "      <td>0.0</td>\n",
       "      <td>1.0</td>\n",
       "      <td>More than 8 hours</td>\n",
       "      <td>Moderate</td>\n",
       "      <td>B.Com</td>\n",
       "      <td>No</td>\n",
       "      <td>4.0</td>\n",
       "      <td>4.0</td>\n",
       "      <td>No</td>\n",
       "      <td>0</td>\n",
       "    </tr>\n",
       "    <tr>\n",
       "      <th>140698</th>\n",
       "      <td>Female</td>\n",
       "      <td>49.0</td>\n",
       "      <td>Srinagar</td>\n",
       "      <td>Working Professional</td>\n",
       "      <td>Plumber</td>\n",
       "      <td>0.0</td>\n",
       "      <td>5.0</td>\n",
       "      <td>0.00</td>\n",
       "      <td>0.0</td>\n",
       "      <td>2.0</td>\n",
       "      <td>5-6 hours</td>\n",
       "      <td>Moderate</td>\n",
       "      <td>ME</td>\n",
       "      <td>Yes</td>\n",
       "      <td>10.0</td>\n",
       "      <td>1.0</td>\n",
       "      <td>No</td>\n",
       "      <td>0</td>\n",
       "    </tr>\n",
       "    <tr>\n",
       "      <th>140699</th>\n",
       "      <td>Male</td>\n",
       "      <td>27.0</td>\n",
       "      <td>Patna</td>\n",
       "      <td>Student</td>\n",
       "      <td>Student</td>\n",
       "      <td>4.0</td>\n",
       "      <td>0.0</td>\n",
       "      <td>9.24</td>\n",
       "      <td>1.0</td>\n",
       "      <td>0.0</td>\n",
       "      <td>Less than 5 hours</td>\n",
       "      <td>Healthy</td>\n",
       "      <td>BCA</td>\n",
       "      <td>Yes</td>\n",
       "      <td>2.0</td>\n",
       "      <td>3.0</td>\n",
       "      <td>Yes</td>\n",
       "      <td>1</td>\n",
       "    </tr>\n",
       "  </tbody>\n",
       "</table>\n",
       "</div>"
      ],
      "text/plain": [
       "        Gender   Age       City Working Professional or Student  \\\n",
       "id                                                                \n",
       "140695  Female  18.0  Ahmedabad            Working Professional   \n",
       "140696  Female  41.0  Hyderabad            Working Professional   \n",
       "140697  Female  24.0    Kolkata            Working Professional   \n",
       "140698  Female  49.0   Srinagar            Working Professional   \n",
       "140699    Male  27.0      Patna                         Student   \n",
       "\n",
       "               Profession  Academic Pressure  Work Pressure  CGPA  \\\n",
       "id                                                                  \n",
       "140695         Unemployed                0.0            5.0  0.00   \n",
       "140696     Content Writer                0.0            5.0  0.00   \n",
       "140697  Marketing Manager                0.0            3.0  0.00   \n",
       "140698            Plumber                0.0            5.0  0.00   \n",
       "140699            Student                4.0            0.0  9.24   \n",
       "\n",
       "        Study Satisfaction  Job Satisfaction     Sleep Duration  \\\n",
       "id                                                                \n",
       "140695                 0.0               4.0          5-6 hours   \n",
       "140696                 0.0               4.0          7-8 hours   \n",
       "140697                 0.0               1.0  More than 8 hours   \n",
       "140698                 0.0               2.0          5-6 hours   \n",
       "140699                 1.0               0.0  Less than 5 hours   \n",
       "\n",
       "       Dietary Habits    Degree Have you ever had suicidal thoughts ?  \\\n",
       "id                                                                      \n",
       "140695      Unhealthy  Class 12                                    No   \n",
       "140696       Moderate    B.Tech                                   Yes   \n",
       "140697       Moderate     B.Com                                    No   \n",
       "140698       Moderate        ME                                   Yes   \n",
       "140699        Healthy       BCA                                   Yes   \n",
       "\n",
       "        Work/Study Hours  Financial Stress Family History of Mental Illness  \\\n",
       "id                                                                            \n",
       "140695               2.0               4.0                              Yes   \n",
       "140696               6.0               5.0                              Yes   \n",
       "140697               4.0               4.0                               No   \n",
       "140698              10.0               1.0                               No   \n",
       "140699               2.0               3.0                              Yes   \n",
       "\n",
       "        Depression  \n",
       "id                  \n",
       "140695           1  \n",
       "140696           0  \n",
       "140697           0  \n",
       "140698           0  \n",
       "140699           1  "
      ]
     },
     "execution_count": 96,
     "metadata": {},
     "output_type": "execute_result"
    }
   ],
   "source": [
    "train_df[['Age','Academic Pressure', 'Work Pressure', 'CGPA', \n",
    "        'Study Satisfaction','Job Satisfaction', \n",
    "          'Work/Study Hours', 'Financial Stress']] = train_num_df[['Age','Academic Pressure', \n",
    "                                                                  'Work Pressure', 'CGPA', \n",
    "                                                                  'Study Satisfaction','Job Satisfaction', 'Work/Study Hours', \n",
    "                                                                  'Financial Stress']]\n",
    "\n",
    "train_df.tail(5)"
   ]
  },
  {
   "cell_type": "code",
   "execution_count": 97,
   "id": "f8f5233c",
   "metadata": {
    "execution": {
     "iopub.execute_input": "2025-02-23T20:31:47.837095Z",
     "iopub.status.busy": "2025-02-23T20:31:47.836790Z",
     "iopub.status.idle": "2025-02-23T20:31:47.856956Z",
     "shell.execute_reply": "2025-02-23T20:31:47.856136Z"
    },
    "papermill": {
     "duration": 0.05034,
     "end_time": "2025-02-23T20:31:47.858328",
     "exception": false,
     "start_time": "2025-02-23T20:31:47.807988",
     "status": "completed"
    },
    "tags": []
   },
   "outputs": [
    {
     "data": {
      "text/html": [
       "<div>\n",
       "<style scoped>\n",
       "    .dataframe tbody tr th:only-of-type {\n",
       "        vertical-align: middle;\n",
       "    }\n",
       "\n",
       "    .dataframe tbody tr th {\n",
       "        vertical-align: top;\n",
       "    }\n",
       "\n",
       "    .dataframe thead th {\n",
       "        text-align: right;\n",
       "    }\n",
       "</style>\n",
       "<table border=\"1\" class=\"dataframe\">\n",
       "  <thead>\n",
       "    <tr style=\"text-align: right;\">\n",
       "      <th></th>\n",
       "      <th>Gender</th>\n",
       "      <th>Age</th>\n",
       "      <th>City</th>\n",
       "      <th>Working Professional or Student</th>\n",
       "      <th>Profession</th>\n",
       "      <th>Academic Pressure</th>\n",
       "      <th>Work Pressure</th>\n",
       "      <th>CGPA</th>\n",
       "      <th>Study Satisfaction</th>\n",
       "      <th>Job Satisfaction</th>\n",
       "      <th>Sleep Duration</th>\n",
       "      <th>Dietary Habits</th>\n",
       "      <th>Degree</th>\n",
       "      <th>Have you ever had suicidal thoughts ?</th>\n",
       "      <th>Work/Study Hours</th>\n",
       "      <th>Financial Stress</th>\n",
       "      <th>Family History of Mental Illness</th>\n",
       "    </tr>\n",
       "    <tr>\n",
       "      <th>id</th>\n",
       "      <th></th>\n",
       "      <th></th>\n",
       "      <th></th>\n",
       "      <th></th>\n",
       "      <th></th>\n",
       "      <th></th>\n",
       "      <th></th>\n",
       "      <th></th>\n",
       "      <th></th>\n",
       "      <th></th>\n",
       "      <th></th>\n",
       "      <th></th>\n",
       "      <th></th>\n",
       "      <th></th>\n",
       "      <th></th>\n",
       "      <th></th>\n",
       "      <th></th>\n",
       "    </tr>\n",
       "  </thead>\n",
       "  <tbody>\n",
       "    <tr>\n",
       "      <th>140700</th>\n",
       "      <td>Male</td>\n",
       "      <td>53.0</td>\n",
       "      <td>Visakhapatnam</td>\n",
       "      <td>Working Professional</td>\n",
       "      <td>Judge</td>\n",
       "      <td>0.0</td>\n",
       "      <td>2.0</td>\n",
       "      <td>0.00</td>\n",
       "      <td>0.0</td>\n",
       "      <td>5.0</td>\n",
       "      <td>Less than 5 hours</td>\n",
       "      <td>Moderate</td>\n",
       "      <td>LLB</td>\n",
       "      <td>No</td>\n",
       "      <td>9.0</td>\n",
       "      <td>3.0</td>\n",
       "      <td>Yes</td>\n",
       "    </tr>\n",
       "    <tr>\n",
       "      <th>140701</th>\n",
       "      <td>Female</td>\n",
       "      <td>58.0</td>\n",
       "      <td>Kolkata</td>\n",
       "      <td>Working Professional</td>\n",
       "      <td>Educational Consultant</td>\n",
       "      <td>0.0</td>\n",
       "      <td>2.0</td>\n",
       "      <td>0.00</td>\n",
       "      <td>0.0</td>\n",
       "      <td>4.0</td>\n",
       "      <td>Less than 5 hours</td>\n",
       "      <td>Moderate</td>\n",
       "      <td>B.Ed</td>\n",
       "      <td>No</td>\n",
       "      <td>6.0</td>\n",
       "      <td>4.0</td>\n",
       "      <td>No</td>\n",
       "    </tr>\n",
       "    <tr>\n",
       "      <th>140702</th>\n",
       "      <td>Male</td>\n",
       "      <td>53.0</td>\n",
       "      <td>Jaipur</td>\n",
       "      <td>Working Professional</td>\n",
       "      <td>Teacher</td>\n",
       "      <td>0.0</td>\n",
       "      <td>4.0</td>\n",
       "      <td>0.00</td>\n",
       "      <td>0.0</td>\n",
       "      <td>1.0</td>\n",
       "      <td>7-8 hours</td>\n",
       "      <td>Moderate</td>\n",
       "      <td>B.Arch</td>\n",
       "      <td>Yes</td>\n",
       "      <td>12.0</td>\n",
       "      <td>4.0</td>\n",
       "      <td>No</td>\n",
       "    </tr>\n",
       "    <tr>\n",
       "      <th>140703</th>\n",
       "      <td>Female</td>\n",
       "      <td>23.0</td>\n",
       "      <td>Rajkot</td>\n",
       "      <td>Student</td>\n",
       "      <td>Student</td>\n",
       "      <td>5.0</td>\n",
       "      <td>0.0</td>\n",
       "      <td>6.84</td>\n",
       "      <td>1.0</td>\n",
       "      <td>0.0</td>\n",
       "      <td>More than 8 hours</td>\n",
       "      <td>Moderate</td>\n",
       "      <td>BSc</td>\n",
       "      <td>Yes</td>\n",
       "      <td>10.0</td>\n",
       "      <td>4.0</td>\n",
       "      <td>No</td>\n",
       "    </tr>\n",
       "    <tr>\n",
       "      <th>140704</th>\n",
       "      <td>Male</td>\n",
       "      <td>47.0</td>\n",
       "      <td>Kalyan</td>\n",
       "      <td>Working Professional</td>\n",
       "      <td>Teacher</td>\n",
       "      <td>0.0</td>\n",
       "      <td>5.0</td>\n",
       "      <td>0.00</td>\n",
       "      <td>0.0</td>\n",
       "      <td>5.0</td>\n",
       "      <td>7-8 hours</td>\n",
       "      <td>Moderate</td>\n",
       "      <td>BCA</td>\n",
       "      <td>Yes</td>\n",
       "      <td>3.0</td>\n",
       "      <td>4.0</td>\n",
       "      <td>No</td>\n",
       "    </tr>\n",
       "  </tbody>\n",
       "</table>\n",
       "</div>"
      ],
      "text/plain": [
       "        Gender   Age           City Working Professional or Student  \\\n",
       "id                                                                    \n",
       "140700    Male  53.0  Visakhapatnam            Working Professional   \n",
       "140701  Female  58.0        Kolkata            Working Professional   \n",
       "140702    Male  53.0         Jaipur            Working Professional   \n",
       "140703  Female  23.0         Rajkot                         Student   \n",
       "140704    Male  47.0         Kalyan            Working Professional   \n",
       "\n",
       "                    Profession  Academic Pressure  Work Pressure  CGPA  \\\n",
       "id                                                                       \n",
       "140700                   Judge                0.0            2.0  0.00   \n",
       "140701  Educational Consultant                0.0            2.0  0.00   \n",
       "140702                 Teacher                0.0            4.0  0.00   \n",
       "140703                 Student                5.0            0.0  6.84   \n",
       "140704                 Teacher                0.0            5.0  0.00   \n",
       "\n",
       "        Study Satisfaction  Job Satisfaction     Sleep Duration  \\\n",
       "id                                                                \n",
       "140700                 0.0               5.0  Less than 5 hours   \n",
       "140701                 0.0               4.0  Less than 5 hours   \n",
       "140702                 0.0               1.0          7-8 hours   \n",
       "140703                 1.0               0.0  More than 8 hours   \n",
       "140704                 0.0               5.0          7-8 hours   \n",
       "\n",
       "       Dietary Habits  Degree Have you ever had suicidal thoughts ?  \\\n",
       "id                                                                    \n",
       "140700       Moderate     LLB                                    No   \n",
       "140701       Moderate    B.Ed                                    No   \n",
       "140702       Moderate  B.Arch                                   Yes   \n",
       "140703       Moderate     BSc                                   Yes   \n",
       "140704       Moderate     BCA                                   Yes   \n",
       "\n",
       "        Work/Study Hours  Financial Stress Family History of Mental Illness  \n",
       "id                                                                           \n",
       "140700               9.0               3.0                              Yes  \n",
       "140701               6.0               4.0                               No  \n",
       "140702              12.0               4.0                               No  \n",
       "140703              10.0               4.0                               No  \n",
       "140704               3.0               4.0                               No  "
      ]
     },
     "execution_count": 97,
     "metadata": {},
     "output_type": "execute_result"
    }
   ],
   "source": [
    "test_df[['Age','Academic Pressure', 'Work Pressure', 'CGPA', \n",
    "        'Study Satisfaction','Job Satisfaction', \n",
    "          'Work/Study Hours', 'Financial Stress']] = test_num_df[['Age','Academic Pressure', \n",
    "                                                                  'Work Pressure', 'CGPA', \n",
    "                                                                  'Study Satisfaction','Job Satisfaction', 'Work/Study Hours', \n",
    "                                                                  'Financial Stress']]\n",
    "\n",
    "test_df.head(5)"
   ]
  },
  {
   "cell_type": "code",
   "execution_count": 98,
   "id": "3844ee1a",
   "metadata": {
    "execution": {
     "iopub.execute_input": "2025-02-23T20:31:47.918271Z",
     "iopub.status.busy": "2025-02-23T20:31:47.917798Z",
     "iopub.status.idle": "2025-02-23T20:31:49.387519Z",
     "shell.execute_reply": "2025-02-23T20:31:49.386819Z"
    },
    "papermill": {
     "duration": 1.50078,
     "end_time": "2025-02-23T20:31:49.389125",
     "exception": false,
     "start_time": "2025-02-23T20:31:47.888345",
     "status": "completed"
    },
    "tags": []
   },
   "outputs": [],
   "source": [
    "train_df.to_csv(\"Cleaned_train_set.csv\")\n",
    "test_df.to_csv(\"Cleaned_test_set.csv\")"
   ]
  },
  {
   "cell_type": "markdown",
   "id": "deb46fc2",
   "metadata": {
    "papermill": {
     "duration": 0.028322,
     "end_time": "2025-02-23T20:31:49.446923",
     "exception": false,
     "start_time": "2025-02-23T20:31:49.418601",
     "status": "completed"
    },
    "tags": []
   },
   "source": [
    "## Categorizing Object to numericals (Label Encoding)"
   ]
  },
  {
   "cell_type": "code",
   "execution_count": 99,
   "id": "70c1ab2e",
   "metadata": {
    "execution": {
     "iopub.execute_input": "2025-02-23T20:31:49.505165Z",
     "iopub.status.busy": "2025-02-23T20:31:49.504820Z",
     "iopub.status.idle": "2025-02-23T20:31:49.570130Z",
     "shell.execute_reply": "2025-02-23T20:31:49.569171Z"
    },
    "papermill": {
     "duration": 0.0962,
     "end_time": "2025-02-23T20:31:49.571509",
     "exception": false,
     "start_time": "2025-02-23T20:31:49.475309",
     "status": "completed"
    },
    "tags": []
   },
   "outputs": [
    {
     "data": {
      "text/html": [
       "<div>\n",
       "<style scoped>\n",
       "    .dataframe tbody tr th:only-of-type {\n",
       "        vertical-align: middle;\n",
       "    }\n",
       "\n",
       "    .dataframe tbody tr th {\n",
       "        vertical-align: top;\n",
       "    }\n",
       "\n",
       "    .dataframe thead th {\n",
       "        text-align: right;\n",
       "    }\n",
       "</style>\n",
       "<table border=\"1\" class=\"dataframe\">\n",
       "  <thead>\n",
       "    <tr style=\"text-align: right;\">\n",
       "      <th></th>\n",
       "      <th>Gender</th>\n",
       "      <th>City</th>\n",
       "      <th>Working Professional or Student</th>\n",
       "      <th>Profession</th>\n",
       "      <th>Sleep Duration</th>\n",
       "      <th>Dietary Habits</th>\n",
       "      <th>Degree</th>\n",
       "      <th>Have you ever had suicidal thoughts ?</th>\n",
       "      <th>Family History of Mental Illness</th>\n",
       "    </tr>\n",
       "    <tr>\n",
       "      <th>id</th>\n",
       "      <th></th>\n",
       "      <th></th>\n",
       "      <th></th>\n",
       "      <th></th>\n",
       "      <th></th>\n",
       "      <th></th>\n",
       "      <th></th>\n",
       "      <th></th>\n",
       "      <th></th>\n",
       "    </tr>\n",
       "  </thead>\n",
       "  <tbody>\n",
       "    <tr>\n",
       "      <th>140700</th>\n",
       "      <td>Male</td>\n",
       "      <td>Visakhapatnam</td>\n",
       "      <td>Working Professional</td>\n",
       "      <td>Judge</td>\n",
       "      <td>Less than 5 hours</td>\n",
       "      <td>Moderate</td>\n",
       "      <td>LLB</td>\n",
       "      <td>No</td>\n",
       "      <td>Yes</td>\n",
       "    </tr>\n",
       "    <tr>\n",
       "      <th>140701</th>\n",
       "      <td>Female</td>\n",
       "      <td>Kolkata</td>\n",
       "      <td>Working Professional</td>\n",
       "      <td>Educational Consultant</td>\n",
       "      <td>Less than 5 hours</td>\n",
       "      <td>Moderate</td>\n",
       "      <td>B.Ed</td>\n",
       "      <td>No</td>\n",
       "      <td>No</td>\n",
       "    </tr>\n",
       "    <tr>\n",
       "      <th>140702</th>\n",
       "      <td>Male</td>\n",
       "      <td>Jaipur</td>\n",
       "      <td>Working Professional</td>\n",
       "      <td>Teacher</td>\n",
       "      <td>7-8 hours</td>\n",
       "      <td>Moderate</td>\n",
       "      <td>B.Arch</td>\n",
       "      <td>Yes</td>\n",
       "      <td>No</td>\n",
       "    </tr>\n",
       "    <tr>\n",
       "      <th>140703</th>\n",
       "      <td>Female</td>\n",
       "      <td>Rajkot</td>\n",
       "      <td>Student</td>\n",
       "      <td>Student</td>\n",
       "      <td>More than 8 hours</td>\n",
       "      <td>Moderate</td>\n",
       "      <td>BSc</td>\n",
       "      <td>Yes</td>\n",
       "      <td>No</td>\n",
       "    </tr>\n",
       "    <tr>\n",
       "      <th>140704</th>\n",
       "      <td>Male</td>\n",
       "      <td>Kalyan</td>\n",
       "      <td>Working Professional</td>\n",
       "      <td>Teacher</td>\n",
       "      <td>7-8 hours</td>\n",
       "      <td>Moderate</td>\n",
       "      <td>BCA</td>\n",
       "      <td>Yes</td>\n",
       "      <td>No</td>\n",
       "    </tr>\n",
       "    <tr>\n",
       "      <th>...</th>\n",
       "      <td>...</td>\n",
       "      <td>...</td>\n",
       "      <td>...</td>\n",
       "      <td>...</td>\n",
       "      <td>...</td>\n",
       "      <td>...</td>\n",
       "      <td>...</td>\n",
       "      <td>...</td>\n",
       "      <td>...</td>\n",
       "    </tr>\n",
       "    <tr>\n",
       "      <th>234495</th>\n",
       "      <td>Female</td>\n",
       "      <td>Jaipur</td>\n",
       "      <td>Working Professional</td>\n",
       "      <td>Pilot</td>\n",
       "      <td>Less than 5 hours</td>\n",
       "      <td>Moderate</td>\n",
       "      <td>BSc</td>\n",
       "      <td>Yes</td>\n",
       "      <td>Yes</td>\n",
       "    </tr>\n",
       "    <tr>\n",
       "      <th>234496</th>\n",
       "      <td>Male</td>\n",
       "      <td>Ahmedabad</td>\n",
       "      <td>Working Professional</td>\n",
       "      <td>Pilot</td>\n",
       "      <td>7-8 hours</td>\n",
       "      <td>Moderate</td>\n",
       "      <td>BE</td>\n",
       "      <td>Yes</td>\n",
       "      <td>Yes</td>\n",
       "    </tr>\n",
       "    <tr>\n",
       "      <th>234497</th>\n",
       "      <td>Male</td>\n",
       "      <td>Visakhapatnam</td>\n",
       "      <td>Student</td>\n",
       "      <td>Student</td>\n",
       "      <td>7-8 hours</td>\n",
       "      <td>Moderate</td>\n",
       "      <td>B.Tech</td>\n",
       "      <td>No</td>\n",
       "      <td>No</td>\n",
       "    </tr>\n",
       "    <tr>\n",
       "      <th>234498</th>\n",
       "      <td>Female</td>\n",
       "      <td>Kalyan</td>\n",
       "      <td>Working Professional</td>\n",
       "      <td>Marketing Manager</td>\n",
       "      <td>5-6 hours</td>\n",
       "      <td>Healthy</td>\n",
       "      <td>BA</td>\n",
       "      <td>Yes</td>\n",
       "      <td>Yes</td>\n",
       "    </tr>\n",
       "    <tr>\n",
       "      <th>234499</th>\n",
       "      <td>Female</td>\n",
       "      <td>Varanasi</td>\n",
       "      <td>Working Professional</td>\n",
       "      <td>Educational Consultant</td>\n",
       "      <td>More than 8 hours</td>\n",
       "      <td>Healthy</td>\n",
       "      <td>B.Ed</td>\n",
       "      <td>No</td>\n",
       "      <td>No</td>\n",
       "    </tr>\n",
       "  </tbody>\n",
       "</table>\n",
       "<p>93800 rows × 9 columns</p>\n",
       "</div>"
      ],
      "text/plain": [
       "        Gender           City Working Professional or Student  \\\n",
       "id                                                              \n",
       "140700    Male  Visakhapatnam            Working Professional   \n",
       "140701  Female        Kolkata            Working Professional   \n",
       "140702    Male         Jaipur            Working Professional   \n",
       "140703  Female         Rajkot                         Student   \n",
       "140704    Male         Kalyan            Working Professional   \n",
       "...        ...            ...                             ...   \n",
       "234495  Female         Jaipur            Working Professional   \n",
       "234496    Male      Ahmedabad            Working Professional   \n",
       "234497    Male  Visakhapatnam                         Student   \n",
       "234498  Female         Kalyan            Working Professional   \n",
       "234499  Female       Varanasi            Working Professional   \n",
       "\n",
       "                    Profession     Sleep Duration Dietary Habits  Degree  \\\n",
       "id                                                                         \n",
       "140700                   Judge  Less than 5 hours       Moderate     LLB   \n",
       "140701  Educational Consultant  Less than 5 hours       Moderate    B.Ed   \n",
       "140702                 Teacher          7-8 hours       Moderate  B.Arch   \n",
       "140703                 Student  More than 8 hours       Moderate     BSc   \n",
       "140704                 Teacher          7-8 hours       Moderate     BCA   \n",
       "...                        ...                ...            ...     ...   \n",
       "234495                   Pilot  Less than 5 hours       Moderate     BSc   \n",
       "234496                   Pilot          7-8 hours       Moderate      BE   \n",
       "234497                 Student          7-8 hours       Moderate  B.Tech   \n",
       "234498       Marketing Manager          5-6 hours        Healthy      BA   \n",
       "234499  Educational Consultant  More than 8 hours        Healthy    B.Ed   \n",
       "\n",
       "       Have you ever had suicidal thoughts ? Family History of Mental Illness  \n",
       "id                                                                             \n",
       "140700                                    No                              Yes  \n",
       "140701                                    No                               No  \n",
       "140702                                   Yes                               No  \n",
       "140703                                   Yes                               No  \n",
       "140704                                   Yes                               No  \n",
       "...                                      ...                              ...  \n",
       "234495                                   Yes                              Yes  \n",
       "234496                                   Yes                              Yes  \n",
       "234497                                    No                               No  \n",
       "234498                                   Yes                              Yes  \n",
       "234499                                    No                               No  \n",
       "\n",
       "[93800 rows x 9 columns]"
      ]
     },
     "execution_count": 99,
     "metadata": {},
     "output_type": "execute_result"
    }
   ],
   "source": [
    "train_obj_df = train_df.select_dtypes(include=['object'])\n",
    "train_obj_df\n",
    "test_obj_df = test_df.select_dtypes(include=['object'])\n",
    "test_obj_df"
   ]
  },
  {
   "cell_type": "code",
   "execution_count": 100,
   "id": "a4e031fa",
   "metadata": {
    "execution": {
     "iopub.execute_input": "2025-02-23T20:31:49.630875Z",
     "iopub.status.busy": "2025-02-23T20:31:49.630581Z",
     "iopub.status.idle": "2025-02-23T20:31:49.856063Z",
     "shell.execute_reply": "2025-02-23T20:31:49.855199Z"
    },
    "papermill": {
     "duration": 0.256689,
     "end_time": "2025-02-23T20:31:49.857493",
     "exception": false,
     "start_time": "2025-02-23T20:31:49.600804",
     "status": "completed"
    },
    "tags": []
   },
   "outputs": [
    {
     "data": {
      "text/html": [
       "<div>\n",
       "<style scoped>\n",
       "    .dataframe tbody tr th:only-of-type {\n",
       "        vertical-align: middle;\n",
       "    }\n",
       "\n",
       "    .dataframe tbody tr th {\n",
       "        vertical-align: top;\n",
       "    }\n",
       "\n",
       "    .dataframe thead th {\n",
       "        text-align: right;\n",
       "    }\n",
       "</style>\n",
       "<table border=\"1\" class=\"dataframe\">\n",
       "  <thead>\n",
       "    <tr style=\"text-align: right;\">\n",
       "      <th></th>\n",
       "      <th>Gender</th>\n",
       "      <th>City</th>\n",
       "      <th>Working Professional or Student</th>\n",
       "      <th>Profession</th>\n",
       "      <th>Sleep Duration</th>\n",
       "      <th>Dietary Habits</th>\n",
       "      <th>Degree</th>\n",
       "      <th>Have you ever had suicidal thoughts ?</th>\n",
       "      <th>Family History of Mental Illness</th>\n",
       "    </tr>\n",
       "    <tr>\n",
       "      <th>id</th>\n",
       "      <th></th>\n",
       "      <th></th>\n",
       "      <th></th>\n",
       "      <th></th>\n",
       "      <th></th>\n",
       "      <th></th>\n",
       "      <th></th>\n",
       "      <th></th>\n",
       "      <th></th>\n",
       "    </tr>\n",
       "  </thead>\n",
       "  <tbody>\n",
       "    <tr>\n",
       "      <th>0</th>\n",
       "      <td>0</td>\n",
       "      <td>15</td>\n",
       "      <td>1</td>\n",
       "      <td>3</td>\n",
       "      <td>3</td>\n",
       "      <td>0</td>\n",
       "      <td>9</td>\n",
       "      <td>0</td>\n",
       "      <td>0</td>\n",
       "    </tr>\n",
       "    <tr>\n",
       "      <th>1</th>\n",
       "      <td>1</td>\n",
       "      <td>28</td>\n",
       "      <td>1</td>\n",
       "      <td>30</td>\n",
       "      <td>2</td>\n",
       "      <td>3</td>\n",
       "      <td>12</td>\n",
       "      <td>1</td>\n",
       "      <td>0</td>\n",
       "    </tr>\n",
       "    <tr>\n",
       "      <th>2</th>\n",
       "      <td>1</td>\n",
       "      <td>30</td>\n",
       "      <td>0</td>\n",
       "      <td>29</td>\n",
       "      <td>0</td>\n",
       "      <td>0</td>\n",
       "      <td>3</td>\n",
       "      <td>1</td>\n",
       "      <td>0</td>\n",
       "    </tr>\n",
       "    <tr>\n",
       "      <th>3</th>\n",
       "      <td>1</td>\n",
       "      <td>17</td>\n",
       "      <td>1</td>\n",
       "      <td>30</td>\n",
       "      <td>2</td>\n",
       "      <td>1</td>\n",
       "      <td>6</td>\n",
       "      <td>1</td>\n",
       "      <td>1</td>\n",
       "    </tr>\n",
       "    <tr>\n",
       "      <th>4</th>\n",
       "      <td>0</td>\n",
       "      <td>12</td>\n",
       "      <td>1</td>\n",
       "      <td>2</td>\n",
       "      <td>0</td>\n",
       "      <td>3</td>\n",
       "      <td>6</td>\n",
       "      <td>1</td>\n",
       "      <td>1</td>\n",
       "    </tr>\n",
       "    <tr>\n",
       "      <th>...</th>\n",
       "      <td>...</td>\n",
       "      <td>...</td>\n",
       "      <td>...</td>\n",
       "      <td>...</td>\n",
       "      <td>...</td>\n",
       "      <td>...</td>\n",
       "      <td>...</td>\n",
       "      <td>...</td>\n",
       "      <td>...</td>\n",
       "    </tr>\n",
       "    <tr>\n",
       "      <th>140695</th>\n",
       "      <td>0</td>\n",
       "      <td>1</td>\n",
       "      <td>1</td>\n",
       "      <td>33</td>\n",
       "      <td>0</td>\n",
       "      <td>3</td>\n",
       "      <td>11</td>\n",
       "      <td>0</td>\n",
       "      <td>1</td>\n",
       "    </tr>\n",
       "    <tr>\n",
       "      <th>140696</th>\n",
       "      <td>0</td>\n",
       "      <td>8</td>\n",
       "      <td>1</td>\n",
       "      <td>7</td>\n",
       "      <td>1</td>\n",
       "      <td>1</td>\n",
       "      <td>4</td>\n",
       "      <td>1</td>\n",
       "      <td>1</td>\n",
       "    </tr>\n",
       "    <tr>\n",
       "      <th>140697</th>\n",
       "      <td>0</td>\n",
       "      <td>13</td>\n",
       "      <td>1</td>\n",
       "      <td>21</td>\n",
       "      <td>3</td>\n",
       "      <td>1</td>\n",
       "      <td>1</td>\n",
       "      <td>0</td>\n",
       "      <td>0</td>\n",
       "    </tr>\n",
       "    <tr>\n",
       "      <th>140698</th>\n",
       "      <td>0</td>\n",
       "      <td>24</td>\n",
       "      <td>1</td>\n",
       "      <td>25</td>\n",
       "      <td>0</td>\n",
       "      <td>1</td>\n",
       "      <td>23</td>\n",
       "      <td>1</td>\n",
       "      <td>0</td>\n",
       "    </tr>\n",
       "    <tr>\n",
       "      <th>140699</th>\n",
       "      <td>1</td>\n",
       "      <td>21</td>\n",
       "      <td>0</td>\n",
       "      <td>29</td>\n",
       "      <td>2</td>\n",
       "      <td>0</td>\n",
       "      <td>7</td>\n",
       "      <td>1</td>\n",
       "      <td>1</td>\n",
       "    </tr>\n",
       "  </tbody>\n",
       "</table>\n",
       "<p>140700 rows × 9 columns</p>\n",
       "</div>"
      ],
      "text/plain": [
       "        Gender  City  Working Professional or Student  Profession  \\\n",
       "id                                                                  \n",
       "0            0    15                                1           3   \n",
       "1            1    28                                1          30   \n",
       "2            1    30                                0          29   \n",
       "3            1    17                                1          30   \n",
       "4            0    12                                1           2   \n",
       "...        ...   ...                              ...         ...   \n",
       "140695       0     1                                1          33   \n",
       "140696       0     8                                1           7   \n",
       "140697       0    13                                1          21   \n",
       "140698       0    24                                1          25   \n",
       "140699       1    21                                0          29   \n",
       "\n",
       "        Sleep Duration  Dietary Habits  Degree  \\\n",
       "id                                               \n",
       "0                    3               0       9   \n",
       "1                    2               3      12   \n",
       "2                    0               0       3   \n",
       "3                    2               1       6   \n",
       "4                    0               3       6   \n",
       "...                ...             ...     ...   \n",
       "140695               0               3      11   \n",
       "140696               1               1       4   \n",
       "140697               3               1       1   \n",
       "140698               0               1      23   \n",
       "140699               2               0       7   \n",
       "\n",
       "        Have you ever had suicidal thoughts ?  \\\n",
       "id                                              \n",
       "0                                           0   \n",
       "1                                           1   \n",
       "2                                           1   \n",
       "3                                           1   \n",
       "4                                           1   \n",
       "...                                       ...   \n",
       "140695                                      0   \n",
       "140696                                      1   \n",
       "140697                                      0   \n",
       "140698                                      1   \n",
       "140699                                      1   \n",
       "\n",
       "        Family History of Mental Illness  \n",
       "id                                        \n",
       "0                                      0  \n",
       "1                                      0  \n",
       "2                                      0  \n",
       "3                                      1  \n",
       "4                                      1  \n",
       "...                                  ...  \n",
       "140695                                 1  \n",
       "140696                                 1  \n",
       "140697                                 0  \n",
       "140698                                 0  \n",
       "140699                                 1  \n",
       "\n",
       "[140700 rows x 9 columns]"
      ]
     },
     "execution_count": 100,
     "metadata": {},
     "output_type": "execute_result"
    }
   ],
   "source": [
    "# Label Encoding train set\n",
    "train_obj_df = train_obj_df.apply(LabelEncoder().fit_transform)\n",
    "train_obj_df"
   ]
  },
  {
   "cell_type": "code",
   "execution_count": 101,
   "id": "7d167f44",
   "metadata": {
    "execution": {
     "iopub.execute_input": "2025-02-23T20:31:49.917638Z",
     "iopub.status.busy": "2025-02-23T20:31:49.917390Z",
     "iopub.status.idle": "2025-02-23T20:31:50.066590Z",
     "shell.execute_reply": "2025-02-23T20:31:50.065788Z"
    },
    "papermill": {
     "duration": 0.180071,
     "end_time": "2025-02-23T20:31:50.067919",
     "exception": false,
     "start_time": "2025-02-23T20:31:49.887848",
     "status": "completed"
    },
    "tags": []
   },
   "outputs": [
    {
     "data": {
      "text/html": [
       "<div>\n",
       "<style scoped>\n",
       "    .dataframe tbody tr th:only-of-type {\n",
       "        vertical-align: middle;\n",
       "    }\n",
       "\n",
       "    .dataframe tbody tr th {\n",
       "        vertical-align: top;\n",
       "    }\n",
       "\n",
       "    .dataframe thead th {\n",
       "        text-align: right;\n",
       "    }\n",
       "</style>\n",
       "<table border=\"1\" class=\"dataframe\">\n",
       "  <thead>\n",
       "    <tr style=\"text-align: right;\">\n",
       "      <th></th>\n",
       "      <th>Gender</th>\n",
       "      <th>City</th>\n",
       "      <th>Working Professional or Student</th>\n",
       "      <th>Profession</th>\n",
       "      <th>Sleep Duration</th>\n",
       "      <th>Dietary Habits</th>\n",
       "      <th>Degree</th>\n",
       "      <th>Have you ever had suicidal thoughts ?</th>\n",
       "      <th>Family History of Mental Illness</th>\n",
       "    </tr>\n",
       "    <tr>\n",
       "      <th>id</th>\n",
       "      <th></th>\n",
       "      <th></th>\n",
       "      <th></th>\n",
       "      <th></th>\n",
       "      <th></th>\n",
       "      <th></th>\n",
       "      <th></th>\n",
       "      <th></th>\n",
       "      <th></th>\n",
       "    </tr>\n",
       "  </thead>\n",
       "  <tbody>\n",
       "    <tr>\n",
       "      <th>140700</th>\n",
       "      <td>1</td>\n",
       "      <td>30</td>\n",
       "      <td>1</td>\n",
       "      <td>17</td>\n",
       "      <td>2</td>\n",
       "      <td>1</td>\n",
       "      <td>12</td>\n",
       "      <td>0</td>\n",
       "      <td>1</td>\n",
       "    </tr>\n",
       "    <tr>\n",
       "      <th>140701</th>\n",
       "      <td>0</td>\n",
       "      <td>13</td>\n",
       "      <td>1</td>\n",
       "      <td>11</td>\n",
       "      <td>2</td>\n",
       "      <td>1</td>\n",
       "      <td>2</td>\n",
       "      <td>0</td>\n",
       "      <td>0</td>\n",
       "    </tr>\n",
       "    <tr>\n",
       "      <th>140702</th>\n",
       "      <td>1</td>\n",
       "      <td>10</td>\n",
       "      <td>1</td>\n",
       "      <td>29</td>\n",
       "      <td>1</td>\n",
       "      <td>1</td>\n",
       "      <td>0</td>\n",
       "      <td>1</td>\n",
       "      <td>0</td>\n",
       "    </tr>\n",
       "    <tr>\n",
       "      <th>140703</th>\n",
       "      <td>0</td>\n",
       "      <td>23</td>\n",
       "      <td>0</td>\n",
       "      <td>28</td>\n",
       "      <td>3</td>\n",
       "      <td>1</td>\n",
       "      <td>10</td>\n",
       "      <td>1</td>\n",
       "      <td>0</td>\n",
       "    </tr>\n",
       "    <tr>\n",
       "      <th>140704</th>\n",
       "      <td>1</td>\n",
       "      <td>11</td>\n",
       "      <td>1</td>\n",
       "      <td>29</td>\n",
       "      <td>1</td>\n",
       "      <td>1</td>\n",
       "      <td>7</td>\n",
       "      <td>1</td>\n",
       "      <td>0</td>\n",
       "    </tr>\n",
       "    <tr>\n",
       "      <th>...</th>\n",
       "      <td>...</td>\n",
       "      <td>...</td>\n",
       "      <td>...</td>\n",
       "      <td>...</td>\n",
       "      <td>...</td>\n",
       "      <td>...</td>\n",
       "      <td>...</td>\n",
       "      <td>...</td>\n",
       "      <td>...</td>\n",
       "    </tr>\n",
       "    <tr>\n",
       "      <th>234495</th>\n",
       "      <td>0</td>\n",
       "      <td>10</td>\n",
       "      <td>1</td>\n",
       "      <td>23</td>\n",
       "      <td>2</td>\n",
       "      <td>1</td>\n",
       "      <td>10</td>\n",
       "      <td>1</td>\n",
       "      <td>1</td>\n",
       "    </tr>\n",
       "    <tr>\n",
       "      <th>234496</th>\n",
       "      <td>1</td>\n",
       "      <td>1</td>\n",
       "      <td>1</td>\n",
       "      <td>23</td>\n",
       "      <td>1</td>\n",
       "      <td>1</td>\n",
       "      <td>8</td>\n",
       "      <td>1</td>\n",
       "      <td>1</td>\n",
       "    </tr>\n",
       "    <tr>\n",
       "      <th>234497</th>\n",
       "      <td>1</td>\n",
       "      <td>30</td>\n",
       "      <td>0</td>\n",
       "      <td>28</td>\n",
       "      <td>1</td>\n",
       "      <td>1</td>\n",
       "      <td>4</td>\n",
       "      <td>0</td>\n",
       "      <td>0</td>\n",
       "    </tr>\n",
       "    <tr>\n",
       "      <th>234498</th>\n",
       "      <td>0</td>\n",
       "      <td>11</td>\n",
       "      <td>1</td>\n",
       "      <td>20</td>\n",
       "      <td>0</td>\n",
       "      <td>0</td>\n",
       "      <td>5</td>\n",
       "      <td>1</td>\n",
       "      <td>1</td>\n",
       "    </tr>\n",
       "    <tr>\n",
       "      <th>234499</th>\n",
       "      <td>0</td>\n",
       "      <td>28</td>\n",
       "      <td>1</td>\n",
       "      <td>11</td>\n",
       "      <td>3</td>\n",
       "      <td>0</td>\n",
       "      <td>2</td>\n",
       "      <td>0</td>\n",
       "      <td>0</td>\n",
       "    </tr>\n",
       "  </tbody>\n",
       "</table>\n",
       "<p>93800 rows × 9 columns</p>\n",
       "</div>"
      ],
      "text/plain": [
       "        Gender  City  Working Professional or Student  Profession  \\\n",
       "id                                                                  \n",
       "140700       1    30                                1          17   \n",
       "140701       0    13                                1          11   \n",
       "140702       1    10                                1          29   \n",
       "140703       0    23                                0          28   \n",
       "140704       1    11                                1          29   \n",
       "...        ...   ...                              ...         ...   \n",
       "234495       0    10                                1          23   \n",
       "234496       1     1                                1          23   \n",
       "234497       1    30                                0          28   \n",
       "234498       0    11                                1          20   \n",
       "234499       0    28                                1          11   \n",
       "\n",
       "        Sleep Duration  Dietary Habits  Degree  \\\n",
       "id                                               \n",
       "140700               2               1      12   \n",
       "140701               2               1       2   \n",
       "140702               1               1       0   \n",
       "140703               3               1      10   \n",
       "140704               1               1       7   \n",
       "...                ...             ...     ...   \n",
       "234495               2               1      10   \n",
       "234496               1               1       8   \n",
       "234497               1               1       4   \n",
       "234498               0               0       5   \n",
       "234499               3               0       2   \n",
       "\n",
       "        Have you ever had suicidal thoughts ?  \\\n",
       "id                                              \n",
       "140700                                      0   \n",
       "140701                                      0   \n",
       "140702                                      1   \n",
       "140703                                      1   \n",
       "140704                                      1   \n",
       "...                                       ...   \n",
       "234495                                      1   \n",
       "234496                                      1   \n",
       "234497                                      0   \n",
       "234498                                      1   \n",
       "234499                                      0   \n",
       "\n",
       "        Family History of Mental Illness  \n",
       "id                                        \n",
       "140700                                 1  \n",
       "140701                                 0  \n",
       "140702                                 0  \n",
       "140703                                 0  \n",
       "140704                                 0  \n",
       "...                                  ...  \n",
       "234495                                 1  \n",
       "234496                                 1  \n",
       "234497                                 0  \n",
       "234498                                 1  \n",
       "234499                                 0  \n",
       "\n",
       "[93800 rows x 9 columns]"
      ]
     },
     "execution_count": 101,
     "metadata": {},
     "output_type": "execute_result"
    }
   ],
   "source": [
    "# Label Encoding train set\n",
    "test_obj_df = test_obj_df.apply(LabelEncoder().fit_transform)\n",
    "test_obj_df"
   ]
  },
  {
   "cell_type": "code",
   "execution_count": 102,
   "id": "6bbb28de",
   "metadata": {
    "execution": {
     "iopub.execute_input": "2025-02-23T20:31:50.129552Z",
     "iopub.status.busy": "2025-02-23T20:31:50.129251Z",
     "iopub.status.idle": "2025-02-23T20:31:50.133727Z",
     "shell.execute_reply": "2025-02-23T20:31:50.133003Z"
    },
    "papermill": {
     "duration": 0.03612,
     "end_time": "2025-02-23T20:31:50.134834",
     "exception": false,
     "start_time": "2025-02-23T20:31:50.098714",
     "status": "completed"
    },
    "tags": []
   },
   "outputs": [
    {
     "data": {
      "text/plain": [
       "['Gender',\n",
       " 'City',\n",
       " 'Working Professional or Student',\n",
       " 'Profession',\n",
       " 'Sleep Duration',\n",
       " 'Dietary Habits',\n",
       " 'Degree',\n",
       " 'Have you ever had suicidal thoughts ?',\n",
       " 'Family History of Mental Illness']"
      ]
     },
     "execution_count": 102,
     "metadata": {},
     "output_type": "execute_result"
    }
   ],
   "source": [
    "col_obj_ls = list(train_obj_df.columns)\n",
    "col_obj_ls"
   ]
  },
  {
   "cell_type": "code",
   "execution_count": 103,
   "id": "2ebea351",
   "metadata": {
    "execution": {
     "iopub.execute_input": "2025-02-23T20:31:50.194087Z",
     "iopub.status.busy": "2025-02-23T20:31:50.193833Z",
     "iopub.status.idle": "2025-02-23T20:31:50.218946Z",
     "shell.execute_reply": "2025-02-23T20:31:50.218127Z"
    },
    "papermill": {
     "duration": 0.055908,
     "end_time": "2025-02-23T20:31:50.220184",
     "exception": false,
     "start_time": "2025-02-23T20:31:50.164276",
     "status": "completed"
    },
    "tags": []
   },
   "outputs": [
    {
     "data": {
      "text/html": [
       "<div>\n",
       "<style scoped>\n",
       "    .dataframe tbody tr th:only-of-type {\n",
       "        vertical-align: middle;\n",
       "    }\n",
       "\n",
       "    .dataframe tbody tr th {\n",
       "        vertical-align: top;\n",
       "    }\n",
       "\n",
       "    .dataframe thead th {\n",
       "        text-align: right;\n",
       "    }\n",
       "</style>\n",
       "<table border=\"1\" class=\"dataframe\">\n",
       "  <thead>\n",
       "    <tr style=\"text-align: right;\">\n",
       "      <th></th>\n",
       "      <th>Gender</th>\n",
       "      <th>Age</th>\n",
       "      <th>City</th>\n",
       "      <th>Working Professional or Student</th>\n",
       "      <th>Profession</th>\n",
       "      <th>Academic Pressure</th>\n",
       "      <th>Work Pressure</th>\n",
       "      <th>CGPA</th>\n",
       "      <th>Study Satisfaction</th>\n",
       "      <th>Job Satisfaction</th>\n",
       "      <th>Sleep Duration</th>\n",
       "      <th>Dietary Habits</th>\n",
       "      <th>Degree</th>\n",
       "      <th>Have you ever had suicidal thoughts ?</th>\n",
       "      <th>Work/Study Hours</th>\n",
       "      <th>Financial Stress</th>\n",
       "      <th>Family History of Mental Illness</th>\n",
       "      <th>Depression</th>\n",
       "    </tr>\n",
       "    <tr>\n",
       "      <th>id</th>\n",
       "      <th></th>\n",
       "      <th></th>\n",
       "      <th></th>\n",
       "      <th></th>\n",
       "      <th></th>\n",
       "      <th></th>\n",
       "      <th></th>\n",
       "      <th></th>\n",
       "      <th></th>\n",
       "      <th></th>\n",
       "      <th></th>\n",
       "      <th></th>\n",
       "      <th></th>\n",
       "      <th></th>\n",
       "      <th></th>\n",
       "      <th></th>\n",
       "      <th></th>\n",
       "      <th></th>\n",
       "    </tr>\n",
       "  </thead>\n",
       "  <tbody>\n",
       "    <tr>\n",
       "      <th>0</th>\n",
       "      <td>0</td>\n",
       "      <td>49.0</td>\n",
       "      <td>15</td>\n",
       "      <td>1</td>\n",
       "      <td>3</td>\n",
       "      <td>0.0</td>\n",
       "      <td>5.0</td>\n",
       "      <td>0.00</td>\n",
       "      <td>0.0</td>\n",
       "      <td>2.0</td>\n",
       "      <td>3</td>\n",
       "      <td>0</td>\n",
       "      <td>9</td>\n",
       "      <td>0</td>\n",
       "      <td>1.0</td>\n",
       "      <td>2.0</td>\n",
       "      <td>0</td>\n",
       "      <td>0</td>\n",
       "    </tr>\n",
       "    <tr>\n",
       "      <th>1</th>\n",
       "      <td>1</td>\n",
       "      <td>26.0</td>\n",
       "      <td>28</td>\n",
       "      <td>1</td>\n",
       "      <td>30</td>\n",
       "      <td>0.0</td>\n",
       "      <td>4.0</td>\n",
       "      <td>0.00</td>\n",
       "      <td>0.0</td>\n",
       "      <td>3.0</td>\n",
       "      <td>2</td>\n",
       "      <td>3</td>\n",
       "      <td>12</td>\n",
       "      <td>1</td>\n",
       "      <td>7.0</td>\n",
       "      <td>3.0</td>\n",
       "      <td>0</td>\n",
       "      <td>1</td>\n",
       "    </tr>\n",
       "    <tr>\n",
       "      <th>2</th>\n",
       "      <td>1</td>\n",
       "      <td>33.0</td>\n",
       "      <td>30</td>\n",
       "      <td>0</td>\n",
       "      <td>29</td>\n",
       "      <td>5.0</td>\n",
       "      <td>0.0</td>\n",
       "      <td>8.97</td>\n",
       "      <td>2.0</td>\n",
       "      <td>0.0</td>\n",
       "      <td>0</td>\n",
       "      <td>0</td>\n",
       "      <td>3</td>\n",
       "      <td>1</td>\n",
       "      <td>3.0</td>\n",
       "      <td>1.0</td>\n",
       "      <td>0</td>\n",
       "      <td>1</td>\n",
       "    </tr>\n",
       "    <tr>\n",
       "      <th>3</th>\n",
       "      <td>1</td>\n",
       "      <td>22.0</td>\n",
       "      <td>17</td>\n",
       "      <td>1</td>\n",
       "      <td>30</td>\n",
       "      <td>0.0</td>\n",
       "      <td>5.0</td>\n",
       "      <td>0.00</td>\n",
       "      <td>0.0</td>\n",
       "      <td>1.0</td>\n",
       "      <td>2</td>\n",
       "      <td>1</td>\n",
       "      <td>6</td>\n",
       "      <td>1</td>\n",
       "      <td>10.0</td>\n",
       "      <td>1.0</td>\n",
       "      <td>1</td>\n",
       "      <td>1</td>\n",
       "    </tr>\n",
       "    <tr>\n",
       "      <th>4</th>\n",
       "      <td>0</td>\n",
       "      <td>30.0</td>\n",
       "      <td>12</td>\n",
       "      <td>1</td>\n",
       "      <td>2</td>\n",
       "      <td>0.0</td>\n",
       "      <td>1.0</td>\n",
       "      <td>0.00</td>\n",
       "      <td>0.0</td>\n",
       "      <td>1.0</td>\n",
       "      <td>0</td>\n",
       "      <td>3</td>\n",
       "      <td>6</td>\n",
       "      <td>1</td>\n",
       "      <td>9.0</td>\n",
       "      <td>4.0</td>\n",
       "      <td>1</td>\n",
       "      <td>0</td>\n",
       "    </tr>\n",
       "    <tr>\n",
       "      <th>...</th>\n",
       "      <td>...</td>\n",
       "      <td>...</td>\n",
       "      <td>...</td>\n",
       "      <td>...</td>\n",
       "      <td>...</td>\n",
       "      <td>...</td>\n",
       "      <td>...</td>\n",
       "      <td>...</td>\n",
       "      <td>...</td>\n",
       "      <td>...</td>\n",
       "      <td>...</td>\n",
       "      <td>...</td>\n",
       "      <td>...</td>\n",
       "      <td>...</td>\n",
       "      <td>...</td>\n",
       "      <td>...</td>\n",
       "      <td>...</td>\n",
       "      <td>...</td>\n",
       "    </tr>\n",
       "    <tr>\n",
       "      <th>140695</th>\n",
       "      <td>0</td>\n",
       "      <td>18.0</td>\n",
       "      <td>1</td>\n",
       "      <td>1</td>\n",
       "      <td>33</td>\n",
       "      <td>0.0</td>\n",
       "      <td>5.0</td>\n",
       "      <td>0.00</td>\n",
       "      <td>0.0</td>\n",
       "      <td>4.0</td>\n",
       "      <td>0</td>\n",
       "      <td>3</td>\n",
       "      <td>11</td>\n",
       "      <td>0</td>\n",
       "      <td>2.0</td>\n",
       "      <td>4.0</td>\n",
       "      <td>1</td>\n",
       "      <td>1</td>\n",
       "    </tr>\n",
       "    <tr>\n",
       "      <th>140696</th>\n",
       "      <td>0</td>\n",
       "      <td>41.0</td>\n",
       "      <td>8</td>\n",
       "      <td>1</td>\n",
       "      <td>7</td>\n",
       "      <td>0.0</td>\n",
       "      <td>5.0</td>\n",
       "      <td>0.00</td>\n",
       "      <td>0.0</td>\n",
       "      <td>4.0</td>\n",
       "      <td>1</td>\n",
       "      <td>1</td>\n",
       "      <td>4</td>\n",
       "      <td>1</td>\n",
       "      <td>6.0</td>\n",
       "      <td>5.0</td>\n",
       "      <td>1</td>\n",
       "      <td>0</td>\n",
       "    </tr>\n",
       "    <tr>\n",
       "      <th>140697</th>\n",
       "      <td>0</td>\n",
       "      <td>24.0</td>\n",
       "      <td>13</td>\n",
       "      <td>1</td>\n",
       "      <td>21</td>\n",
       "      <td>0.0</td>\n",
       "      <td>3.0</td>\n",
       "      <td>0.00</td>\n",
       "      <td>0.0</td>\n",
       "      <td>1.0</td>\n",
       "      <td>3</td>\n",
       "      <td>1</td>\n",
       "      <td>1</td>\n",
       "      <td>0</td>\n",
       "      <td>4.0</td>\n",
       "      <td>4.0</td>\n",
       "      <td>0</td>\n",
       "      <td>0</td>\n",
       "    </tr>\n",
       "    <tr>\n",
       "      <th>140698</th>\n",
       "      <td>0</td>\n",
       "      <td>49.0</td>\n",
       "      <td>24</td>\n",
       "      <td>1</td>\n",
       "      <td>25</td>\n",
       "      <td>0.0</td>\n",
       "      <td>5.0</td>\n",
       "      <td>0.00</td>\n",
       "      <td>0.0</td>\n",
       "      <td>2.0</td>\n",
       "      <td>0</td>\n",
       "      <td>1</td>\n",
       "      <td>23</td>\n",
       "      <td>1</td>\n",
       "      <td>10.0</td>\n",
       "      <td>1.0</td>\n",
       "      <td>0</td>\n",
       "      <td>0</td>\n",
       "    </tr>\n",
       "    <tr>\n",
       "      <th>140699</th>\n",
       "      <td>1</td>\n",
       "      <td>27.0</td>\n",
       "      <td>21</td>\n",
       "      <td>0</td>\n",
       "      <td>29</td>\n",
       "      <td>4.0</td>\n",
       "      <td>0.0</td>\n",
       "      <td>9.24</td>\n",
       "      <td>1.0</td>\n",
       "      <td>0.0</td>\n",
       "      <td>2</td>\n",
       "      <td>0</td>\n",
       "      <td>7</td>\n",
       "      <td>1</td>\n",
       "      <td>2.0</td>\n",
       "      <td>3.0</td>\n",
       "      <td>1</td>\n",
       "      <td>1</td>\n",
       "    </tr>\n",
       "  </tbody>\n",
       "</table>\n",
       "<p>140700 rows × 18 columns</p>\n",
       "</div>"
      ],
      "text/plain": [
       "        Gender   Age  City  Working Professional or Student  Profession  \\\n",
       "id                                                                        \n",
       "0            0  49.0    15                                1           3   \n",
       "1            1  26.0    28                                1          30   \n",
       "2            1  33.0    30                                0          29   \n",
       "3            1  22.0    17                                1          30   \n",
       "4            0  30.0    12                                1           2   \n",
       "...        ...   ...   ...                              ...         ...   \n",
       "140695       0  18.0     1                                1          33   \n",
       "140696       0  41.0     8                                1           7   \n",
       "140697       0  24.0    13                                1          21   \n",
       "140698       0  49.0    24                                1          25   \n",
       "140699       1  27.0    21                                0          29   \n",
       "\n",
       "        Academic Pressure  Work Pressure  CGPA  Study Satisfaction  \\\n",
       "id                                                                   \n",
       "0                     0.0            5.0  0.00                 0.0   \n",
       "1                     0.0            4.0  0.00                 0.0   \n",
       "2                     5.0            0.0  8.97                 2.0   \n",
       "3                     0.0            5.0  0.00                 0.0   \n",
       "4                     0.0            1.0  0.00                 0.0   \n",
       "...                   ...            ...   ...                 ...   \n",
       "140695                0.0            5.0  0.00                 0.0   \n",
       "140696                0.0            5.0  0.00                 0.0   \n",
       "140697                0.0            3.0  0.00                 0.0   \n",
       "140698                0.0            5.0  0.00                 0.0   \n",
       "140699                4.0            0.0  9.24                 1.0   \n",
       "\n",
       "        Job Satisfaction  Sleep Duration  Dietary Habits  Degree  \\\n",
       "id                                                                 \n",
       "0                    2.0               3               0       9   \n",
       "1                    3.0               2               3      12   \n",
       "2                    0.0               0               0       3   \n",
       "3                    1.0               2               1       6   \n",
       "4                    1.0               0               3       6   \n",
       "...                  ...             ...             ...     ...   \n",
       "140695               4.0               0               3      11   \n",
       "140696               4.0               1               1       4   \n",
       "140697               1.0               3               1       1   \n",
       "140698               2.0               0               1      23   \n",
       "140699               0.0               2               0       7   \n",
       "\n",
       "        Have you ever had suicidal thoughts ?  Work/Study Hours  \\\n",
       "id                                                                \n",
       "0                                           0               1.0   \n",
       "1                                           1               7.0   \n",
       "2                                           1               3.0   \n",
       "3                                           1              10.0   \n",
       "4                                           1               9.0   \n",
       "...                                       ...               ...   \n",
       "140695                                      0               2.0   \n",
       "140696                                      1               6.0   \n",
       "140697                                      0               4.0   \n",
       "140698                                      1              10.0   \n",
       "140699                                      1               2.0   \n",
       "\n",
       "        Financial Stress  Family History of Mental Illness  Depression  \n",
       "id                                                                      \n",
       "0                    2.0                                 0           0  \n",
       "1                    3.0                                 0           1  \n",
       "2                    1.0                                 0           1  \n",
       "3                    1.0                                 1           1  \n",
       "4                    4.0                                 1           0  \n",
       "...                  ...                               ...         ...  \n",
       "140695               4.0                                 1           1  \n",
       "140696               5.0                                 1           0  \n",
       "140697               4.0                                 0           0  \n",
       "140698               1.0                                 0           0  \n",
       "140699               3.0                                 1           1  \n",
       "\n",
       "[140700 rows x 18 columns]"
      ]
     },
     "execution_count": 103,
     "metadata": {},
     "output_type": "execute_result"
    }
   ],
   "source": [
    "train_df[col_obj_ls] = train_obj_df[col_obj_ls]\n",
    "train_df"
   ]
  },
  {
   "cell_type": "code",
   "execution_count": 104,
   "id": "07da9790",
   "metadata": {
    "execution": {
     "iopub.execute_input": "2025-02-23T20:31:50.280459Z",
     "iopub.status.busy": "2025-02-23T20:31:50.280208Z",
     "iopub.status.idle": "2025-02-23T20:31:50.301448Z",
     "shell.execute_reply": "2025-02-23T20:31:50.300565Z"
    },
    "papermill": {
     "duration": 0.052535,
     "end_time": "2025-02-23T20:31:50.302743",
     "exception": false,
     "start_time": "2025-02-23T20:31:50.250208",
     "status": "completed"
    },
    "tags": []
   },
   "outputs": [
    {
     "data": {
      "text/html": [
       "<div>\n",
       "<style scoped>\n",
       "    .dataframe tbody tr th:only-of-type {\n",
       "        vertical-align: middle;\n",
       "    }\n",
       "\n",
       "    .dataframe tbody tr th {\n",
       "        vertical-align: top;\n",
       "    }\n",
       "\n",
       "    .dataframe thead th {\n",
       "        text-align: right;\n",
       "    }\n",
       "</style>\n",
       "<table border=\"1\" class=\"dataframe\">\n",
       "  <thead>\n",
       "    <tr style=\"text-align: right;\">\n",
       "      <th></th>\n",
       "      <th>Gender</th>\n",
       "      <th>Age</th>\n",
       "      <th>City</th>\n",
       "      <th>Working Professional or Student</th>\n",
       "      <th>Profession</th>\n",
       "      <th>Academic Pressure</th>\n",
       "      <th>Work Pressure</th>\n",
       "      <th>CGPA</th>\n",
       "      <th>Study Satisfaction</th>\n",
       "      <th>Job Satisfaction</th>\n",
       "      <th>Sleep Duration</th>\n",
       "      <th>Dietary Habits</th>\n",
       "      <th>Degree</th>\n",
       "      <th>Have you ever had suicidal thoughts ?</th>\n",
       "      <th>Work/Study Hours</th>\n",
       "      <th>Financial Stress</th>\n",
       "      <th>Family History of Mental Illness</th>\n",
       "    </tr>\n",
       "    <tr>\n",
       "      <th>id</th>\n",
       "      <th></th>\n",
       "      <th></th>\n",
       "      <th></th>\n",
       "      <th></th>\n",
       "      <th></th>\n",
       "      <th></th>\n",
       "      <th></th>\n",
       "      <th></th>\n",
       "      <th></th>\n",
       "      <th></th>\n",
       "      <th></th>\n",
       "      <th></th>\n",
       "      <th></th>\n",
       "      <th></th>\n",
       "      <th></th>\n",
       "      <th></th>\n",
       "      <th></th>\n",
       "    </tr>\n",
       "  </thead>\n",
       "  <tbody>\n",
       "    <tr>\n",
       "      <th>140700</th>\n",
       "      <td>1</td>\n",
       "      <td>53.0</td>\n",
       "      <td>30</td>\n",
       "      <td>1</td>\n",
       "      <td>17</td>\n",
       "      <td>0.0</td>\n",
       "      <td>2.0</td>\n",
       "      <td>0.00</td>\n",
       "      <td>0.0</td>\n",
       "      <td>5.0</td>\n",
       "      <td>2</td>\n",
       "      <td>1</td>\n",
       "      <td>12</td>\n",
       "      <td>0</td>\n",
       "      <td>9.0</td>\n",
       "      <td>3.0</td>\n",
       "      <td>1</td>\n",
       "    </tr>\n",
       "    <tr>\n",
       "      <th>140701</th>\n",
       "      <td>0</td>\n",
       "      <td>58.0</td>\n",
       "      <td>13</td>\n",
       "      <td>1</td>\n",
       "      <td>11</td>\n",
       "      <td>0.0</td>\n",
       "      <td>2.0</td>\n",
       "      <td>0.00</td>\n",
       "      <td>0.0</td>\n",
       "      <td>4.0</td>\n",
       "      <td>2</td>\n",
       "      <td>1</td>\n",
       "      <td>2</td>\n",
       "      <td>0</td>\n",
       "      <td>6.0</td>\n",
       "      <td>4.0</td>\n",
       "      <td>0</td>\n",
       "    </tr>\n",
       "    <tr>\n",
       "      <th>140702</th>\n",
       "      <td>1</td>\n",
       "      <td>53.0</td>\n",
       "      <td>10</td>\n",
       "      <td>1</td>\n",
       "      <td>29</td>\n",
       "      <td>0.0</td>\n",
       "      <td>4.0</td>\n",
       "      <td>0.00</td>\n",
       "      <td>0.0</td>\n",
       "      <td>1.0</td>\n",
       "      <td>1</td>\n",
       "      <td>1</td>\n",
       "      <td>0</td>\n",
       "      <td>1</td>\n",
       "      <td>12.0</td>\n",
       "      <td>4.0</td>\n",
       "      <td>0</td>\n",
       "    </tr>\n",
       "    <tr>\n",
       "      <th>140703</th>\n",
       "      <td>0</td>\n",
       "      <td>23.0</td>\n",
       "      <td>23</td>\n",
       "      <td>0</td>\n",
       "      <td>28</td>\n",
       "      <td>5.0</td>\n",
       "      <td>0.0</td>\n",
       "      <td>6.84</td>\n",
       "      <td>1.0</td>\n",
       "      <td>0.0</td>\n",
       "      <td>3</td>\n",
       "      <td>1</td>\n",
       "      <td>10</td>\n",
       "      <td>1</td>\n",
       "      <td>10.0</td>\n",
       "      <td>4.0</td>\n",
       "      <td>0</td>\n",
       "    </tr>\n",
       "    <tr>\n",
       "      <th>140704</th>\n",
       "      <td>1</td>\n",
       "      <td>47.0</td>\n",
       "      <td>11</td>\n",
       "      <td>1</td>\n",
       "      <td>29</td>\n",
       "      <td>0.0</td>\n",
       "      <td>5.0</td>\n",
       "      <td>0.00</td>\n",
       "      <td>0.0</td>\n",
       "      <td>5.0</td>\n",
       "      <td>1</td>\n",
       "      <td>1</td>\n",
       "      <td>7</td>\n",
       "      <td>1</td>\n",
       "      <td>3.0</td>\n",
       "      <td>4.0</td>\n",
       "      <td>0</td>\n",
       "    </tr>\n",
       "    <tr>\n",
       "      <th>...</th>\n",
       "      <td>...</td>\n",
       "      <td>...</td>\n",
       "      <td>...</td>\n",
       "      <td>...</td>\n",
       "      <td>...</td>\n",
       "      <td>...</td>\n",
       "      <td>...</td>\n",
       "      <td>...</td>\n",
       "      <td>...</td>\n",
       "      <td>...</td>\n",
       "      <td>...</td>\n",
       "      <td>...</td>\n",
       "      <td>...</td>\n",
       "      <td>...</td>\n",
       "      <td>...</td>\n",
       "      <td>...</td>\n",
       "      <td>...</td>\n",
       "    </tr>\n",
       "    <tr>\n",
       "      <th>234495</th>\n",
       "      <td>0</td>\n",
       "      <td>49.0</td>\n",
       "      <td>10</td>\n",
       "      <td>1</td>\n",
       "      <td>23</td>\n",
       "      <td>0.0</td>\n",
       "      <td>3.0</td>\n",
       "      <td>0.00</td>\n",
       "      <td>0.0</td>\n",
       "      <td>5.0</td>\n",
       "      <td>2</td>\n",
       "      <td>1</td>\n",
       "      <td>10</td>\n",
       "      <td>1</td>\n",
       "      <td>2.0</td>\n",
       "      <td>2.0</td>\n",
       "      <td>1</td>\n",
       "    </tr>\n",
       "    <tr>\n",
       "      <th>234496</th>\n",
       "      <td>1</td>\n",
       "      <td>29.0</td>\n",
       "      <td>1</td>\n",
       "      <td>1</td>\n",
       "      <td>23</td>\n",
       "      <td>0.0</td>\n",
       "      <td>5.0</td>\n",
       "      <td>0.00</td>\n",
       "      <td>0.0</td>\n",
       "      <td>1.0</td>\n",
       "      <td>1</td>\n",
       "      <td>1</td>\n",
       "      <td>8</td>\n",
       "      <td>1</td>\n",
       "      <td>11.0</td>\n",
       "      <td>3.0</td>\n",
       "      <td>1</td>\n",
       "    </tr>\n",
       "    <tr>\n",
       "      <th>234497</th>\n",
       "      <td>1</td>\n",
       "      <td>24.0</td>\n",
       "      <td>30</td>\n",
       "      <td>0</td>\n",
       "      <td>28</td>\n",
       "      <td>1.0</td>\n",
       "      <td>0.0</td>\n",
       "      <td>7.51</td>\n",
       "      <td>4.0</td>\n",
       "      <td>0.0</td>\n",
       "      <td>1</td>\n",
       "      <td>1</td>\n",
       "      <td>4</td>\n",
       "      <td>0</td>\n",
       "      <td>7.0</td>\n",
       "      <td>1.0</td>\n",
       "      <td>0</td>\n",
       "    </tr>\n",
       "    <tr>\n",
       "      <th>234498</th>\n",
       "      <td>0</td>\n",
       "      <td>23.0</td>\n",
       "      <td>11</td>\n",
       "      <td>1</td>\n",
       "      <td>20</td>\n",
       "      <td>0.0</td>\n",
       "      <td>4.0</td>\n",
       "      <td>0.00</td>\n",
       "      <td>0.0</td>\n",
       "      <td>2.0</td>\n",
       "      <td>0</td>\n",
       "      <td>0</td>\n",
       "      <td>5</td>\n",
       "      <td>1</td>\n",
       "      <td>7.0</td>\n",
       "      <td>5.0</td>\n",
       "      <td>1</td>\n",
       "    </tr>\n",
       "    <tr>\n",
       "      <th>234499</th>\n",
       "      <td>0</td>\n",
       "      <td>43.0</td>\n",
       "      <td>28</td>\n",
       "      <td>1</td>\n",
       "      <td>11</td>\n",
       "      <td>0.0</td>\n",
       "      <td>5.0</td>\n",
       "      <td>0.00</td>\n",
       "      <td>0.0</td>\n",
       "      <td>2.0</td>\n",
       "      <td>3</td>\n",
       "      <td>0</td>\n",
       "      <td>2</td>\n",
       "      <td>0</td>\n",
       "      <td>11.0</td>\n",
       "      <td>2.0</td>\n",
       "      <td>0</td>\n",
       "    </tr>\n",
       "  </tbody>\n",
       "</table>\n",
       "<p>93800 rows × 17 columns</p>\n",
       "</div>"
      ],
      "text/plain": [
       "        Gender   Age  City  Working Professional or Student  Profession  \\\n",
       "id                                                                        \n",
       "140700       1  53.0    30                                1          17   \n",
       "140701       0  58.0    13                                1          11   \n",
       "140702       1  53.0    10                                1          29   \n",
       "140703       0  23.0    23                                0          28   \n",
       "140704       1  47.0    11                                1          29   \n",
       "...        ...   ...   ...                              ...         ...   \n",
       "234495       0  49.0    10                                1          23   \n",
       "234496       1  29.0     1                                1          23   \n",
       "234497       1  24.0    30                                0          28   \n",
       "234498       0  23.0    11                                1          20   \n",
       "234499       0  43.0    28                                1          11   \n",
       "\n",
       "        Academic Pressure  Work Pressure  CGPA  Study Satisfaction  \\\n",
       "id                                                                   \n",
       "140700                0.0            2.0  0.00                 0.0   \n",
       "140701                0.0            2.0  0.00                 0.0   \n",
       "140702                0.0            4.0  0.00                 0.0   \n",
       "140703                5.0            0.0  6.84                 1.0   \n",
       "140704                0.0            5.0  0.00                 0.0   \n",
       "...                   ...            ...   ...                 ...   \n",
       "234495                0.0            3.0  0.00                 0.0   \n",
       "234496                0.0            5.0  0.00                 0.0   \n",
       "234497                1.0            0.0  7.51                 4.0   \n",
       "234498                0.0            4.0  0.00                 0.0   \n",
       "234499                0.0            5.0  0.00                 0.0   \n",
       "\n",
       "        Job Satisfaction  Sleep Duration  Dietary Habits  Degree  \\\n",
       "id                                                                 \n",
       "140700               5.0               2               1      12   \n",
       "140701               4.0               2               1       2   \n",
       "140702               1.0               1               1       0   \n",
       "140703               0.0               3               1      10   \n",
       "140704               5.0               1               1       7   \n",
       "...                  ...             ...             ...     ...   \n",
       "234495               5.0               2               1      10   \n",
       "234496               1.0               1               1       8   \n",
       "234497               0.0               1               1       4   \n",
       "234498               2.0               0               0       5   \n",
       "234499               2.0               3               0       2   \n",
       "\n",
       "        Have you ever had suicidal thoughts ?  Work/Study Hours  \\\n",
       "id                                                                \n",
       "140700                                      0               9.0   \n",
       "140701                                      0               6.0   \n",
       "140702                                      1              12.0   \n",
       "140703                                      1              10.0   \n",
       "140704                                      1               3.0   \n",
       "...                                       ...               ...   \n",
       "234495                                      1               2.0   \n",
       "234496                                      1              11.0   \n",
       "234497                                      0               7.0   \n",
       "234498                                      1               7.0   \n",
       "234499                                      0              11.0   \n",
       "\n",
       "        Financial Stress  Family History of Mental Illness  \n",
       "id                                                          \n",
       "140700               3.0                                 1  \n",
       "140701               4.0                                 0  \n",
       "140702               4.0                                 0  \n",
       "140703               4.0                                 0  \n",
       "140704               4.0                                 0  \n",
       "...                  ...                               ...  \n",
       "234495               2.0                                 1  \n",
       "234496               3.0                                 1  \n",
       "234497               1.0                                 0  \n",
       "234498               5.0                                 1  \n",
       "234499               2.0                                 0  \n",
       "\n",
       "[93800 rows x 17 columns]"
      ]
     },
     "execution_count": 104,
     "metadata": {},
     "output_type": "execute_result"
    }
   ],
   "source": [
    "test_df[col_obj_ls] = test_obj_df[col_obj_ls]\n",
    "test_df"
   ]
  },
  {
   "cell_type": "code",
   "execution_count": 105,
   "id": "2fb13bde",
   "metadata": {
    "execution": {
     "iopub.execute_input": "2025-02-23T20:31:50.364556Z",
     "iopub.status.busy": "2025-02-23T20:31:50.364295Z",
     "iopub.status.idle": "2025-02-23T20:31:50.435653Z",
     "shell.execute_reply": "2025-02-23T20:31:50.434731Z"
    },
    "papermill": {
     "duration": 0.103517,
     "end_time": "2025-02-23T20:31:50.436945",
     "exception": false,
     "start_time": "2025-02-23T20:31:50.333428",
     "status": "completed"
    },
    "tags": []
   },
   "outputs": [
    {
     "name": "stdout",
     "output_type": "stream",
     "text": [
      "Duplicates for Train Set : 5\n",
      "Duplicates for Test Set : 4\n"
     ]
    }
   ],
   "source": [
    "# deletting duplicate rows for the trainset\n",
    "print(f\"Duplicates for Train Set : {train_df.duplicated().sum()}\")\n",
    "print(f\"Duplicates for Test Set : {test_df.duplicated().sum()}\")\n"
   ]
  },
  {
   "cell_type": "code",
   "execution_count": 106,
   "id": "4a7e308f",
   "metadata": {
    "execution": {
     "iopub.execute_input": "2025-02-23T20:31:50.498310Z",
     "iopub.status.busy": "2025-02-23T20:31:50.498031Z",
     "iopub.status.idle": "2025-02-23T20:31:50.513077Z",
     "shell.execute_reply": "2025-02-23T20:31:50.512296Z"
    },
    "papermill": {
     "duration": 0.046705,
     "end_time": "2025-02-23T20:31:50.514235",
     "exception": false,
     "start_time": "2025-02-23T20:31:50.467530",
     "status": "completed"
    },
    "tags": []
   },
   "outputs": [
    {
     "data": {
      "text/html": [
       "<div>\n",
       "<style scoped>\n",
       "    .dataframe tbody tr th:only-of-type {\n",
       "        vertical-align: middle;\n",
       "    }\n",
       "\n",
       "    .dataframe tbody tr th {\n",
       "        vertical-align: top;\n",
       "    }\n",
       "\n",
       "    .dataframe thead th {\n",
       "        text-align: right;\n",
       "    }\n",
       "</style>\n",
       "<table border=\"1\" class=\"dataframe\">\n",
       "  <thead>\n",
       "    <tr style=\"text-align: right;\">\n",
       "      <th></th>\n",
       "      <th>Gender</th>\n",
       "      <th>Age</th>\n",
       "      <th>City</th>\n",
       "      <th>Working Professional or Student</th>\n",
       "      <th>Profession</th>\n",
       "      <th>Academic Pressure</th>\n",
       "      <th>Work Pressure</th>\n",
       "      <th>CGPA</th>\n",
       "      <th>Study Satisfaction</th>\n",
       "      <th>Job Satisfaction</th>\n",
       "      <th>Sleep Duration</th>\n",
       "      <th>Dietary Habits</th>\n",
       "      <th>Degree</th>\n",
       "      <th>Have you ever had suicidal thoughts ?</th>\n",
       "      <th>Work/Study Hours</th>\n",
       "      <th>Financial Stress</th>\n",
       "      <th>Family History of Mental Illness</th>\n",
       "      <th>Depression</th>\n",
       "    </tr>\n",
       "    <tr>\n",
       "      <th>id</th>\n",
       "      <th></th>\n",
       "      <th></th>\n",
       "      <th></th>\n",
       "      <th></th>\n",
       "      <th></th>\n",
       "      <th></th>\n",
       "      <th></th>\n",
       "      <th></th>\n",
       "      <th></th>\n",
       "      <th></th>\n",
       "      <th></th>\n",
       "      <th></th>\n",
       "      <th></th>\n",
       "      <th></th>\n",
       "      <th></th>\n",
       "      <th></th>\n",
       "      <th></th>\n",
       "      <th></th>\n",
       "    </tr>\n",
       "  </thead>\n",
       "  <tbody>\n",
       "    <tr>\n",
       "      <th>140695</th>\n",
       "      <td>0</td>\n",
       "      <td>18.0</td>\n",
       "      <td>1</td>\n",
       "      <td>1</td>\n",
       "      <td>33</td>\n",
       "      <td>0.0</td>\n",
       "      <td>5.0</td>\n",
       "      <td>0.00</td>\n",
       "      <td>0.0</td>\n",
       "      <td>4.0</td>\n",
       "      <td>0</td>\n",
       "      <td>3</td>\n",
       "      <td>11</td>\n",
       "      <td>0</td>\n",
       "      <td>2.0</td>\n",
       "      <td>4.0</td>\n",
       "      <td>1</td>\n",
       "      <td>1</td>\n",
       "    </tr>\n",
       "    <tr>\n",
       "      <th>140696</th>\n",
       "      <td>0</td>\n",
       "      <td>41.0</td>\n",
       "      <td>8</td>\n",
       "      <td>1</td>\n",
       "      <td>7</td>\n",
       "      <td>0.0</td>\n",
       "      <td>5.0</td>\n",
       "      <td>0.00</td>\n",
       "      <td>0.0</td>\n",
       "      <td>4.0</td>\n",
       "      <td>1</td>\n",
       "      <td>1</td>\n",
       "      <td>4</td>\n",
       "      <td>1</td>\n",
       "      <td>6.0</td>\n",
       "      <td>5.0</td>\n",
       "      <td>1</td>\n",
       "      <td>0</td>\n",
       "    </tr>\n",
       "    <tr>\n",
       "      <th>140697</th>\n",
       "      <td>0</td>\n",
       "      <td>24.0</td>\n",
       "      <td>13</td>\n",
       "      <td>1</td>\n",
       "      <td>21</td>\n",
       "      <td>0.0</td>\n",
       "      <td>3.0</td>\n",
       "      <td>0.00</td>\n",
       "      <td>0.0</td>\n",
       "      <td>1.0</td>\n",
       "      <td>3</td>\n",
       "      <td>1</td>\n",
       "      <td>1</td>\n",
       "      <td>0</td>\n",
       "      <td>4.0</td>\n",
       "      <td>4.0</td>\n",
       "      <td>0</td>\n",
       "      <td>0</td>\n",
       "    </tr>\n",
       "    <tr>\n",
       "      <th>140698</th>\n",
       "      <td>0</td>\n",
       "      <td>49.0</td>\n",
       "      <td>24</td>\n",
       "      <td>1</td>\n",
       "      <td>25</td>\n",
       "      <td>0.0</td>\n",
       "      <td>5.0</td>\n",
       "      <td>0.00</td>\n",
       "      <td>0.0</td>\n",
       "      <td>2.0</td>\n",
       "      <td>0</td>\n",
       "      <td>1</td>\n",
       "      <td>23</td>\n",
       "      <td>1</td>\n",
       "      <td>10.0</td>\n",
       "      <td>1.0</td>\n",
       "      <td>0</td>\n",
       "      <td>0</td>\n",
       "    </tr>\n",
       "    <tr>\n",
       "      <th>140699</th>\n",
       "      <td>1</td>\n",
       "      <td>27.0</td>\n",
       "      <td>21</td>\n",
       "      <td>0</td>\n",
       "      <td>29</td>\n",
       "      <td>4.0</td>\n",
       "      <td>0.0</td>\n",
       "      <td>9.24</td>\n",
       "      <td>1.0</td>\n",
       "      <td>0.0</td>\n",
       "      <td>2</td>\n",
       "      <td>0</td>\n",
       "      <td>7</td>\n",
       "      <td>1</td>\n",
       "      <td>2.0</td>\n",
       "      <td>3.0</td>\n",
       "      <td>1</td>\n",
       "      <td>1</td>\n",
       "    </tr>\n",
       "  </tbody>\n",
       "</table>\n",
       "</div>"
      ],
      "text/plain": [
       "        Gender   Age  City  Working Professional or Student  Profession  \\\n",
       "id                                                                        \n",
       "140695       0  18.0     1                                1          33   \n",
       "140696       0  41.0     8                                1           7   \n",
       "140697       0  24.0    13                                1          21   \n",
       "140698       0  49.0    24                                1          25   \n",
       "140699       1  27.0    21                                0          29   \n",
       "\n",
       "        Academic Pressure  Work Pressure  CGPA  Study Satisfaction  \\\n",
       "id                                                                   \n",
       "140695                0.0            5.0  0.00                 0.0   \n",
       "140696                0.0            5.0  0.00                 0.0   \n",
       "140697                0.0            3.0  0.00                 0.0   \n",
       "140698                0.0            5.0  0.00                 0.0   \n",
       "140699                4.0            0.0  9.24                 1.0   \n",
       "\n",
       "        Job Satisfaction  Sleep Duration  Dietary Habits  Degree  \\\n",
       "id                                                                 \n",
       "140695               4.0               0               3      11   \n",
       "140696               4.0               1               1       4   \n",
       "140697               1.0               3               1       1   \n",
       "140698               2.0               0               1      23   \n",
       "140699               0.0               2               0       7   \n",
       "\n",
       "        Have you ever had suicidal thoughts ?  Work/Study Hours  \\\n",
       "id                                                                \n",
       "140695                                      0               2.0   \n",
       "140696                                      1               6.0   \n",
       "140697                                      0               4.0   \n",
       "140698                                      1              10.0   \n",
       "140699                                      1               2.0   \n",
       "\n",
       "        Financial Stress  Family History of Mental Illness  Depression  \n",
       "id                                                                      \n",
       "140695               4.0                                 1           1  \n",
       "140696               5.0                                 1           0  \n",
       "140697               4.0                                 0           0  \n",
       "140698               1.0                                 0           0  \n",
       "140699               3.0                                 1           1  "
      ]
     },
     "execution_count": 106,
     "metadata": {},
     "output_type": "execute_result"
    }
   ],
   "source": [
    "train_df.tail(5)"
   ]
  },
  {
   "cell_type": "code",
   "execution_count": 107,
   "id": "a274e46d",
   "metadata": {
    "execution": {
     "iopub.execute_input": "2025-02-23T20:31:50.575189Z",
     "iopub.status.busy": "2025-02-23T20:31:50.574883Z",
     "iopub.status.idle": "2025-02-23T20:31:50.589677Z",
     "shell.execute_reply": "2025-02-23T20:31:50.588850Z"
    },
    "papermill": {
     "duration": 0.04671,
     "end_time": "2025-02-23T20:31:50.590991",
     "exception": false,
     "start_time": "2025-02-23T20:31:50.544281",
     "status": "completed"
    },
    "tags": []
   },
   "outputs": [
    {
     "data": {
      "text/html": [
       "<div>\n",
       "<style scoped>\n",
       "    .dataframe tbody tr th:only-of-type {\n",
       "        vertical-align: middle;\n",
       "    }\n",
       "\n",
       "    .dataframe tbody tr th {\n",
       "        vertical-align: top;\n",
       "    }\n",
       "\n",
       "    .dataframe thead th {\n",
       "        text-align: right;\n",
       "    }\n",
       "</style>\n",
       "<table border=\"1\" class=\"dataframe\">\n",
       "  <thead>\n",
       "    <tr style=\"text-align: right;\">\n",
       "      <th></th>\n",
       "      <th>Gender</th>\n",
       "      <th>Age</th>\n",
       "      <th>City</th>\n",
       "      <th>Working Professional or Student</th>\n",
       "      <th>Profession</th>\n",
       "      <th>Academic Pressure</th>\n",
       "      <th>Work Pressure</th>\n",
       "      <th>CGPA</th>\n",
       "      <th>Study Satisfaction</th>\n",
       "      <th>Job Satisfaction</th>\n",
       "      <th>Sleep Duration</th>\n",
       "      <th>Dietary Habits</th>\n",
       "      <th>Degree</th>\n",
       "      <th>Have you ever had suicidal thoughts ?</th>\n",
       "      <th>Work/Study Hours</th>\n",
       "      <th>Financial Stress</th>\n",
       "      <th>Family History of Mental Illness</th>\n",
       "    </tr>\n",
       "    <tr>\n",
       "      <th>id</th>\n",
       "      <th></th>\n",
       "      <th></th>\n",
       "      <th></th>\n",
       "      <th></th>\n",
       "      <th></th>\n",
       "      <th></th>\n",
       "      <th></th>\n",
       "      <th></th>\n",
       "      <th></th>\n",
       "      <th></th>\n",
       "      <th></th>\n",
       "      <th></th>\n",
       "      <th></th>\n",
       "      <th></th>\n",
       "      <th></th>\n",
       "      <th></th>\n",
       "      <th></th>\n",
       "    </tr>\n",
       "  </thead>\n",
       "  <tbody>\n",
       "    <tr>\n",
       "      <th>140700</th>\n",
       "      <td>1</td>\n",
       "      <td>53.0</td>\n",
       "      <td>30</td>\n",
       "      <td>1</td>\n",
       "      <td>17</td>\n",
       "      <td>0.0</td>\n",
       "      <td>2.0</td>\n",
       "      <td>0.00</td>\n",
       "      <td>0.0</td>\n",
       "      <td>5.0</td>\n",
       "      <td>2</td>\n",
       "      <td>1</td>\n",
       "      <td>12</td>\n",
       "      <td>0</td>\n",
       "      <td>9.0</td>\n",
       "      <td>3.0</td>\n",
       "      <td>1</td>\n",
       "    </tr>\n",
       "    <tr>\n",
       "      <th>140701</th>\n",
       "      <td>0</td>\n",
       "      <td>58.0</td>\n",
       "      <td>13</td>\n",
       "      <td>1</td>\n",
       "      <td>11</td>\n",
       "      <td>0.0</td>\n",
       "      <td>2.0</td>\n",
       "      <td>0.00</td>\n",
       "      <td>0.0</td>\n",
       "      <td>4.0</td>\n",
       "      <td>2</td>\n",
       "      <td>1</td>\n",
       "      <td>2</td>\n",
       "      <td>0</td>\n",
       "      <td>6.0</td>\n",
       "      <td>4.0</td>\n",
       "      <td>0</td>\n",
       "    </tr>\n",
       "    <tr>\n",
       "      <th>140702</th>\n",
       "      <td>1</td>\n",
       "      <td>53.0</td>\n",
       "      <td>10</td>\n",
       "      <td>1</td>\n",
       "      <td>29</td>\n",
       "      <td>0.0</td>\n",
       "      <td>4.0</td>\n",
       "      <td>0.00</td>\n",
       "      <td>0.0</td>\n",
       "      <td>1.0</td>\n",
       "      <td>1</td>\n",
       "      <td>1</td>\n",
       "      <td>0</td>\n",
       "      <td>1</td>\n",
       "      <td>12.0</td>\n",
       "      <td>4.0</td>\n",
       "      <td>0</td>\n",
       "    </tr>\n",
       "    <tr>\n",
       "      <th>140703</th>\n",
       "      <td>0</td>\n",
       "      <td>23.0</td>\n",
       "      <td>23</td>\n",
       "      <td>0</td>\n",
       "      <td>28</td>\n",
       "      <td>5.0</td>\n",
       "      <td>0.0</td>\n",
       "      <td>6.84</td>\n",
       "      <td>1.0</td>\n",
       "      <td>0.0</td>\n",
       "      <td>3</td>\n",
       "      <td>1</td>\n",
       "      <td>10</td>\n",
       "      <td>1</td>\n",
       "      <td>10.0</td>\n",
       "      <td>4.0</td>\n",
       "      <td>0</td>\n",
       "    </tr>\n",
       "    <tr>\n",
       "      <th>140704</th>\n",
       "      <td>1</td>\n",
       "      <td>47.0</td>\n",
       "      <td>11</td>\n",
       "      <td>1</td>\n",
       "      <td>29</td>\n",
       "      <td>0.0</td>\n",
       "      <td>5.0</td>\n",
       "      <td>0.00</td>\n",
       "      <td>0.0</td>\n",
       "      <td>5.0</td>\n",
       "      <td>1</td>\n",
       "      <td>1</td>\n",
       "      <td>7</td>\n",
       "      <td>1</td>\n",
       "      <td>3.0</td>\n",
       "      <td>4.0</td>\n",
       "      <td>0</td>\n",
       "    </tr>\n",
       "  </tbody>\n",
       "</table>\n",
       "</div>"
      ],
      "text/plain": [
       "        Gender   Age  City  Working Professional or Student  Profession  \\\n",
       "id                                                                        \n",
       "140700       1  53.0    30                                1          17   \n",
       "140701       0  58.0    13                                1          11   \n",
       "140702       1  53.0    10                                1          29   \n",
       "140703       0  23.0    23                                0          28   \n",
       "140704       1  47.0    11                                1          29   \n",
       "\n",
       "        Academic Pressure  Work Pressure  CGPA  Study Satisfaction  \\\n",
       "id                                                                   \n",
       "140700                0.0            2.0  0.00                 0.0   \n",
       "140701                0.0            2.0  0.00                 0.0   \n",
       "140702                0.0            4.0  0.00                 0.0   \n",
       "140703                5.0            0.0  6.84                 1.0   \n",
       "140704                0.0            5.0  0.00                 0.0   \n",
       "\n",
       "        Job Satisfaction  Sleep Duration  Dietary Habits  Degree  \\\n",
       "id                                                                 \n",
       "140700               5.0               2               1      12   \n",
       "140701               4.0               2               1       2   \n",
       "140702               1.0               1               1       0   \n",
       "140703               0.0               3               1      10   \n",
       "140704               5.0               1               1       7   \n",
       "\n",
       "        Have you ever had suicidal thoughts ?  Work/Study Hours  \\\n",
       "id                                                                \n",
       "140700                                      0               9.0   \n",
       "140701                                      0               6.0   \n",
       "140702                                      1              12.0   \n",
       "140703                                      1              10.0   \n",
       "140704                                      1               3.0   \n",
       "\n",
       "        Financial Stress  Family History of Mental Illness  \n",
       "id                                                          \n",
       "140700               3.0                                 1  \n",
       "140701               4.0                                 0  \n",
       "140702               4.0                                 0  \n",
       "140703               4.0                                 0  \n",
       "140704               4.0                                 0  "
      ]
     },
     "execution_count": 107,
     "metadata": {},
     "output_type": "execute_result"
    }
   ],
   "source": [
    "test_df.head(5)"
   ]
  },
  {
   "cell_type": "code",
   "execution_count": 108,
   "id": "f3653f05",
   "metadata": {
    "execution": {
     "iopub.execute_input": "2025-02-23T20:31:50.653577Z",
     "iopub.status.busy": "2025-02-23T20:31:50.653340Z",
     "iopub.status.idle": "2025-02-23T20:31:50.671800Z",
     "shell.execute_reply": "2025-02-23T20:31:50.671094Z"
    },
    "papermill": {
     "duration": 0.050967,
     "end_time": "2025-02-23T20:31:50.673073",
     "exception": false,
     "start_time": "2025-02-23T20:31:50.622106",
     "status": "completed"
    },
    "tags": []
   },
   "outputs": [
    {
     "data": {
      "text/html": [
       "<div>\n",
       "<style scoped>\n",
       "    .dataframe tbody tr th:only-of-type {\n",
       "        vertical-align: middle;\n",
       "    }\n",
       "\n",
       "    .dataframe tbody tr th {\n",
       "        vertical-align: top;\n",
       "    }\n",
       "\n",
       "    .dataframe thead th {\n",
       "        text-align: right;\n",
       "    }\n",
       "</style>\n",
       "<table border=\"1\" class=\"dataframe\">\n",
       "  <thead>\n",
       "    <tr style=\"text-align: right;\">\n",
       "      <th></th>\n",
       "      <th>Gender</th>\n",
       "      <th>Age</th>\n",
       "      <th>City</th>\n",
       "      <th>Working Professional or Student</th>\n",
       "      <th>Profession</th>\n",
       "      <th>Academic Pressure</th>\n",
       "      <th>Work Pressure</th>\n",
       "      <th>CGPA</th>\n",
       "      <th>Study Satisfaction</th>\n",
       "      <th>Job Satisfaction</th>\n",
       "      <th>Sleep Duration</th>\n",
       "      <th>Dietary Habits</th>\n",
       "      <th>Degree</th>\n",
       "      <th>Have you ever had suicidal thoughts ?</th>\n",
       "      <th>Work/Study Hours</th>\n",
       "      <th>Financial Stress</th>\n",
       "      <th>Family History of Mental Illness</th>\n",
       "    </tr>\n",
       "    <tr>\n",
       "      <th>id</th>\n",
       "      <th></th>\n",
       "      <th></th>\n",
       "      <th></th>\n",
       "      <th></th>\n",
       "      <th></th>\n",
       "      <th></th>\n",
       "      <th></th>\n",
       "      <th></th>\n",
       "      <th></th>\n",
       "      <th></th>\n",
       "      <th></th>\n",
       "      <th></th>\n",
       "      <th></th>\n",
       "      <th></th>\n",
       "      <th></th>\n",
       "      <th></th>\n",
       "      <th></th>\n",
       "    </tr>\n",
       "  </thead>\n",
       "  <tbody>\n",
       "  </tbody>\n",
       "</table>\n",
       "</div>"
      ],
      "text/plain": [
       "Empty DataFrame\n",
       "Columns: [Gender, Age, City, Working Professional or Student, Profession, Academic Pressure, Work Pressure, CGPA, Study Satisfaction, Job Satisfaction, Sleep Duration, Dietary Habits, Degree, Have you ever had suicidal thoughts ?, Work/Study Hours, Financial Stress, Family History of Mental Illness]\n",
       "Index: []"
      ]
     },
     "execution_count": 108,
     "metadata": {},
     "output_type": "execute_result"
    }
   ],
   "source": [
    "len(train_df.columns)\n",
    "train_df.iloc[0:0,:17]"
   ]
  },
  {
   "cell_type": "code",
   "execution_count": 109,
   "id": "7668f116",
   "metadata": {
    "execution": {
     "iopub.execute_input": "2025-02-23T20:31:50.738854Z",
     "iopub.status.busy": "2025-02-23T20:31:50.738578Z",
     "iopub.status.idle": "2025-02-23T20:31:50.762426Z",
     "shell.execute_reply": "2025-02-23T20:31:50.761788Z"
    },
    "papermill": {
     "duration": 0.056009,
     "end_time": "2025-02-23T20:31:50.763671",
     "exception": false,
     "start_time": "2025-02-23T20:31:50.707662",
     "status": "completed"
    },
    "tags": []
   },
   "outputs": [],
   "source": [
    "# We will only use the train set for making the model as you can see the valid reasons for doing so\n",
    "X = train_df.iloc[:,:17]\n",
    "y = train_df['Depression']"
   ]
  },
  {
   "cell_type": "markdown",
   "id": "f3fdf616",
   "metadata": {
    "papermill": {
     "duration": 0.02974,
     "end_time": "2025-02-23T20:31:50.824165",
     "exception": false,
     "start_time": "2025-02-23T20:31:50.794425",
     "status": "completed"
    },
    "tags": []
   },
   "source": [
    "# Data Normalization"
   ]
  },
  {
   "cell_type": "code",
   "execution_count": 110,
   "id": "ba0159c8",
   "metadata": {
    "execution": {
     "iopub.execute_input": "2025-02-23T20:31:50.886342Z",
     "iopub.status.busy": "2025-02-23T20:31:50.886079Z",
     "iopub.status.idle": "2025-02-23T20:31:50.929682Z",
     "shell.execute_reply": "2025-02-23T20:31:50.928966Z"
    },
    "papermill": {
     "duration": 0.076741,
     "end_time": "2025-02-23T20:31:50.931316",
     "exception": false,
     "start_time": "2025-02-23T20:31:50.854575",
     "status": "completed"
    },
    "tags": []
   },
   "outputs": [],
   "source": [
    "scaler = MinMaxScaler()\n",
    "X = pd.DataFrame(scaler.fit_transform(X), columns=X.columns)  "
   ]
  },
  {
   "cell_type": "code",
   "execution_count": 111,
   "id": "cf1a2301",
   "metadata": {
    "execution": {
     "iopub.execute_input": "2025-02-23T20:31:50.995488Z",
     "iopub.status.busy": "2025-02-23T20:31:50.995193Z",
     "iopub.status.idle": "2025-02-23T20:31:51.016725Z",
     "shell.execute_reply": "2025-02-23T20:31:51.015976Z"
    },
    "papermill": {
     "duration": 0.054365,
     "end_time": "2025-02-23T20:31:51.018035",
     "exception": false,
     "start_time": "2025-02-23T20:31:50.963670",
     "status": "completed"
    },
    "tags": []
   },
   "outputs": [
    {
     "data": {
      "text/html": [
       "<div>\n",
       "<style scoped>\n",
       "    .dataframe tbody tr th:only-of-type {\n",
       "        vertical-align: middle;\n",
       "    }\n",
       "\n",
       "    .dataframe tbody tr th {\n",
       "        vertical-align: top;\n",
       "    }\n",
       "\n",
       "    .dataframe thead th {\n",
       "        text-align: right;\n",
       "    }\n",
       "</style>\n",
       "<table border=\"1\" class=\"dataframe\">\n",
       "  <thead>\n",
       "    <tr style=\"text-align: right;\">\n",
       "      <th></th>\n",
       "      <th>Gender</th>\n",
       "      <th>Age</th>\n",
       "      <th>City</th>\n",
       "      <th>Working Professional or Student</th>\n",
       "      <th>Profession</th>\n",
       "      <th>Academic Pressure</th>\n",
       "      <th>Work Pressure</th>\n",
       "      <th>CGPA</th>\n",
       "      <th>Study Satisfaction</th>\n",
       "      <th>Job Satisfaction</th>\n",
       "      <th>Sleep Duration</th>\n",
       "      <th>Dietary Habits</th>\n",
       "      <th>Degree</th>\n",
       "      <th>Have you ever had suicidal thoughts ?</th>\n",
       "      <th>Work/Study Hours</th>\n",
       "      <th>Financial Stress</th>\n",
       "      <th>Family History of Mental Illness</th>\n",
       "    </tr>\n",
       "  </thead>\n",
       "  <tbody>\n",
       "    <tr>\n",
       "      <th>0</th>\n",
       "      <td>0.0</td>\n",
       "      <td>0.738095</td>\n",
       "      <td>0.500000</td>\n",
       "      <td>1.0</td>\n",
       "      <td>0.090909</td>\n",
       "      <td>0.0</td>\n",
       "      <td>1.0</td>\n",
       "      <td>0.000</td>\n",
       "      <td>0.0</td>\n",
       "      <td>0.4</td>\n",
       "      <td>0.75</td>\n",
       "      <td>0.000000</td>\n",
       "      <td>0.333333</td>\n",
       "      <td>0.0</td>\n",
       "      <td>0.083333</td>\n",
       "      <td>0.4</td>\n",
       "      <td>0.0</td>\n",
       "    </tr>\n",
       "    <tr>\n",
       "      <th>1</th>\n",
       "      <td>1.0</td>\n",
       "      <td>0.190476</td>\n",
       "      <td>0.933333</td>\n",
       "      <td>1.0</td>\n",
       "      <td>0.909091</td>\n",
       "      <td>0.0</td>\n",
       "      <td>0.8</td>\n",
       "      <td>0.000</td>\n",
       "      <td>0.0</td>\n",
       "      <td>0.6</td>\n",
       "      <td>0.50</td>\n",
       "      <td>1.000000</td>\n",
       "      <td>0.444444</td>\n",
       "      <td>1.0</td>\n",
       "      <td>0.583333</td>\n",
       "      <td>0.6</td>\n",
       "      <td>0.0</td>\n",
       "    </tr>\n",
       "    <tr>\n",
       "      <th>2</th>\n",
       "      <td>1.0</td>\n",
       "      <td>0.357143</td>\n",
       "      <td>1.000000</td>\n",
       "      <td>0.0</td>\n",
       "      <td>0.878788</td>\n",
       "      <td>1.0</td>\n",
       "      <td>0.0</td>\n",
       "      <td>0.897</td>\n",
       "      <td>0.4</td>\n",
       "      <td>0.0</td>\n",
       "      <td>0.00</td>\n",
       "      <td>0.000000</td>\n",
       "      <td>0.111111</td>\n",
       "      <td>1.0</td>\n",
       "      <td>0.250000</td>\n",
       "      <td>0.2</td>\n",
       "      <td>0.0</td>\n",
       "    </tr>\n",
       "    <tr>\n",
       "      <th>3</th>\n",
       "      <td>1.0</td>\n",
       "      <td>0.095238</td>\n",
       "      <td>0.566667</td>\n",
       "      <td>1.0</td>\n",
       "      <td>0.909091</td>\n",
       "      <td>0.0</td>\n",
       "      <td>1.0</td>\n",
       "      <td>0.000</td>\n",
       "      <td>0.0</td>\n",
       "      <td>0.2</td>\n",
       "      <td>0.50</td>\n",
       "      <td>0.333333</td>\n",
       "      <td>0.222222</td>\n",
       "      <td>1.0</td>\n",
       "      <td>0.833333</td>\n",
       "      <td>0.2</td>\n",
       "      <td>1.0</td>\n",
       "    </tr>\n",
       "    <tr>\n",
       "      <th>4</th>\n",
       "      <td>0.0</td>\n",
       "      <td>0.285714</td>\n",
       "      <td>0.400000</td>\n",
       "      <td>1.0</td>\n",
       "      <td>0.060606</td>\n",
       "      <td>0.0</td>\n",
       "      <td>0.2</td>\n",
       "      <td>0.000</td>\n",
       "      <td>0.0</td>\n",
       "      <td>0.2</td>\n",
       "      <td>0.00</td>\n",
       "      <td>1.000000</td>\n",
       "      <td>0.222222</td>\n",
       "      <td>1.0</td>\n",
       "      <td>0.750000</td>\n",
       "      <td>0.8</td>\n",
       "      <td>1.0</td>\n",
       "    </tr>\n",
       "    <tr>\n",
       "      <th>...</th>\n",
       "      <td>...</td>\n",
       "      <td>...</td>\n",
       "      <td>...</td>\n",
       "      <td>...</td>\n",
       "      <td>...</td>\n",
       "      <td>...</td>\n",
       "      <td>...</td>\n",
       "      <td>...</td>\n",
       "      <td>...</td>\n",
       "      <td>...</td>\n",
       "      <td>...</td>\n",
       "      <td>...</td>\n",
       "      <td>...</td>\n",
       "      <td>...</td>\n",
       "      <td>...</td>\n",
       "      <td>...</td>\n",
       "      <td>...</td>\n",
       "    </tr>\n",
       "    <tr>\n",
       "      <th>140695</th>\n",
       "      <td>0.0</td>\n",
       "      <td>0.000000</td>\n",
       "      <td>0.033333</td>\n",
       "      <td>1.0</td>\n",
       "      <td>1.000000</td>\n",
       "      <td>0.0</td>\n",
       "      <td>1.0</td>\n",
       "      <td>0.000</td>\n",
       "      <td>0.0</td>\n",
       "      <td>0.8</td>\n",
       "      <td>0.00</td>\n",
       "      <td>1.000000</td>\n",
       "      <td>0.407407</td>\n",
       "      <td>0.0</td>\n",
       "      <td>0.166667</td>\n",
       "      <td>0.8</td>\n",
       "      <td>1.0</td>\n",
       "    </tr>\n",
       "    <tr>\n",
       "      <th>140696</th>\n",
       "      <td>0.0</td>\n",
       "      <td>0.547619</td>\n",
       "      <td>0.266667</td>\n",
       "      <td>1.0</td>\n",
       "      <td>0.212121</td>\n",
       "      <td>0.0</td>\n",
       "      <td>1.0</td>\n",
       "      <td>0.000</td>\n",
       "      <td>0.0</td>\n",
       "      <td>0.8</td>\n",
       "      <td>0.25</td>\n",
       "      <td>0.333333</td>\n",
       "      <td>0.148148</td>\n",
       "      <td>1.0</td>\n",
       "      <td>0.500000</td>\n",
       "      <td>1.0</td>\n",
       "      <td>1.0</td>\n",
       "    </tr>\n",
       "    <tr>\n",
       "      <th>140697</th>\n",
       "      <td>0.0</td>\n",
       "      <td>0.142857</td>\n",
       "      <td>0.433333</td>\n",
       "      <td>1.0</td>\n",
       "      <td>0.636364</td>\n",
       "      <td>0.0</td>\n",
       "      <td>0.6</td>\n",
       "      <td>0.000</td>\n",
       "      <td>0.0</td>\n",
       "      <td>0.2</td>\n",
       "      <td>0.75</td>\n",
       "      <td>0.333333</td>\n",
       "      <td>0.037037</td>\n",
       "      <td>0.0</td>\n",
       "      <td>0.333333</td>\n",
       "      <td>0.8</td>\n",
       "      <td>0.0</td>\n",
       "    </tr>\n",
       "    <tr>\n",
       "      <th>140698</th>\n",
       "      <td>0.0</td>\n",
       "      <td>0.738095</td>\n",
       "      <td>0.800000</td>\n",
       "      <td>1.0</td>\n",
       "      <td>0.757576</td>\n",
       "      <td>0.0</td>\n",
       "      <td>1.0</td>\n",
       "      <td>0.000</td>\n",
       "      <td>0.0</td>\n",
       "      <td>0.4</td>\n",
       "      <td>0.00</td>\n",
       "      <td>0.333333</td>\n",
       "      <td>0.851852</td>\n",
       "      <td>1.0</td>\n",
       "      <td>0.833333</td>\n",
       "      <td>0.2</td>\n",
       "      <td>0.0</td>\n",
       "    </tr>\n",
       "    <tr>\n",
       "      <th>140699</th>\n",
       "      <td>1.0</td>\n",
       "      <td>0.214286</td>\n",
       "      <td>0.700000</td>\n",
       "      <td>0.0</td>\n",
       "      <td>0.878788</td>\n",
       "      <td>0.8</td>\n",
       "      <td>0.0</td>\n",
       "      <td>0.924</td>\n",
       "      <td>0.2</td>\n",
       "      <td>0.0</td>\n",
       "      <td>0.50</td>\n",
       "      <td>0.000000</td>\n",
       "      <td>0.259259</td>\n",
       "      <td>1.0</td>\n",
       "      <td>0.166667</td>\n",
       "      <td>0.6</td>\n",
       "      <td>1.0</td>\n",
       "    </tr>\n",
       "  </tbody>\n",
       "</table>\n",
       "<p>140700 rows × 17 columns</p>\n",
       "</div>"
      ],
      "text/plain": [
       "        Gender       Age      City  Working Professional or Student  \\\n",
       "0          0.0  0.738095  0.500000                              1.0   \n",
       "1          1.0  0.190476  0.933333                              1.0   \n",
       "2          1.0  0.357143  1.000000                              0.0   \n",
       "3          1.0  0.095238  0.566667                              1.0   \n",
       "4          0.0  0.285714  0.400000                              1.0   \n",
       "...        ...       ...       ...                              ...   \n",
       "140695     0.0  0.000000  0.033333                              1.0   \n",
       "140696     0.0  0.547619  0.266667                              1.0   \n",
       "140697     0.0  0.142857  0.433333                              1.0   \n",
       "140698     0.0  0.738095  0.800000                              1.0   \n",
       "140699     1.0  0.214286  0.700000                              0.0   \n",
       "\n",
       "        Profession  Academic Pressure  Work Pressure   CGPA  \\\n",
       "0         0.090909                0.0            1.0  0.000   \n",
       "1         0.909091                0.0            0.8  0.000   \n",
       "2         0.878788                1.0            0.0  0.897   \n",
       "3         0.909091                0.0            1.0  0.000   \n",
       "4         0.060606                0.0            0.2  0.000   \n",
       "...            ...                ...            ...    ...   \n",
       "140695    1.000000                0.0            1.0  0.000   \n",
       "140696    0.212121                0.0            1.0  0.000   \n",
       "140697    0.636364                0.0            0.6  0.000   \n",
       "140698    0.757576                0.0            1.0  0.000   \n",
       "140699    0.878788                0.8            0.0  0.924   \n",
       "\n",
       "        Study Satisfaction  Job Satisfaction  Sleep Duration  Dietary Habits  \\\n",
       "0                      0.0               0.4            0.75        0.000000   \n",
       "1                      0.0               0.6            0.50        1.000000   \n",
       "2                      0.4               0.0            0.00        0.000000   \n",
       "3                      0.0               0.2            0.50        0.333333   \n",
       "4                      0.0               0.2            0.00        1.000000   \n",
       "...                    ...               ...             ...             ...   \n",
       "140695                 0.0               0.8            0.00        1.000000   \n",
       "140696                 0.0               0.8            0.25        0.333333   \n",
       "140697                 0.0               0.2            0.75        0.333333   \n",
       "140698                 0.0               0.4            0.00        0.333333   \n",
       "140699                 0.2               0.0            0.50        0.000000   \n",
       "\n",
       "          Degree  Have you ever had suicidal thoughts ?  Work/Study Hours  \\\n",
       "0       0.333333                                    0.0          0.083333   \n",
       "1       0.444444                                    1.0          0.583333   \n",
       "2       0.111111                                    1.0          0.250000   \n",
       "3       0.222222                                    1.0          0.833333   \n",
       "4       0.222222                                    1.0          0.750000   \n",
       "...          ...                                    ...               ...   \n",
       "140695  0.407407                                    0.0          0.166667   \n",
       "140696  0.148148                                    1.0          0.500000   \n",
       "140697  0.037037                                    0.0          0.333333   \n",
       "140698  0.851852                                    1.0          0.833333   \n",
       "140699  0.259259                                    1.0          0.166667   \n",
       "\n",
       "        Financial Stress  Family History of Mental Illness  \n",
       "0                    0.4                               0.0  \n",
       "1                    0.6                               0.0  \n",
       "2                    0.2                               0.0  \n",
       "3                    0.2                               1.0  \n",
       "4                    0.8                               1.0  \n",
       "...                  ...                               ...  \n",
       "140695               0.8                               1.0  \n",
       "140696               1.0                               1.0  \n",
       "140697               0.8                               0.0  \n",
       "140698               0.2                               0.0  \n",
       "140699               0.6                               1.0  \n",
       "\n",
       "[140700 rows x 17 columns]"
      ]
     },
     "execution_count": 111,
     "metadata": {},
     "output_type": "execute_result"
    }
   ],
   "source": [
    "X"
   ]
  },
  {
   "cell_type": "markdown",
   "id": "2d43a419",
   "metadata": {
    "papermill": {
     "duration": 0.030561,
     "end_time": "2025-02-23T20:31:51.079447",
     "exception": false,
     "start_time": "2025-02-23T20:31:51.048886",
     "status": "completed"
    },
    "tags": []
   },
   "source": [
    "# Splitting The Data"
   ]
  },
  {
   "cell_type": "code",
   "execution_count": 112,
   "id": "9d3f39c3",
   "metadata": {
    "execution": {
     "iopub.execute_input": "2025-02-23T20:31:51.143936Z",
     "iopub.status.busy": "2025-02-23T20:31:51.143581Z",
     "iopub.status.idle": "2025-02-23T20:31:51.167412Z",
     "shell.execute_reply": "2025-02-23T20:31:51.166415Z"
    },
    "papermill": {
     "duration": 0.058352,
     "end_time": "2025-02-23T20:31:51.169060",
     "exception": false,
     "start_time": "2025-02-23T20:31:51.110708",
     "status": "completed"
    },
    "tags": []
   },
   "outputs": [],
   "source": [
    "(X_train , X_test , y_train , y_test) = train_test_split(X, y, random_state=2030 , test_size=0.25 )"
   ]
  },
  {
   "cell_type": "code",
   "execution_count": 113,
   "id": "e0eb964a",
   "metadata": {
    "execution": {
     "iopub.execute_input": "2025-02-23T20:31:51.233319Z",
     "iopub.status.busy": "2025-02-23T20:31:51.233021Z",
     "iopub.status.idle": "2025-02-23T20:31:51.238071Z",
     "shell.execute_reply": "2025-02-23T20:31:51.237381Z"
    },
    "papermill": {
     "duration": 0.038225,
     "end_time": "2025-02-23T20:31:51.239362",
     "exception": false,
     "start_time": "2025-02-23T20:31:51.201137",
     "status": "completed"
    },
    "tags": []
   },
   "outputs": [
    {
     "name": "stdout",
     "output_type": "stream",
     "text": [
      "SHAPE of X_train :(105525, 17)\n",
      "SHAPE of X_test : (35175, 17)\n",
      "SHAPE of y_train : (105525,)\n",
      "SHAPE of y_test : (35175,)\n"
     ]
    }
   ],
   "source": [
    "print(f\"SHAPE of X_train :{X_train.shape}\")\n",
    "print(f\"SHAPE of X_test : {X_test.shape}\")\n",
    "print(f\"SHAPE of y_train : {y_train.shape}\")\n",
    "print(f\"SHAPE of y_test : {y_test.shape}\")"
   ]
  },
  {
   "cell_type": "markdown",
   "id": "e910464c",
   "metadata": {
    "papermill": {
     "duration": 0.030421,
     "end_time": "2025-02-23T20:31:51.300572",
     "exception": false,
     "start_time": "2025-02-23T20:31:51.270151",
     "status": "completed"
    },
    "tags": []
   },
   "source": [
    "# Feature Selection"
   ]
  },
  {
   "cell_type": "markdown",
   "id": "a3d970db",
   "metadata": {
    "papermill": {
     "duration": 0.030447,
     "end_time": "2025-02-23T20:31:51.399767",
     "exception": false,
     "start_time": "2025-02-23T20:31:51.369320",
     "status": "completed"
    },
    "tags": []
   },
   "source": [
    "Though we will look through the features to find the best suitable features, I'll still add all the features into the model and try to get maximum accuracy without overfitting , well there is nothing wrong in trying right !!"
   ]
  },
  {
   "cell_type": "code",
   "execution_count": 114,
   "id": "8e36de8f",
   "metadata": {
    "execution": {
     "iopub.execute_input": "2025-02-23T20:31:51.462456Z",
     "iopub.status.busy": "2025-02-23T20:31:51.462146Z",
     "iopub.status.idle": "2025-02-23T20:31:51.465472Z",
     "shell.execute_reply": "2025-02-23T20:31:51.464621Z"
    },
    "papermill": {
     "duration": 0.036277,
     "end_time": "2025-02-23T20:31:51.466709",
     "exception": false,
     "start_time": "2025-02-23T20:31:51.430432",
     "status": "completed"
    },
    "tags": []
   },
   "outputs": [],
   "source": [
    "# 4 = 2+5"
   ]
  },
  {
   "cell_type": "code",
   "execution_count": 115,
   "id": "d36423cc",
   "metadata": {
    "execution": {
     "iopub.execute_input": "2025-02-23T20:31:51.528811Z",
     "iopub.status.busy": "2025-02-23T20:31:51.528566Z",
     "iopub.status.idle": "2025-02-23T20:32:03.301045Z",
     "shell.execute_reply": "2025-02-23T20:32:03.300274Z"
    },
    "papermill": {
     "duration": 11.804919,
     "end_time": "2025-02-23T20:32:03.302264",
     "exception": false,
     "start_time": "2025-02-23T20:31:51.497345",
     "status": "completed"
    },
    "tags": []
   },
   "outputs": [
    {
     "name": "stdout",
     "output_type": "stream",
     "text": [
      "<class 'numpy.ndarray'>\n"
     ]
    },
    {
     "data": {
      "text/plain": [
       "{'Age': 0.19905390906602471,\n",
       " 'Working Professional or Student': 0.1551435417641569,\n",
       " 'Profession': 0.14359691518317663,\n",
       " 'Work Pressure': 0.14107565578233294,\n",
       " 'Academic Pressure': 0.13837352894866684,\n",
       " 'Job Satisfaction': 0.13306753114338354,\n",
       " 'Study Satisfaction': 0.11578198476387891,\n",
       " 'CGPA': 0.1133367712264548,\n",
       " 'Have you ever had suicidal thoughts ?': 0.08833647519541765,\n",
       " 'Degree': 0.03962686128025794,\n",
       " 'Financial Stress': 0.03428273445589369,\n",
       " 'Gender': 0.030105675383084063,\n",
       " 'Family History of Mental Illness': 0.027090469018210883,\n",
       " 'Dietary Habits': 0.02626328344292328,\n",
       " 'Work/Study Hours': 0.026216482218242465,\n",
       " 'Sleep Duration': 0.014479851041508618,\n",
       " 'City': 0.0044235453825682836}"
      ]
     },
     "execution_count": 115,
     "metadata": {},
     "output_type": "execute_result"
    }
   ],
   "source": [
    "result_dict1 = {}\n",
    "result1 = mutual_info_classif(X,y , random_state = 53, n_neighbors = 2, discrete_features='auto')\n",
    "print(type(result1))\n",
    "\n",
    "for i , j in zip(X.columns,result1):\n",
    "    result_dict1[i] = j\n",
    "\n",
    "sort_dict1_result = {k : v for k , v in sorted(result_dict1.items(), key = lambda item : item[1] , reverse=True )}\n",
    "sort_dict1_result"
   ]
  },
  {
   "cell_type": "code",
   "execution_count": 116,
   "id": "14b148d4",
   "metadata": {
    "execution": {
     "iopub.execute_input": "2025-02-23T20:32:03.366399Z",
     "iopub.status.busy": "2025-02-23T20:32:03.366137Z",
     "iopub.status.idle": "2025-02-23T20:32:15.477384Z",
     "shell.execute_reply": "2025-02-23T20:32:15.476665Z"
    },
    "papermill": {
     "duration": 12.14417,
     "end_time": "2025-02-23T20:32:15.478573",
     "exception": false,
     "start_time": "2025-02-23T20:32:03.334403",
     "status": "completed"
    },
    "tags": []
   },
   "outputs": [
    {
     "name": "stdout",
     "output_type": "stream",
     "text": [
      "<class 'numpy.ndarray'>\n"
     ]
    },
    {
     "data": {
      "text/plain": [
       "{'Age': 0.19833880193317177,\n",
       " 'Profession': 0.1419411934015291,\n",
       " 'Academic Pressure': 0.13757881314481857,\n",
       " 'Working Professional or Student': 0.13724089131598616,\n",
       " 'Work Pressure': 0.13668746419678524,\n",
       " 'Job Satisfaction': 0.1285576126353678,\n",
       " 'Study Satisfaction': 0.11498884346317406,\n",
       " 'CGPA': 0.1127725521472569,\n",
       " 'Have you ever had suicidal thoughts ?': 0.0788646634146064,\n",
       " 'Degree': 0.039969319986554286,\n",
       " 'Financial Stress': 0.029570476031804294,\n",
       " 'Work/Study Hours': 0.026164182255907775,\n",
       " 'Dietary Habits': 0.019534812975445792,\n",
       " 'Gender': 0.018134484273988782,\n",
       " 'Family History of Mental Illness': 0.01581984249954882,\n",
       " 'Sleep Duration': 0.010078131728588291,\n",
       " 'City': 0.0044824629078683564}"
      ]
     },
     "execution_count": 116,
     "metadata": {},
     "output_type": "execute_result"
    }
   ],
   "source": [
    "result_dict2 = {}\n",
    "result2 = mutual_info_classif(X,y , random_state = 53, n_neighbors = 3, discrete_features='auto')\n",
    "print(type(result2))\n",
    "\n",
    "for i , j in zip(X.columns,result2):\n",
    "    result_dict2[i] = j\n",
    "\n",
    "sort_dict2_result = {k : v for k , v in sorted(result_dict2.items(), key = lambda item : item[1], reverse=True )}\n",
    "sort_dict2_result"
   ]
  },
  {
   "cell_type": "code",
   "execution_count": 117,
   "id": "93b2d285",
   "metadata": {
    "execution": {
     "iopub.execute_input": "2025-02-23T20:32:15.542401Z",
     "iopub.status.busy": "2025-02-23T20:32:15.542167Z",
     "iopub.status.idle": "2025-02-23T20:32:28.199028Z",
     "shell.execute_reply": "2025-02-23T20:32:28.198103Z"
    },
    "papermill": {
     "duration": 12.689592,
     "end_time": "2025-02-23T20:32:28.200248",
     "exception": false,
     "start_time": "2025-02-23T20:32:15.510656",
     "status": "completed"
    },
    "tags": []
   },
   "outputs": [
    {
     "name": "stdout",
     "output_type": "stream",
     "text": [
      "<class 'numpy.ndarray'>\n"
     ]
    },
    {
     "data": {
      "text/plain": [
       "{'Age': 0.19951266898430764,\n",
       " 'Profession': 0.14127658924465414,\n",
       " 'Academic Pressure': 0.13666290640920176,\n",
       " 'Work Pressure': 0.13479795478787238,\n",
       " 'Job Satisfaction': 0.12692859697094683,\n",
       " 'Working Professional or Student': 0.12497167874294912,\n",
       " 'Study Satisfaction': 0.11520353815399664,\n",
       " 'CGPA': 0.11224475090772401,\n",
       " 'Have you ever had suicidal thoughts ?': 0.07358196435282638,\n",
       " 'Degree': 0.03849756731277676,\n",
       " 'Financial Stress': 0.02736179660713245,\n",
       " 'Work/Study Hours': 0.023898252475767157,\n",
       " 'Dietary Habits': 0.015065671018482663,\n",
       " 'Gender': 0.008921738689533498,\n",
       " 'Family History of Mental Illness': 0.007730635504090255,\n",
       " 'Sleep Duration': 0.006439356607692348,\n",
       " 'City': 0.004559765964851081}"
      ]
     },
     "execution_count": 117,
     "metadata": {},
     "output_type": "execute_result"
    }
   ],
   "source": [
    "result_dict3 = {}\n",
    "result3 = mutual_info_classif(X,y , random_state = 53, n_neighbors = 5, discrete_features='auto')\n",
    "print(type(result3))\n",
    "\n",
    "for i , j in zip(X.columns,result3):\n",
    "    result_dict3[i] = j\n",
    "\n",
    "sort_dict3_result = {k : v for k , v in sorted(result_dict3.items(), key = lambda item : item[1] , reverse=True)}\n",
    "sort_dict3_result"
   ]
  },
  {
   "cell_type": "code",
   "execution_count": 118,
   "id": "12fa2494",
   "metadata": {
    "execution": {
     "iopub.execute_input": "2025-02-23T20:32:28.264710Z",
     "iopub.status.busy": "2025-02-23T20:32:28.264438Z",
     "iopub.status.idle": "2025-02-23T20:32:41.893878Z",
     "shell.execute_reply": "2025-02-23T20:32:41.893172Z"
    },
    "papermill": {
     "duration": 13.662838,
     "end_time": "2025-02-23T20:32:41.895228",
     "exception": false,
     "start_time": "2025-02-23T20:32:28.232390",
     "status": "completed"
    },
    "tags": []
   },
   "outputs": [
    {
     "name": "stdout",
     "output_type": "stream",
     "text": [
      "<class 'numpy.ndarray'>\n"
     ]
    },
    {
     "data": {
      "text/plain": [
       "{'Age': 0.1995471834853464,\n",
       " 'Profession': 0.14147242512716796,\n",
       " 'Academic Pressure': 0.1359711222419877,\n",
       " 'Work Pressure': 0.1337894042781831,\n",
       " 'Job Satisfaction': 0.1265536338308113,\n",
       " 'Working Professional or Student': 0.12167091893774895,\n",
       " 'Study Satisfaction': 0.1145533753183905,\n",
       " 'CGPA': 0.11230835471552458,\n",
       " 'Have you ever had suicidal thoughts ?': 0.0709413029686492,\n",
       " 'Degree': 0.03836909500709629,\n",
       " 'Financial Stress': 0.026997398394435823,\n",
       " 'Work/Study Hours': 0.023895032760027135,\n",
       " 'Dietary Habits': 0.013701793919700833,\n",
       " 'Gender': 0.005865659573556226,\n",
       " 'Family History of Mental Illness': 0.005284836093332856,\n",
       " 'Sleep Duration': 0.005060381392357538,\n",
       " 'City': 0.004122574118021305}"
      ]
     },
     "execution_count": 118,
     "metadata": {},
     "output_type": "execute_result"
    }
   ],
   "source": [
    "result_dict4 = {}\n",
    "result4 = mutual_info_classif(X,y , random_state = 53, n_neighbors = 7, discrete_features='auto')\n",
    "print(type(result4))\n",
    "\n",
    "for i , j in zip(X.columns,result4):\n",
    "    result_dict4[i] = j\n",
    "\n",
    "sort_dict4_result = {k : v for k , v in sorted(result_dict4.items(), key = lambda item : item[1] , reverse=True)}\n",
    "sort_dict4_result"
   ]
  },
  {
   "cell_type": "markdown",
   "id": "52909489",
   "metadata": {
    "papermill": {
     "duration": 0.031093,
     "end_time": "2025-02-23T20:32:41.958979",
     "exception": false,
     "start_time": "2025-02-23T20:32:41.927886",
     "status": "completed"
    },
    "tags": []
   },
   "source": [
    "# Model Building"
   ]
  },
  {
   "cell_type": "code",
   "execution_count": 119,
   "id": "ce3d83c2",
   "metadata": {
    "execution": {
     "iopub.execute_input": "2025-02-23T20:32:42.023602Z",
     "iopub.status.busy": "2025-02-23T20:32:42.023360Z",
     "iopub.status.idle": "2025-02-23T20:32:42.027627Z",
     "shell.execute_reply": "2025-02-23T20:32:42.026977Z"
    },
    "papermill": {
     "duration": 0.038329,
     "end_time": "2025-02-23T20:32:42.028846",
     "exception": false,
     "start_time": "2025-02-23T20:32:41.990517",
     "status": "completed"
    },
    "tags": []
   },
   "outputs": [
    {
     "data": {
      "text/plain": [
       "289"
      ]
     },
     "execution_count": 119,
     "metadata": {},
     "output_type": "execute_result"
    }
   ],
   "source": [
    "17*17"
   ]
  },
  {
   "cell_type": "markdown",
   "id": "62e65c8f",
   "metadata": {
    "papermill": {
     "duration": 0.031816,
     "end_time": "2025-02-23T20:32:42.092167",
     "exception": false,
     "start_time": "2025-02-23T20:32:42.060351",
     "status": "completed"
    },
    "tags": []
   },
   "source": [
    "## Model definition"
   ]
  },
  {
   "cell_type": "code",
   "execution_count": 120,
   "id": "1856ee99",
   "metadata": {
    "execution": {
     "iopub.execute_input": "2025-02-23T20:32:42.156070Z",
     "iopub.status.busy": "2025-02-23T20:32:42.155746Z",
     "iopub.status.idle": "2025-02-23T20:32:42.162315Z",
     "shell.execute_reply": "2025-02-23T20:32:42.161667Z"
    },
    "papermill": {
     "duration": 0.040263,
     "end_time": "2025-02-23T20:32:42.163543",
     "exception": false,
     "start_time": "2025-02-23T20:32:42.123280",
     "status": "completed"
    },
    "tags": []
   },
   "outputs": [],
   "source": [
    "def build_model(hp):\n",
    "    # initializing the model\n",
    "    model = keras.Sequential()\n",
    "\n",
    "    # adding the input layer\n",
    "    model.add(keras.layers.Input(shape=(len(X.columns),) ) )\n",
    "\n",
    "    # looping through layers\n",
    "    # we will keep a maximum of 3 layers and a minimum of 2 layer\n",
    "    for i in range(hp.Int(\"num_layers\",1,3)):\n",
    "        model.add(keras.layers.Dense(units = hp.Int(f\"units_{i}\", max_value = 250, min_value = 5, step = 5 ),\n",
    "                                    activation = hp.Choice(f\"activation_{i}\",['relu','leaky_relu']) ))\n",
    "\n",
    "    # here we will add a dropout layer \n",
    "    model.add(keras.layers.Dropout(rate=hp.Float(f\"dropout_rate_{i}\", 0.1, 0.5, step=0.1)))\n",
    "\n",
    "    # here we will keep it simple layers on the last layer\n",
    "    # we will keep a maximum of 3 layers and a minimum of 1 layer\n",
    "    for i in range(hp.Int(\"num_layers\",1,3)):\n",
    "        model.add(keras.layers.Dense(units = hp.Int(f\"units_{i}\", max_value = 96, min_value = 8, step = 8 ),\n",
    "                                    activation = hp.Choice(f\"activation_{i}\",['leaky_relu','swish']) ,\n",
    "                                    kernel_regularizer=keras.regularizers.l2(hp.Float('l2_reg_input', 1e-5, 1e-2, sampling='LOG')) ))\n",
    "    \n",
    "    # final output layer\n",
    "    model.add(keras.layers.Dense(1,activation=\"sigmoid\"))\n",
    "    \n",
    "    # defining the optimizer choice\n",
    "    optimizer_choice = hp.Choice('optmizer',['adam','nadam'])\n",
    "    optimizer = keras.optimizers.Adam(learning_rate=hp.Choice('learning_rate', [1e-4,5e-3])) if optimizer_choice=='adam' else  keras.optimizers.Nadam(learning_rate=hp.Choice('learning_rate', [1e-4,5e-3]))\n",
    "    \n",
    "    # Now we will compile the model with some optimizers and add the metrics to the model with loss functions\n",
    "    model.compile(\n",
    "        optimizer = optimizer,\n",
    "        loss = ['binary_crossentropy'],\n",
    "        metrics = ['accuracy','Recall','Precision','AUC']\n",
    "    )\n",
    "\n",
    "    return model"
   ]
  },
  {
   "cell_type": "markdown",
   "id": "927a0616",
   "metadata": {
    "papermill": {
     "duration": 0.03164,
     "end_time": "2025-02-23T20:32:42.226607",
     "exception": false,
     "start_time": "2025-02-23T20:32:42.194967",
     "status": "completed"
    },
    "tags": []
   },
   "source": [
    "## Model Tuner HyperBand"
   ]
  },
  {
   "cell_type": "code",
   "execution_count": 121,
   "id": "6996f26f",
   "metadata": {
    "execution": {
     "iopub.execute_input": "2025-02-23T20:32:42.289889Z",
     "iopub.status.busy": "2025-02-23T20:32:42.289621Z",
     "iopub.status.idle": "2025-02-23T20:32:44.482529Z",
     "shell.execute_reply": "2025-02-23T20:32:44.481593Z"
    },
    "papermill": {
     "duration": 2.226827,
     "end_time": "2025-02-23T20:32:44.484544",
     "exception": false,
     "start_time": "2025-02-23T20:32:42.257717",
     "status": "completed"
    },
    "tags": []
   },
   "outputs": [],
   "source": [
    "tuner = kt.Hyperband(\n",
    "    build_model,\n",
    "    objective = 'val_accuracy',\n",
    "    max_epochs = 40,\n",
    "    factor=3,\n",
    "    directory=\"model_tuning_tests\",\n",
    "    project_name='binary_classification_mental_health_data_02'\n",
    ")"
   ]
  },
  {
   "cell_type": "code",
   "execution_count": 122,
   "id": "d1967efe",
   "metadata": {
    "execution": {
     "iopub.execute_input": "2025-02-23T20:32:44.554976Z",
     "iopub.status.busy": "2025-02-23T20:32:44.554654Z",
     "iopub.status.idle": "2025-02-23T20:32:44.558297Z",
     "shell.execute_reply": "2025-02-23T20:32:44.557501Z"
    },
    "papermill": {
     "duration": 0.03702,
     "end_time": "2025-02-23T20:32:44.559597",
     "exception": false,
     "start_time": "2025-02-23T20:32:44.522577",
     "status": "completed"
    },
    "tags": []
   },
   "outputs": [],
   "source": [
    "\n",
    "# Define early stopping callback\n",
    "early_stopping = keras.callbacks.EarlyStopping(monitor='accuracy', patience = 3, restore_best_weights=True)\n"
   ]
  },
  {
   "cell_type": "markdown",
   "id": "44c78d54",
   "metadata": {
    "papermill": {
     "duration": 0.031092,
     "end_time": "2025-02-23T20:32:44.622230",
     "exception": false,
     "start_time": "2025-02-23T20:32:44.591138",
     "status": "completed"
    },
    "tags": []
   },
   "source": [
    "### Searching for best hyperparameter (tuning) with tensorflow"
   ]
  },
  {
   "cell_type": "code",
   "execution_count": 123,
   "id": "877f67b3",
   "metadata": {
    "execution": {
     "iopub.execute_input": "2025-02-23T20:32:44.685630Z",
     "iopub.status.busy": "2025-02-23T20:32:44.685391Z",
     "iopub.status.idle": "2025-02-23T21:43:45.547805Z",
     "shell.execute_reply": "2025-02-23T21:43:45.546957Z"
    },
    "papermill": {
     "duration": 4260.944104,
     "end_time": "2025-02-23T21:43:45.597556",
     "exception": false,
     "start_time": "2025-02-23T20:32:44.653452",
     "status": "completed"
    },
    "tags": []
   },
   "outputs": [
    {
     "name": "stdout",
     "output_type": "stream",
     "text": [
      "Trial 90 Complete [00h 01m 22s]\n",
      "val_accuracy: 0.9380241632461548\n",
      "\n",
      "Best val_accuracy So Far: 0.9394456148147583\n",
      "Total elapsed time: 01h 11m 01s\n"
     ]
    }
   ],
   "source": [
    "tuner.search(X_train , y_train , epochs = 30, validation_data=(X_test,y_test),\n",
    "             verbose =1 , callbacks=[early_stopping])"
   ]
  },
  {
   "cell_type": "code",
   "execution_count": 124,
   "id": "e19243fa",
   "metadata": {
    "execution": {
     "iopub.execute_input": "2025-02-23T21:43:45.663653Z",
     "iopub.status.busy": "2025-02-23T21:43:45.663397Z",
     "iopub.status.idle": "2025-02-23T21:43:45.671401Z",
     "shell.execute_reply": "2025-02-23T21:43:45.670559Z"
    },
    "papermill": {
     "duration": 0.041809,
     "end_time": "2025-02-23T21:43:45.672649",
     "exception": false,
     "start_time": "2025-02-23T21:43:45.630840",
     "status": "completed"
    },
    "tags": []
   },
   "outputs": [
    {
     "name": "stdout",
     "output_type": "stream",
     "text": [
      "Best Hyperparameters:\n",
      "num_layers: 3\n",
      "units_0: 185\n",
      "activation_0: leaky_relu\n",
      "dropout_rate_0: 0.5\n",
      "l2_reg_input: 5.232983700100285e-05\n",
      "optmizer: adam\n",
      "learning_rate: 0.0001\n",
      "units_1: 175\n",
      "activation_1: relu\n",
      "dropout_rate_1: 0.1\n",
      "units_2: 155\n",
      "activation_2: leaky_relu\n",
      "dropout_rate_2: 0.4\n",
      "tuner/epochs: 40\n",
      "tuner/initial_epoch: 14\n",
      "tuner/bracket: 2\n",
      "tuner/round: 2\n",
      "tuner/trial_id: 0070\n"
     ]
    }
   ],
   "source": [
    "\n",
    "# Get the best hyperparameters\n",
    "best_hps = tuner.get_best_hyperparameters(num_trials=1)[0]\n",
    "\n",
    "# Display best hyperparameters\n",
    "print(\"Best Hyperparameters:\")\n",
    "for param in best_hps.values:\n",
    "    print(f'{param}: {best_hps.get(param)}')\n",
    "    \n"
   ]
  },
  {
   "cell_type": "code",
   "execution_count": 125,
   "id": "5aad0b83",
   "metadata": {
    "execution": {
     "iopub.execute_input": "2025-02-23T21:43:45.747966Z",
     "iopub.status.busy": "2025-02-23T21:43:45.747588Z",
     "iopub.status.idle": "2025-02-23T22:02:02.595361Z",
     "shell.execute_reply": "2025-02-23T22:02:02.594572Z"
    },
    "papermill": {
     "duration": 1096.891738,
     "end_time": "2025-02-23T22:02:02.596596",
     "exception": false,
     "start_time": "2025-02-23T21:43:45.704858",
     "status": "completed"
    },
    "scrolled": true,
    "tags": []
   },
   "outputs": [
    {
     "name": "stdout",
     "output_type": "stream",
     "text": [
      "Epoch 1/150\n",
      "\u001b[1m3298/3298\u001b[0m \u001b[32m━━━━━━━━━━━━━━━━━━━━\u001b[0m\u001b[37m\u001b[0m \u001b[1m14s\u001b[0m 3ms/step - AUC: 0.9329 - Precision: 0.7959 - Recall: 0.6769 - accuracy: 0.9143 - loss: 0.2453 - val_AUC: 0.9726 - val_Precision: 0.8268 - val_Recall: 0.8268 - val_accuracy: 0.9374 - val_loss: 0.1765\n",
      "Epoch 2/150\n",
      "\u001b[1m3298/3298\u001b[0m \u001b[32m━━━━━━━━━━━━━━━━━━━━\u001b[0m\u001b[37m\u001b[0m \u001b[1m7s\u001b[0m 2ms/step - AUC: 0.9712 - Precision: 0.8407 - Recall: 0.8020 - accuracy: 0.9363 - loss: 0.1787 - val_AUC: 0.9730 - val_Precision: 0.8575 - val_Recall: 0.7791 - val_accuracy: 0.9367 - val_loss: 0.1709\n",
      "Epoch 3/150\n",
      "\u001b[1m3298/3298\u001b[0m \u001b[32m━━━━━━━━━━━━━━━━━━━━\u001b[0m\u001b[37m\u001b[0m \u001b[1m7s\u001b[0m 2ms/step - AUC: 0.9721 - Precision: 0.8436 - Recall: 0.8023 - accuracy: 0.9367 - loss: 0.1725 - val_AUC: 0.9726 - val_Precision: 0.8639 - val_Recall: 0.7710 - val_accuracy: 0.9367 - val_loss: 0.1694\n",
      "Epoch 4/150\n",
      "\u001b[1m3298/3298\u001b[0m \u001b[32m━━━━━━━━━━━━━━━━━━━━\u001b[0m\u001b[37m\u001b[0m \u001b[1m7s\u001b[0m 2ms/step - AUC: 0.9713 - Precision: 0.8399 - Recall: 0.8098 - accuracy: 0.9368 - loss: 0.1711 - val_AUC: 0.9727 - val_Precision: 0.8626 - val_Recall: 0.7688 - val_accuracy: 0.9361 - val_loss: 0.1655\n",
      "Epoch 5/150\n",
      "\u001b[1m3298/3298\u001b[0m \u001b[32m━━━━━━━━━━━━━━━━━━━━\u001b[0m\u001b[37m\u001b[0m \u001b[1m7s\u001b[0m 2ms/step - AUC: 0.9720 - Precision: 0.8425 - Recall: 0.8045 - accuracy: 0.9374 - loss: 0.1659 - val_AUC: 0.9732 - val_Precision: 0.8320 - val_Recall: 0.8206 - val_accuracy: 0.9377 - val_loss: 0.1618\n",
      "Epoch 6/150\n",
      "\u001b[1m3298/3298\u001b[0m \u001b[32m━━━━━━━━━━━━━━━━━━━━\u001b[0m\u001b[37m\u001b[0m \u001b[1m7s\u001b[0m 2ms/step - AUC: 0.9726 - Precision: 0.8415 - Recall: 0.8137 - accuracy: 0.9378 - loss: 0.1634 - val_AUC: 0.9728 - val_Precision: 0.8425 - val_Recall: 0.8099 - val_accuracy: 0.9383 - val_loss: 0.1614\n",
      "Epoch 7/150\n",
      "\u001b[1m3298/3298\u001b[0m \u001b[32m━━━━━━━━━━━━━━━━━━━━\u001b[0m\u001b[37m\u001b[0m \u001b[1m7s\u001b[0m 2ms/step - AUC: 0.9729 - Precision: 0.8434 - Recall: 0.8042 - accuracy: 0.9374 - loss: 0.1603 - val_AUC: 0.9732 - val_Precision: 0.8460 - val_Recall: 0.8024 - val_accuracy: 0.9379 - val_loss: 0.1599\n",
      "Epoch 8/150\n",
      "\u001b[1m3298/3298\u001b[0m \u001b[32m━━━━━━━━━━━━━━━━━━━━\u001b[0m\u001b[37m\u001b[0m \u001b[1m7s\u001b[0m 2ms/step - AUC: 0.9728 - Precision: 0.8423 - Recall: 0.8110 - accuracy: 0.9381 - loss: 0.1603 - val_AUC: 0.9732 - val_Precision: 0.8573 - val_Recall: 0.7858 - val_accuracy: 0.9377 - val_loss: 0.1591\n",
      "Epoch 9/150\n",
      "\u001b[1m3298/3298\u001b[0m \u001b[32m━━━━━━━━━━━━━━━━━━━━\u001b[0m\u001b[37m\u001b[0m \u001b[1m7s\u001b[0m 2ms/step - AUC: 0.9734 - Precision: 0.8467 - Recall: 0.8136 - accuracy: 0.9384 - loss: 0.1586 - val_AUC: 0.9730 - val_Precision: 0.8507 - val_Recall: 0.7997 - val_accuracy: 0.9385 - val_loss: 0.1583\n",
      "Epoch 10/150\n",
      "\u001b[1m3298/3298\u001b[0m \u001b[32m━━━━━━━━━━━━━━━━━━━━\u001b[0m\u001b[37m\u001b[0m \u001b[1m7s\u001b[0m 2ms/step - AUC: 0.9730 - Precision: 0.8442 - Recall: 0.8120 - accuracy: 0.9384 - loss: 0.1591 - val_AUC: 0.9733 - val_Precision: 0.8266 - val_Recall: 0.8340 - val_accuracy: 0.9384 - val_loss: 0.1573\n",
      "Epoch 11/150\n",
      "\u001b[1m3298/3298\u001b[0m \u001b[32m━━━━━━━━━━━━━━━━━━━━\u001b[0m\u001b[37m\u001b[0m \u001b[1m7s\u001b[0m 2ms/step - AUC: 0.9737 - Precision: 0.8416 - Recall: 0.8191 - accuracy: 0.9385 - loss: 0.1569 - val_AUC: 0.9734 - val_Precision: 0.8388 - val_Recall: 0.8181 - val_accuracy: 0.9387 - val_loss: 0.1564\n",
      "Epoch 12/150\n",
      "\u001b[1m3298/3298\u001b[0m \u001b[32m━━━━━━━━━━━━━━━━━━━━\u001b[0m\u001b[37m\u001b[0m \u001b[1m7s\u001b[0m 2ms/step - AUC: 0.9747 - Precision: 0.8490 - Recall: 0.8115 - accuracy: 0.9397 - loss: 0.1526 - val_AUC: 0.9735 - val_Precision: 0.8477 - val_Recall: 0.8066 - val_accuracy: 0.9389 - val_loss: 0.1565\n",
      "Epoch 13/150\n",
      "\u001b[1m3298/3298\u001b[0m \u001b[32m━━━━━━━━━━━━━━━━━━━━\u001b[0m\u001b[37m\u001b[0m \u001b[1m7s\u001b[0m 2ms/step - AUC: 0.9741 - Precision: 0.8454 - Recall: 0.8151 - accuracy: 0.9391 - loss: 0.1546 - val_AUC: 0.9731 - val_Precision: 0.8598 - val_Recall: 0.7835 - val_accuracy: 0.9378 - val_loss: 0.1570\n",
      "Epoch 14/150\n",
      "\u001b[1m3298/3298\u001b[0m \u001b[32m━━━━━━━━━━━━━━━━━━━━\u001b[0m\u001b[37m\u001b[0m \u001b[1m7s\u001b[0m 2ms/step - AUC: 0.9736 - Precision: 0.8430 - Recall: 0.8113 - accuracy: 0.9375 - loss: 0.1565 - val_AUC: 0.9732 - val_Precision: 0.8434 - val_Recall: 0.8104 - val_accuracy: 0.9386 - val_loss: 0.1558\n",
      "Epoch 15/150\n",
      "\u001b[1m3298/3298\u001b[0m \u001b[32m━━━━━━━━━━━━━━━━━━━━\u001b[0m\u001b[37m\u001b[0m \u001b[1m7s\u001b[0m 2ms/step - AUC: 0.9745 - Precision: 0.8453 - Recall: 0.8157 - accuracy: 0.9390 - loss: 0.1538 - val_AUC: 0.9733 - val_Precision: 0.8313 - val_Recall: 0.8268 - val_accuracy: 0.9384 - val_loss: 0.1557\n",
      "Epoch 16/150\n",
      "\u001b[1m3298/3298\u001b[0m \u001b[32m━━━━━━━━━━━━━━━━━━━━\u001b[0m\u001b[37m\u001b[0m \u001b[1m7s\u001b[0m 2ms/step - AUC: 0.9738 - Precision: 0.8414 - Recall: 0.8159 - accuracy: 0.9393 - loss: 0.1537 - val_AUC: 0.9727 - val_Precision: 0.8258 - val_Recall: 0.8316 - val_accuracy: 0.9379 - val_loss: 0.1566\n",
      "Epoch 17/150\n",
      "\u001b[1m3298/3298\u001b[0m \u001b[32m━━━━━━━━━━━━━━━━━━━━\u001b[0m\u001b[37m\u001b[0m \u001b[1m7s\u001b[0m 2ms/step - AUC: 0.9743 - Precision: 0.8410 - Recall: 0.8157 - accuracy: 0.9386 - loss: 0.1532 - val_AUC: 0.9732 - val_Precision: 0.8479 - val_Recall: 0.7998 - val_accuracy: 0.9379 - val_loss: 0.1570\n",
      "Epoch 18/150\n",
      "\u001b[1m3298/3298\u001b[0m \u001b[32m━━━━━━━━━━━━━━━━━━━━\u001b[0m\u001b[37m\u001b[0m \u001b[1m7s\u001b[0m 2ms/step - AUC: 0.9745 - Precision: 0.8475 - Recall: 0.8169 - accuracy: 0.9398 - loss: 0.1528 - val_AUC: 0.9732 - val_Precision: 0.8535 - val_Recall: 0.7964 - val_accuracy: 0.9385 - val_loss: 0.1568\n",
      "Epoch 19/150\n",
      "\u001b[1m3298/3298\u001b[0m \u001b[32m━━━━━━━━━━━━━━━━━━━━\u001b[0m\u001b[37m\u001b[0m \u001b[1m7s\u001b[0m 2ms/step - AUC: 0.9741 - Precision: 0.8462 - Recall: 0.8155 - accuracy: 0.9399 - loss: 0.1522 - val_AUC: 0.9730 - val_Precision: 0.8482 - val_Recall: 0.8071 - val_accuracy: 0.9390 - val_loss: 0.1561\n",
      "Epoch 20/150\n",
      "\u001b[1m3298/3298\u001b[0m \u001b[32m━━━━━━━━━━━━━━━━━━━━\u001b[0m\u001b[37m\u001b[0m \u001b[1m7s\u001b[0m 2ms/step - AUC: 0.9743 - Precision: 0.8419 - Recall: 0.8163 - accuracy: 0.9382 - loss: 0.1541 - val_AUC: 0.9728 - val_Precision: 0.8279 - val_Recall: 0.8319 - val_accuracy: 0.9384 - val_loss: 0.1564\n",
      "Epoch 21/150\n",
      "\u001b[1m3298/3298\u001b[0m \u001b[32m━━━━━━━━━━━━━━━━━━━━\u001b[0m\u001b[37m\u001b[0m \u001b[1m7s\u001b[0m 2ms/step - AUC: 0.9737 - Precision: 0.8423 - Recall: 0.8180 - accuracy: 0.9389 - loss: 0.1537 - val_AUC: 0.9732 - val_Precision: 0.8410 - val_Recall: 0.8134 - val_accuracy: 0.9385 - val_loss: 0.1561\n",
      "Epoch 22/150\n",
      "\u001b[1m3298/3298\u001b[0m \u001b[32m━━━━━━━━━━━━━━━━━━━━\u001b[0m\u001b[37m\u001b[0m \u001b[1m7s\u001b[0m 2ms/step - AUC: 0.9745 - Precision: 0.8457 - Recall: 0.8234 - accuracy: 0.9401 - loss: 0.1525 - val_AUC: 0.9727 - val_Precision: 0.8302 - val_Recall: 0.8280 - val_accuracy: 0.9383 - val_loss: 0.1573\n",
      "Epoch 23/150\n",
      "\u001b[1m3298/3298\u001b[0m \u001b[32m━━━━━━━━━━━━━━━━━━━━\u001b[0m\u001b[37m\u001b[0m \u001b[1m7s\u001b[0m 2ms/step - AUC: 0.9750 - Precision: 0.8441 - Recall: 0.8195 - accuracy: 0.9402 - loss: 0.1503 - val_AUC: 0.9723 - val_Precision: 0.8565 - val_Recall: 0.7906 - val_accuracy: 0.9382 - val_loss: 0.1580\n",
      "Epoch 24/150\n",
      "\u001b[1m3298/3298\u001b[0m \u001b[32m━━━━━━━━━━━━━━━━━━━━\u001b[0m\u001b[37m\u001b[0m \u001b[1m7s\u001b[0m 2ms/step - AUC: 0.9751 - Precision: 0.8486 - Recall: 0.8211 - accuracy: 0.9399 - loss: 0.1514 - val_AUC: 0.9725 - val_Precision: 0.8076 - val_Recall: 0.8511 - val_accuracy: 0.9365 - val_loss: 0.1603\n",
      "Epoch 25/150\n",
      "\u001b[1m3298/3298\u001b[0m \u001b[32m━━━━━━━━━━━━━━━━━━━━\u001b[0m\u001b[37m\u001b[0m \u001b[1m7s\u001b[0m 2ms/step - AUC: 0.9744 - Precision: 0.8489 - Recall: 0.8162 - accuracy: 0.9401 - loss: 0.1524 - val_AUC: 0.9728 - val_Precision: 0.8285 - val_Recall: 0.8261 - val_accuracy: 0.9377 - val_loss: 0.1571\n",
      "Epoch 26/150\n",
      "\u001b[1m3298/3298\u001b[0m \u001b[32m━━━━━━━━━━━━━━━━━━━━\u001b[0m\u001b[37m\u001b[0m \u001b[1m7s\u001b[0m 2ms/step - AUC: 0.9744 - Precision: 0.8485 - Recall: 0.8154 - accuracy: 0.9400 - loss: 0.1521 - val_AUC: 0.9727 - val_Precision: 0.8331 - val_Recall: 0.8247 - val_accuracy: 0.9385 - val_loss: 0.1566\n",
      "Epoch 27/150\n",
      "\u001b[1m3298/3298\u001b[0m \u001b[32m━━━━━━━━━━━━━━━━━━━━\u001b[0m\u001b[37m\u001b[0m \u001b[1m7s\u001b[0m 2ms/step - AUC: 0.9747 - Precision: 0.8471 - Recall: 0.8211 - accuracy: 0.9412 - loss: 0.1497 - val_AUC: 0.9724 - val_Precision: 0.8307 - val_Recall: 0.8260 - val_accuracy: 0.9381 - val_loss: 0.1567\n",
      "Epoch 28/150\n",
      "\u001b[1m3298/3298\u001b[0m \u001b[32m━━━━━━━━━━━━━━━━━━━━\u001b[0m\u001b[37m\u001b[0m \u001b[1m7s\u001b[0m 2ms/step - AUC: 0.9768 - Precision: 0.8479 - Recall: 0.8305 - accuracy: 0.9419 - loss: 0.1458 - val_AUC: 0.9726 - val_Precision: 0.8190 - val_Recall: 0.8425 - val_accuracy: 0.9379 - val_loss: 0.1606\n",
      "Epoch 29/150\n",
      "\u001b[1m3298/3298\u001b[0m \u001b[32m━━━━━━━━━━━━━━━━━━━━\u001b[0m\u001b[37m\u001b[0m \u001b[1m7s\u001b[0m 2ms/step - AUC: 0.9754 - Precision: 0.8443 - Recall: 0.8248 - accuracy: 0.9407 - loss: 0.1496 - val_AUC: 0.9722 - val_Precision: 0.8474 - val_Recall: 0.7976 - val_accuracy: 0.9375 - val_loss: 0.1578\n",
      "Epoch 30/150\n",
      "\u001b[1m3298/3298\u001b[0m \u001b[32m━━━━━━━━━━━━━━━━━━━━\u001b[0m\u001b[37m\u001b[0m \u001b[1m7s\u001b[0m 2ms/step - AUC: 0.9750 - Precision: 0.8464 - Recall: 0.8222 - accuracy: 0.9406 - loss: 0.1499 - val_AUC: 0.9721 - val_Precision: 0.8456 - val_Recall: 0.8085 - val_accuracy: 0.9387 - val_loss: 0.1574\n",
      "Epoch 31/150\n",
      "\u001b[1m3298/3298\u001b[0m \u001b[32m━━━━━━━━━━━━━━━━━━━━\u001b[0m\u001b[37m\u001b[0m \u001b[1m7s\u001b[0m 2ms/step - AUC: 0.9757 - Precision: 0.8465 - Recall: 0.8312 - accuracy: 0.9415 - loss: 0.1485 - val_AUC: 0.9720 - val_Precision: 0.8235 - val_Recall: 0.8379 - val_accuracy: 0.9383 - val_loss: 0.1594\n",
      "Epoch 32/150\n",
      "\u001b[1m3298/3298\u001b[0m \u001b[32m━━━━━━━━━━━━━━━━━━━━\u001b[0m\u001b[37m\u001b[0m \u001b[1m7s\u001b[0m 2ms/step - AUC: 0.9756 - Precision: 0.8462 - Recall: 0.8340 - accuracy: 0.9419 - loss: 0.1477 - val_AUC: 0.9725 - val_Precision: 0.8541 - val_Recall: 0.7912 - val_accuracy: 0.9379 - val_loss: 0.1574\n",
      "Epoch 33/150\n",
      "\u001b[1m3298/3298\u001b[0m \u001b[32m━━━━━━━━━━━━━━━━━━━━\u001b[0m\u001b[37m\u001b[0m \u001b[1m7s\u001b[0m 2ms/step - AUC: 0.9756 - Precision: 0.8485 - Recall: 0.8239 - accuracy: 0.9406 - loss: 0.1493 - val_AUC: 0.9719 - val_Precision: 0.8255 - val_Recall: 0.8327 - val_accuracy: 0.9380 - val_loss: 0.1589\n",
      "Epoch 34/150\n",
      "\u001b[1m3298/3298\u001b[0m \u001b[32m━━━━━━━━━━━━━━━━━━━━\u001b[0m\u001b[37m\u001b[0m \u001b[1m7s\u001b[0m 2ms/step - AUC: 0.9759 - Precision: 0.8458 - Recall: 0.8291 - accuracy: 0.9414 - loss: 0.1478 - val_AUC: 0.9721 - val_Precision: 0.8333 - val_Recall: 0.8230 - val_accuracy: 0.9383 - val_loss: 0.1580\n",
      "Epoch 35/150\n",
      "\u001b[1m3298/3298\u001b[0m \u001b[32m━━━━━━━━━━━━━━━━━━━━\u001b[0m\u001b[37m\u001b[0m \u001b[1m7s\u001b[0m 2ms/step - AUC: 0.9751 - Precision: 0.8426 - Recall: 0.8269 - accuracy: 0.9408 - loss: 0.1489 - val_AUC: 0.9711 - val_Precision: 0.8554 - val_Recall: 0.7939 - val_accuracy: 0.9385 - val_loss: 0.1607\n",
      "Epoch 36/150\n",
      "\u001b[1m3298/3298\u001b[0m \u001b[32m━━━━━━━━━━━━━━━━━━━━\u001b[0m\u001b[37m\u001b[0m \u001b[1m7s\u001b[0m 2ms/step - AUC: 0.9761 - Precision: 0.8487 - Recall: 0.8269 - accuracy: 0.9420 - loss: 0.1462 - val_AUC: 0.9719 - val_Precision: 0.8252 - val_Recall: 0.8310 - val_accuracy: 0.9377 - val_loss: 0.1599\n",
      "Epoch 37/150\n",
      "\u001b[1m3298/3298\u001b[0m \u001b[32m━━━━━━━━━━━━━━━━━━━━\u001b[0m\u001b[37m\u001b[0m \u001b[1m7s\u001b[0m 2ms/step - AUC: 0.9765 - Precision: 0.8477 - Recall: 0.8251 - accuracy: 0.9412 - loss: 0.1460 - val_AUC: 0.9723 - val_Precision: 0.8379 - val_Recall: 0.8197 - val_accuracy: 0.9388 - val_loss: 0.1567\n",
      "Epoch 38/150\n",
      "\u001b[1m3298/3298\u001b[0m \u001b[32m━━━━━━━━━━━━━━━━━━━━\u001b[0m\u001b[37m\u001b[0m \u001b[1m7s\u001b[0m 2ms/step - AUC: 0.9764 - Precision: 0.8484 - Recall: 0.8288 - accuracy: 0.9415 - loss: 0.1472 - val_AUC: 0.9717 - val_Precision: 0.8499 - val_Recall: 0.8011 - val_accuracy: 0.9385 - val_loss: 0.1585\n",
      "Epoch 39/150\n",
      "\u001b[1m3298/3298\u001b[0m \u001b[32m━━━━━━━━━━━━━━━━━━━━\u001b[0m\u001b[37m\u001b[0m \u001b[1m7s\u001b[0m 2ms/step - AUC: 0.9762 - Precision: 0.8522 - Recall: 0.8271 - accuracy: 0.9429 - loss: 0.1456 - val_AUC: 0.9714 - val_Precision: 0.8472 - val_Recall: 0.8027 - val_accuracy: 0.9382 - val_loss: 0.1598\n",
      "Epoch 40/150\n",
      "\u001b[1m3298/3298\u001b[0m \u001b[32m━━━━━━━━━━━━━━━━━━━━\u001b[0m\u001b[37m\u001b[0m \u001b[1m7s\u001b[0m 2ms/step - AUC: 0.9770 - Precision: 0.8510 - Recall: 0.8297 - accuracy: 0.9426 - loss: 0.1447 - val_AUC: 0.9719 - val_Precision: 0.8178 - val_Recall: 0.8398 - val_accuracy: 0.9373 - val_loss: 0.1590\n",
      "Epoch 41/150\n",
      "\u001b[1m3298/3298\u001b[0m \u001b[32m━━━━━━━━━━━━━━━━━━━━\u001b[0m\u001b[37m\u001b[0m \u001b[1m7s\u001b[0m 2ms/step - AUC: 0.9780 - Precision: 0.8498 - Recall: 0.8405 - accuracy: 0.9440 - loss: 0.1416 - val_AUC: 0.9717 - val_Precision: 0.8296 - val_Recall: 0.8206 - val_accuracy: 0.9371 - val_loss: 0.1601\n",
      "Epoch 42/150\n",
      "\u001b[1m3298/3298\u001b[0m \u001b[32m━━━━━━━━━━━━━━━━━━━━\u001b[0m\u001b[37m\u001b[0m \u001b[1m7s\u001b[0m 2ms/step - AUC: 0.9767 - Precision: 0.8509 - Recall: 0.8268 - accuracy: 0.9422 - loss: 0.1453 - val_AUC: 0.9718 - val_Precision: 0.8346 - val_Recall: 0.8164 - val_accuracy: 0.9376 - val_loss: 0.1588\n",
      "Epoch 43/150\n",
      "\u001b[1m3298/3298\u001b[0m \u001b[32m━━━━━━━━━━━━━━━━━━━━\u001b[0m\u001b[37m\u001b[0m \u001b[1m7s\u001b[0m 2ms/step - AUC: 0.9777 - Precision: 0.8531 - Recall: 0.8336 - accuracy: 0.9432 - loss: 0.1436 - val_AUC: 0.9712 - val_Precision: 0.8465 - val_Recall: 0.8009 - val_accuracy: 0.9378 - val_loss: 0.1599\n",
      "Epoch 44/150\n",
      "\u001b[1m3298/3298\u001b[0m \u001b[32m━━━━━━━━━━━━━━━━━━━━\u001b[0m\u001b[37m\u001b[0m \u001b[1m7s\u001b[0m 2ms/step - AUC: 0.9766 - Precision: 0.8508 - Recall: 0.8281 - accuracy: 0.9421 - loss: 0.1461 - val_AUC: 0.9714 - val_Precision: 0.8310 - val_Recall: 0.8209 - val_accuracy: 0.9375 - val_loss: 0.1597\n",
      "Epoch 45/150\n",
      "\u001b[1m3298/3298\u001b[0m \u001b[32m━━━━━━━━━━━━━━━━━━━━\u001b[0m\u001b[37m\u001b[0m \u001b[1m7s\u001b[0m 2ms/step - AUC: 0.9771 - Precision: 0.8562 - Recall: 0.8308 - accuracy: 0.9438 - loss: 0.1435 - val_AUC: 0.9703 - val_Precision: 0.8391 - val_Recall: 0.8146 - val_accuracy: 0.9383 - val_loss: 0.1626\n",
      "Epoch 46/150\n",
      "\u001b[1m3298/3298\u001b[0m \u001b[32m━━━━━━━━━━━━━━━━━━━━\u001b[0m\u001b[37m\u001b[0m \u001b[1m7s\u001b[0m 2ms/step - AUC: 0.9779 - Precision: 0.8513 - Recall: 0.8383 - accuracy: 0.9437 - loss: 0.1422 - val_AUC: 0.9709 - val_Precision: 0.8486 - val_Recall: 0.8002 - val_accuracy: 0.9381 - val_loss: 0.1608\n",
      "Epoch 47/150\n",
      "\u001b[1m3298/3298\u001b[0m \u001b[32m━━━━━━━━━━━━━━━━━━━━\u001b[0m\u001b[37m\u001b[0m \u001b[1m7s\u001b[0m 2ms/step - AUC: 0.9779 - Precision: 0.8517 - Recall: 0.8330 - accuracy: 0.9434 - loss: 0.1421 - val_AUC: 0.9711 - val_Precision: 0.8416 - val_Recall: 0.8068 - val_accuracy: 0.9377 - val_loss: 0.1604\n",
      "Epoch 48/150\n",
      "\u001b[1m3298/3298\u001b[0m \u001b[32m━━━━━━━━━━━━━━━━━━━━\u001b[0m\u001b[37m\u001b[0m \u001b[1m7s\u001b[0m 2ms/step - AUC: 0.9783 - Precision: 0.8514 - Recall: 0.8381 - accuracy: 0.9439 - loss: 0.1412 - val_AUC: 0.9710 - val_Precision: 0.8285 - val_Recall: 0.8269 - val_accuracy: 0.9378 - val_loss: 0.1626\n",
      "Epoch 49/150\n",
      "\u001b[1m3298/3298\u001b[0m \u001b[32m━━━━━━━━━━━━━━━━━━━━\u001b[0m\u001b[37m\u001b[0m \u001b[1m7s\u001b[0m 2ms/step - AUC: 0.9785 - Precision: 0.8543 - Recall: 0.8325 - accuracy: 0.9438 - loss: 0.1406 - val_AUC: 0.9705 - val_Precision: 0.8287 - val_Recall: 0.8236 - val_accuracy: 0.9374 - val_loss: 0.1620\n",
      "Epoch 50/150\n",
      "\u001b[1m3298/3298\u001b[0m \u001b[32m━━━━━━━━━━━━━━━━━━━━\u001b[0m\u001b[37m\u001b[0m \u001b[1m7s\u001b[0m 2ms/step - AUC: 0.9782 - Precision: 0.8460 - Recall: 0.8367 - accuracy: 0.9429 - loss: 0.1407 - val_AUC: 0.9701 - val_Precision: 0.8414 - val_Recall: 0.8120 - val_accuracy: 0.9384 - val_loss: 0.1624\n",
      "Epoch 51/150\n",
      "\u001b[1m3298/3298\u001b[0m \u001b[32m━━━━━━━━━━━━━━━━━━━━\u001b[0m\u001b[37m\u001b[0m \u001b[1m7s\u001b[0m 2ms/step - AUC: 0.9782 - Precision: 0.8488 - Recall: 0.8352 - accuracy: 0.9439 - loss: 0.1400 - val_AUC: 0.9705 - val_Precision: 0.8456 - val_Recall: 0.8052 - val_accuracy: 0.9383 - val_loss: 0.1620\n",
      "Epoch 52/150\n",
      "\u001b[1m3298/3298\u001b[0m \u001b[32m━━━━━━━━━━━━━━━━━━━━\u001b[0m\u001b[37m\u001b[0m \u001b[1m7s\u001b[0m 2ms/step - AUC: 0.9791 - Precision: 0.8512 - Recall: 0.8340 - accuracy: 0.9441 - loss: 0.1389 - val_AUC: 0.9698 - val_Precision: 0.8405 - val_Recall: 0.8101 - val_accuracy: 0.9379 - val_loss: 0.1638\n",
      "Epoch 53/150\n",
      "\u001b[1m3298/3298\u001b[0m \u001b[32m━━━━━━━━━━━━━━━━━━━━\u001b[0m\u001b[37m\u001b[0m \u001b[1m7s\u001b[0m 2ms/step - AUC: 0.9786 - Precision: 0.8509 - Recall: 0.8348 - accuracy: 0.9436 - loss: 0.1402 - val_AUC: 0.9699 - val_Precision: 0.8277 - val_Recall: 0.8268 - val_accuracy: 0.9376 - val_loss: 0.1647\n",
      "Epoch 54/150\n",
      "\u001b[1m3298/3298\u001b[0m \u001b[32m━━━━━━━━━━━━━━━━━━━━\u001b[0m\u001b[37m\u001b[0m \u001b[1m7s\u001b[0m 2ms/step - AUC: 0.9791 - Precision: 0.8545 - Recall: 0.8368 - accuracy: 0.9442 - loss: 0.1394 - val_AUC: 0.9705 - val_Precision: 0.8377 - val_Recall: 0.8107 - val_accuracy: 0.9374 - val_loss: 0.1621\n",
      "Epoch 55/150\n",
      "\u001b[1m3298/3298\u001b[0m \u001b[32m━━━━━━━━━━━━━━━━━━━━\u001b[0m\u001b[37m\u001b[0m \u001b[1m7s\u001b[0m 2ms/step - AUC: 0.9796 - Precision: 0.8577 - Recall: 0.8352 - accuracy: 0.9450 - loss: 0.1377 - val_AUC: 0.9701 - val_Precision: 0.8194 - val_Recall: 0.8376 - val_accuracy: 0.9373 - val_loss: 0.1641\n",
      "Epoch 56/150\n",
      "\u001b[1m3298/3298\u001b[0m \u001b[32m━━━━━━━━━━━━━━━━━━━━\u001b[0m\u001b[37m\u001b[0m \u001b[1m7s\u001b[0m 2ms/step - AUC: 0.9797 - Precision: 0.8546 - Recall: 0.8400 - accuracy: 0.9451 - loss: 0.1364 - val_AUC: 0.9691 - val_Precision: 0.8273 - val_Recall: 0.8230 - val_accuracy: 0.9370 - val_loss: 0.1649\n",
      "Epoch 57/150\n",
      "\u001b[1m3298/3298\u001b[0m \u001b[32m━━━━━━━━━━━━━━━━━━━━\u001b[0m\u001b[37m\u001b[0m \u001b[1m7s\u001b[0m 2ms/step - AUC: 0.9796 - Precision: 0.8568 - Recall: 0.8395 - accuracy: 0.9452 - loss: 0.1371 - val_AUC: 0.9698 - val_Precision: 0.8150 - val_Recall: 0.8393 - val_accuracy: 0.9365 - val_loss: 0.1659\n",
      "Epoch 58/150\n",
      "\u001b[1m3298/3298\u001b[0m \u001b[32m━━━━━━━━━━━━━━━━━━━━\u001b[0m\u001b[37m\u001b[0m \u001b[1m7s\u001b[0m 2ms/step - AUC: 0.9790 - Precision: 0.8502 - Recall: 0.8341 - accuracy: 0.9430 - loss: 0.1403 - val_AUC: 0.9697 - val_Precision: 0.8209 - val_Recall: 0.8346 - val_accuracy: 0.9372 - val_loss: 0.1662\n",
      "Epoch 59/150\n",
      "\u001b[1m3298/3298\u001b[0m \u001b[32m━━━━━━━━━━━━━━━━━━━━\u001b[0m\u001b[37m\u001b[0m \u001b[1m7s\u001b[0m 2ms/step - AUC: 0.9803 - Precision: 0.8559 - Recall: 0.8459 - accuracy: 0.9457 - loss: 0.1356 - val_AUC: 0.9686 - val_Precision: 0.8508 - val_Recall: 0.7896 - val_accuracy: 0.9370 - val_loss: 0.1682\n",
      "Epoch 60/150\n",
      "\u001b[1m3298/3298\u001b[0m \u001b[32m━━━━━━━━━━━━━━━━━━━━\u001b[0m\u001b[37m\u001b[0m \u001b[1m7s\u001b[0m 2ms/step - AUC: 0.9797 - Precision: 0.8533 - Recall: 0.8408 - accuracy: 0.9442 - loss: 0.1378 - val_AUC: 0.9688 - val_Precision: 0.8199 - val_Recall: 0.8301 - val_accuracy: 0.9363 - val_loss: 0.1679\n",
      "Epoch 61/150\n",
      "\u001b[1m3298/3298\u001b[0m \u001b[32m━━━━━━━━━━━━━━━━━━━━\u001b[0m\u001b[37m\u001b[0m \u001b[1m7s\u001b[0m 2ms/step - AUC: 0.9811 - Precision: 0.8540 - Recall: 0.8430 - accuracy: 0.9454 - loss: 0.1322 - val_AUC: 0.9680 - val_Precision: 0.8362 - val_Recall: 0.8088 - val_accuracy: 0.9368 - val_loss: 0.1681\n",
      "Epoch 62/150\n",
      "\u001b[1m3298/3298\u001b[0m \u001b[32m━━━━━━━━━━━━━━━━━━━━\u001b[0m\u001b[37m\u001b[0m \u001b[1m7s\u001b[0m 2ms/step - AUC: 0.9801 - Precision: 0.8559 - Recall: 0.8411 - accuracy: 0.9456 - loss: 0.1358 - val_AUC: 0.9693 - val_Precision: 0.8263 - val_Recall: 0.8236 - val_accuracy: 0.9369 - val_loss: 0.1653\n",
      "Epoch 63/150\n",
      "\u001b[1m3298/3298\u001b[0m \u001b[32m━━━━━━━━━━━━━━━━━━━━\u001b[0m\u001b[37m\u001b[0m \u001b[1m7s\u001b[0m 2ms/step - AUC: 0.9807 - Precision: 0.8560 - Recall: 0.8478 - accuracy: 0.9467 - loss: 0.1335 - val_AUC: 0.9685 - val_Precision: 0.8260 - val_Recall: 0.8217 - val_accuracy: 0.9365 - val_loss: 0.1669\n",
      "Epoch 64/150\n",
      "\u001b[1m3298/3298\u001b[0m \u001b[32m━━━━━━━━━━━━━━━━━━━━\u001b[0m\u001b[37m\u001b[0m \u001b[1m7s\u001b[0m 2ms/step - AUC: 0.9806 - Precision: 0.8550 - Recall: 0.8472 - accuracy: 0.9459 - loss: 0.1343 - val_AUC: 0.9678 - val_Precision: 0.8249 - val_Recall: 0.8238 - val_accuracy: 0.9366 - val_loss: 0.1700\n",
      "Epoch 65/150\n",
      "\u001b[1m3298/3298\u001b[0m \u001b[32m━━━━━━━━━━━━━━━━━━━━\u001b[0m\u001b[37m\u001b[0m \u001b[1m7s\u001b[0m 2ms/step - AUC: 0.9807 - Precision: 0.8587 - Recall: 0.8485 - accuracy: 0.9473 - loss: 0.1325 - val_AUC: 0.9680 - val_Precision: 0.8131 - val_Recall: 0.8349 - val_accuracy: 0.9355 - val_loss: 0.1722\n",
      "Epoch 66/150\n",
      "\u001b[1m3298/3298\u001b[0m \u001b[32m━━━━━━━━━━━━━━━━━━━━\u001b[0m\u001b[37m\u001b[0m \u001b[1m7s\u001b[0m 2ms/step - AUC: 0.9811 - Precision: 0.8557 - Recall: 0.8530 - accuracy: 0.9469 - loss: 0.1327 - val_AUC: 0.9682 - val_Precision: 0.8208 - val_Recall: 0.8268 - val_accuracy: 0.9361 - val_loss: 0.1690\n",
      "Epoch 67/150\n",
      "\u001b[1m3298/3298\u001b[0m \u001b[32m━━━━━━━━━━━━━━━━━━━━\u001b[0m\u001b[37m\u001b[0m \u001b[1m7s\u001b[0m 2ms/step - AUC: 0.9812 - Precision: 0.8587 - Recall: 0.8485 - accuracy: 0.9469 - loss: 0.1325 - val_AUC: 0.9685 - val_Precision: 0.8166 - val_Recall: 0.8307 - val_accuracy: 0.9357 - val_loss: 0.1705\n",
      "Epoch 68/150\n",
      "\u001b[1m3298/3298\u001b[0m \u001b[32m━━━━━━━━━━━━━━━━━━━━\u001b[0m\u001b[37m\u001b[0m \u001b[1m7s\u001b[0m 2ms/step - AUC: 0.9815 - Precision: 0.8572 - Recall: 0.8529 - accuracy: 0.9476 - loss: 0.1311 - val_AUC: 0.9676 - val_Precision: 0.8109 - val_Recall: 0.8335 - val_accuracy: 0.9348 - val_loss: 0.1698\n",
      "Epoch 69/150\n",
      "\u001b[1m3298/3298\u001b[0m \u001b[32m━━━━━━━━━━━━━━━━━━━━\u001b[0m\u001b[37m\u001b[0m \u001b[1m7s\u001b[0m 2ms/step - AUC: 0.9812 - Precision: 0.8564 - Recall: 0.8491 - accuracy: 0.9469 - loss: 0.1323 - val_AUC: 0.9684 - val_Precision: 0.8018 - val_Recall: 0.8497 - val_accuracy: 0.9349 - val_loss: 0.1726\n",
      "Epoch 70/150\n",
      "\u001b[1m3298/3298\u001b[0m \u001b[32m━━━━━━━━━━━━━━━━━━━━\u001b[0m\u001b[37m\u001b[0m \u001b[1m7s\u001b[0m 2ms/step - AUC: 0.9810 - Precision: 0.8538 - Recall: 0.8503 - accuracy: 0.9459 - loss: 0.1332 - val_AUC: 0.9679 - val_Precision: 0.8094 - val_Recall: 0.8373 - val_accuracy: 0.9350 - val_loss: 0.1709\n",
      "Epoch 71/150\n",
      "\u001b[1m3298/3298\u001b[0m \u001b[32m━━━━━━━━━━━━━━━━━━━━\u001b[0m\u001b[37m\u001b[0m \u001b[1m7s\u001b[0m 2ms/step - AUC: 0.9810 - Precision: 0.8562 - Recall: 0.8507 - accuracy: 0.9464 - loss: 0.1333 - val_AUC: 0.9665 - val_Precision: 0.8234 - val_Recall: 0.8201 - val_accuracy: 0.9357 - val_loss: 0.1743\n",
      "Epoch 72/150\n",
      "\u001b[1m3298/3298\u001b[0m \u001b[32m━━━━━━━━━━━━━━━━━━━━\u001b[0m\u001b[37m\u001b[0m \u001b[1m7s\u001b[0m 2ms/step - AUC: 0.9818 - Precision: 0.8569 - Recall: 0.8527 - accuracy: 0.9472 - loss: 0.1312 - val_AUC: 0.9675 - val_Precision: 0.8274 - val_Recall: 0.8154 - val_accuracy: 0.9359 - val_loss: 0.1701\n",
      "Epoch 73/150\n",
      "\u001b[1m3298/3298\u001b[0m \u001b[32m━━━━━━━━━━━━━━━━━━━━\u001b[0m\u001b[37m\u001b[0m \u001b[1m7s\u001b[0m 2ms/step - AUC: 0.9816 - Precision: 0.8548 - Recall: 0.8518 - accuracy: 0.9461 - loss: 0.1318 - val_AUC: 0.9668 - val_Precision: 0.8236 - val_Recall: 0.8250 - val_accuracy: 0.9365 - val_loss: 0.1729\n",
      "Epoch 74/150\n",
      "\u001b[1m3298/3298\u001b[0m \u001b[32m━━━━━━━━━━━━━━━━━━━━\u001b[0m\u001b[37m\u001b[0m \u001b[1m7s\u001b[0m 2ms/step - AUC: 0.9818 - Precision: 0.8594 - Recall: 0.8514 - accuracy: 0.9476 - loss: 0.1299 - val_AUC: 0.9662 - val_Precision: 0.8361 - val_Recall: 0.8036 - val_accuracy: 0.9361 - val_loss: 0.1749\n",
      "Epoch 75/150\n",
      "\u001b[1m3298/3298\u001b[0m \u001b[32m━━━━━━━━━━━━━━━━━━━━\u001b[0m\u001b[37m\u001b[0m \u001b[1m7s\u001b[0m 2ms/step - AUC: 0.9818 - Precision: 0.8559 - Recall: 0.8537 - accuracy: 0.9470 - loss: 0.1307 - val_AUC: 0.9654 - val_Precision: 0.8210 - val_Recall: 0.8200 - val_accuracy: 0.9352 - val_loss: 0.1738\n",
      "Epoch 76/150\n",
      "\u001b[1m3298/3298\u001b[0m \u001b[32m━━━━━━━━━━━━━━━━━━━━\u001b[0m\u001b[37m\u001b[0m \u001b[1m7s\u001b[0m 2ms/step - AUC: 0.9824 - Precision: 0.8602 - Recall: 0.8539 - accuracy: 0.9473 - loss: 0.1297 - val_AUC: 0.9659 - val_Precision: 0.8112 - val_Recall: 0.8327 - val_accuracy: 0.9348 - val_loss: 0.1745\n",
      "Epoch 77/150\n",
      "\u001b[1m3298/3298\u001b[0m \u001b[32m━━━━━━━━━━━━━━━━━━━━\u001b[0m\u001b[37m\u001b[0m \u001b[1m7s\u001b[0m 2ms/step - AUC: 0.9825 - Precision: 0.8577 - Recall: 0.8609 - accuracy: 0.9488 - loss: 0.1275 - val_AUC: 0.9658 - val_Precision: 0.8387 - val_Recall: 0.7918 - val_accuracy: 0.9349 - val_loss: 0.1749\n",
      "Epoch 78/150\n",
      "\u001b[1m3298/3298\u001b[0m \u001b[32m━━━━━━━━━━━━━━━━━━━━\u001b[0m\u001b[37m\u001b[0m \u001b[1m7s\u001b[0m 2ms/step - AUC: 0.9824 - Precision: 0.8577 - Recall: 0.8549 - accuracy: 0.9478 - loss: 0.1284 - val_AUC: 0.9655 - val_Precision: 0.8356 - val_Recall: 0.7980 - val_accuracy: 0.9351 - val_loss: 0.1772\n",
      "Epoch 79/150\n",
      "\u001b[1m3298/3298\u001b[0m \u001b[32m━━━━━━━━━━━━━━━━━━━━\u001b[0m\u001b[37m\u001b[0m \u001b[1m8s\u001b[0m 2ms/step - AUC: 0.9826 - Precision: 0.8586 - Recall: 0.8553 - accuracy: 0.9482 - loss: 0.1273 - val_AUC: 0.9659 - val_Precision: 0.8047 - val_Recall: 0.8381 - val_accuracy: 0.9340 - val_loss: 0.1764\n",
      "Epoch 80/150\n",
      "\u001b[1m3298/3298\u001b[0m \u001b[32m━━━━━━━━━━━━━━━━━━━━\u001b[0m\u001b[37m\u001b[0m \u001b[1m7s\u001b[0m 2ms/step - AUC: 0.9830 - Precision: 0.8564 - Recall: 0.8616 - accuracy: 0.9493 - loss: 0.1252 - val_AUC: 0.9640 - val_Precision: 0.8473 - val_Recall: 0.7817 - val_accuracy: 0.9351 - val_loss: 0.1821\n",
      "Epoch 81/150\n",
      "\u001b[1m3298/3298\u001b[0m \u001b[32m━━━━━━━━━━━━━━━━━━━━\u001b[0m\u001b[37m\u001b[0m \u001b[1m7s\u001b[0m 2ms/step - AUC: 0.9829 - Precision: 0.8571 - Recall: 0.8625 - accuracy: 0.9486 - loss: 0.1273 - val_AUC: 0.9649 - val_Precision: 0.8150 - val_Recall: 0.8222 - val_accuracy: 0.9342 - val_loss: 0.1793\n",
      "Epoch 82/150\n",
      "\u001b[1m3298/3298\u001b[0m \u001b[32m━━━━━━━━━━━━━━━━━━━━\u001b[0m\u001b[37m\u001b[0m \u001b[1m7s\u001b[0m 2ms/step - AUC: 0.9833 - Precision: 0.8530 - Recall: 0.8621 - accuracy: 0.9474 - loss: 0.1264 - val_AUC: 0.9642 - val_Precision: 0.8155 - val_Recall: 0.8212 - val_accuracy: 0.9341 - val_loss: 0.1808\n",
      "Epoch 83/150\n",
      "\u001b[1m3298/3298\u001b[0m \u001b[32m━━━━━━━━━━━━━━━━━━━━\u001b[0m\u001b[37m\u001b[0m \u001b[1m7s\u001b[0m 2ms/step - AUC: 0.9837 - Precision: 0.8600 - Recall: 0.8676 - accuracy: 0.9502 - loss: 0.1238 - val_AUC: 0.9650 - val_Precision: 0.8149 - val_Recall: 0.8239 - val_accuracy: 0.9344 - val_loss: 0.1766\n",
      "Epoch 84/150\n",
      "\u001b[1m3298/3298\u001b[0m \u001b[32m━━━━━━━━━━━━━━━━━━━━\u001b[0m\u001b[37m\u001b[0m \u001b[1m7s\u001b[0m 2ms/step - AUC: 0.9836 - Precision: 0.8588 - Recall: 0.8624 - accuracy: 0.9485 - loss: 0.1249 - val_AUC: 0.9642 - val_Precision: 0.8267 - val_Recall: 0.8123 - val_accuracy: 0.9353 - val_loss: 0.1819\n",
      "Epoch 85/150\n",
      "\u001b[1m3298/3298\u001b[0m \u001b[32m━━━━━━━━━━━━━━━━━━━━\u001b[0m\u001b[37m\u001b[0m \u001b[1m7s\u001b[0m 2ms/step - AUC: 0.9838 - Precision: 0.8599 - Recall: 0.8651 - accuracy: 0.9495 - loss: 0.1242 - val_AUC: 0.9616 - val_Precision: 0.8388 - val_Recall: 0.7877 - val_accuracy: 0.9343 - val_loss: 0.1851\n",
      "Epoch 86/150\n",
      "\u001b[1m3298/3298\u001b[0m \u001b[32m━━━━━━━━━━━━━━━━━━━━\u001b[0m\u001b[37m\u001b[0m \u001b[1m7s\u001b[0m 2ms/step - AUC: 0.9840 - Precision: 0.8601 - Recall: 0.8672 - accuracy: 0.9498 - loss: 0.1235 - val_AUC: 0.9640 - val_Precision: 0.8108 - val_Recall: 0.8245 - val_accuracy: 0.9335 - val_loss: 0.1792\n",
      "Epoch 87/150\n",
      "\u001b[1m3298/3298\u001b[0m \u001b[32m━━━━━━━━━━━━━━━━━━━━\u001b[0m\u001b[37m\u001b[0m \u001b[1m7s\u001b[0m 2ms/step - AUC: 0.9834 - Precision: 0.8599 - Recall: 0.8575 - accuracy: 0.9496 - loss: 0.1236 - val_AUC: 0.9626 - val_Precision: 0.8248 - val_Recall: 0.8116 - val_accuracy: 0.9348 - val_loss: 0.1851\n",
      "Epoch 88/150\n",
      "\u001b[1m3298/3298\u001b[0m \u001b[32m━━━━━━━━━━━━━━━━━━━━\u001b[0m\u001b[37m\u001b[0m \u001b[1m7s\u001b[0m 2ms/step - AUC: 0.9843 - Precision: 0.8612 - Recall: 0.8687 - accuracy: 0.9508 - loss: 0.1218 - val_AUC: 0.9623 - val_Precision: 0.8235 - val_Recall: 0.8143 - val_accuracy: 0.9349 - val_loss: 0.1876\n",
      "Epoch 89/150\n",
      "\u001b[1m3298/3298\u001b[0m \u001b[32m━━━━━━━━━━━━━━━━━━━━\u001b[0m\u001b[37m\u001b[0m \u001b[1m7s\u001b[0m 2ms/step - AUC: 0.9843 - Precision: 0.8638 - Recall: 0.8660 - accuracy: 0.9507 - loss: 0.1216 - val_AUC: 0.9631 - val_Precision: 0.8328 - val_Recall: 0.7898 - val_accuracy: 0.9334 - val_loss: 0.1815\n",
      "Epoch 90/150\n",
      "\u001b[1m3298/3298\u001b[0m \u001b[32m━━━━━━━━━━━━━━━━━━━━\u001b[0m\u001b[37m\u001b[0m \u001b[1m7s\u001b[0m 2ms/step - AUC: 0.9843 - Precision: 0.8635 - Recall: 0.8640 - accuracy: 0.9499 - loss: 0.1225 - val_AUC: 0.9631 - val_Precision: 0.8060 - val_Recall: 0.8242 - val_accuracy: 0.9324 - val_loss: 0.1841\n",
      "Epoch 91/150\n",
      "\u001b[1m3298/3298\u001b[0m \u001b[32m━━━━━━━━━━━━━━━━━━━━\u001b[0m\u001b[37m\u001b[0m \u001b[1m7s\u001b[0m 2ms/step - AUC: 0.9847 - Precision: 0.8612 - Recall: 0.8670 - accuracy: 0.9501 - loss: 0.1211 - val_AUC: 0.9623 - val_Precision: 0.8128 - val_Recall: 0.8203 - val_accuracy: 0.9334 - val_loss: 0.1883\n",
      "Epoch 92/150\n",
      "\u001b[1m3298/3298\u001b[0m \u001b[32m━━━━━━━━━━━━━━━━━━━━\u001b[0m\u001b[37m\u001b[0m \u001b[1m7s\u001b[0m 2ms/step - AUC: 0.9849 - Precision: 0.8629 - Recall: 0.8712 - accuracy: 0.9511 - loss: 0.1203 - val_AUC: 0.9617 - val_Precision: 0.8095 - val_Recall: 0.8296 - val_accuracy: 0.9339 - val_loss: 0.1884\n",
      "Epoch 93/150\n",
      "\u001b[1m3298/3298\u001b[0m \u001b[32m━━━━━━━━━━━━━━━━━━━━\u001b[0m\u001b[37m\u001b[0m \u001b[1m7s\u001b[0m 2ms/step - AUC: 0.9847 - Precision: 0.8610 - Recall: 0.8653 - accuracy: 0.9504 - loss: 0.1205 - val_AUC: 0.9623 - val_Precision: 0.7841 - val_Recall: 0.8499 - val_accuracy: 0.9306 - val_loss: 0.1893\n",
      "Epoch 94/150\n",
      "\u001b[1m3298/3298\u001b[0m \u001b[32m━━━━━━━━━━━━━━━━━━━━\u001b[0m\u001b[37m\u001b[0m \u001b[1m7s\u001b[0m 2ms/step - AUC: 0.9845 - Precision: 0.8634 - Recall: 0.8665 - accuracy: 0.9513 - loss: 0.1201 - val_AUC: 0.9606 - val_Precision: 0.8097 - val_Recall: 0.8187 - val_accuracy: 0.9325 - val_loss: 0.1906\n",
      "Epoch 95/150\n",
      "\u001b[1m3298/3298\u001b[0m \u001b[32m━━━━━━━━━━━━━━━━━━━━\u001b[0m\u001b[37m\u001b[0m \u001b[1m7s\u001b[0m 2ms/step - AUC: 0.9852 - Precision: 0.8651 - Recall: 0.8694 - accuracy: 0.9514 - loss: 0.1195 - val_AUC: 0.9636 - val_Precision: 0.7852 - val_Recall: 0.8491 - val_accuracy: 0.9308 - val_loss: 0.1872\n",
      "Epoch 96/150\n",
      "\u001b[1m3298/3298\u001b[0m \u001b[32m━━━━━━━━━━━━━━━━━━━━\u001b[0m\u001b[37m\u001b[0m \u001b[1m8s\u001b[0m 2ms/step - AUC: 0.9850 - Precision: 0.8597 - Recall: 0.8692 - accuracy: 0.9504 - loss: 0.1200 - val_AUC: 0.9617 - val_Precision: 0.8199 - val_Recall: 0.8183 - val_accuracy: 0.9347 - val_loss: 0.1922\n",
      "Epoch 97/150\n",
      "\u001b[1m3298/3298\u001b[0m \u001b[32m━━━━━━━━━━━━━━━━━━━━\u001b[0m\u001b[37m\u001b[0m \u001b[1m7s\u001b[0m 2ms/step - AUC: 0.9847 - Precision: 0.8621 - Recall: 0.8674 - accuracy: 0.9509 - loss: 0.1196 - val_AUC: 0.9609 - val_Precision: 0.8138 - val_Recall: 0.8223 - val_accuracy: 0.9339 - val_loss: 0.1913\n",
      "Epoch 98/150\n",
      "\u001b[1m3298/3298\u001b[0m \u001b[32m━━━━━━━━━━━━━━━━━━━━\u001b[0m\u001b[37m\u001b[0m \u001b[1m7s\u001b[0m 2ms/step - AUC: 0.9843 - Precision: 0.8593 - Recall: 0.8604 - accuracy: 0.9487 - loss: 0.1229 - val_AUC: 0.9613 - val_Precision: 0.8280 - val_Recall: 0.8020 - val_accuracy: 0.9341 - val_loss: 0.1871\n",
      "Epoch 99/150\n",
      "\u001b[1m3298/3298\u001b[0m \u001b[32m━━━━━━━━━━━━━━━━━━━━\u001b[0m\u001b[37m\u001b[0m \u001b[1m7s\u001b[0m 2ms/step - AUC: 0.9848 - Precision: 0.8622 - Recall: 0.8661 - accuracy: 0.9510 - loss: 0.1192 - val_AUC: 0.9578 - val_Precision: 0.8342 - val_Recall: 0.7902 - val_accuracy: 0.9337 - val_loss: 0.2033\n",
      "Epoch 100/150\n",
      "\u001b[1m3298/3298\u001b[0m \u001b[32m━━━━━━━━━━━━━━━━━━━━\u001b[0m\u001b[37m\u001b[0m \u001b[1m7s\u001b[0m 2ms/step - AUC: 0.9853 - Precision: 0.8657 - Recall: 0.8711 - accuracy: 0.9514 - loss: 0.1192 - val_AUC: 0.9634 - val_Precision: 0.7841 - val_Recall: 0.8447 - val_accuracy: 0.9299 - val_loss: 0.1896\n",
      "Epoch 101/150\n",
      "\u001b[1m3298/3298\u001b[0m \u001b[32m━━━━━━━━━━━━━━━━━━━━\u001b[0m\u001b[37m\u001b[0m \u001b[1m7s\u001b[0m 2ms/step - AUC: 0.9851 - Precision: 0.8621 - Recall: 0.8691 - accuracy: 0.9512 - loss: 0.1184 - val_AUC: 0.9574 - val_Precision: 0.8158 - val_Recall: 0.8087 - val_accuracy: 0.9325 - val_loss: 0.1976\n",
      "Epoch 102/150\n",
      "\u001b[1m3298/3298\u001b[0m \u001b[32m━━━━━━━━━━━━━━━━━━━━\u001b[0m\u001b[37m\u001b[0m \u001b[1m7s\u001b[0m 2ms/step - AUC: 0.9855 - Precision: 0.8662 - Recall: 0.8680 - accuracy: 0.9518 - loss: 0.1172 - val_AUC: 0.9593 - val_Precision: 0.8009 - val_Recall: 0.8345 - val_accuracy: 0.9326 - val_loss: 0.1984\n",
      "Epoch 103/150\n",
      "\u001b[1m3298/3298\u001b[0m \u001b[32m━━━━━━━━━━━━━━━━━━━━\u001b[0m\u001b[37m\u001b[0m \u001b[1m7s\u001b[0m 2ms/step - AUC: 0.9858 - Precision: 0.8624 - Recall: 0.8744 - accuracy: 0.9515 - loss: 0.1169 - val_AUC: 0.9587 - val_Precision: 0.8089 - val_Recall: 0.8227 - val_accuracy: 0.9329 - val_loss: 0.1990\n",
      "Epoch 104/150\n",
      "\u001b[1m3298/3298\u001b[0m \u001b[32m━━━━━━━━━━━━━━━━━━━━\u001b[0m\u001b[37m\u001b[0m \u001b[1m7s\u001b[0m 2ms/step - AUC: 0.9856 - Precision: 0.8663 - Recall: 0.8691 - accuracy: 0.9519 - loss: 0.1166 - val_AUC: 0.9587 - val_Precision: 0.8181 - val_Recall: 0.8116 - val_accuracy: 0.9334 - val_loss: 0.1972\n",
      "Epoch 105/150\n",
      "\u001b[1m3298/3298\u001b[0m \u001b[32m━━━━━━━━━━━━━━━━━━━━\u001b[0m\u001b[37m\u001b[0m \u001b[1m7s\u001b[0m 2ms/step - AUC: 0.9853 - Precision: 0.8650 - Recall: 0.8662 - accuracy: 0.9509 - loss: 0.1196 - val_AUC: 0.9589 - val_Precision: 0.8008 - val_Recall: 0.8236 - val_accuracy: 0.9311 - val_loss: 0.1950\n",
      "Epoch 106/150\n",
      "\u001b[1m3298/3298\u001b[0m \u001b[32m━━━━━━━━━━━━━━━━━━━━\u001b[0m\u001b[37m\u001b[0m \u001b[1m7s\u001b[0m 2ms/step - AUC: 0.9861 - Precision: 0.8619 - Recall: 0.8740 - accuracy: 0.9517 - loss: 0.1155 - val_AUC: 0.9592 - val_Precision: 0.7995 - val_Recall: 0.8319 - val_accuracy: 0.9319 - val_loss: 0.2079\n",
      "Epoch 107/150\n",
      "\u001b[1m3298/3298\u001b[0m \u001b[32m━━━━━━━━━━━━━━━━━━━━\u001b[0m\u001b[37m\u001b[0m \u001b[1m7s\u001b[0m 2ms/step - AUC: 0.9864 - Precision: 0.8640 - Recall: 0.8735 - accuracy: 0.9520 - loss: 0.1150 - val_AUC: 0.9572 - val_Precision: 0.8236 - val_Recall: 0.8088 - val_accuracy: 0.9342 - val_loss: 0.2072\n",
      "Epoch 108/150\n",
      "\u001b[1m3298/3298\u001b[0m \u001b[32m━━━━━━━━━━━━━━━━━━━━\u001b[0m\u001b[37m\u001b[0m \u001b[1m7s\u001b[0m 2ms/step - AUC: 0.9867 - Precision: 0.8696 - Recall: 0.8805 - accuracy: 0.9540 - loss: 0.1132 - val_AUC: 0.9591 - val_Precision: 0.7958 - val_Recall: 0.8242 - val_accuracy: 0.9300 - val_loss: 0.2009\n",
      "Epoch 109/150\n",
      "\u001b[1m3298/3298\u001b[0m \u001b[32m━━━━━━━━━━━━━━━━━━━━\u001b[0m\u001b[37m\u001b[0m \u001b[1m7s\u001b[0m 2ms/step - AUC: 0.9863 - Precision: 0.8690 - Recall: 0.8753 - accuracy: 0.9536 - loss: 0.1137 - val_AUC: 0.9578 - val_Precision: 0.8239 - val_Recall: 0.7980 - val_accuracy: 0.9327 - val_loss: 0.1993\n",
      "Epoch 110/150\n",
      "\u001b[1m3298/3298\u001b[0m \u001b[32m━━━━━━━━━━━━━━━━━━━━\u001b[0m\u001b[37m\u001b[0m \u001b[1m7s\u001b[0m 2ms/step - AUC: 0.9866 - Precision: 0.8643 - Recall: 0.8774 - accuracy: 0.9528 - loss: 0.1134 - val_AUC: 0.9582 - val_Precision: 0.7918 - val_Recall: 0.8345 - val_accuracy: 0.9305 - val_loss: 0.2039\n",
      "Epoch 111/150\n",
      "\u001b[1m3298/3298\u001b[0m \u001b[32m━━━━━━━━━━━━━━━━━━━━\u001b[0m\u001b[37m\u001b[0m \u001b[1m7s\u001b[0m 2ms/step - AUC: 0.9866 - Precision: 0.8668 - Recall: 0.8775 - accuracy: 0.9534 - loss: 0.1128 - val_AUC: 0.9565 - val_Precision: 0.8212 - val_Recall: 0.7887 - val_accuracy: 0.9308 - val_loss: 0.2035\n",
      "Epoch 112/150\n",
      "\u001b[1m3298/3298\u001b[0m \u001b[32m━━━━━━━━━━━━━━━━━━━━\u001b[0m\u001b[37m\u001b[0m \u001b[1m7s\u001b[0m 2ms/step - AUC: 0.9865 - Precision: 0.8637 - Recall: 0.8753 - accuracy: 0.9520 - loss: 0.1144 - val_AUC: 0.9580 - val_Precision: 0.8018 - val_Recall: 0.8165 - val_accuracy: 0.9304 - val_loss: 0.1997\n",
      "Epoch 113/150\n",
      "\u001b[1m3298/3298\u001b[0m \u001b[32m━━━━━━━━━━━━━━━━━━━━\u001b[0m\u001b[37m\u001b[0m \u001b[1m7s\u001b[0m 2ms/step - AUC: 0.9864 - Precision: 0.8677 - Recall: 0.8764 - accuracy: 0.9533 - loss: 0.1140 - val_AUC: 0.9578 - val_Precision: 0.7996 - val_Recall: 0.8301 - val_accuracy: 0.9317 - val_loss: 0.2080\n",
      "Epoch 114/150\n",
      "\u001b[1m3298/3298\u001b[0m \u001b[32m━━━━━━━━━━━━━━━━━━━━\u001b[0m\u001b[37m\u001b[0m \u001b[1m7s\u001b[0m 2ms/step - AUC: 0.9867 - Precision: 0.8677 - Recall: 0.8805 - accuracy: 0.9539 - loss: 0.1124 - val_AUC: 0.9571 - val_Precision: 0.8199 - val_Recall: 0.8002 - val_accuracy: 0.9321 - val_loss: 0.2105\n",
      "Epoch 115/150\n",
      "\u001b[1m3298/3298\u001b[0m \u001b[32m━━━━━━━━━━━━━━━━━━━━\u001b[0m\u001b[37m\u001b[0m \u001b[1m7s\u001b[0m 2ms/step - AUC: 0.9868 - Precision: 0.8690 - Recall: 0.8802 - accuracy: 0.9539 - loss: 0.1123 - val_AUC: 0.9554 - val_Precision: 0.8288 - val_Recall: 0.7884 - val_accuracy: 0.9323 - val_loss: 0.2103\n",
      "Epoch 116/150\n",
      "\u001b[1m3298/3298\u001b[0m \u001b[32m━━━━━━━━━━━━━━━━━━━━\u001b[0m\u001b[37m\u001b[0m \u001b[1m7s\u001b[0m 2ms/step - AUC: 0.9874 - Precision: 0.8676 - Recall: 0.8793 - accuracy: 0.9542 - loss: 0.1096 - val_AUC: 0.9581 - val_Precision: 0.8141 - val_Recall: 0.8145 - val_accuracy: 0.9329 - val_loss: 0.2018\n",
      "Epoch 117/150\n",
      "\u001b[1m3298/3298\u001b[0m \u001b[32m━━━━━━━━━━━━━━━━━━━━\u001b[0m\u001b[37m\u001b[0m \u001b[1m7s\u001b[0m 2ms/step - AUC: 0.9876 - Precision: 0.8688 - Recall: 0.8829 - accuracy: 0.9545 - loss: 0.1100 - val_AUC: 0.9553 - val_Precision: 0.8097 - val_Recall: 0.8068 - val_accuracy: 0.9308 - val_loss: 0.2108\n",
      "Epoch 118/150\n",
      "\u001b[1m3298/3298\u001b[0m \u001b[32m━━━━━━━━━━━━━━━━━━━━\u001b[0m\u001b[37m\u001b[0m \u001b[1m8s\u001b[0m 2ms/step - AUC: 0.9876 - Precision: 0.8705 - Recall: 0.8792 - accuracy: 0.9547 - loss: 0.1094 - val_AUC: 0.9566 - val_Precision: 0.8233 - val_Recall: 0.7895 - val_accuracy: 0.9313 - val_loss: 0.2030\n",
      "Epoch 119/150\n",
      "\u001b[1m3298/3298\u001b[0m \u001b[32m━━━━━━━━━━━━━━━━━━━━\u001b[0m\u001b[37m\u001b[0m \u001b[1m7s\u001b[0m 2ms/step - AUC: 0.9874 - Precision: 0.8706 - Recall: 0.8783 - accuracy: 0.9545 - loss: 0.1096 - val_AUC: 0.9547 - val_Precision: 0.8146 - val_Recall: 0.7980 - val_accuracy: 0.9307 - val_loss: 0.2073\n",
      "Epoch 120/150\n",
      "\u001b[1m3298/3298\u001b[0m \u001b[32m━━━━━━━━━━━━━━━━━━━━\u001b[0m\u001b[37m\u001b[0m \u001b[1m7s\u001b[0m 2ms/step - AUC: 0.9875 - Precision: 0.8695 - Recall: 0.8832 - accuracy: 0.9545 - loss: 0.1096 - val_AUC: 0.9540 - val_Precision: 0.8165 - val_Recall: 0.8071 - val_accuracy: 0.9324 - val_loss: 0.2150\n",
      "Epoch 121/150\n",
      "\u001b[1m3298/3298\u001b[0m \u001b[32m━━━━━━━━━━━━━━━━━━━━\u001b[0m\u001b[37m\u001b[0m \u001b[1m7s\u001b[0m 2ms/step - AUC: 0.9883 - Precision: 0.8747 - Recall: 0.8865 - accuracy: 0.9562 - loss: 0.1069 - val_AUC: 0.9543 - val_Precision: 0.8132 - val_Recall: 0.8008 - val_accuracy: 0.9308 - val_loss: 0.2155\n",
      "Epoch 122/150\n",
      "\u001b[1m3298/3298\u001b[0m \u001b[32m━━━━━━━━━━━━━━━━━━━━\u001b[0m\u001b[37m\u001b[0m \u001b[1m7s\u001b[0m 2ms/step - AUC: 0.9874 - Precision: 0.8716 - Recall: 0.8801 - accuracy: 0.9548 - loss: 0.1100 - val_AUC: 0.9563 - val_Precision: 0.8130 - val_Recall: 0.8065 - val_accuracy: 0.9315 - val_loss: 0.2049\n",
      "Epoch 123/150\n",
      "\u001b[1m3298/3298\u001b[0m \u001b[32m━━━━━━━━━━━━━━━━━━━━\u001b[0m\u001b[37m\u001b[0m \u001b[1m8s\u001b[0m 2ms/step - AUC: 0.9877 - Precision: 0.8693 - Recall: 0.8848 - accuracy: 0.9543 - loss: 0.1088 - val_AUC: 0.9572 - val_Precision: 0.7908 - val_Recall: 0.8275 - val_accuracy: 0.9293 - val_loss: 0.2101\n",
      "Epoch 124/150\n",
      "\u001b[1m3298/3298\u001b[0m \u001b[32m━━━━━━━━━━━━━━━━━━━━\u001b[0m\u001b[37m\u001b[0m \u001b[1m7s\u001b[0m 2ms/step - AUC: 0.9878 - Precision: 0.8751 - Recall: 0.8779 - accuracy: 0.9544 - loss: 0.1086 - val_AUC: 0.9542 - val_Precision: 0.8054 - val_Recall: 0.8186 - val_accuracy: 0.9315 - val_loss: 0.2210\n",
      "Epoch 125/150\n",
      "\u001b[1m3298/3298\u001b[0m \u001b[32m━━━━━━━━━━━━━━━━━━━━\u001b[0m\u001b[37m\u001b[0m \u001b[1m7s\u001b[0m 2ms/step - AUC: 0.9878 - Precision: 0.8691 - Recall: 0.8802 - accuracy: 0.9541 - loss: 0.1091 - val_AUC: 0.9574 - val_Precision: 0.7828 - val_Recall: 0.8463 - val_accuracy: 0.9298 - val_loss: 0.2212\n",
      "Epoch 126/150\n",
      "\u001b[1m3298/3298\u001b[0m \u001b[32m━━━━━━━━━━━━━━━━━━━━\u001b[0m\u001b[37m\u001b[0m \u001b[1m7s\u001b[0m 2ms/step - AUC: 0.9887 - Precision: 0.8739 - Recall: 0.8869 - accuracy: 0.9561 - loss: 0.1043 - val_AUC: 0.9542 - val_Precision: 0.8126 - val_Recall: 0.7981 - val_accuracy: 0.9303 - val_loss: 0.2153\n",
      "Epoch 127/150\n",
      "\u001b[1m3298/3298\u001b[0m \u001b[32m━━━━━━━━━━━━━━━━━━━━\u001b[0m\u001b[37m\u001b[0m \u001b[1m8s\u001b[0m 2ms/step - AUC: 0.9881 - Precision: 0.8735 - Recall: 0.8803 - accuracy: 0.9552 - loss: 0.1074 - val_AUC: 0.9532 - val_Precision: 0.8213 - val_Recall: 0.7899 - val_accuracy: 0.9310 - val_loss: 0.2228\n",
      "Epoch 128/150\n",
      "\u001b[1m3298/3298\u001b[0m \u001b[32m━━━━━━━━━━━━━━━━━━━━\u001b[0m\u001b[37m\u001b[0m \u001b[1m7s\u001b[0m 2ms/step - AUC: 0.9885 - Precision: 0.8763 - Recall: 0.8867 - accuracy: 0.9567 - loss: 0.1050 - val_AUC: 0.9571 - val_Precision: 0.8131 - val_Recall: 0.8069 - val_accuracy: 0.9316 - val_loss: 0.2110\n",
      "Epoch 129/150\n",
      "\u001b[1m3298/3298\u001b[0m \u001b[32m━━━━━━━━━━━━━━━━━━━━\u001b[0m\u001b[37m\u001b[0m \u001b[1m8s\u001b[0m 2ms/step - AUC: 0.9879 - Precision: 0.8724 - Recall: 0.8819 - accuracy: 0.9555 - loss: 0.1074 - val_AUC: 0.9495 - val_Precision: 0.8438 - val_Recall: 0.7585 - val_accuracy: 0.9310 - val_loss: 0.2361\n",
      "Epoch 130/150\n",
      "\u001b[1m3298/3298\u001b[0m \u001b[32m━━━━━━━━━━━━━━━━━━━━\u001b[0m\u001b[37m\u001b[0m \u001b[1m7s\u001b[0m 2ms/step - AUC: 0.9880 - Precision: 0.8734 - Recall: 0.8813 - accuracy: 0.9553 - loss: 0.1073 - val_AUC: 0.9548 - val_Precision: 0.7860 - val_Recall: 0.8290 - val_accuracy: 0.9283 - val_loss: 0.2174\n",
      "Epoch 131/150\n",
      "\u001b[1m3298/3298\u001b[0m \u001b[32m━━━━━━━━━━━━━━━━━━━━\u001b[0m\u001b[37m\u001b[0m \u001b[1m7s\u001b[0m 2ms/step - AUC: 0.9885 - Precision: 0.8755 - Recall: 0.8850 - accuracy: 0.9559 - loss: 0.1060 - val_AUC: 0.9531 - val_Precision: 0.8091 - val_Recall: 0.8090 - val_accuracy: 0.9310 - val_loss: 0.2234\n",
      "Epoch 132/150\n",
      "\u001b[1m3298/3298\u001b[0m \u001b[32m━━━━━━━━━━━━━━━━━━━━\u001b[0m\u001b[37m\u001b[0m \u001b[1m7s\u001b[0m 2ms/step - AUC: 0.9888 - Precision: 0.8762 - Recall: 0.8871 - accuracy: 0.9567 - loss: 0.1040 - val_AUC: 0.9531 - val_Precision: 0.7884 - val_Recall: 0.8290 - val_accuracy: 0.9289 - val_loss: 0.2336\n",
      "Epoch 133/150\n",
      "\u001b[1m3298/3298\u001b[0m \u001b[32m━━━━━━━━━━━━━━━━━━━━\u001b[0m\u001b[37m\u001b[0m \u001b[1m7s\u001b[0m 2ms/step - AUC: 0.9886 - Precision: 0.8718 - Recall: 0.8923 - accuracy: 0.9564 - loss: 0.1050 - val_AUC: 0.9516 - val_Precision: 0.8260 - val_Recall: 0.7762 - val_accuracy: 0.9300 - val_loss: 0.2269\n",
      "Epoch 134/150\n",
      "\u001b[1m3298/3298\u001b[0m \u001b[32m━━━━━━━━━━━━━━━━━━━━\u001b[0m\u001b[37m\u001b[0m \u001b[1m7s\u001b[0m 2ms/step - AUC: 0.9890 - Precision: 0.8747 - Recall: 0.8854 - accuracy: 0.9565 - loss: 0.1029 - val_AUC: 0.9520 - val_Precision: 0.7985 - val_Recall: 0.8161 - val_accuracy: 0.9296 - val_loss: 0.2316\n",
      "Epoch 135/150\n",
      "\u001b[1m3298/3298\u001b[0m \u001b[32m━━━━━━━━━━━━━━━━━━━━\u001b[0m\u001b[37m\u001b[0m \u001b[1m7s\u001b[0m 2ms/step - AUC: 0.9888 - Precision: 0.8732 - Recall: 0.8913 - accuracy: 0.9564 - loss: 0.1045 - val_AUC: 0.9560 - val_Precision: 0.7928 - val_Recall: 0.8172 - val_accuracy: 0.9284 - val_loss: 0.2128\n",
      "Epoch 136/150\n",
      "\u001b[1m3298/3298\u001b[0m \u001b[32m━━━━━━━━━━━━━━━━━━━━\u001b[0m\u001b[37m\u001b[0m \u001b[1m7s\u001b[0m 2ms/step - AUC: 0.9888 - Precision: 0.8736 - Recall: 0.8826 - accuracy: 0.9556 - loss: 0.1046 - val_AUC: 0.9517 - val_Precision: 0.7942 - val_Recall: 0.8234 - val_accuracy: 0.9296 - val_loss: 0.2306\n",
      "Epoch 137/150\n",
      "\u001b[1m3298/3298\u001b[0m \u001b[32m━━━━━━━━━━━━━━━━━━━━\u001b[0m\u001b[37m\u001b[0m \u001b[1m7s\u001b[0m 2ms/step - AUC: 0.9893 - Precision: 0.8815 - Recall: 0.8884 - accuracy: 0.9582 - loss: 0.1015 - val_AUC: 0.9540 - val_Precision: 0.7973 - val_Recall: 0.8052 - val_accuracy: 0.9278 - val_loss: 0.2185\n",
      "Epoch 138/150\n",
      "\u001b[1m3298/3298\u001b[0m \u001b[32m━━━━━━━━━━━━━━━━━━━━\u001b[0m\u001b[37m\u001b[0m \u001b[1m7s\u001b[0m 2ms/step - AUC: 0.9891 - Precision: 0.8764 - Recall: 0.8896 - accuracy: 0.9571 - loss: 0.1028 - val_AUC: 0.9503 - val_Precision: 0.8135 - val_Recall: 0.8011 - val_accuracy: 0.9309 - val_loss: 0.2389\n",
      "Epoch 139/150\n",
      "\u001b[1m3298/3298\u001b[0m \u001b[32m━━━━━━━━━━━━━━━━━━━━\u001b[0m\u001b[37m\u001b[0m \u001b[1m7s\u001b[0m 2ms/step - AUC: 0.9893 - Precision: 0.8778 - Recall: 0.8852 - accuracy: 0.9566 - loss: 0.1023 - val_AUC: 0.9529 - val_Precision: 0.8075 - val_Recall: 0.8033 - val_accuracy: 0.9299 - val_loss: 0.2258\n",
      "Epoch 140/150\n",
      "\u001b[1m3298/3298\u001b[0m \u001b[32m━━━━━━━━━━━━━━━━━━━━\u001b[0m\u001b[37m\u001b[0m \u001b[1m8s\u001b[0m 2ms/step - AUC: 0.9896 - Precision: 0.8774 - Recall: 0.8887 - accuracy: 0.9575 - loss: 0.1008 - val_AUC: 0.9541 - val_Precision: 0.8245 - val_Recall: 0.7745 - val_accuracy: 0.9295 - val_loss: 0.2214\n",
      "Epoch 141/150\n",
      "\u001b[1m3298/3298\u001b[0m \u001b[32m━━━━━━━━━━━━━━━━━━━━\u001b[0m\u001b[37m\u001b[0m \u001b[1m7s\u001b[0m 2ms/step - AUC: 0.9892 - Precision: 0.8792 - Recall: 0.8830 - accuracy: 0.9568 - loss: 0.1022 - val_AUC: 0.9514 - val_Precision: 0.8010 - val_Recall: 0.8096 - val_accuracy: 0.9293 - val_loss: 0.2412\n",
      "Epoch 142/150\n",
      "\u001b[1m3298/3298\u001b[0m \u001b[32m━━━━━━━━━━━━━━━━━━━━\u001b[0m\u001b[37m\u001b[0m \u001b[1m7s\u001b[0m 2ms/step - AUC: 0.9897 - Precision: 0.8832 - Recall: 0.8940 - accuracy: 0.9584 - loss: 0.1003 - val_AUC: 0.9498 - val_Precision: 0.8187 - val_Recall: 0.7901 - val_accuracy: 0.9305 - val_loss: 0.2352\n",
      "Epoch 143/150\n",
      "\u001b[1m3298/3298\u001b[0m \u001b[32m━━━━━━━━━━━━━━━━━━━━\u001b[0m\u001b[37m\u001b[0m \u001b[1m7s\u001b[0m 2ms/step - AUC: 0.9895 - Precision: 0.8758 - Recall: 0.8882 - accuracy: 0.9573 - loss: 0.1005 - val_AUC: 0.9497 - val_Precision: 0.7612 - val_Recall: 0.8330 - val_accuracy: 0.9226 - val_loss: 0.2439\n",
      "Epoch 144/150\n",
      "\u001b[1m3298/3298\u001b[0m \u001b[32m━━━━━━━━━━━━━━━━━━━━\u001b[0m\u001b[37m\u001b[0m \u001b[1m8s\u001b[0m 2ms/step - AUC: 0.9891 - Precision: 0.8747 - Recall: 0.8904 - accuracy: 0.9573 - loss: 0.1015 - val_AUC: 0.9500 - val_Precision: 0.7942 - val_Recall: 0.8138 - val_accuracy: 0.9283 - val_loss: 0.2356\n",
      "Epoch 145/150\n",
      "\u001b[1m3298/3298\u001b[0m \u001b[32m━━━━━━━━━━━━━━━━━━━━\u001b[0m\u001b[37m\u001b[0m \u001b[1m7s\u001b[0m 2ms/step - AUC: 0.9898 - Precision: 0.8790 - Recall: 0.8962 - accuracy: 0.9585 - loss: 0.0993 - val_AUC: 0.9536 - val_Precision: 0.7846 - val_Recall: 0.8332 - val_accuracy: 0.9285 - val_loss: 0.2381\n",
      "Epoch 146/150\n",
      "\u001b[1m3298/3298\u001b[0m \u001b[32m━━━━━━━━━━━━━━━━━━━━\u001b[0m\u001b[37m\u001b[0m \u001b[1m7s\u001b[0m 2ms/step - AUC: 0.9898 - Precision: 0.8798 - Recall: 0.8922 - accuracy: 0.9582 - loss: 0.0992 - val_AUC: 0.9484 - val_Precision: 0.8067 - val_Recall: 0.7975 - val_accuracy: 0.9289 - val_loss: 0.2487\n",
      "Epoch 147/150\n",
      "\u001b[1m3298/3298\u001b[0m \u001b[32m━━━━━━━━━━━━━━━━━━━━\u001b[0m\u001b[37m\u001b[0m \u001b[1m7s\u001b[0m 2ms/step - AUC: 0.9895 - Precision: 0.8785 - Recall: 0.8839 - accuracy: 0.9564 - loss: 0.1019 - val_AUC: 0.9489 - val_Precision: 0.8145 - val_Recall: 0.7854 - val_accuracy: 0.9289 - val_loss: 0.2446\n",
      "Epoch 148/150\n",
      "\u001b[1m3298/3298\u001b[0m \u001b[32m━━━━━━━━━━━━━━━━━━━━\u001b[0m\u001b[37m\u001b[0m \u001b[1m7s\u001b[0m 2ms/step - AUC: 0.9898 - Precision: 0.8802 - Recall: 0.8897 - accuracy: 0.9579 - loss: 0.0997 - val_AUC: 0.9511 - val_Precision: 0.7889 - val_Recall: 0.8299 - val_accuracy: 0.9292 - val_loss: 0.2456\n",
      "Epoch 149/150\n",
      "\u001b[1m3298/3298\u001b[0m \u001b[32m━━━━━━━━━━━━━━━━━━━━\u001b[0m\u001b[37m\u001b[0m \u001b[1m7s\u001b[0m 2ms/step - AUC: 0.9902 - Precision: 0.8795 - Recall: 0.8890 - accuracy: 0.9577 - loss: 0.0978 - val_AUC: 0.9492 - val_Precision: 0.8202 - val_Recall: 0.7948 - val_accuracy: 0.9315 - val_loss: 0.2448\n",
      "Epoch 150/150\n",
      "\u001b[1m3298/3298\u001b[0m \u001b[32m━━━━━━━━━━━━━━━━━━━━\u001b[0m\u001b[37m\u001b[0m \u001b[1m7s\u001b[0m 2ms/step - AUC: 0.9902 - Precision: 0.8826 - Recall: 0.8904 - accuracy: 0.9583 - loss: 0.0984 - val_AUC: 0.9512 - val_Precision: 0.8010 - val_Recall: 0.8164 - val_accuracy: 0.9302 - val_loss: 0.2425\n"
     ]
    },
    {
     "data": {
      "text/plain": [
       "<keras.src.callbacks.history.History at 0x7d82c44ff580>"
      ]
     },
     "execution_count": 125,
     "metadata": {},
     "output_type": "execute_result"
    }
   ],
   "source": [
    "# Build and train the best model\n",
    "best_model = tuner.hypermodel.build(best_hps)\n",
    "best_model.fit(X_train, y_train, epochs=150, validation_data=(X_test, y_test), verbose=1)\n"
   ]
  },
  {
   "cell_type": "code",
   "execution_count": 126,
   "id": "24b6f8c1",
   "metadata": {
    "execution": {
     "iopub.execute_input": "2025-02-23T22:02:04.484026Z",
     "iopub.status.busy": "2025-02-23T22:02:04.483688Z",
     "iopub.status.idle": "2025-02-23T22:02:06.109780Z",
     "shell.execute_reply": "2025-02-23T22:02:06.109080Z"
    },
    "papermill": {
     "duration": 2.575246,
     "end_time": "2025-02-23T22:02:06.111069",
     "exception": false,
     "start_time": "2025-02-23T22:02:03.535823",
     "status": "completed"
    },
    "tags": []
   },
   "outputs": [
    {
     "name": "stdout",
     "output_type": "stream",
     "text": [
      "\u001b[1m1100/1100\u001b[0m \u001b[32m━━━━━━━━━━━━━━━━━━━━\u001b[0m\u001b[37m\u001b[0m \u001b[1m2s\u001b[0m 1ms/step - AUC: 0.9522 - Precision: 0.8018 - Recall: 0.8126 - accuracy: 0.9294 - loss: 0.2458\n",
      "Best Test Accuracy: 0.9302\n",
      "Precision: 0.8164\n",
      "Recall: 0.8010\n",
      "AUC: 0.9512\n"
     ]
    }
   ],
   "source": [
    "# Evaluate best model\n",
    "test_loss, test_acc, test_precision, test_recall, test_auc = best_model.evaluate(X_test, y_test)\n",
    "print(f'Best Test Accuracy: {test_acc:.4f}')\n",
    "print(f'Precision: {test_precision:.4f}')\n",
    "print(f'Recall: {test_recall:.4f}')\n",
    "print(f'AUC: {test_auc:.4f}')\n"
   ]
  },
  {
   "cell_type": "markdown",
   "id": "49fdf9cf",
   "metadata": {
    "papermill": {
     "duration": 1.031895,
     "end_time": "2025-02-23T22:02:08.025876",
     "exception": false,
     "start_time": "2025-02-23T22:02:06.993981",
     "status": "completed"
    },
    "tags": []
   },
   "source": [
    "# Model Testing"
   ]
  },
  {
   "cell_type": "code",
   "execution_count": 127,
   "id": "b0b8fed4",
   "metadata": {
    "execution": {
     "iopub.execute_input": "2025-02-23T22:02:09.832297Z",
     "iopub.status.busy": "2025-02-23T22:02:09.831827Z",
     "iopub.status.idle": "2025-02-23T22:02:12.027199Z",
     "shell.execute_reply": "2025-02-23T22:02:12.026258Z"
    },
    "papermill": {
     "duration": 3.075772,
     "end_time": "2025-02-23T22:02:12.028704",
     "exception": false,
     "start_time": "2025-02-23T22:02:08.952932",
     "status": "completed"
    },
    "tags": []
   },
   "outputs": [
    {
     "name": "stdout",
     "output_type": "stream",
     "text": [
      "\u001b[1m1100/1100\u001b[0m \u001b[32m━━━━━━━━━━━━━━━━━━━━\u001b[0m\u001b[37m\u001b[0m \u001b[1m2s\u001b[0m 1ms/step\n"
     ]
    }
   ],
   "source": [
    "# testingwith the prediction basis\n",
    "model_yhat = best_model.predict(X_test)\n"
   ]
  },
  {
   "cell_type": "code",
   "execution_count": 128,
   "id": "85a0976e",
   "metadata": {
    "execution": {
     "iopub.execute_input": "2025-02-23T22:02:13.905928Z",
     "iopub.status.busy": "2025-02-23T22:02:13.905380Z",
     "iopub.status.idle": "2025-02-23T22:02:13.909415Z",
     "shell.execute_reply": "2025-02-23T22:02:13.908783Z"
    },
    "papermill": {
     "duration": 0.937502,
     "end_time": "2025-02-23T22:02:13.910563",
     "exception": false,
     "start_time": "2025-02-23T22:02:12.973061",
     "status": "completed"
    },
    "tags": []
   },
   "outputs": [],
   "source": [
    "model_yhat_binarized = np.where(model_yhat >= 0.5, 1, 0)"
   ]
  },
  {
   "cell_type": "code",
   "execution_count": 129,
   "id": "a9681a10",
   "metadata": {
    "execution": {
     "iopub.execute_input": "2025-02-23T22:02:15.712237Z",
     "iopub.status.busy": "2025-02-23T22:02:15.711921Z",
     "iopub.status.idle": "2025-02-23T22:02:15.797154Z",
     "shell.execute_reply": "2025-02-23T22:02:15.796294Z"
    },
    "papermill": {
     "duration": 1.012525,
     "end_time": "2025-02-23T22:02:15.798371",
     "exception": false,
     "start_time": "2025-02-23T22:02:14.785846",
     "status": "completed"
    },
    "tags": []
   },
   "outputs": [
    {
     "name": "stdout",
     "output_type": "stream",
     "text": [
      "               precision    recall  f1-score   support\n",
      "\n",
      "   Depression       0.96      0.96      0.96     28698\n",
      "Not Depressed       0.82      0.80      0.81      6477\n",
      "\n",
      "     accuracy                           0.93     35175\n",
      "    macro avg       0.89      0.88      0.88     35175\n",
      " weighted avg       0.93      0.93      0.93     35175\n",
      "\n"
     ]
    }
   ],
   "source": [
    "# comparing both the yhat and y_test results\n",
    "print(classification_report(model_yhat_binarized, y_test, target_names=['Depression','Not Depressed']))"
   ]
  },
  {
   "cell_type": "code",
   "execution_count": 130,
   "id": "d20731da",
   "metadata": {
    "execution": {
     "iopub.execute_input": "2025-02-23T22:02:17.623759Z",
     "iopub.status.busy": "2025-02-23T22:02:17.623430Z",
     "iopub.status.idle": "2025-02-23T22:02:17.914038Z",
     "shell.execute_reply": "2025-02-23T22:02:17.913177Z"
    },
    "papermill": {
     "duration": 1.246713,
     "end_time": "2025-02-23T22:02:17.915318",
     "exception": false,
     "start_time": "2025-02-23T22:02:16.668605",
     "status": "completed"
    },
    "tags": []
   },
   "outputs": [
    {
     "data": {
      "image/png": "[encoded data removed]",
      "text/plain": [
       "<Figure size 800x600 with 2 Axes>"
      ]
     },
     "metadata": {},
     "output_type": "display_data"
    }
   ],
   "source": [
    "# Calculate confusion matrix\n",
    "cm = confusion_matrix(model_yhat_binarized, y_test)\n",
    "\n",
    "# Plot confusion matrix as heatmap\n",
    "plt.figure(figsize=(8, 6))\n",
    "sns.heatmap(cm, annot=True, fmt='d', cmap='Blues', xticklabels=['Not Depressed', \"Depressed\"], yticklabels=['Not Depressed', \"Depressed\"])\n",
    "plt.xlabel('Predicted Label')\n",
    "plt.ylabel('True Label')\n",
    "plt.title('Confusion Matrix')\n",
    "plt.show()"
   ]
  },
  {
   "cell_type": "markdown",
   "id": "227a2e41",
   "metadata": {
    "papermill": {
     "duration": 0.880863,
     "end_time": "2025-02-23T22:02:19.733583",
     "exception": false,
     "start_time": "2025-02-23T22:02:18.852720",
     "status": "completed"
    },
    "tags": []
   },
   "source": [
    "# Fitting the splitted_test set "
   ]
  },
  {
   "cell_type": "code",
   "execution_count": 131,
   "id": "03bfc639",
   "metadata": {
    "collapsed": true,
    "execution": {
     "iopub.execute_input": "2025-02-23T22:02:21.673048Z",
     "iopub.status.busy": "2025-02-23T22:02:21.672497Z",
     "iopub.status.idle": "2025-02-23T22:07:18.034332Z",
     "shell.execute_reply": "2025-02-23T22:07:18.033456Z"
    },
    "jupyter": {
     "outputs_hidden": true
    },
    "papermill": {
     "duration": 297.369142,
     "end_time": "2025-02-23T22:07:18.035581",
     "exception": false,
     "start_time": "2025-02-23T22:02:20.666439",
     "status": "completed"
    },
    "tags": []
   },
   "outputs": [
    {
     "name": "stdout",
     "output_type": "stream",
     "text": [
      "Epoch 1/150\n",
      "\u001b[1m1100/1100\u001b[0m \u001b[32m━━━━━━━━━━━━━━━━━━━━\u001b[0m\u001b[37m\u001b[0m \u001b[1m4s\u001b[0m 3ms/step - AUC: 0.9633 - Precision: 0.8320 - Recall: 0.7891 - accuracy: 0.9338 - loss: 0.1824\n",
      "Epoch 2/150\n",
      "\u001b[1m1100/1100\u001b[0m \u001b[32m━━━━━━━━━━━━━━━━━━━━\u001b[0m\u001b[37m\u001b[0m \u001b[1m2s\u001b[0m 2ms/step - AUC: 0.9734 - Precision: 0.8382 - Recall: 0.8124 - accuracy: 0.9387 - loss: 0.1549\n",
      "Epoch 3/150\n",
      "\u001b[1m1100/1100\u001b[0m \u001b[32m━━━━━━━━━━━━━━━━━━━━\u001b[0m\u001b[37m\u001b[0m \u001b[1m2s\u001b[0m 2ms/step - AUC: 0.9737 - Precision: 0.8427 - Recall: 0.8174 - accuracy: 0.9389 - loss: 0.1553\n",
      "Epoch 4/150\n",
      "\u001b[1m1100/1100\u001b[0m \u001b[32m━━━━━━━━━━━━━━━━━━━━\u001b[0m\u001b[37m\u001b[0m \u001b[1m2s\u001b[0m 2ms/step - AUC: 0.9731 - Precision: 0.8382 - Recall: 0.8069 - accuracy: 0.9376 - loss: 0.1539\n",
      "Epoch 5/150\n",
      "\u001b[1m1100/1100\u001b[0m \u001b[32m━━━━━━━━━━━━━━━━━━━━\u001b[0m\u001b[37m\u001b[0m \u001b[1m2s\u001b[0m 2ms/step - AUC: 0.9754 - Precision: 0.8434 - Recall: 0.8232 - accuracy: 0.9404 - loss: 0.1505\n",
      "Epoch 6/150\n",
      "\u001b[1m1100/1100\u001b[0m \u001b[32m━━━━━━━━━━━━━━━━━━━━\u001b[0m\u001b[37m\u001b[0m \u001b[1m2s\u001b[0m 2ms/step - AUC: 0.9775 - Precision: 0.8381 - Recall: 0.8310 - accuracy: 0.9408 - loss: 0.1443\n",
      "Epoch 7/150\n",
      "\u001b[1m1100/1100\u001b[0m \u001b[32m━━━━━━━━━━━━━━━━━━━━\u001b[0m\u001b[37m\u001b[0m \u001b[1m2s\u001b[0m 2ms/step - AUC: 0.9771 - Precision: 0.8491 - Recall: 0.8314 - accuracy: 0.9420 - loss: 0.1451\n",
      "Epoch 8/150\n",
      "\u001b[1m1100/1100\u001b[0m \u001b[32m━━━━━━━━━━━━━━━━━━━━\u001b[0m\u001b[37m\u001b[0m \u001b[1m2s\u001b[0m 2ms/step - AUC: 0.9768 - Precision: 0.8456 - Recall: 0.8279 - accuracy: 0.9424 - loss: 0.1449\n",
      "Epoch 9/150\n",
      "\u001b[1m1100/1100\u001b[0m \u001b[32m━━━━━━━━━━━━━━━━━━━━\u001b[0m\u001b[37m\u001b[0m \u001b[1m2s\u001b[0m 2ms/step - AUC: 0.9787 - Precision: 0.8492 - Recall: 0.8444 - accuracy: 0.9442 - loss: 0.1405\n",
      "Epoch 10/150\n",
      "\u001b[1m1100/1100\u001b[0m \u001b[32m━━━━━━━━━━━━━━━━━━━━\u001b[0m\u001b[37m\u001b[0m \u001b[1m2s\u001b[0m 2ms/step - AUC: 0.9794 - Precision: 0.8466 - Recall: 0.8323 - accuracy: 0.9430 - loss: 0.1386\n",
      "Epoch 11/150\n",
      "\u001b[1m1100/1100\u001b[0m \u001b[32m━━━━━━━━━━━━━━━━━━━━\u001b[0m\u001b[37m\u001b[0m \u001b[1m2s\u001b[0m 2ms/step - AUC: 0.9793 - Precision: 0.8417 - Recall: 0.8402 - accuracy: 0.9425 - loss: 0.1392\n",
      "Epoch 12/150\n",
      "\u001b[1m1100/1100\u001b[0m \u001b[32m━━━━━━━━━━━━━━━━━━━━\u001b[0m\u001b[37m\u001b[0m \u001b[1m2s\u001b[0m 2ms/step - AUC: 0.9799 - Precision: 0.8499 - Recall: 0.8450 - accuracy: 0.9441 - loss: 0.1390\n",
      "Epoch 13/150\n",
      "\u001b[1m1100/1100\u001b[0m \u001b[32m━━━━━━━━━━━━━━━━━━━━\u001b[0m\u001b[37m\u001b[0m \u001b[1m2s\u001b[0m 2ms/step - AUC: 0.9808 - Precision: 0.8468 - Recall: 0.8521 - accuracy: 0.9451 - loss: 0.1337\n",
      "Epoch 14/150\n",
      "\u001b[1m1100/1100\u001b[0m \u001b[32m━━━━━━━━━━━━━━━━━━━━\u001b[0m\u001b[37m\u001b[0m \u001b[1m2s\u001b[0m 2ms/step - AUC: 0.9828 - Precision: 0.8506 - Recall: 0.8626 - accuracy: 0.9470 - loss: 0.1293\n",
      "Epoch 15/150\n",
      "\u001b[1m1100/1100\u001b[0m \u001b[32m━━━━━━━━━━━━━━━━━━━━\u001b[0m\u001b[37m\u001b[0m \u001b[1m2s\u001b[0m 2ms/step - AUC: 0.9820 - Precision: 0.8498 - Recall: 0.8637 - accuracy: 0.9469 - loss: 0.1314\n",
      "Epoch 16/150\n",
      "\u001b[1m1100/1100\u001b[0m \u001b[32m━━━━━━━━━━━━━━━━━━━━\u001b[0m\u001b[37m\u001b[0m \u001b[1m2s\u001b[0m 2ms/step - AUC: 0.9835 - Precision: 0.8566 - Recall: 0.8647 - accuracy: 0.9496 - loss: 0.1233\n",
      "Epoch 17/150\n",
      "\u001b[1m1100/1100\u001b[0m \u001b[32m━━━━━━━━━━━━━━━━━━━━\u001b[0m\u001b[37m\u001b[0m \u001b[1m2s\u001b[0m 2ms/step - AUC: 0.9837 - Precision: 0.8525 - Recall: 0.8615 - accuracy: 0.9492 - loss: 0.1237\n",
      "Epoch 18/150\n",
      "\u001b[1m1100/1100\u001b[0m \u001b[32m━━━━━━━━━━━━━━━━━━━━\u001b[0m\u001b[37m\u001b[0m \u001b[1m2s\u001b[0m 2ms/step - AUC: 0.9834 - Precision: 0.8463 - Recall: 0.8635 - accuracy: 0.9470 - loss: 0.1258\n",
      "Epoch 19/150\n",
      "\u001b[1m1100/1100\u001b[0m \u001b[32m━━━━━━━━━━━━━━━━━━━━\u001b[0m\u001b[37m\u001b[0m \u001b[1m2s\u001b[0m 2ms/step - AUC: 0.9846 - Precision: 0.8523 - Recall: 0.8625 - accuracy: 0.9490 - loss: 0.1208\n",
      "Epoch 20/150\n",
      "\u001b[1m1100/1100\u001b[0m \u001b[32m━━━━━━━━━━━━━━━━━━━━\u001b[0m\u001b[37m\u001b[0m \u001b[1m2s\u001b[0m 2ms/step - AUC: 0.9847 - Precision: 0.8625 - Recall: 0.8666 - accuracy: 0.9510 - loss: 0.1185\n",
      "Epoch 21/150\n",
      "\u001b[1m1100/1100\u001b[0m \u001b[32m━━━━━━━━━━━━━━━━━━━━\u001b[0m\u001b[37m\u001b[0m \u001b[1m2s\u001b[0m 2ms/step - AUC: 0.9857 - Precision: 0.8592 - Recall: 0.8781 - accuracy: 0.9515 - loss: 0.1173\n",
      "Epoch 22/150\n",
      "\u001b[1m1100/1100\u001b[0m \u001b[32m━━━━━━━━━━━━━━━━━━━━\u001b[0m\u001b[37m\u001b[0m \u001b[1m2s\u001b[0m 2ms/step - AUC: 0.9857 - Precision: 0.8631 - Recall: 0.8655 - accuracy: 0.9511 - loss: 0.1168\n",
      "Epoch 23/150\n",
      "\u001b[1m1100/1100\u001b[0m \u001b[32m━━━━━━━━━━━━━━━━━━━━\u001b[0m\u001b[37m\u001b[0m \u001b[1m2s\u001b[0m 2ms/step - AUC: 0.9854 - Precision: 0.8595 - Recall: 0.8695 - accuracy: 0.9511 - loss: 0.1174\n",
      "Epoch 24/150\n",
      "\u001b[1m1100/1100\u001b[0m \u001b[32m━━━━━━━━━━━━━━━━━━━━\u001b[0m\u001b[37m\u001b[0m \u001b[1m2s\u001b[0m 2ms/step - AUC: 0.9865 - Precision: 0.8588 - Recall: 0.8731 - accuracy: 0.9516 - loss: 0.1133\n",
      "Epoch 25/150\n",
      "\u001b[1m1100/1100\u001b[0m \u001b[32m━━━━━━━━━━━━━━━━━━━━\u001b[0m\u001b[37m\u001b[0m \u001b[1m2s\u001b[0m 2ms/step - AUC: 0.9878 - Precision: 0.8618 - Recall: 0.8810 - accuracy: 0.9527 - loss: 0.1083\n",
      "Epoch 26/150\n",
      "\u001b[1m1100/1100\u001b[0m \u001b[32m━━━━━━━━━━━━━━━━━━━━\u001b[0m\u001b[37m\u001b[0m \u001b[1m2s\u001b[0m 2ms/step - AUC: 0.9873 - Precision: 0.8639 - Recall: 0.8799 - accuracy: 0.9533 - loss: 0.1106\n",
      "Epoch 27/150\n",
      "\u001b[1m1100/1100\u001b[0m \u001b[32m━━━━━━━━━━━━━━━━━━━━\u001b[0m\u001b[37m\u001b[0m \u001b[1m2s\u001b[0m 2ms/step - AUC: 0.9884 - Precision: 0.8698 - Recall: 0.8844 - accuracy: 0.9551 - loss: 0.1058\n",
      "Epoch 28/150\n",
      "\u001b[1m1100/1100\u001b[0m \u001b[32m━━━━━━━━━━━━━━━━━━━━\u001b[0m\u001b[37m\u001b[0m \u001b[1m2s\u001b[0m 2ms/step - AUC: 0.9879 - Precision: 0.8655 - Recall: 0.8839 - accuracy: 0.9542 - loss: 0.1071\n",
      "Epoch 29/150\n",
      "\u001b[1m1100/1100\u001b[0m \u001b[32m━━━━━━━━━━━━━━━━━━━━\u001b[0m\u001b[37m\u001b[0m \u001b[1m2s\u001b[0m 2ms/step - AUC: 0.9888 - Precision: 0.8737 - Recall: 0.8879 - accuracy: 0.9561 - loss: 0.1048\n",
      "Epoch 30/150\n",
      "\u001b[1m1100/1100\u001b[0m \u001b[32m━━━━━━━━━━━━━━━━━━━━\u001b[0m\u001b[37m\u001b[0m \u001b[1m2s\u001b[0m 2ms/step - AUC: 0.9889 - Precision: 0.8723 - Recall: 0.8816 - accuracy: 0.9546 - loss: 0.1046\n",
      "Epoch 31/150\n",
      "\u001b[1m1100/1100\u001b[0m \u001b[32m━━━━━━━━━━━━━━━━━━━━\u001b[0m\u001b[37m\u001b[0m \u001b[1m2s\u001b[0m 2ms/step - AUC: 0.9894 - Precision: 0.8765 - Recall: 0.8871 - accuracy: 0.9565 - loss: 0.1022\n",
      "Epoch 32/150\n",
      "\u001b[1m1100/1100\u001b[0m \u001b[32m━━━━━━━━━━━━━━━━━━━━\u001b[0m\u001b[37m\u001b[0m \u001b[1m2s\u001b[0m 2ms/step - AUC: 0.9894 - Precision: 0.8818 - Recall: 0.8784 - accuracy: 0.9565 - loss: 0.1024\n",
      "Epoch 33/150\n",
      "\u001b[1m1100/1100\u001b[0m \u001b[32m━━━━━━━━━━━━━━━━━━━━\u001b[0m\u001b[37m\u001b[0m \u001b[1m2s\u001b[0m 2ms/step - AUC: 0.9894 - Precision: 0.8710 - Recall: 0.8906 - accuracy: 0.9569 - loss: 0.1006\n",
      "Epoch 34/150\n",
      "\u001b[1m1100/1100\u001b[0m \u001b[32m━━━━━━━━━━━━━━━━━━━━\u001b[0m\u001b[37m\u001b[0m \u001b[1m2s\u001b[0m 2ms/step - AUC: 0.9893 - Precision: 0.8794 - Recall: 0.8853 - accuracy: 0.9580 - loss: 0.1011\n",
      "Epoch 35/150\n",
      "\u001b[1m1100/1100\u001b[0m \u001b[32m━━━━━━━━━━━━━━━━━━━━\u001b[0m\u001b[37m\u001b[0m \u001b[1m2s\u001b[0m 2ms/step - AUC: 0.9902 - Precision: 0.8762 - Recall: 0.8840 - accuracy: 0.9554 - loss: 0.0992\n",
      "Epoch 36/150\n",
      "\u001b[1m1100/1100\u001b[0m \u001b[32m━━━━━━━━━━━━━━━━━━━━\u001b[0m\u001b[37m\u001b[0m \u001b[1m2s\u001b[0m 2ms/step - AUC: 0.9907 - Precision: 0.8769 - Recall: 0.8922 - accuracy: 0.9585 - loss: 0.0936\n",
      "Epoch 37/150\n",
      "\u001b[1m1100/1100\u001b[0m \u001b[32m━━━━━━━━━━━━━━━━━━━━\u001b[0m\u001b[37m\u001b[0m \u001b[1m2s\u001b[0m 2ms/step - AUC: 0.9907 - Precision: 0.8838 - Recall: 0.8853 - accuracy: 0.9585 - loss: 0.0964\n",
      "Epoch 38/150\n",
      "\u001b[1m1100/1100\u001b[0m \u001b[32m━━━━━━━━━━━━━━━━━━━━\u001b[0m\u001b[37m\u001b[0m \u001b[1m2s\u001b[0m 2ms/step - AUC: 0.9912 - Precision: 0.8824 - Recall: 0.8934 - accuracy: 0.9595 - loss: 0.0924\n",
      "Epoch 39/150\n",
      "\u001b[1m1100/1100\u001b[0m \u001b[32m━━━━━━━━━━━━━━━━━━━━\u001b[0m\u001b[37m\u001b[0m \u001b[1m2s\u001b[0m 2ms/step - AUC: 0.9896 - Precision: 0.8774 - Recall: 0.8746 - accuracy: 0.9557 - loss: 0.0993\n",
      "Epoch 40/150\n",
      "\u001b[1m1100/1100\u001b[0m \u001b[32m━━━━━━━━━━━━━━━━━━━━\u001b[0m\u001b[37m\u001b[0m \u001b[1m2s\u001b[0m 2ms/step - AUC: 0.9912 - Precision: 0.8789 - Recall: 0.9013 - accuracy: 0.9600 - loss: 0.0924\n",
      "Epoch 41/150\n",
      "\u001b[1m1100/1100\u001b[0m \u001b[32m━━━━━━━━━━━━━━━━━━━━\u001b[0m\u001b[37m\u001b[0m \u001b[1m2s\u001b[0m 2ms/step - AUC: 0.9914 - Precision: 0.8884 - Recall: 0.8882 - accuracy: 0.9597 - loss: 0.0925\n",
      "Epoch 42/150\n",
      "\u001b[1m1100/1100\u001b[0m \u001b[32m━━━━━━━━━━━━━━━━━━━━\u001b[0m\u001b[37m\u001b[0m \u001b[1m2s\u001b[0m 2ms/step - AUC: 0.9921 - Precision: 0.8872 - Recall: 0.9001 - accuracy: 0.9616 - loss: 0.0877\n",
      "Epoch 43/150\n",
      "\u001b[1m1100/1100\u001b[0m \u001b[32m━━━━━━━━━━━━━━━━━━━━\u001b[0m\u001b[37m\u001b[0m \u001b[1m2s\u001b[0m 2ms/step - AUC: 0.9917 - Precision: 0.8874 - Recall: 0.9013 - accuracy: 0.9615 - loss: 0.0891\n",
      "Epoch 44/150\n",
      "\u001b[1m1100/1100\u001b[0m \u001b[32m━━━━━━━━━━━━━━━━━━━━\u001b[0m\u001b[37m\u001b[0m \u001b[1m2s\u001b[0m 2ms/step - AUC: 0.9919 - Precision: 0.8876 - Recall: 0.8996 - accuracy: 0.9606 - loss: 0.0899\n",
      "Epoch 45/150\n",
      "\u001b[1m1100/1100\u001b[0m \u001b[32m━━━━━━━━━━━━━━━━━━━━\u001b[0m\u001b[37m\u001b[0m \u001b[1m2s\u001b[0m 2ms/step - AUC: 0.9925 - Precision: 0.8917 - Recall: 0.8990 - accuracy: 0.9625 - loss: 0.0855\n",
      "Epoch 46/150\n",
      "\u001b[1m1100/1100\u001b[0m \u001b[32m━━━━━━━━━━━━━━━━━━━━\u001b[0m\u001b[37m\u001b[0m \u001b[1m2s\u001b[0m 2ms/step - AUC: 0.9929 - Precision: 0.8943 - Recall: 0.9066 - accuracy: 0.9638 - loss: 0.0836\n",
      "Epoch 47/150\n",
      "\u001b[1m1100/1100\u001b[0m \u001b[32m━━━━━━━━━━━━━━━━━━━━\u001b[0m\u001b[37m\u001b[0m \u001b[1m2s\u001b[0m 2ms/step - AUC: 0.9922 - Precision: 0.8918 - Recall: 0.9066 - accuracy: 0.9633 - loss: 0.0865\n",
      "Epoch 48/150\n",
      "\u001b[1m1100/1100\u001b[0m \u001b[32m━━━━━━━━━━━━━━━━━━━━\u001b[0m\u001b[37m\u001b[0m \u001b[1m2s\u001b[0m 2ms/step - AUC: 0.9924 - Precision: 0.8914 - Recall: 0.9049 - accuracy: 0.9629 - loss: 0.0861\n",
      "Epoch 49/150\n",
      "\u001b[1m1100/1100\u001b[0m \u001b[32m━━━━━━━━━━━━━━━━━━━━\u001b[0m\u001b[37m\u001b[0m \u001b[1m2s\u001b[0m 2ms/step - AUC: 0.9934 - Precision: 0.9013 - Recall: 0.9121 - accuracy: 0.9656 - loss: 0.0808\n",
      "Epoch 50/150\n",
      "\u001b[1m1100/1100\u001b[0m \u001b[32m━━━━━━━━━━━━━━━━━━━━\u001b[0m\u001b[37m\u001b[0m \u001b[1m2s\u001b[0m 2ms/step - AUC: 0.9934 - Precision: 0.9024 - Recall: 0.9124 - accuracy: 0.9666 - loss: 0.0806\n",
      "Epoch 51/150\n",
      "\u001b[1m1100/1100\u001b[0m \u001b[32m━━━━━━━━━━━━━━━━━━━━\u001b[0m\u001b[37m\u001b[0m \u001b[1m2s\u001b[0m 2ms/step - AUC: 0.9935 - Precision: 0.8980 - Recall: 0.9181 - accuracy: 0.9660 - loss: 0.0798\n",
      "Epoch 52/150\n",
      "\u001b[1m1100/1100\u001b[0m \u001b[32m━━━━━━━━━━━━━━━━━━━━\u001b[0m\u001b[37m\u001b[0m \u001b[1m2s\u001b[0m 2ms/step - AUC: 0.9932 - Precision: 0.9063 - Recall: 0.9047 - accuracy: 0.9655 - loss: 0.0818\n",
      "Epoch 53/150\n",
      "\u001b[1m1100/1100\u001b[0m \u001b[32m━━━━━━━━━━━━━━━━━━━━\u001b[0m\u001b[37m\u001b[0m \u001b[1m2s\u001b[0m 2ms/step - AUC: 0.9944 - Precision: 0.9107 - Recall: 0.9132 - accuracy: 0.9679 - loss: 0.0756\n",
      "Epoch 54/150\n",
      "\u001b[1m1100/1100\u001b[0m \u001b[32m━━━━━━━━━━━━━━━━━━━━\u001b[0m\u001b[37m\u001b[0m \u001b[1m2s\u001b[0m 2ms/step - AUC: 0.9937 - Precision: 0.8955 - Recall: 0.9190 - accuracy: 0.9660 - loss: 0.0791\n",
      "Epoch 55/150\n",
      "\u001b[1m1100/1100\u001b[0m \u001b[32m━━━━━━━━━━━━━━━━━━━━\u001b[0m\u001b[37m\u001b[0m \u001b[1m2s\u001b[0m 2ms/step - AUC: 0.9942 - Precision: 0.9003 - Recall: 0.9162 - accuracy: 0.9661 - loss: 0.0765\n",
      "Epoch 56/150\n",
      "\u001b[1m1100/1100\u001b[0m \u001b[32m━━━━━━━━━━━━━━━━━━━━\u001b[0m\u001b[37m\u001b[0m \u001b[1m2s\u001b[0m 2ms/step - AUC: 0.9932 - Precision: 0.9030 - Recall: 0.9075 - accuracy: 0.9658 - loss: 0.0788\n",
      "Epoch 57/150\n",
      "\u001b[1m1100/1100\u001b[0m \u001b[32m━━━━━━━━━━━━━━━━━━━━\u001b[0m\u001b[37m\u001b[0m \u001b[1m2s\u001b[0m 2ms/step - AUC: 0.9942 - Precision: 0.9077 - Recall: 0.9087 - accuracy: 0.9671 - loss: 0.0755\n",
      "Epoch 58/150\n",
      "\u001b[1m1100/1100\u001b[0m \u001b[32m━━━━━━━━━━━━━━━━━━━━\u001b[0m\u001b[37m\u001b[0m \u001b[1m2s\u001b[0m 2ms/step - AUC: 0.9942 - Precision: 0.9051 - Recall: 0.9064 - accuracy: 0.9661 - loss: 0.0756\n",
      "Epoch 59/150\n",
      "\u001b[1m1100/1100\u001b[0m \u001b[32m━━━━━━━━━━━━━━━━━━━━\u001b[0m\u001b[37m\u001b[0m \u001b[1m2s\u001b[0m 2ms/step - AUC: 0.9943 - Precision: 0.9013 - Recall: 0.9119 - accuracy: 0.9661 - loss: 0.0751\n",
      "Epoch 60/150\n",
      "\u001b[1m1100/1100\u001b[0m \u001b[32m━━━━━━━━━━━━━━━━━━━━\u001b[0m\u001b[37m\u001b[0m \u001b[1m2s\u001b[0m 2ms/step - AUC: 0.9945 - Precision: 0.9068 - Recall: 0.9184 - accuracy: 0.9676 - loss: 0.0744\n",
      "Epoch 61/150\n",
      "\u001b[1m1100/1100\u001b[0m \u001b[32m━━━━━━━━━━━━━━━━━━━━\u001b[0m\u001b[37m\u001b[0m \u001b[1m2s\u001b[0m 2ms/step - AUC: 0.9945 - Precision: 0.9064 - Recall: 0.9074 - accuracy: 0.9665 - loss: 0.0735\n",
      "Epoch 62/150\n",
      "\u001b[1m1100/1100\u001b[0m \u001b[32m━━━━━━━━━━━━━━━━━━━━\u001b[0m\u001b[37m\u001b[0m \u001b[1m2s\u001b[0m 2ms/step - AUC: 0.9954 - Precision: 0.9198 - Recall: 0.9177 - accuracy: 0.9711 - loss: 0.0672\n",
      "Epoch 63/150\n",
      "\u001b[1m1100/1100\u001b[0m \u001b[32m━━━━━━━━━━━━━━━━━━━━\u001b[0m\u001b[37m\u001b[0m \u001b[1m2s\u001b[0m 2ms/step - AUC: 0.9945 - Precision: 0.9148 - Recall: 0.9145 - accuracy: 0.9696 - loss: 0.0729\n",
      "Epoch 64/150\n",
      "\u001b[1m1100/1100\u001b[0m \u001b[32m━━━━━━━━━━━━━━━━━━━━\u001b[0m\u001b[37m\u001b[0m \u001b[1m2s\u001b[0m 2ms/step - AUC: 0.9951 - Precision: 0.9073 - Recall: 0.9249 - accuracy: 0.9688 - loss: 0.0707\n",
      "Epoch 65/150\n",
      "\u001b[1m1100/1100\u001b[0m \u001b[32m━━━━━━━━━━━━━━━━━━━━\u001b[0m\u001b[37m\u001b[0m \u001b[1m2s\u001b[0m 2ms/step - AUC: 0.9947 - Precision: 0.9055 - Recall: 0.9147 - accuracy: 0.9678 - loss: 0.0724\n",
      "Epoch 66/150\n",
      "\u001b[1m1100/1100\u001b[0m \u001b[32m━━━━━━━━━━━━━━━━━━━━\u001b[0m\u001b[37m\u001b[0m \u001b[1m2s\u001b[0m 2ms/step - AUC: 0.9953 - Precision: 0.9168 - Recall: 0.9247 - accuracy: 0.9711 - loss: 0.0683\n",
      "Epoch 67/150\n",
      "\u001b[1m1100/1100\u001b[0m \u001b[32m━━━━━━━━━━━━━━━━━━━━\u001b[0m\u001b[37m\u001b[0m \u001b[1m2s\u001b[0m 2ms/step - AUC: 0.9954 - Precision: 0.9158 - Recall: 0.9233 - accuracy: 0.9708 - loss: 0.0684\n",
      "Epoch 68/150\n",
      "\u001b[1m1100/1100\u001b[0m \u001b[32m━━━━━━━━━━━━━━━━━━━━\u001b[0m\u001b[37m\u001b[0m \u001b[1m2s\u001b[0m 2ms/step - AUC: 0.9957 - Precision: 0.9156 - Recall: 0.9269 - accuracy: 0.9715 - loss: 0.0662\n",
      "Epoch 69/150\n",
      "\u001b[1m1100/1100\u001b[0m \u001b[32m━━━━━━━━━━━━━━━━━━━━\u001b[0m\u001b[37m\u001b[0m \u001b[1m2s\u001b[0m 2ms/step - AUC: 0.9957 - Precision: 0.9190 - Recall: 0.9261 - accuracy: 0.9719 - loss: 0.0661\n",
      "Epoch 70/150\n",
      "\u001b[1m1100/1100\u001b[0m \u001b[32m━━━━━━━━━━━━━━━━━━━━\u001b[0m\u001b[37m\u001b[0m \u001b[1m2s\u001b[0m 2ms/step - AUC: 0.9958 - Precision: 0.9166 - Recall: 0.9230 - accuracy: 0.9715 - loss: 0.0643\n",
      "Epoch 71/150\n",
      "\u001b[1m1100/1100\u001b[0m \u001b[32m━━━━━━━━━━━━━━━━━━━━\u001b[0m\u001b[37m\u001b[0m \u001b[1m2s\u001b[0m 2ms/step - AUC: 0.9962 - Precision: 0.9215 - Recall: 0.9284 - accuracy: 0.9730 - loss: 0.0619\n",
      "Epoch 72/150\n",
      "\u001b[1m1100/1100\u001b[0m \u001b[32m━━━━━━━━━━━━━━━━━━━━\u001b[0m\u001b[37m\u001b[0m \u001b[1m2s\u001b[0m 2ms/step - AUC: 0.9953 - Precision: 0.9209 - Recall: 0.9199 - accuracy: 0.9712 - loss: 0.0669\n",
      "Epoch 73/150\n",
      "\u001b[1m1100/1100\u001b[0m \u001b[32m━━━━━━━━━━━━━━━━━━━━\u001b[0m\u001b[37m\u001b[0m \u001b[1m2s\u001b[0m 2ms/step - AUC: 0.9964 - Precision: 0.9250 - Recall: 0.9333 - accuracy: 0.9745 - loss: 0.0597\n",
      "Epoch 74/150\n",
      "\u001b[1m1100/1100\u001b[0m \u001b[32m━━━━━━━━━━━━━━━━━━━━\u001b[0m\u001b[37m\u001b[0m \u001b[1m2s\u001b[0m 2ms/step - AUC: 0.9955 - Precision: 0.9199 - Recall: 0.9238 - accuracy: 0.9715 - loss: 0.0659\n",
      "Epoch 75/150\n",
      "\u001b[1m1100/1100\u001b[0m \u001b[32m━━━━━━━━━━━━━━━━━━━━\u001b[0m\u001b[37m\u001b[0m \u001b[1m2s\u001b[0m 2ms/step - AUC: 0.9961 - Precision: 0.9220 - Recall: 0.9243 - accuracy: 0.9722 - loss: 0.0624\n",
      "Epoch 76/150\n",
      "\u001b[1m1100/1100\u001b[0m \u001b[32m━━━━━━━━━━━━━━━━━━━━\u001b[0m\u001b[37m\u001b[0m \u001b[1m2s\u001b[0m 2ms/step - AUC: 0.9962 - Precision: 0.9220 - Recall: 0.9279 - accuracy: 0.9725 - loss: 0.0619\n",
      "Epoch 77/150\n",
      "\u001b[1m1100/1100\u001b[0m \u001b[32m━━━━━━━━━━━━━━━━━━━━\u001b[0m\u001b[37m\u001b[0m \u001b[1m2s\u001b[0m 2ms/step - AUC: 0.9963 - Precision: 0.9243 - Recall: 0.9361 - accuracy: 0.9745 - loss: 0.0600\n",
      "Epoch 78/150\n",
      "\u001b[1m1100/1100\u001b[0m \u001b[32m━━━━━━━━━━━━━━━━━━━━\u001b[0m\u001b[37m\u001b[0m \u001b[1m2s\u001b[0m 2ms/step - AUC: 0.9951 - Precision: 0.9189 - Recall: 0.9316 - accuracy: 0.9724 - loss: 0.0667\n",
      "Epoch 79/150\n",
      "\u001b[1m1100/1100\u001b[0m \u001b[32m━━━━━━━━━━━━━━━━━━━━\u001b[0m\u001b[37m\u001b[0m \u001b[1m2s\u001b[0m 2ms/step - AUC: 0.9967 - Precision: 0.9296 - Recall: 0.9320 - accuracy: 0.9749 - loss: 0.0584\n",
      "Epoch 80/150\n",
      "\u001b[1m1100/1100\u001b[0m \u001b[32m━━━━━━━━━━━━━━━━━━━━\u001b[0m\u001b[37m\u001b[0m \u001b[1m2s\u001b[0m 2ms/step - AUC: 0.9967 - Precision: 0.9277 - Recall: 0.9348 - accuracy: 0.9751 - loss: 0.0581\n",
      "Epoch 81/150\n",
      "\u001b[1m1100/1100\u001b[0m \u001b[32m━━━━━━━━━━━━━━━━━━━━\u001b[0m\u001b[37m\u001b[0m \u001b[1m2s\u001b[0m 2ms/step - AUC: 0.9963 - Precision: 0.9220 - Recall: 0.9310 - accuracy: 0.9734 - loss: 0.0607\n",
      "Epoch 82/150\n",
      "\u001b[1m1100/1100\u001b[0m \u001b[32m━━━━━━━━━━━━━━━━━━━━\u001b[0m\u001b[37m\u001b[0m \u001b[1m2s\u001b[0m 2ms/step - AUC: 0.9962 - Precision: 0.9232 - Recall: 0.9298 - accuracy: 0.9736 - loss: 0.0602\n",
      "Epoch 83/150\n",
      "\u001b[1m1100/1100\u001b[0m \u001b[32m━━━━━━━━━━━━━━━━━━━━\u001b[0m\u001b[37m\u001b[0m \u001b[1m2s\u001b[0m 2ms/step - AUC: 0.9965 - Precision: 0.9257 - Recall: 0.9286 - accuracy: 0.9737 - loss: 0.0597\n",
      "Epoch 84/150\n",
      "\u001b[1m1100/1100\u001b[0m \u001b[32m━━━━━━━━━━━━━━━━━━━━\u001b[0m\u001b[37m\u001b[0m \u001b[1m2s\u001b[0m 2ms/step - AUC: 0.9967 - Precision: 0.9303 - Recall: 0.9338 - accuracy: 0.9756 - loss: 0.0574\n",
      "Epoch 85/150\n",
      "\u001b[1m1100/1100\u001b[0m \u001b[32m━━━━━━━━━━━━━━━━━━━━\u001b[0m\u001b[37m\u001b[0m \u001b[1m2s\u001b[0m 2ms/step - AUC: 0.9969 - Precision: 0.9361 - Recall: 0.9403 - accuracy: 0.9776 - loss: 0.0557\n",
      "Epoch 86/150\n",
      "\u001b[1m1100/1100\u001b[0m \u001b[32m━━━━━━━━━━━━━━━━━━━━\u001b[0m\u001b[37m\u001b[0m \u001b[1m2s\u001b[0m 2ms/step - AUC: 0.9968 - Precision: 0.9379 - Recall: 0.9308 - accuracy: 0.9764 - loss: 0.0565\n",
      "Epoch 87/150\n",
      "\u001b[1m1100/1100\u001b[0m \u001b[32m━━━━━━━━━━━━━━━━━━━━\u001b[0m\u001b[37m\u001b[0m \u001b[1m2s\u001b[0m 2ms/step - AUC: 0.9966 - Precision: 0.9316 - Recall: 0.9315 - accuracy: 0.9755 - loss: 0.0572\n",
      "Epoch 88/150\n",
      "\u001b[1m1100/1100\u001b[0m \u001b[32m━━━━━━━━━━━━━━━━━━━━\u001b[0m\u001b[37m\u001b[0m \u001b[1m2s\u001b[0m 2ms/step - AUC: 0.9970 - Precision: 0.9317 - Recall: 0.9360 - accuracy: 0.9763 - loss: 0.0553\n",
      "Epoch 89/150\n",
      "\u001b[1m1100/1100\u001b[0m \u001b[32m━━━━━━━━━━━━━━━━━━━━\u001b[0m\u001b[37m\u001b[0m \u001b[1m2s\u001b[0m 2ms/step - AUC: 0.9968 - Precision: 0.9321 - Recall: 0.9386 - accuracy: 0.9768 - loss: 0.0564\n",
      "Epoch 90/150\n",
      "\u001b[1m1100/1100\u001b[0m \u001b[32m━━━━━━━━━━━━━━━━━━━━\u001b[0m\u001b[37m\u001b[0m \u001b[1m2s\u001b[0m 2ms/step - AUC: 0.9970 - Precision: 0.9353 - Recall: 0.9407 - accuracy: 0.9777 - loss: 0.0538\n",
      "Epoch 91/150\n",
      "\u001b[1m1100/1100\u001b[0m \u001b[32m━━━━━━━━━━━━━━━━━━━━\u001b[0m\u001b[37m\u001b[0m \u001b[1m2s\u001b[0m 2ms/step - AUC: 0.9971 - Precision: 0.9345 - Recall: 0.9395 - accuracy: 0.9775 - loss: 0.0529\n",
      "Epoch 92/150\n",
      "\u001b[1m1100/1100\u001b[0m \u001b[32m━━━━━━━━━━━━━━━━━━━━\u001b[0m\u001b[37m\u001b[0m \u001b[1m2s\u001b[0m 2ms/step - AUC: 0.9972 - Precision: 0.9377 - Recall: 0.9415 - accuracy: 0.9779 - loss: 0.0524\n",
      "Epoch 93/150\n",
      "\u001b[1m1100/1100\u001b[0m \u001b[32m━━━━━━━━━━━━━━━━━━━━\u001b[0m\u001b[37m\u001b[0m \u001b[1m2s\u001b[0m 2ms/step - AUC: 0.9975 - Precision: 0.9399 - Recall: 0.9444 - accuracy: 0.9794 - loss: 0.0494\n",
      "Epoch 94/150\n",
      "\u001b[1m1100/1100\u001b[0m \u001b[32m━━━━━━━━━━━━━━━━━━━━\u001b[0m\u001b[37m\u001b[0m \u001b[1m2s\u001b[0m 2ms/step - AUC: 0.9974 - Precision: 0.9343 - Recall: 0.9450 - accuracy: 0.9782 - loss: 0.0508\n",
      "Epoch 95/150\n",
      "\u001b[1m1100/1100\u001b[0m \u001b[32m━━━━━━━━━━━━━━━━━━━━\u001b[0m\u001b[37m\u001b[0m \u001b[1m2s\u001b[0m 2ms/step - AUC: 0.9975 - Precision: 0.9385 - Recall: 0.9449 - accuracy: 0.9789 - loss: 0.0514\n",
      "Epoch 96/150\n",
      "\u001b[1m1100/1100\u001b[0m \u001b[32m━━━━━━━━━━━━━━━━━━━━\u001b[0m\u001b[37m\u001b[0m \u001b[1m2s\u001b[0m 2ms/step - AUC: 0.9967 - Precision: 0.9322 - Recall: 0.9369 - accuracy: 0.9763 - loss: 0.0553\n",
      "Epoch 97/150\n",
      "\u001b[1m1100/1100\u001b[0m \u001b[32m━━━━━━━━━━━━━━━━━━━━\u001b[0m\u001b[37m\u001b[0m \u001b[1m2s\u001b[0m 2ms/step - AUC: 0.9975 - Precision: 0.9415 - Recall: 0.9392 - accuracy: 0.9785 - loss: 0.0515\n",
      "Epoch 98/150\n",
      "\u001b[1m1100/1100\u001b[0m \u001b[32m━━━━━━━━━━━━━━━━━━━━\u001b[0m\u001b[37m\u001b[0m \u001b[1m2s\u001b[0m 2ms/step - AUC: 0.9976 - Precision: 0.9420 - Recall: 0.9418 - accuracy: 0.9787 - loss: 0.0502\n",
      "Epoch 99/150\n",
      "\u001b[1m1100/1100\u001b[0m \u001b[32m━━━━━━━━━━━━━━━━━━━━\u001b[0m\u001b[37m\u001b[0m \u001b[1m2s\u001b[0m 2ms/step - AUC: 0.9975 - Precision: 0.9393 - Recall: 0.9398 - accuracy: 0.9784 - loss: 0.0506\n",
      "Epoch 100/150\n",
      "\u001b[1m1100/1100\u001b[0m \u001b[32m━━━━━━━━━━━━━━━━━━━━\u001b[0m\u001b[37m\u001b[0m \u001b[1m2s\u001b[0m 2ms/step - AUC: 0.9973 - Precision: 0.9436 - Recall: 0.9394 - accuracy: 0.9790 - loss: 0.0508\n",
      "Epoch 101/150\n",
      "\u001b[1m1100/1100\u001b[0m \u001b[32m━━━━━━━━━━━━━━━━━━━━\u001b[0m\u001b[37m\u001b[0m \u001b[1m2s\u001b[0m 2ms/step - AUC: 0.9975 - Precision: 0.9424 - Recall: 0.9445 - accuracy: 0.9793 - loss: 0.0502\n",
      "Epoch 102/150\n",
      "\u001b[1m1100/1100\u001b[0m \u001b[32m━━━━━━━━━━━━━━━━━━━━\u001b[0m\u001b[37m\u001b[0m \u001b[1m2s\u001b[0m 2ms/step - AUC: 0.9976 - Precision: 0.9450 - Recall: 0.9454 - accuracy: 0.9802 - loss: 0.0478\n",
      "Epoch 103/150\n",
      "\u001b[1m1100/1100\u001b[0m \u001b[32m━━━━━━━━━━━━━━━━━━━━\u001b[0m\u001b[37m\u001b[0m \u001b[1m2s\u001b[0m 2ms/step - AUC: 0.9974 - Precision: 0.9414 - Recall: 0.9472 - accuracy: 0.9799 - loss: 0.0510\n",
      "Epoch 104/150\n",
      "\u001b[1m1100/1100\u001b[0m \u001b[32m━━━━━━━━━━━━━━━━━━━━\u001b[0m\u001b[37m\u001b[0m \u001b[1m2s\u001b[0m 2ms/step - AUC: 0.9977 - Precision: 0.9417 - Recall: 0.9408 - accuracy: 0.9786 - loss: 0.0502\n",
      "Epoch 105/150\n",
      "\u001b[1m1100/1100\u001b[0m \u001b[32m━━━━━━━━━━━━━━━━━━━━\u001b[0m\u001b[37m\u001b[0m \u001b[1m2s\u001b[0m 2ms/step - AUC: 0.9979 - Precision: 0.9486 - Recall: 0.9432 - accuracy: 0.9810 - loss: 0.0462\n",
      "Epoch 106/150\n",
      "\u001b[1m1100/1100\u001b[0m \u001b[32m━━━━━━━━━━━━━━━━━━━━\u001b[0m\u001b[37m\u001b[0m \u001b[1m2s\u001b[0m 2ms/step - AUC: 0.9980 - Precision: 0.9476 - Recall: 0.9453 - accuracy: 0.9805 - loss: 0.0467\n",
      "Epoch 107/150\n",
      "\u001b[1m1100/1100\u001b[0m \u001b[32m━━━━━━━━━━━━━━━━━━━━\u001b[0m\u001b[37m\u001b[0m \u001b[1m2s\u001b[0m 2ms/step - AUC: 0.9981 - Precision: 0.9508 - Recall: 0.9519 - accuracy: 0.9824 - loss: 0.0454\n",
      "Epoch 108/150\n",
      "\u001b[1m1100/1100\u001b[0m \u001b[32m━━━━━━━━━━━━━━━━━━━━\u001b[0m\u001b[37m\u001b[0m \u001b[1m2s\u001b[0m 2ms/step - AUC: 0.9980 - Precision: 0.9477 - Recall: 0.9502 - accuracy: 0.9815 - loss: 0.0458\n",
      "Epoch 109/150\n",
      "\u001b[1m1100/1100\u001b[0m \u001b[32m━━━━━━━━━━━━━━━━━━━━\u001b[0m\u001b[37m\u001b[0m \u001b[1m2s\u001b[0m 2ms/step - AUC: 0.9978 - Precision: 0.9492 - Recall: 0.9515 - accuracy: 0.9820 - loss: 0.0441\n",
      "Epoch 110/150\n",
      "\u001b[1m1100/1100\u001b[0m \u001b[32m━━━━━━━━━━━━━━━━━━━━\u001b[0m\u001b[37m\u001b[0m \u001b[1m2s\u001b[0m 2ms/step - AUC: 0.9978 - Precision: 0.9457 - Recall: 0.9531 - accuracy: 0.9819 - loss: 0.0450\n",
      "Epoch 111/150\n",
      "\u001b[1m1100/1100\u001b[0m \u001b[32m━━━━━━━━━━━━━━━━━━━━\u001b[0m\u001b[37m\u001b[0m \u001b[1m2s\u001b[0m 2ms/step - AUC: 0.9980 - Precision: 0.9464 - Recall: 0.9455 - accuracy: 0.9803 - loss: 0.0457\n",
      "Epoch 112/150\n",
      "\u001b[1m1100/1100\u001b[0m \u001b[32m━━━━━━━━━━━━━━━━━━━━\u001b[0m\u001b[37m\u001b[0m \u001b[1m2s\u001b[0m 2ms/step - AUC: 0.9980 - Precision: 0.9452 - Recall: 0.9492 - accuracy: 0.9811 - loss: 0.0468\n",
      "Epoch 113/150\n",
      "\u001b[1m1100/1100\u001b[0m \u001b[32m━━━━━━━━━━━━━━━━━━━━\u001b[0m\u001b[37m\u001b[0m \u001b[1m2s\u001b[0m 2ms/step - AUC: 0.9980 - Precision: 0.9529 - Recall: 0.9564 - accuracy: 0.9836 - loss: 0.0437\n",
      "Epoch 114/150\n",
      "\u001b[1m1100/1100\u001b[0m \u001b[32m━━━━━━━━━━━━━━━━━━━━\u001b[0m\u001b[37m\u001b[0m \u001b[1m2s\u001b[0m 2ms/step - AUC: 0.9981 - Precision: 0.9552 - Recall: 0.9518 - accuracy: 0.9831 - loss: 0.0444\n",
      "Epoch 115/150\n",
      "\u001b[1m1100/1100\u001b[0m \u001b[32m━━━━━━━━━━━━━━━━━━━━\u001b[0m\u001b[37m\u001b[0m \u001b[1m2s\u001b[0m 2ms/step - AUC: 0.9985 - Precision: 0.9566 - Recall: 0.9576 - accuracy: 0.9845 - loss: 0.0404\n",
      "Epoch 116/150\n",
      "\u001b[1m1100/1100\u001b[0m \u001b[32m━━━━━━━━━━━━━━━━━━━━\u001b[0m\u001b[37m\u001b[0m \u001b[1m2s\u001b[0m 2ms/step - AUC: 0.9982 - Precision: 0.9519 - Recall: 0.9544 - accuracy: 0.9832 - loss: 0.0430\n",
      "Epoch 117/150\n",
      "\u001b[1m1100/1100\u001b[0m \u001b[32m━━━━━━━━━━━━━━━━━━━━\u001b[0m\u001b[37m\u001b[0m \u001b[1m2s\u001b[0m 2ms/step - AUC: 0.9976 - Precision: 0.9510 - Recall: 0.9494 - accuracy: 0.9820 - loss: 0.0472\n",
      "Epoch 118/150\n",
      "\u001b[1m1100/1100\u001b[0m \u001b[32m━━━━━━━━━━━━━━━━━━━━\u001b[0m\u001b[37m\u001b[0m \u001b[1m2s\u001b[0m 2ms/step - AUC: 0.9985 - Precision: 0.9553 - Recall: 0.9552 - accuracy: 0.9837 - loss: 0.0406\n",
      "Epoch 119/150\n",
      "\u001b[1m1100/1100\u001b[0m \u001b[32m━━━━━━━━━━━━━━━━━━━━\u001b[0m\u001b[37m\u001b[0m \u001b[1m2s\u001b[0m 2ms/step - AUC: 0.9983 - Precision: 0.9509 - Recall: 0.9521 - accuracy: 0.9824 - loss: 0.0430\n",
      "Epoch 120/150\n",
      "\u001b[1m1100/1100\u001b[0m \u001b[32m━━━━━━━━━━━━━━━━━━━━\u001b[0m\u001b[37m\u001b[0m \u001b[1m2s\u001b[0m 2ms/step - AUC: 0.9978 - Precision: 0.9526 - Recall: 0.9550 - accuracy: 0.9833 - loss: 0.0437\n",
      "Epoch 121/150\n",
      "\u001b[1m1100/1100\u001b[0m \u001b[32m━━━━━━━━━━━━━━━━━━━━\u001b[0m\u001b[37m\u001b[0m \u001b[1m2s\u001b[0m 2ms/step - AUC: 0.9974 - Precision: 0.9515 - Recall: 0.9479 - accuracy: 0.9819 - loss: 0.0474\n",
      "Epoch 122/150\n",
      "\u001b[1m1100/1100\u001b[0m \u001b[32m━━━━━━━━━━━━━━━━━━━━\u001b[0m\u001b[37m\u001b[0m \u001b[1m2s\u001b[0m 2ms/step - AUC: 0.9982 - Precision: 0.9570 - Recall: 0.9544 - accuracy: 0.9841 - loss: 0.0417\n",
      "Epoch 123/150\n",
      "\u001b[1m1100/1100\u001b[0m \u001b[32m━━━━━━━━━━━━━━━━━━━━\u001b[0m\u001b[37m\u001b[0m \u001b[1m2s\u001b[0m 2ms/step - AUC: 0.9985 - Precision: 0.9600 - Recall: 0.9553 - accuracy: 0.9848 - loss: 0.0401\n",
      "Epoch 124/150\n",
      "\u001b[1m1100/1100\u001b[0m \u001b[32m━━━━━━━━━━━━━━━━━━━━\u001b[0m\u001b[37m\u001b[0m \u001b[1m2s\u001b[0m 2ms/step - AUC: 0.9985 - Precision: 0.9561 - Recall: 0.9600 - accuracy: 0.9849 - loss: 0.0389\n",
      "Epoch 125/150\n",
      "\u001b[1m1100/1100\u001b[0m \u001b[32m━━━━━━━━━━━━━━━━━━━━\u001b[0m\u001b[37m\u001b[0m \u001b[1m2s\u001b[0m 2ms/step - AUC: 0.9985 - Precision: 0.9580 - Recall: 0.9590 - accuracy: 0.9850 - loss: 0.0397\n",
      "Epoch 126/150\n",
      "\u001b[1m1100/1100\u001b[0m \u001b[32m━━━━━━━━━━━━━━━━━━━━\u001b[0m\u001b[37m\u001b[0m \u001b[1m2s\u001b[0m 2ms/step - AUC: 0.9985 - Precision: 0.9576 - Recall: 0.9550 - accuracy: 0.9842 - loss: 0.0405\n",
      "Epoch 127/150\n",
      "\u001b[1m1100/1100\u001b[0m \u001b[32m━━━━━━━━━━━━━━━━━━━━\u001b[0m\u001b[37m\u001b[0m \u001b[1m2s\u001b[0m 2ms/step - AUC: 0.9984 - Precision: 0.9568 - Recall: 0.9539 - accuracy: 0.9840 - loss: 0.0401\n",
      "Epoch 128/150\n",
      "\u001b[1m1100/1100\u001b[0m \u001b[32m━━━━━━━━━━━━━━━━━━━━\u001b[0m\u001b[37m\u001b[0m \u001b[1m2s\u001b[0m 2ms/step - AUC: 0.9986 - Precision: 0.9568 - Recall: 0.9561 - accuracy: 0.9842 - loss: 0.0398\n",
      "Epoch 129/150\n",
      "\u001b[1m1100/1100\u001b[0m \u001b[32m━━━━━━━━━━━━━━━━━━━━\u001b[0m\u001b[37m\u001b[0m \u001b[1m2s\u001b[0m 2ms/step - AUC: 0.9986 - Precision: 0.9579 - Recall: 0.9576 - accuracy: 0.9848 - loss: 0.0378\n",
      "Epoch 130/150\n",
      "\u001b[1m1100/1100\u001b[0m \u001b[32m━━━━━━━━━━━━━━━━━━━━\u001b[0m\u001b[37m\u001b[0m \u001b[1m2s\u001b[0m 2ms/step - AUC: 0.9986 - Precision: 0.9657 - Recall: 0.9561 - accuracy: 0.9859 - loss: 0.0366\n",
      "Epoch 131/150\n",
      "\u001b[1m1100/1100\u001b[0m \u001b[32m━━━━━━━━━━━━━━━━━━━━\u001b[0m\u001b[37m\u001b[0m \u001b[1m2s\u001b[0m 2ms/step - AUC: 0.9985 - Precision: 0.9609 - Recall: 0.9616 - accuracy: 0.9859 - loss: 0.0374\n",
      "Epoch 132/150\n",
      "\u001b[1m1100/1100\u001b[0m \u001b[32m━━━━━━━━━━━━━━━━━━━━\u001b[0m\u001b[37m\u001b[0m \u001b[1m2s\u001b[0m 2ms/step - AUC: 0.9986 - Precision: 0.9605 - Recall: 0.9556 - accuracy: 0.9847 - loss: 0.0389\n",
      "Epoch 133/150\n",
      "\u001b[1m1100/1100\u001b[0m \u001b[32m━━━━━━━━━━━━━━━━━━━━\u001b[0m\u001b[37m\u001b[0m \u001b[1m2s\u001b[0m 2ms/step - AUC: 0.9985 - Precision: 0.9615 - Recall: 0.9627 - accuracy: 0.9862 - loss: 0.0370\n",
      "Epoch 134/150\n",
      "\u001b[1m1100/1100\u001b[0m \u001b[32m━━━━━━━━━━━━━━━━━━━━\u001b[0m\u001b[37m\u001b[0m \u001b[1m2s\u001b[0m 2ms/step - AUC: 0.9987 - Precision: 0.9624 - Recall: 0.9593 - accuracy: 0.9861 - loss: 0.0366\n",
      "Epoch 135/150\n",
      "\u001b[1m1100/1100\u001b[0m \u001b[32m━━━━━━━━━━━━━━━━━━━━\u001b[0m\u001b[37m\u001b[0m \u001b[1m2s\u001b[0m 2ms/step - AUC: 0.9988 - Precision: 0.9628 - Recall: 0.9625 - accuracy: 0.9865 - loss: 0.0365\n",
      "Epoch 136/150\n",
      "\u001b[1m1100/1100\u001b[0m \u001b[32m━━━━━━━━━━━━━━━━━━━━\u001b[0m\u001b[37m\u001b[0m \u001b[1m2s\u001b[0m 2ms/step - AUC: 0.9988 - Precision: 0.9668 - Recall: 0.9598 - accuracy: 0.9866 - loss: 0.0358\n",
      "Epoch 137/150\n",
      "\u001b[1m1100/1100\u001b[0m \u001b[32m━━━━━━━━━━━━━━━━━━━━\u001b[0m\u001b[37m\u001b[0m \u001b[1m2s\u001b[0m 2ms/step - AUC: 0.9987 - Precision: 0.9647 - Recall: 0.9584 - accuracy: 0.9860 - loss: 0.0370\n",
      "Epoch 138/150\n",
      "\u001b[1m1100/1100\u001b[0m \u001b[32m━━━━━━━━━━━━━━━━━━━━\u001b[0m\u001b[37m\u001b[0m \u001b[1m2s\u001b[0m 2ms/step - AUC: 0.9988 - Precision: 0.9606 - Recall: 0.9576 - accuracy: 0.9855 - loss: 0.0367\n",
      "Epoch 139/150\n",
      "\u001b[1m1100/1100\u001b[0m \u001b[32m━━━━━━━━━━━━━━━━━━━━\u001b[0m\u001b[37m\u001b[0m \u001b[1m2s\u001b[0m 2ms/step - AUC: 0.9984 - Precision: 0.9635 - Recall: 0.9601 - accuracy: 0.9862 - loss: 0.0383\n",
      "Epoch 140/150\n",
      "\u001b[1m1100/1100\u001b[0m \u001b[32m━━━━━━━━━━━━━━━━━━━━\u001b[0m\u001b[37m\u001b[0m \u001b[1m2s\u001b[0m 2ms/step - AUC: 0.9990 - Precision: 0.9680 - Recall: 0.9668 - accuracy: 0.9884 - loss: 0.0334\n",
      "Epoch 141/150\n",
      "\u001b[1m1100/1100\u001b[0m \u001b[32m━━━━━━━━━━━━━━━━━━━━\u001b[0m\u001b[37m\u001b[0m \u001b[1m2s\u001b[0m 2ms/step - AUC: 0.9987 - Precision: 0.9600 - Recall: 0.9548 - accuracy: 0.9849 - loss: 0.0369\n",
      "Epoch 142/150\n",
      "\u001b[1m1100/1100\u001b[0m \u001b[32m━━━━━━━━━━━━━━━━━━━━\u001b[0m\u001b[37m\u001b[0m \u001b[1m2s\u001b[0m 2ms/step - AUC: 0.9990 - Precision: 0.9697 - Recall: 0.9699 - accuracy: 0.9889 - loss: 0.0329\n",
      "Epoch 143/150\n",
      "\u001b[1m1100/1100\u001b[0m \u001b[32m━━━━━━━━━━━━━━━━━━━━\u001b[0m\u001b[37m\u001b[0m \u001b[1m2s\u001b[0m 2ms/step - AUC: 0.9987 - Precision: 0.9644 - Recall: 0.9602 - accuracy: 0.9865 - loss: 0.0354\n",
      "Epoch 144/150\n",
      "\u001b[1m1100/1100\u001b[0m \u001b[32m━━━━━━━━━━━━━━━━━━━━\u001b[0m\u001b[37m\u001b[0m \u001b[1m2s\u001b[0m 2ms/step - AUC: 0.9987 - Precision: 0.9637 - Recall: 0.9571 - accuracy: 0.9859 - loss: 0.0367\n",
      "Epoch 145/150\n",
      "\u001b[1m1100/1100\u001b[0m \u001b[32m━━━━━━━━━━━━━━━━━━━━\u001b[0m\u001b[37m\u001b[0m \u001b[1m2s\u001b[0m 2ms/step - AUC: 0.9988 - Precision: 0.9630 - Recall: 0.9613 - accuracy: 0.9861 - loss: 0.0367\n",
      "Epoch 146/150\n",
      "\u001b[1m1100/1100\u001b[0m \u001b[32m━━━━━━━━━━━━━━━━━━━━\u001b[0m\u001b[37m\u001b[0m \u001b[1m2s\u001b[0m 2ms/step - AUC: 0.9987 - Precision: 0.9700 - Recall: 0.9644 - accuracy: 0.9880 - loss: 0.0339\n",
      "Epoch 147/150\n",
      "\u001b[1m1100/1100\u001b[0m \u001b[32m━━━━━━━━━━━━━━━━━━━━\u001b[0m\u001b[37m\u001b[0m \u001b[1m2s\u001b[0m 2ms/step - AUC: 0.9990 - Precision: 0.9691 - Recall: 0.9660 - accuracy: 0.9882 - loss: 0.0324\n",
      "Epoch 148/150\n",
      "\u001b[1m1100/1100\u001b[0m \u001b[32m━━━━━━━━━━━━━━━━━━━━\u001b[0m\u001b[37m\u001b[0m \u001b[1m2s\u001b[0m 2ms/step - AUC: 0.9990 - Precision: 0.9675 - Recall: 0.9648 - accuracy: 0.9877 - loss: 0.0333\n",
      "Epoch 149/150\n",
      "\u001b[1m1100/1100\u001b[0m \u001b[32m━━━━━━━━━━━━━━━━━━━━\u001b[0m\u001b[37m\u001b[0m \u001b[1m2s\u001b[0m 2ms/step - AUC: 0.9990 - Precision: 0.9669 - Recall: 0.9627 - accuracy: 0.9874 - loss: 0.0336\n",
      "Epoch 150/150\n",
      "\u001b[1m1100/1100\u001b[0m \u001b[32m━━━━━━━━━━━━━━━━━━━━\u001b[0m\u001b[37m\u001b[0m \u001b[1m2s\u001b[0m 2ms/step - AUC: 0.9990 - Precision: 0.9688 - Recall: 0.9653 - accuracy: 0.9882 - loss: 0.0319\n"
     ]
    },
    {
     "data": {
      "text/plain": [
       "<keras.src.callbacks.history.History at 0x7d828b8cd540>"
      ]
     },
     "execution_count": 131,
     "metadata": {},
     "output_type": "execute_result"
    }
   ],
   "source": [
    "# we will now fit the X_test and y_test to the base model \n",
    "best_model.fit(X_test, y_test, epochs= 150, verbose = 1)"
   ]
  },
  {
   "cell_type": "markdown",
   "id": "8584557b",
   "metadata": {
    "papermill": {
     "duration": 1.233826,
     "end_time": "2025-02-23T22:07:20.512675",
     "exception": false,
     "start_time": "2025-02-23T22:07:19.278849",
     "status": "completed"
    },
    "tags": []
   },
   "source": [
    "# Predicting the test set"
   ]
  },
  {
   "cell_type": "code",
   "execution_count": 132,
   "id": "c978172d",
   "metadata": {
    "execution": {
     "iopub.execute_input": "2025-02-23T22:07:22.972227Z",
     "iopub.status.busy": "2025-02-23T22:07:22.971929Z",
     "iopub.status.idle": "2025-02-23T22:07:22.985354Z",
     "shell.execute_reply": "2025-02-23T22:07:22.984233Z"
    },
    "papermill": {
     "duration": 1.241837,
     "end_time": "2025-02-23T22:07:22.986640",
     "exception": false,
     "start_time": "2025-02-23T22:07:21.744803",
     "status": "completed"
    },
    "tags": []
   },
   "outputs": [
    {
     "name": "stdout",
     "output_type": "stream",
     "text": [
      "<class 'pandas.core.frame.DataFrame'>\n",
      "Index: 93800 entries, 140700 to 234499\n",
      "Data columns (total 17 columns):\n",
      " #   Column                                 Non-Null Count  Dtype  \n",
      "---  ------                                 --------------  -----  \n",
      " 0   Gender                                 93800 non-null  int64  \n",
      " 1   Age                                    93800 non-null  float64\n",
      " 2   City                                   93800 non-null  int64  \n",
      " 3   Working Professional or Student        93800 non-null  int64  \n",
      " 4   Profession                             93800 non-null  int64  \n",
      " 5   Academic Pressure                      93800 non-null  float64\n",
      " 6   Work Pressure                          93800 non-null  float64\n",
      " 7   CGPA                                   93800 non-null  float64\n",
      " 8   Study Satisfaction                     93800 non-null  float64\n",
      " 9   Job Satisfaction                       93800 non-null  float64\n",
      " 10  Sleep Duration                         93800 non-null  int64  \n",
      " 11  Dietary Habits                         93800 non-null  int64  \n",
      " 12  Degree                                 93800 non-null  int64  \n",
      " 13  Have you ever had suicidal thoughts ?  93800 non-null  int64  \n",
      " 14  Work/Study Hours                       93800 non-null  float64\n",
      " 15  Financial Stress                       93800 non-null  float64\n",
      " 16  Family History of Mental Illness       93800 non-null  int64  \n",
      "dtypes: float64(8), int64(9)\n",
      "memory usage: 12.9 MB\n"
     ]
    }
   ],
   "source": [
    "test_df.info()"
   ]
  },
  {
   "cell_type": "code",
   "execution_count": 133,
   "id": "ef6d4c69",
   "metadata": {
    "execution": {
     "iopub.execute_input": "2025-02-23T22:07:25.453151Z",
     "iopub.status.busy": "2025-02-23T22:07:25.452831Z",
     "iopub.status.idle": "2025-02-23T22:07:25.467377Z",
     "shell.execute_reply": "2025-02-23T22:07:25.466530Z"
    },
    "papermill": {
     "duration": 1.253489,
     "end_time": "2025-02-23T22:07:25.468550",
     "exception": false,
     "start_time": "2025-02-23T22:07:24.215061",
     "status": "completed"
    },
    "tags": []
   },
   "outputs": [
    {
     "data": {
      "text/html": [
       "<div>\n",
       "<style scoped>\n",
       "    .dataframe tbody tr th:only-of-type {\n",
       "        vertical-align: middle;\n",
       "    }\n",
       "\n",
       "    .dataframe tbody tr th {\n",
       "        vertical-align: top;\n",
       "    }\n",
       "\n",
       "    .dataframe thead th {\n",
       "        text-align: right;\n",
       "    }\n",
       "</style>\n",
       "<table border=\"1\" class=\"dataframe\">\n",
       "  <thead>\n",
       "    <tr style=\"text-align: right;\">\n",
       "      <th></th>\n",
       "      <th>Gender</th>\n",
       "      <th>Age</th>\n",
       "      <th>City</th>\n",
       "      <th>Working Professional or Student</th>\n",
       "      <th>Profession</th>\n",
       "      <th>Academic Pressure</th>\n",
       "      <th>Work Pressure</th>\n",
       "      <th>CGPA</th>\n",
       "      <th>Study Satisfaction</th>\n",
       "      <th>Job Satisfaction</th>\n",
       "      <th>Sleep Duration</th>\n",
       "      <th>Dietary Habits</th>\n",
       "      <th>Degree</th>\n",
       "      <th>Have you ever had suicidal thoughts ?</th>\n",
       "      <th>Work/Study Hours</th>\n",
       "      <th>Financial Stress</th>\n",
       "      <th>Family History of Mental Illness</th>\n",
       "    </tr>\n",
       "    <tr>\n",
       "      <th>id</th>\n",
       "      <th></th>\n",
       "      <th></th>\n",
       "      <th></th>\n",
       "      <th></th>\n",
       "      <th></th>\n",
       "      <th></th>\n",
       "      <th></th>\n",
       "      <th></th>\n",
       "      <th></th>\n",
       "      <th></th>\n",
       "      <th></th>\n",
       "      <th></th>\n",
       "      <th></th>\n",
       "      <th></th>\n",
       "      <th></th>\n",
       "      <th></th>\n",
       "      <th></th>\n",
       "    </tr>\n",
       "  </thead>\n",
       "  <tbody>\n",
       "    <tr>\n",
       "      <th>140700</th>\n",
       "      <td>1</td>\n",
       "      <td>53.0</td>\n",
       "      <td>30</td>\n",
       "      <td>1</td>\n",
       "      <td>17</td>\n",
       "      <td>0.0</td>\n",
       "      <td>2.0</td>\n",
       "      <td>0.00</td>\n",
       "      <td>0.0</td>\n",
       "      <td>5.0</td>\n",
       "      <td>2</td>\n",
       "      <td>1</td>\n",
       "      <td>12</td>\n",
       "      <td>0</td>\n",
       "      <td>9.0</td>\n",
       "      <td>3.0</td>\n",
       "      <td>1</td>\n",
       "    </tr>\n",
       "    <tr>\n",
       "      <th>140701</th>\n",
       "      <td>0</td>\n",
       "      <td>58.0</td>\n",
       "      <td>13</td>\n",
       "      <td>1</td>\n",
       "      <td>11</td>\n",
       "      <td>0.0</td>\n",
       "      <td>2.0</td>\n",
       "      <td>0.00</td>\n",
       "      <td>0.0</td>\n",
       "      <td>4.0</td>\n",
       "      <td>2</td>\n",
       "      <td>1</td>\n",
       "      <td>2</td>\n",
       "      <td>0</td>\n",
       "      <td>6.0</td>\n",
       "      <td>4.0</td>\n",
       "      <td>0</td>\n",
       "    </tr>\n",
       "    <tr>\n",
       "      <th>140702</th>\n",
       "      <td>1</td>\n",
       "      <td>53.0</td>\n",
       "      <td>10</td>\n",
       "      <td>1</td>\n",
       "      <td>29</td>\n",
       "      <td>0.0</td>\n",
       "      <td>4.0</td>\n",
       "      <td>0.00</td>\n",
       "      <td>0.0</td>\n",
       "      <td>1.0</td>\n",
       "      <td>1</td>\n",
       "      <td>1</td>\n",
       "      <td>0</td>\n",
       "      <td>1</td>\n",
       "      <td>12.0</td>\n",
       "      <td>4.0</td>\n",
       "      <td>0</td>\n",
       "    </tr>\n",
       "    <tr>\n",
       "      <th>140703</th>\n",
       "      <td>0</td>\n",
       "      <td>23.0</td>\n",
       "      <td>23</td>\n",
       "      <td>0</td>\n",
       "      <td>28</td>\n",
       "      <td>5.0</td>\n",
       "      <td>0.0</td>\n",
       "      <td>6.84</td>\n",
       "      <td>1.0</td>\n",
       "      <td>0.0</td>\n",
       "      <td>3</td>\n",
       "      <td>1</td>\n",
       "      <td>10</td>\n",
       "      <td>1</td>\n",
       "      <td>10.0</td>\n",
       "      <td>4.0</td>\n",
       "      <td>0</td>\n",
       "    </tr>\n",
       "    <tr>\n",
       "      <th>140704</th>\n",
       "      <td>1</td>\n",
       "      <td>47.0</td>\n",
       "      <td>11</td>\n",
       "      <td>1</td>\n",
       "      <td>29</td>\n",
       "      <td>0.0</td>\n",
       "      <td>5.0</td>\n",
       "      <td>0.00</td>\n",
       "      <td>0.0</td>\n",
       "      <td>5.0</td>\n",
       "      <td>1</td>\n",
       "      <td>1</td>\n",
       "      <td>7</td>\n",
       "      <td>1</td>\n",
       "      <td>3.0</td>\n",
       "      <td>4.0</td>\n",
       "      <td>0</td>\n",
       "    </tr>\n",
       "  </tbody>\n",
       "</table>\n",
       "</div>"
      ],
      "text/plain": [
       "        Gender   Age  City  Working Professional or Student  Profession  \\\n",
       "id                                                                        \n",
       "140700       1  53.0    30                                1          17   \n",
       "140701       0  58.0    13                                1          11   \n",
       "140702       1  53.0    10                                1          29   \n",
       "140703       0  23.0    23                                0          28   \n",
       "140704       1  47.0    11                                1          29   \n",
       "\n",
       "        Academic Pressure  Work Pressure  CGPA  Study Satisfaction  \\\n",
       "id                                                                   \n",
       "140700                0.0            2.0  0.00                 0.0   \n",
       "140701                0.0            2.0  0.00                 0.0   \n",
       "140702                0.0            4.0  0.00                 0.0   \n",
       "140703                5.0            0.0  6.84                 1.0   \n",
       "140704                0.0            5.0  0.00                 0.0   \n",
       "\n",
       "        Job Satisfaction  Sleep Duration  Dietary Habits  Degree  \\\n",
       "id                                                                 \n",
       "140700               5.0               2               1      12   \n",
       "140701               4.0               2               1       2   \n",
       "140702               1.0               1               1       0   \n",
       "140703               0.0               3               1      10   \n",
       "140704               5.0               1               1       7   \n",
       "\n",
       "        Have you ever had suicidal thoughts ?  Work/Study Hours  \\\n",
       "id                                                                \n",
       "140700                                      0               9.0   \n",
       "140701                                      0               6.0   \n",
       "140702                                      1              12.0   \n",
       "140703                                      1              10.0   \n",
       "140704                                      1               3.0   \n",
       "\n",
       "        Financial Stress  Family History of Mental Illness  \n",
       "id                                                          \n",
       "140700               3.0                                 1  \n",
       "140701               4.0                                 0  \n",
       "140702               4.0                                 0  \n",
       "140703               4.0                                 0  \n",
       "140704               4.0                                 0  "
      ]
     },
     "execution_count": 133,
     "metadata": {},
     "output_type": "execute_result"
    }
   ],
   "source": [
    "test_df.head(5)"
   ]
  },
  {
   "cell_type": "code",
   "execution_count": 134,
   "id": "7ff9acd9",
   "metadata": {
    "execution": {
     "iopub.execute_input": "2025-02-23T22:07:27.984013Z",
     "iopub.status.busy": "2025-02-23T22:07:27.983663Z",
     "iopub.status.idle": "2025-02-23T22:07:28.011237Z",
     "shell.execute_reply": "2025-02-23T22:07:28.010512Z"
    },
    "papermill": {
     "duration": 1.321145,
     "end_time": "2025-02-23T22:07:28.012618",
     "exception": false,
     "start_time": "2025-02-23T22:07:26.691473",
     "status": "completed"
    },
    "tags": []
   },
   "outputs": [],
   "source": [
    "scaler = MinMaxScaler()\n",
    "test_scaler_df = pd.DataFrame(scaler.fit_transform(test_df), columns=test_df.columns)  "
   ]
  },
  {
   "cell_type": "code",
   "execution_count": 135,
   "id": "6594ecdf",
   "metadata": {
    "execution": {
     "iopub.execute_input": "2025-02-23T22:07:30.485498Z",
     "iopub.status.busy": "2025-02-23T22:07:30.485203Z",
     "iopub.status.idle": "2025-02-23T22:07:30.506095Z",
     "shell.execute_reply": "2025-02-23T22:07:30.505214Z"
    },
    "papermill": {
     "duration": 1.251813,
     "end_time": "2025-02-23T22:07:30.507400",
     "exception": false,
     "start_time": "2025-02-23T22:07:29.255587",
     "status": "completed"
    },
    "tags": []
   },
   "outputs": [
    {
     "data": {
      "text/html": [
       "<div>\n",
       "<style scoped>\n",
       "    .dataframe tbody tr th:only-of-type {\n",
       "        vertical-align: middle;\n",
       "    }\n",
       "\n",
       "    .dataframe tbody tr th {\n",
       "        vertical-align: top;\n",
       "    }\n",
       "\n",
       "    .dataframe thead th {\n",
       "        text-align: right;\n",
       "    }\n",
       "</style>\n",
       "<table border=\"1\" class=\"dataframe\">\n",
       "  <thead>\n",
       "    <tr style=\"text-align: right;\">\n",
       "      <th></th>\n",
       "      <th>Gender</th>\n",
       "      <th>Age</th>\n",
       "      <th>City</th>\n",
       "      <th>Working Professional or Student</th>\n",
       "      <th>Profession</th>\n",
       "      <th>Academic Pressure</th>\n",
       "      <th>Work Pressure</th>\n",
       "      <th>CGPA</th>\n",
       "      <th>Study Satisfaction</th>\n",
       "      <th>Job Satisfaction</th>\n",
       "      <th>Sleep Duration</th>\n",
       "      <th>Dietary Habits</th>\n",
       "      <th>Degree</th>\n",
       "      <th>Have you ever had suicidal thoughts ?</th>\n",
       "      <th>Work/Study Hours</th>\n",
       "      <th>Financial Stress</th>\n",
       "      <th>Family History of Mental Illness</th>\n",
       "    </tr>\n",
       "  </thead>\n",
       "  <tbody>\n",
       "    <tr>\n",
       "      <th>0</th>\n",
       "      <td>1.0</td>\n",
       "      <td>0.833333</td>\n",
       "      <td>1.000000</td>\n",
       "      <td>1.0</td>\n",
       "      <td>0.53125</td>\n",
       "      <td>0.0</td>\n",
       "      <td>0.4</td>\n",
       "      <td>0.000</td>\n",
       "      <td>0.0</td>\n",
       "      <td>1.0</td>\n",
       "      <td>0.50</td>\n",
       "      <td>0.333333</td>\n",
       "      <td>0.444444</td>\n",
       "      <td>0.0</td>\n",
       "      <td>0.750000</td>\n",
       "      <td>0.50</td>\n",
       "      <td>1.0</td>\n",
       "    </tr>\n",
       "    <tr>\n",
       "      <th>1</th>\n",
       "      <td>0.0</td>\n",
       "      <td>0.952381</td>\n",
       "      <td>0.433333</td>\n",
       "      <td>1.0</td>\n",
       "      <td>0.34375</td>\n",
       "      <td>0.0</td>\n",
       "      <td>0.4</td>\n",
       "      <td>0.000</td>\n",
       "      <td>0.0</td>\n",
       "      <td>0.8</td>\n",
       "      <td>0.50</td>\n",
       "      <td>0.333333</td>\n",
       "      <td>0.074074</td>\n",
       "      <td>0.0</td>\n",
       "      <td>0.500000</td>\n",
       "      <td>0.75</td>\n",
       "      <td>0.0</td>\n",
       "    </tr>\n",
       "    <tr>\n",
       "      <th>2</th>\n",
       "      <td>1.0</td>\n",
       "      <td>0.833333</td>\n",
       "      <td>0.333333</td>\n",
       "      <td>1.0</td>\n",
       "      <td>0.90625</td>\n",
       "      <td>0.0</td>\n",
       "      <td>0.8</td>\n",
       "      <td>0.000</td>\n",
       "      <td>0.0</td>\n",
       "      <td>0.2</td>\n",
       "      <td>0.25</td>\n",
       "      <td>0.333333</td>\n",
       "      <td>0.000000</td>\n",
       "      <td>1.0</td>\n",
       "      <td>1.000000</td>\n",
       "      <td>0.75</td>\n",
       "      <td>0.0</td>\n",
       "    </tr>\n",
       "    <tr>\n",
       "      <th>3</th>\n",
       "      <td>0.0</td>\n",
       "      <td>0.119048</td>\n",
       "      <td>0.766667</td>\n",
       "      <td>0.0</td>\n",
       "      <td>0.87500</td>\n",
       "      <td>1.0</td>\n",
       "      <td>0.0</td>\n",
       "      <td>0.684</td>\n",
       "      <td>0.2</td>\n",
       "      <td>0.0</td>\n",
       "      <td>0.75</td>\n",
       "      <td>0.333333</td>\n",
       "      <td>0.370370</td>\n",
       "      <td>1.0</td>\n",
       "      <td>0.833333</td>\n",
       "      <td>0.75</td>\n",
       "      <td>0.0</td>\n",
       "    </tr>\n",
       "    <tr>\n",
       "      <th>4</th>\n",
       "      <td>1.0</td>\n",
       "      <td>0.690476</td>\n",
       "      <td>0.366667</td>\n",
       "      <td>1.0</td>\n",
       "      <td>0.90625</td>\n",
       "      <td>0.0</td>\n",
       "      <td>1.0</td>\n",
       "      <td>0.000</td>\n",
       "      <td>0.0</td>\n",
       "      <td>1.0</td>\n",
       "      <td>0.25</td>\n",
       "      <td>0.333333</td>\n",
       "      <td>0.259259</td>\n",
       "      <td>1.0</td>\n",
       "      <td>0.250000</td>\n",
       "      <td>0.75</td>\n",
       "      <td>0.0</td>\n",
       "    </tr>\n",
       "    <tr>\n",
       "      <th>...</th>\n",
       "      <td>...</td>\n",
       "      <td>...</td>\n",
       "      <td>...</td>\n",
       "      <td>...</td>\n",
       "      <td>...</td>\n",
       "      <td>...</td>\n",
       "      <td>...</td>\n",
       "      <td>...</td>\n",
       "      <td>...</td>\n",
       "      <td>...</td>\n",
       "      <td>...</td>\n",
       "      <td>...</td>\n",
       "      <td>...</td>\n",
       "      <td>...</td>\n",
       "      <td>...</td>\n",
       "      <td>...</td>\n",
       "      <td>...</td>\n",
       "    </tr>\n",
       "    <tr>\n",
       "      <th>93795</th>\n",
       "      <td>0.0</td>\n",
       "      <td>0.738095</td>\n",
       "      <td>0.333333</td>\n",
       "      <td>1.0</td>\n",
       "      <td>0.71875</td>\n",
       "      <td>0.0</td>\n",
       "      <td>0.6</td>\n",
       "      <td>0.000</td>\n",
       "      <td>0.0</td>\n",
       "      <td>1.0</td>\n",
       "      <td>0.50</td>\n",
       "      <td>0.333333</td>\n",
       "      <td>0.370370</td>\n",
       "      <td>1.0</td>\n",
       "      <td>0.166667</td>\n",
       "      <td>0.25</td>\n",
       "      <td>1.0</td>\n",
       "    </tr>\n",
       "    <tr>\n",
       "      <th>93796</th>\n",
       "      <td>1.0</td>\n",
       "      <td>0.261905</td>\n",
       "      <td>0.033333</td>\n",
       "      <td>1.0</td>\n",
       "      <td>0.71875</td>\n",
       "      <td>0.0</td>\n",
       "      <td>1.0</td>\n",
       "      <td>0.000</td>\n",
       "      <td>0.0</td>\n",
       "      <td>0.2</td>\n",
       "      <td>0.25</td>\n",
       "      <td>0.333333</td>\n",
       "      <td>0.296296</td>\n",
       "      <td>1.0</td>\n",
       "      <td>0.916667</td>\n",
       "      <td>0.50</td>\n",
       "      <td>1.0</td>\n",
       "    </tr>\n",
       "    <tr>\n",
       "      <th>93797</th>\n",
       "      <td>1.0</td>\n",
       "      <td>0.142857</td>\n",
       "      <td>1.000000</td>\n",
       "      <td>0.0</td>\n",
       "      <td>0.87500</td>\n",
       "      <td>0.2</td>\n",
       "      <td>0.0</td>\n",
       "      <td>0.751</td>\n",
       "      <td>0.8</td>\n",
       "      <td>0.0</td>\n",
       "      <td>0.25</td>\n",
       "      <td>0.333333</td>\n",
       "      <td>0.148148</td>\n",
       "      <td>0.0</td>\n",
       "      <td>0.583333</td>\n",
       "      <td>0.00</td>\n",
       "      <td>0.0</td>\n",
       "    </tr>\n",
       "    <tr>\n",
       "      <th>93798</th>\n",
       "      <td>0.0</td>\n",
       "      <td>0.119048</td>\n",
       "      <td>0.366667</td>\n",
       "      <td>1.0</td>\n",
       "      <td>0.62500</td>\n",
       "      <td>0.0</td>\n",
       "      <td>0.8</td>\n",
       "      <td>0.000</td>\n",
       "      <td>0.0</td>\n",
       "      <td>0.4</td>\n",
       "      <td>0.00</td>\n",
       "      <td>0.000000</td>\n",
       "      <td>0.185185</td>\n",
       "      <td>1.0</td>\n",
       "      <td>0.583333</td>\n",
       "      <td>1.00</td>\n",
       "      <td>1.0</td>\n",
       "    </tr>\n",
       "    <tr>\n",
       "      <th>93799</th>\n",
       "      <td>0.0</td>\n",
       "      <td>0.595238</td>\n",
       "      <td>0.933333</td>\n",
       "      <td>1.0</td>\n",
       "      <td>0.34375</td>\n",
       "      <td>0.0</td>\n",
       "      <td>1.0</td>\n",
       "      <td>0.000</td>\n",
       "      <td>0.0</td>\n",
       "      <td>0.4</td>\n",
       "      <td>0.75</td>\n",
       "      <td>0.000000</td>\n",
       "      <td>0.074074</td>\n",
       "      <td>0.0</td>\n",
       "      <td>0.916667</td>\n",
       "      <td>0.25</td>\n",
       "      <td>0.0</td>\n",
       "    </tr>\n",
       "  </tbody>\n",
       "</table>\n",
       "<p>93800 rows × 17 columns</p>\n",
       "</div>"
      ],
      "text/plain": [
       "       Gender       Age      City  Working Professional or Student  \\\n",
       "0         1.0  0.833333  1.000000                              1.0   \n",
       "1         0.0  0.952381  0.433333                              1.0   \n",
       "2         1.0  0.833333  0.333333                              1.0   \n",
       "3         0.0  0.119048  0.766667                              0.0   \n",
       "4         1.0  0.690476  0.366667                              1.0   \n",
       "...       ...       ...       ...                              ...   \n",
       "93795     0.0  0.738095  0.333333                              1.0   \n",
       "93796     1.0  0.261905  0.033333                              1.0   \n",
       "93797     1.0  0.142857  1.000000                              0.0   \n",
       "93798     0.0  0.119048  0.366667                              1.0   \n",
       "93799     0.0  0.595238  0.933333                              1.0   \n",
       "\n",
       "       Profession  Academic Pressure  Work Pressure   CGPA  \\\n",
       "0         0.53125                0.0            0.4  0.000   \n",
       "1         0.34375                0.0            0.4  0.000   \n",
       "2         0.90625                0.0            0.8  0.000   \n",
       "3         0.87500                1.0            0.0  0.684   \n",
       "4         0.90625                0.0            1.0  0.000   \n",
       "...           ...                ...            ...    ...   \n",
       "93795     0.71875                0.0            0.6  0.000   \n",
       "93796     0.71875                0.0            1.0  0.000   \n",
       "93797     0.87500                0.2            0.0  0.751   \n",
       "93798     0.62500                0.0            0.8  0.000   \n",
       "93799     0.34375                0.0            1.0  0.000   \n",
       "\n",
       "       Study Satisfaction  Job Satisfaction  Sleep Duration  Dietary Habits  \\\n",
       "0                     0.0               1.0            0.50        0.333333   \n",
       "1                     0.0               0.8            0.50        0.333333   \n",
       "2                     0.0               0.2            0.25        0.333333   \n",
       "3                     0.2               0.0            0.75        0.333333   \n",
       "4                     0.0               1.0            0.25        0.333333   \n",
       "...                   ...               ...             ...             ...   \n",
       "93795                 0.0               1.0            0.50        0.333333   \n",
       "93796                 0.0               0.2            0.25        0.333333   \n",
       "93797                 0.8               0.0            0.25        0.333333   \n",
       "93798                 0.0               0.4            0.00        0.000000   \n",
       "93799                 0.0               0.4            0.75        0.000000   \n",
       "\n",
       "         Degree  Have you ever had suicidal thoughts ?  Work/Study Hours  \\\n",
       "0      0.444444                                    0.0          0.750000   \n",
       "1      0.074074                                    0.0          0.500000   \n",
       "2      0.000000                                    1.0          1.000000   \n",
       "3      0.370370                                    1.0          0.833333   \n",
       "4      0.259259                                    1.0          0.250000   \n",
       "...         ...                                    ...               ...   \n",
       "93795  0.370370                                    1.0          0.166667   \n",
       "93796  0.296296                                    1.0          0.916667   \n",
       "93797  0.148148                                    0.0          0.583333   \n",
       "93798  0.185185                                    1.0          0.583333   \n",
       "93799  0.074074                                    0.0          0.916667   \n",
       "\n",
       "       Financial Stress  Family History of Mental Illness  \n",
       "0                  0.50                               1.0  \n",
       "1                  0.75                               0.0  \n",
       "2                  0.75                               0.0  \n",
       "3                  0.75                               0.0  \n",
       "4                  0.75                               0.0  \n",
       "...                 ...                               ...  \n",
       "93795              0.25                               1.0  \n",
       "93796              0.50                               1.0  \n",
       "93797              0.00                               0.0  \n",
       "93798              1.00                               1.0  \n",
       "93799              0.25                               0.0  \n",
       "\n",
       "[93800 rows x 17 columns]"
      ]
     },
     "execution_count": 135,
     "metadata": {},
     "output_type": "execute_result"
    }
   ],
   "source": [
    "test_scaler_df"
   ]
  },
  {
   "cell_type": "code",
   "execution_count": 136,
   "id": "2dd2ab4d",
   "metadata": {
    "execution": {
     "iopub.execute_input": "2025-02-23T22:07:33.065615Z",
     "iopub.status.busy": "2025-02-23T22:07:33.065322Z",
     "iopub.status.idle": "2025-02-23T22:07:38.078764Z",
     "shell.execute_reply": "2025-02-23T22:07:38.078066Z"
    },
    "papermill": {
     "duration": 6.279383,
     "end_time": "2025-02-23T22:07:38.080329",
     "exception": false,
     "start_time": "2025-02-23T22:07:31.800946",
     "status": "completed"
    },
    "tags": []
   },
   "outputs": [
    {
     "name": "stdout",
     "output_type": "stream",
     "text": [
      "\u001b[1m2932/2932\u001b[0m \u001b[32m━━━━━━━━━━━━━━━━━━━━\u001b[0m\u001b[37m\u001b[0m \u001b[1m3s\u001b[0m 1ms/step\n"
     ]
    }
   ],
   "source": [
    "test_set_prediction = best_model.predict(test_scaler_df)"
   ]
  },
  {
   "cell_type": "code",
   "execution_count": 137,
   "id": "269d0a00",
   "metadata": {
    "execution": {
     "iopub.execute_input": "2025-02-23T22:07:40.682248Z",
     "iopub.status.busy": "2025-02-23T22:07:40.681951Z",
     "iopub.status.idle": "2025-02-23T22:07:40.687127Z",
     "shell.execute_reply": "2025-02-23T22:07:40.686261Z"
    },
    "papermill": {
     "duration": 1.296858,
     "end_time": "2025-02-23T22:07:40.688407",
     "exception": false,
     "start_time": "2025-02-23T22:07:39.391549",
     "status": "completed"
    },
    "tags": []
   },
   "outputs": [
    {
     "data": {
      "text/plain": [
       "array([[7.4767259e-15],\n",
       "       [2.0922499e-36],\n",
       "       [2.3599789e-10],\n",
       "       ...,\n",
       "       [1.7893170e-28],\n",
       "       [9.9668545e-01],\n",
       "       [1.3519600e-38]], dtype=float32)"
      ]
     },
     "execution_count": 137,
     "metadata": {},
     "output_type": "execute_result"
    }
   ],
   "source": [
    "test_set_prediction"
   ]
  },
  {
   "cell_type": "code",
   "execution_count": 138,
   "id": "f42aaf47",
   "metadata": {
    "execution": {
     "iopub.execute_input": "2025-02-23T22:07:43.263352Z",
     "iopub.status.busy": "2025-02-23T22:07:43.263066Z",
     "iopub.status.idle": "2025-02-23T22:07:43.266701Z",
     "shell.execute_reply": "2025-02-23T22:07:43.266050Z"
    },
    "papermill": {
     "duration": 1.250221,
     "end_time": "2025-02-23T22:07:43.267875",
     "exception": false,
     "start_time": "2025-02-23T22:07:42.017654",
     "status": "completed"
    },
    "tags": []
   },
   "outputs": [],
   "source": [
    "model_test_set_binarized = np.where(test_set_prediction >= 0.5, 1, 0)"
   ]
  },
  {
   "cell_type": "code",
   "execution_count": 139,
   "id": "2ac9d89e",
   "metadata": {
    "execution": {
     "iopub.execute_input": "2025-02-23T22:07:45.732356Z",
     "iopub.status.busy": "2025-02-23T22:07:45.732028Z",
     "iopub.status.idle": "2025-02-23T22:07:45.737346Z",
     "shell.execute_reply": "2025-02-23T22:07:45.736312Z"
    },
    "papermill": {
     "duration": 1.238127,
     "end_time": "2025-02-23T22:07:45.738658",
     "exception": false,
     "start_time": "2025-02-23T22:07:44.500531",
     "status": "completed"
    },
    "tags": []
   },
   "outputs": [
    {
     "name": "stdout",
     "output_type": "stream",
     "text": [
      "<class 'numpy.ndarray'>\n",
      "[[0]\n",
      " [0]\n",
      " [0]\n",
      " ...\n",
      " [0]\n",
      " [1]\n",
      " [0]]\n",
      "2\n",
      "93800\n"
     ]
    }
   ],
   "source": [
    "print(type(model_test_set_binarized))\n",
    "print(model_test_set_binarized)\n",
    "print(model_test_set_binarized.ndim)\n",
    "print(len(model_test_set_binarized))"
   ]
  },
  {
   "cell_type": "code",
   "execution_count": 140,
   "id": "f329970f",
   "metadata": {
    "execution": {
     "iopub.execute_input": "2025-02-23T22:07:48.258870Z",
     "iopub.status.busy": "2025-02-23T22:07:48.258573Z",
     "iopub.status.idle": "2025-02-23T22:07:48.263713Z",
     "shell.execute_reply": "2025-02-23T22:07:48.262983Z"
    },
    "papermill": {
     "duration": 1.293461,
     "end_time": "2025-02-23T22:07:48.264998",
     "exception": false,
     "start_time": "2025-02-23T22:07:46.971537",
     "status": "completed"
    },
    "tags": []
   },
   "outputs": [
    {
     "data": {
      "text/plain": [
       "Index([140700, 140701, 140702, 140703, 140704, 140705, 140706, 140707, 140708,\n",
       "       140709,\n",
       "       ...\n",
       "       234490, 234491, 234492, 234493, 234494, 234495, 234496, 234497, 234498,\n",
       "       234499],\n",
       "      dtype='int64', name='id', length=93800)"
      ]
     },
     "execution_count": 140,
     "metadata": {},
     "output_type": "execute_result"
    }
   ],
   "source": [
    "test_df.index"
   ]
  },
  {
   "cell_type": "code",
   "execution_count": 141,
   "id": "466acfe8",
   "metadata": {
    "execution": {
     "iopub.execute_input": "2025-02-23T22:07:50.708526Z",
     "iopub.status.busy": "2025-02-23T22:07:50.708045Z",
     "iopub.status.idle": "2025-02-23T22:07:50.715144Z",
     "shell.execute_reply": "2025-02-23T22:07:50.714175Z"
    },
    "papermill": {
     "duration": 1.27886,
     "end_time": "2025-02-23T22:07:50.716642",
     "exception": false,
     "start_time": "2025-02-23T22:07:49.437782",
     "status": "completed"
    },
    "tags": []
   },
   "outputs": [
    {
     "data": {
      "text/plain": [
       "{'id': Index([140700, 140701, 140702, 140703, 140704, 140705, 140706, 140707, 140708,\n",
       "        140709,\n",
       "        ...\n",
       "        234490, 234491, 234492, 234493, 234494, 234495, 234496, 234497, 234498,\n",
       "        234499],\n",
       "       dtype='int64', name='id', length=93800),\n",
       " 'Depressed': array([0, 0, 0, ..., 0, 1, 0])}"
      ]
     },
     "execution_count": 141,
     "metadata": {},
     "output_type": "execute_result"
    }
   ],
   "source": [
    "test_df_dict = {\"id\":test_df.index,\n",
    "               \"Depressed\":model_test_set_binarized.ravel()}\n",
    "test_df_dict"
   ]
  },
  {
   "cell_type": "code",
   "execution_count": 142,
   "id": "d7786f4e",
   "metadata": {
    "execution": {
     "iopub.execute_input": "2025-02-23T22:07:53.209154Z",
     "iopub.status.busy": "2025-02-23T22:07:53.208636Z",
     "iopub.status.idle": "2025-02-23T22:07:53.218415Z",
     "shell.execute_reply": "2025-02-23T22:07:53.217734Z"
    },
    "papermill": {
     "duration": 1.261372,
     "end_time": "2025-02-23T22:07:53.219623",
     "exception": false,
     "start_time": "2025-02-23T22:07:51.958251",
     "status": "completed"
    },
    "tags": []
   },
   "outputs": [
    {
     "data": {
      "text/html": [
       "<div>\n",
       "<style scoped>\n",
       "    .dataframe tbody tr th:only-of-type {\n",
       "        vertical-align: middle;\n",
       "    }\n",
       "\n",
       "    .dataframe tbody tr th {\n",
       "        vertical-align: top;\n",
       "    }\n",
       "\n",
       "    .dataframe thead th {\n",
       "        text-align: right;\n",
       "    }\n",
       "</style>\n",
       "<table border=\"1\" class=\"dataframe\">\n",
       "  <thead>\n",
       "    <tr style=\"text-align: right;\">\n",
       "      <th></th>\n",
       "      <th>Depressed</th>\n",
       "    </tr>\n",
       "    <tr>\n",
       "      <th>id</th>\n",
       "      <th></th>\n",
       "    </tr>\n",
       "  </thead>\n",
       "  <tbody>\n",
       "    <tr>\n",
       "      <th>140700</th>\n",
       "      <td>0</td>\n",
       "    </tr>\n",
       "    <tr>\n",
       "      <th>140701</th>\n",
       "      <td>0</td>\n",
       "    </tr>\n",
       "    <tr>\n",
       "      <th>140702</th>\n",
       "      <td>0</td>\n",
       "    </tr>\n",
       "    <tr>\n",
       "      <th>140703</th>\n",
       "      <td>1</td>\n",
       "    </tr>\n",
       "    <tr>\n",
       "      <th>140704</th>\n",
       "      <td>1</td>\n",
       "    </tr>\n",
       "    <tr>\n",
       "      <th>...</th>\n",
       "      <td>...</td>\n",
       "    </tr>\n",
       "    <tr>\n",
       "      <th>234495</th>\n",
       "      <td>0</td>\n",
       "    </tr>\n",
       "    <tr>\n",
       "      <th>234496</th>\n",
       "      <td>1</td>\n",
       "    </tr>\n",
       "    <tr>\n",
       "      <th>234497</th>\n",
       "      <td>0</td>\n",
       "    </tr>\n",
       "    <tr>\n",
       "      <th>234498</th>\n",
       "      <td>1</td>\n",
       "    </tr>\n",
       "    <tr>\n",
       "      <th>234499</th>\n",
       "      <td>0</td>\n",
       "    </tr>\n",
       "  </tbody>\n",
       "</table>\n",
       "<p>93800 rows × 1 columns</p>\n",
       "</div>"
      ],
      "text/plain": [
       "        Depressed\n",
       "id               \n",
       "140700          0\n",
       "140701          0\n",
       "140702          0\n",
       "140703          1\n",
       "140704          1\n",
       "...           ...\n",
       "234495          0\n",
       "234496          1\n",
       "234497          0\n",
       "234498          1\n",
       "234499          0\n",
       "\n",
       "[93800 rows x 1 columns]"
      ]
     },
     "execution_count": 142,
     "metadata": {},
     "output_type": "execute_result"
    }
   ],
   "source": [
    "test_df_result = pd.DataFrame(test_df_dict ).set_index('id')\n",
    "test_df_result"
   ]
  },
  {
   "cell_type": "code",
   "execution_count": 143,
   "id": "7a0bd47b",
   "metadata": {
    "execution": {
     "iopub.execute_input": "2025-02-23T22:07:55.692425Z",
     "iopub.status.busy": "2025-02-23T22:07:55.692075Z",
     "iopub.status.idle": "2025-02-23T22:07:55.748988Z",
     "shell.execute_reply": "2025-02-23T22:07:55.748328Z"
    },
    "papermill": {
     "duration": 1.293889,
     "end_time": "2025-02-23T22:07:55.750413",
     "exception": false,
     "start_time": "2025-02-23T22:07:54.456524",
     "status": "completed"
    },
    "tags": []
   },
   "outputs": [],
   "source": [
    "test_df_result.to_csv('submission.csv')"
   ]
  }
 ],
 "metadata": {
  "kaggle": {
   "accelerator": "gpu",
   "dataSources": [
    {
     "databundleVersionId": 10008389,
     "sourceId": 84895,
     "sourceType": "competition"
    }
   ],
   "isGpuEnabled": true,
   "isInternetEnabled": true,
   "language": "python",
   "sourceType": "notebook"
  },
  "kernelspec": {
   "display_name": "Python 3",
   "language": "python",
   "name": "python3"
  },
  "language_info": {
   "codemirror_mode": {
    "name": "ipython",
    "version": 3
   },
   "file_extension": ".py",
   "mimetype": "text/x-python",
   "name": "python",
   "nbconvert_exporter": "python",
   "pygments_lexer": "ipython3",
   "version": "3.10.12"
  },
  "papermill": {
   "default_parameters": {},
   "duration": 5809.219914,
   "end_time": "2025-02-23T22:08:00.331945",
   "environment_variables": {},
   "exception": null,
   "input_path": "__notebook__.ipynb",
   "output_path": "__notebook__.ipynb",
   "parameters": {},
   "start_time": "2025-02-23T20:31:11.112031",
   "version": "2.6.0"
  }
 },
 "nbformat": 4,
 "nbformat_minor": 5
}
