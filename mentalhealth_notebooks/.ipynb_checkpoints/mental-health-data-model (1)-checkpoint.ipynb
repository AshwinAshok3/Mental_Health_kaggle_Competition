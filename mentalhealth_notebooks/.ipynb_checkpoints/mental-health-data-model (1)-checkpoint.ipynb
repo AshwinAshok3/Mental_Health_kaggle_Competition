{
 "cells": [
  {
   "cell_type": "code",
   "execution_count": 142,
   "metadata": {
    "execution": {
     "iopub.execute_input": "2025-02-21T20:38:21.706118Z",
     "iopub.status.busy": "2025-02-21T20:38:21.705794Z",
     "iopub.status.idle": "2025-02-21T20:38:22.068588Z",
     "shell.execute_reply": "2025-02-21T20:38:22.067898Z",
     "shell.execute_reply.started": "2025-02-21T20:38:21.706088Z"
    }
   },
   "outputs": [
    {
     "data": {
      "text/plain": [
       "\"\\nimport os\\nfor dirname, _, filenames in os.walk('/kaggle/input'):\\n    for filename in filenames:\\n        print(os.path.join(dirname, filename))\\n\""
      ]
     },
     "execution_count": 142,
     "metadata": {},
     "output_type": "execute_result"
    }
   ],
   "source": [
    "# This Python 3 environment comes with many helpful analytics libraries installed\n",
    "# It is defined by the kaggle/python Docker image: https://github.com/kaggle/docker-python\n",
    "# For example, here's several helpful packages to load\n",
    "'''\n",
    "import numpy as np # linear algebra\n",
    "import pandas as pd # data processing, CSV file I/O (e.g. pd.read_csv)\n",
    "'''\n",
    "# Input data files are available in the read-only \"../input/\" directory\n",
    "# For example, running this (by clicking run or pressing Shift+Enter) will list all files under the input directory\n",
    "'''\n",
    "import os\n",
    "for dirname, _, filenames in os.walk('/kaggle/input'):\n",
    "    for filename in filenames:\n",
    "        print(os.path.join(dirname, filename))\n",
    "'''\n",
    "# You can write up to 20GB to the current directory (/kaggle/working/) that gets preserved as output when you create a version using \"Save & Run All\" \n",
    "# You can also write temporary files to /kaggle/temp/, but they won't be saved outside of the current session"
   ]
  },
  {
   "cell_type": "markdown",
   "metadata": {},
   "source": [
    "# Importing Libraries"
   ]
  },
  {
   "cell_type": "code",
   "execution_count": 143,
   "metadata": {
    "execution": {
     "iopub.execute_input": "2025-02-21T20:38:22.070316Z",
     "iopub.status.busy": "2025-02-21T20:38:22.069836Z",
     "iopub.status.idle": "2025-02-21T20:38:35.389835Z",
     "shell.execute_reply": "2025-02-21T20:38:35.389103Z",
     "shell.execute_reply.started": "2025-02-21T20:38:22.070279Z"
    }
   },
   "outputs": [],
   "source": [
    "# importing necessary libraries\n",
    "import tensorflow as tf\n",
    "import tensorflow.keras as keras\n",
    "import keras_tuner as kt\n",
    "\n",
    "# Encoding \n",
    "from sklearn.preprocessing import LabelEncoder\n",
    "\n",
    "# splitting the data \n",
    "from sklearn.model_selection import train_test_split\n",
    "\n",
    "# valuating the features \n",
    "from sklearn.feature_selection import mutual_info_classif\n",
    "\n",
    "# data handling\n",
    "import pandas as pd\n",
    "import numpy as np\n",
    "\n",
    "# standardizatom\n",
    "from sklearn.preprocessing import MinMaxScaler\n",
    "\n",
    "# classification report\n",
    "from sklearn.metrics import classification_report, confusion_matrix\n",
    "\n",
    "# plots\n",
    "import matplotlib.pyplot as plt\n",
    "import seaborn as sns\n",
    "%matplotlib inline"
   ]
  },
  {
   "cell_type": "markdown",
   "metadata": {},
   "source": [
    "# Importing Dataset"
   ]
  },
  {
   "cell_type": "code",
   "execution_count": 144,
   "metadata": {
    "execution": {
     "iopub.execute_input": "2025-02-21T20:38:35.391842Z",
     "iopub.status.busy": "2025-02-21T20:38:35.391253Z",
     "iopub.status.idle": "2025-02-21T20:38:36.197321Z",
     "shell.execute_reply": "2025-02-21T20:38:36.196366Z",
     "shell.execute_reply.started": "2025-02-21T20:38:35.391814Z"
    }
   },
   "outputs": [],
   "source": [
    "# Importing trainset\n",
    "train_df = pd.read_csv(\"F:\\\\Unified Mentors Internship\\\\Project 4 - Mental Health\\\\playground-series-s4e11\\\\train.csv\")\n",
    "test_df = pd.read_csv(\"F:\\\\Unified Mentors Internship\\\\Project 4 - Mental Health\\\\playground-series-s4e11\\\\test.csv\")\n",
    "train_df.name = \"train set\"\n",
    "test_df.name = \"test set\"\n",
    "\n",
    "# assigning the max columns and certain max rows to display so the veiw could be bigger to veiw and easy\n",
    "pd.set_option(\"display.max_columns\",None)\n",
    "pd.set_option(\"display.max_rows\",50)"
   ]
  },
  {
   "cell_type": "markdown",
   "metadata": {},
   "source": [
    "# Dataset Exploration"
   ]
  },
  {
   "cell_type": "code",
   "execution_count": 145,
   "metadata": {
    "execution": {
     "iopub.execute_input": "2025-02-21T20:38:36.198926Z",
     "iopub.status.busy": "2025-02-21T20:38:36.198650Z",
     "iopub.status.idle": "2025-02-21T20:38:36.258555Z",
     "shell.execute_reply": "2025-02-21T20:38:36.257831Z",
     "shell.execute_reply.started": "2025-02-21T20:38:36.198901Z"
    }
   },
   "outputs": [
    {
     "data": {
      "text/html": [
       "<div>\n",
       "<style scoped>\n",
       "    .dataframe tbody tr th:only-of-type {\n",
       "        vertical-align: middle;\n",
       "    }\n",
       "\n",
       "    .dataframe tbody tr th {\n",
       "        vertical-align: top;\n",
       "    }\n",
       "\n",
       "    .dataframe thead th {\n",
       "        text-align: right;\n",
       "    }\n",
       "</style>\n",
       "<table border=\"1\" class=\"dataframe\">\n",
       "  <thead>\n",
       "    <tr style=\"text-align: right;\">\n",
       "      <th></th>\n",
       "      <th>Name</th>\n",
       "      <th>Gender</th>\n",
       "      <th>Age</th>\n",
       "      <th>City</th>\n",
       "      <th>Working Professional or Student</th>\n",
       "      <th>Profession</th>\n",
       "      <th>Academic Pressure</th>\n",
       "      <th>Work Pressure</th>\n",
       "      <th>CGPA</th>\n",
       "      <th>Study Satisfaction</th>\n",
       "      <th>Job Satisfaction</th>\n",
       "      <th>Sleep Duration</th>\n",
       "      <th>Dietary Habits</th>\n",
       "      <th>Degree</th>\n",
       "      <th>Have you ever had suicidal thoughts ?</th>\n",
       "      <th>Work/Study Hours</th>\n",
       "      <th>Financial Stress</th>\n",
       "      <th>Family History of Mental Illness</th>\n",
       "      <th>Depression</th>\n",
       "    </tr>\n",
       "    <tr>\n",
       "      <th>id</th>\n",
       "      <th></th>\n",
       "      <th></th>\n",
       "      <th></th>\n",
       "      <th></th>\n",
       "      <th></th>\n",
       "      <th></th>\n",
       "      <th></th>\n",
       "      <th></th>\n",
       "      <th></th>\n",
       "      <th></th>\n",
       "      <th></th>\n",
       "      <th></th>\n",
       "      <th></th>\n",
       "      <th></th>\n",
       "      <th></th>\n",
       "      <th></th>\n",
       "      <th></th>\n",
       "      <th></th>\n",
       "      <th></th>\n",
       "    </tr>\n",
       "  </thead>\n",
       "  <tbody>\n",
       "    <tr>\n",
       "      <th>140695</th>\n",
       "      <td>Vidya</td>\n",
       "      <td>Female</td>\n",
       "      <td>18.0</td>\n",
       "      <td>Ahmedabad</td>\n",
       "      <td>Working Professional</td>\n",
       "      <td>NaN</td>\n",
       "      <td>NaN</td>\n",
       "      <td>5.0</td>\n",
       "      <td>NaN</td>\n",
       "      <td>NaN</td>\n",
       "      <td>4.0</td>\n",
       "      <td>5-6 hours</td>\n",
       "      <td>Unhealthy</td>\n",
       "      <td>Class 12</td>\n",
       "      <td>No</td>\n",
       "      <td>2.0</td>\n",
       "      <td>4.0</td>\n",
       "      <td>Yes</td>\n",
       "      <td>1</td>\n",
       "    </tr>\n",
       "    <tr>\n",
       "      <th>140696</th>\n",
       "      <td>Lata</td>\n",
       "      <td>Female</td>\n",
       "      <td>41.0</td>\n",
       "      <td>Hyderabad</td>\n",
       "      <td>Working Professional</td>\n",
       "      <td>Content Writer</td>\n",
       "      <td>NaN</td>\n",
       "      <td>5.0</td>\n",
       "      <td>NaN</td>\n",
       "      <td>NaN</td>\n",
       "      <td>4.0</td>\n",
       "      <td>7-8 hours</td>\n",
       "      <td>Moderate</td>\n",
       "      <td>B.Tech</td>\n",
       "      <td>Yes</td>\n",
       "      <td>6.0</td>\n",
       "      <td>5.0</td>\n",
       "      <td>Yes</td>\n",
       "      <td>0</td>\n",
       "    </tr>\n",
       "    <tr>\n",
       "      <th>140697</th>\n",
       "      <td>Aanchal</td>\n",
       "      <td>Female</td>\n",
       "      <td>24.0</td>\n",
       "      <td>Kolkata</td>\n",
       "      <td>Working Professional</td>\n",
       "      <td>Marketing Manager</td>\n",
       "      <td>NaN</td>\n",
       "      <td>3.0</td>\n",
       "      <td>NaN</td>\n",
       "      <td>NaN</td>\n",
       "      <td>1.0</td>\n",
       "      <td>More than 8 hours</td>\n",
       "      <td>Moderate</td>\n",
       "      <td>B.Com</td>\n",
       "      <td>No</td>\n",
       "      <td>4.0</td>\n",
       "      <td>4.0</td>\n",
       "      <td>No</td>\n",
       "      <td>0</td>\n",
       "    </tr>\n",
       "    <tr>\n",
       "      <th>140698</th>\n",
       "      <td>Prachi</td>\n",
       "      <td>Female</td>\n",
       "      <td>49.0</td>\n",
       "      <td>Srinagar</td>\n",
       "      <td>Working Professional</td>\n",
       "      <td>Plumber</td>\n",
       "      <td>NaN</td>\n",
       "      <td>5.0</td>\n",
       "      <td>NaN</td>\n",
       "      <td>NaN</td>\n",
       "      <td>2.0</td>\n",
       "      <td>5-6 hours</td>\n",
       "      <td>Moderate</td>\n",
       "      <td>ME</td>\n",
       "      <td>Yes</td>\n",
       "      <td>10.0</td>\n",
       "      <td>1.0</td>\n",
       "      <td>No</td>\n",
       "      <td>0</td>\n",
       "    </tr>\n",
       "    <tr>\n",
       "      <th>140699</th>\n",
       "      <td>Sai</td>\n",
       "      <td>Male</td>\n",
       "      <td>27.0</td>\n",
       "      <td>Patna</td>\n",
       "      <td>Student</td>\n",
       "      <td>NaN</td>\n",
       "      <td>4.0</td>\n",
       "      <td>NaN</td>\n",
       "      <td>9.24</td>\n",
       "      <td>1.0</td>\n",
       "      <td>NaN</td>\n",
       "      <td>Less than 5 hours</td>\n",
       "      <td>Healthy</td>\n",
       "      <td>BCA</td>\n",
       "      <td>Yes</td>\n",
       "      <td>2.0</td>\n",
       "      <td>3.0</td>\n",
       "      <td>Yes</td>\n",
       "      <td>1</td>\n",
       "    </tr>\n",
       "  </tbody>\n",
       "</table>\n",
       "</div>"
      ],
      "text/plain": [
       "           Name  Gender   Age       City Working Professional or Student  \\\n",
       "id                                                                         \n",
       "140695    Vidya  Female  18.0  Ahmedabad            Working Professional   \n",
       "140696     Lata  Female  41.0  Hyderabad            Working Professional   \n",
       "140697  Aanchal  Female  24.0    Kolkata            Working Professional   \n",
       "140698   Prachi  Female  49.0   Srinagar            Working Professional   \n",
       "140699      Sai    Male  27.0      Patna                         Student   \n",
       "\n",
       "               Profession  Academic Pressure  Work Pressure  CGPA  \\\n",
       "id                                                                  \n",
       "140695                NaN                NaN            5.0   NaN   \n",
       "140696     Content Writer                NaN            5.0   NaN   \n",
       "140697  Marketing Manager                NaN            3.0   NaN   \n",
       "140698            Plumber                NaN            5.0   NaN   \n",
       "140699                NaN                4.0            NaN  9.24   \n",
       "\n",
       "        Study Satisfaction  Job Satisfaction     Sleep Duration  \\\n",
       "id                                                                \n",
       "140695                 NaN               4.0          5-6 hours   \n",
       "140696                 NaN               4.0          7-8 hours   \n",
       "140697                 NaN               1.0  More than 8 hours   \n",
       "140698                 NaN               2.0          5-6 hours   \n",
       "140699                 1.0               NaN  Less than 5 hours   \n",
       "\n",
       "       Dietary Habits    Degree Have you ever had suicidal thoughts ?  \\\n",
       "id                                                                      \n",
       "140695      Unhealthy  Class 12                                    No   \n",
       "140696       Moderate    B.Tech                                   Yes   \n",
       "140697       Moderate     B.Com                                    No   \n",
       "140698       Moderate        ME                                   Yes   \n",
       "140699        Healthy       BCA                                   Yes   \n",
       "\n",
       "        Work/Study Hours  Financial Stress Family History of Mental Illness  \\\n",
       "id                                                                            \n",
       "140695               2.0               4.0                              Yes   \n",
       "140696               6.0               5.0                              Yes   \n",
       "140697               4.0               4.0                               No   \n",
       "140698              10.0               1.0                               No   \n",
       "140699               2.0               3.0                              Yes   \n",
       "\n",
       "        Depression  \n",
       "id                  \n",
       "140695           1  \n",
       "140696           0  \n",
       "140697           0  \n",
       "140698           0  \n",
       "140699           1  "
      ]
     },
     "execution_count": 145,
     "metadata": {},
     "output_type": "execute_result"
    }
   ],
   "source": [
    "train_df.index = train_df['id']\n",
    "train_df.drop(columns=['id'],inplace=True)\n",
    "test_df.index = test_df['id']\n",
    "test_df.drop(columns=['id'],inplace=True)\n",
    "train_df.tail(5)"
   ]
  },
  {
   "cell_type": "code",
   "execution_count": 146,
   "metadata": {
    "execution": {
     "iopub.execute_input": "2025-02-21T20:38:36.259855Z",
     "iopub.status.busy": "2025-02-21T20:38:36.259492Z",
     "iopub.status.idle": "2025-02-21T20:38:36.277711Z",
     "shell.execute_reply": "2025-02-21T20:38:36.276698Z",
     "shell.execute_reply.started": "2025-02-21T20:38:36.259822Z"
    }
   },
   "outputs": [
    {
     "data": {
      "text/html": [
       "<div>\n",
       "<style scoped>\n",
       "    .dataframe tbody tr th:only-of-type {\n",
       "        vertical-align: middle;\n",
       "    }\n",
       "\n",
       "    .dataframe tbody tr th {\n",
       "        vertical-align: top;\n",
       "    }\n",
       "\n",
       "    .dataframe thead th {\n",
       "        text-align: right;\n",
       "    }\n",
       "</style>\n",
       "<table border=\"1\" class=\"dataframe\">\n",
       "  <thead>\n",
       "    <tr style=\"text-align: right;\">\n",
       "      <th></th>\n",
       "      <th>Name</th>\n",
       "      <th>Gender</th>\n",
       "      <th>Age</th>\n",
       "      <th>City</th>\n",
       "      <th>Working Professional or Student</th>\n",
       "      <th>Profession</th>\n",
       "      <th>Academic Pressure</th>\n",
       "      <th>Work Pressure</th>\n",
       "      <th>CGPA</th>\n",
       "      <th>Study Satisfaction</th>\n",
       "      <th>Job Satisfaction</th>\n",
       "      <th>Sleep Duration</th>\n",
       "      <th>Dietary Habits</th>\n",
       "      <th>Degree</th>\n",
       "      <th>Have you ever had suicidal thoughts ?</th>\n",
       "      <th>Work/Study Hours</th>\n",
       "      <th>Financial Stress</th>\n",
       "      <th>Family History of Mental Illness</th>\n",
       "    </tr>\n",
       "    <tr>\n",
       "      <th>id</th>\n",
       "      <th></th>\n",
       "      <th></th>\n",
       "      <th></th>\n",
       "      <th></th>\n",
       "      <th></th>\n",
       "      <th></th>\n",
       "      <th></th>\n",
       "      <th></th>\n",
       "      <th></th>\n",
       "      <th></th>\n",
       "      <th></th>\n",
       "      <th></th>\n",
       "      <th></th>\n",
       "      <th></th>\n",
       "      <th></th>\n",
       "      <th></th>\n",
       "      <th></th>\n",
       "      <th></th>\n",
       "    </tr>\n",
       "  </thead>\n",
       "  <tbody>\n",
       "    <tr>\n",
       "      <th>140700</th>\n",
       "      <td>Shivam</td>\n",
       "      <td>Male</td>\n",
       "      <td>53.0</td>\n",
       "      <td>Visakhapatnam</td>\n",
       "      <td>Working Professional</td>\n",
       "      <td>Judge</td>\n",
       "      <td>NaN</td>\n",
       "      <td>2.0</td>\n",
       "      <td>NaN</td>\n",
       "      <td>NaN</td>\n",
       "      <td>5.0</td>\n",
       "      <td>Less than 5 hours</td>\n",
       "      <td>Moderate</td>\n",
       "      <td>LLB</td>\n",
       "      <td>No</td>\n",
       "      <td>9.0</td>\n",
       "      <td>3.0</td>\n",
       "      <td>Yes</td>\n",
       "    </tr>\n",
       "    <tr>\n",
       "      <th>140701</th>\n",
       "      <td>Sanya</td>\n",
       "      <td>Female</td>\n",
       "      <td>58.0</td>\n",
       "      <td>Kolkata</td>\n",
       "      <td>Working Professional</td>\n",
       "      <td>Educational Consultant</td>\n",
       "      <td>NaN</td>\n",
       "      <td>2.0</td>\n",
       "      <td>NaN</td>\n",
       "      <td>NaN</td>\n",
       "      <td>4.0</td>\n",
       "      <td>Less than 5 hours</td>\n",
       "      <td>Moderate</td>\n",
       "      <td>B.Ed</td>\n",
       "      <td>No</td>\n",
       "      <td>6.0</td>\n",
       "      <td>4.0</td>\n",
       "      <td>No</td>\n",
       "    </tr>\n",
       "    <tr>\n",
       "      <th>140702</th>\n",
       "      <td>Yash</td>\n",
       "      <td>Male</td>\n",
       "      <td>53.0</td>\n",
       "      <td>Jaipur</td>\n",
       "      <td>Working Professional</td>\n",
       "      <td>Teacher</td>\n",
       "      <td>NaN</td>\n",
       "      <td>4.0</td>\n",
       "      <td>NaN</td>\n",
       "      <td>NaN</td>\n",
       "      <td>1.0</td>\n",
       "      <td>7-8 hours</td>\n",
       "      <td>Moderate</td>\n",
       "      <td>B.Arch</td>\n",
       "      <td>Yes</td>\n",
       "      <td>12.0</td>\n",
       "      <td>4.0</td>\n",
       "      <td>No</td>\n",
       "    </tr>\n",
       "    <tr>\n",
       "      <th>140703</th>\n",
       "      <td>Nalini</td>\n",
       "      <td>Female</td>\n",
       "      <td>23.0</td>\n",
       "      <td>Rajkot</td>\n",
       "      <td>Student</td>\n",
       "      <td>NaN</td>\n",
       "      <td>5.0</td>\n",
       "      <td>NaN</td>\n",
       "      <td>6.84</td>\n",
       "      <td>1.0</td>\n",
       "      <td>NaN</td>\n",
       "      <td>More than 8 hours</td>\n",
       "      <td>Moderate</td>\n",
       "      <td>BSc</td>\n",
       "      <td>Yes</td>\n",
       "      <td>10.0</td>\n",
       "      <td>4.0</td>\n",
       "      <td>No</td>\n",
       "    </tr>\n",
       "    <tr>\n",
       "      <th>140704</th>\n",
       "      <td>Shaurya</td>\n",
       "      <td>Male</td>\n",
       "      <td>47.0</td>\n",
       "      <td>Kalyan</td>\n",
       "      <td>Working Professional</td>\n",
       "      <td>Teacher</td>\n",
       "      <td>NaN</td>\n",
       "      <td>5.0</td>\n",
       "      <td>NaN</td>\n",
       "      <td>NaN</td>\n",
       "      <td>5.0</td>\n",
       "      <td>7-8 hours</td>\n",
       "      <td>Moderate</td>\n",
       "      <td>BCA</td>\n",
       "      <td>Yes</td>\n",
       "      <td>3.0</td>\n",
       "      <td>4.0</td>\n",
       "      <td>No</td>\n",
       "    </tr>\n",
       "  </tbody>\n",
       "</table>\n",
       "</div>"
      ],
      "text/plain": [
       "           Name  Gender   Age           City Working Professional or Student  \\\n",
       "id                                                                             \n",
       "140700   Shivam    Male  53.0  Visakhapatnam            Working Professional   \n",
       "140701    Sanya  Female  58.0        Kolkata            Working Professional   \n",
       "140702     Yash    Male  53.0         Jaipur            Working Professional   \n",
       "140703   Nalini  Female  23.0         Rajkot                         Student   \n",
       "140704  Shaurya    Male  47.0         Kalyan            Working Professional   \n",
       "\n",
       "                    Profession  Academic Pressure  Work Pressure  CGPA  \\\n",
       "id                                                                       \n",
       "140700                   Judge                NaN            2.0   NaN   \n",
       "140701  Educational Consultant                NaN            2.0   NaN   \n",
       "140702                 Teacher                NaN            4.0   NaN   \n",
       "140703                     NaN                5.0            NaN  6.84   \n",
       "140704                 Teacher                NaN            5.0   NaN   \n",
       "\n",
       "        Study Satisfaction  Job Satisfaction     Sleep Duration  \\\n",
       "id                                                                \n",
       "140700                 NaN               5.0  Less than 5 hours   \n",
       "140701                 NaN               4.0  Less than 5 hours   \n",
       "140702                 NaN               1.0          7-8 hours   \n",
       "140703                 1.0               NaN  More than 8 hours   \n",
       "140704                 NaN               5.0          7-8 hours   \n",
       "\n",
       "       Dietary Habits  Degree Have you ever had suicidal thoughts ?  \\\n",
       "id                                                                    \n",
       "140700       Moderate     LLB                                    No   \n",
       "140701       Moderate    B.Ed                                    No   \n",
       "140702       Moderate  B.Arch                                   Yes   \n",
       "140703       Moderate     BSc                                   Yes   \n",
       "140704       Moderate     BCA                                   Yes   \n",
       "\n",
       "        Work/Study Hours  Financial Stress Family History of Mental Illness  \n",
       "id                                                                           \n",
       "140700               9.0               3.0                              Yes  \n",
       "140701               6.0               4.0                               No  \n",
       "140702              12.0               4.0                               No  \n",
       "140703              10.0               4.0                               No  \n",
       "140704               3.0               4.0                               No  "
      ]
     },
     "execution_count": 146,
     "metadata": {},
     "output_type": "execute_result"
    }
   ],
   "source": [
    "test_df.head(5)"
   ]
  },
  {
   "cell_type": "code",
   "execution_count": 147,
   "metadata": {
    "execution": {
     "iopub.execute_input": "2025-02-21T20:38:36.279133Z",
     "iopub.status.busy": "2025-02-21T20:38:36.278798Z",
     "iopub.status.idle": "2025-02-21T20:38:36.394463Z",
     "shell.execute_reply": "2025-02-21T20:38:36.393382Z",
     "shell.execute_reply.started": "2025-02-21T20:38:36.279110Z"
    }
   },
   "outputs": [
    {
     "name": "stdout",
     "output_type": "stream",
     "text": [
      "<class 'pandas.core.frame.DataFrame'>\n",
      "Index: 140700 entries, 0 to 140699\n",
      "Data columns (total 19 columns):\n",
      " #   Column                                 Non-Null Count   Dtype  \n",
      "---  ------                                 --------------   -----  \n",
      " 0   Name                                   140700 non-null  object \n",
      " 1   Gender                                 140700 non-null  object \n",
      " 2   Age                                    140700 non-null  float64\n",
      " 3   City                                   140700 non-null  object \n",
      " 4   Working Professional or Student        140700 non-null  object \n",
      " 5   Profession                             104070 non-null  object \n",
      " 6   Academic Pressure                      27897 non-null   float64\n",
      " 7   Work Pressure                          112782 non-null  float64\n",
      " 8   CGPA                                   27898 non-null   float64\n",
      " 9   Study Satisfaction                     27897 non-null   float64\n",
      " 10  Job Satisfaction                       112790 non-null  float64\n",
      " 11  Sleep Duration                         140700 non-null  object \n",
      " 12  Dietary Habits                         140696 non-null  object \n",
      " 13  Degree                                 140698 non-null  object \n",
      " 14  Have you ever had suicidal thoughts ?  140700 non-null  object \n",
      " 15  Work/Study Hours                       140700 non-null  float64\n",
      " 16  Financial Stress                       140696 non-null  float64\n",
      " 17  Family History of Mental Illness       140700 non-null  object \n",
      " 18  Depression                             140700 non-null  int64  \n",
      "dtypes: float64(8), int64(1), object(10)\n",
      "memory usage: 21.5+ MB\n"
     ]
    }
   ],
   "source": [
    "train_df.info()"
   ]
  },
  {
   "cell_type": "code",
   "execution_count": 148,
   "metadata": {
    "execution": {
     "iopub.execute_input": "2025-02-21T20:38:36.395903Z",
     "iopub.status.busy": "2025-02-21T20:38:36.395509Z",
     "iopub.status.idle": "2025-02-21T20:38:36.422585Z",
     "shell.execute_reply": "2025-02-21T20:38:36.421682Z",
     "shell.execute_reply.started": "2025-02-21T20:38:36.395864Z"
    }
   },
   "outputs": [],
   "source": [
    "# Removing the name column from both the train and test set\n",
    "train_df.drop(columns=['Name'],axis=1,inplace=True)\n",
    "test_df.drop(columns=['Name'],axis=1,inplace=True)"
   ]
  },
  {
   "cell_type": "markdown",
   "metadata": {},
   "source": [
    "# EDA"
   ]
  },
  {
   "cell_type": "markdown",
   "metadata": {},
   "source": [
    "## Null Values"
   ]
  },
  {
   "cell_type": "markdown",
   "metadata": {},
   "source": [
    "As you can see there are a lot of null values in the dataset for both train and test set, so lets figure out the reason for certain null values"
   ]
  },
  {
   "cell_type": "code",
   "execution_count": 149,
   "metadata": {
    "execution": {
     "iopub.execute_input": "2025-02-21T20:38:36.425658Z",
     "iopub.status.busy": "2025-02-21T20:38:36.425431Z",
     "iopub.status.idle": "2025-02-21T20:38:36.510967Z",
     "shell.execute_reply": "2025-02-21T20:38:36.510010Z",
     "shell.execute_reply.started": "2025-02-21T20:38:36.425639Z"
    }
   },
   "outputs": [
    {
     "data": {
      "text/plain": [
       "Gender                                        0\n",
       "Age                                           0\n",
       "City                                          0\n",
       "Working Professional or Student               0\n",
       "Profession                                36630\n",
       "Academic Pressure                        112803\n",
       "Work Pressure                             27918\n",
       "CGPA                                     112802\n",
       "Study Satisfaction                       112803\n",
       "Job Satisfaction                          27910\n",
       "Sleep Duration                                0\n",
       "Dietary Habits                                4\n",
       "Degree                                        2\n",
       "Have you ever had suicidal thoughts ?         0\n",
       "Work/Study Hours                              0\n",
       "Financial Stress                              4\n",
       "Family History of Mental Illness              0\n",
       "Depression                                    0\n",
       "dtype: int64"
      ]
     },
     "execution_count": 149,
     "metadata": {},
     "output_type": "execute_result"
    }
   ],
   "source": [
    "train_df.isna().sum()"
   ]
  },
  {
   "cell_type": "markdown",
   "metadata": {},
   "source": [
    "columns like `Profession` , `Academic Pressure` , `Work Pressure` , `CGPA` , `Study Satisfaction` , `Job Satisfaction` , `Sleep Duration` , `Dietary Habits`,  `Degree`  , `Financial Stress` => columns have actually null values in it inside the train set however we will have to compare them with the test set to possibly avoid any differences in the number of rows in the test set."
   ]
  },
  {
   "cell_type": "code",
   "execution_count": 150,
   "metadata": {
    "execution": {
     "iopub.execute_input": "2025-02-21T20:38:36.512929Z",
     "iopub.status.busy": "2025-02-21T20:38:36.512588Z",
     "iopub.status.idle": "2025-02-21T20:38:36.561705Z",
     "shell.execute_reply": "2025-02-21T20:38:36.560748Z",
     "shell.execute_reply.started": "2025-02-21T20:38:36.512904Z"
    }
   },
   "outputs": [
    {
     "data": {
      "text/plain": [
       "Gender                                       0\n",
       "Age                                          0\n",
       "City                                         0\n",
       "Working Professional or Student              0\n",
       "Profession                               24632\n",
       "Academic Pressure                        75033\n",
       "Work Pressure                            18778\n",
       "CGPA                                     75034\n",
       "Study Satisfaction                       75033\n",
       "Job Satisfaction                         18774\n",
       "Sleep Duration                               0\n",
       "Dietary Habits                               5\n",
       "Degree                                       2\n",
       "Have you ever had suicidal thoughts ?        0\n",
       "Work/Study Hours                             0\n",
       "Financial Stress                             0\n",
       "Family History of Mental Illness             0\n",
       "dtype: int64"
      ]
     },
     "execution_count": 150,
     "metadata": {},
     "output_type": "execute_result"
    }
   ],
   "source": [
    "test_df.isna().sum()"
   ]
  },
  {
   "cell_type": "markdown",
   "metadata": {},
   "source": [
    "* If there are no null values in the test set then we also ought not to keep the null valued rows inside the train set as well"
   ]
  },
  {
   "cell_type": "code",
   "execution_count": 151,
   "metadata": {
    "execution": {
     "iopub.execute_input": "2025-02-21T20:38:36.562980Z",
     "iopub.status.busy": "2025-02-21T20:38:36.562681Z",
     "iopub.status.idle": "2025-02-21T20:38:36.568887Z",
     "shell.execute_reply": "2025-02-21T20:38:36.567789Z",
     "shell.execute_reply.started": "2025-02-21T20:38:36.562955Z"
    }
   },
   "outputs": [
    {
     "data": {
      "text/plain": [
       "(140700, 18)"
      ]
     },
     "execution_count": 151,
     "metadata": {},
     "output_type": "execute_result"
    }
   ],
   "source": [
    "train_df.shape"
   ]
  },
  {
   "cell_type": "markdown",
   "metadata": {},
   "source": [
    "## Object Dtypes Catergorizing"
   ]
  },
  {
   "cell_type": "code",
   "execution_count": 152,
   "metadata": {
    "execution": {
     "iopub.execute_input": "2025-02-21T20:38:36.570517Z",
     "iopub.status.busy": "2025-02-21T20:38:36.570136Z",
     "iopub.status.idle": "2025-02-21T20:38:36.583971Z",
     "shell.execute_reply": "2025-02-21T20:38:36.582869Z",
     "shell.execute_reply.started": "2025-02-21T20:38:36.570487Z"
    }
   },
   "outputs": [],
   "source": [
    "# This functions primary role is to convert all the non-important categories in a series into 'other' category in the same series\n",
    "# the inputs we will include in this function will be series , a string to rename category\n",
    "# and this function will return the new series after categorizing the columns \n",
    "\n",
    "\n",
    "def unique_series_values( series ):    \n",
    "    new_dict_ser= {}\n",
    "    # if the below condition is true then only proceed else throw an error\n",
    "    if isinstance(series, pd.Series) :\n",
    "\n",
    "        # now we will check if the series is a object datatype or a number\n",
    "        if series.dtype == 'O':\n",
    "            # print(\"objects\")\n",
    "            new_series = series.copy()\n",
    "            unique_ls = new_series.unique()\n",
    "            for i in unique_ls:\n",
    "                if i in new_series.values :\n",
    "                    counts = new_series[new_series == i].count()\n",
    "                    # print(f\"item '{i}' occurences : {counts}\")\n",
    "                    new_dict_ser[i] = counts \n",
    "                else:\n",
    "                    print(\"!waiting!\")\n",
    "            \n",
    "        elif series.dtype==('float64' or 'int64'):\n",
    "            print(\"numbers\")\n",
    "\n",
    "        return new_dict_ser\n",
    "    else :\n",
    "        print(f\"The input element is either not a pd.Series OR a string\")\n",
    "\n",
    "def unwanted_series_names(dict_ser):\n",
    "    # Now when you have the final dictionary we will now evaluate the items \n",
    "    # not based on the values but based on the percentage that we will be converting the values into percentage\n",
    "    # and will only keep the desired percentages and rest of the minimal percentaged values are turned into 'others' category\n",
    "    \n",
    "    values_ls = np.array(list(dict_ser.values()))\n",
    "    \n",
    "    percen_ls = np.round((values_ls/np.sum(values_ls)*100),3)\n",
    "    \n",
    "    ser_percen_ls = {}\n",
    "    for key , val in zip(dict_ser.keys(),percen_ls):\n",
    "        # print(i,\"->\",train_df[train_df['City'] == i]['City'].count())\n",
    "        ser_percen_ls[key] = val\n",
    "\n",
    "    no_ls = []\n",
    "    a=0\n",
    "    for k , v in ser_percen_ls.items():\n",
    "        # print(f\"k = {k}, v= {v}\")\n",
    "        if v < 1:\n",
    "            a+=v\n",
    "            no_ls.append(k)\n",
    "    return no_ls\n",
    "\n",
    "def grouping_category(ls_unwanted , series, string):\n",
    "    if isinstance(ls_unwanted, list) and isinstance(series, pd.Series) and isinstance(string,str):\n",
    "        #print(\"proceed\")\n",
    "        for i, item in enumerate(series):\n",
    "            if item in ls_unwanted:\n",
    "                #print(i,True)\n",
    "                series.replace(item, string,inplace=True)\n",
    "        return series\n",
    "    else:\n",
    "        print(\"Not a valid list or series\")\n",
    "    # return pd.Series(categorized_series)\n",
    "\n"
   ]
  },
  {
   "cell_type": "markdown",
   "metadata": {},
   "source": [
    "Index([\n",
    "* 'Name', 'Gender', 'Age', 'City', 'Working Professional or Student',\n",
    "       'Profession', 'Academic Pressure', 'Work Pressure', 'CGPA',\n",
    "       'Study Satisfaction', 'Job Satisfaction', 'Sleep Duration',\n",
    "       'Dietary Habits', 'Degree', 'Have you ever had suicidal thoughts ?',\n",
    "       'Work/Study Hours', 'Financial Stress',\n",
    "       'Family History of Mental Illness', 'Depression'],\n",
    "      dtype='object')"
   ]
  },
  {
   "cell_type": "code",
   "execution_count": 153,
   "metadata": {
    "execution": {
     "iopub.execute_input": "2025-02-21T20:38:36.585348Z",
     "iopub.status.busy": "2025-02-21T20:38:36.585029Z",
     "iopub.status.idle": "2025-02-21T20:38:36.643133Z",
     "shell.execute_reply": "2025-02-21T20:38:36.642125Z",
     "shell.execute_reply.started": "2025-02-21T20:38:36.585324Z"
    }
   },
   "outputs": [
    {
     "data": {
      "text/html": [
       "<div>\n",
       "<style scoped>\n",
       "    .dataframe tbody tr th:only-of-type {\n",
       "        vertical-align: middle;\n",
       "    }\n",
       "\n",
       "    .dataframe tbody tr th {\n",
       "        vertical-align: top;\n",
       "    }\n",
       "\n",
       "    .dataframe thead th {\n",
       "        text-align: right;\n",
       "    }\n",
       "</style>\n",
       "<table border=\"1\" class=\"dataframe\">\n",
       "  <thead>\n",
       "    <tr style=\"text-align: right;\">\n",
       "      <th></th>\n",
       "      <th>Gender</th>\n",
       "      <th>City</th>\n",
       "      <th>Working Professional or Student</th>\n",
       "      <th>Profession</th>\n",
       "      <th>Sleep Duration</th>\n",
       "      <th>Dietary Habits</th>\n",
       "      <th>Degree</th>\n",
       "      <th>Have you ever had suicidal thoughts ?</th>\n",
       "      <th>Family History of Mental Illness</th>\n",
       "    </tr>\n",
       "    <tr>\n",
       "      <th>id</th>\n",
       "      <th></th>\n",
       "      <th></th>\n",
       "      <th></th>\n",
       "      <th></th>\n",
       "      <th></th>\n",
       "      <th></th>\n",
       "      <th></th>\n",
       "      <th></th>\n",
       "      <th></th>\n",
       "    </tr>\n",
       "  </thead>\n",
       "  <tbody>\n",
       "    <tr>\n",
       "      <th>0</th>\n",
       "      <td>Female</td>\n",
       "      <td>Ludhiana</td>\n",
       "      <td>Working Professional</td>\n",
       "      <td>Chef</td>\n",
       "      <td>More than 8 hours</td>\n",
       "      <td>Healthy</td>\n",
       "      <td>BHM</td>\n",
       "      <td>No</td>\n",
       "      <td>No</td>\n",
       "    </tr>\n",
       "    <tr>\n",
       "      <th>1</th>\n",
       "      <td>Male</td>\n",
       "      <td>Varanasi</td>\n",
       "      <td>Working Professional</td>\n",
       "      <td>Teacher</td>\n",
       "      <td>Less than 5 hours</td>\n",
       "      <td>Unhealthy</td>\n",
       "      <td>LLB</td>\n",
       "      <td>Yes</td>\n",
       "      <td>No</td>\n",
       "    </tr>\n",
       "    <tr>\n",
       "      <th>2</th>\n",
       "      <td>Male</td>\n",
       "      <td>Visakhapatnam</td>\n",
       "      <td>Student</td>\n",
       "      <td>NaN</td>\n",
       "      <td>5-6 hours</td>\n",
       "      <td>Healthy</td>\n",
       "      <td>B.Pharm</td>\n",
       "      <td>Yes</td>\n",
       "      <td>No</td>\n",
       "    </tr>\n",
       "    <tr>\n",
       "      <th>3</th>\n",
       "      <td>Male</td>\n",
       "      <td>Mumbai</td>\n",
       "      <td>Working Professional</td>\n",
       "      <td>Teacher</td>\n",
       "      <td>Less than 5 hours</td>\n",
       "      <td>Moderate</td>\n",
       "      <td>BBA</td>\n",
       "      <td>Yes</td>\n",
       "      <td>Yes</td>\n",
       "    </tr>\n",
       "    <tr>\n",
       "      <th>4</th>\n",
       "      <td>Female</td>\n",
       "      <td>Kanpur</td>\n",
       "      <td>Working Professional</td>\n",
       "      <td>Business Analyst</td>\n",
       "      <td>5-6 hours</td>\n",
       "      <td>Unhealthy</td>\n",
       "      <td>BBA</td>\n",
       "      <td>Yes</td>\n",
       "      <td>Yes</td>\n",
       "    </tr>\n",
       "    <tr>\n",
       "      <th>...</th>\n",
       "      <td>...</td>\n",
       "      <td>...</td>\n",
       "      <td>...</td>\n",
       "      <td>...</td>\n",
       "      <td>...</td>\n",
       "      <td>...</td>\n",
       "      <td>...</td>\n",
       "      <td>...</td>\n",
       "      <td>...</td>\n",
       "    </tr>\n",
       "    <tr>\n",
       "      <th>140695</th>\n",
       "      <td>Female</td>\n",
       "      <td>Ahmedabad</td>\n",
       "      <td>Working Professional</td>\n",
       "      <td>NaN</td>\n",
       "      <td>5-6 hours</td>\n",
       "      <td>Unhealthy</td>\n",
       "      <td>Class 12</td>\n",
       "      <td>No</td>\n",
       "      <td>Yes</td>\n",
       "    </tr>\n",
       "    <tr>\n",
       "      <th>140696</th>\n",
       "      <td>Female</td>\n",
       "      <td>Hyderabad</td>\n",
       "      <td>Working Professional</td>\n",
       "      <td>Content Writer</td>\n",
       "      <td>7-8 hours</td>\n",
       "      <td>Moderate</td>\n",
       "      <td>B.Tech</td>\n",
       "      <td>Yes</td>\n",
       "      <td>Yes</td>\n",
       "    </tr>\n",
       "    <tr>\n",
       "      <th>140697</th>\n",
       "      <td>Female</td>\n",
       "      <td>Kolkata</td>\n",
       "      <td>Working Professional</td>\n",
       "      <td>Marketing Manager</td>\n",
       "      <td>More than 8 hours</td>\n",
       "      <td>Moderate</td>\n",
       "      <td>B.Com</td>\n",
       "      <td>No</td>\n",
       "      <td>No</td>\n",
       "    </tr>\n",
       "    <tr>\n",
       "      <th>140698</th>\n",
       "      <td>Female</td>\n",
       "      <td>Srinagar</td>\n",
       "      <td>Working Professional</td>\n",
       "      <td>Plumber</td>\n",
       "      <td>5-6 hours</td>\n",
       "      <td>Moderate</td>\n",
       "      <td>ME</td>\n",
       "      <td>Yes</td>\n",
       "      <td>No</td>\n",
       "    </tr>\n",
       "    <tr>\n",
       "      <th>140699</th>\n",
       "      <td>Male</td>\n",
       "      <td>Patna</td>\n",
       "      <td>Student</td>\n",
       "      <td>NaN</td>\n",
       "      <td>Less than 5 hours</td>\n",
       "      <td>Healthy</td>\n",
       "      <td>BCA</td>\n",
       "      <td>Yes</td>\n",
       "      <td>Yes</td>\n",
       "    </tr>\n",
       "  </tbody>\n",
       "</table>\n",
       "<p>140700 rows × 9 columns</p>\n",
       "</div>"
      ],
      "text/plain": [
       "        Gender           City Working Professional or Student  \\\n",
       "id                                                              \n",
       "0       Female       Ludhiana            Working Professional   \n",
       "1         Male       Varanasi            Working Professional   \n",
       "2         Male  Visakhapatnam                         Student   \n",
       "3         Male         Mumbai            Working Professional   \n",
       "4       Female         Kanpur            Working Professional   \n",
       "...        ...            ...                             ...   \n",
       "140695  Female      Ahmedabad            Working Professional   \n",
       "140696  Female      Hyderabad            Working Professional   \n",
       "140697  Female        Kolkata            Working Professional   \n",
       "140698  Female       Srinagar            Working Professional   \n",
       "140699    Male          Patna                         Student   \n",
       "\n",
       "               Profession     Sleep Duration Dietary Habits    Degree  \\\n",
       "id                                                                      \n",
       "0                    Chef  More than 8 hours        Healthy       BHM   \n",
       "1                 Teacher  Less than 5 hours      Unhealthy       LLB   \n",
       "2                     NaN          5-6 hours        Healthy   B.Pharm   \n",
       "3                 Teacher  Less than 5 hours       Moderate       BBA   \n",
       "4        Business Analyst          5-6 hours      Unhealthy       BBA   \n",
       "...                   ...                ...            ...       ...   \n",
       "140695                NaN          5-6 hours      Unhealthy  Class 12   \n",
       "140696     Content Writer          7-8 hours       Moderate    B.Tech   \n",
       "140697  Marketing Manager  More than 8 hours       Moderate     B.Com   \n",
       "140698            Plumber          5-6 hours       Moderate        ME   \n",
       "140699                NaN  Less than 5 hours        Healthy       BCA   \n",
       "\n",
       "       Have you ever had suicidal thoughts ? Family History of Mental Illness  \n",
       "id                                                                             \n",
       "0                                         No                               No  \n",
       "1                                        Yes                               No  \n",
       "2                                        Yes                               No  \n",
       "3                                        Yes                              Yes  \n",
       "4                                        Yes                              Yes  \n",
       "...                                      ...                              ...  \n",
       "140695                                    No                              Yes  \n",
       "140696                                   Yes                              Yes  \n",
       "140697                                    No                               No  \n",
       "140698                                   Yes                               No  \n",
       "140699                                   Yes                              Yes  \n",
       "\n",
       "[140700 rows x 9 columns]"
      ]
     },
     "execution_count": 153,
     "metadata": {},
     "output_type": "execute_result"
    }
   ],
   "source": [
    "train_df[train_df.columns].select_dtypes(include=['object'])"
   ]
  },
  {
   "cell_type": "markdown",
   "metadata": {},
   "source": [
    "From the above we will initially deal with the `City` , `Profession` , `Sleep Duration`, `Dietary Habits` , `Degree` columns and then will proceed to the next step"
   ]
  },
  {
   "cell_type": "markdown",
   "metadata": {},
   "source": [
    "## City Column Filtering"
   ]
  },
  {
   "cell_type": "code",
   "execution_count": 154,
   "metadata": {
    "execution": {
     "iopub.execute_input": "2025-02-21T20:38:36.644342Z",
     "iopub.status.busy": "2025-02-21T20:38:36.644060Z",
     "iopub.status.idle": "2025-02-21T20:38:36.648139Z",
     "shell.execute_reply": "2025-02-21T20:38:36.647108Z",
     "shell.execute_reply.started": "2025-02-21T20:38:36.644320Z"
    }
   },
   "outputs": [],
   "source": [
    "# city_ls = list(train_df[\"City\"].unique())\n",
    "# city_unique_ls = {}\n",
    "# for i in city_ls:\n",
    "#     # print(i,\"->\",train_df[train_df['City'] == i]['City'].count())\n",
    "#     city_unique_ls[i] = train_df[train_df['City'] == i]['City'].count()\n",
    "\n",
    "# values_ls = np.array(list(city_unique_ls.values()))\n",
    "\n",
    "# percen_ls = np.round((values_ls/np.sum(values_ls)*100),3)\n",
    "\n",
    "# city_percen_ls = {}\n",
    "# for key , val in zip(city_ls,percen_ls):\n",
    "#     # print(i,\"->\",train_df[train_df['City'] == i]['City'].count())\n",
    "#     city_percen_ls[key] = val\n",
    "\n",
    "# print(city_percen_ls)\n",
    "\n",
    "# categorized_city_ls = {}\n",
    "# a=0\n",
    "# no_ls = []\n",
    "# for k , v in city_percen_ls.items():\n",
    "#     # print(f\"k = {k}, v= {v}\")\n",
    "#     if v < 1:\n",
    "#         a+=v\n",
    "#         categorized_city_ls['others']=a\n",
    "#         no_ls.append(k)\n",
    "#     else :\n",
    "#         categorized_city_ls[k] = v\n",
    "\n",
    "# print(categorized_city_ls)\n",
    "# print(\"--------------------------------------------\")\n",
    "# print(no_ls)"
   ]
  },
  {
   "cell_type": "markdown",
   "metadata": {},
   "source": [
    "#### Train Set"
   ]
  },
  {
   "cell_type": "code",
   "execution_count": 155,
   "metadata": {
    "execution": {
     "iopub.execute_input": "2025-02-21T20:38:36.649380Z",
     "iopub.status.busy": "2025-02-21T20:38:36.649077Z",
     "iopub.status.idle": "2025-02-21T20:38:38.629903Z",
     "shell.execute_reply": "2025-02-21T20:38:38.629157Z",
     "shell.execute_reply.started": "2025-02-21T20:38:36.649348Z"
    }
   },
   "outputs": [
    {
     "name": "stdout",
     "output_type": "stream",
     "text": [
      "<class 'dict'>\n",
      "{'Ludhiana': 5226, 'Varanasi': 4606, 'Visakhapatnam': 5176, 'Mumbai': 4966, 'Kanpur': 4398, 'Ahmedabad': 5613, 'Thane': 4289, 'Nashik': 3144, 'Bangalore': 4123, 'Patna': 5924, 'Rajkot': 5207, 'Jaipur': 4328, 'Pune': 5210, 'Lucknow': 4280, 'Meerut': 5528, 'Agra': 4684, 'Surat': 4636, 'Faridabad': 3268, 'Hyderabad': 4496, 'Srinagar': 5074, 'Ghaziabad': 3620, 'Kolkata': 5689, 'Chennai': 4044, 'Kalyan': 6591, 'Nagpur': 4209, 'Vadodara': 4568, 'Vasai-Virar': 5765, 'Delhi': 3593, 'Bhopal': 3475, 'Indore': 4872, 'Ishanabad': 1, 'Vidhi': 1, 'Ayush': 2, 'Gurgaon': 1, 'Krishna': 1, 'Aishwarya': 1, 'Keshav': 2, 'Harsha': 3, 'Nalini': 2, 'Aditya': 1, 'Malyansh': 1, 'Raghavendra': 1, 'Saanvi': 3, 'M.Tech': 1, 'Bhavna': 3, 'Less Delhi': 1, 'Nandini': 4, 'M.Com': 2, 'Plata': 1, 'Atharv': 2, 'Pratyush': 3, 'City': 3, '3.0': 1, 'Less than 5 Kalyan': 1, 'MCA': 2, 'Mira': 1, 'Moreadhyay': 1, 'Morena': 1, 'Ishkarsh': 1, 'Kashk': 1, 'Mihir': 7, 'Vidya': 3, 'Tolkata': 1, 'Anvi': 1, 'Krinda': 1, 'Ayansh': 1, 'Shrey': 1, 'Ivaan': 1, 'Vaanya': 1, 'Gaurav': 1, 'Harsh': 1, 'Reyansh': 1, 'Kashish': 1, 'Kibara': 1, 'Vaishnavi': 1, 'Chhavi': 1, 'Parth': 1, 'Mahi': 3, 'Tushar': 1, 'MSc': 1, 'No': 1, 'Rashi': 1, 'ME': 1, 'Molkata': 2, 'Researcher': 1, 'Kagan': 1, 'Armaan': 1, 'Ithal': 1, 'Nalyan': 1, 'Dhruv': 1, 'Galesabad': 1, 'Itheg': 1, 'Aaradhya': 1, 'Pooja': 1, 'Khushi': 1, 'Khaziabad': 1, 'Jhanvi': 1, 'Unirar': 1}\n",
      "************************************************************\n",
      "<class 'list'>\n",
      "['Ishanabad', 'Vidhi', 'Ayush', 'Gurgaon', 'Krishna', 'Aishwarya', 'Keshav', 'Harsha', 'Nalini', 'Aditya', 'Malyansh', 'Raghavendra', 'Saanvi', 'M.Tech', 'Bhavna', 'Less Delhi', 'Nandini', 'M.Com', 'Plata', 'Atharv', 'Pratyush', 'City', '3.0', 'Less than 5 Kalyan', 'MCA', 'Mira', 'Moreadhyay', 'Morena', 'Ishkarsh', 'Kashk', 'Mihir', 'Vidya', 'Tolkata', 'Anvi', 'Krinda', 'Ayansh', 'Shrey', 'Ivaan', 'Vaanya', 'Gaurav', 'Harsh', 'Reyansh', 'Kashish', 'Kibara', 'Vaishnavi', 'Chhavi', 'Parth', 'Mahi', 'Tushar', 'MSc', 'No', 'Rashi', 'ME', 'Molkata', 'Researcher', 'Kagan', 'Armaan', 'Ithal', 'Nalyan', 'Dhruv', 'Galesabad', 'Itheg', 'Aaradhya', 'Pooja', 'Khushi', 'Khaziabad', 'Jhanvi', 'Unirar']\n",
      "************************************************************\n",
      "<class 'pandas.core.series.Series'>\n",
      "id\n",
      "0              Ludhiana\n",
      "1              Varanasi\n",
      "2         Visakhapatnam\n",
      "3                Mumbai\n",
      "4                Kanpur\n",
      "              ...      \n",
      "140695        Ahmedabad\n",
      "140696        Hyderabad\n",
      "140697          Kolkata\n",
      "140698         Srinagar\n",
      "140699            Patna\n",
      "Name: City, Length: 140700, dtype: object\n",
      "************************************************************\n"
     ]
    }
   ],
   "source": [
    "# train set\n",
    "\n",
    "unique_city_names_dict = unique_series_values(train_df['City'])\n",
    "print(type(unique_city_names_dict))\n",
    "print(unique_city_names_dict)\n",
    "print(\"************************************************************\")\n",
    "unwanted_city_names = unwanted_series_names(unique_city_names_dict)\n",
    "print(type(unwanted_city_names))\n",
    "print(unwanted_city_names)\n",
    "print(\"************************************************************\")\n",
    "new_city_col = grouping_category(unwanted_city_names , train_df['City'], \"Others\")\n",
    "print(type(new_city_col))\n",
    "print(new_city_col)\n",
    "print(\"************************************************************\")\n"
   ]
  },
  {
   "cell_type": "code",
   "execution_count": 156,
   "metadata": {
    "execution": {
     "iopub.execute_input": "2025-02-21T20:38:38.631013Z",
     "iopub.status.busy": "2025-02-21T20:38:38.630720Z",
     "iopub.status.idle": "2025-02-21T20:38:39.031195Z",
     "shell.execute_reply": "2025-02-21T20:38:39.030346Z",
     "shell.execute_reply.started": "2025-02-21T20:38:38.630992Z"
    },
    "jupyter": {
     "source_hidden": true
    }
   },
   "outputs": [
    {
     "name": "stdout",
     "output_type": "stream",
     "text": [
      "{'Ludhiana': 5226, 'Varanasi': 4606, 'Visakhapatnam': 5176, 'Mumbai': 4966, 'Kanpur': 4398, 'Ahmedabad': 5613, 'Thane': 4289, 'Nashik': 3144, 'Bangalore': 4123, 'Patna': 5924, 'Rajkot': 5207, 'Jaipur': 4328, 'Pune': 5210, 'Lucknow': 4280, 'Meerut': 5528, 'Agra': 4684, 'Surat': 4636, 'Faridabad': 3268, 'Hyderabad': 4496, 'Srinagar': 5074, 'Ghaziabad': 3620, 'Kolkata': 5689, 'Chennai': 4044, 'Kalyan': 6591, 'Nagpur': 4209, 'Vadodara': 4568, 'Vasai-Virar': 5765, 'Delhi': 3593, 'Bhopal': 3475, 'Indore': 4872, 'Others': 98}\n"
     ]
    }
   ],
   "source": [
    "testing_city_train_col = unique_series_values(new_city_col)\n",
    "print(testing_city_train_col)\n"
   ]
  },
  {
   "cell_type": "code",
   "execution_count": 157,
   "metadata": {
    "execution": {
     "iopub.execute_input": "2025-02-21T20:38:39.032539Z",
     "iopub.status.busy": "2025-02-21T20:38:39.032131Z",
     "iopub.status.idle": "2025-02-21T20:38:39.037188Z",
     "shell.execute_reply": "2025-02-21T20:38:39.036359Z",
     "shell.execute_reply.started": "2025-02-21T20:38:39.032456Z"
    }
   },
   "outputs": [],
   "source": [
    "train_df['City'] = new_city_col"
   ]
  },
  {
   "cell_type": "markdown",
   "metadata": {},
   "source": [
    "### Test Set"
   ]
  },
  {
   "cell_type": "code",
   "execution_count": 158,
   "metadata": {
    "execution": {
     "iopub.execute_input": "2025-02-21T20:38:39.038553Z",
     "iopub.status.busy": "2025-02-21T20:38:39.038186Z",
     "iopub.status.idle": "2025-02-21T20:38:39.910083Z",
     "shell.execute_reply": "2025-02-21T20:38:39.909189Z",
     "shell.execute_reply.started": "2025-02-21T20:38:39.038516Z"
    }
   },
   "outputs": [
    {
     "name": "stdout",
     "output_type": "stream",
     "text": [
      "<class 'dict'>\n",
      "{'Visakhapatnam': 3416, 'Kolkata': 3726, 'Jaipur': 2874, 'Rajkot': 3450, 'Kalyan': 4387, 'Mumbai': 3129, 'Surat': 3090, 'Srinagar': 3547, 'Delhi': 2536, 'Lucknow': 2860, 'Thane': 2835, 'Meerut': 3661, 'Nagpur': 2748, 'Ghaziabad': 2486, 'Chennai': 2674, 'Varanasi': 3052, 'Indore': 3040, 'Pune': 3318, 'Hyderabad': 3123, 'Kanpur': 2978, 'Nashik': 2182, 'Bhopal': 2370, 'Faridabad': 2196, 'Bangalore': 2707, 'Vasai-Virar': 3897, 'Ludhiana': 3545, 'Patna': 3888, 'Vadodara': 3169, 'Ahmedabad': 3677, 'Agra': 3189, 'Malyan': 1, 'Pratyush': 1, 'Vidya': 4, 'Less than 5 hours': 1, 'Aditi': 1, 'Keshav': 2, 'Nalini': 2, 'Mhopal': 1, 'Avni': 1, 'Ira': 1, 'Vaishnavi': 1, 'Bhavna': 3, 'Lawyer': 1, 'Thani': 1, 'Hrithik': 2, 'City': 2, 'Unaly': 1, 'Is Kanpur': 1, 'Golkata': 1, 'Less Delhi': 1, 'Sara': 1, 'Saurav': 1, 'Vikram': 2, 'Parth': 1, 'Siddhesh': 3, 'Vaikot': 1, 'Leela': 1, 'Chemist': 1, 'San Vasai-Virar': 1, 'No': 1, 'More Delhi': 1, 'Saanvi': 1, 'Pratham': 1, 'Vidhi': 1, 'Abhinav': 1, 'Rolkata': 1, 'Ghopal': 1, 'No.12': 1}\n",
      "************************************************************\n",
      "<class 'list'>\n",
      "['Malyan', 'Pratyush', 'Vidya', 'Less than 5 hours', 'Aditi', 'Keshav', 'Nalini', 'Mhopal', 'Avni', 'Ira', 'Vaishnavi', 'Bhavna', 'Lawyer', 'Thani', 'Hrithik', 'City', 'Unaly', 'Is Kanpur', 'Golkata', 'Less Delhi', 'Sara', 'Saurav', 'Vikram', 'Parth', 'Siddhesh', 'Vaikot', 'Leela', 'Chemist', 'San Vasai-Virar', 'No', 'More Delhi', 'Saanvi', 'Pratham', 'Vidhi', 'Abhinav', 'Rolkata', 'Ghopal', 'No.12']\n",
      "************************************************************\n",
      "<class 'pandas.core.series.Series'>\n",
      "id\n",
      "140700    Visakhapatnam\n",
      "140701          Kolkata\n",
      "140702           Jaipur\n",
      "140703           Rajkot\n",
      "140704           Kalyan\n",
      "              ...      \n",
      "234495           Jaipur\n",
      "234496        Ahmedabad\n",
      "234497    Visakhapatnam\n",
      "234498           Kalyan\n",
      "234499         Varanasi\n",
      "Name: City, Length: 93800, dtype: object\n",
      "************************************************************\n"
     ]
    }
   ],
   "source": [
    "# train set\n",
    "\n",
    "unique_city_names_dict_test_df = unique_series_values(test_df['City'])\n",
    "print(type(unique_city_names_dict_test_df))\n",
    "print(unique_city_names_dict_test_df)\n",
    "print(\"************************************************************\")\n",
    "unwanted_city_names_test_df = unwanted_series_names(unique_city_names_dict_test_df)\n",
    "print(type(unwanted_city_names_test_df))\n",
    "print(unwanted_city_names_test_df)\n",
    "print(\"************************************************************\")\n",
    "new_city_col_test_df = grouping_category(unwanted_city_names_test_df , test_df['City'], \"Others\")\n",
    "print(type(new_city_col_test_df))\n",
    "print(new_city_col_test_df)\n",
    "print(\"************************************************************\")\n"
   ]
  },
  {
   "cell_type": "code",
   "execution_count": 159,
   "metadata": {
    "execution": {
     "iopub.execute_input": "2025-02-21T20:38:39.911115Z",
     "iopub.status.busy": "2025-02-21T20:38:39.910881Z",
     "iopub.status.idle": "2025-02-21T20:38:40.183144Z",
     "shell.execute_reply": "2025-02-21T20:38:40.182396Z",
     "shell.execute_reply.started": "2025-02-21T20:38:39.911096Z"
    }
   },
   "outputs": [
    {
     "name": "stdout",
     "output_type": "stream",
     "text": [
      "{'Visakhapatnam': 3416, 'Kolkata': 3726, 'Jaipur': 2874, 'Rajkot': 3450, 'Kalyan': 4387, 'Mumbai': 3129, 'Surat': 3090, 'Srinagar': 3547, 'Delhi': 2536, 'Lucknow': 2860, 'Thane': 2835, 'Meerut': 3661, 'Nagpur': 2748, 'Ghaziabad': 2486, 'Chennai': 2674, 'Varanasi': 3052, 'Indore': 3040, 'Pune': 3318, 'Hyderabad': 3123, 'Kanpur': 2978, 'Nashik': 2182, 'Bhopal': 2370, 'Faridabad': 2196, 'Bangalore': 2707, 'Vasai-Virar': 3897, 'Ludhiana': 3545, 'Patna': 3888, 'Vadodara': 3169, 'Ahmedabad': 3677, 'Agra': 3189, 'Others': 50}\n"
     ]
    }
   ],
   "source": [
    "testing_city_test_col = unique_series_values(new_city_col_test_df)\n",
    "print(testing_city_test_col)"
   ]
  },
  {
   "cell_type": "code",
   "execution_count": 160,
   "metadata": {
    "execution": {
     "iopub.execute_input": "2025-02-21T20:38:40.184136Z",
     "iopub.status.busy": "2025-02-21T20:38:40.183925Z",
     "iopub.status.idle": "2025-02-21T20:38:40.188919Z",
     "shell.execute_reply": "2025-02-21T20:38:40.187874Z",
     "shell.execute_reply.started": "2025-02-21T20:38:40.184118Z"
    }
   },
   "outputs": [],
   "source": [
    "test_df['City'] = new_city_col_test_df"
   ]
  },
  {
   "cell_type": "code",
   "execution_count": 161,
   "metadata": {
    "execution": {
     "iopub.execute_input": "2025-02-21T20:38:40.190165Z",
     "iopub.status.busy": "2025-02-21T20:38:40.189851Z",
     "iopub.status.idle": "2025-02-21T20:38:40.210308Z",
     "shell.execute_reply": "2025-02-21T20:38:40.209393Z",
     "shell.execute_reply.started": "2025-02-21T20:38:40.190134Z"
    }
   },
   "outputs": [
    {
     "data": {
      "text/plain": [
       "array(['Visakhapatnam', 'Kolkata', 'Jaipur', 'Rajkot', 'Kalyan', 'Mumbai',\n",
       "       'Surat', 'Srinagar', 'Delhi', 'Lucknow', 'Thane', 'Meerut',\n",
       "       'Nagpur', 'Ghaziabad', 'Chennai', 'Varanasi', 'Indore', 'Pune',\n",
       "       'Hyderabad', 'Kanpur', 'Nashik', 'Bhopal', 'Faridabad',\n",
       "       'Bangalore', 'Vasai-Virar', 'Ludhiana', 'Patna', 'Vadodara',\n",
       "       'Ahmedabad', 'Agra', 'Others'], dtype=object)"
      ]
     },
     "execution_count": 161,
     "metadata": {},
     "output_type": "execute_result"
    }
   ],
   "source": [
    "test_df['City'].unique()"
   ]
  },
  {
   "cell_type": "markdown",
   "metadata": {},
   "source": [
    "## Profession Column Filtering"
   ]
  },
  {
   "cell_type": "markdown",
   "metadata": {},
   "source": [
    "### Train Set"
   ]
  },
  {
   "cell_type": "code",
   "execution_count": 162,
   "metadata": {
    "execution": {
     "iopub.execute_input": "2025-02-21T20:38:40.211577Z",
     "iopub.status.busy": "2025-02-21T20:38:40.211241Z",
     "iopub.status.idle": "2025-02-21T20:38:40.226817Z",
     "shell.execute_reply": "2025-02-21T20:38:40.225960Z",
     "shell.execute_reply.started": "2025-02-21T20:38:40.211546Z"
    }
   },
   "outputs": [
    {
     "data": {
      "text/plain": [
       "36630"
      ]
     },
     "execution_count": 162,
     "metadata": {},
     "output_type": "execute_result"
    }
   ],
   "source": [
    "train_df['Profession'].isna().sum()"
   ]
  },
  {
   "cell_type": "code",
   "execution_count": 163,
   "metadata": {
    "execution": {
     "iopub.execute_input": "2025-02-21T20:38:40.228346Z",
     "iopub.status.busy": "2025-02-21T20:38:40.228018Z",
     "iopub.status.idle": "2025-02-21T20:38:40.255592Z",
     "shell.execute_reply": "2025-02-21T20:38:40.254672Z",
     "shell.execute_reply.started": "2025-02-21T20:38:40.228324Z"
    }
   },
   "outputs": [
    {
     "data": {
      "text/plain": [
       "34"
      ]
     },
     "execution_count": 163,
     "metadata": {},
     "output_type": "execute_result"
    }
   ],
   "source": [
    "train_df[(train_df['Working Professional or Student'] == 'Student')]['Profession'].count()"
   ]
  },
  {
   "cell_type": "code",
   "execution_count": 164,
   "metadata": {
    "execution": {
     "iopub.execute_input": "2025-02-21T20:38:40.260543Z",
     "iopub.status.busy": "2025-02-21T20:38:40.260290Z",
     "iopub.status.idle": "2025-02-21T20:38:40.289740Z",
     "shell.execute_reply": "2025-02-21T20:38:40.289031Z",
     "shell.execute_reply.started": "2025-02-21T20:38:40.260522Z"
    }
   },
   "outputs": [],
   "source": [
    "train_df.loc[train_df['Working Professional or Student'] == 'Student', 'Profession'] = train_df.loc[train_df['Working Professional or Student'] == 'Student', 'Profession'].fillna(\"Student\")\n"
   ]
  },
  {
   "cell_type": "code",
   "execution_count": 165,
   "metadata": {
    "execution": {
     "iopub.execute_input": "2025-02-21T20:38:40.292296Z",
     "iopub.status.busy": "2025-02-21T20:38:40.292070Z",
     "iopub.status.idle": "2025-02-21T20:38:40.303401Z",
     "shell.execute_reply": "2025-02-21T20:38:40.302511Z",
     "shell.execute_reply.started": "2025-02-21T20:38:40.292278Z"
    }
   },
   "outputs": [
    {
     "data": {
      "text/plain": [
       "8763"
      ]
     },
     "execution_count": 165,
     "metadata": {},
     "output_type": "execute_result"
    }
   ],
   "source": [
    "train_df['Profession'].isna().sum()"
   ]
  },
  {
   "cell_type": "code",
   "execution_count": 166,
   "metadata": {
    "execution": {
     "iopub.execute_input": "2025-02-21T20:38:40.304842Z",
     "iopub.status.busy": "2025-02-21T20:38:40.304484Z",
     "iopub.status.idle": "2025-02-21T20:38:40.326021Z",
     "shell.execute_reply": "2025-02-21T20:38:40.325049Z",
     "shell.execute_reply.started": "2025-02-21T20:38:40.304808Z"
    }
   },
   "outputs": [],
   "source": [
    "train_df.loc[train_df['Work Pressure'].isna(), 'Profession'] = train_df.loc[train_df['Work Pressure'].isna(), 'Profession'].fillna(\"Student\")\n"
   ]
  },
  {
   "cell_type": "code",
   "execution_count": 167,
   "metadata": {
    "execution": {
     "iopub.execute_input": "2025-02-21T20:38:40.327273Z",
     "iopub.status.busy": "2025-02-21T20:38:40.326977Z",
     "iopub.status.idle": "2025-02-21T20:38:40.338533Z",
     "shell.execute_reply": "2025-02-21T20:38:40.337830Z",
     "shell.execute_reply.started": "2025-02-21T20:38:40.327240Z"
    }
   },
   "outputs": [
    {
     "data": {
      "text/plain": [
       "8745"
      ]
     },
     "execution_count": 167,
     "metadata": {},
     "output_type": "execute_result"
    }
   ],
   "source": [
    "train_df['Profession'].isna().sum()"
   ]
  },
  {
   "cell_type": "code",
   "execution_count": 168,
   "metadata": {
    "execution": {
     "iopub.execute_input": "2025-02-21T20:38:40.339788Z",
     "iopub.status.busy": "2025-02-21T20:38:40.339464Z",
     "iopub.status.idle": "2025-02-21T20:38:40.359360Z",
     "shell.execute_reply": "2025-02-21T20:38:40.358659Z",
     "shell.execute_reply.started": "2025-02-21T20:38:40.339740Z"
    }
   },
   "outputs": [],
   "source": [
    "train_df.loc[train_df['Job Satisfaction'].isna(), 'Profession'] = train_df.loc[train_df['Job Satisfaction'].isna(), 'Profession'].fillna(\"Student\")\n"
   ]
  },
  {
   "cell_type": "code",
   "execution_count": 169,
   "metadata": {
    "execution": {
     "iopub.execute_input": "2025-02-21T20:38:40.360468Z",
     "iopub.status.busy": "2025-02-21T20:38:40.360175Z",
     "iopub.status.idle": "2025-02-21T20:38:40.371511Z",
     "shell.execute_reply": "2025-02-21T20:38:40.370795Z",
     "shell.execute_reply.started": "2025-02-21T20:38:40.360429Z"
    }
   },
   "outputs": [
    {
     "data": {
      "text/plain": [
       "8740"
      ]
     },
     "execution_count": 169,
     "metadata": {},
     "output_type": "execute_result"
    }
   ],
   "source": [
    "train_df['Profession'].isna().sum()"
   ]
  },
  {
   "cell_type": "code",
   "execution_count": 170,
   "metadata": {
    "execution": {
     "iopub.execute_input": "2025-02-21T20:38:40.372574Z",
     "iopub.status.busy": "2025-02-21T20:38:40.372263Z",
     "iopub.status.idle": "2025-02-21T20:38:41.486384Z",
     "shell.execute_reply": "2025-02-21T20:38:41.485608Z",
     "shell.execute_reply.started": "2025-02-21T20:38:40.372539Z"
    }
   },
   "outputs": [
    {
     "name": "stdout",
     "output_type": "stream",
     "text": [
      "!waiting!\n",
      "<class 'pandas.core.series.Series'>\n",
      "id\n",
      "0                      Chef\n",
      "1                   Teacher\n",
      "2                   Student\n",
      "3                   Teacher\n",
      "4          Business Analyst\n",
      "                ...        \n",
      "140695                  NaN\n",
      "140696       Content Writer\n",
      "140697    Marketing Manager\n",
      "140698              Plumber\n",
      "140699              Student\n",
      "Name: Profession, Length: 140700, dtype: object\n"
     ]
    }
   ],
   "source": [
    "# assigning the profession column \n",
    "train_set_profession = unique_series_values(train_df['Profession'])\n",
    "\n",
    "# valuating the unwanted columns\n",
    "unwanted_profession_ls = unwanted_series_names(train_set_profession)\n",
    "\n",
    "# categorizing the column with the other category\n",
    "new_profession_col = grouping_category(unwanted_profession_ls , train_df['Profession'], \"Others\")\n",
    "print(type(new_profession_col))\n",
    "print(new_profession_col)"
   ]
  },
  {
   "cell_type": "code",
   "execution_count": 171,
   "metadata": {
    "execution": {
     "iopub.execute_input": "2025-02-21T20:38:41.487510Z",
     "iopub.status.busy": "2025-02-21T20:38:41.487185Z",
     "iopub.status.idle": "2025-02-21T20:38:41.497035Z",
     "shell.execute_reply": "2025-02-21T20:38:41.496031Z",
     "shell.execute_reply.started": "2025-02-21T20:38:41.487480Z"
    }
   },
   "outputs": [
    {
     "data": {
      "text/plain": [
       "33"
      ]
     },
     "execution_count": 171,
     "metadata": {},
     "output_type": "execute_result"
    }
   ],
   "source": [
    "new_profession_col.nunique()"
   ]
  },
  {
   "cell_type": "code",
   "execution_count": 172,
   "metadata": {
    "execution": {
     "iopub.execute_input": "2025-02-21T20:38:41.498326Z",
     "iopub.status.busy": "2025-02-21T20:38:41.498068Z",
     "iopub.status.idle": "2025-02-21T20:38:41.511486Z",
     "shell.execute_reply": "2025-02-21T20:38:41.510561Z",
     "shell.execute_reply.started": "2025-02-21T20:38:41.498304Z"
    }
   },
   "outputs": [],
   "source": [
    "train_df['Profession'] =  new_profession_col"
   ]
  },
  {
   "cell_type": "code",
   "execution_count": 173,
   "metadata": {
    "execution": {
     "iopub.execute_input": "2025-02-21T20:38:41.512729Z",
     "iopub.status.busy": "2025-02-21T20:38:41.512409Z",
     "iopub.status.idle": "2025-02-21T20:38:41.532425Z",
     "shell.execute_reply": "2025-02-21T20:38:41.531419Z",
     "shell.execute_reply.started": "2025-02-21T20:38:41.512697Z"
    }
   },
   "outputs": [
    {
     "data": {
      "text/plain": [
       "8740"
      ]
     },
     "execution_count": 173,
     "metadata": {},
     "output_type": "execute_result"
    }
   ],
   "source": [
    "train_df['Profession'].isna().sum()"
   ]
  },
  {
   "cell_type": "code",
   "execution_count": 174,
   "metadata": {
    "execution": {
     "iopub.execute_input": "2025-02-21T20:38:41.533640Z",
     "iopub.status.busy": "2025-02-21T20:38:41.533402Z",
     "iopub.status.idle": "2025-02-21T20:38:41.558084Z",
     "shell.execute_reply": "2025-02-21T20:38:41.557130Z",
     "shell.execute_reply.started": "2025-02-21T20:38:41.533615Z"
    }
   },
   "outputs": [
    {
     "data": {
      "text/plain": [
       "array(['Class 12', 'MA', 'MSc', 'MBA', 'B.Arch', 'MCA', 'B.Com', 'BSc',\n",
       "       'M.Pharm', 'MD', 'B.Ed', 'Degree', 'BE', 'BCA', 'BHM', 'ME', 'LLM',\n",
       "       'LLB', 'M.Com', 'B.Tech', 'MHM', 'LLBA', 'M.Tech', 'BBA', 'BA',\n",
       "       '5.56', 'MBBS', 'M.Ed', 'B.Pharm', '5.88', 'Navya', nan, 'M',\n",
       "       'PhD'], dtype=object)"
      ]
     },
     "execution_count": 174,
     "metadata": {},
     "output_type": "execute_result"
    }
   ],
   "source": [
    "train_df[train_df['Profession'].isna()]['Degree'].unique()"
   ]
  },
  {
   "cell_type": "markdown",
   "metadata": {},
   "source": [
    "We can only assume that the rest of the null values indicate `unemployment`"
   ]
  },
  {
   "cell_type": "code",
   "execution_count": 175,
   "metadata": {
    "execution": {
     "iopub.execute_input": "2025-02-21T20:38:41.559481Z",
     "iopub.status.busy": "2025-02-21T20:38:41.559133Z",
     "iopub.status.idle": "2025-02-21T20:38:41.572158Z",
     "shell.execute_reply": "2025-02-21T20:38:41.571383Z",
     "shell.execute_reply.started": "2025-02-21T20:38:41.559445Z"
    }
   },
   "outputs": [],
   "source": [
    "train_df['Profession'] = train_df['Profession'].fillna('Unemployed')"
   ]
  },
  {
   "cell_type": "code",
   "execution_count": 176,
   "metadata": {
    "execution": {
     "iopub.execute_input": "2025-02-21T20:38:41.573393Z",
     "iopub.status.busy": "2025-02-21T20:38:41.573130Z",
     "iopub.status.idle": "2025-02-21T20:38:41.592259Z",
     "shell.execute_reply": "2025-02-21T20:38:41.591439Z",
     "shell.execute_reply.started": "2025-02-21T20:38:41.573362Z"
    }
   },
   "outputs": [
    {
     "data": {
      "text/plain": [
       "0"
      ]
     },
     "execution_count": 176,
     "metadata": {},
     "output_type": "execute_result"
    }
   ],
   "source": [
    "train_df['Profession'].isna().sum()"
   ]
  },
  {
   "cell_type": "code",
   "execution_count": 177,
   "metadata": {
    "execution": {
     "iopub.execute_input": "2025-02-21T20:38:41.593349Z",
     "iopub.status.busy": "2025-02-21T20:38:41.593097Z",
     "iopub.status.idle": "2025-02-21T20:38:41.616428Z",
     "shell.execute_reply": "2025-02-21T20:38:41.615581Z",
     "shell.execute_reply.started": "2025-02-21T20:38:41.593324Z"
    }
   },
   "outputs": [
    {
     "data": {
      "text/plain": [
       "34"
      ]
     },
     "execution_count": 177,
     "metadata": {},
     "output_type": "execute_result"
    }
   ],
   "source": [
    "train_df['Profession'].nunique()"
   ]
  },
  {
   "cell_type": "markdown",
   "metadata": {},
   "source": [
    "### Test Set"
   ]
  },
  {
   "cell_type": "code",
   "execution_count": 178,
   "metadata": {
    "execution": {
     "iopub.execute_input": "2025-02-21T20:38:41.617804Z",
     "iopub.status.busy": "2025-02-21T20:38:41.617409Z",
     "iopub.status.idle": "2025-02-21T20:38:41.634625Z",
     "shell.execute_reply": "2025-02-21T20:38:41.633690Z",
     "shell.execute_reply.started": "2025-02-21T20:38:41.617750Z"
    }
   },
   "outputs": [
    {
     "data": {
      "text/plain": [
       "24632"
      ]
     },
     "execution_count": 178,
     "metadata": {},
     "output_type": "execute_result"
    }
   ],
   "source": [
    "test_df['Profession'].isna().sum()"
   ]
  },
  {
   "cell_type": "code",
   "execution_count": 179,
   "metadata": {
    "execution": {
     "iopub.execute_input": "2025-02-21T20:38:41.635945Z",
     "iopub.status.busy": "2025-02-21T20:38:41.635604Z",
     "iopub.status.idle": "2025-02-21T20:38:41.658785Z",
     "shell.execute_reply": "2025-02-21T20:38:41.657923Z",
     "shell.execute_reply.started": "2025-02-21T20:38:41.635915Z"
    }
   },
   "outputs": [
    {
     "data": {
      "text/plain": [
       "26"
      ]
     },
     "execution_count": 179,
     "metadata": {},
     "output_type": "execute_result"
    }
   ],
   "source": [
    "test_df[(test_df['Working Professional or Student'] == 'Student')]['Profession'].count()"
   ]
  },
  {
   "cell_type": "code",
   "execution_count": 180,
   "metadata": {
    "execution": {
     "iopub.execute_input": "2025-02-21T20:38:41.659938Z",
     "iopub.status.busy": "2025-02-21T20:38:41.659618Z",
     "iopub.status.idle": "2025-02-21T20:38:41.685839Z",
     "shell.execute_reply": "2025-02-21T20:38:41.685009Z",
     "shell.execute_reply.started": "2025-02-21T20:38:41.659914Z"
    }
   },
   "outputs": [],
   "source": [
    "test_df.loc[test_df['Working Professional or Student'] == 'Student', 'Profession'] = test_df.loc[test_df['Working Professional or Student'] == 'Student', 'Profession'].fillna(\"Student\")\n"
   ]
  },
  {
   "cell_type": "code",
   "execution_count": 181,
   "metadata": {
    "execution": {
     "iopub.execute_input": "2025-02-21T20:38:41.687039Z",
     "iopub.status.busy": "2025-02-21T20:38:41.686659Z",
     "iopub.status.idle": "2025-02-21T20:38:41.698679Z",
     "shell.execute_reply": "2025-02-21T20:38:41.697891Z",
     "shell.execute_reply.started": "2025-02-21T20:38:41.687007Z"
    }
   },
   "outputs": [
    {
     "data": {
      "text/plain": [
       "0"
      ]
     },
     "execution_count": 181,
     "metadata": {},
     "output_type": "execute_result"
    }
   ],
   "source": [
    "train_df['Profession'].isna().sum()"
   ]
  },
  {
   "cell_type": "code",
   "execution_count": 182,
   "metadata": {
    "execution": {
     "iopub.execute_input": "2025-02-21T20:38:41.699995Z",
     "iopub.status.busy": "2025-02-21T20:38:41.699609Z",
     "iopub.status.idle": "2025-02-21T20:38:41.718635Z",
     "shell.execute_reply": "2025-02-21T20:38:41.717732Z",
     "shell.execute_reply.started": "2025-02-21T20:38:41.699961Z"
    }
   },
   "outputs": [
    {
     "data": {
      "text/plain": [
       "0"
      ]
     },
     "execution_count": 182,
     "metadata": {},
     "output_type": "execute_result"
    }
   ],
   "source": [
    "train_df['Profession'].isna().sum()"
   ]
  },
  {
   "cell_type": "code",
   "execution_count": 183,
   "metadata": {
    "execution": {
     "iopub.execute_input": "2025-02-21T20:38:41.720058Z",
     "iopub.status.busy": "2025-02-21T20:38:41.719711Z",
     "iopub.status.idle": "2025-02-21T20:38:42.494341Z",
     "shell.execute_reply": "2025-02-21T20:38:42.493555Z",
     "shell.execute_reply.started": "2025-02-21T20:38:41.720027Z"
    }
   },
   "outputs": [
    {
     "name": "stdout",
     "output_type": "stream",
     "text": [
      "!waiting!\n",
      "<class 'pandas.core.series.Series'>\n",
      "id\n",
      "140700                     Judge\n",
      "140701    Educational Consultant\n",
      "140702                   Teacher\n",
      "140703                   Student\n",
      "140704                   Teacher\n",
      "                   ...          \n",
      "234495                     Pilot\n",
      "234496                     Pilot\n",
      "234497                   Student\n",
      "234498         Marketing Manager\n",
      "234499    Educational Consultant\n",
      "Name: Profession, Length: 93800, dtype: object\n"
     ]
    }
   ],
   "source": [
    "# assigning the profession column \n",
    "test_set_profession_test = unique_series_values(test_df['Profession'])\n",
    "\n",
    "# valuating the unwanted columns\n",
    "unwanted_test_profession_ls = unwanted_series_names(test_set_profession_test)\n",
    "\n",
    "# categorizing the column with the other category\n",
    "new_profession_col_test = grouping_category(unwanted_test_profession_ls , test_df['Profession'], \"Others\")\n",
    "print(type(new_profession_col_test))\n",
    "print(new_profession_col_test)"
   ]
  },
  {
   "cell_type": "code",
   "execution_count": 184,
   "metadata": {
    "execution": {
     "iopub.execute_input": "2025-02-21T20:38:42.495446Z",
     "iopub.status.busy": "2025-02-21T20:38:42.495189Z",
     "iopub.status.idle": "2025-02-21T20:38:42.503512Z",
     "shell.execute_reply": "2025-02-21T20:38:42.502505Z",
     "shell.execute_reply.started": "2025-02-21T20:38:42.495425Z"
    }
   },
   "outputs": [
    {
     "data": {
      "text/plain": [
       "32"
      ]
     },
     "execution_count": 184,
     "metadata": {},
     "output_type": "execute_result"
    }
   ],
   "source": [
    "new_profession_col_test.nunique()"
   ]
  },
  {
   "cell_type": "code",
   "execution_count": 185,
   "metadata": {
    "execution": {
     "iopub.execute_input": "2025-02-21T20:38:42.504673Z",
     "iopub.status.busy": "2025-02-21T20:38:42.504361Z",
     "iopub.status.idle": "2025-02-21T20:38:42.519414Z",
     "shell.execute_reply": "2025-02-21T20:38:42.518509Z",
     "shell.execute_reply.started": "2025-02-21T20:38:42.504644Z"
    }
   },
   "outputs": [],
   "source": [
    "test_df['Profession'] =  new_profession_col_test"
   ]
  },
  {
   "cell_type": "code",
   "execution_count": 186,
   "metadata": {
    "execution": {
     "iopub.execute_input": "2025-02-21T20:38:42.520617Z",
     "iopub.status.busy": "2025-02-21T20:38:42.520320Z",
     "iopub.status.idle": "2025-02-21T20:38:42.543245Z",
     "shell.execute_reply": "2025-02-21T20:38:42.542273Z",
     "shell.execute_reply.started": "2025-02-21T20:38:42.520596Z"
    }
   },
   "outputs": [
    {
     "data": {
      "text/plain": [
       "5886"
      ]
     },
     "execution_count": 186,
     "metadata": {},
     "output_type": "execute_result"
    }
   ],
   "source": [
    "test_df['Profession'].isna().sum()"
   ]
  },
  {
   "cell_type": "code",
   "execution_count": 187,
   "metadata": {
    "execution": {
     "iopub.execute_input": "2025-02-21T20:38:42.544453Z",
     "iopub.status.busy": "2025-02-21T20:38:42.544184Z",
     "iopub.status.idle": "2025-02-21T20:38:42.563479Z",
     "shell.execute_reply": "2025-02-21T20:38:42.562437Z",
     "shell.execute_reply.started": "2025-02-21T20:38:42.544428Z"
    }
   },
   "outputs": [],
   "source": [
    "test_df['Profession'] = test_df['Profession'].fillna('Unemployed')"
   ]
  },
  {
   "cell_type": "code",
   "execution_count": 188,
   "metadata": {
    "execution": {
     "iopub.execute_input": "2025-02-21T20:38:42.564826Z",
     "iopub.status.busy": "2025-02-21T20:38:42.564521Z",
     "iopub.status.idle": "2025-02-21T20:38:42.576565Z",
     "shell.execute_reply": "2025-02-21T20:38:42.575666Z",
     "shell.execute_reply.started": "2025-02-21T20:38:42.564795Z"
    }
   },
   "outputs": [
    {
     "data": {
      "text/plain": [
       "0"
      ]
     },
     "execution_count": 188,
     "metadata": {},
     "output_type": "execute_result"
    }
   ],
   "source": [
    "test_df['Profession'].isna().sum()"
   ]
  },
  {
   "cell_type": "code",
   "execution_count": 189,
   "metadata": {
    "execution": {
     "iopub.execute_input": "2025-02-21T20:38:42.577817Z",
     "iopub.status.busy": "2025-02-21T20:38:42.577480Z",
     "iopub.status.idle": "2025-02-21T20:38:42.600095Z",
     "shell.execute_reply": "2025-02-21T20:38:42.599200Z",
     "shell.execute_reply.started": "2025-02-21T20:38:42.577783Z"
    }
   },
   "outputs": [
    {
     "data": {
      "text/plain": [
       "array(['Judge', 'Educational Consultant', 'Teacher', 'Student',\n",
       "       'Customer Support', 'Unemployed', 'Chemist', 'Content Writer',\n",
       "       'Consultant', 'HR Manager', 'Others', 'Digital Marketer',\n",
       "       'Electrician', 'Marketing Manager', 'Plumber', 'Pharmacist',\n",
       "       'Lawyer', 'Pilot', 'Architect', 'Chef', 'Entrepreneur', 'Manager',\n",
       "       'Software Engineer', 'Travel Consultant', 'Finanancial Analyst',\n",
       "       'Financial Analyst', 'Doctor', 'Business Analyst',\n",
       "       'UX/UI Designer', 'Sales Executive', 'Data Scientist',\n",
       "       'Researcher', 'Civil Engineer'], dtype=object)"
      ]
     },
     "execution_count": 189,
     "metadata": {},
     "output_type": "execute_result"
    }
   ],
   "source": [
    "test_df['Profession'].unique()"
   ]
  },
  {
   "cell_type": "markdown",
   "metadata": {},
   "source": [
    "## Sleep Duration Column Filtering"
   ]
  },
  {
   "cell_type": "markdown",
   "metadata": {},
   "source": [
    "### Train Set"
   ]
  },
  {
   "cell_type": "code",
   "execution_count": 190,
   "metadata": {
    "execution": {
     "iopub.execute_input": "2025-02-21T20:38:42.601289Z",
     "iopub.status.busy": "2025-02-21T20:38:42.601018Z",
     "iopub.status.idle": "2025-02-21T20:38:42.620593Z",
     "shell.execute_reply": "2025-02-21T20:38:42.619712Z",
     "shell.execute_reply.started": "2025-02-21T20:38:42.601266Z"
    }
   },
   "outputs": [
    {
     "data": {
      "text/plain": [
       "array(['More than 8 hours', 'Less than 5 hours', '5-6 hours', '7-8 hours',\n",
       "       'Sleep_Duration', '1-2 hours', '6-8 hours', '4-6 hours',\n",
       "       '6-7 hours', '10-11 hours', '8-9 hours', '40-45 hours',\n",
       "       '9-11 hours', '2-3 hours', '3-4 hours', 'Moderate', '55-66 hours',\n",
       "       '4-5 hours', '9-6 hours', '1-3 hours', 'Indore', '45', '1-6 hours',\n",
       "       '35-36 hours', '8 hours', 'No', '10-6 hours', 'than 5 hours',\n",
       "       '49 hours', 'Unhealthy', 'Work_Study_Hours', '3-6 hours',\n",
       "       '45-48 hours', '9-5', 'Pune', '9-5 hours'], dtype=object)"
      ]
     },
     "execution_count": 190,
     "metadata": {},
     "output_type": "execute_result"
    }
   ],
   "source": [
    "train_df['Sleep Duration'].unique()"
   ]
  },
  {
   "cell_type": "code",
   "execution_count": 191,
   "metadata": {
    "execution": {
     "iopub.execute_input": "2025-02-21T20:38:42.621808Z",
     "iopub.status.busy": "2025-02-21T20:38:42.621476Z",
     "iopub.status.idle": "2025-02-21T20:38:42.633629Z",
     "shell.execute_reply": "2025-02-21T20:38:42.632708Z",
     "shell.execute_reply.started": "2025-02-21T20:38:42.621759Z"
    }
   },
   "outputs": [
    {
     "data": {
      "text/plain": [
       "0"
      ]
     },
     "execution_count": 191,
     "metadata": {},
     "output_type": "execute_result"
    }
   ],
   "source": [
    "train_df['Sleep Duration'].isna().sum()"
   ]
  },
  {
   "cell_type": "code",
   "execution_count": 192,
   "metadata": {
    "execution": {
     "iopub.execute_input": "2025-02-21T20:38:42.634984Z",
     "iopub.status.busy": "2025-02-21T20:38:42.634642Z",
     "iopub.status.idle": "2025-02-21T20:38:43.473358Z",
     "shell.execute_reply": "2025-02-21T20:38:43.472440Z",
     "shell.execute_reply.started": "2025-02-21T20:38:42.634950Z"
    }
   },
   "outputs": [],
   "source": [
    "train_sleepD_list = unique_series_values(train_df[\"Sleep Duration\"])\n",
    "train_sleepD_N_ls = unwanted_series_names(train_sleepD_list)\n",
    "new_sleepD_train_ls = grouping_category(train_sleepD_N_ls, train_df['Sleep Duration'], \"Others\")"
   ]
  },
  {
   "cell_type": "code",
   "execution_count": 193,
   "metadata": {
    "execution": {
     "iopub.execute_input": "2025-02-21T20:38:43.474392Z",
     "iopub.status.busy": "2025-02-21T20:38:43.474152Z",
     "iopub.status.idle": "2025-02-21T20:38:43.486964Z",
     "shell.execute_reply": "2025-02-21T20:38:43.486229Z",
     "shell.execute_reply.started": "2025-02-21T20:38:43.474372Z"
    }
   },
   "outputs": [
    {
     "data": {
      "text/plain": [
       "array(['More than 8 hours', 'Less than 5 hours', '5-6 hours', '7-8 hours',\n",
       "       'Others'], dtype=object)"
      ]
     },
     "execution_count": 193,
     "metadata": {},
     "output_type": "execute_result"
    }
   ],
   "source": [
    "new_sleepD_train_ls.unique()"
   ]
  },
  {
   "cell_type": "code",
   "execution_count": 194,
   "metadata": {
    "execution": {
     "iopub.execute_input": "2025-02-21T20:38:43.488082Z",
     "iopub.status.busy": "2025-02-21T20:38:43.487794Z",
     "iopub.status.idle": "2025-02-21T20:38:43.498942Z",
     "shell.execute_reply": "2025-02-21T20:38:43.498175Z",
     "shell.execute_reply.started": "2025-02-21T20:38:43.488061Z"
    }
   },
   "outputs": [],
   "source": [
    "train_df[\"Sleep Duration\"] = new_sleepD_train_ls"
   ]
  },
  {
   "cell_type": "code",
   "execution_count": 195,
   "metadata": {
    "execution": {
     "iopub.execute_input": "2025-02-21T20:38:43.500150Z",
     "iopub.status.busy": "2025-02-21T20:38:43.499925Z",
     "iopub.status.idle": "2025-02-21T20:38:43.520628Z",
     "shell.execute_reply": "2025-02-21T20:38:43.519699Z",
     "shell.execute_reply.started": "2025-02-21T20:38:43.500131Z"
    }
   },
   "outputs": [
    {
     "data": {
      "text/plain": [
       "0"
      ]
     },
     "execution_count": 195,
     "metadata": {},
     "output_type": "execute_result"
    }
   ],
   "source": [
    "train_df[\"Sleep Duration\"].isna().sum()"
   ]
  },
  {
   "cell_type": "markdown",
   "metadata": {},
   "source": [
    "### Test Set"
   ]
  },
  {
   "cell_type": "code",
   "execution_count": 196,
   "metadata": {
    "execution": {
     "iopub.execute_input": "2025-02-21T20:38:43.521952Z",
     "iopub.status.busy": "2025-02-21T20:38:43.521575Z",
     "iopub.status.idle": "2025-02-21T20:38:43.541057Z",
     "shell.execute_reply": "2025-02-21T20:38:43.540197Z",
     "shell.execute_reply.started": "2025-02-21T20:38:43.521917Z"
    }
   },
   "outputs": [
    {
     "data": {
      "text/plain": [
       "array(['Less than 5 hours', '7-8 hours', 'More than 8 hours', '5-6 hours',\n",
       "       '0', 'Meerut', '9-5 hours', '6-7 hours', '60-65 hours', 'Vivan',\n",
       "       '3-4 hours', '1-6 hours', '9-5', 'Unhealthy', '8-9 hours',\n",
       "       '4-5 hours', 'than 5 hours', '9-6 hours', '1-2 hours',\n",
       "       '8-89 hours', 'Have_you_ever_had_suicidal_thoughts', '20-21 hours',\n",
       "       '10-6 hours', '1-3 hours', '6 hours', '50-75 hours', '4-6 hours',\n",
       "       '2-3 hours', '9-11 hours', '9-10 hours', '3-6 hours'], dtype=object)"
      ]
     },
     "execution_count": 196,
     "metadata": {},
     "output_type": "execute_result"
    }
   ],
   "source": [
    "test_df['Sleep Duration'].unique()"
   ]
  },
  {
   "cell_type": "code",
   "execution_count": 197,
   "metadata": {
    "execution": {
     "iopub.execute_input": "2025-02-21T20:38:43.542378Z",
     "iopub.status.busy": "2025-02-21T20:38:43.542054Z",
     "iopub.status.idle": "2025-02-21T20:38:43.557333Z",
     "shell.execute_reply": "2025-02-21T20:38:43.556504Z",
     "shell.execute_reply.started": "2025-02-21T20:38:43.542354Z"
    }
   },
   "outputs": [
    {
     "data": {
      "text/plain": [
       "0"
      ]
     },
     "execution_count": 197,
     "metadata": {},
     "output_type": "execute_result"
    }
   ],
   "source": [
    "test_df['Sleep Duration'].isna().sum()"
   ]
  },
  {
   "cell_type": "code",
   "execution_count": 198,
   "metadata": {
    "execution": {
     "iopub.execute_input": "2025-02-21T20:38:43.558567Z",
     "iopub.status.busy": "2025-02-21T20:38:43.558236Z",
     "iopub.status.idle": "2025-02-21T20:38:44.083900Z",
     "shell.execute_reply": "2025-02-21T20:38:44.082965Z",
     "shell.execute_reply.started": "2025-02-21T20:38:43.558531Z"
    }
   },
   "outputs": [],
   "source": [
    "test_sleepD_list = unique_series_values(test_df[\"Sleep Duration\"])\n",
    "test_sleepD_N_ls = unwanted_series_names(test_sleepD_list)\n",
    "new_sleepD_test_ls = grouping_category(test_sleepD_N_ls, test_df['Sleep Duration'], \"Others\")"
   ]
  },
  {
   "cell_type": "code",
   "execution_count": 199,
   "metadata": {
    "execution": {
     "iopub.execute_input": "2025-02-21T20:38:44.085178Z",
     "iopub.status.busy": "2025-02-21T20:38:44.084864Z",
     "iopub.status.idle": "2025-02-21T20:38:44.095537Z",
     "shell.execute_reply": "2025-02-21T20:38:44.094660Z",
     "shell.execute_reply.started": "2025-02-21T20:38:44.085155Z"
    }
   },
   "outputs": [
    {
     "data": {
      "text/plain": [
       "array(['Less than 5 hours', '7-8 hours', 'More than 8 hours', '5-6 hours',\n",
       "       'Others'], dtype=object)"
      ]
     },
     "execution_count": 199,
     "metadata": {},
     "output_type": "execute_result"
    }
   ],
   "source": [
    "new_sleepD_test_ls.unique()"
   ]
  },
  {
   "cell_type": "code",
   "execution_count": 200,
   "metadata": {
    "execution": {
     "iopub.execute_input": "2025-02-21T20:38:44.096738Z",
     "iopub.status.busy": "2025-02-21T20:38:44.096486Z",
     "iopub.status.idle": "2025-02-21T20:38:44.106595Z",
     "shell.execute_reply": "2025-02-21T20:38:44.105929Z",
     "shell.execute_reply.started": "2025-02-21T20:38:44.096715Z"
    }
   },
   "outputs": [],
   "source": [
    "test_df[\"Sleep Duration\"] = new_sleepD_test_ls"
   ]
  },
  {
   "cell_type": "code",
   "execution_count": 201,
   "metadata": {
    "execution": {
     "iopub.execute_input": "2025-02-21T20:38:44.107613Z",
     "iopub.status.busy": "2025-02-21T20:38:44.107364Z",
     "iopub.status.idle": "2025-02-21T20:38:44.128557Z",
     "shell.execute_reply": "2025-02-21T20:38:44.127751Z",
     "shell.execute_reply.started": "2025-02-21T20:38:44.107593Z"
    }
   },
   "outputs": [
    {
     "data": {
      "text/plain": [
       "0"
      ]
     },
     "execution_count": 201,
     "metadata": {},
     "output_type": "execute_result"
    }
   ],
   "source": [
    "test_df[\"Sleep Duration\"].isna().sum()"
   ]
  },
  {
   "cell_type": "markdown",
   "metadata": {},
   "source": [
    "## Dietary Habits Column"
   ]
  },
  {
   "cell_type": "markdown",
   "metadata": {},
   "source": [
    "### Train Set"
   ]
  },
  {
   "cell_type": "code",
   "execution_count": 202,
   "metadata": {
    "execution": {
     "iopub.execute_input": "2025-02-21T20:38:44.129723Z",
     "iopub.status.busy": "2025-02-21T20:38:44.129449Z",
     "iopub.status.idle": "2025-02-21T20:38:44.149294Z",
     "shell.execute_reply": "2025-02-21T20:38:44.148335Z",
     "shell.execute_reply.started": "2025-02-21T20:38:44.129694Z"
    }
   },
   "outputs": [
    {
     "data": {
      "text/plain": [
       "array(['Healthy', 'Unhealthy', 'Moderate', 'Yes', 'Pratham', 'BSc',\n",
       "       'Gender', '3', 'More Healthy', 'Less than Healthy', 'Mihir', '1.0',\n",
       "       'Hormonal', 'Electrician', nan, 'No Healthy', 'Less Healthy',\n",
       "       'M.Tech', 'Vegas', 'No', 'Male', 'Indoor', 'Class 12', '2'],\n",
       "      dtype=object)"
      ]
     },
     "execution_count": 202,
     "metadata": {},
     "output_type": "execute_result"
    }
   ],
   "source": [
    "train_df[\"Dietary Habits\"].unique()"
   ]
  },
  {
   "cell_type": "code",
   "execution_count": 203,
   "metadata": {
    "execution": {
     "iopub.execute_input": "2025-02-21T20:38:44.150751Z",
     "iopub.status.busy": "2025-02-21T20:38:44.150415Z",
     "iopub.status.idle": "2025-02-21T20:38:44.172879Z",
     "shell.execute_reply": "2025-02-21T20:38:44.171993Z",
     "shell.execute_reply.started": "2025-02-21T20:38:44.150720Z"
    }
   },
   "outputs": [],
   "source": [
    "train_df[\"Dietary Habits\"] = train_df[\"Dietary Habits\"].fillna(\"null\")"
   ]
  },
  {
   "cell_type": "code",
   "execution_count": 204,
   "metadata": {
    "execution": {
     "iopub.execute_input": "2025-02-21T20:38:44.174140Z",
     "iopub.status.busy": "2025-02-21T20:38:44.173836Z",
     "iopub.status.idle": "2025-02-21T20:38:44.188159Z",
     "shell.execute_reply": "2025-02-21T20:38:44.187277Z",
     "shell.execute_reply.started": "2025-02-21T20:38:44.174118Z"
    }
   },
   "outputs": [
    {
     "data": {
      "text/plain": [
       "array(['Healthy', 'Unhealthy', 'Moderate', 'Yes', 'Pratham', 'BSc',\n",
       "       'Gender', '3', 'More Healthy', 'Less than Healthy', 'Mihir', '1.0',\n",
       "       'Hormonal', 'Electrician', 'null', 'No Healthy', 'Less Healthy',\n",
       "       'M.Tech', 'Vegas', 'No', 'Male', 'Indoor', 'Class 12', '2'],\n",
       "      dtype=object)"
      ]
     },
     "execution_count": 204,
     "metadata": {},
     "output_type": "execute_result"
    }
   ],
   "source": [
    "train_df[\"Dietary Habits\"].unique()"
   ]
  },
  {
   "cell_type": "code",
   "execution_count": 205,
   "metadata": {
    "execution": {
     "iopub.execute_input": "2025-02-21T20:38:44.189499Z",
     "iopub.status.busy": "2025-02-21T20:38:44.189218Z",
     "iopub.status.idle": "2025-02-21T20:38:44.205483Z",
     "shell.execute_reply": "2025-02-21T20:38:44.204716Z",
     "shell.execute_reply.started": "2025-02-21T20:38:44.189466Z"
    }
   },
   "outputs": [
    {
     "data": {
      "text/plain": [
       "0"
      ]
     },
     "execution_count": 205,
     "metadata": {},
     "output_type": "execute_result"
    }
   ],
   "source": [
    "train_df['Dietary Habits'].isna().sum()"
   ]
  },
  {
   "cell_type": "code",
   "execution_count": 206,
   "metadata": {
    "execution": {
     "iopub.execute_input": "2025-02-21T20:38:44.206758Z",
     "iopub.status.busy": "2025-02-21T20:38:44.206388Z",
     "iopub.status.idle": "2025-02-21T20:38:44.736522Z",
     "shell.execute_reply": "2025-02-21T20:38:44.735859Z",
     "shell.execute_reply.started": "2025-02-21T20:38:44.206655Z"
    }
   },
   "outputs": [],
   "source": [
    "diet_train_ls = unique_series_values(train_df[\"Dietary Habits\"])\n",
    "unwanted_diet_ls = unwanted_series_names(diet_train_ls)\n",
    "new_train_diet_H = grouping_category(unwanted_diet_ls,train_df[\"Dietary Habits\"], \"Others\" )"
   ]
  },
  {
   "cell_type": "code",
   "execution_count": 207,
   "metadata": {
    "execution": {
     "iopub.execute_input": "2025-02-21T20:38:44.737613Z",
     "iopub.status.busy": "2025-02-21T20:38:44.737311Z",
     "iopub.status.idle": "2025-02-21T20:38:44.749120Z",
     "shell.execute_reply": "2025-02-21T20:38:44.748095Z",
     "shell.execute_reply.started": "2025-02-21T20:38:44.737586Z"
    }
   },
   "outputs": [
    {
     "data": {
      "text/plain": [
       "0"
      ]
     },
     "execution_count": 207,
     "metadata": {},
     "output_type": "execute_result"
    }
   ],
   "source": [
    "train_df['Dietary Habits'].isna().sum()"
   ]
  },
  {
   "cell_type": "code",
   "execution_count": 208,
   "metadata": {
    "execution": {
     "iopub.execute_input": "2025-02-21T20:38:44.750438Z",
     "iopub.status.busy": "2025-02-21T20:38:44.750102Z",
     "iopub.status.idle": "2025-02-21T20:38:44.776750Z",
     "shell.execute_reply": "2025-02-21T20:38:44.775972Z",
     "shell.execute_reply.started": "2025-02-21T20:38:44.750376Z"
    }
   },
   "outputs": [
    {
     "data": {
      "text/plain": [
       "array(['Healthy', 'Unhealthy', 'Moderate', 'Others'], dtype=object)"
      ]
     },
     "execution_count": 208,
     "metadata": {},
     "output_type": "execute_result"
    }
   ],
   "source": [
    "train_df[\"Dietary Habits\"].unique()"
   ]
  },
  {
   "cell_type": "markdown",
   "metadata": {},
   "source": [
    "### Test Set"
   ]
  },
  {
   "cell_type": "code",
   "execution_count": 209,
   "metadata": {
    "execution": {
     "iopub.execute_input": "2025-02-21T20:38:44.784530Z",
     "iopub.status.busy": "2025-02-21T20:38:44.784262Z",
     "iopub.status.idle": "2025-02-21T20:38:44.792861Z",
     "shell.execute_reply": "2025-02-21T20:38:44.792104Z",
     "shell.execute_reply.started": "2025-02-21T20:38:44.784508Z"
    }
   },
   "outputs": [
    {
     "data": {
      "text/plain": [
       "array(['Moderate', 'Healthy', 'Unhealthy', 'More Healthy', 'No', 'Indoor',\n",
       "       'Prachi', nan, 'Male', 'Less Healthy', 'Mealy', 'Resistant', 'MCA',\n",
       "       '5 Healthy', 'Academic', 'Educational', 'Soham', '5 Unhealthy',\n",
       "       'Vivaan', 'Raghav', '1.0', 'Naina', 'Kolkata'], dtype=object)"
      ]
     },
     "execution_count": 209,
     "metadata": {},
     "output_type": "execute_result"
    }
   ],
   "source": [
    "test_df[\"Dietary Habits\"].unique()"
   ]
  },
  {
   "cell_type": "code",
   "execution_count": 210,
   "metadata": {
    "execution": {
     "iopub.execute_input": "2025-02-21T20:38:44.795211Z",
     "iopub.status.busy": "2025-02-21T20:38:44.794961Z",
     "iopub.status.idle": "2025-02-21T20:38:44.811793Z",
     "shell.execute_reply": "2025-02-21T20:38:44.810674Z",
     "shell.execute_reply.started": "2025-02-21T20:38:44.795191Z"
    }
   },
   "outputs": [],
   "source": [
    "test_df[\"Dietary Habits\"] = test_df[\"Dietary Habits\"].fillna(\"null\")"
   ]
  },
  {
   "cell_type": "code",
   "execution_count": 211,
   "metadata": {
    "execution": {
     "iopub.execute_input": "2025-02-21T20:38:44.812938Z",
     "iopub.status.busy": "2025-02-21T20:38:44.812618Z",
     "iopub.status.idle": "2025-02-21T20:38:44.831025Z",
     "shell.execute_reply": "2025-02-21T20:38:44.830345Z",
     "shell.execute_reply.started": "2025-02-21T20:38:44.812904Z"
    }
   },
   "outputs": [
    {
     "data": {
      "text/plain": [
       "array(['Moderate', 'Healthy', 'Unhealthy', 'More Healthy', 'No', 'Indoor',\n",
       "       'Prachi', 'null', 'Male', 'Less Healthy', 'Mealy', 'Resistant',\n",
       "       'MCA', '5 Healthy', 'Academic', 'Educational', 'Soham',\n",
       "       '5 Unhealthy', 'Vivaan', 'Raghav', '1.0', 'Naina', 'Kolkata'],\n",
       "      dtype=object)"
      ]
     },
     "execution_count": 211,
     "metadata": {},
     "output_type": "execute_result"
    }
   ],
   "source": [
    "test_df[\"Dietary Habits\"].unique()"
   ]
  },
  {
   "cell_type": "code",
   "execution_count": 212,
   "metadata": {
    "execution": {
     "iopub.execute_input": "2025-02-21T20:38:44.832211Z",
     "iopub.status.busy": "2025-02-21T20:38:44.831902Z",
     "iopub.status.idle": "2025-02-21T20:38:44.846855Z",
     "shell.execute_reply": "2025-02-21T20:38:44.846021Z",
     "shell.execute_reply.started": "2025-02-21T20:38:44.832181Z"
    }
   },
   "outputs": [
    {
     "data": {
      "text/plain": [
       "0"
      ]
     },
     "execution_count": 212,
     "metadata": {},
     "output_type": "execute_result"
    }
   ],
   "source": [
    "test_df['Dietary Habits'].isna().sum()"
   ]
  },
  {
   "cell_type": "code",
   "execution_count": 213,
   "metadata": {
    "execution": {
     "iopub.execute_input": "2025-02-21T20:38:44.848062Z",
     "iopub.status.busy": "2025-02-21T20:38:44.847703Z",
     "iopub.status.idle": "2025-02-21T20:38:45.198105Z",
     "shell.execute_reply": "2025-02-21T20:38:45.197373Z",
     "shell.execute_reply.started": "2025-02-21T20:38:44.848010Z"
    }
   },
   "outputs": [],
   "source": [
    "diet_test_ls = unique_series_values(test_df[\"Dietary Habits\"])\n",
    "unwanted_diet_ls_test = unwanted_series_names(diet_test_ls)\n",
    "new_test_diet_H = grouping_category(unwanted_diet_ls_test, test_df[\"Dietary Habits\"], \"Others\" )"
   ]
  },
  {
   "cell_type": "code",
   "execution_count": 214,
   "metadata": {
    "execution": {
     "iopub.execute_input": "2025-02-21T20:38:45.199323Z",
     "iopub.status.busy": "2025-02-21T20:38:45.198928Z",
     "iopub.status.idle": "2025-02-21T20:38:45.209207Z",
     "shell.execute_reply": "2025-02-21T20:38:45.208345Z",
     "shell.execute_reply.started": "2025-02-21T20:38:45.199231Z"
    }
   },
   "outputs": [
    {
     "data": {
      "text/plain": [
       "0"
      ]
     },
     "execution_count": 214,
     "metadata": {},
     "output_type": "execute_result"
    }
   ],
   "source": [
    "test_df['Dietary Habits'].isna().sum()"
   ]
  },
  {
   "cell_type": "code",
   "execution_count": 215,
   "metadata": {
    "execution": {
     "iopub.execute_input": "2025-02-21T20:38:45.210398Z",
     "iopub.status.busy": "2025-02-21T20:38:45.210112Z",
     "iopub.status.idle": "2025-02-21T20:38:45.235704Z",
     "shell.execute_reply": "2025-02-21T20:38:45.234745Z",
     "shell.execute_reply.started": "2025-02-21T20:38:45.210366Z"
    }
   },
   "outputs": [
    {
     "data": {
      "text/plain": [
       "array(['Healthy', 'Unhealthy', 'Moderate', 'Others'], dtype=object)"
      ]
     },
     "execution_count": 215,
     "metadata": {},
     "output_type": "execute_result"
    }
   ],
   "source": [
    "train_df[\"Dietary Habits\"].unique()"
   ]
  },
  {
   "cell_type": "markdown",
   "metadata": {},
   "source": [
    "## Degree Column FIltering"
   ]
  },
  {
   "cell_type": "markdown",
   "metadata": {},
   "source": [
    "### Train Set"
   ]
  },
  {
   "cell_type": "code",
   "execution_count": 216,
   "metadata": {
    "execution": {
     "iopub.execute_input": "2025-02-21T20:38:45.236952Z",
     "iopub.status.busy": "2025-02-21T20:38:45.236624Z",
     "iopub.status.idle": "2025-02-21T20:38:45.252343Z",
     "shell.execute_reply": "2025-02-21T20:38:45.251639Z",
     "shell.execute_reply.started": "2025-02-21T20:38:45.236928Z"
    }
   },
   "outputs": [
    {
     "data": {
      "text/plain": [
       "array(['BHM', 'LLB', 'B.Pharm', 'BBA', 'MCA', 'MD', 'BSc', 'ME', 'B.Arch',\n",
       "       'BCA', 'BE', 'MA', 'B.Ed', 'B.Com', 'MBA', 'M.Com', 'MHM', 'BA',\n",
       "       'Class 12', 'M.Tech', 'PhD', 'M.Ed', 'MSc', 'B.Tech', 'LLM',\n",
       "       'MBBS', 'M.Pharm', 'UX/UI Designer', 'MPA', 'BH', 'Nalini', 'BEd',\n",
       "       'B.Sc', 'Veda', 'Bhopal', 'S.Tech', 'Degree', '20', 'Class 11',\n",
       "       'H_Pharm', 'M', 'P.Com', 'BPharm', 'Business Analyst', 'M.Arch',\n",
       "       'LL.Com', 'Data Scientist', 'MPharm', 'L.Ed', 'P.Pharm', 'Kalyan',\n",
       "       'Unite', 'BArch', 'HR Manager', 'Badhya', 'S.Pharm', 'LLBA',\n",
       "       'Vrinda', 'M. Business Analyst', 'Bhavesh', '0', 'LLCom', '29',\n",
       "       'MTech', 'Vivaan', 'BPA', 'Plumber', '5.61', 'Brit', 'B.03',\n",
       "       'Ritik', '5.56', 'MEd', 'B', 'B BA', '7.06', 'B.B.Arch', 'ACA',\n",
       "       'Brithika', 'CGPA', '24', 'M_Tech', 'Pihu', 'BB', 'Jhanvi',\n",
       "       'LLTech', 'Aarav', 'Entrepreneur', '8.56', 'LHM', 'Lata', 'S.Arch',\n",
       "       'Marsh', 'HCA', '5.88', 'B.Student', 'LL B.Ed', 'M.S', 'Navya',\n",
       "       'Mahika', nan, 'K.Ed', 'B.3.79', 'Mthanya', 'Working Professional',\n",
       "       'Esha', 'LLS', 'LLEd', 'E.Tech', 'Doctor', 'N.Pharm', 'LCA',\n",
       "       'B B.Com', 'RCA', 'Mihir', 'Advait'], dtype=object)"
      ]
     },
     "execution_count": 216,
     "metadata": {},
     "output_type": "execute_result"
    }
   ],
   "source": [
    "train_df[\"Degree\"].unique()"
   ]
  },
  {
   "cell_type": "code",
   "execution_count": 217,
   "metadata": {
    "execution": {
     "iopub.execute_input": "2025-02-21T20:38:45.253579Z",
     "iopub.status.busy": "2025-02-21T20:38:45.253259Z",
     "iopub.status.idle": "2025-02-21T20:38:45.274332Z",
     "shell.execute_reply": "2025-02-21T20:38:45.273625Z",
     "shell.execute_reply.started": "2025-02-21T20:38:45.253548Z"
    }
   },
   "outputs": [],
   "source": [
    "train_df[\"Degree\"] = train_df[\"Degree\"].fillna(\"null\")"
   ]
  },
  {
   "cell_type": "code",
   "execution_count": 218,
   "metadata": {
    "execution": {
     "iopub.execute_input": "2025-02-21T20:38:45.275301Z",
     "iopub.status.busy": "2025-02-21T20:38:45.275096Z",
     "iopub.status.idle": "2025-02-21T20:38:45.295748Z",
     "shell.execute_reply": "2025-02-21T20:38:45.294796Z",
     "shell.execute_reply.started": "2025-02-21T20:38:45.275283Z"
    }
   },
   "outputs": [
    {
     "data": {
      "text/plain": [
       "array(['BHM', 'LLB', 'B.Pharm', 'BBA', 'MCA', 'MD', 'BSc', 'ME', 'B.Arch',\n",
       "       'BCA', 'BE', 'MA', 'B.Ed', 'B.Com', 'MBA', 'M.Com', 'MHM', 'BA',\n",
       "       'Class 12', 'M.Tech', 'PhD', 'M.Ed', 'MSc', 'B.Tech', 'LLM',\n",
       "       'MBBS', 'M.Pharm', 'UX/UI Designer', 'MPA', 'BH', 'Nalini', 'BEd',\n",
       "       'B.Sc', 'Veda', 'Bhopal', 'S.Tech', 'Degree', '20', 'Class 11',\n",
       "       'H_Pharm', 'M', 'P.Com', 'BPharm', 'Business Analyst', 'M.Arch',\n",
       "       'LL.Com', 'Data Scientist', 'MPharm', 'L.Ed', 'P.Pharm', 'Kalyan',\n",
       "       'Unite', 'BArch', 'HR Manager', 'Badhya', 'S.Pharm', 'LLBA',\n",
       "       'Vrinda', 'M. Business Analyst', 'Bhavesh', '0', 'LLCom', '29',\n",
       "       'MTech', 'Vivaan', 'BPA', 'Plumber', '5.61', 'Brit', 'B.03',\n",
       "       'Ritik', '5.56', 'MEd', 'B', 'B BA', '7.06', 'B.B.Arch', 'ACA',\n",
       "       'Brithika', 'CGPA', '24', 'M_Tech', 'Pihu', 'BB', 'Jhanvi',\n",
       "       'LLTech', 'Aarav', 'Entrepreneur', '8.56', 'LHM', 'Lata', 'S.Arch',\n",
       "       'Marsh', 'HCA', '5.88', 'B.Student', 'LL B.Ed', 'M.S', 'Navya',\n",
       "       'Mahika', 'null', 'K.Ed', 'B.3.79', 'Mthanya',\n",
       "       'Working Professional', 'Esha', 'LLS', 'LLEd', 'E.Tech', 'Doctor',\n",
       "       'N.Pharm', 'LCA', 'B B.Com', 'RCA', 'Mihir', 'Advait'],\n",
       "      dtype=object)"
      ]
     },
     "execution_count": 218,
     "metadata": {},
     "output_type": "execute_result"
    }
   ],
   "source": [
    "train_df[\"Degree\"].unique()"
   ]
  },
  {
   "cell_type": "code",
   "execution_count": 219,
   "metadata": {
    "execution": {
     "iopub.execute_input": "2025-02-21T20:38:45.296935Z",
     "iopub.status.busy": "2025-02-21T20:38:45.296621Z",
     "iopub.status.idle": "2025-02-21T20:38:45.308551Z",
     "shell.execute_reply": "2025-02-21T20:38:45.307861Z",
     "shell.execute_reply.started": "2025-02-21T20:38:45.296908Z"
    }
   },
   "outputs": [
    {
     "data": {
      "text/plain": [
       "0"
      ]
     },
     "execution_count": 219,
     "metadata": {},
     "output_type": "execute_result"
    }
   ],
   "source": [
    "train_df['Degree'].isna().sum()"
   ]
  },
  {
   "cell_type": "code",
   "execution_count": 220,
   "metadata": {
    "execution": {
     "iopub.execute_input": "2025-02-21T20:38:45.309528Z",
     "iopub.status.busy": "2025-02-21T20:38:45.309288Z",
     "iopub.status.idle": "2025-02-21T20:38:47.630929Z",
     "shell.execute_reply": "2025-02-21T20:38:47.630203Z",
     "shell.execute_reply.started": "2025-02-21T20:38:45.309505Z"
    }
   },
   "outputs": [],
   "source": [
    "degree_train_ls = unique_series_values(train_df[\"Degree\"])\n",
    "unwanted_degree_ls = unwanted_series_names(degree_train_ls)\n",
    "new_train_degree = grouping_category( unwanted_degree_ls , train_df[\"Degree\"], \"Others\" )"
   ]
  },
  {
   "cell_type": "code",
   "execution_count": 221,
   "metadata": {
    "execution": {
     "iopub.execute_input": "2025-02-21T20:38:47.632145Z",
     "iopub.status.busy": "2025-02-21T20:38:47.631850Z",
     "iopub.status.idle": "2025-02-21T20:38:47.643255Z",
     "shell.execute_reply": "2025-02-21T20:38:47.642491Z",
     "shell.execute_reply.started": "2025-02-21T20:38:47.632116Z"
    }
   },
   "outputs": [
    {
     "data": {
      "text/plain": [
       "0"
      ]
     },
     "execution_count": 221,
     "metadata": {},
     "output_type": "execute_result"
    }
   ],
   "source": [
    "train_df['Degree'].isna().sum()"
   ]
  },
  {
   "cell_type": "code",
   "execution_count": 222,
   "metadata": {
    "execution": {
     "iopub.execute_input": "2025-02-21T20:38:47.644583Z",
     "iopub.status.busy": "2025-02-21T20:38:47.644211Z",
     "iopub.status.idle": "2025-02-21T20:38:47.667621Z",
     "shell.execute_reply": "2025-02-21T20:38:47.666874Z",
     "shell.execute_reply.started": "2025-02-21T20:38:47.644548Z"
    }
   },
   "outputs": [
    {
     "data": {
      "text/plain": [
       "array(['BHM', 'LLB', 'B.Pharm', 'BBA', 'MCA', 'MD', 'BSc', 'ME', 'B.Arch',\n",
       "       'BCA', 'BE', 'MA', 'B.Ed', 'B.Com', 'MBA', 'M.Com', 'MHM', 'BA',\n",
       "       'Class 12', 'M.Tech', 'PhD', 'M.Ed', 'MSc', 'B.Tech', 'LLM',\n",
       "       'MBBS', 'M.Pharm', 'Others'], dtype=object)"
      ]
     },
     "execution_count": 222,
     "metadata": {},
     "output_type": "execute_result"
    }
   ],
   "source": [
    "train_df[\"Degree\"].unique()"
   ]
  },
  {
   "cell_type": "markdown",
   "metadata": {},
   "source": [
    "### Test Set"
   ]
  },
  {
   "cell_type": "code",
   "execution_count": 223,
   "metadata": {
    "execution": {
     "iopub.execute_input": "2025-02-21T20:38:47.668849Z",
     "iopub.status.busy": "2025-02-21T20:38:47.668503Z",
     "iopub.status.idle": "2025-02-21T20:38:47.682415Z",
     "shell.execute_reply": "2025-02-21T20:38:47.681792Z",
     "shell.execute_reply.started": "2025-02-21T20:38:47.668816Z"
    }
   },
   "outputs": [
    {
     "data": {
      "text/plain": [
       "array(['LLB', 'B.Ed', 'B.Arch', 'BSc', 'BCA', 'B.Com', 'MA', 'BA', 'BBA',\n",
       "       'Class 12', 'MD', 'MBA', 'M.Ed', 'M.Pharm', 'BHM', 'LLM', 'PhD',\n",
       "       'M.Com', 'BE', 'MBBS', 'B.Tech', 'ME', 'MCA', 'B.Pharm', 'MHM',\n",
       "       'M.Tech', 'BTech', 'MSc', 'BArch', 'B. Gender', 'B.Study_Hours',\n",
       "       'Advait', 'M.Arch', 'A.Ed', 'Mechanical Engineer', 'B.H', 'B.Sc',\n",
       "       'B', 'M.UI', 'Vibha', 'B BCA', 'B.Press', 'BPharm', 'Gagan',\n",
       "       'MPharm', 'Travel Consultant', '5.65', 'Business Analyst',\n",
       "       'Eshita', 'B_Com', 'Navya', 'B._Pharm', 'Pune', 'Bian', 'B.M.Com',\n",
       "       'Kavya', 'M.M.Ed', 'S.Pharm', 'Vrinda', 'M', 'E.Ed', '3.0',\n",
       "       'Moham', 'B.BA', nan, 'I.Ed', 'Degree', 'Magan', 'B B.Tech',\n",
       "       'M.B.Ed', 'Bhopal', 'B Financial Analyst', 'GCA', 'G.Ed', 'Rupak',\n",
       "       'RCA', 'B.CA', 'PCA', 'J.Ed', 'BH', 'BEd', '8.95', 'Aadhya', '20',\n",
       "       'Banchal', 'M.', 'K.Ed', 'BHCA'], dtype=object)"
      ]
     },
     "execution_count": 223,
     "metadata": {},
     "output_type": "execute_result"
    }
   ],
   "source": [
    "test_df[\"Degree\"].unique()"
   ]
  },
  {
   "cell_type": "code",
   "execution_count": 224,
   "metadata": {
    "execution": {
     "iopub.execute_input": "2025-02-21T20:38:47.683322Z",
     "iopub.status.busy": "2025-02-21T20:38:47.683068Z",
     "iopub.status.idle": "2025-02-21T20:38:47.703315Z",
     "shell.execute_reply": "2025-02-21T20:38:47.702362Z",
     "shell.execute_reply.started": "2025-02-21T20:38:47.683302Z"
    }
   },
   "outputs": [],
   "source": [
    "test_df[\"Degree\"] = test_df[\"Degree\"].fillna(\"null\")"
   ]
  },
  {
   "cell_type": "code",
   "execution_count": 225,
   "metadata": {
    "execution": {
     "iopub.execute_input": "2025-02-21T20:38:47.704590Z",
     "iopub.status.busy": "2025-02-21T20:38:47.704267Z",
     "iopub.status.idle": "2025-02-21T20:38:47.722863Z",
     "shell.execute_reply": "2025-02-21T20:38:47.722091Z",
     "shell.execute_reply.started": "2025-02-21T20:38:47.704558Z"
    }
   },
   "outputs": [
    {
     "data": {
      "text/plain": [
       "array(['LLB', 'B.Ed', 'B.Arch', 'BSc', 'BCA', 'B.Com', 'MA', 'BA', 'BBA',\n",
       "       'Class 12', 'MD', 'MBA', 'M.Ed', 'M.Pharm', 'BHM', 'LLM', 'PhD',\n",
       "       'M.Com', 'BE', 'MBBS', 'B.Tech', 'ME', 'MCA', 'B.Pharm', 'MHM',\n",
       "       'M.Tech', 'BTech', 'MSc', 'BArch', 'B. Gender', 'B.Study_Hours',\n",
       "       'Advait', 'M.Arch', 'A.Ed', 'Mechanical Engineer', 'B.H', 'B.Sc',\n",
       "       'B', 'M.UI', 'Vibha', 'B BCA', 'B.Press', 'BPharm', 'Gagan',\n",
       "       'MPharm', 'Travel Consultant', '5.65', 'Business Analyst',\n",
       "       'Eshita', 'B_Com', 'Navya', 'B._Pharm', 'Pune', 'Bian', 'B.M.Com',\n",
       "       'Kavya', 'M.M.Ed', 'S.Pharm', 'Vrinda', 'M', 'E.Ed', '3.0',\n",
       "       'Moham', 'B.BA', 'null', 'I.Ed', 'Degree', 'Magan', 'B B.Tech',\n",
       "       'M.B.Ed', 'Bhopal', 'B Financial Analyst', 'GCA', 'G.Ed', 'Rupak',\n",
       "       'RCA', 'B.CA', 'PCA', 'J.Ed', 'BH', 'BEd', '8.95', 'Aadhya', '20',\n",
       "       'Banchal', 'M.', 'K.Ed', 'BHCA'], dtype=object)"
      ]
     },
     "execution_count": 225,
     "metadata": {},
     "output_type": "execute_result"
    }
   ],
   "source": [
    "test_df[\"Degree\"].unique()"
   ]
  },
  {
   "cell_type": "code",
   "execution_count": 226,
   "metadata": {
    "execution": {
     "iopub.execute_input": "2025-02-21T20:38:47.724139Z",
     "iopub.status.busy": "2025-02-21T20:38:47.723844Z",
     "iopub.status.idle": "2025-02-21T20:38:47.741614Z",
     "shell.execute_reply": "2025-02-21T20:38:47.740870Z",
     "shell.execute_reply.started": "2025-02-21T20:38:47.724119Z"
    }
   },
   "outputs": [
    {
     "data": {
      "text/plain": [
       "0"
      ]
     },
     "execution_count": 226,
     "metadata": {},
     "output_type": "execute_result"
    }
   ],
   "source": [
    "test_df['Degree'].isna().sum()"
   ]
  },
  {
   "cell_type": "code",
   "execution_count": 227,
   "metadata": {
    "execution": {
     "iopub.execute_input": "2025-02-21T20:38:47.742638Z",
     "iopub.status.busy": "2025-02-21T20:38:47.742363Z",
     "iopub.status.idle": "2025-02-21T20:38:48.906179Z",
     "shell.execute_reply": "2025-02-21T20:38:48.904969Z",
     "shell.execute_reply.started": "2025-02-21T20:38:47.742617Z"
    }
   },
   "outputs": [],
   "source": [
    "degree_test_ls = unique_series_values(test_df[\"Degree\"])\n",
    "unwanted_degree_ls_test = unwanted_series_names(degree_test_ls)\n",
    "new_test_degree = grouping_category(unwanted_degree_ls_test, test_df[\"Degree\"], \"Others\" )"
   ]
  },
  {
   "cell_type": "code",
   "execution_count": 228,
   "metadata": {
    "execution": {
     "iopub.execute_input": "2025-02-21T20:38:48.907350Z",
     "iopub.status.busy": "2025-02-21T20:38:48.907049Z",
     "iopub.status.idle": "2025-02-21T20:38:48.916624Z",
     "shell.execute_reply": "2025-02-21T20:38:48.915736Z",
     "shell.execute_reply.started": "2025-02-21T20:38:48.907313Z"
    }
   },
   "outputs": [
    {
     "data": {
      "text/plain": [
       "0"
      ]
     },
     "execution_count": 228,
     "metadata": {},
     "output_type": "execute_result"
    }
   ],
   "source": [
    "test_df['Degree'].isna().sum()"
   ]
  },
  {
   "cell_type": "code",
   "execution_count": 229,
   "metadata": {
    "execution": {
     "iopub.execute_input": "2025-02-21T20:38:48.917606Z",
     "iopub.status.busy": "2025-02-21T20:38:48.917354Z",
     "iopub.status.idle": "2025-02-21T20:38:48.939894Z",
     "shell.execute_reply": "2025-02-21T20:38:48.939125Z",
     "shell.execute_reply.started": "2025-02-21T20:38:48.917573Z"
    }
   },
   "outputs": [
    {
     "data": {
      "text/plain": [
       "array(['LLB', 'B.Ed', 'B.Arch', 'BSc', 'BCA', 'B.Com', 'MA', 'BA', 'BBA',\n",
       "       'Class 12', 'MD', 'MBA', 'M.Ed', 'M.Pharm', 'BHM', 'LLM', 'PhD',\n",
       "       'M.Com', 'BE', 'MBBS', 'B.Tech', 'ME', 'MCA', 'B.Pharm', 'MHM',\n",
       "       'M.Tech', 'Others', 'MSc'], dtype=object)"
      ]
     },
     "execution_count": 229,
     "metadata": {},
     "output_type": "execute_result"
    }
   ],
   "source": [
    "test_df[\"Degree\"].unique()"
   ]
  },
  {
   "cell_type": "markdown",
   "metadata": {},
   "source": [
    "Now that our `OBJECT` data in the train and test set have been cleaned and ordered and it is ready for the categorization "
   ]
  },
  {
   "cell_type": "markdown",
   "metadata": {},
   "source": [
    "## Train & Test set object sorted"
   ]
  },
  {
   "cell_type": "code",
   "execution_count": 230,
   "metadata": {
    "execution": {
     "iopub.execute_input": "2025-02-21T20:38:48.940888Z",
     "iopub.status.busy": "2025-02-21T20:38:48.940623Z",
     "iopub.status.idle": "2025-02-21T20:38:49.021002Z",
     "shell.execute_reply": "2025-02-21T20:38:49.020241Z",
     "shell.execute_reply.started": "2025-02-21T20:38:48.940868Z"
    }
   },
   "outputs": [
    {
     "name": "stdout",
     "output_type": "stream",
     "text": [
      "<class 'pandas.core.frame.DataFrame'>\n",
      "Index: 140700 entries, 0 to 140699\n",
      "Data columns (total 18 columns):\n",
      " #   Column                                 Non-Null Count   Dtype  \n",
      "---  ------                                 --------------   -----  \n",
      " 0   Gender                                 140700 non-null  object \n",
      " 1   Age                                    140700 non-null  float64\n",
      " 2   City                                   140700 non-null  object \n",
      " 3   Working Professional or Student        140700 non-null  object \n",
      " 4   Profession                             140700 non-null  object \n",
      " 5   Academic Pressure                      27897 non-null   float64\n",
      " 6   Work Pressure                          112782 non-null  float64\n",
      " 7   CGPA                                   27898 non-null   float64\n",
      " 8   Study Satisfaction                     27897 non-null   float64\n",
      " 9   Job Satisfaction                       112790 non-null  float64\n",
      " 10  Sleep Duration                         140700 non-null  object \n",
      " 11  Dietary Habits                         140700 non-null  object \n",
      " 12  Degree                                 140700 non-null  object \n",
      " 13  Have you ever had suicidal thoughts ?  140700 non-null  object \n",
      " 14  Work/Study Hours                       140700 non-null  float64\n",
      " 15  Financial Stress                       140696 non-null  float64\n",
      " 16  Family History of Mental Illness       140700 non-null  object \n",
      " 17  Depression                             140700 non-null  int64  \n",
      "dtypes: float64(8), int64(1), object(9)\n",
      "memory usage: 20.4+ MB\n"
     ]
    }
   ],
   "source": [
    "train_df.info()"
   ]
  },
  {
   "cell_type": "code",
   "execution_count": 231,
   "metadata": {
    "execution": {
     "iopub.execute_input": "2025-02-21T20:38:49.022098Z",
     "iopub.status.busy": "2025-02-21T20:38:49.021794Z",
     "iopub.status.idle": "2025-02-21T20:38:49.075007Z",
     "shell.execute_reply": "2025-02-21T20:38:49.074217Z",
     "shell.execute_reply.started": "2025-02-21T20:38:49.022067Z"
    }
   },
   "outputs": [
    {
     "name": "stdout",
     "output_type": "stream",
     "text": [
      "<class 'pandas.core.frame.DataFrame'>\n",
      "Index: 93800 entries, 140700 to 234499\n",
      "Data columns (total 17 columns):\n",
      " #   Column                                 Non-Null Count  Dtype  \n",
      "---  ------                                 --------------  -----  \n",
      " 0   Gender                                 93800 non-null  object \n",
      " 1   Age                                    93800 non-null  float64\n",
      " 2   City                                   93800 non-null  object \n",
      " 3   Working Professional or Student        93800 non-null  object \n",
      " 4   Profession                             93800 non-null  object \n",
      " 5   Academic Pressure                      18767 non-null  float64\n",
      " 6   Work Pressure                          75022 non-null  float64\n",
      " 7   CGPA                                   18766 non-null  float64\n",
      " 8   Study Satisfaction                     18767 non-null  float64\n",
      " 9   Job Satisfaction                       75026 non-null  float64\n",
      " 10  Sleep Duration                         93800 non-null  object \n",
      " 11  Dietary Habits                         93800 non-null  object \n",
      " 12  Degree                                 93800 non-null  object \n",
      " 13  Have you ever had suicidal thoughts ?  93800 non-null  object \n",
      " 14  Work/Study Hours                       93800 non-null  float64\n",
      " 15  Financial Stress                       93800 non-null  float64\n",
      " 16  Family History of Mental Illness       93800 non-null  object \n",
      "dtypes: float64(8), object(9)\n",
      "memory usage: 12.9+ MB\n"
     ]
    }
   ],
   "source": [
    "test_df.info()"
   ]
  },
  {
   "cell_type": "markdown",
   "metadata": {},
   "source": [
    "## Dealing with numerical datatype"
   ]
  },
  {
   "cell_type": "code",
   "execution_count": 232,
   "metadata": {
    "execution": {
     "iopub.execute_input": "2025-02-21T20:38:49.076136Z",
     "iopub.status.busy": "2025-02-21T20:38:49.075832Z",
     "iopub.status.idle": "2025-02-21T20:38:49.099745Z",
     "shell.execute_reply": "2025-02-21T20:38:49.098826Z",
     "shell.execute_reply.started": "2025-02-21T20:38:49.076107Z"
    }
   },
   "outputs": [
    {
     "name": "stdout",
     "output_type": "stream",
     "text": [
      "         Age  Academic Pressure  Work Pressure  CGPA  Study Satisfaction  \\\n",
      "id                                                                         \n",
      "0       49.0                NaN            5.0   NaN                 NaN   \n",
      "1       26.0                NaN            4.0   NaN                 NaN   \n",
      "2       33.0                5.0            NaN  8.97                 2.0   \n",
      "3       22.0                NaN            5.0   NaN                 NaN   \n",
      "4       30.0                NaN            1.0   NaN                 NaN   \n",
      "...      ...                ...            ...   ...                 ...   \n",
      "140695  18.0                NaN            5.0   NaN                 NaN   \n",
      "140696  41.0                NaN            5.0   NaN                 NaN   \n",
      "140697  24.0                NaN            3.0   NaN                 NaN   \n",
      "140698  49.0                NaN            5.0   NaN                 NaN   \n",
      "140699  27.0                4.0            NaN  9.24                 1.0   \n",
      "\n",
      "        Job Satisfaction  Work/Study Hours  Financial Stress  \n",
      "id                                                            \n",
      "0                    2.0               1.0               2.0  \n",
      "1                    3.0               7.0               3.0  \n",
      "2                    NaN               3.0               1.0  \n",
      "3                    1.0              10.0               1.0  \n",
      "4                    1.0               9.0               4.0  \n",
      "...                  ...               ...               ...  \n",
      "140695               4.0               2.0               4.0  \n",
      "140696               4.0               6.0               5.0  \n",
      "140697               1.0               4.0               4.0  \n",
      "140698               2.0              10.0               1.0  \n",
      "140699               NaN               2.0               3.0  \n",
      "\n",
      "[140700 rows x 8 columns]\n",
      "         Age  Academic Pressure  Work Pressure  CGPA  Study Satisfaction  \\\n",
      "id                                                                         \n",
      "140700  53.0                NaN            2.0   NaN                 NaN   \n",
      "140701  58.0                NaN            2.0   NaN                 NaN   \n",
      "140702  53.0                NaN            4.0   NaN                 NaN   \n",
      "140703  23.0                5.0            NaN  6.84                 1.0   \n",
      "140704  47.0                NaN            5.0   NaN                 NaN   \n",
      "...      ...                ...            ...   ...                 ...   \n",
      "234495  49.0                NaN            3.0   NaN                 NaN   \n",
      "234496  29.0                NaN            5.0   NaN                 NaN   \n",
      "234497  24.0                1.0            NaN  7.51                 4.0   \n",
      "234498  23.0                NaN            4.0   NaN                 NaN   \n",
      "234499  43.0                NaN            5.0   NaN                 NaN   \n",
      "\n",
      "        Job Satisfaction  Work/Study Hours  Financial Stress  \n",
      "id                                                            \n",
      "140700               5.0               9.0               3.0  \n",
      "140701               4.0               6.0               4.0  \n",
      "140702               1.0              12.0               4.0  \n",
      "140703               NaN              10.0               4.0  \n",
      "140704               5.0               3.0               4.0  \n",
      "...                  ...               ...               ...  \n",
      "234495               5.0               2.0               2.0  \n",
      "234496               1.0              11.0               3.0  \n",
      "234497               NaN               7.0               1.0  \n",
      "234498               2.0               7.0               5.0  \n",
      "234499               2.0              11.0               2.0  \n",
      "\n",
      "[93800 rows x 8 columns]\n"
     ]
    }
   ],
   "source": [
    "train_num_df = train_df.select_dtypes(include=['number'])\n",
    "train_num_df.drop(columns=['Depression'],inplace=True)\n",
    "print(train_num_df)\n",
    "test_num_df = test_df.select_dtypes(include=['number'])\n",
    "print(test_num_df)"
   ]
  },
  {
   "cell_type": "code",
   "execution_count": 233,
   "metadata": {
    "execution": {
     "iopub.execute_input": "2025-02-21T20:38:49.101073Z",
     "iopub.status.busy": "2025-02-21T20:38:49.100727Z",
     "iopub.status.idle": "2025-02-21T20:38:49.121197Z",
     "shell.execute_reply": "2025-02-21T20:38:49.120375Z",
     "shell.execute_reply.started": "2025-02-21T20:38:49.101042Z"
    }
   },
   "outputs": [
    {
     "name": "stdout",
     "output_type": "stream",
     "text": [
      "Age                        0\n",
      "Academic Pressure     112803\n",
      "Work Pressure          27918\n",
      "CGPA                  112802\n",
      "Study Satisfaction    112803\n",
      "Job Satisfaction       27910\n",
      "Work/Study Hours           0\n",
      "Financial Stress           4\n",
      "dtype: int64\n",
      "\n",
      "Age                       0\n",
      "Academic Pressure     75033\n",
      "Work Pressure         18778\n",
      "CGPA                  75034\n",
      "Study Satisfaction    75033\n",
      "Job Satisfaction      18774\n",
      "Work/Study Hours          0\n",
      "Financial Stress          0\n",
      "dtype: int64\n"
     ]
    }
   ],
   "source": [
    "print(train_num_df.isna().sum())\n",
    "print()\n",
    "print(test_num_df.isna().sum())"
   ]
  },
  {
   "cell_type": "code",
   "execution_count": 234,
   "metadata": {
    "execution": {
     "iopub.execute_input": "2025-02-21T20:38:49.122219Z",
     "iopub.status.busy": "2025-02-21T20:38:49.121974Z",
     "iopub.status.idle": "2025-02-21T20:38:49.153922Z",
     "shell.execute_reply": "2025-02-21T20:38:49.153088Z",
     "shell.execute_reply.started": "2025-02-21T20:38:49.122199Z"
    }
   },
   "outputs": [
    {
     "name": "stdout",
     "output_type": "stream",
     "text": [
      "Age columns has [49. 26. 33. 22. 30. 59. 47. 38. 24. 42. 55. 51. 39. 29. 50. 23. 56. 45.\n",
      " 37. 46. 31. 19. 28. 25. 41. 60. 18. 36. 21. 58. 44. 43. 40. 35. 54. 27.\n",
      " 52. 48. 57. 53. 34. 20. 32.] items\n",
      "\n",
      "Academic Pressure columns has [nan  5.  2.  3.  4.  1.] items\n",
      "\n",
      "Work Pressure columns has [ 5.  4. nan  1.  2.  3.] items\n",
      "\n",
      "CGPA columns has [    nan  8.97    5.9     7.03    5.59    8.13    5.7     9.54    8.04\n",
      "  9.79    8.38    6.1     7.04    8.52    5.64    8.58    6.51    7.25\n",
      "  7.83    9.93    8.74    6.73    5.57    8.59    7.1     6.08    5.74\n",
      "  9.86    6.7     6.21    5.87    6.37    9.72    5.88    9.56    6.99\n",
      "  5.24    9.21    7.85    6.95    5.86    7.92    9.66    8.94    9.71\n",
      "  7.87    5.6     7.9     5.46    6.79    8.7     7.38    8.5     7.09\n",
      "  9.82    8.89    7.94    9.11    6.75    7.53    9.49    9.01    7.64\n",
      "  5.27    6.      9.44    5.75    7.51    9.05    6.38    8.95    9.88\n",
      "  5.32    6.27    7.7     8.1     9.59    8.96    5.51    7.43    8.79\n",
      "  9.95    5.37    6.86    8.32    9.74    5.66    7.48    8.23    8.81\n",
      "  6.03    5.56    5.68    5.14    7.61    6.17    8.17    9.87    8.75\n",
      "  6.16    9.5     7.99    5.67    8.92    6.19    5.76    6.25    5.11\n",
      "  5.58    5.65    9.89    8.03    6.61    9.41    8.64    7.21    8.28\n",
      "  6.04    9.13    8.08    9.96    5.12    8.35    7.07    9.6     9.24\n",
      "  8.54    8.78    8.93    8.91    9.04    6.83    5.85    7.74    6.41\n",
      "  8.9     7.75    7.88    5.42    7.52    7.68    8.4     9.39    6.84\n",
      "  5.99    8.62    8.53    7.47    6.78    6.42    9.92    8.39    5.89\n",
      "  7.22    6.81    9.02    9.97    9.63    9.67    5.41    7.27    6.05\n",
      "  6.85    9.33    5.81    6.53    5.98    6.02    6.74    5.26    7.72\n",
      "  7.39    8.43    9.34    5.44    5.82    5.72    8.19    8.44    8.98\n",
      "  9.37    5.8     7.28    7.6     7.91    9.17    7.46    9.43    9.91\n",
      "  9.36    5.16    7.08    9.26    8.83   10.      7.8     9.46    6.63\n",
      "  7.24    6.47    7.77    5.06    7.17    8.24    6.88    9.03    5.08\n",
      "  5.45    8.46    9.19    6.36    8.73    7.11    9.12    9.4     8.11\n",
      "  9.98    5.55    8.61    8.14    6.89    9.84    5.48    8.21    7.82\n",
      "  8.55    5.79    8.77    8.29    6.92    7.37    9.7     6.26    7.26\n",
      "  7.5     6.82    7.15    5.77    5.91    5.1     7.71    9.06    5.71\n",
      "  5.84    9.42    6.23    6.29    5.25    9.69    9.9     6.39    8.09\n",
      "  5.83    5.47    6.56    8.71    9.94    6.69    5.52    7.3     7.02\n",
      "  6.33    8.07    8.37    8.      7.79    8.65    6.28    7.35    8.69\n",
      "  7.12    7.32    7.13    5.97    5.09    6.91    6.76    6.52    7.45\n",
      "  8.56    6.5     8.63    8.27    8.49    6.59    9.29    5.3     7.06\n",
      "  5.38    6.65    9.16    8.01    8.25    8.02    8.47    7.34    8.88\n",
      "  7.14    8.42    5.17    9.1     7.49    9.85    7.42    9.31    6.35\n",
      "  7.      5.39    5.61    9.78    9.25    5.69    9.47    8.16    7.23\n",
      "  6.46    8.26    6.32    6.77    8.85    5.03    7.65    5.78    6.24\n",
      "  5.35    6.06    7.78    6.64    7.0625  6.98    6.44    6.09  ] items\n",
      "\n",
      "Study Satisfaction columns has [nan  2.  5.  3.  4.  1.] items\n",
      "\n",
      "Job Satisfaction columns has [ 2.  3. nan  1.  5.  4.] items\n",
      "\n",
      "Work/Study Hours columns has [ 1.  7.  3. 10.  9.  6.  8.  2.  0.  5. 12.  4. 11.] items\n",
      "\n",
      "Financial Stress columns has [ 2.  3.  1.  4.  5. nan] items\n",
      "\n",
      "####################################################################################################\n",
      "Age columns has [53.   58.   23.   47.   29.   28.   21.   45.   44.   48.   18.   52.\n",
      " 34.   49.   26.   32.   41.   42.   25.   43.   20.   33.   19.   51.\n",
      " 46.   59.   39.   50.   55.   54.   38.   35.   57.   56.   37.   36.\n",
      " 40.   22.   30.   31.   60.   24.   27.   32.08] items\n",
      "\n",
      "Academic Pressure columns has [nan  5.  1.  3.  4.  2.] items\n",
      "\n",
      "Work Pressure columns has [ 2.  4. nan  5.  1.  3.] items\n",
      "\n",
      "CGPA columns has [  nan  6.84  7.39  6.03  8.63  8.61  6.73  5.58  7.94  9.04  9.6   8.91\n",
      "  9.54  8.13  6.16  7.38  7.04  9.41  5.59  9.89  8.7   5.56  6.42  8.07\n",
      "  9.86  9.71  8.93  5.12  7.48  9.74  5.66  6.38  8.59  7.88  9.88  8.9\n",
      "  8.74  7.47  8.94  8.65  5.88  6.1   8.14  8.04  5.75  9.56  7.35  8.78\n",
      "  6.26  7.09  8.24  8.21  9.44  6.37  5.74  7.52  5.87  7.85  5.03  7.5\n",
      "  9.29  8.89  9.93  8.52  7.92  8.19  8.29  6.81  5.08  5.85  7.17  7.51\n",
      "  8.95  5.52  7.7   9.96  7.15  5.16  9.24  9.02  6.21  6.43  8.88  7.53\n",
      "  9.21  7.22  8.09  9.97  8.08  5.09  8.79  8.38  7.64  5.48  8.96  8.17\n",
      "  7.83  5.27  9.1   8.11  7.8   7.9   5.99  7.03  6.89  7.25  9.95  9.63\n",
      "  8.92  5.81  5.82  5.64  5.6   9.33  8.44  9.37  6.78  6.27  8.5   6.47\n",
      "  9.34  8.03  7.1   6.99  5.37  5.41  5.38  5.91  5.11  5.42  5.57  6.02\n",
      "  9.13  5.71 10.    9.67  5.61  8.62  6.28  8.46  9.72  9.05  9.39  7.32\n",
      "  5.46  6.08  7.61  9.94  6.83  6.86  6.25  7.13  7.21  6.88  8.73  5.51\n",
      "  6.61  7.46  7.37  9.42  6.51  9.5   7.06  9.69  8.81  7.77  6.65  5.98\n",
      "  9.19  9.03  5.83  8.42  6.17  8.54  7.87  7.24  9.11  8.28  5.55  9.84\n",
      "  8.58  7.27  9.17  9.91  6.79  5.06  5.1   8.35  6.29  9.12  5.9   6.36\n",
      "  7.74  9.9   6.76  9.25  6.75  9.46  5.69  9.7   5.7   6.04  5.89  5.45\n",
      "  5.84  7.12  6.56  7.3   8.    8.69  7.08  7.91  5.76  5.32  8.32  6.33\n",
      "  5.97  9.31  6.41  6.24  5.47  9.06  8.1   9.98  6.    7.14  9.85  5.86\n",
      "  6.69  6.14  7.82  9.26  7.28  5.68  7.6   7.72  9.79  9.82  9.92  5.79\n",
      "  8.37  8.56  6.52  6.59  5.72  6.85  8.77  8.23  7.07  8.98  7.26  8.47\n",
      "  6.74  7.34  9.4   5.67  7.71  6.72  5.26  6.05  9.87  8.64  5.3   8.97\n",
      "  6.91  8.39  9.08  9.49  6.53  8.49  6.7   5.77  9.43  7.79  9.78  7.02\n",
      "  7.49  7.45  6.92  6.82  8.53  5.44  5.24  9.36  7.75  9.59  8.71  5.39\n",
      "  9.47  7.43  8.43  8.4   8.75  6.63  6.39  5.65  9.66  7.68  5.25  9.16\n",
      "  7.11  8.85  7.99  7.    8.25  9.01  8.83  5.35  5.8   5.36  6.5   8.27\n",
      "  6.32  6.19  6.23  8.55  5.14  5.17  8.16  6.35  6.46  5.5   6.95  8.01\n",
      "  6.09  5.92  5.78] items\n",
      "\n",
      "Study Satisfaction columns has [nan  1.  3.  5.  2.  4.] items\n",
      "\n",
      "Job Satisfaction columns has [ 5.  4.  1. nan  3.  2.] items\n",
      "\n",
      "Work/Study Hours columns has [ 9.  6. 12. 10.  3.  0.  8.  5.  4. 11.  7.  1.  2.] items\n",
      "\n",
      "Financial Stress columns has [3. 4. 2. 1. 5.] items\n",
      "\n"
     ]
    }
   ],
   "source": [
    "# train set loop \n",
    "for i in train_num_df.columns:\n",
    "    print(f\"{i} columns has {train_num_df[i].unique()} items\")\n",
    "    print()\n",
    "\n",
    "print('#'*100)\n",
    "\n",
    "# test set loop \n",
    "for i in test_num_df.columns:\n",
    "    print(f\"{i} columns has {test_num_df[i].unique()} items\")\n",
    "    print()"
   ]
  },
  {
   "cell_type": "markdown",
   "metadata": {},
   "source": [
    "In this we can understand that if we could change the null values into `0` then the data would make some sense"
   ]
  },
  {
   "cell_type": "code",
   "execution_count": 235,
   "metadata": {
    "execution": {
     "iopub.execute_input": "2025-02-21T20:38:49.155205Z",
     "iopub.status.busy": "2025-02-21T20:38:49.154900Z",
     "iopub.status.idle": "2025-02-21T20:38:49.173481Z",
     "shell.execute_reply": "2025-02-21T20:38:49.172750Z",
     "shell.execute_reply.started": "2025-02-21T20:38:49.155175Z"
    }
   },
   "outputs": [],
   "source": [
    "train_num_df = train_num_df.fillna(0)\n",
    "test_num_df = test_num_df.fillna(0)"
   ]
  },
  {
   "cell_type": "code",
   "execution_count": 236,
   "metadata": {
    "execution": {
     "iopub.execute_input": "2025-02-21T20:38:49.174643Z",
     "iopub.status.busy": "2025-02-21T20:38:49.174348Z",
     "iopub.status.idle": "2025-02-21T20:38:49.193718Z",
     "shell.execute_reply": "2025-02-21T20:38:49.192955Z",
     "shell.execute_reply.started": "2025-02-21T20:38:49.174614Z"
    }
   },
   "outputs": [
    {
     "name": "stdout",
     "output_type": "stream",
     "text": [
      "<class 'pandas.core.frame.DataFrame'>\n",
      "Index: 140700 entries, 0 to 140699\n",
      "Data columns (total 8 columns):\n",
      " #   Column              Non-Null Count   Dtype  \n",
      "---  ------              --------------   -----  \n",
      " 0   Age                 140700 non-null  float64\n",
      " 1   Academic Pressure   140700 non-null  float64\n",
      " 2   Work Pressure       140700 non-null  float64\n",
      " 3   CGPA                140700 non-null  float64\n",
      " 4   Study Satisfaction  140700 non-null  float64\n",
      " 5   Job Satisfaction    140700 non-null  float64\n",
      " 6   Work/Study Hours    140700 non-null  float64\n",
      " 7   Financial Stress    140700 non-null  float64\n",
      "dtypes: float64(8)\n",
      "memory usage: 9.7 MB\n",
      "None\n",
      "<class 'pandas.core.frame.DataFrame'>\n",
      "Index: 93800 entries, 140700 to 234499\n",
      "Data columns (total 8 columns):\n",
      " #   Column              Non-Null Count  Dtype  \n",
      "---  ------              --------------  -----  \n",
      " 0   Age                 93800 non-null  float64\n",
      " 1   Academic Pressure   93800 non-null  float64\n",
      " 2   Work Pressure       93800 non-null  float64\n",
      " 3   CGPA                93800 non-null  float64\n",
      " 4   Study Satisfaction  93800 non-null  float64\n",
      " 5   Job Satisfaction    93800 non-null  float64\n",
      " 6   Work/Study Hours    93800 non-null  float64\n",
      " 7   Financial Stress    93800 non-null  float64\n",
      "dtypes: float64(8)\n",
      "memory usage: 6.4 MB\n",
      "None\n"
     ]
    }
   ],
   "source": [
    "print(train_num_df.info())\n",
    "print(test_num_df.info())"
   ]
  },
  {
   "cell_type": "code",
   "execution_count": 237,
   "metadata": {
    "execution": {
     "iopub.execute_input": "2025-02-21T20:38:49.194959Z",
     "iopub.status.busy": "2025-02-21T20:38:49.194633Z",
     "iopub.status.idle": "2025-02-21T20:38:49.218841Z",
     "shell.execute_reply": "2025-02-21T20:38:49.217869Z",
     "shell.execute_reply.started": "2025-02-21T20:38:49.194928Z"
    }
   },
   "outputs": [
    {
     "data": {
      "text/html": [
       "<div>\n",
       "<style scoped>\n",
       "    .dataframe tbody tr th:only-of-type {\n",
       "        vertical-align: middle;\n",
       "    }\n",
       "\n",
       "    .dataframe tbody tr th {\n",
       "        vertical-align: top;\n",
       "    }\n",
       "\n",
       "    .dataframe thead th {\n",
       "        text-align: right;\n",
       "    }\n",
       "</style>\n",
       "<table border=\"1\" class=\"dataframe\">\n",
       "  <thead>\n",
       "    <tr style=\"text-align: right;\">\n",
       "      <th></th>\n",
       "      <th>Gender</th>\n",
       "      <th>Age</th>\n",
       "      <th>City</th>\n",
       "      <th>Working Professional or Student</th>\n",
       "      <th>Profession</th>\n",
       "      <th>Academic Pressure</th>\n",
       "      <th>Work Pressure</th>\n",
       "      <th>CGPA</th>\n",
       "      <th>Study Satisfaction</th>\n",
       "      <th>Job Satisfaction</th>\n",
       "      <th>Sleep Duration</th>\n",
       "      <th>Dietary Habits</th>\n",
       "      <th>Degree</th>\n",
       "      <th>Have you ever had suicidal thoughts ?</th>\n",
       "      <th>Work/Study Hours</th>\n",
       "      <th>Financial Stress</th>\n",
       "      <th>Family History of Mental Illness</th>\n",
       "      <th>Depression</th>\n",
       "    </tr>\n",
       "    <tr>\n",
       "      <th>id</th>\n",
       "      <th></th>\n",
       "      <th></th>\n",
       "      <th></th>\n",
       "      <th></th>\n",
       "      <th></th>\n",
       "      <th></th>\n",
       "      <th></th>\n",
       "      <th></th>\n",
       "      <th></th>\n",
       "      <th></th>\n",
       "      <th></th>\n",
       "      <th></th>\n",
       "      <th></th>\n",
       "      <th></th>\n",
       "      <th></th>\n",
       "      <th></th>\n",
       "      <th></th>\n",
       "      <th></th>\n",
       "    </tr>\n",
       "  </thead>\n",
       "  <tbody>\n",
       "    <tr>\n",
       "      <th>140695</th>\n",
       "      <td>Female</td>\n",
       "      <td>18.0</td>\n",
       "      <td>Ahmedabad</td>\n",
       "      <td>Working Professional</td>\n",
       "      <td>Unemployed</td>\n",
       "      <td>0.0</td>\n",
       "      <td>5.0</td>\n",
       "      <td>0.00</td>\n",
       "      <td>0.0</td>\n",
       "      <td>4.0</td>\n",
       "      <td>5-6 hours</td>\n",
       "      <td>Unhealthy</td>\n",
       "      <td>Class 12</td>\n",
       "      <td>No</td>\n",
       "      <td>2.0</td>\n",
       "      <td>4.0</td>\n",
       "      <td>Yes</td>\n",
       "      <td>1</td>\n",
       "    </tr>\n",
       "    <tr>\n",
       "      <th>140696</th>\n",
       "      <td>Female</td>\n",
       "      <td>41.0</td>\n",
       "      <td>Hyderabad</td>\n",
       "      <td>Working Professional</td>\n",
       "      <td>Content Writer</td>\n",
       "      <td>0.0</td>\n",
       "      <td>5.0</td>\n",
       "      <td>0.00</td>\n",
       "      <td>0.0</td>\n",
       "      <td>4.0</td>\n",
       "      <td>7-8 hours</td>\n",
       "      <td>Moderate</td>\n",
       "      <td>B.Tech</td>\n",
       "      <td>Yes</td>\n",
       "      <td>6.0</td>\n",
       "      <td>5.0</td>\n",
       "      <td>Yes</td>\n",
       "      <td>0</td>\n",
       "    </tr>\n",
       "    <tr>\n",
       "      <th>140697</th>\n",
       "      <td>Female</td>\n",
       "      <td>24.0</td>\n",
       "      <td>Kolkata</td>\n",
       "      <td>Working Professional</td>\n",
       "      <td>Marketing Manager</td>\n",
       "      <td>0.0</td>\n",
       "      <td>3.0</td>\n",
       "      <td>0.00</td>\n",
       "      <td>0.0</td>\n",
       "      <td>1.0</td>\n",
       "      <td>More than 8 hours</td>\n",
       "      <td>Moderate</td>\n",
       "      <td>B.Com</td>\n",
       "      <td>No</td>\n",
       "      <td>4.0</td>\n",
       "      <td>4.0</td>\n",
       "      <td>No</td>\n",
       "      <td>0</td>\n",
       "    </tr>\n",
       "    <tr>\n",
       "      <th>140698</th>\n",
       "      <td>Female</td>\n",
       "      <td>49.0</td>\n",
       "      <td>Srinagar</td>\n",
       "      <td>Working Professional</td>\n",
       "      <td>Plumber</td>\n",
       "      <td>0.0</td>\n",
       "      <td>5.0</td>\n",
       "      <td>0.00</td>\n",
       "      <td>0.0</td>\n",
       "      <td>2.0</td>\n",
       "      <td>5-6 hours</td>\n",
       "      <td>Moderate</td>\n",
       "      <td>ME</td>\n",
       "      <td>Yes</td>\n",
       "      <td>10.0</td>\n",
       "      <td>1.0</td>\n",
       "      <td>No</td>\n",
       "      <td>0</td>\n",
       "    </tr>\n",
       "    <tr>\n",
       "      <th>140699</th>\n",
       "      <td>Male</td>\n",
       "      <td>27.0</td>\n",
       "      <td>Patna</td>\n",
       "      <td>Student</td>\n",
       "      <td>Student</td>\n",
       "      <td>4.0</td>\n",
       "      <td>0.0</td>\n",
       "      <td>9.24</td>\n",
       "      <td>1.0</td>\n",
       "      <td>0.0</td>\n",
       "      <td>Less than 5 hours</td>\n",
       "      <td>Healthy</td>\n",
       "      <td>BCA</td>\n",
       "      <td>Yes</td>\n",
       "      <td>2.0</td>\n",
       "      <td>3.0</td>\n",
       "      <td>Yes</td>\n",
       "      <td>1</td>\n",
       "    </tr>\n",
       "  </tbody>\n",
       "</table>\n",
       "</div>"
      ],
      "text/plain": [
       "        Gender   Age       City Working Professional or Student  \\\n",
       "id                                                                \n",
       "140695  Female  18.0  Ahmedabad            Working Professional   \n",
       "140696  Female  41.0  Hyderabad            Working Professional   \n",
       "140697  Female  24.0    Kolkata            Working Professional   \n",
       "140698  Female  49.0   Srinagar            Working Professional   \n",
       "140699    Male  27.0      Patna                         Student   \n",
       "\n",
       "               Profession  Academic Pressure  Work Pressure  CGPA  \\\n",
       "id                                                                  \n",
       "140695         Unemployed                0.0            5.0  0.00   \n",
       "140696     Content Writer                0.0            5.0  0.00   \n",
       "140697  Marketing Manager                0.0            3.0  0.00   \n",
       "140698            Plumber                0.0            5.0  0.00   \n",
       "140699            Student                4.0            0.0  9.24   \n",
       "\n",
       "        Study Satisfaction  Job Satisfaction     Sleep Duration  \\\n",
       "id                                                                \n",
       "140695                 0.0               4.0          5-6 hours   \n",
       "140696                 0.0               4.0          7-8 hours   \n",
       "140697                 0.0               1.0  More than 8 hours   \n",
       "140698                 0.0               2.0          5-6 hours   \n",
       "140699                 1.0               0.0  Less than 5 hours   \n",
       "\n",
       "       Dietary Habits    Degree Have you ever had suicidal thoughts ?  \\\n",
       "id                                                                      \n",
       "140695      Unhealthy  Class 12                                    No   \n",
       "140696       Moderate    B.Tech                                   Yes   \n",
       "140697       Moderate     B.Com                                    No   \n",
       "140698       Moderate        ME                                   Yes   \n",
       "140699        Healthy       BCA                                   Yes   \n",
       "\n",
       "        Work/Study Hours  Financial Stress Family History of Mental Illness  \\\n",
       "id                                                                            \n",
       "140695               2.0               4.0                              Yes   \n",
       "140696               6.0               5.0                              Yes   \n",
       "140697               4.0               4.0                               No   \n",
       "140698              10.0               1.0                               No   \n",
       "140699               2.0               3.0                              Yes   \n",
       "\n",
       "        Depression  \n",
       "id                  \n",
       "140695           1  \n",
       "140696           0  \n",
       "140697           0  \n",
       "140698           0  \n",
       "140699           1  "
      ]
     },
     "execution_count": 237,
     "metadata": {},
     "output_type": "execute_result"
    }
   ],
   "source": [
    "train_df[['Age','Academic Pressure', 'Work Pressure', 'CGPA', \n",
    "        'Study Satisfaction','Job Satisfaction', \n",
    "          'Work/Study Hours', 'Financial Stress']] = train_num_df[['Age','Academic Pressure', \n",
    "                                                                  'Work Pressure', 'CGPA', \n",
    "                                                                  'Study Satisfaction','Job Satisfaction', 'Work/Study Hours', \n",
    "                                                                  'Financial Stress']]\n",
    "\n",
    "train_df.tail(5)"
   ]
  },
  {
   "cell_type": "code",
   "execution_count": 238,
   "metadata": {
    "execution": {
     "iopub.execute_input": "2025-02-21T20:38:49.220100Z",
     "iopub.status.busy": "2025-02-21T20:38:49.219748Z",
     "iopub.status.idle": "2025-02-21T20:38:49.242120Z",
     "shell.execute_reply": "2025-02-21T20:38:49.241312Z",
     "shell.execute_reply.started": "2025-02-21T20:38:49.220064Z"
    }
   },
   "outputs": [
    {
     "data": {
      "text/html": [
       "<div>\n",
       "<style scoped>\n",
       "    .dataframe tbody tr th:only-of-type {\n",
       "        vertical-align: middle;\n",
       "    }\n",
       "\n",
       "    .dataframe tbody tr th {\n",
       "        vertical-align: top;\n",
       "    }\n",
       "\n",
       "    .dataframe thead th {\n",
       "        text-align: right;\n",
       "    }\n",
       "</style>\n",
       "<table border=\"1\" class=\"dataframe\">\n",
       "  <thead>\n",
       "    <tr style=\"text-align: right;\">\n",
       "      <th></th>\n",
       "      <th>Gender</th>\n",
       "      <th>Age</th>\n",
       "      <th>City</th>\n",
       "      <th>Working Professional or Student</th>\n",
       "      <th>Profession</th>\n",
       "      <th>Academic Pressure</th>\n",
       "      <th>Work Pressure</th>\n",
       "      <th>CGPA</th>\n",
       "      <th>Study Satisfaction</th>\n",
       "      <th>Job Satisfaction</th>\n",
       "      <th>Sleep Duration</th>\n",
       "      <th>Dietary Habits</th>\n",
       "      <th>Degree</th>\n",
       "      <th>Have you ever had suicidal thoughts ?</th>\n",
       "      <th>Work/Study Hours</th>\n",
       "      <th>Financial Stress</th>\n",
       "      <th>Family History of Mental Illness</th>\n",
       "    </tr>\n",
       "    <tr>\n",
       "      <th>id</th>\n",
       "      <th></th>\n",
       "      <th></th>\n",
       "      <th></th>\n",
       "      <th></th>\n",
       "      <th></th>\n",
       "      <th></th>\n",
       "      <th></th>\n",
       "      <th></th>\n",
       "      <th></th>\n",
       "      <th></th>\n",
       "      <th></th>\n",
       "      <th></th>\n",
       "      <th></th>\n",
       "      <th></th>\n",
       "      <th></th>\n",
       "      <th></th>\n",
       "      <th></th>\n",
       "    </tr>\n",
       "  </thead>\n",
       "  <tbody>\n",
       "    <tr>\n",
       "      <th>140700</th>\n",
       "      <td>Male</td>\n",
       "      <td>53.0</td>\n",
       "      <td>Visakhapatnam</td>\n",
       "      <td>Working Professional</td>\n",
       "      <td>Judge</td>\n",
       "      <td>0.0</td>\n",
       "      <td>2.0</td>\n",
       "      <td>0.00</td>\n",
       "      <td>0.0</td>\n",
       "      <td>5.0</td>\n",
       "      <td>Less than 5 hours</td>\n",
       "      <td>Moderate</td>\n",
       "      <td>LLB</td>\n",
       "      <td>No</td>\n",
       "      <td>9.0</td>\n",
       "      <td>3.0</td>\n",
       "      <td>Yes</td>\n",
       "    </tr>\n",
       "    <tr>\n",
       "      <th>140701</th>\n",
       "      <td>Female</td>\n",
       "      <td>58.0</td>\n",
       "      <td>Kolkata</td>\n",
       "      <td>Working Professional</td>\n",
       "      <td>Educational Consultant</td>\n",
       "      <td>0.0</td>\n",
       "      <td>2.0</td>\n",
       "      <td>0.00</td>\n",
       "      <td>0.0</td>\n",
       "      <td>4.0</td>\n",
       "      <td>Less than 5 hours</td>\n",
       "      <td>Moderate</td>\n",
       "      <td>B.Ed</td>\n",
       "      <td>No</td>\n",
       "      <td>6.0</td>\n",
       "      <td>4.0</td>\n",
       "      <td>No</td>\n",
       "    </tr>\n",
       "    <tr>\n",
       "      <th>140702</th>\n",
       "      <td>Male</td>\n",
       "      <td>53.0</td>\n",
       "      <td>Jaipur</td>\n",
       "      <td>Working Professional</td>\n",
       "      <td>Teacher</td>\n",
       "      <td>0.0</td>\n",
       "      <td>4.0</td>\n",
       "      <td>0.00</td>\n",
       "      <td>0.0</td>\n",
       "      <td>1.0</td>\n",
       "      <td>7-8 hours</td>\n",
       "      <td>Moderate</td>\n",
       "      <td>B.Arch</td>\n",
       "      <td>Yes</td>\n",
       "      <td>12.0</td>\n",
       "      <td>4.0</td>\n",
       "      <td>No</td>\n",
       "    </tr>\n",
       "    <tr>\n",
       "      <th>140703</th>\n",
       "      <td>Female</td>\n",
       "      <td>23.0</td>\n",
       "      <td>Rajkot</td>\n",
       "      <td>Student</td>\n",
       "      <td>Student</td>\n",
       "      <td>5.0</td>\n",
       "      <td>0.0</td>\n",
       "      <td>6.84</td>\n",
       "      <td>1.0</td>\n",
       "      <td>0.0</td>\n",
       "      <td>More than 8 hours</td>\n",
       "      <td>Moderate</td>\n",
       "      <td>BSc</td>\n",
       "      <td>Yes</td>\n",
       "      <td>10.0</td>\n",
       "      <td>4.0</td>\n",
       "      <td>No</td>\n",
       "    </tr>\n",
       "    <tr>\n",
       "      <th>140704</th>\n",
       "      <td>Male</td>\n",
       "      <td>47.0</td>\n",
       "      <td>Kalyan</td>\n",
       "      <td>Working Professional</td>\n",
       "      <td>Teacher</td>\n",
       "      <td>0.0</td>\n",
       "      <td>5.0</td>\n",
       "      <td>0.00</td>\n",
       "      <td>0.0</td>\n",
       "      <td>5.0</td>\n",
       "      <td>7-8 hours</td>\n",
       "      <td>Moderate</td>\n",
       "      <td>BCA</td>\n",
       "      <td>Yes</td>\n",
       "      <td>3.0</td>\n",
       "      <td>4.0</td>\n",
       "      <td>No</td>\n",
       "    </tr>\n",
       "  </tbody>\n",
       "</table>\n",
       "</div>"
      ],
      "text/plain": [
       "        Gender   Age           City Working Professional or Student  \\\n",
       "id                                                                    \n",
       "140700    Male  53.0  Visakhapatnam            Working Professional   \n",
       "140701  Female  58.0        Kolkata            Working Professional   \n",
       "140702    Male  53.0         Jaipur            Working Professional   \n",
       "140703  Female  23.0         Rajkot                         Student   \n",
       "140704    Male  47.0         Kalyan            Working Professional   \n",
       "\n",
       "                    Profession  Academic Pressure  Work Pressure  CGPA  \\\n",
       "id                                                                       \n",
       "140700                   Judge                0.0            2.0  0.00   \n",
       "140701  Educational Consultant                0.0            2.0  0.00   \n",
       "140702                 Teacher                0.0            4.0  0.00   \n",
       "140703                 Student                5.0            0.0  6.84   \n",
       "140704                 Teacher                0.0            5.0  0.00   \n",
       "\n",
       "        Study Satisfaction  Job Satisfaction     Sleep Duration  \\\n",
       "id                                                                \n",
       "140700                 0.0               5.0  Less than 5 hours   \n",
       "140701                 0.0               4.0  Less than 5 hours   \n",
       "140702                 0.0               1.0          7-8 hours   \n",
       "140703                 1.0               0.0  More than 8 hours   \n",
       "140704                 0.0               5.0          7-8 hours   \n",
       "\n",
       "       Dietary Habits  Degree Have you ever had suicidal thoughts ?  \\\n",
       "id                                                                    \n",
       "140700       Moderate     LLB                                    No   \n",
       "140701       Moderate    B.Ed                                    No   \n",
       "140702       Moderate  B.Arch                                   Yes   \n",
       "140703       Moderate     BSc                                   Yes   \n",
       "140704       Moderate     BCA                                   Yes   \n",
       "\n",
       "        Work/Study Hours  Financial Stress Family History of Mental Illness  \n",
       "id                                                                           \n",
       "140700               9.0               3.0                              Yes  \n",
       "140701               6.0               4.0                               No  \n",
       "140702              12.0               4.0                               No  \n",
       "140703              10.0               4.0                               No  \n",
       "140704               3.0               4.0                               No  "
      ]
     },
     "execution_count": 238,
     "metadata": {},
     "output_type": "execute_result"
    }
   ],
   "source": [
    "test_df[['Age','Academic Pressure', 'Work Pressure', 'CGPA', \n",
    "        'Study Satisfaction','Job Satisfaction', \n",
    "          'Work/Study Hours', 'Financial Stress']] = test_num_df[['Age','Academic Pressure', \n",
    "                                                                  'Work Pressure', 'CGPA', \n",
    "                                                                  'Study Satisfaction','Job Satisfaction', 'Work/Study Hours', \n",
    "                                                                  'Financial Stress']]\n",
    "\n",
    "test_df.head(5)"
   ]
  },
  {
   "cell_type": "code",
   "execution_count": 239,
   "metadata": {},
   "outputs": [],
   "source": [
    "train_df.to_csv(\"Cleaned_train_set.csv\")\n",
    "test_df.to_csv(\"Cleaned_test_set.csv\")"
   ]
  },
  {
   "cell_type": "markdown",
   "metadata": {},
   "source": [
    "## Categorizing Object to numericals (Label Encoding)"
   ]
  },
  {
   "cell_type": "code",
   "execution_count": 240,
   "metadata": {
    "execution": {
     "iopub.execute_input": "2025-02-21T20:38:49.243119Z",
     "iopub.status.busy": "2025-02-21T20:38:49.242881Z",
     "iopub.status.idle": "2025-02-21T20:38:49.312961Z",
     "shell.execute_reply": "2025-02-21T20:38:49.311984Z",
     "shell.execute_reply.started": "2025-02-21T20:38:49.243099Z"
    }
   },
   "outputs": [
    {
     "data": {
      "text/html": [
       "<div>\n",
       "<style scoped>\n",
       "    .dataframe tbody tr th:only-of-type {\n",
       "        vertical-align: middle;\n",
       "    }\n",
       "\n",
       "    .dataframe tbody tr th {\n",
       "        vertical-align: top;\n",
       "    }\n",
       "\n",
       "    .dataframe thead th {\n",
       "        text-align: right;\n",
       "    }\n",
       "</style>\n",
       "<table border=\"1\" class=\"dataframe\">\n",
       "  <thead>\n",
       "    <tr style=\"text-align: right;\">\n",
       "      <th></th>\n",
       "      <th>Gender</th>\n",
       "      <th>City</th>\n",
       "      <th>Working Professional or Student</th>\n",
       "      <th>Profession</th>\n",
       "      <th>Sleep Duration</th>\n",
       "      <th>Dietary Habits</th>\n",
       "      <th>Degree</th>\n",
       "      <th>Have you ever had suicidal thoughts ?</th>\n",
       "      <th>Family History of Mental Illness</th>\n",
       "    </tr>\n",
       "    <tr>\n",
       "      <th>id</th>\n",
       "      <th></th>\n",
       "      <th></th>\n",
       "      <th></th>\n",
       "      <th></th>\n",
       "      <th></th>\n",
       "      <th></th>\n",
       "      <th></th>\n",
       "      <th></th>\n",
       "      <th></th>\n",
       "    </tr>\n",
       "  </thead>\n",
       "  <tbody>\n",
       "    <tr>\n",
       "      <th>140700</th>\n",
       "      <td>Male</td>\n",
       "      <td>Visakhapatnam</td>\n",
       "      <td>Working Professional</td>\n",
       "      <td>Judge</td>\n",
       "      <td>Less than 5 hours</td>\n",
       "      <td>Moderate</td>\n",
       "      <td>LLB</td>\n",
       "      <td>No</td>\n",
       "      <td>Yes</td>\n",
       "    </tr>\n",
       "    <tr>\n",
       "      <th>140701</th>\n",
       "      <td>Female</td>\n",
       "      <td>Kolkata</td>\n",
       "      <td>Working Professional</td>\n",
       "      <td>Educational Consultant</td>\n",
       "      <td>Less than 5 hours</td>\n",
       "      <td>Moderate</td>\n",
       "      <td>B.Ed</td>\n",
       "      <td>No</td>\n",
       "      <td>No</td>\n",
       "    </tr>\n",
       "    <tr>\n",
       "      <th>140702</th>\n",
       "      <td>Male</td>\n",
       "      <td>Jaipur</td>\n",
       "      <td>Working Professional</td>\n",
       "      <td>Teacher</td>\n",
       "      <td>7-8 hours</td>\n",
       "      <td>Moderate</td>\n",
       "      <td>B.Arch</td>\n",
       "      <td>Yes</td>\n",
       "      <td>No</td>\n",
       "    </tr>\n",
       "    <tr>\n",
       "      <th>140703</th>\n",
       "      <td>Female</td>\n",
       "      <td>Rajkot</td>\n",
       "      <td>Student</td>\n",
       "      <td>Student</td>\n",
       "      <td>More than 8 hours</td>\n",
       "      <td>Moderate</td>\n",
       "      <td>BSc</td>\n",
       "      <td>Yes</td>\n",
       "      <td>No</td>\n",
       "    </tr>\n",
       "    <tr>\n",
       "      <th>140704</th>\n",
       "      <td>Male</td>\n",
       "      <td>Kalyan</td>\n",
       "      <td>Working Professional</td>\n",
       "      <td>Teacher</td>\n",
       "      <td>7-8 hours</td>\n",
       "      <td>Moderate</td>\n",
       "      <td>BCA</td>\n",
       "      <td>Yes</td>\n",
       "      <td>No</td>\n",
       "    </tr>\n",
       "    <tr>\n",
       "      <th>...</th>\n",
       "      <td>...</td>\n",
       "      <td>...</td>\n",
       "      <td>...</td>\n",
       "      <td>...</td>\n",
       "      <td>...</td>\n",
       "      <td>...</td>\n",
       "      <td>...</td>\n",
       "      <td>...</td>\n",
       "      <td>...</td>\n",
       "    </tr>\n",
       "    <tr>\n",
       "      <th>234495</th>\n",
       "      <td>Female</td>\n",
       "      <td>Jaipur</td>\n",
       "      <td>Working Professional</td>\n",
       "      <td>Pilot</td>\n",
       "      <td>Less than 5 hours</td>\n",
       "      <td>Moderate</td>\n",
       "      <td>BSc</td>\n",
       "      <td>Yes</td>\n",
       "      <td>Yes</td>\n",
       "    </tr>\n",
       "    <tr>\n",
       "      <th>234496</th>\n",
       "      <td>Male</td>\n",
       "      <td>Ahmedabad</td>\n",
       "      <td>Working Professional</td>\n",
       "      <td>Pilot</td>\n",
       "      <td>7-8 hours</td>\n",
       "      <td>Moderate</td>\n",
       "      <td>BE</td>\n",
       "      <td>Yes</td>\n",
       "      <td>Yes</td>\n",
       "    </tr>\n",
       "    <tr>\n",
       "      <th>234497</th>\n",
       "      <td>Male</td>\n",
       "      <td>Visakhapatnam</td>\n",
       "      <td>Student</td>\n",
       "      <td>Student</td>\n",
       "      <td>7-8 hours</td>\n",
       "      <td>Moderate</td>\n",
       "      <td>B.Tech</td>\n",
       "      <td>No</td>\n",
       "      <td>No</td>\n",
       "    </tr>\n",
       "    <tr>\n",
       "      <th>234498</th>\n",
       "      <td>Female</td>\n",
       "      <td>Kalyan</td>\n",
       "      <td>Working Professional</td>\n",
       "      <td>Marketing Manager</td>\n",
       "      <td>5-6 hours</td>\n",
       "      <td>Healthy</td>\n",
       "      <td>BA</td>\n",
       "      <td>Yes</td>\n",
       "      <td>Yes</td>\n",
       "    </tr>\n",
       "    <tr>\n",
       "      <th>234499</th>\n",
       "      <td>Female</td>\n",
       "      <td>Varanasi</td>\n",
       "      <td>Working Professional</td>\n",
       "      <td>Educational Consultant</td>\n",
       "      <td>More than 8 hours</td>\n",
       "      <td>Healthy</td>\n",
       "      <td>B.Ed</td>\n",
       "      <td>No</td>\n",
       "      <td>No</td>\n",
       "    </tr>\n",
       "  </tbody>\n",
       "</table>\n",
       "<p>93800 rows × 9 columns</p>\n",
       "</div>"
      ],
      "text/plain": [
       "        Gender           City Working Professional or Student  \\\n",
       "id                                                              \n",
       "140700    Male  Visakhapatnam            Working Professional   \n",
       "140701  Female        Kolkata            Working Professional   \n",
       "140702    Male         Jaipur            Working Professional   \n",
       "140703  Female         Rajkot                         Student   \n",
       "140704    Male         Kalyan            Working Professional   \n",
       "...        ...            ...                             ...   \n",
       "234495  Female         Jaipur            Working Professional   \n",
       "234496    Male      Ahmedabad            Working Professional   \n",
       "234497    Male  Visakhapatnam                         Student   \n",
       "234498  Female         Kalyan            Working Professional   \n",
       "234499  Female       Varanasi            Working Professional   \n",
       "\n",
       "                    Profession     Sleep Duration Dietary Habits  Degree  \\\n",
       "id                                                                         \n",
       "140700                   Judge  Less than 5 hours       Moderate     LLB   \n",
       "140701  Educational Consultant  Less than 5 hours       Moderate    B.Ed   \n",
       "140702                 Teacher          7-8 hours       Moderate  B.Arch   \n",
       "140703                 Student  More than 8 hours       Moderate     BSc   \n",
       "140704                 Teacher          7-8 hours       Moderate     BCA   \n",
       "...                        ...                ...            ...     ...   \n",
       "234495                   Pilot  Less than 5 hours       Moderate     BSc   \n",
       "234496                   Pilot          7-8 hours       Moderate      BE   \n",
       "234497                 Student          7-8 hours       Moderate  B.Tech   \n",
       "234498       Marketing Manager          5-6 hours        Healthy      BA   \n",
       "234499  Educational Consultant  More than 8 hours        Healthy    B.Ed   \n",
       "\n",
       "       Have you ever had suicidal thoughts ? Family History of Mental Illness  \n",
       "id                                                                             \n",
       "140700                                    No                              Yes  \n",
       "140701                                    No                               No  \n",
       "140702                                   Yes                               No  \n",
       "140703                                   Yes                               No  \n",
       "140704                                   Yes                               No  \n",
       "...                                      ...                              ...  \n",
       "234495                                   Yes                              Yes  \n",
       "234496                                   Yes                              Yes  \n",
       "234497                                    No                               No  \n",
       "234498                                   Yes                              Yes  \n",
       "234499                                    No                               No  \n",
       "\n",
       "[93800 rows x 9 columns]"
      ]
     },
     "execution_count": 240,
     "metadata": {},
     "output_type": "execute_result"
    }
   ],
   "source": [
    "train_obj_df = train_df.select_dtypes(include=['object'])\n",
    "train_obj_df\n",
    "test_obj_df = test_df.select_dtypes(include=['object'])\n",
    "test_obj_df"
   ]
  },
  {
   "cell_type": "code",
   "execution_count": 241,
   "metadata": {
    "execution": {
     "iopub.execute_input": "2025-02-21T20:38:49.314007Z",
     "iopub.status.busy": "2025-02-21T20:38:49.313720Z",
     "iopub.status.idle": "2025-02-21T20:38:49.539345Z",
     "shell.execute_reply": "2025-02-21T20:38:49.538391Z",
     "shell.execute_reply.started": "2025-02-21T20:38:49.313984Z"
    }
   },
   "outputs": [
    {
     "data": {
      "text/html": [
       "<div>\n",
       "<style scoped>\n",
       "    .dataframe tbody tr th:only-of-type {\n",
       "        vertical-align: middle;\n",
       "    }\n",
       "\n",
       "    .dataframe tbody tr th {\n",
       "        vertical-align: top;\n",
       "    }\n",
       "\n",
       "    .dataframe thead th {\n",
       "        text-align: right;\n",
       "    }\n",
       "</style>\n",
       "<table border=\"1\" class=\"dataframe\">\n",
       "  <thead>\n",
       "    <tr style=\"text-align: right;\">\n",
       "      <th></th>\n",
       "      <th>Gender</th>\n",
       "      <th>City</th>\n",
       "      <th>Working Professional or Student</th>\n",
       "      <th>Profession</th>\n",
       "      <th>Sleep Duration</th>\n",
       "      <th>Dietary Habits</th>\n",
       "      <th>Degree</th>\n",
       "      <th>Have you ever had suicidal thoughts ?</th>\n",
       "      <th>Family History of Mental Illness</th>\n",
       "    </tr>\n",
       "    <tr>\n",
       "      <th>id</th>\n",
       "      <th></th>\n",
       "      <th></th>\n",
       "      <th></th>\n",
       "      <th></th>\n",
       "      <th></th>\n",
       "      <th></th>\n",
       "      <th></th>\n",
       "      <th></th>\n",
       "      <th></th>\n",
       "    </tr>\n",
       "  </thead>\n",
       "  <tbody>\n",
       "    <tr>\n",
       "      <th>0</th>\n",
       "      <td>0</td>\n",
       "      <td>15</td>\n",
       "      <td>1</td>\n",
       "      <td>3</td>\n",
       "      <td>3</td>\n",
       "      <td>0</td>\n",
       "      <td>9</td>\n",
       "      <td>0</td>\n",
       "      <td>0</td>\n",
       "    </tr>\n",
       "    <tr>\n",
       "      <th>1</th>\n",
       "      <td>1</td>\n",
       "      <td>28</td>\n",
       "      <td>1</td>\n",
       "      <td>30</td>\n",
       "      <td>2</td>\n",
       "      <td>3</td>\n",
       "      <td>12</td>\n",
       "      <td>1</td>\n",
       "      <td>0</td>\n",
       "    </tr>\n",
       "    <tr>\n",
       "      <th>2</th>\n",
       "      <td>1</td>\n",
       "      <td>30</td>\n",
       "      <td>0</td>\n",
       "      <td>29</td>\n",
       "      <td>0</td>\n",
       "      <td>0</td>\n",
       "      <td>3</td>\n",
       "      <td>1</td>\n",
       "      <td>0</td>\n",
       "    </tr>\n",
       "    <tr>\n",
       "      <th>3</th>\n",
       "      <td>1</td>\n",
       "      <td>17</td>\n",
       "      <td>1</td>\n",
       "      <td>30</td>\n",
       "      <td>2</td>\n",
       "      <td>1</td>\n",
       "      <td>6</td>\n",
       "      <td>1</td>\n",
       "      <td>1</td>\n",
       "    </tr>\n",
       "    <tr>\n",
       "      <th>4</th>\n",
       "      <td>0</td>\n",
       "      <td>12</td>\n",
       "      <td>1</td>\n",
       "      <td>2</td>\n",
       "      <td>0</td>\n",
       "      <td>3</td>\n",
       "      <td>6</td>\n",
       "      <td>1</td>\n",
       "      <td>1</td>\n",
       "    </tr>\n",
       "    <tr>\n",
       "      <th>...</th>\n",
       "      <td>...</td>\n",
       "      <td>...</td>\n",
       "      <td>...</td>\n",
       "      <td>...</td>\n",
       "      <td>...</td>\n",
       "      <td>...</td>\n",
       "      <td>...</td>\n",
       "      <td>...</td>\n",
       "      <td>...</td>\n",
       "    </tr>\n",
       "    <tr>\n",
       "      <th>140695</th>\n",
       "      <td>0</td>\n",
       "      <td>1</td>\n",
       "      <td>1</td>\n",
       "      <td>33</td>\n",
       "      <td>0</td>\n",
       "      <td>3</td>\n",
       "      <td>11</td>\n",
       "      <td>0</td>\n",
       "      <td>1</td>\n",
       "    </tr>\n",
       "    <tr>\n",
       "      <th>140696</th>\n",
       "      <td>0</td>\n",
       "      <td>8</td>\n",
       "      <td>1</td>\n",
       "      <td>7</td>\n",
       "      <td>1</td>\n",
       "      <td>1</td>\n",
       "      <td>4</td>\n",
       "      <td>1</td>\n",
       "      <td>1</td>\n",
       "    </tr>\n",
       "    <tr>\n",
       "      <th>140697</th>\n",
       "      <td>0</td>\n",
       "      <td>13</td>\n",
       "      <td>1</td>\n",
       "      <td>21</td>\n",
       "      <td>3</td>\n",
       "      <td>1</td>\n",
       "      <td>1</td>\n",
       "      <td>0</td>\n",
       "      <td>0</td>\n",
       "    </tr>\n",
       "    <tr>\n",
       "      <th>140698</th>\n",
       "      <td>0</td>\n",
       "      <td>24</td>\n",
       "      <td>1</td>\n",
       "      <td>25</td>\n",
       "      <td>0</td>\n",
       "      <td>1</td>\n",
       "      <td>23</td>\n",
       "      <td>1</td>\n",
       "      <td>0</td>\n",
       "    </tr>\n",
       "    <tr>\n",
       "      <th>140699</th>\n",
       "      <td>1</td>\n",
       "      <td>21</td>\n",
       "      <td>0</td>\n",
       "      <td>29</td>\n",
       "      <td>2</td>\n",
       "      <td>0</td>\n",
       "      <td>7</td>\n",
       "      <td>1</td>\n",
       "      <td>1</td>\n",
       "    </tr>\n",
       "  </tbody>\n",
       "</table>\n",
       "<p>140700 rows × 9 columns</p>\n",
       "</div>"
      ],
      "text/plain": [
       "        Gender  City  Working Professional or Student  Profession  \\\n",
       "id                                                                  \n",
       "0            0    15                                1           3   \n",
       "1            1    28                                1          30   \n",
       "2            1    30                                0          29   \n",
       "3            1    17                                1          30   \n",
       "4            0    12                                1           2   \n",
       "...        ...   ...                              ...         ...   \n",
       "140695       0     1                                1          33   \n",
       "140696       0     8                                1           7   \n",
       "140697       0    13                                1          21   \n",
       "140698       0    24                                1          25   \n",
       "140699       1    21                                0          29   \n",
       "\n",
       "        Sleep Duration  Dietary Habits  Degree  \\\n",
       "id                                               \n",
       "0                    3               0       9   \n",
       "1                    2               3      12   \n",
       "2                    0               0       3   \n",
       "3                    2               1       6   \n",
       "4                    0               3       6   \n",
       "...                ...             ...     ...   \n",
       "140695               0               3      11   \n",
       "140696               1               1       4   \n",
       "140697               3               1       1   \n",
       "140698               0               1      23   \n",
       "140699               2               0       7   \n",
       "\n",
       "        Have you ever had suicidal thoughts ?  \\\n",
       "id                                              \n",
       "0                                           0   \n",
       "1                                           1   \n",
       "2                                           1   \n",
       "3                                           1   \n",
       "4                                           1   \n",
       "...                                       ...   \n",
       "140695                                      0   \n",
       "140696                                      1   \n",
       "140697                                      0   \n",
       "140698                                      1   \n",
       "140699                                      1   \n",
       "\n",
       "        Family History of Mental Illness  \n",
       "id                                        \n",
       "0                                      0  \n",
       "1                                      0  \n",
       "2                                      0  \n",
       "3                                      1  \n",
       "4                                      1  \n",
       "...                                  ...  \n",
       "140695                                 1  \n",
       "140696                                 1  \n",
       "140697                                 0  \n",
       "140698                                 0  \n",
       "140699                                 1  \n",
       "\n",
       "[140700 rows x 9 columns]"
      ]
     },
     "execution_count": 241,
     "metadata": {},
     "output_type": "execute_result"
    }
   ],
   "source": [
    "# Label Encoding train set\n",
    "train_obj_df = train_obj_df.apply(LabelEncoder().fit_transform)\n",
    "train_obj_df"
   ]
  },
  {
   "cell_type": "code",
   "execution_count": 242,
   "metadata": {
    "execution": {
     "iopub.execute_input": "2025-02-21T20:38:49.540600Z",
     "iopub.status.busy": "2025-02-21T20:38:49.540284Z",
     "iopub.status.idle": "2025-02-21T20:38:49.701344Z",
     "shell.execute_reply": "2025-02-21T20:38:49.700157Z",
     "shell.execute_reply.started": "2025-02-21T20:38:49.540570Z"
    }
   },
   "outputs": [
    {
     "data": {
      "text/html": [
       "<div>\n",
       "<style scoped>\n",
       "    .dataframe tbody tr th:only-of-type {\n",
       "        vertical-align: middle;\n",
       "    }\n",
       "\n",
       "    .dataframe tbody tr th {\n",
       "        vertical-align: top;\n",
       "    }\n",
       "\n",
       "    .dataframe thead th {\n",
       "        text-align: right;\n",
       "    }\n",
       "</style>\n",
       "<table border=\"1\" class=\"dataframe\">\n",
       "  <thead>\n",
       "    <tr style=\"text-align: right;\">\n",
       "      <th></th>\n",
       "      <th>Gender</th>\n",
       "      <th>City</th>\n",
       "      <th>Working Professional or Student</th>\n",
       "      <th>Profession</th>\n",
       "      <th>Sleep Duration</th>\n",
       "      <th>Dietary Habits</th>\n",
       "      <th>Degree</th>\n",
       "      <th>Have you ever had suicidal thoughts ?</th>\n",
       "      <th>Family History of Mental Illness</th>\n",
       "    </tr>\n",
       "    <tr>\n",
       "      <th>id</th>\n",
       "      <th></th>\n",
       "      <th></th>\n",
       "      <th></th>\n",
       "      <th></th>\n",
       "      <th></th>\n",
       "      <th></th>\n",
       "      <th></th>\n",
       "      <th></th>\n",
       "      <th></th>\n",
       "    </tr>\n",
       "  </thead>\n",
       "  <tbody>\n",
       "    <tr>\n",
       "      <th>140700</th>\n",
       "      <td>1</td>\n",
       "      <td>30</td>\n",
       "      <td>1</td>\n",
       "      <td>17</td>\n",
       "      <td>2</td>\n",
       "      <td>1</td>\n",
       "      <td>12</td>\n",
       "      <td>0</td>\n",
       "      <td>1</td>\n",
       "    </tr>\n",
       "    <tr>\n",
       "      <th>140701</th>\n",
       "      <td>0</td>\n",
       "      <td>13</td>\n",
       "      <td>1</td>\n",
       "      <td>11</td>\n",
       "      <td>2</td>\n",
       "      <td>1</td>\n",
       "      <td>2</td>\n",
       "      <td>0</td>\n",
       "      <td>0</td>\n",
       "    </tr>\n",
       "    <tr>\n",
       "      <th>140702</th>\n",
       "      <td>1</td>\n",
       "      <td>10</td>\n",
       "      <td>1</td>\n",
       "      <td>29</td>\n",
       "      <td>1</td>\n",
       "      <td>1</td>\n",
       "      <td>0</td>\n",
       "      <td>1</td>\n",
       "      <td>0</td>\n",
       "    </tr>\n",
       "    <tr>\n",
       "      <th>140703</th>\n",
       "      <td>0</td>\n",
       "      <td>23</td>\n",
       "      <td>0</td>\n",
       "      <td>28</td>\n",
       "      <td>3</td>\n",
       "      <td>1</td>\n",
       "      <td>10</td>\n",
       "      <td>1</td>\n",
       "      <td>0</td>\n",
       "    </tr>\n",
       "    <tr>\n",
       "      <th>140704</th>\n",
       "      <td>1</td>\n",
       "      <td>11</td>\n",
       "      <td>1</td>\n",
       "      <td>29</td>\n",
       "      <td>1</td>\n",
       "      <td>1</td>\n",
       "      <td>7</td>\n",
       "      <td>1</td>\n",
       "      <td>0</td>\n",
       "    </tr>\n",
       "    <tr>\n",
       "      <th>...</th>\n",
       "      <td>...</td>\n",
       "      <td>...</td>\n",
       "      <td>...</td>\n",
       "      <td>...</td>\n",
       "      <td>...</td>\n",
       "      <td>...</td>\n",
       "      <td>...</td>\n",
       "      <td>...</td>\n",
       "      <td>...</td>\n",
       "    </tr>\n",
       "    <tr>\n",
       "      <th>234495</th>\n",
       "      <td>0</td>\n",
       "      <td>10</td>\n",
       "      <td>1</td>\n",
       "      <td>23</td>\n",
       "      <td>2</td>\n",
       "      <td>1</td>\n",
       "      <td>10</td>\n",
       "      <td>1</td>\n",
       "      <td>1</td>\n",
       "    </tr>\n",
       "    <tr>\n",
       "      <th>234496</th>\n",
       "      <td>1</td>\n",
       "      <td>1</td>\n",
       "      <td>1</td>\n",
       "      <td>23</td>\n",
       "      <td>1</td>\n",
       "      <td>1</td>\n",
       "      <td>8</td>\n",
       "      <td>1</td>\n",
       "      <td>1</td>\n",
       "    </tr>\n",
       "    <tr>\n",
       "      <th>234497</th>\n",
       "      <td>1</td>\n",
       "      <td>30</td>\n",
       "      <td>0</td>\n",
       "      <td>28</td>\n",
       "      <td>1</td>\n",
       "      <td>1</td>\n",
       "      <td>4</td>\n",
       "      <td>0</td>\n",
       "      <td>0</td>\n",
       "    </tr>\n",
       "    <tr>\n",
       "      <th>234498</th>\n",
       "      <td>0</td>\n",
       "      <td>11</td>\n",
       "      <td>1</td>\n",
       "      <td>20</td>\n",
       "      <td>0</td>\n",
       "      <td>0</td>\n",
       "      <td>5</td>\n",
       "      <td>1</td>\n",
       "      <td>1</td>\n",
       "    </tr>\n",
       "    <tr>\n",
       "      <th>234499</th>\n",
       "      <td>0</td>\n",
       "      <td>28</td>\n",
       "      <td>1</td>\n",
       "      <td>11</td>\n",
       "      <td>3</td>\n",
       "      <td>0</td>\n",
       "      <td>2</td>\n",
       "      <td>0</td>\n",
       "      <td>0</td>\n",
       "    </tr>\n",
       "  </tbody>\n",
       "</table>\n",
       "<p>93800 rows × 9 columns</p>\n",
       "</div>"
      ],
      "text/plain": [
       "        Gender  City  Working Professional or Student  Profession  \\\n",
       "id                                                                  \n",
       "140700       1    30                                1          17   \n",
       "140701       0    13                                1          11   \n",
       "140702       1    10                                1          29   \n",
       "140703       0    23                                0          28   \n",
       "140704       1    11                                1          29   \n",
       "...        ...   ...                              ...         ...   \n",
       "234495       0    10                                1          23   \n",
       "234496       1     1                                1          23   \n",
       "234497       1    30                                0          28   \n",
       "234498       0    11                                1          20   \n",
       "234499       0    28                                1          11   \n",
       "\n",
       "        Sleep Duration  Dietary Habits  Degree  \\\n",
       "id                                               \n",
       "140700               2               1      12   \n",
       "140701               2               1       2   \n",
       "140702               1               1       0   \n",
       "140703               3               1      10   \n",
       "140704               1               1       7   \n",
       "...                ...             ...     ...   \n",
       "234495               2               1      10   \n",
       "234496               1               1       8   \n",
       "234497               1               1       4   \n",
       "234498               0               0       5   \n",
       "234499               3               0       2   \n",
       "\n",
       "        Have you ever had suicidal thoughts ?  \\\n",
       "id                                              \n",
       "140700                                      0   \n",
       "140701                                      0   \n",
       "140702                                      1   \n",
       "140703                                      1   \n",
       "140704                                      1   \n",
       "...                                       ...   \n",
       "234495                                      1   \n",
       "234496                                      1   \n",
       "234497                                      0   \n",
       "234498                                      1   \n",
       "234499                                      0   \n",
       "\n",
       "        Family History of Mental Illness  \n",
       "id                                        \n",
       "140700                                 1  \n",
       "140701                                 0  \n",
       "140702                                 0  \n",
       "140703                                 0  \n",
       "140704                                 0  \n",
       "...                                  ...  \n",
       "234495                                 1  \n",
       "234496                                 1  \n",
       "234497                                 0  \n",
       "234498                                 1  \n",
       "234499                                 0  \n",
       "\n",
       "[93800 rows x 9 columns]"
      ]
     },
     "execution_count": 242,
     "metadata": {},
     "output_type": "execute_result"
    }
   ],
   "source": [
    "# Label Encoding train set\n",
    "test_obj_df = test_obj_df.apply(LabelEncoder().fit_transform)\n",
    "test_obj_df"
   ]
  },
  {
   "cell_type": "code",
   "execution_count": 243,
   "metadata": {
    "execution": {
     "iopub.execute_input": "2025-02-21T20:38:49.703153Z",
     "iopub.status.busy": "2025-02-21T20:38:49.702680Z",
     "iopub.status.idle": "2025-02-21T20:38:49.709713Z",
     "shell.execute_reply": "2025-02-21T20:38:49.708690Z",
     "shell.execute_reply.started": "2025-02-21T20:38:49.703111Z"
    }
   },
   "outputs": [
    {
     "data": {
      "text/plain": [
       "['Gender',\n",
       " 'City',\n",
       " 'Working Professional or Student',\n",
       " 'Profession',\n",
       " 'Sleep Duration',\n",
       " 'Dietary Habits',\n",
       " 'Degree',\n",
       " 'Have you ever had suicidal thoughts ?',\n",
       " 'Family History of Mental Illness']"
      ]
     },
     "execution_count": 243,
     "metadata": {},
     "output_type": "execute_result"
    }
   ],
   "source": [
    "col_obj_ls = list(train_obj_df.columns)\n",
    "col_obj_ls"
   ]
  },
  {
   "cell_type": "code",
   "execution_count": 244,
   "metadata": {
    "execution": {
     "iopub.execute_input": "2025-02-21T20:38:49.711225Z",
     "iopub.status.busy": "2025-02-21T20:38:49.710854Z",
     "iopub.status.idle": "2025-02-21T20:38:49.765539Z",
     "shell.execute_reply": "2025-02-21T20:38:49.764659Z",
     "shell.execute_reply.started": "2025-02-21T20:38:49.711190Z"
    }
   },
   "outputs": [
    {
     "data": {
      "text/html": [
       "<div>\n",
       "<style scoped>\n",
       "    .dataframe tbody tr th:only-of-type {\n",
       "        vertical-align: middle;\n",
       "    }\n",
       "\n",
       "    .dataframe tbody tr th {\n",
       "        vertical-align: top;\n",
       "    }\n",
       "\n",
       "    .dataframe thead th {\n",
       "        text-align: right;\n",
       "    }\n",
       "</style>\n",
       "<table border=\"1\" class=\"dataframe\">\n",
       "  <thead>\n",
       "    <tr style=\"text-align: right;\">\n",
       "      <th></th>\n",
       "      <th>Gender</th>\n",
       "      <th>Age</th>\n",
       "      <th>City</th>\n",
       "      <th>Working Professional or Student</th>\n",
       "      <th>Profession</th>\n",
       "      <th>Academic Pressure</th>\n",
       "      <th>Work Pressure</th>\n",
       "      <th>CGPA</th>\n",
       "      <th>Study Satisfaction</th>\n",
       "      <th>Job Satisfaction</th>\n",
       "      <th>Sleep Duration</th>\n",
       "      <th>Dietary Habits</th>\n",
       "      <th>Degree</th>\n",
       "      <th>Have you ever had suicidal thoughts ?</th>\n",
       "      <th>Work/Study Hours</th>\n",
       "      <th>Financial Stress</th>\n",
       "      <th>Family History of Mental Illness</th>\n",
       "      <th>Depression</th>\n",
       "    </tr>\n",
       "    <tr>\n",
       "      <th>id</th>\n",
       "      <th></th>\n",
       "      <th></th>\n",
       "      <th></th>\n",
       "      <th></th>\n",
       "      <th></th>\n",
       "      <th></th>\n",
       "      <th></th>\n",
       "      <th></th>\n",
       "      <th></th>\n",
       "      <th></th>\n",
       "      <th></th>\n",
       "      <th></th>\n",
       "      <th></th>\n",
       "      <th></th>\n",
       "      <th></th>\n",
       "      <th></th>\n",
       "      <th></th>\n",
       "      <th></th>\n",
       "    </tr>\n",
       "  </thead>\n",
       "  <tbody>\n",
       "    <tr>\n",
       "      <th>0</th>\n",
       "      <td>0</td>\n",
       "      <td>49.0</td>\n",
       "      <td>15</td>\n",
       "      <td>1</td>\n",
       "      <td>3</td>\n",
       "      <td>0.0</td>\n",
       "      <td>5.0</td>\n",
       "      <td>0.00</td>\n",
       "      <td>0.0</td>\n",
       "      <td>2.0</td>\n",
       "      <td>3</td>\n",
       "      <td>0</td>\n",
       "      <td>9</td>\n",
       "      <td>0</td>\n",
       "      <td>1.0</td>\n",
       "      <td>2.0</td>\n",
       "      <td>0</td>\n",
       "      <td>0</td>\n",
       "    </tr>\n",
       "    <tr>\n",
       "      <th>1</th>\n",
       "      <td>1</td>\n",
       "      <td>26.0</td>\n",
       "      <td>28</td>\n",
       "      <td>1</td>\n",
       "      <td>30</td>\n",
       "      <td>0.0</td>\n",
       "      <td>4.0</td>\n",
       "      <td>0.00</td>\n",
       "      <td>0.0</td>\n",
       "      <td>3.0</td>\n",
       "      <td>2</td>\n",
       "      <td>3</td>\n",
       "      <td>12</td>\n",
       "      <td>1</td>\n",
       "      <td>7.0</td>\n",
       "      <td>3.0</td>\n",
       "      <td>0</td>\n",
       "      <td>1</td>\n",
       "    </tr>\n",
       "    <tr>\n",
       "      <th>2</th>\n",
       "      <td>1</td>\n",
       "      <td>33.0</td>\n",
       "      <td>30</td>\n",
       "      <td>0</td>\n",
       "      <td>29</td>\n",
       "      <td>5.0</td>\n",
       "      <td>0.0</td>\n",
       "      <td>8.97</td>\n",
       "      <td>2.0</td>\n",
       "      <td>0.0</td>\n",
       "      <td>0</td>\n",
       "      <td>0</td>\n",
       "      <td>3</td>\n",
       "      <td>1</td>\n",
       "      <td>3.0</td>\n",
       "      <td>1.0</td>\n",
       "      <td>0</td>\n",
       "      <td>1</td>\n",
       "    </tr>\n",
       "    <tr>\n",
       "      <th>3</th>\n",
       "      <td>1</td>\n",
       "      <td>22.0</td>\n",
       "      <td>17</td>\n",
       "      <td>1</td>\n",
       "      <td>30</td>\n",
       "      <td>0.0</td>\n",
       "      <td>5.0</td>\n",
       "      <td>0.00</td>\n",
       "      <td>0.0</td>\n",
       "      <td>1.0</td>\n",
       "      <td>2</td>\n",
       "      <td>1</td>\n",
       "      <td>6</td>\n",
       "      <td>1</td>\n",
       "      <td>10.0</td>\n",
       "      <td>1.0</td>\n",
       "      <td>1</td>\n",
       "      <td>1</td>\n",
       "    </tr>\n",
       "    <tr>\n",
       "      <th>4</th>\n",
       "      <td>0</td>\n",
       "      <td>30.0</td>\n",
       "      <td>12</td>\n",
       "      <td>1</td>\n",
       "      <td>2</td>\n",
       "      <td>0.0</td>\n",
       "      <td>1.0</td>\n",
       "      <td>0.00</td>\n",
       "      <td>0.0</td>\n",
       "      <td>1.0</td>\n",
       "      <td>0</td>\n",
       "      <td>3</td>\n",
       "      <td>6</td>\n",
       "      <td>1</td>\n",
       "      <td>9.0</td>\n",
       "      <td>4.0</td>\n",
       "      <td>1</td>\n",
       "      <td>0</td>\n",
       "    </tr>\n",
       "    <tr>\n",
       "      <th>...</th>\n",
       "      <td>...</td>\n",
       "      <td>...</td>\n",
       "      <td>...</td>\n",
       "      <td>...</td>\n",
       "      <td>...</td>\n",
       "      <td>...</td>\n",
       "      <td>...</td>\n",
       "      <td>...</td>\n",
       "      <td>...</td>\n",
       "      <td>...</td>\n",
       "      <td>...</td>\n",
       "      <td>...</td>\n",
       "      <td>...</td>\n",
       "      <td>...</td>\n",
       "      <td>...</td>\n",
       "      <td>...</td>\n",
       "      <td>...</td>\n",
       "      <td>...</td>\n",
       "    </tr>\n",
       "    <tr>\n",
       "      <th>140695</th>\n",
       "      <td>0</td>\n",
       "      <td>18.0</td>\n",
       "      <td>1</td>\n",
       "      <td>1</td>\n",
       "      <td>33</td>\n",
       "      <td>0.0</td>\n",
       "      <td>5.0</td>\n",
       "      <td>0.00</td>\n",
       "      <td>0.0</td>\n",
       "      <td>4.0</td>\n",
       "      <td>0</td>\n",
       "      <td>3</td>\n",
       "      <td>11</td>\n",
       "      <td>0</td>\n",
       "      <td>2.0</td>\n",
       "      <td>4.0</td>\n",
       "      <td>1</td>\n",
       "      <td>1</td>\n",
       "    </tr>\n",
       "    <tr>\n",
       "      <th>140696</th>\n",
       "      <td>0</td>\n",
       "      <td>41.0</td>\n",
       "      <td>8</td>\n",
       "      <td>1</td>\n",
       "      <td>7</td>\n",
       "      <td>0.0</td>\n",
       "      <td>5.0</td>\n",
       "      <td>0.00</td>\n",
       "      <td>0.0</td>\n",
       "      <td>4.0</td>\n",
       "      <td>1</td>\n",
       "      <td>1</td>\n",
       "      <td>4</td>\n",
       "      <td>1</td>\n",
       "      <td>6.0</td>\n",
       "      <td>5.0</td>\n",
       "      <td>1</td>\n",
       "      <td>0</td>\n",
       "    </tr>\n",
       "    <tr>\n",
       "      <th>140697</th>\n",
       "      <td>0</td>\n",
       "      <td>24.0</td>\n",
       "      <td>13</td>\n",
       "      <td>1</td>\n",
       "      <td>21</td>\n",
       "      <td>0.0</td>\n",
       "      <td>3.0</td>\n",
       "      <td>0.00</td>\n",
       "      <td>0.0</td>\n",
       "      <td>1.0</td>\n",
       "      <td>3</td>\n",
       "      <td>1</td>\n",
       "      <td>1</td>\n",
       "      <td>0</td>\n",
       "      <td>4.0</td>\n",
       "      <td>4.0</td>\n",
       "      <td>0</td>\n",
       "      <td>0</td>\n",
       "    </tr>\n",
       "    <tr>\n",
       "      <th>140698</th>\n",
       "      <td>0</td>\n",
       "      <td>49.0</td>\n",
       "      <td>24</td>\n",
       "      <td>1</td>\n",
       "      <td>25</td>\n",
       "      <td>0.0</td>\n",
       "      <td>5.0</td>\n",
       "      <td>0.00</td>\n",
       "      <td>0.0</td>\n",
       "      <td>2.0</td>\n",
       "      <td>0</td>\n",
       "      <td>1</td>\n",
       "      <td>23</td>\n",
       "      <td>1</td>\n",
       "      <td>10.0</td>\n",
       "      <td>1.0</td>\n",
       "      <td>0</td>\n",
       "      <td>0</td>\n",
       "    </tr>\n",
       "    <tr>\n",
       "      <th>140699</th>\n",
       "      <td>1</td>\n",
       "      <td>27.0</td>\n",
       "      <td>21</td>\n",
       "      <td>0</td>\n",
       "      <td>29</td>\n",
       "      <td>4.0</td>\n",
       "      <td>0.0</td>\n",
       "      <td>9.24</td>\n",
       "      <td>1.0</td>\n",
       "      <td>0.0</td>\n",
       "      <td>2</td>\n",
       "      <td>0</td>\n",
       "      <td>7</td>\n",
       "      <td>1</td>\n",
       "      <td>2.0</td>\n",
       "      <td>3.0</td>\n",
       "      <td>1</td>\n",
       "      <td>1</td>\n",
       "    </tr>\n",
       "  </tbody>\n",
       "</table>\n",
       "<p>140700 rows × 18 columns</p>\n",
       "</div>"
      ],
      "text/plain": [
       "        Gender   Age  City  Working Professional or Student  Profession  \\\n",
       "id                                                                        \n",
       "0            0  49.0    15                                1           3   \n",
       "1            1  26.0    28                                1          30   \n",
       "2            1  33.0    30                                0          29   \n",
       "3            1  22.0    17                                1          30   \n",
       "4            0  30.0    12                                1           2   \n",
       "...        ...   ...   ...                              ...         ...   \n",
       "140695       0  18.0     1                                1          33   \n",
       "140696       0  41.0     8                                1           7   \n",
       "140697       0  24.0    13                                1          21   \n",
       "140698       0  49.0    24                                1          25   \n",
       "140699       1  27.0    21                                0          29   \n",
       "\n",
       "        Academic Pressure  Work Pressure  CGPA  Study Satisfaction  \\\n",
       "id                                                                   \n",
       "0                     0.0            5.0  0.00                 0.0   \n",
       "1                     0.0            4.0  0.00                 0.0   \n",
       "2                     5.0            0.0  8.97                 2.0   \n",
       "3                     0.0            5.0  0.00                 0.0   \n",
       "4                     0.0            1.0  0.00                 0.0   \n",
       "...                   ...            ...   ...                 ...   \n",
       "140695                0.0            5.0  0.00                 0.0   \n",
       "140696                0.0            5.0  0.00                 0.0   \n",
       "140697                0.0            3.0  0.00                 0.0   \n",
       "140698                0.0            5.0  0.00                 0.0   \n",
       "140699                4.0            0.0  9.24                 1.0   \n",
       "\n",
       "        Job Satisfaction  Sleep Duration  Dietary Habits  Degree  \\\n",
       "id                                                                 \n",
       "0                    2.0               3               0       9   \n",
       "1                    3.0               2               3      12   \n",
       "2                    0.0               0               0       3   \n",
       "3                    1.0               2               1       6   \n",
       "4                    1.0               0               3       6   \n",
       "...                  ...             ...             ...     ...   \n",
       "140695               4.0               0               3      11   \n",
       "140696               4.0               1               1       4   \n",
       "140697               1.0               3               1       1   \n",
       "140698               2.0               0               1      23   \n",
       "140699               0.0               2               0       7   \n",
       "\n",
       "        Have you ever had suicidal thoughts ?  Work/Study Hours  \\\n",
       "id                                                                \n",
       "0                                           0               1.0   \n",
       "1                                           1               7.0   \n",
       "2                                           1               3.0   \n",
       "3                                           1              10.0   \n",
       "4                                           1               9.0   \n",
       "...                                       ...               ...   \n",
       "140695                                      0               2.0   \n",
       "140696                                      1               6.0   \n",
       "140697                                      0               4.0   \n",
       "140698                                      1              10.0   \n",
       "140699                                      1               2.0   \n",
       "\n",
       "        Financial Stress  Family History of Mental Illness  Depression  \n",
       "id                                                                      \n",
       "0                    2.0                                 0           0  \n",
       "1                    3.0                                 0           1  \n",
       "2                    1.0                                 0           1  \n",
       "3                    1.0                                 1           1  \n",
       "4                    4.0                                 1           0  \n",
       "...                  ...                               ...         ...  \n",
       "140695               4.0                                 1           1  \n",
       "140696               5.0                                 1           0  \n",
       "140697               4.0                                 0           0  \n",
       "140698               1.0                                 0           0  \n",
       "140699               3.0                                 1           1  \n",
       "\n",
       "[140700 rows x 18 columns]"
      ]
     },
     "execution_count": 244,
     "metadata": {},
     "output_type": "execute_result"
    }
   ],
   "source": [
    "train_df[col_obj_ls] = train_obj_df[col_obj_ls]\n",
    "train_df"
   ]
  },
  {
   "cell_type": "code",
   "execution_count": 245,
   "metadata": {
    "execution": {
     "iopub.execute_input": "2025-02-21T20:38:49.766525Z",
     "iopub.status.busy": "2025-02-21T20:38:49.766282Z",
     "iopub.status.idle": "2025-02-21T20:38:49.790930Z",
     "shell.execute_reply": "2025-02-21T20:38:49.790096Z",
     "shell.execute_reply.started": "2025-02-21T20:38:49.766505Z"
    }
   },
   "outputs": [
    {
     "data": {
      "text/html": [
       "<div>\n",
       "<style scoped>\n",
       "    .dataframe tbody tr th:only-of-type {\n",
       "        vertical-align: middle;\n",
       "    }\n",
       "\n",
       "    .dataframe tbody tr th {\n",
       "        vertical-align: top;\n",
       "    }\n",
       "\n",
       "    .dataframe thead th {\n",
       "        text-align: right;\n",
       "    }\n",
       "</style>\n",
       "<table border=\"1\" class=\"dataframe\">\n",
       "  <thead>\n",
       "    <tr style=\"text-align: right;\">\n",
       "      <th></th>\n",
       "      <th>Gender</th>\n",
       "      <th>Age</th>\n",
       "      <th>City</th>\n",
       "      <th>Working Professional or Student</th>\n",
       "      <th>Profession</th>\n",
       "      <th>Academic Pressure</th>\n",
       "      <th>Work Pressure</th>\n",
       "      <th>CGPA</th>\n",
       "      <th>Study Satisfaction</th>\n",
       "      <th>Job Satisfaction</th>\n",
       "      <th>Sleep Duration</th>\n",
       "      <th>Dietary Habits</th>\n",
       "      <th>Degree</th>\n",
       "      <th>Have you ever had suicidal thoughts ?</th>\n",
       "      <th>Work/Study Hours</th>\n",
       "      <th>Financial Stress</th>\n",
       "      <th>Family History of Mental Illness</th>\n",
       "    </tr>\n",
       "    <tr>\n",
       "      <th>id</th>\n",
       "      <th></th>\n",
       "      <th></th>\n",
       "      <th></th>\n",
       "      <th></th>\n",
       "      <th></th>\n",
       "      <th></th>\n",
       "      <th></th>\n",
       "      <th></th>\n",
       "      <th></th>\n",
       "      <th></th>\n",
       "      <th></th>\n",
       "      <th></th>\n",
       "      <th></th>\n",
       "      <th></th>\n",
       "      <th></th>\n",
       "      <th></th>\n",
       "      <th></th>\n",
       "    </tr>\n",
       "  </thead>\n",
       "  <tbody>\n",
       "    <tr>\n",
       "      <th>140700</th>\n",
       "      <td>1</td>\n",
       "      <td>53.0</td>\n",
       "      <td>30</td>\n",
       "      <td>1</td>\n",
       "      <td>17</td>\n",
       "      <td>0.0</td>\n",
       "      <td>2.0</td>\n",
       "      <td>0.00</td>\n",
       "      <td>0.0</td>\n",
       "      <td>5.0</td>\n",
       "      <td>2</td>\n",
       "      <td>1</td>\n",
       "      <td>12</td>\n",
       "      <td>0</td>\n",
       "      <td>9.0</td>\n",
       "      <td>3.0</td>\n",
       "      <td>1</td>\n",
       "    </tr>\n",
       "    <tr>\n",
       "      <th>140701</th>\n",
       "      <td>0</td>\n",
       "      <td>58.0</td>\n",
       "      <td>13</td>\n",
       "      <td>1</td>\n",
       "      <td>11</td>\n",
       "      <td>0.0</td>\n",
       "      <td>2.0</td>\n",
       "      <td>0.00</td>\n",
       "      <td>0.0</td>\n",
       "      <td>4.0</td>\n",
       "      <td>2</td>\n",
       "      <td>1</td>\n",
       "      <td>2</td>\n",
       "      <td>0</td>\n",
       "      <td>6.0</td>\n",
       "      <td>4.0</td>\n",
       "      <td>0</td>\n",
       "    </tr>\n",
       "    <tr>\n",
       "      <th>140702</th>\n",
       "      <td>1</td>\n",
       "      <td>53.0</td>\n",
       "      <td>10</td>\n",
       "      <td>1</td>\n",
       "      <td>29</td>\n",
       "      <td>0.0</td>\n",
       "      <td>4.0</td>\n",
       "      <td>0.00</td>\n",
       "      <td>0.0</td>\n",
       "      <td>1.0</td>\n",
       "      <td>1</td>\n",
       "      <td>1</td>\n",
       "      <td>0</td>\n",
       "      <td>1</td>\n",
       "      <td>12.0</td>\n",
       "      <td>4.0</td>\n",
       "      <td>0</td>\n",
       "    </tr>\n",
       "    <tr>\n",
       "      <th>140703</th>\n",
       "      <td>0</td>\n",
       "      <td>23.0</td>\n",
       "      <td>23</td>\n",
       "      <td>0</td>\n",
       "      <td>28</td>\n",
       "      <td>5.0</td>\n",
       "      <td>0.0</td>\n",
       "      <td>6.84</td>\n",
       "      <td>1.0</td>\n",
       "      <td>0.0</td>\n",
       "      <td>3</td>\n",
       "      <td>1</td>\n",
       "      <td>10</td>\n",
       "      <td>1</td>\n",
       "      <td>10.0</td>\n",
       "      <td>4.0</td>\n",
       "      <td>0</td>\n",
       "    </tr>\n",
       "    <tr>\n",
       "      <th>140704</th>\n",
       "      <td>1</td>\n",
       "      <td>47.0</td>\n",
       "      <td>11</td>\n",
       "      <td>1</td>\n",
       "      <td>29</td>\n",
       "      <td>0.0</td>\n",
       "      <td>5.0</td>\n",
       "      <td>0.00</td>\n",
       "      <td>0.0</td>\n",
       "      <td>5.0</td>\n",
       "      <td>1</td>\n",
       "      <td>1</td>\n",
       "      <td>7</td>\n",
       "      <td>1</td>\n",
       "      <td>3.0</td>\n",
       "      <td>4.0</td>\n",
       "      <td>0</td>\n",
       "    </tr>\n",
       "    <tr>\n",
       "      <th>...</th>\n",
       "      <td>...</td>\n",
       "      <td>...</td>\n",
       "      <td>...</td>\n",
       "      <td>...</td>\n",
       "      <td>...</td>\n",
       "      <td>...</td>\n",
       "      <td>...</td>\n",
       "      <td>...</td>\n",
       "      <td>...</td>\n",
       "      <td>...</td>\n",
       "      <td>...</td>\n",
       "      <td>...</td>\n",
       "      <td>...</td>\n",
       "      <td>...</td>\n",
       "      <td>...</td>\n",
       "      <td>...</td>\n",
       "      <td>...</td>\n",
       "    </tr>\n",
       "    <tr>\n",
       "      <th>234495</th>\n",
       "      <td>0</td>\n",
       "      <td>49.0</td>\n",
       "      <td>10</td>\n",
       "      <td>1</td>\n",
       "      <td>23</td>\n",
       "      <td>0.0</td>\n",
       "      <td>3.0</td>\n",
       "      <td>0.00</td>\n",
       "      <td>0.0</td>\n",
       "      <td>5.0</td>\n",
       "      <td>2</td>\n",
       "      <td>1</td>\n",
       "      <td>10</td>\n",
       "      <td>1</td>\n",
       "      <td>2.0</td>\n",
       "      <td>2.0</td>\n",
       "      <td>1</td>\n",
       "    </tr>\n",
       "    <tr>\n",
       "      <th>234496</th>\n",
       "      <td>1</td>\n",
       "      <td>29.0</td>\n",
       "      <td>1</td>\n",
       "      <td>1</td>\n",
       "      <td>23</td>\n",
       "      <td>0.0</td>\n",
       "      <td>5.0</td>\n",
       "      <td>0.00</td>\n",
       "      <td>0.0</td>\n",
       "      <td>1.0</td>\n",
       "      <td>1</td>\n",
       "      <td>1</td>\n",
       "      <td>8</td>\n",
       "      <td>1</td>\n",
       "      <td>11.0</td>\n",
       "      <td>3.0</td>\n",
       "      <td>1</td>\n",
       "    </tr>\n",
       "    <tr>\n",
       "      <th>234497</th>\n",
       "      <td>1</td>\n",
       "      <td>24.0</td>\n",
       "      <td>30</td>\n",
       "      <td>0</td>\n",
       "      <td>28</td>\n",
       "      <td>1.0</td>\n",
       "      <td>0.0</td>\n",
       "      <td>7.51</td>\n",
       "      <td>4.0</td>\n",
       "      <td>0.0</td>\n",
       "      <td>1</td>\n",
       "      <td>1</td>\n",
       "      <td>4</td>\n",
       "      <td>0</td>\n",
       "      <td>7.0</td>\n",
       "      <td>1.0</td>\n",
       "      <td>0</td>\n",
       "    </tr>\n",
       "    <tr>\n",
       "      <th>234498</th>\n",
       "      <td>0</td>\n",
       "      <td>23.0</td>\n",
       "      <td>11</td>\n",
       "      <td>1</td>\n",
       "      <td>20</td>\n",
       "      <td>0.0</td>\n",
       "      <td>4.0</td>\n",
       "      <td>0.00</td>\n",
       "      <td>0.0</td>\n",
       "      <td>2.0</td>\n",
       "      <td>0</td>\n",
       "      <td>0</td>\n",
       "      <td>5</td>\n",
       "      <td>1</td>\n",
       "      <td>7.0</td>\n",
       "      <td>5.0</td>\n",
       "      <td>1</td>\n",
       "    </tr>\n",
       "    <tr>\n",
       "      <th>234499</th>\n",
       "      <td>0</td>\n",
       "      <td>43.0</td>\n",
       "      <td>28</td>\n",
       "      <td>1</td>\n",
       "      <td>11</td>\n",
       "      <td>0.0</td>\n",
       "      <td>5.0</td>\n",
       "      <td>0.00</td>\n",
       "      <td>0.0</td>\n",
       "      <td>2.0</td>\n",
       "      <td>3</td>\n",
       "      <td>0</td>\n",
       "      <td>2</td>\n",
       "      <td>0</td>\n",
       "      <td>11.0</td>\n",
       "      <td>2.0</td>\n",
       "      <td>0</td>\n",
       "    </tr>\n",
       "  </tbody>\n",
       "</table>\n",
       "<p>93800 rows × 17 columns</p>\n",
       "</div>"
      ],
      "text/plain": [
       "        Gender   Age  City  Working Professional or Student  Profession  \\\n",
       "id                                                                        \n",
       "140700       1  53.0    30                                1          17   \n",
       "140701       0  58.0    13                                1          11   \n",
       "140702       1  53.0    10                                1          29   \n",
       "140703       0  23.0    23                                0          28   \n",
       "140704       1  47.0    11                                1          29   \n",
       "...        ...   ...   ...                              ...         ...   \n",
       "234495       0  49.0    10                                1          23   \n",
       "234496       1  29.0     1                                1          23   \n",
       "234497       1  24.0    30                                0          28   \n",
       "234498       0  23.0    11                                1          20   \n",
       "234499       0  43.0    28                                1          11   \n",
       "\n",
       "        Academic Pressure  Work Pressure  CGPA  Study Satisfaction  \\\n",
       "id                                                                   \n",
       "140700                0.0            2.0  0.00                 0.0   \n",
       "140701                0.0            2.0  0.00                 0.0   \n",
       "140702                0.0            4.0  0.00                 0.0   \n",
       "140703                5.0            0.0  6.84                 1.0   \n",
       "140704                0.0            5.0  0.00                 0.0   \n",
       "...                   ...            ...   ...                 ...   \n",
       "234495                0.0            3.0  0.00                 0.0   \n",
       "234496                0.0            5.0  0.00                 0.0   \n",
       "234497                1.0            0.0  7.51                 4.0   \n",
       "234498                0.0            4.0  0.00                 0.0   \n",
       "234499                0.0            5.0  0.00                 0.0   \n",
       "\n",
       "        Job Satisfaction  Sleep Duration  Dietary Habits  Degree  \\\n",
       "id                                                                 \n",
       "140700               5.0               2               1      12   \n",
       "140701               4.0               2               1       2   \n",
       "140702               1.0               1               1       0   \n",
       "140703               0.0               3               1      10   \n",
       "140704               5.0               1               1       7   \n",
       "...                  ...             ...             ...     ...   \n",
       "234495               5.0               2               1      10   \n",
       "234496               1.0               1               1       8   \n",
       "234497               0.0               1               1       4   \n",
       "234498               2.0               0               0       5   \n",
       "234499               2.0               3               0       2   \n",
       "\n",
       "        Have you ever had suicidal thoughts ?  Work/Study Hours  \\\n",
       "id                                                                \n",
       "140700                                      0               9.0   \n",
       "140701                                      0               6.0   \n",
       "140702                                      1              12.0   \n",
       "140703                                      1              10.0   \n",
       "140704                                      1               3.0   \n",
       "...                                       ...               ...   \n",
       "234495                                      1               2.0   \n",
       "234496                                      1              11.0   \n",
       "234497                                      0               7.0   \n",
       "234498                                      1               7.0   \n",
       "234499                                      0              11.0   \n",
       "\n",
       "        Financial Stress  Family History of Mental Illness  \n",
       "id                                                          \n",
       "140700               3.0                                 1  \n",
       "140701               4.0                                 0  \n",
       "140702               4.0                                 0  \n",
       "140703               4.0                                 0  \n",
       "140704               4.0                                 0  \n",
       "...                  ...                               ...  \n",
       "234495               2.0                                 1  \n",
       "234496               3.0                                 1  \n",
       "234497               1.0                                 0  \n",
       "234498               5.0                                 1  \n",
       "234499               2.0                                 0  \n",
       "\n",
       "[93800 rows x 17 columns]"
      ]
     },
     "execution_count": 245,
     "metadata": {},
     "output_type": "execute_result"
    }
   ],
   "source": [
    "test_df[col_obj_ls] = test_obj_df[col_obj_ls]\n",
    "test_df"
   ]
  },
  {
   "cell_type": "code",
   "execution_count": 246,
   "metadata": {
    "execution": {
     "iopub.execute_input": "2025-02-21T20:38:49.791987Z",
     "iopub.status.busy": "2025-02-21T20:38:49.791649Z",
     "iopub.status.idle": "2025-02-21T20:38:49.866595Z",
     "shell.execute_reply": "2025-02-21T20:38:49.865828Z",
     "shell.execute_reply.started": "2025-02-21T20:38:49.791965Z"
    }
   },
   "outputs": [
    {
     "name": "stdout",
     "output_type": "stream",
     "text": [
      "Duplicates for Train Set : 5\n",
      "Duplicates for Test Set : 4\n"
     ]
    }
   ],
   "source": [
    "# deletting duplicate rows for the trainset\n",
    "print(f\"Duplicates for Train Set : {train_df.duplicated().sum()}\")\n",
    "print(f\"Duplicates for Test Set : {test_df.duplicated().sum()}\")\n"
   ]
  },
  {
   "cell_type": "code",
   "execution_count": 247,
   "metadata": {
    "execution": {
     "iopub.execute_input": "2025-02-21T20:38:49.867623Z",
     "iopub.status.busy": "2025-02-21T20:38:49.867379Z",
     "iopub.status.idle": "2025-02-21T20:38:49.882368Z",
     "shell.execute_reply": "2025-02-21T20:38:49.881543Z",
     "shell.execute_reply.started": "2025-02-21T20:38:49.867604Z"
    }
   },
   "outputs": [
    {
     "data": {
      "text/html": [
       "<div>\n",
       "<style scoped>\n",
       "    .dataframe tbody tr th:only-of-type {\n",
       "        vertical-align: middle;\n",
       "    }\n",
       "\n",
       "    .dataframe tbody tr th {\n",
       "        vertical-align: top;\n",
       "    }\n",
       "\n",
       "    .dataframe thead th {\n",
       "        text-align: right;\n",
       "    }\n",
       "</style>\n",
       "<table border=\"1\" class=\"dataframe\">\n",
       "  <thead>\n",
       "    <tr style=\"text-align: right;\">\n",
       "      <th></th>\n",
       "      <th>Gender</th>\n",
       "      <th>Age</th>\n",
       "      <th>City</th>\n",
       "      <th>Working Professional or Student</th>\n",
       "      <th>Profession</th>\n",
       "      <th>Academic Pressure</th>\n",
       "      <th>Work Pressure</th>\n",
       "      <th>CGPA</th>\n",
       "      <th>Study Satisfaction</th>\n",
       "      <th>Job Satisfaction</th>\n",
       "      <th>Sleep Duration</th>\n",
       "      <th>Dietary Habits</th>\n",
       "      <th>Degree</th>\n",
       "      <th>Have you ever had suicidal thoughts ?</th>\n",
       "      <th>Work/Study Hours</th>\n",
       "      <th>Financial Stress</th>\n",
       "      <th>Family History of Mental Illness</th>\n",
       "      <th>Depression</th>\n",
       "    </tr>\n",
       "    <tr>\n",
       "      <th>id</th>\n",
       "      <th></th>\n",
       "      <th></th>\n",
       "      <th></th>\n",
       "      <th></th>\n",
       "      <th></th>\n",
       "      <th></th>\n",
       "      <th></th>\n",
       "      <th></th>\n",
       "      <th></th>\n",
       "      <th></th>\n",
       "      <th></th>\n",
       "      <th></th>\n",
       "      <th></th>\n",
       "      <th></th>\n",
       "      <th></th>\n",
       "      <th></th>\n",
       "      <th></th>\n",
       "      <th></th>\n",
       "    </tr>\n",
       "  </thead>\n",
       "  <tbody>\n",
       "    <tr>\n",
       "      <th>140695</th>\n",
       "      <td>0</td>\n",
       "      <td>18.0</td>\n",
       "      <td>1</td>\n",
       "      <td>1</td>\n",
       "      <td>33</td>\n",
       "      <td>0.0</td>\n",
       "      <td>5.0</td>\n",
       "      <td>0.00</td>\n",
       "      <td>0.0</td>\n",
       "      <td>4.0</td>\n",
       "      <td>0</td>\n",
       "      <td>3</td>\n",
       "      <td>11</td>\n",
       "      <td>0</td>\n",
       "      <td>2.0</td>\n",
       "      <td>4.0</td>\n",
       "      <td>1</td>\n",
       "      <td>1</td>\n",
       "    </tr>\n",
       "    <tr>\n",
       "      <th>140696</th>\n",
       "      <td>0</td>\n",
       "      <td>41.0</td>\n",
       "      <td>8</td>\n",
       "      <td>1</td>\n",
       "      <td>7</td>\n",
       "      <td>0.0</td>\n",
       "      <td>5.0</td>\n",
       "      <td>0.00</td>\n",
       "      <td>0.0</td>\n",
       "      <td>4.0</td>\n",
       "      <td>1</td>\n",
       "      <td>1</td>\n",
       "      <td>4</td>\n",
       "      <td>1</td>\n",
       "      <td>6.0</td>\n",
       "      <td>5.0</td>\n",
       "      <td>1</td>\n",
       "      <td>0</td>\n",
       "    </tr>\n",
       "    <tr>\n",
       "      <th>140697</th>\n",
       "      <td>0</td>\n",
       "      <td>24.0</td>\n",
       "      <td>13</td>\n",
       "      <td>1</td>\n",
       "      <td>21</td>\n",
       "      <td>0.0</td>\n",
       "      <td>3.0</td>\n",
       "      <td>0.00</td>\n",
       "      <td>0.0</td>\n",
       "      <td>1.0</td>\n",
       "      <td>3</td>\n",
       "      <td>1</td>\n",
       "      <td>1</td>\n",
       "      <td>0</td>\n",
       "      <td>4.0</td>\n",
       "      <td>4.0</td>\n",
       "      <td>0</td>\n",
       "      <td>0</td>\n",
       "    </tr>\n",
       "    <tr>\n",
       "      <th>140698</th>\n",
       "      <td>0</td>\n",
       "      <td>49.0</td>\n",
       "      <td>24</td>\n",
       "      <td>1</td>\n",
       "      <td>25</td>\n",
       "      <td>0.0</td>\n",
       "      <td>5.0</td>\n",
       "      <td>0.00</td>\n",
       "      <td>0.0</td>\n",
       "      <td>2.0</td>\n",
       "      <td>0</td>\n",
       "      <td>1</td>\n",
       "      <td>23</td>\n",
       "      <td>1</td>\n",
       "      <td>10.0</td>\n",
       "      <td>1.0</td>\n",
       "      <td>0</td>\n",
       "      <td>0</td>\n",
       "    </tr>\n",
       "    <tr>\n",
       "      <th>140699</th>\n",
       "      <td>1</td>\n",
       "      <td>27.0</td>\n",
       "      <td>21</td>\n",
       "      <td>0</td>\n",
       "      <td>29</td>\n",
       "      <td>4.0</td>\n",
       "      <td>0.0</td>\n",
       "      <td>9.24</td>\n",
       "      <td>1.0</td>\n",
       "      <td>0.0</td>\n",
       "      <td>2</td>\n",
       "      <td>0</td>\n",
       "      <td>7</td>\n",
       "      <td>1</td>\n",
       "      <td>2.0</td>\n",
       "      <td>3.0</td>\n",
       "      <td>1</td>\n",
       "      <td>1</td>\n",
       "    </tr>\n",
       "  </tbody>\n",
       "</table>\n",
       "</div>"
      ],
      "text/plain": [
       "        Gender   Age  City  Working Professional or Student  Profession  \\\n",
       "id                                                                        \n",
       "140695       0  18.0     1                                1          33   \n",
       "140696       0  41.0     8                                1           7   \n",
       "140697       0  24.0    13                                1          21   \n",
       "140698       0  49.0    24                                1          25   \n",
       "140699       1  27.0    21                                0          29   \n",
       "\n",
       "        Academic Pressure  Work Pressure  CGPA  Study Satisfaction  \\\n",
       "id                                                                   \n",
       "140695                0.0            5.0  0.00                 0.0   \n",
       "140696                0.0            5.0  0.00                 0.0   \n",
       "140697                0.0            3.0  0.00                 0.0   \n",
       "140698                0.0            5.0  0.00                 0.0   \n",
       "140699                4.0            0.0  9.24                 1.0   \n",
       "\n",
       "        Job Satisfaction  Sleep Duration  Dietary Habits  Degree  \\\n",
       "id                                                                 \n",
       "140695               4.0               0               3      11   \n",
       "140696               4.0               1               1       4   \n",
       "140697               1.0               3               1       1   \n",
       "140698               2.0               0               1      23   \n",
       "140699               0.0               2               0       7   \n",
       "\n",
       "        Have you ever had suicidal thoughts ?  Work/Study Hours  \\\n",
       "id                                                                \n",
       "140695                                      0               2.0   \n",
       "140696                                      1               6.0   \n",
       "140697                                      0               4.0   \n",
       "140698                                      1              10.0   \n",
       "140699                                      1               2.0   \n",
       "\n",
       "        Financial Stress  Family History of Mental Illness  Depression  \n",
       "id                                                                      \n",
       "140695               4.0                                 1           1  \n",
       "140696               5.0                                 1           0  \n",
       "140697               4.0                                 0           0  \n",
       "140698               1.0                                 0           0  \n",
       "140699               3.0                                 1           1  "
      ]
     },
     "execution_count": 247,
     "metadata": {},
     "output_type": "execute_result"
    }
   ],
   "source": [
    "train_df.tail(5)"
   ]
  },
  {
   "cell_type": "code",
   "execution_count": 248,
   "metadata": {
    "execution": {
     "iopub.execute_input": "2025-02-21T20:38:49.883292Z",
     "iopub.status.busy": "2025-02-21T20:38:49.883038Z",
     "iopub.status.idle": "2025-02-21T20:38:49.910731Z",
     "shell.execute_reply": "2025-02-21T20:38:49.909605Z",
     "shell.execute_reply.started": "2025-02-21T20:38:49.883272Z"
    }
   },
   "outputs": [
    {
     "data": {
      "text/html": [
       "<div>\n",
       "<style scoped>\n",
       "    .dataframe tbody tr th:only-of-type {\n",
       "        vertical-align: middle;\n",
       "    }\n",
       "\n",
       "    .dataframe tbody tr th {\n",
       "        vertical-align: top;\n",
       "    }\n",
       "\n",
       "    .dataframe thead th {\n",
       "        text-align: right;\n",
       "    }\n",
       "</style>\n",
       "<table border=\"1\" class=\"dataframe\">\n",
       "  <thead>\n",
       "    <tr style=\"text-align: right;\">\n",
       "      <th></th>\n",
       "      <th>Gender</th>\n",
       "      <th>Age</th>\n",
       "      <th>City</th>\n",
       "      <th>Working Professional or Student</th>\n",
       "      <th>Profession</th>\n",
       "      <th>Academic Pressure</th>\n",
       "      <th>Work Pressure</th>\n",
       "      <th>CGPA</th>\n",
       "      <th>Study Satisfaction</th>\n",
       "      <th>Job Satisfaction</th>\n",
       "      <th>Sleep Duration</th>\n",
       "      <th>Dietary Habits</th>\n",
       "      <th>Degree</th>\n",
       "      <th>Have you ever had suicidal thoughts ?</th>\n",
       "      <th>Work/Study Hours</th>\n",
       "      <th>Financial Stress</th>\n",
       "      <th>Family History of Mental Illness</th>\n",
       "    </tr>\n",
       "    <tr>\n",
       "      <th>id</th>\n",
       "      <th></th>\n",
       "      <th></th>\n",
       "      <th></th>\n",
       "      <th></th>\n",
       "      <th></th>\n",
       "      <th></th>\n",
       "      <th></th>\n",
       "      <th></th>\n",
       "      <th></th>\n",
       "      <th></th>\n",
       "      <th></th>\n",
       "      <th></th>\n",
       "      <th></th>\n",
       "      <th></th>\n",
       "      <th></th>\n",
       "      <th></th>\n",
       "      <th></th>\n",
       "    </tr>\n",
       "  </thead>\n",
       "  <tbody>\n",
       "    <tr>\n",
       "      <th>140700</th>\n",
       "      <td>1</td>\n",
       "      <td>53.0</td>\n",
       "      <td>30</td>\n",
       "      <td>1</td>\n",
       "      <td>17</td>\n",
       "      <td>0.0</td>\n",
       "      <td>2.0</td>\n",
       "      <td>0.00</td>\n",
       "      <td>0.0</td>\n",
       "      <td>5.0</td>\n",
       "      <td>2</td>\n",
       "      <td>1</td>\n",
       "      <td>12</td>\n",
       "      <td>0</td>\n",
       "      <td>9.0</td>\n",
       "      <td>3.0</td>\n",
       "      <td>1</td>\n",
       "    </tr>\n",
       "    <tr>\n",
       "      <th>140701</th>\n",
       "      <td>0</td>\n",
       "      <td>58.0</td>\n",
       "      <td>13</td>\n",
       "      <td>1</td>\n",
       "      <td>11</td>\n",
       "      <td>0.0</td>\n",
       "      <td>2.0</td>\n",
       "      <td>0.00</td>\n",
       "      <td>0.0</td>\n",
       "      <td>4.0</td>\n",
       "      <td>2</td>\n",
       "      <td>1</td>\n",
       "      <td>2</td>\n",
       "      <td>0</td>\n",
       "      <td>6.0</td>\n",
       "      <td>4.0</td>\n",
       "      <td>0</td>\n",
       "    </tr>\n",
       "    <tr>\n",
       "      <th>140702</th>\n",
       "      <td>1</td>\n",
       "      <td>53.0</td>\n",
       "      <td>10</td>\n",
       "      <td>1</td>\n",
       "      <td>29</td>\n",
       "      <td>0.0</td>\n",
       "      <td>4.0</td>\n",
       "      <td>0.00</td>\n",
       "      <td>0.0</td>\n",
       "      <td>1.0</td>\n",
       "      <td>1</td>\n",
       "      <td>1</td>\n",
       "      <td>0</td>\n",
       "      <td>1</td>\n",
       "      <td>12.0</td>\n",
       "      <td>4.0</td>\n",
       "      <td>0</td>\n",
       "    </tr>\n",
       "    <tr>\n",
       "      <th>140703</th>\n",
       "      <td>0</td>\n",
       "      <td>23.0</td>\n",
       "      <td>23</td>\n",
       "      <td>0</td>\n",
       "      <td>28</td>\n",
       "      <td>5.0</td>\n",
       "      <td>0.0</td>\n",
       "      <td>6.84</td>\n",
       "      <td>1.0</td>\n",
       "      <td>0.0</td>\n",
       "      <td>3</td>\n",
       "      <td>1</td>\n",
       "      <td>10</td>\n",
       "      <td>1</td>\n",
       "      <td>10.0</td>\n",
       "      <td>4.0</td>\n",
       "      <td>0</td>\n",
       "    </tr>\n",
       "    <tr>\n",
       "      <th>140704</th>\n",
       "      <td>1</td>\n",
       "      <td>47.0</td>\n",
       "      <td>11</td>\n",
       "      <td>1</td>\n",
       "      <td>29</td>\n",
       "      <td>0.0</td>\n",
       "      <td>5.0</td>\n",
       "      <td>0.00</td>\n",
       "      <td>0.0</td>\n",
       "      <td>5.0</td>\n",
       "      <td>1</td>\n",
       "      <td>1</td>\n",
       "      <td>7</td>\n",
       "      <td>1</td>\n",
       "      <td>3.0</td>\n",
       "      <td>4.0</td>\n",
       "      <td>0</td>\n",
       "    </tr>\n",
       "  </tbody>\n",
       "</table>\n",
       "</div>"
      ],
      "text/plain": [
       "        Gender   Age  City  Working Professional or Student  Profession  \\\n",
       "id                                                                        \n",
       "140700       1  53.0    30                                1          17   \n",
       "140701       0  58.0    13                                1          11   \n",
       "140702       1  53.0    10                                1          29   \n",
       "140703       0  23.0    23                                0          28   \n",
       "140704       1  47.0    11                                1          29   \n",
       "\n",
       "        Academic Pressure  Work Pressure  CGPA  Study Satisfaction  \\\n",
       "id                                                                   \n",
       "140700                0.0            2.0  0.00                 0.0   \n",
       "140701                0.0            2.0  0.00                 0.0   \n",
       "140702                0.0            4.0  0.00                 0.0   \n",
       "140703                5.0            0.0  6.84                 1.0   \n",
       "140704                0.0            5.0  0.00                 0.0   \n",
       "\n",
       "        Job Satisfaction  Sleep Duration  Dietary Habits  Degree  \\\n",
       "id                                                                 \n",
       "140700               5.0               2               1      12   \n",
       "140701               4.0               2               1       2   \n",
       "140702               1.0               1               1       0   \n",
       "140703               0.0               3               1      10   \n",
       "140704               5.0               1               1       7   \n",
       "\n",
       "        Have you ever had suicidal thoughts ?  Work/Study Hours  \\\n",
       "id                                                                \n",
       "140700                                      0               9.0   \n",
       "140701                                      0               6.0   \n",
       "140702                                      1              12.0   \n",
       "140703                                      1              10.0   \n",
       "140704                                      1               3.0   \n",
       "\n",
       "        Financial Stress  Family History of Mental Illness  \n",
       "id                                                          \n",
       "140700               3.0                                 1  \n",
       "140701               4.0                                 0  \n",
       "140702               4.0                                 0  \n",
       "140703               4.0                                 0  \n",
       "140704               4.0                                 0  "
      ]
     },
     "execution_count": 248,
     "metadata": {},
     "output_type": "execute_result"
    }
   ],
   "source": [
    "test_df.head(5)"
   ]
  },
  {
   "cell_type": "code",
   "execution_count": 249,
   "metadata": {
    "execution": {
     "iopub.execute_input": "2025-02-21T20:38:49.912136Z",
     "iopub.status.busy": "2025-02-21T20:38:49.911760Z",
     "iopub.status.idle": "2025-02-21T20:38:49.940334Z",
     "shell.execute_reply": "2025-02-21T20:38:49.939316Z",
     "shell.execute_reply.started": "2025-02-21T20:38:49.912101Z"
    }
   },
   "outputs": [
    {
     "data": {
      "text/html": [
       "<div>\n",
       "<style scoped>\n",
       "    .dataframe tbody tr th:only-of-type {\n",
       "        vertical-align: middle;\n",
       "    }\n",
       "\n",
       "    .dataframe tbody tr th {\n",
       "        vertical-align: top;\n",
       "    }\n",
       "\n",
       "    .dataframe thead th {\n",
       "        text-align: right;\n",
       "    }\n",
       "</style>\n",
       "<table border=\"1\" class=\"dataframe\">\n",
       "  <thead>\n",
       "    <tr style=\"text-align: right;\">\n",
       "      <th></th>\n",
       "      <th>Gender</th>\n",
       "      <th>Age</th>\n",
       "      <th>City</th>\n",
       "      <th>Working Professional or Student</th>\n",
       "      <th>Profession</th>\n",
       "      <th>Academic Pressure</th>\n",
       "      <th>Work Pressure</th>\n",
       "      <th>CGPA</th>\n",
       "      <th>Study Satisfaction</th>\n",
       "      <th>Job Satisfaction</th>\n",
       "      <th>Sleep Duration</th>\n",
       "      <th>Dietary Habits</th>\n",
       "      <th>Degree</th>\n",
       "      <th>Have you ever had suicidal thoughts ?</th>\n",
       "      <th>Work/Study Hours</th>\n",
       "      <th>Financial Stress</th>\n",
       "      <th>Family History of Mental Illness</th>\n",
       "    </tr>\n",
       "    <tr>\n",
       "      <th>id</th>\n",
       "      <th></th>\n",
       "      <th></th>\n",
       "      <th></th>\n",
       "      <th></th>\n",
       "      <th></th>\n",
       "      <th></th>\n",
       "      <th></th>\n",
       "      <th></th>\n",
       "      <th></th>\n",
       "      <th></th>\n",
       "      <th></th>\n",
       "      <th></th>\n",
       "      <th></th>\n",
       "      <th></th>\n",
       "      <th></th>\n",
       "      <th></th>\n",
       "      <th></th>\n",
       "    </tr>\n",
       "  </thead>\n",
       "  <tbody>\n",
       "  </tbody>\n",
       "</table>\n",
       "</div>"
      ],
      "text/plain": [
       "Empty DataFrame\n",
       "Columns: [Gender, Age, City, Working Professional or Student, Profession, Academic Pressure, Work Pressure, CGPA, Study Satisfaction, Job Satisfaction, Sleep Duration, Dietary Habits, Degree, Have you ever had suicidal thoughts ?, Work/Study Hours, Financial Stress, Family History of Mental Illness]\n",
       "Index: []"
      ]
     },
     "execution_count": 249,
     "metadata": {},
     "output_type": "execute_result"
    }
   ],
   "source": [
    "len(train_df.columns)\n",
    "train_df.iloc[0:0,:17]"
   ]
  },
  {
   "cell_type": "code",
   "execution_count": 250,
   "metadata": {
    "execution": {
     "iopub.execute_input": "2025-02-21T20:38:49.941649Z",
     "iopub.status.busy": "2025-02-21T20:38:49.941304Z",
     "iopub.status.idle": "2025-02-21T20:38:49.968129Z",
     "shell.execute_reply": "2025-02-21T20:38:49.967424Z",
     "shell.execute_reply.started": "2025-02-21T20:38:49.941616Z"
    }
   },
   "outputs": [],
   "source": [
    "# We will only use the train set for making the model as you can see the valid reasons for doing so\n",
    "X = train_df.iloc[:,:17]\n",
    "y = train_df['Depression']"
   ]
  },
  {
   "cell_type": "markdown",
   "metadata": {},
   "source": [
    "# Data Normalization"
   ]
  },
  {
   "cell_type": "code",
   "execution_count": 251,
   "metadata": {},
   "outputs": [],
   "source": [
    "scaler = MinMaxScaler()\n",
    "X = pd.DataFrame(scaler.fit_transform(X), columns=X.columns)  "
   ]
  },
  {
   "cell_type": "code",
   "execution_count": 252,
   "metadata": {},
   "outputs": [
    {
     "data": {
      "text/html": [
       "<div>\n",
       "<style scoped>\n",
       "    .dataframe tbody tr th:only-of-type {\n",
       "        vertical-align: middle;\n",
       "    }\n",
       "\n",
       "    .dataframe tbody tr th {\n",
       "        vertical-align: top;\n",
       "    }\n",
       "\n",
       "    .dataframe thead th {\n",
       "        text-align: right;\n",
       "    }\n",
       "</style>\n",
       "<table border=\"1\" class=\"dataframe\">\n",
       "  <thead>\n",
       "    <tr style=\"text-align: right;\">\n",
       "      <th></th>\n",
       "      <th>Gender</th>\n",
       "      <th>Age</th>\n",
       "      <th>City</th>\n",
       "      <th>Working Professional or Student</th>\n",
       "      <th>Profession</th>\n",
       "      <th>Academic Pressure</th>\n",
       "      <th>Work Pressure</th>\n",
       "      <th>CGPA</th>\n",
       "      <th>Study Satisfaction</th>\n",
       "      <th>Job Satisfaction</th>\n",
       "      <th>Sleep Duration</th>\n",
       "      <th>Dietary Habits</th>\n",
       "      <th>Degree</th>\n",
       "      <th>Have you ever had suicidal thoughts ?</th>\n",
       "      <th>Work/Study Hours</th>\n",
       "      <th>Financial Stress</th>\n",
       "      <th>Family History of Mental Illness</th>\n",
       "    </tr>\n",
       "  </thead>\n",
       "  <tbody>\n",
       "    <tr>\n",
       "      <th>0</th>\n",
       "      <td>0.0</td>\n",
       "      <td>0.738095</td>\n",
       "      <td>0.500000</td>\n",
       "      <td>1.0</td>\n",
       "      <td>0.090909</td>\n",
       "      <td>0.0</td>\n",
       "      <td>1.0</td>\n",
       "      <td>0.000</td>\n",
       "      <td>0.0</td>\n",
       "      <td>0.4</td>\n",
       "      <td>0.75</td>\n",
       "      <td>0.000000</td>\n",
       "      <td>0.333333</td>\n",
       "      <td>0.0</td>\n",
       "      <td>0.083333</td>\n",
       "      <td>0.4</td>\n",
       "      <td>0.0</td>\n",
       "    </tr>\n",
       "    <tr>\n",
       "      <th>1</th>\n",
       "      <td>1.0</td>\n",
       "      <td>0.190476</td>\n",
       "      <td>0.933333</td>\n",
       "      <td>1.0</td>\n",
       "      <td>0.909091</td>\n",
       "      <td>0.0</td>\n",
       "      <td>0.8</td>\n",
       "      <td>0.000</td>\n",
       "      <td>0.0</td>\n",
       "      <td>0.6</td>\n",
       "      <td>0.50</td>\n",
       "      <td>1.000000</td>\n",
       "      <td>0.444444</td>\n",
       "      <td>1.0</td>\n",
       "      <td>0.583333</td>\n",
       "      <td>0.6</td>\n",
       "      <td>0.0</td>\n",
       "    </tr>\n",
       "    <tr>\n",
       "      <th>2</th>\n",
       "      <td>1.0</td>\n",
       "      <td>0.357143</td>\n",
       "      <td>1.000000</td>\n",
       "      <td>0.0</td>\n",
       "      <td>0.878788</td>\n",
       "      <td>1.0</td>\n",
       "      <td>0.0</td>\n",
       "      <td>0.897</td>\n",
       "      <td>0.4</td>\n",
       "      <td>0.0</td>\n",
       "      <td>0.00</td>\n",
       "      <td>0.000000</td>\n",
       "      <td>0.111111</td>\n",
       "      <td>1.0</td>\n",
       "      <td>0.250000</td>\n",
       "      <td>0.2</td>\n",
       "      <td>0.0</td>\n",
       "    </tr>\n",
       "    <tr>\n",
       "      <th>3</th>\n",
       "      <td>1.0</td>\n",
       "      <td>0.095238</td>\n",
       "      <td>0.566667</td>\n",
       "      <td>1.0</td>\n",
       "      <td>0.909091</td>\n",
       "      <td>0.0</td>\n",
       "      <td>1.0</td>\n",
       "      <td>0.000</td>\n",
       "      <td>0.0</td>\n",
       "      <td>0.2</td>\n",
       "      <td>0.50</td>\n",
       "      <td>0.333333</td>\n",
       "      <td>0.222222</td>\n",
       "      <td>1.0</td>\n",
       "      <td>0.833333</td>\n",
       "      <td>0.2</td>\n",
       "      <td>1.0</td>\n",
       "    </tr>\n",
       "    <tr>\n",
       "      <th>4</th>\n",
       "      <td>0.0</td>\n",
       "      <td>0.285714</td>\n",
       "      <td>0.400000</td>\n",
       "      <td>1.0</td>\n",
       "      <td>0.060606</td>\n",
       "      <td>0.0</td>\n",
       "      <td>0.2</td>\n",
       "      <td>0.000</td>\n",
       "      <td>0.0</td>\n",
       "      <td>0.2</td>\n",
       "      <td>0.00</td>\n",
       "      <td>1.000000</td>\n",
       "      <td>0.222222</td>\n",
       "      <td>1.0</td>\n",
       "      <td>0.750000</td>\n",
       "      <td>0.8</td>\n",
       "      <td>1.0</td>\n",
       "    </tr>\n",
       "    <tr>\n",
       "      <th>...</th>\n",
       "      <td>...</td>\n",
       "      <td>...</td>\n",
       "      <td>...</td>\n",
       "      <td>...</td>\n",
       "      <td>...</td>\n",
       "      <td>...</td>\n",
       "      <td>...</td>\n",
       "      <td>...</td>\n",
       "      <td>...</td>\n",
       "      <td>...</td>\n",
       "      <td>...</td>\n",
       "      <td>...</td>\n",
       "      <td>...</td>\n",
       "      <td>...</td>\n",
       "      <td>...</td>\n",
       "      <td>...</td>\n",
       "      <td>...</td>\n",
       "    </tr>\n",
       "    <tr>\n",
       "      <th>140695</th>\n",
       "      <td>0.0</td>\n",
       "      <td>0.000000</td>\n",
       "      <td>0.033333</td>\n",
       "      <td>1.0</td>\n",
       "      <td>1.000000</td>\n",
       "      <td>0.0</td>\n",
       "      <td>1.0</td>\n",
       "      <td>0.000</td>\n",
       "      <td>0.0</td>\n",
       "      <td>0.8</td>\n",
       "      <td>0.00</td>\n",
       "      <td>1.000000</td>\n",
       "      <td>0.407407</td>\n",
       "      <td>0.0</td>\n",
       "      <td>0.166667</td>\n",
       "      <td>0.8</td>\n",
       "      <td>1.0</td>\n",
       "    </tr>\n",
       "    <tr>\n",
       "      <th>140696</th>\n",
       "      <td>0.0</td>\n",
       "      <td>0.547619</td>\n",
       "      <td>0.266667</td>\n",
       "      <td>1.0</td>\n",
       "      <td>0.212121</td>\n",
       "      <td>0.0</td>\n",
       "      <td>1.0</td>\n",
       "      <td>0.000</td>\n",
       "      <td>0.0</td>\n",
       "      <td>0.8</td>\n",
       "      <td>0.25</td>\n",
       "      <td>0.333333</td>\n",
       "      <td>0.148148</td>\n",
       "      <td>1.0</td>\n",
       "      <td>0.500000</td>\n",
       "      <td>1.0</td>\n",
       "      <td>1.0</td>\n",
       "    </tr>\n",
       "    <tr>\n",
       "      <th>140697</th>\n",
       "      <td>0.0</td>\n",
       "      <td>0.142857</td>\n",
       "      <td>0.433333</td>\n",
       "      <td>1.0</td>\n",
       "      <td>0.636364</td>\n",
       "      <td>0.0</td>\n",
       "      <td>0.6</td>\n",
       "      <td>0.000</td>\n",
       "      <td>0.0</td>\n",
       "      <td>0.2</td>\n",
       "      <td>0.75</td>\n",
       "      <td>0.333333</td>\n",
       "      <td>0.037037</td>\n",
       "      <td>0.0</td>\n",
       "      <td>0.333333</td>\n",
       "      <td>0.8</td>\n",
       "      <td>0.0</td>\n",
       "    </tr>\n",
       "    <tr>\n",
       "      <th>140698</th>\n",
       "      <td>0.0</td>\n",
       "      <td>0.738095</td>\n",
       "      <td>0.800000</td>\n",
       "      <td>1.0</td>\n",
       "      <td>0.757576</td>\n",
       "      <td>0.0</td>\n",
       "      <td>1.0</td>\n",
       "      <td>0.000</td>\n",
       "      <td>0.0</td>\n",
       "      <td>0.4</td>\n",
       "      <td>0.00</td>\n",
       "      <td>0.333333</td>\n",
       "      <td>0.851852</td>\n",
       "      <td>1.0</td>\n",
       "      <td>0.833333</td>\n",
       "      <td>0.2</td>\n",
       "      <td>0.0</td>\n",
       "    </tr>\n",
       "    <tr>\n",
       "      <th>140699</th>\n",
       "      <td>1.0</td>\n",
       "      <td>0.214286</td>\n",
       "      <td>0.700000</td>\n",
       "      <td>0.0</td>\n",
       "      <td>0.878788</td>\n",
       "      <td>0.8</td>\n",
       "      <td>0.0</td>\n",
       "      <td>0.924</td>\n",
       "      <td>0.2</td>\n",
       "      <td>0.0</td>\n",
       "      <td>0.50</td>\n",
       "      <td>0.000000</td>\n",
       "      <td>0.259259</td>\n",
       "      <td>1.0</td>\n",
       "      <td>0.166667</td>\n",
       "      <td>0.6</td>\n",
       "      <td>1.0</td>\n",
       "    </tr>\n",
       "  </tbody>\n",
       "</table>\n",
       "<p>140700 rows × 17 columns</p>\n",
       "</div>"
      ],
      "text/plain": [
       "        Gender       Age      City  Working Professional or Student  \\\n",
       "0          0.0  0.738095  0.500000                              1.0   \n",
       "1          1.0  0.190476  0.933333                              1.0   \n",
       "2          1.0  0.357143  1.000000                              0.0   \n",
       "3          1.0  0.095238  0.566667                              1.0   \n",
       "4          0.0  0.285714  0.400000                              1.0   \n",
       "...        ...       ...       ...                              ...   \n",
       "140695     0.0  0.000000  0.033333                              1.0   \n",
       "140696     0.0  0.547619  0.266667                              1.0   \n",
       "140697     0.0  0.142857  0.433333                              1.0   \n",
       "140698     0.0  0.738095  0.800000                              1.0   \n",
       "140699     1.0  0.214286  0.700000                              0.0   \n",
       "\n",
       "        Profession  Academic Pressure  Work Pressure   CGPA  \\\n",
       "0         0.090909                0.0            1.0  0.000   \n",
       "1         0.909091                0.0            0.8  0.000   \n",
       "2         0.878788                1.0            0.0  0.897   \n",
       "3         0.909091                0.0            1.0  0.000   \n",
       "4         0.060606                0.0            0.2  0.000   \n",
       "...            ...                ...            ...    ...   \n",
       "140695    1.000000                0.0            1.0  0.000   \n",
       "140696    0.212121                0.0            1.0  0.000   \n",
       "140697    0.636364                0.0            0.6  0.000   \n",
       "140698    0.757576                0.0            1.0  0.000   \n",
       "140699    0.878788                0.8            0.0  0.924   \n",
       "\n",
       "        Study Satisfaction  Job Satisfaction  Sleep Duration  Dietary Habits  \\\n",
       "0                      0.0               0.4            0.75        0.000000   \n",
       "1                      0.0               0.6            0.50        1.000000   \n",
       "2                      0.4               0.0            0.00        0.000000   \n",
       "3                      0.0               0.2            0.50        0.333333   \n",
       "4                      0.0               0.2            0.00        1.000000   \n",
       "...                    ...               ...             ...             ...   \n",
       "140695                 0.0               0.8            0.00        1.000000   \n",
       "140696                 0.0               0.8            0.25        0.333333   \n",
       "140697                 0.0               0.2            0.75        0.333333   \n",
       "140698                 0.0               0.4            0.00        0.333333   \n",
       "140699                 0.2               0.0            0.50        0.000000   \n",
       "\n",
       "          Degree  Have you ever had suicidal thoughts ?  Work/Study Hours  \\\n",
       "0       0.333333                                    0.0          0.083333   \n",
       "1       0.444444                                    1.0          0.583333   \n",
       "2       0.111111                                    1.0          0.250000   \n",
       "3       0.222222                                    1.0          0.833333   \n",
       "4       0.222222                                    1.0          0.750000   \n",
       "...          ...                                    ...               ...   \n",
       "140695  0.407407                                    0.0          0.166667   \n",
       "140696  0.148148                                    1.0          0.500000   \n",
       "140697  0.037037                                    0.0          0.333333   \n",
       "140698  0.851852                                    1.0          0.833333   \n",
       "140699  0.259259                                    1.0          0.166667   \n",
       "\n",
       "        Financial Stress  Family History of Mental Illness  \n",
       "0                    0.4                               0.0  \n",
       "1                    0.6                               0.0  \n",
       "2                    0.2                               0.0  \n",
       "3                    0.2                               1.0  \n",
       "4                    0.8                               1.0  \n",
       "...                  ...                               ...  \n",
       "140695               0.8                               1.0  \n",
       "140696               1.0                               1.0  \n",
       "140697               0.8                               0.0  \n",
       "140698               0.2                               0.0  \n",
       "140699               0.6                               1.0  \n",
       "\n",
       "[140700 rows x 17 columns]"
      ]
     },
     "execution_count": 252,
     "metadata": {},
     "output_type": "execute_result"
    }
   ],
   "source": [
    "X"
   ]
  },
  {
   "cell_type": "markdown",
   "metadata": {},
   "source": [
    "# Splitting The Data"
   ]
  },
  {
   "cell_type": "code",
   "execution_count": 253,
   "metadata": {
    "execution": {
     "iopub.execute_input": "2025-02-21T20:38:49.969242Z",
     "iopub.status.busy": "2025-02-21T20:38:49.968993Z",
     "iopub.status.idle": "2025-02-21T20:38:50.022789Z",
     "shell.execute_reply": "2025-02-21T20:38:50.021867Z",
     "shell.execute_reply.started": "2025-02-21T20:38:49.969221Z"
    }
   },
   "outputs": [],
   "source": [
    "(X_train , X_test , y_train , y_test) = train_test_split(X, y, random_state=2030 , test_size=0.25 )"
   ]
  },
  {
   "cell_type": "code",
   "execution_count": 254,
   "metadata": {
    "execution": {
     "iopub.execute_input": "2025-02-21T20:38:50.023989Z",
     "iopub.status.busy": "2025-02-21T20:38:50.023729Z",
     "iopub.status.idle": "2025-02-21T20:38:50.028624Z",
     "shell.execute_reply": "2025-02-21T20:38:50.027849Z",
     "shell.execute_reply.started": "2025-02-21T20:38:50.023968Z"
    }
   },
   "outputs": [
    {
     "name": "stdout",
     "output_type": "stream",
     "text": [
      "SHAPE of X_train :(105525, 17)\n",
      "SHAPE of X_test : (35175, 17)\n",
      "SHAPE of y_train : (105525,)\n",
      "SHAPE of y_test : (35175,)\n"
     ]
    }
   ],
   "source": [
    "print(f\"SHAPE of X_train :{X_train.shape}\")\n",
    "print(f\"SHAPE of X_test : {X_test.shape}\")\n",
    "print(f\"SHAPE of y_train : {y_train.shape}\")\n",
    "print(f\"SHAPE of y_test : {y_test.shape}\")"
   ]
  },
  {
   "cell_type": "markdown",
   "metadata": {},
   "source": [
    "# Feature Selection"
   ]
  },
  {
   "cell_type": "markdown",
   "metadata": {},
   "source": [
    "Though we will look through the features to find the best suitable features, I'll still add all the features into the model and try to get maximum accuracy without overfitting , well there is nothing wrong in trying right !!"
   ]
  },
  {
   "cell_type": "code",
   "execution_count": 255,
   "metadata": {},
   "outputs": [
    {
     "ename": "SyntaxError",
     "evalue": "cannot assign to literal here. Maybe you meant '==' instead of '='? (2653415106.py, line 1)",
     "output_type": "error",
     "traceback": [
      "\u001b[1;36m  Cell \u001b[1;32mIn[255], line 1\u001b[1;36m\u001b[0m\n\u001b[1;33m    4 = 2+5\u001b[0m\n\u001b[1;37m    ^\u001b[0m\n\u001b[1;31mSyntaxError\u001b[0m\u001b[1;31m:\u001b[0m cannot assign to literal here. Maybe you meant '==' instead of '='?\n"
     ]
    }
   ],
   "source": [
    "4 = 2+5"
   ]
  },
  {
   "cell_type": "code",
   "execution_count": null,
   "metadata": {
    "execution": {
     "iopub.execute_input": "2025-02-21T20:38:50.029698Z",
     "iopub.status.busy": "2025-02-21T20:38:50.029411Z",
     "iopub.status.idle": "2025-02-21T20:39:01.931646Z",
     "shell.execute_reply": "2025-02-21T20:39:01.930962Z",
     "shell.execute_reply.started": "2025-02-21T20:38:50.029666Z"
    }
   },
   "outputs": [],
   "source": [
    "result_dict1 = {}\n",
    "result1 = mutual_info_classif(X,y , random_state = 53, n_neighbors = 2, discrete_features='auto')\n",
    "print(type(result1))\n",
    "\n",
    "for i , j in zip(X.columns,result1):\n",
    "    result_dict1[i] = j\n",
    "\n",
    "sort_dict1_result = {k : v for k , v in sorted(result_dict1.items(), key = lambda item : item[1] , reverse=True )}\n",
    "sort_dict1_result"
   ]
  },
  {
   "cell_type": "code",
   "execution_count": null,
   "metadata": {
    "execution": {
     "iopub.execute_input": "2025-02-21T20:39:01.932720Z",
     "iopub.status.busy": "2025-02-21T20:39:01.932472Z",
     "iopub.status.idle": "2025-02-21T20:39:14.194968Z",
     "shell.execute_reply": "2025-02-21T20:39:14.194248Z",
     "shell.execute_reply.started": "2025-02-21T20:39:01.932688Z"
    }
   },
   "outputs": [],
   "source": [
    "result_dict2 = {}\n",
    "result2 = mutual_info_classif(X,y , random_state = 53, n_neighbors = 3, discrete_features='auto')\n",
    "print(type(result2))\n",
    "\n",
    "for i , j in zip(X.columns,result2):\n",
    "    result_dict2[i] = j\n",
    "\n",
    "sort_dict2_result = {k : v for k , v in sorted(result_dict2.items(), key = lambda item : item[1], reverse=True )}\n",
    "sort_dict2_result"
   ]
  },
  {
   "cell_type": "code",
   "execution_count": null,
   "metadata": {
    "execution": {
     "iopub.execute_input": "2025-02-21T20:39:14.195909Z",
     "iopub.status.busy": "2025-02-21T20:39:14.195642Z",
     "iopub.status.idle": "2025-02-21T20:39:26.953443Z",
     "shell.execute_reply": "2025-02-21T20:39:26.952723Z",
     "shell.execute_reply.started": "2025-02-21T20:39:14.195887Z"
    }
   },
   "outputs": [],
   "source": [
    "result_dict3 = {}\n",
    "result3 = mutual_info_classif(X,y , random_state = 53, n_neighbors = 5, discrete_features='auto')\n",
    "print(type(result3))\n",
    "\n",
    "for i , j in zip(X.columns,result3):\n",
    "    result_dict3[i] = j\n",
    "\n",
    "sort_dict3_result = {k : v for k , v in sorted(result_dict3.items(), key = lambda item : item[1] , reverse=True)}\n",
    "sort_dict3_result"
   ]
  },
  {
   "cell_type": "code",
   "execution_count": null,
   "metadata": {
    "execution": {
     "iopub.execute_input": "2025-02-21T20:39:26.954409Z",
     "iopub.status.busy": "2025-02-21T20:39:26.954154Z",
     "iopub.status.idle": "2025-02-21T20:39:40.314189Z",
     "shell.execute_reply": "2025-02-21T20:39:40.313314Z",
     "shell.execute_reply.started": "2025-02-21T20:39:26.954387Z"
    }
   },
   "outputs": [],
   "source": [
    "result_dict4 = {}\n",
    "result4 = mutual_info_classif(X,y , random_state = 53, n_neighbors = 7, discrete_features='auto')\n",
    "print(type(result4))\n",
    "\n",
    "for i , j in zip(X.columns,result4):\n",
    "    result_dict4[i] = j\n",
    "\n",
    "sort_dict4_result = {k : v for k , v in sorted(result_dict4.items(), key = lambda item : item[1] , reverse=True)}\n",
    "sort_dict4_result"
   ]
  },
  {
   "cell_type": "markdown",
   "metadata": {},
   "source": [
    "# Model Building"
   ]
  },
  {
   "cell_type": "code",
   "execution_count": null,
   "metadata": {
    "execution": {
     "iopub.execute_input": "2025-02-21T20:39:40.315574Z",
     "iopub.status.busy": "2025-02-21T20:39:40.315233Z",
     "iopub.status.idle": "2025-02-21T20:39:40.320180Z",
     "shell.execute_reply": "2025-02-21T20:39:40.319369Z",
     "shell.execute_reply.started": "2025-02-21T20:39:40.315541Z"
    }
   },
   "outputs": [],
   "source": [
    "17*17"
   ]
  },
  {
   "cell_type": "markdown",
   "metadata": {},
   "source": [
    "## Model definition"
   ]
  },
  {
   "cell_type": "code",
   "execution_count": null,
   "metadata": {
    "execution": {
     "iopub.execute_input": "2025-02-21T20:39:40.321369Z",
     "iopub.status.busy": "2025-02-21T20:39:40.321073Z",
     "iopub.status.idle": "2025-02-21T20:39:40.341641Z",
     "shell.execute_reply": "2025-02-21T20:39:40.340858Z",
     "shell.execute_reply.started": "2025-02-21T20:39:40.321344Z"
    }
   },
   "outputs": [],
   "source": [
    "def build_model(hp):\n",
    "    # initializing the model\n",
    "    model = keras.Sequential()\n",
    "\n",
    "    # adding the input layer\n",
    "    model.add(keras.layers.Input(shape=(len(X.columns),) ) )\n",
    "\n",
    "    # looping through layers\n",
    "    # we will keep a maximum of 3 layers and a minimum of 2 layer\n",
    "    for i in range(hp.Int(\"num_layers\",1,3)):\n",
    "        model.add(keras.layers.Dense(units = hp.Int(f\"units_{i}\", max_value = 250, min_value = 5, step = 5 ),\n",
    "                                    activation = hp.Choice(f\"activation_{i}\",['relu','leaky_relu']) ))\n",
    "\n",
    "    # here we will add a dropout layer \n",
    "    model.add(keras.layers.Dropout(rate=hp.Float(f\"dropout_rate_{i}\", 0.1, 0.5, step=0.1)))\n",
    "\n",
    "    # here we will keep it simple layers on the last layer\n",
    "    # we will keep a maximum of 3 layers and a minimum of 1 layer\n",
    "    for i in range(hp.Int(\"num_layers\",1,3)):\n",
    "        model.add(keras.layers.Dense(units = hp.Int(f\"units_{i}\", max_value = 96, min_value = 8, step = 8 ),\n",
    "                                    activation = hp.Choice(f\"activation_{i}\",['leaky_relu','swish']) ,\n",
    "                                    kernel_regularizer=keras.regularizers.l2(hp.Float('l2_reg_input', 1e-5, 1e-2, sampling='LOG')) ))\n",
    "    \n",
    "    # final output layer\n",
    "    model.add(keras.layers.Dense(1,activation=\"sigmoid\"))\n",
    "    \n",
    "    # defining the optimizer choice\n",
    "    optimizer_choice = hp.Choice('optmizer',['adam','nadam'])\n",
    "    optimizer = keras.optimizers.Adam(learning_rate=hp.Choice('learning_rate', [1e-4,5e-3])) if optimizer_choice=='adam' else  keras.optimizers.Nadam(learning_rate=hp.Choice('learning_rate', [1e-4,5e-3]))\n",
    "    \n",
    "    # Now we will compile the model with some optimizers and add the metrics to the model with loss functions\n",
    "    model.compile(\n",
    "        optimizer = optimizer,\n",
    "        loss = ['binary_crossentropy'],\n",
    "        metrics = ['accuracy','Recall','Precision','AUC']\n",
    "    )\n",
    "\n",
    "    return model"
   ]
  },
  {
   "cell_type": "markdown",
   "metadata": {},
   "source": [
    "## Model Tuner HyperBand"
   ]
  },
  {
   "cell_type": "code",
   "execution_count": null,
   "metadata": {
    "execution": {
     "iopub.execute_input": "2025-02-21T20:39:40.342799Z",
     "iopub.status.busy": "2025-02-21T20:39:40.342487Z",
     "iopub.status.idle": "2025-02-21T20:39:42.624315Z",
     "shell.execute_reply": "2025-02-21T20:39:42.623631Z",
     "shell.execute_reply.started": "2025-02-21T20:39:40.342762Z"
    }
   },
   "outputs": [],
   "source": [
    "tuner = kt.Hyperband(\n",
    "    build_model,\n",
    "    objective = 'val_accuracy',\n",
    "    max_epochs = 40,\n",
    "    factor=3,\n",
    "    directory=\"model_tuning_tests\",\n",
    "    project_name='binary_classification_mental_health_data_02'\n",
    ")"
   ]
  },
  {
   "cell_type": "code",
   "execution_count": null,
   "metadata": {
    "execution": {
     "iopub.execute_input": "2025-02-21T20:39:42.625398Z",
     "iopub.status.busy": "2025-02-21T20:39:42.625096Z",
     "iopub.status.idle": "2025-02-21T20:39:42.629551Z",
     "shell.execute_reply": "2025-02-21T20:39:42.628684Z",
     "shell.execute_reply.started": "2025-02-21T20:39:42.625371Z"
    }
   },
   "outputs": [],
   "source": [
    "\n",
    "# Define early stopping callback\n",
    "early_stopping = keras.callbacks.EarlyStopping(monitor='accuracy', patience = 3, restore_best_weights=True)\n"
   ]
  },
  {
   "cell_type": "markdown",
   "metadata": {},
   "source": [
    "### Searching for best hyperparameter (tuning) with tensorflow"
   ]
  },
  {
   "cell_type": "code",
   "execution_count": null,
   "metadata": {
    "execution": {
     "execution_failed": "2025-02-21T22:17:35.791Z",
     "iopub.execute_input": "2025-02-21T20:39:42.630845Z",
     "iopub.status.busy": "2025-02-21T20:39:42.630516Z"
    }
   },
   "outputs": [],
   "source": [
    "tuner.search(X_train , y_train , epochs = 30, validation_data=(X_test,y_test),\n",
    "             verbose =1 , callbacks=[early_stopping])"
   ]
  },
  {
   "cell_type": "code",
   "execution_count": null,
   "metadata": {},
   "outputs": [],
   "source": [
    "\n",
    "# Get the best hyperparameters\n",
    "best_hps = tuner.get_best_hyperparameters(num_trials=1)[0]\n",
    "\n",
    "# Display best hyperparameters\n",
    "print(\"Best Hyperparameters:\")\n",
    "for param in best_hps.values:\n",
    "    print(f'{param}: {best_hps.get(param)}')\n",
    "    \n"
   ]
  },
  {
   "cell_type": "code",
   "execution_count": null,
   "metadata": {
    "scrolled": true
   },
   "outputs": [],
   "source": [
    "# Build and train the best model\n",
    "best_model = tuner.hypermodel.build(best_hps)\n",
    "best_model.fit(X_train, y_train, epochs=200, validation_data=(X_test, y_test), verbose=1)\n"
   ]
  },
  {
   "cell_type": "code",
   "execution_count": null,
   "metadata": {},
   "outputs": [],
   "source": [
    "# Evaluate best model\n",
    "test_loss, test_acc, test_precision, test_recall, test_auc = best_model.evaluate(X_test, y_test)\n",
    "print(f'Best Test Accuracy: {test_acc:.4f}')\n",
    "print(f'Precision: {test_precision:.4f}')\n",
    "print(f'Recall: {test_recall:.4f}')\n",
    "print(f'AUC: {test_auc:.4f}')\n"
   ]
  },
  {
   "cell_type": "markdown",
   "metadata": {},
   "source": [
    "# Model Testing"
   ]
  },
  {
   "cell_type": "code",
   "execution_count": null,
   "metadata": {},
   "outputs": [],
   "source": [
    "# testingwith the prediction basis\n",
    "model_yhat = best_model.predict(X_test)\n"
   ]
  },
  {
   "cell_type": "code",
   "execution_count": null,
   "metadata": {},
   "outputs": [],
   "source": [
    "model_yhat_binarized = np.where(model_yhat >= 0.5, 1, 0)"
   ]
  },
  {
   "cell_type": "code",
   "execution_count": null,
   "metadata": {},
   "outputs": [],
   "source": [
    "# comparing both the yhat and y_test results\n",
    "print(classification_report(model_yhat_binarized, y_test, target_names=['Depression','Not Depressed']))"
   ]
  },
  {
   "cell_type": "code",
   "execution_count": null,
   "metadata": {},
   "outputs": [],
   "source": [
    "# Calculate confusion matrix\n",
    "cm = confusion_matrix(model_yhat_binarized, y_test)\n",
    "\n",
    "# Plot confusion matrix as heatmap\n",
    "plt.figure(figsize=(8, 6))\n",
    "sns.heatmap(cm, annot=True, fmt='d', cmap='Blues', xticklabels=['Not Depressed', \"Depressed\"], yticklabels=['Not Depressed', \"Depressed\"])\n",
    "plt.xlabel('Predicted Label')\n",
    "plt.ylabel('True Label')\n",
    "plt.title('Confusion Matrix')\n",
    "plt.show()"
   ]
  }
 ],
 "metadata": {
  "kaggle": {
   "accelerator": "gpu",
   "dataSources": [
    {
     "databundleVersionId": 10008389,
     "sourceId": 84895,
     "sourceType": "competition"
    }
   ],
   "isGpuEnabled": true,
   "isInternetEnabled": true,
   "language": "python",
   "sourceType": "notebook"
  },
  "kernelspec": {
   "display_name": "Python 3 (ipykernel)",
   "language": "python",
   "name": "python3"
  },
  "language_info": {
   "codemirror_mode": {
    "name": "ipython",
    "version": 3
   },
   "file_extension": ".py",
   "mimetype": "text/x-python",
   "name": "python",
   "nbconvert_exporter": "python",
   "pygments_lexer": "ipython3",
   "version": "3.11.7"
  }
 },
 "nbformat": 4,
 "nbformat_minor": 4
}
